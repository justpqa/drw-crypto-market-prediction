{
 "cells": [
  {
   "cell_type": "code",
   "execution_count": 1,
   "id": "4ea9bfa1",
   "metadata": {},
   "outputs": [],
   "source": [
    "from tqdm import tqdm\n",
    "import gc\n",
    "import pickle\n",
    "import pandas as pd\n",
    "import polars as pl\n",
    "import numpy as np\n",
    "import matplotlib.pyplot as plt\n",
    "import seaborn as sns\n",
    "from sklearn.decomposition import PCA, IncrementalPCA\n",
    "from statsmodels.graphics.tsaplots import plot_acf, plot_pacf\n",
    "from scipy.stats import levene, f_oneway\n",
    "from scipy.cluster.hierarchy import linkage, dendrogram\n",
    "from scipy.spatial.distance import pdist\n",
    "from scipy.cluster.hierarchy import fcluster\n",
    "from sklearn.cluster import KMeans\n",
    "import statsmodels.api as sm\n",
    "from statsmodels.formula.api import ols\n",
    "from scipy.stats import ks_2samp"
   ]
  },
  {
   "cell_type": "code",
   "execution_count": 2,
   "id": "c93e7217",
   "metadata": {},
   "outputs": [],
   "source": [
    "train_df = pl.read_parquet(\n",
    "    \"data/raw/train.parquet\",\n",
    "    use_pyarrow=True,   \n",
    "    low_memory=True\n",
    ").lazy()"
   ]
  },
  {
   "cell_type": "code",
   "execution_count": 3,
   "id": "7ff8adc0",
   "metadata": {},
   "outputs": [],
   "source": [
    "test_df = pl.read_parquet(\n",
    "    \"data/raw/test.parquet\",\n",
    "    use_pyarrow=True,   \n",
    "    low_memory=True\n",
    ").lazy()"
   ]
  },
  {
   "cell_type": "code",
   "execution_count": 4,
   "id": "9968ed2b",
   "metadata": {},
   "outputs": [
    {
     "name": "stdout",
     "output_type": "stream",
     "text": [
      "['bid_qty', 'ask_qty', 'buy_qty', 'sell_qty', 'volume', 'X1', 'X2', 'X3', 'X4', 'X5', 'X6', 'X7', 'X8', 'X9', 'X10', 'X11', 'X12', 'X13', 'X14', 'X15', 'X16', 'X17', 'X18', 'X19', 'X20', 'X21', 'X22', 'X23', 'X24', 'X25', 'X26', 'X27', 'X28', 'X29', 'X30', 'X31', 'X32', 'X33', 'X34', 'X35', 'X36', 'X37', 'X38', 'X39', 'X40', 'X41', 'X42', 'X43', 'X44', 'X45', 'X46', 'X47', 'X48', 'X49', 'X50', 'X51', 'X52', 'X53', 'X54', 'X55', 'X56', 'X57', 'X58', 'X59', 'X60', 'X61', 'X62', 'X63', 'X64', 'X65', 'X66', 'X67', 'X68', 'X69', 'X70', 'X71', 'X72', 'X73', 'X74', 'X75', 'X76', 'X77', 'X78', 'X79', 'X80', 'X81', 'X82', 'X83', 'X84', 'X85', 'X86', 'X87', 'X88', 'X89', 'X90', 'X91', 'X92', 'X93', 'X94', 'X95', 'X96', 'X97', 'X98', 'X99', 'X100', 'X101', 'X102', 'X103', 'X104', 'X105', 'X106', 'X107', 'X108', 'X109', 'X110', 'X111', 'X112', 'X113', 'X114', 'X115', 'X116', 'X117', 'X118', 'X119', 'X120', 'X121', 'X122', 'X123', 'X124', 'X125', 'X126', 'X127', 'X128', 'X129', 'X130', 'X131', 'X132', 'X133', 'X134', 'X135', 'X136', 'X137', 'X138', 'X139', 'X140', 'X141', 'X142', 'X143', 'X144', 'X145', 'X146', 'X147', 'X148', 'X149', 'X150', 'X151', 'X152', 'X153', 'X154', 'X155', 'X156', 'X157', 'X158', 'X159', 'X160', 'X161', 'X162', 'X163', 'X164', 'X165', 'X166', 'X167', 'X168', 'X169', 'X170', 'X171', 'X172', 'X173', 'X174', 'X175', 'X176', 'X177', 'X178', 'X179', 'X180', 'X181', 'X182', 'X183', 'X184', 'X185', 'X186', 'X187', 'X188', 'X189', 'X190', 'X191', 'X192', 'X193', 'X194', 'X195', 'X196', 'X197', 'X198', 'X199', 'X200', 'X201', 'X202', 'X203', 'X204', 'X205', 'X206', 'X207', 'X208', 'X209', 'X210', 'X211', 'X212', 'X213', 'X214', 'X215', 'X216', 'X217', 'X218', 'X219', 'X220', 'X221', 'X222', 'X223', 'X224', 'X225', 'X226', 'X227', 'X228', 'X229', 'X230', 'X231', 'X232', 'X233', 'X234', 'X235', 'X236', 'X237', 'X238', 'X239', 'X240', 'X241', 'X242', 'X243', 'X244', 'X245', 'X246', 'X247', 'X248', 'X249', 'X250', 'X251', 'X252', 'X253', 'X254', 'X255', 'X256', 'X257', 'X258', 'X259', 'X260', 'X261', 'X262', 'X263', 'X264', 'X265', 'X266', 'X267', 'X268', 'X269', 'X270', 'X271', 'X272', 'X273', 'X274', 'X275', 'X276', 'X277', 'X278', 'X279', 'X280', 'X281', 'X282', 'X283', 'X284', 'X285', 'X286', 'X287', 'X288', 'X289', 'X290', 'X291', 'X292', 'X293', 'X294', 'X295', 'X296', 'X297', 'X298', 'X299', 'X300', 'X301', 'X302', 'X303', 'X304', 'X305', 'X306', 'X307', 'X308', 'X309', 'X310', 'X311', 'X312', 'X313', 'X314', 'X315', 'X316', 'X317', 'X318', 'X319', 'X320', 'X321', 'X322', 'X323', 'X324', 'X325', 'X326', 'X327', 'X328', 'X329', 'X330', 'X331', 'X332', 'X333', 'X334', 'X335', 'X336', 'X337', 'X338', 'X339', 'X340', 'X341', 'X342', 'X343', 'X344', 'X345', 'X346', 'X347', 'X348', 'X349', 'X350', 'X351', 'X352', 'X353', 'X354', 'X355', 'X356', 'X357', 'X358', 'X359', 'X360', 'X361', 'X362', 'X363', 'X364', 'X365', 'X366', 'X367', 'X368', 'X369', 'X370', 'X371', 'X372', 'X373', 'X374', 'X375', 'X376', 'X377', 'X378', 'X379', 'X380', 'X381', 'X382', 'X383', 'X384', 'X385', 'X386', 'X387', 'X388', 'X389', 'X390', 'X391', 'X392', 'X393', 'X394', 'X395', 'X396', 'X397', 'X398', 'X399', 'X400', 'X401', 'X402', 'X403', 'X404', 'X405', 'X406', 'X407', 'X408', 'X409', 'X410', 'X411', 'X412', 'X413', 'X414', 'X415', 'X416', 'X417', 'X418', 'X419', 'X420', 'X421', 'X422', 'X423', 'X424', 'X425', 'X426', 'X427', 'X428', 'X429', 'X430', 'X431', 'X432', 'X433', 'X434', 'X435', 'X436', 'X437', 'X438', 'X439', 'X440', 'X441', 'X442', 'X443', 'X444', 'X445', 'X446', 'X447', 'X448', 'X449', 'X450', 'X451', 'X452', 'X453', 'X454', 'X455', 'X456', 'X457', 'X458', 'X459', 'X460', 'X461', 'X462', 'X463', 'X464', 'X465', 'X466', 'X467', 'X468', 'X469', 'X470', 'X471', 'X472', 'X473', 'X474', 'X475', 'X476', 'X477', 'X478', 'X479', 'X480', 'X481', 'X482', 'X483', 'X484', 'X485', 'X486', 'X487', 'X488', 'X489', 'X490', 'X491', 'X492', 'X493', 'X494', 'X495', 'X496', 'X497', 'X498', 'X499', 'X500', 'X501', 'X502', 'X503', 'X504', 'X505', 'X506', 'X507', 'X508', 'X509', 'X510', 'X511', 'X512', 'X513', 'X514', 'X515', 'X516', 'X517', 'X518', 'X519', 'X520', 'X521', 'X522', 'X523', 'X524', 'X525', 'X526', 'X527', 'X528', 'X529', 'X530', 'X531', 'X532', 'X533', 'X534', 'X535', 'X536', 'X537', 'X538', 'X539', 'X540', 'X541', 'X542', 'X543', 'X544', 'X545', 'X546', 'X547', 'X548', 'X549', 'X550', 'X551', 'X552', 'X553', 'X554', 'X555', 'X556', 'X557', 'X558', 'X559', 'X560', 'X561', 'X562', 'X563', 'X564', 'X565', 'X566', 'X567', 'X568', 'X569', 'X570', 'X571', 'X572', 'X573', 'X574', 'X575', 'X576', 'X577', 'X578', 'X579', 'X580', 'X581', 'X582', 'X583', 'X584', 'X585', 'X586', 'X587', 'X588', 'X589', 'X590', 'X591', 'X592', 'X593', 'X594', 'X595', 'X596', 'X597', 'X598', 'X599', 'X600', 'X601', 'X602', 'X603', 'X604', 'X605', 'X606', 'X607', 'X608', 'X609', 'X610', 'X611', 'X612', 'X613', 'X614', 'X615', 'X616', 'X617', 'X618', 'X619', 'X620', 'X621', 'X622', 'X623', 'X624', 'X625', 'X626', 'X627', 'X628', 'X629', 'X630', 'X631', 'X632', 'X633', 'X634', 'X635', 'X636', 'X637', 'X638', 'X639', 'X640', 'X641', 'X642', 'X643', 'X644', 'X645', 'X646', 'X647', 'X648', 'X649', 'X650', 'X651', 'X652', 'X653', 'X654', 'X655', 'X656', 'X657', 'X658', 'X659', 'X660', 'X661', 'X662', 'X663', 'X664', 'X665', 'X666', 'X667', 'X668', 'X669', 'X670', 'X671', 'X672', 'X673', 'X674', 'X675', 'X676', 'X677', 'X678', 'X679', 'X680', 'X681', 'X682', 'X683', 'X684', 'X685', 'X686', 'X687', 'X688', 'X689', 'X690', 'X691', 'X692', 'X693', 'X694', 'X695', 'X696', 'X697', 'X698', 'X699', 'X700', 'X701', 'X702', 'X703', 'X704', 'X705', 'X706', 'X707', 'X708', 'X709', 'X710', 'X711', 'X712', 'X713', 'X714', 'X715', 'X716', 'X717', 'X718', 'X719', 'X720', 'X721', 'X722', 'X723', 'X724', 'X725', 'X726', 'X727', 'X728', 'X729', 'X730', 'X731', 'X732', 'X733', 'X734', 'X735', 'X736', 'X737', 'X738', 'X739', 'X740', 'X741', 'X742', 'X743', 'X744', 'X745', 'X746', 'X747', 'X748', 'X749', 'X750', 'X751', 'X752', 'X753', 'X754', 'X755', 'X756', 'X757', 'X758', 'X759', 'X760', 'X761', 'X762', 'X763', 'X764', 'X765', 'X766', 'X767', 'X768', 'X769', 'X770', 'X771', 'X772', 'X773', 'X774', 'X775', 'X776', 'X777', 'X778', 'X779', 'X780', 'label', '__index_level_0__']\n"
     ]
    },
    {
     "name": "stderr",
     "output_type": "stream",
     "text": [
      "/var/folders/5b/jn4p_4vx7j9gx2jdrmbjlxnr0000gn/T/ipykernel_2632/293337480.py:1: PerformanceWarning: Determining the column names of a LazyFrame requires resolving its schema, which is a potentially expensive operation. Use `LazyFrame.collect_schema().names()` to get the column names without this warning.\n",
      "  print(train_df.columns)\n"
     ]
    }
   ],
   "source": [
    "print(train_df.columns)"
   ]
  },
  {
   "cell_type": "code",
   "execution_count": 5,
   "id": "98e35c4d",
   "metadata": {},
   "outputs": [
    {
     "data": {
      "text/plain": [
       "Text(0.5, 1.0, 'Label Distribution')"
      ]
     },
     "execution_count": 5,
     "metadata": {},
     "output_type": "execute_result"
    },
    {
     "data": {
      "image/png": "[encoded data removed]",
      "text/plain": [
       "<Figure size 640x480 with 1 Axes>"
      ]
     },
     "metadata": {},
     "output_type": "display_data"
    }
   ],
   "source": [
    "sns.histplot(train_df.select(\"label\").collect().to_numpy())\n",
    "plt.xlim([-7.5, 7.5])\n",
    "plt.title(\"Label Distribution\")"
   ]
  },
  {
   "cell_type": "code",
   "execution_count": 6,
   "id": "588743b8",
   "metadata": {},
   "outputs": [
    {
     "name": "stdout",
     "output_type": "stream",
     "text": [
      "-0.3815867679423254 0.4341385161847758\n"
     ]
    }
   ],
   "source": [
    "print(train_df.select(\"label\").quantile(0.25, \"nearest\").collect().item(), train_df.select(\"label\").quantile(0.75, \"nearest\").collect().item())"
   ]
  },
  {
   "cell_type": "code",
   "execution_count": 7,
   "id": "21ebdcc7",
   "metadata": {},
   "outputs": [
    {
     "data": {
      "text/html": [
       "<div><style>\n",
       ".dataframe > thead > tr,\n",
       ".dataframe > tbody > tr {\n",
       "  text-align: right;\n",
       "  white-space: pre-wrap;\n",
       "}\n",
       "</style>\n",
       "<small>shape: (525_886, 1)</small><table border=\"1\" class=\"dataframe\"><thead><tr><th>__index_level_0__</th></tr><tr><td>datetime[ns]</td></tr></thead><tbody><tr><td>2023-03-01 00:00:00</td></tr><tr><td>2023-03-01 00:01:00</td></tr><tr><td>2023-03-01 00:02:00</td></tr><tr><td>2023-03-01 00:03:00</td></tr><tr><td>2023-03-01 00:04:00</td></tr><tr><td>&hellip;</td></tr><tr><td>2024-02-29 23:55:00</td></tr><tr><td>2024-02-29 23:56:00</td></tr><tr><td>2024-02-29 23:57:00</td></tr><tr><td>2024-02-29 23:58:00</td></tr><tr><td>2024-02-29 23:59:00</td></tr></tbody></table></div>"
      ],
      "text/plain": [
       "shape: (525_886, 1)\n",
       "┌─────────────────────┐\n",
       "│ __index_level_0__   │\n",
       "│ ---                 │\n",
       "│ datetime[ns]        │\n",
       "╞═════════════════════╡\n",
       "│ 2023-03-01 00:00:00 │\n",
       "│ 2023-03-01 00:01:00 │\n",
       "│ 2023-03-01 00:02:00 │\n",
       "│ 2023-03-01 00:03:00 │\n",
       "│ 2023-03-01 00:04:00 │\n",
       "│ …                   │\n",
       "│ 2024-02-29 23:55:00 │\n",
       "│ 2024-02-29 23:56:00 │\n",
       "│ 2024-02-29 23:57:00 │\n",
       "│ 2024-02-29 23:58:00 │\n",
       "│ 2024-02-29 23:59:00 │\n",
       "└─────────────────────┘"
      ]
     },
     "execution_count": 7,
     "metadata": {},
     "output_type": "execute_result"
    }
   ],
   "source": [
    "train_df.select(\"__index_level_0__\").collect()"
   ]
  },
  {
   "cell_type": "code",
   "execution_count": 8,
   "id": "4791c11f",
   "metadata": {},
   "outputs": [],
   "source": [
    "# drop timestamp since test data does not have timestamp\n",
    "train_df = train_df.drop(\"__index_level_0__\")"
   ]
  },
  {
   "cell_type": "code",
   "execution_count": 9,
   "id": "b1c61f52",
   "metadata": {},
   "outputs": [
    {
     "data": {
      "text/plain": [
       "[]"
      ]
     },
     "execution_count": 9,
     "metadata": {},
     "output_type": "execute_result"
    }
   ],
   "source": [
    "# Check for nas in train or test\n",
    "temp = train_df.null_count().collect()\n",
    "has_null_col = [col for col in temp.columns if temp[col].sum() != 0]\n",
    "has_null_col"
   ]
  },
  {
   "cell_type": "code",
   "execution_count": 10,
   "id": "3457572d",
   "metadata": {},
   "outputs": [
    {
     "data": {
      "text/plain": [
       "[]"
      ]
     },
     "execution_count": 10,
     "metadata": {},
     "output_type": "execute_result"
    }
   ],
   "source": [
    "temp = test_df.null_count().collect()\n",
    "has_null_col = [col for col in temp.columns if temp[col].sum() != 0]\n",
    "has_null_col\n",
    "# no nas issue in train and test"
   ]
  },
  {
   "cell_type": "code",
   "execution_count": 11,
   "id": "62c8f8ae",
   "metadata": {},
   "outputs": [
    {
     "name": "stdout",
     "output_type": "stream",
     "text": [
      "{Float64}\n"
     ]
    },
    {
     "name": "stderr",
     "output_type": "stream",
     "text": [
      "/var/folders/5b/jn4p_4vx7j9gx2jdrmbjlxnr0000gn/T/ipykernel_2632/1737341288.py:2: PerformanceWarning: Determining the data types of a LazyFrame requires resolving its schema, which is a potentially expensive operation. Use `LazyFrame.collect_schema().dtypes()` to get the data types without this warning.\n",
      "  print(set(train_df.dtypes))\n"
     ]
    }
   ],
   "source": [
    "# check all possible datatypes\n",
    "print(set(train_df.dtypes))"
   ]
  },
  {
   "cell_type": "code",
   "execution_count": 12,
   "id": "ae0884b4",
   "metadata": {},
   "outputs": [
    {
     "name": "stderr",
     "output_type": "stream",
     "text": [
      "/var/folders/5b/jn4p_4vx7j9gx2jdrmbjlxnr0000gn/T/ipykernel_2632/2295361549.py:3: PerformanceWarning: Determining the column names of a LazyFrame requires resolving its schema, which is a potentially expensive operation. Use `LazyFrame.collect_schema().names()` to get the column names without this warning.\n",
      "  for col in train_df.columns:\n"
     ]
    },
    {
     "name": "stdout",
     "output_type": "stream",
     "text": [
      "[]\n"
     ]
    }
   ],
   "source": [
    "# check for possible constant columns\n",
    "constant_columns = []\n",
    "for col in train_df.columns:\n",
    "    if train_df.select(col).min().collect()[0, 0] == train_df.select(col).max().collect()[0, 0]:\n",
    "        constant_columns.append(col)\n",
    "print(constant_columns)"
   ]
  },
  {
   "cell_type": "code",
   "execution_count": 13,
   "id": "99119258",
   "metadata": {},
   "outputs": [
    {
     "name": "stdout",
     "output_type": "stream",
     "text": [
      "set()\n"
     ]
    }
   ],
   "source": [
    "# check if same issue might also appear in test\n",
    "actual_constant_columns = []\n",
    "for col in constant_columns:\n",
    "    if train_df.select(col).min().collect()[0, 0] == train_df.select(col).max().collect()[0, 0]:\n",
    "        actual_constant_columns.append(col)\n",
    "print(set(constant_columns) - set(actual_constant_columns)) # all are constant => can remove?"
   ]
  },
  {
   "cell_type": "code",
   "execution_count": 14,
   "id": "59d133bd",
   "metadata": {},
   "outputs": [],
   "source": [
    "train_df = train_df.drop(actual_constant_columns)"
   ]
  },
  {
   "cell_type": "code",
   "execution_count": 15,
   "id": "8d591291",
   "metadata": {},
   "outputs": [],
   "source": [
    "# # get columns pair that is perfectly (or very highly) correlated\n",
    "# correlated_pair = []\n",
    "# col_names = train_df.collect_schema().names()\n",
    "# for i in tqdm(range(len(col_names) - 1)):\n",
    "#     col1 = col_names[i]\n",
    "#     if col1 not in constant_columns:\n",
    "#         for j in range(i + 1, len(col_names)):\n",
    "#             col2 = col_names[j]\n",
    "#             if col2 not in constant_columns:\n",
    "#                 x = train_df.select(col1).collect()[col1].to_numpy()\n",
    "#                 y = train_df.select(col2).collect()[col2].to_numpy()\n",
    "#                 if np.corrcoef(x, y)[0][1] == 1:\n",
    "#                     correlated_pair.append(f\"{col1}-{col2}\")\n",
    "# print(correlated_pair)\n",
    "# print(len(correlated_pair))"
   ]
  },
  {
   "cell_type": "code",
   "execution_count": 16,
   "id": "a6e3e7d2",
   "metadata": {},
   "outputs": [
    {
     "data": {
      "text/plain": [
       "{'X104-X146',\n",
       " 'X116-X158',\n",
       " 'X309-X351',\n",
       " 'X309-X393',\n",
       " 'X315-X357',\n",
       " 'X315-X399',\n",
       " 'X351-X393',\n",
       " 'X357-X399',\n",
       " 'X62-X104',\n",
       " 'X62-X146',\n",
       " 'X74-X116',\n",
       " 'X74-X158'}"
      ]
     },
     "execution_count": 16,
     "metadata": {},
     "output_type": "execute_result"
    }
   ],
   "source": [
    "correlated_pair = ['X62-X104', 'X62-X146', 'X68-X110', 'X68-X152', 'X74-X116', 'X74-X158', 'X80-X122', 'X80-X164', 'X86-X128', 'X86-X170', 'X92-X134', 'X92-X176', 'X98-X140', 'X98-X182', 'X104-X146', 'X110-X152', 'X116-X158', 'X122-X164', 'X128-X170', 'X134-X176', 'X140-X182', 'X309-X351', 'X309-X393', 'X315-X357', 'X315-X399', 'X327-X369', 'X327-X411', 'X333-X375', 'X333-X417', 'X339-X381', 'X339-X423', 'X345-X387', 'X345-X429', 'X351-X393', 'X357-X399', 'X369-X411', 'X375-X417', 'X381-X423', 'X387-X429']\n",
    "actual_correlated_pair = []\n",
    "for cp in correlated_pair:\n",
    "    col1, col2 = cp.split(\"-\")\n",
    "    x = test_df.select(col1).collect()[col1].to_numpy()\n",
    "    y = test_df.select(col2).collect()[col2].to_numpy()\n",
    "    if np.corrcoef(x, y)[0][1] == 1:\n",
    "        actual_correlated_pair.append(f\"{col1}-{col2}\")\n",
    "set(correlated_pair) - set(actual_correlated_pair)"
   ]
  },
  {
   "cell_type": "code",
   "execution_count": 17,
   "id": "8fdb1dd7",
   "metadata": {},
   "outputs": [
    {
     "data": {
      "text/plain": [
       "[['X152', 'X110', 'X68'],\n",
       " ['X164', 'X80', 'X122'],\n",
       " ['X128', 'X86', 'X170'],\n",
       " ['X176', 'X134', 'X92'],\n",
       " ['X182', 'X98', 'X140'],\n",
       " ['X369', 'X411', 'X327'],\n",
       " ['X375', 'X333', 'X417'],\n",
       " ['X339', 'X423', 'X381'],\n",
       " ['X429', 'X345', 'X387']]"
      ]
     },
     "execution_count": 17,
     "metadata": {},
     "output_type": "execute_result"
    }
   ],
   "source": [
    "# Group into correlated group\n",
    "correlated_group = []\n",
    "for cp in actual_correlated_pair:\n",
    "    cp_lst = cp.split(\"-\")\n",
    "    added = False\n",
    "    for inx, cg in enumerate(correlated_group):\n",
    "        for var in cp_lst:\n",
    "            if var in cg:\n",
    "                correlated_group[inx].extend(cp_lst)\n",
    "                correlated_group[inx] = list(set(correlated_group[inx]))\n",
    "                added = True\n",
    "                break\n",
    "        if added:\n",
    "            break\n",
    "    if not added:\n",
    "        correlated_group.append(cp_lst)\n",
    "correlated_group\n",
    "# 8 groups of perfectly correlated features, try to check if same things happen in test"
   ]
  },
  {
   "cell_type": "code",
   "execution_count": 18,
   "id": "757c696e",
   "metadata": {},
   "outputs": [],
   "source": [
    "removed_col = []\n",
    "for cg in correlated_group:\n",
    "    removed_col.extend(cg[1:])\n",
    "train_df = train_df.drop(removed_col)"
   ]
  },
  {
   "cell_type": "code",
   "execution_count": null,
   "id": "be7a6a8a",
   "metadata": {},
   "outputs": [],
   "source": [
    "# Incremental PCA\n",
    "inc_PCA = IncrementalPCA(n_components = 50)\n",
    "\n",
    "# fitting a batch every turn\n",
    "n_rows = train_df.select(\"bid_qty\").count().collect()[0, 0]\n",
    "batch_size = 10000\n",
    "for i in tqdm(range(0, n_rows, batch_size)):\n",
    "    length = min(n_rows - i, batch_size)\n",
    "    train_df_batch = train_df.drop(\"label\").slice(offset = i, length = length).collect()\n",
    "    inc_PCA.partial_fit(train_df_batch)"
   ]
  },
  {
   "cell_type": "code",
   "execution_count": null,
   "id": "e8637412",
   "metadata": {},
   "outputs": [],
   "source": [
    "sns.barplot(inc_PCA.explained_variance_ratio_)"
   ]
  },
  {
   "cell_type": "code",
   "execution_count": null,
   "id": "7399d36f",
   "metadata": {},
   "outputs": [],
   "source": [
    "pc1_component = pd.DataFrame(\n",
    "    {\n",
    "        \"var\": inc_PCA.feature_names_in_,\n",
    "        \"pc1_contribution\": inc_PCA.components_[0]\n",
    "    }\n",
    ")\n",
    "\n",
    "pc1_component = pc1_component.sort_values(\"pc1_contribution\", ascending=False, key = lambda x: abs(x)).reset_index().drop(\"index\", axis = 1)\n",
    "pc1_component"
   ]
  },
  {
   "cell_type": "code",
   "execution_count": null,
   "id": "330c27ed",
   "metadata": {},
   "outputs": [],
   "source": [
    "# Use the top 50 features\n",
    "print(pc1_component.iloc[:50, ][\"var\"].tolist())"
   ]
  },
  {
   "cell_type": "code",
   "execution_count": null,
   "id": "c31b05ad",
   "metadata": {},
   "outputs": [],
   "source": [
    "# Also need to check correlation with target variable\n",
    "var_label_correlation = []\n",
    "for i in tqdm(range(pc1_component.shape[0])):\n",
    "    var = pc1_component.loc[i, \"var\"]\n",
    "    var_label_correlation.append(train_df.select(pl.corr(var, \"label\")).collect().item())\n",
    "pc1_component[\"var_label_correlation\"] = var_label_correlation\n",
    "pc1_component"
   ]
  },
  {
   "cell_type": "code",
   "execution_count": null,
   "id": "f4305ab8",
   "metadata": {},
   "outputs": [],
   "source": [
    "pc1_component.sort_values(\"var_label_correlation\", ascending=False, key = lambda x: abs(x))"
   ]
  },
  {
   "cell_type": "code",
   "execution_count": null,
   "id": "79954976",
   "metadata": {},
   "outputs": [],
   "source": [
    "pc1_component[\"pc1_contribution_rnk\"] = pc1_component[\"pc1_contribution\"].abs().rank(method = \"min\", ascending=False)\n",
    "pc1_component[\"var_label_correlation_rnk\"] = pc1_component[\"var_label_correlation\"].abs().rank(method = \"min\", ascending=False)\n",
    "pc1_component[\"average_rnk\"] = (pc1_component[\"pc1_contribution_rnk\"] + pc1_component[\"var_label_correlation_rnk\"]) / 2\n",
    "pc1_component"
   ]
  },
  {
   "cell_type": "code",
   "execution_count": null,
   "id": "c024cfb7",
   "metadata": {},
   "outputs": [],
   "source": [
    "popular_var = [\n",
    "    \"X863\", \"X856\", \"X344\", \"X598\", \"X862\", \"X385\", \"X852\", \"X603\", \"X860\", \"X674\",\n",
    "    \"X415\", \"X345\", \"X137\", \"X855\", \"X174\", \"X302\", \"X178\", \"X532\", \"X168\", \"X612\",\n",
    "    \"bid_qty\", \"ask_qty\", \"buy_qty\", \"sell_qty\", \"volume\"\n",
    "]\n",
    "pc1_component[pc1_component[\"var\"].isin(popular_var)]"
   ]
  },
  {
   "cell_type": "code",
   "execution_count": null,
   "id": "62cd270b",
   "metadata": {},
   "outputs": [],
   "source": [
    "pc1_component = pc1_component.sort_values(\"average_rnk\").reset_index().drop(\"index\", axis = 1)\n",
    "pc1_component"
   ]
  },
  {
   "cell_type": "code",
   "execution_count": null,
   "id": "161fac5f",
   "metadata": {},
   "outputs": [],
   "source": [
    "best_pc1_contribution = pc1_component[pc1_component[\"pc1_contribution_rnk\"] <= 100][\"var\"].tolist()\n",
    "with open(\"features/best_pc1_contribution.pkl\", \"wb\") as f:\n",
    "    pickle.dump(best_pc1_contribution, f)"
   ]
  },
  {
   "cell_type": "code",
   "execution_count": null,
   "id": "507ee324",
   "metadata": {},
   "outputs": [],
   "source": [
    "best_label_correlation = pc1_component[pc1_component[\"var_label_correlation_rnk\"] <= 100][\"var\"].tolist()\n",
    "with open(\"features/best_label_correlation.pkl\", \"wb\") as f:\n",
    "    pickle.dump(best_label_correlation, f)"
   ]
  },
  {
   "cell_type": "code",
   "execution_count": null,
   "id": "e216d1c2",
   "metadata": {},
   "outputs": [],
   "source": [
    "best_label_correlation_200 = pc1_component[pc1_component[\"var_label_correlation_rnk\"] <= 200][\"var\"].tolist()\n",
    "with open(\"features/best_label_correlation_200.pkl\", \"wb\") as f:\n",
    "    pickle.dump(best_label_correlation_200, f)"
   ]
  },
  {
   "cell_type": "code",
   "execution_count": null,
   "id": "d49b219c",
   "metadata": {},
   "outputs": [],
   "source": [
    "best_overall = (pc1_component.loc[:50, \"var\"].to_list())\n",
    "best_overall.extend([\"volume\", \"bid_qty\", \"ask_qty\", \"buy_qty\", \"sell_qty\"])\n",
    "with open(\"features/best_overall.pkl\", \"wb\") as f:\n",
    "    pickle.dump(best_overall, f)"
   ]
  },
  {
   "cell_type": "markdown",
   "id": "5320f462",
   "metadata": {},
   "source": [
    "Analyze interesting features from initial modeling"
   ]
  },
  {
   "cell_type": "code",
   "execution_count": null,
   "id": "da860dcd",
   "metadata": {},
   "outputs": [],
   "source": [
    "plot_acf(train_df.select(\"X198\").collect().to_numpy(), lags=50)\n",
    "plot_pacf(train_df.select(\"X198\").collect().to_numpy(), lags=50)\n",
    "plt.show()"
   ]
  },
  {
   "cell_type": "code",
   "execution_count": null,
   "id": "28810525",
   "metadata": {},
   "outputs": [],
   "source": [
    "plot_acf(train_df.select(\"X598\").collect().to_numpy(), lags=50)\n",
    "plot_pacf(train_df.select(\"X598\").collect().to_numpy(), lags=50)\n",
    "plt.show()"
   ]
  },
  {
   "cell_type": "code",
   "execution_count": null,
   "id": "e1464cfe",
   "metadata": {},
   "outputs": [],
   "source": [
    "plot_acf(train_df.select(\"X863\").collect().to_numpy(), lags=50)\n",
    "plot_pacf(train_df.select(\"X863\").collect().to_numpy(), lags=50)\n",
    "plt.show()"
   ]
  },
  {
   "cell_type": "code",
   "execution_count": null,
   "id": "02ea229f",
   "metadata": {},
   "outputs": [],
   "source": [
    "plot_acf(train_df.select(\"X466\").collect().to_numpy(), lags=50)\n",
    "plot_pacf(train_df.select(\"X466\").collect().to_numpy(), lags=50)\n",
    "plt.show()"
   ]
  },
  {
   "cell_type": "markdown",
   "id": "0547b01c",
   "metadata": {},
   "source": [
    "Add extra features"
   ]
  },
  {
   "cell_type": "code",
   "execution_count": null,
   "id": "f27d687b",
   "metadata": {},
   "outputs": [],
   "source": [
    "train_df = train_df.with_columns(\n",
    "    # interaction features\n",
    "    (pl.col(\"bid_qty\") * pl.col(\"ask_qty\")).alias(\"bid_ask_interaction\"),\n",
    "    (pl.col(\"bid_qty\") * pl.col(\"buy_qty\")).alias(\"bid_buy_interaction\"),\n",
    "    (pl.col(\"bid_qty\") * pl.col(\"sell_qty\")).alias(\"bid_sell_interaction\"),\n",
    "    (pl.col(\"ask_qty\") * pl.col(\"buy_qty\")).alias(\"ask_buy_interaction\"),\n",
    "    (pl.col(\"ask_qty\") * pl.col(\"sell_qty\")).alias(\"ask_sell_interaction\"),\n",
    "    (pl.col(\"buy_qty\") * pl.col(\"sell_qty\")).alias(\"buy_sell_interaction\"),\n",
    "\n",
    "    # spread features\n",
    "    ((pl.col(\"ask_qty\") - pl.col(\"bid_qty\")) / (pl.col(\"ask_qty\") + pl.col(\"bid_qty\")) + 1e-8).alias(\"spread_indicator\"),\n",
    "\n",
    "    # volume weighted features\n",
    "    (pl.col(\"buy_qty\") * pl.col(\"volume\")).alias(\"volume_weighted_buy\"),\n",
    "    (pl.col(\"sell_qty\") * pl.col(\"volume\")).alias(\"volume_weighted_sell\"),\n",
    "    (pl.col(\"bid_qty\") * pl.col(\"volume\")).alias(\"volume_weighted_bid\"),\n",
    "    (pl.col(\"ask_qty\") * pl.col(\"volume\")).alias(\"volume_weighted_ask\"),\n",
    "\n",
    "    # buy/sell and bid/ask ratios\n",
    "    (pl.col(\"buy_qty\") / (pl.col(\"sell_qty\") + 1e-8)).alias(\"buy_sell_ratio\"),\n",
    "    (pl.col(\"bid_qty\") / (pl.col(\"ask_qty\") + 1e-8)).alias(\"bid_ask_ratio\"),\n",
    "\n",
    "    # order flow imbalance\n",
    "    ((pl.col(\"buy_qty\") - pl.col(\"sell_qty\")) / (pl.col(\"volume\") + 1e-8)).alias(\"order_flow_imbalance\"),\n",
    "\n",
    "    # buying and selling pressure\n",
    "    (pl.col(\"buy_qty\") / (pl.col(\"volume\") + 1e-8)).alias(\"buying_pressure\"),\n",
    "    (pl.col(\"sell_qty\") / (pl.col(\"volume\") + 1e-8)).alias(\"selling_pressure\"),\n",
    "\n",
    "    # liquidity features\n",
    "    (pl.col(\"bid_qty\") + pl.col(\"ask_qty\")).alias(\"total_liquidity\"),\n",
    "    ((pl.col(\"bid_qty\") - pl.col(\"ask_qty\")) / (pl.col(\"bid_qty\") + pl.col(\"ask_qty\") + 1e-8)).alias(\"liquidity_imbalance\"),\n",
    "    ((pl.col(\"ask_qty\") - pl.col(\"bid_qty\")) / (pl.col(\"volume\") + 1e-8)).alias(\"relative_spread\"),\n",
    "\n",
    "    # trade related features (size, intensity, flow)\n",
    "    ((pl.col(\"buy_qty\") + pl.col(\"sell_qty\")) / (pl.col(\"volume\") + 1e-8)).alias(\"trade_intensity\"),\n",
    "    (pl.col(\"volume\") / (pl.col(\"buy_qty\") + pl.col(\"sell_qty\") + 1e-8)).alias(\"avg_trade_size\"),\n",
    "    ((pl.col(\"buy_qty\") - pl.col(\"sell_qty\")) / (pl.col(\"buy_qty\") + pl.col(\"sell_qty\") + 1e-8)).alias(\"net_trade_flow\"),\n",
    "\n",
    "    # volume features in market + how market is working wrt to volume \n",
    "    ((pl.col(\"bid_qty\") + pl.col(\"ask_qty\")) / (pl.col(\"volume\") + 1e-8)).alias(\"depth_ratio\"),\n",
    "    ((pl.col(\"buy_qty\") + pl.col(\"sell_qty\")) / (pl.col(\"bid_qty\") + pl.col(\"ask_qty\") + 1e-8)).alias(\"volume_participation\"),\n",
    "    (pl.col(\"volume\") * (pl.col(\"bid_qty\") + pl.col(\"ask_qty\"))).alias(\"market_activity\"),\n",
    "\n",
    "    # spread proxy and realized vol proxy\n",
    "    ((pl.col(\"buy_qty\") - pl.col(\"sell_qty\")).abs() / (pl.col(\"volume\") + 1e-8)).alias(\"effective_spread_proxy\"),\n",
    "    (((pl.col(\"buy_qty\") - pl.col(\"sell_qty\")) / (pl.col(\"volume\") + 1e-8)) * pl.col(\"volume\")).alias(\"realized_volatility_proxy\"),\n",
    "\n",
    "    # normalized buy/sell volume\n",
    "    (pl.col(\"buy_qty\") / (pl.col(\"bid_qty\") + 1e-8)).alias(\"normalized_buy_volume\"),\n",
    "    (pl.col(\"sell_qty\") / (pl.col(\"ask_qty\") + 1e-8)).alias(\"normalized_sell_volume\"),\n",
    "\n",
    "    # imbalance and spread interaction\n",
    "    (((pl.col(\"buy_qty\") - pl.col(\"sell_qty\")) / (pl.col(\"volume\") + 1e-8)) * ((pl.col(\"bid_qty\") + pl.col(\"ask_qty\")) / (pl.col(\"volume\") + 1e-8))).alias(\"liquidity_adjusted_imbalance\"),\n",
    "    ((pl.col(\"buy_qty\") / (pl.col(\"volume\") + 1e-8)) * ((pl.col(\"ask_qty\") - pl.col(\"bid_qty\")) / (pl.col(\"ask_qty\") + pl.col(\"bid_qty\")) + 1e-8)).alias(\"pressure_spread_interaction\"),\n",
    "\n",
    "    # trade direction ratio, net buying volume, bid/ask skew\n",
    "    (pl.col(\"buy_qty\") / (pl.col(\"buy_qty\") + pl.col(\"sell_qty\") + 1e-8)).alias(\"trade_direction_ratio\"),\n",
    "    (pl.col(\"buy_qty\") - pl.col(\"sell_qty\")).alias(\"net_buy_volume\"),\n",
    "    (pl.col(\"bid_qty\") / (pl.col(\"bid_qty\") + pl.col(\"ask_qty\") + 1e-8)).alias(\"bid_skew\"),\n",
    "    (pl.col(\"ask_qty\") / (pl.col(\"bid_qty\") + pl.col(\"ask_qty\") + 1e-8)).alias(\"ask_skew\")\n",
    ")\n",
    "\n",
    "train_df = train_df.fill_nan(0).fill_null(0)"
   ]
  },
  {
   "cell_type": "markdown",
   "id": "8d0532d7",
   "metadata": {},
   "source": [
    "Test important features on lags with other columns to reverse-engineer anonymized features"
   ]
  },
  {
   "cell_type": "code",
   "execution_count": null,
   "id": "7311c3ff",
   "metadata": {},
   "outputs": [],
   "source": [
    "interested_time = [\n",
    "    1, 2, 3, 4, 5, 10, 15, 20, 25, 30, \n",
    "    35, 40, 45, 50, 55, 60, \n",
    "    120, 180, 240, 300, 360, 720, 1440, \n",
    "    1440 * 3, 1440 * 5, 1440 * 7, 1440 * 14, \n",
    "    1440 * 30, 1440 * 60, 1440 * 90, 1440 * 180\n",
    "]"
   ]
  },
  {
   "cell_type": "code",
   "execution_count": null,
   "id": "2dbe7888",
   "metadata": {},
   "outputs": [],
   "source": [
    "for l in interested_time:\n",
    "    max_correlation = 0\n",
    "    max_abs_correlation = 0\n",
    "    feature = None\n",
    "    for col in train_df.schema.keys():\n",
    "        if \"X\" not in col:\n",
    "            corr = train_df.with_columns(\n",
    "                pl.col(\"X466\"),\n",
    "                pl.col(col).rolling_mean(window_size=l).shift(1).alias(f\"{col}_rolling_{l}\"),\n",
    "            ).with_row_index(\"row_inx\").select(pl.corr(f\"X466\", f\"{col}_rolling_{l}\")).collect().item()\n",
    "            if abs(corr) > max_abs_correlation:\n",
    "                max_abs_correlation = abs(corr)\n",
    "                max_correlation = corr\n",
    "                feature = col\n",
    "    print(l)\n",
    "    print(feature, max_correlation, max_abs_correlation)"
   ]
  },
  {
   "cell_type": "code",
   "execution_count": null,
   "id": "67cb4dbe",
   "metadata": {},
   "outputs": [],
   "source": [
    "for l in interested_time:\n",
    "    max_correlation = 0\n",
    "    max_abs_correlation = 0\n",
    "    feature = None\n",
    "    for col in train_df.schema.keys():\n",
    "        if \"X\" not in col:\n",
    "            corr = train_df.with_columns(\n",
    "                pl.col(\"X198\"),\n",
    "                pl.col(col).rolling_mean(window_size=l).shift(1).alias(f\"{col}_rolling_{l}\"),\n",
    "            ).with_row_index(\"row_inx\").select(pl.corr(f\"X198\", f\"{col}_rolling_{l}\")).collect().item()\n",
    "            if abs(corr) > max_abs_correlation:\n",
    "                max_abs_correlation = abs(corr)\n",
    "                max_correlation = corr\n",
    "                feature = col\n",
    "    print(l)\n",
    "    print(feature, max_correlation, max_abs_correlation)"
   ]
  },
  {
   "cell_type": "code",
   "execution_count": null,
   "id": "bdefd9c1",
   "metadata": {},
   "outputs": [],
   "source": [
    "for l in interested_time:\n",
    "    max_correlation = 0\n",
    "    max_abs_correlation = 0\n",
    "    feature = None\n",
    "    for col in train_df.schema.keys():\n",
    "        if \"X\" not in col:\n",
    "            corr = train_df.with_columns(\n",
    "                pl.col(\"X598\"),\n",
    "                pl.col(col).rolling_mean(window_size=l).shift(1).alias(f\"{col}_rolling_{l}\"),\n",
    "            ).with_row_index(\"row_inx\").select(pl.corr(f\"X598\", f\"{col}_rolling_{l}\")).collect().item()\n",
    "            if abs(corr) > max_abs_correlation:\n",
    "                max_abs_correlation = abs(corr)\n",
    "                max_correlation = corr\n",
    "                feature = col\n",
    "    print(l)\n",
    "    print(feature, max_correlation, max_abs_correlation)"
   ]
  },
  {
   "cell_type": "code",
   "execution_count": null,
   "id": "a01931ef",
   "metadata": {},
   "outputs": [],
   "source": [
    "for l in interested_time:\n",
    "    max_correlation = 0\n",
    "    max_abs_correlation = 0\n",
    "    feature = None\n",
    "    for col in train_df.schema.keys():\n",
    "        if \"X\" not in col:\n",
    "            corr = train_df.with_columns(\n",
    "                pl.col(\"X862\"),\n",
    "                pl.col(col).rolling_mean(window_size=l).shift(1).alias(f\"{col}_rolling_{l}\"),\n",
    "            ).with_row_index(\"row_inx\").select(pl.corr(f\"X862\", f\"{col}_rolling_{l}\")).collect().item()\n",
    "            if abs(corr) > max_abs_correlation:\n",
    "                max_abs_correlation = abs(corr)\n",
    "                max_correlation = corr\n",
    "                feature = col\n",
    "    print(l)\n",
    "    print(feature, max_correlation, max_abs_correlation)"
   ]
  },
  {
   "cell_type": "code",
   "execution_count": null,
   "id": "75fd32a6",
   "metadata": {},
   "outputs": [],
   "source": [
    "features = ['X862', 'X598', 'X863', 'X533', 'X379', 'X856', 'X28', 'X284', 'X466', 'X95', \n",
    "            'X331', 'X465', 'X852', 'X861', 'X198', 'X169', 'X285', 'X23', 'X531', 'X444', \n",
    "            'X754', 'X445', 'X758', 'X137', 'X279', 'X540', 'X31', 'X218', 'X291', 'X511']\n",
    "for f in features:\n",
    "    print(f)\n",
    "    max_correlation = 0\n",
    "    max_abs_correlation = 0\n",
    "    feature = None\n",
    "    lag = None\n",
    "    for l in tqdm(interested_time):\n",
    "        for col in train_df.schema.keys():\n",
    "            if \"X\" not in col:\n",
    "                corr = train_df.with_columns(\n",
    "                    pl.col(f),\n",
    "                    pl.col(col).rolling_mean(window_size=l).shift(1).alias(f\"{col}_rolling_{l}\"),\n",
    "                ).with_row_index(\"row_inx\").select(pl.corr(f, f\"{col}_rolling_{l}\")).collect().item()\n",
    "                if abs(corr) > max_abs_correlation:\n",
    "                    max_abs_correlation = abs(corr)\n",
    "                    max_correlation = corr\n",
    "                    feature = col\n",
    "                    lag = l\n",
    "    print(feature, lag, max_correlation, max_abs_correlation)"
   ]
  },
  {
   "cell_type": "markdown",
   "id": "63e72758",
   "metadata": {},
   "source": [
    "Consider the case of different class of returns"
   ]
  },
  {
   "cell_type": "code",
   "execution_count": null,
   "id": "ce75e187",
   "metadata": {},
   "outputs": [],
   "source": [
    "print(train_df.select(\"label\").quantile(1/3, \"nearest\").collect().item())"
   ]
  },
  {
   "cell_type": "code",
   "execution_count": null,
   "id": "ac2661f3",
   "metadata": {},
   "outputs": [],
   "source": [
    "def check_quantile(x):\n",
    "    if x > 0.2: return \"pos\"\n",
    "    elif x < -0.2: return \"neg\"\n",
    "    return \"neu\""
   ]
  },
  {
   "cell_type": "code",
   "execution_count": null,
   "id": "cdd67a02",
   "metadata": {},
   "outputs": [],
   "source": [
    "valid = []\n",
    "valid_col = [col for col in train_df.schema.keys() if \"X\" in col]\n",
    "for col in tqdm(valid_col):\n",
    "    data = train_df.select([pl.col(col), pl.col(\"label\")]).collect().to_pandas()\n",
    "    data[\"label\"] = data[\"label\"].apply(lambda x: check_quantile(x))\n",
    "    # levene test for equal variance\n",
    "    pos = data[data[\"label\"] == \"pos\"][col].tolist()\n",
    "    neg = data[data[\"label\"] == \"neg\"][col].tolist()\n",
    "    neu = data[data[\"label\"] == \"neu\"][col].tolist()\n",
    "    _, pvalue= levene(pos, neg, neu)\n",
    "    if pvalue < 0.05:\n",
    "        # do anova test later\n",
    "        _, pvalue = f_oneway(pos, neg, neu)\n",
    "        if pvalue < 0.05:\n",
    "            valid.append(col)\n",
    "print(len(valid))"
   ]
  },
  {
   "cell_type": "code",
   "execution_count": null,
   "id": "02443229",
   "metadata": {},
   "outputs": [],
   "source": [
    "valid"
   ]
  },
  {
   "cell_type": "code",
   "execution_count": null,
   "id": "77becb2d",
   "metadata": {},
   "outputs": [],
   "source": [
    "popular_cols = [c for c in train_df.schema.keys() if \"X\" not in c and \"label\" not in c]\n",
    "popular_valid = []\n",
    "for col in tqdm(popular_cols):\n",
    "    data = train_df.select([pl.col(col), pl.col(\"label\")]).collect().to_pandas()\n",
    "    data[\"label\"] = data[\"label\"].apply(lambda x: check_quantile(x))\n",
    "    # levene test for equal variance\n",
    "    pos = data[data[\"label\"] == \"pos\"][col].tolist()\n",
    "    neg = data[data[\"label\"] == \"neg\"][col].tolist()\n",
    "    neu = data[data[\"label\"] == \"neu\"][col].tolist()\n",
    "    _, pvalue= levene(pos, neg, neu)\n",
    "    if pvalue < 0.05:\n",
    "        # do anova test later\n",
    "        _, pvalue = f_oneway(pos, neg, neu)\n",
    "        if pvalue < 0.05:\n",
    "            popular_valid.append(col)\n",
    "print(len(popular_valid))"
   ]
  },
  {
   "cell_type": "markdown",
   "id": "d8017a92",
   "metadata": {},
   "source": [
    "Maybe try to clustering features to look at how features correlated to each other"
   ]
  },
  {
   "cell_type": "code",
   "execution_count": null,
   "id": "080b43e2",
   "metadata": {},
   "outputs": [],
   "source": [
    "# we have about 900 rows for 900 features, we might only look at a subset of data to prevent too large data\n",
    "# use around 7 days (60 * 24 * 7 = 10080) to prevent too much data\n",
    "X = train_df.slice(offset = 0, length = 10080).collect().to_numpy().T\n",
    "for i in range(X.shape[0]):\n",
    "    if np.linalg.norm(X[i, :]) == 0:\n",
    "        X[i, :] += 1e-10"
   ]
  },
  {
   "cell_type": "code",
   "execution_count": null,
   "id": "318dc72f",
   "metadata": {},
   "outputs": [],
   "source": [
    "distance_matrix = pdist(X, metric='cosine')  \n",
    "linkage_matrix = linkage(distance_matrix, method='median') "
   ]
  },
  {
   "cell_type": "code",
   "execution_count": null,
   "id": "4534b85c",
   "metadata": {},
   "outputs": [],
   "source": [
    "clusters = fcluster(linkage_matrix, t=50, criterion='maxclust')\n",
    "clusters_df = pd.DataFrame({\n",
    "    \"var\": list(train_df.schema.keys()),\n",
    "    \"cluster\": clusters\n",
    "})\n",
    "clusters_df"
   ]
  },
  {
   "cell_type": "code",
   "execution_count": null,
   "id": "dca0fc10",
   "metadata": {},
   "outputs": [],
   "source": [
    "clusters_df[\"cluster\"].value_counts()"
   ]
  },
  {
   "cell_type": "code",
   "execution_count": null,
   "id": "d001fa7c",
   "metadata": {},
   "outputs": [],
   "source": [
    "clusters_df[clusters_df[\"cluster\"] == 33][\"var\"].tolist()"
   ]
  },
  {
   "cell_type": "code",
   "execution_count": null,
   "id": "08f6a83c",
   "metadata": {},
   "outputs": [],
   "source": [
    "clusters_df[clusters_df[\"var\"] == \"label\"]"
   ]
  },
  {
   "cell_type": "code",
   "execution_count": null,
   "id": "0fbc4f61",
   "metadata": {},
   "outputs": [],
   "source": [
    "clusters_df[clusters_df[\"cluster\"] == 43]"
   ]
  },
  {
   "cell_type": "code",
   "execution_count": null,
   "id": "c06355db",
   "metadata": {},
   "outputs": [],
   "source": [
    "X = train_df.slice(offset = 10080, length = 10080).collect().to_numpy().T\n",
    "for i in range(X.shape[0]):\n",
    "    if np.linalg.norm(X[i, :]) == 0:\n",
    "        X[i, :] += 1e-10"
   ]
  },
  {
   "cell_type": "code",
   "execution_count": null,
   "id": "f4116c73",
   "metadata": {},
   "outputs": [],
   "source": [
    "distance_matrix = pdist(X, metric='cosine')  \n",
    "linkage_matrix = linkage(distance_matrix, method='median') "
   ]
  },
  {
   "cell_type": "code",
   "execution_count": null,
   "id": "c02f5278",
   "metadata": {},
   "outputs": [],
   "source": [
    "clusters = fcluster(linkage_matrix, t=50, criterion='maxclust')\n",
    "clusters_df = pd.DataFrame({\n",
    "    \"var\": list(train_df.schema.keys()),\n",
    "    \"cluster\": clusters\n",
    "})\n",
    "clusters_df"
   ]
  },
  {
   "cell_type": "code",
   "execution_count": null,
   "id": "8b94c71c",
   "metadata": {},
   "outputs": [],
   "source": [
    "clusters_df[\"cluster\"].value_counts()"
   ]
  },
  {
   "cell_type": "code",
   "execution_count": null,
   "id": "fcb3c491",
   "metadata": {},
   "outputs": [],
   "source": [
    "clusters_df[clusters_df[\"cluster\"] == 23][\"var\"].tolist()"
   ]
  },
  {
   "cell_type": "code",
   "execution_count": null,
   "id": "2ef0d9d0",
   "metadata": {},
   "outputs": [],
   "source": [
    "clusters_df[clusters_df[\"cluster\"] == 18][\"var\"].tolist()"
   ]
  },
  {
   "cell_type": "code",
   "execution_count": null,
   "id": "75c1252a",
   "metadata": {},
   "outputs": [],
   "source": [
    "clusters_df[clusters_df[\"var\"] == \"label\"]"
   ]
  },
  {
   "cell_type": "code",
   "execution_count": null,
   "id": "b154b462",
   "metadata": {},
   "outputs": [],
   "source": [
    "X = train_df.slice(offset = 10080 * 28, length = 10080).collect().to_numpy().T\n",
    "for i in range(X.shape[0]):\n",
    "    if np.linalg.norm(X[i, :]) == 0:\n",
    "        X[i, :] += 1e-10"
   ]
  },
  {
   "cell_type": "code",
   "execution_count": null,
   "id": "64a63b7c",
   "metadata": {},
   "outputs": [],
   "source": [
    "distance_matrix = pdist(X, metric='cosine')  \n",
    "linkage_matrix = linkage(distance_matrix, method='median') "
   ]
  },
  {
   "cell_type": "code",
   "execution_count": null,
   "id": "ac3b5391",
   "metadata": {},
   "outputs": [],
   "source": [
    "clusters = fcluster(linkage_matrix, t=50, criterion='maxclust')\n",
    "clusters_df = pd.DataFrame({\n",
    "    \"var\": list(train_df.schema.keys()),\n",
    "    \"cluster\": clusters\n",
    "})\n",
    "clusters_df"
   ]
  },
  {
   "cell_type": "code",
   "execution_count": null,
   "id": "45ae5040",
   "metadata": {},
   "outputs": [],
   "source": [
    "clusters_df[\"cluster\"].value_counts()"
   ]
  },
  {
   "cell_type": "code",
   "execution_count": null,
   "id": "dc9fe14a",
   "metadata": {},
   "outputs": [],
   "source": [
    "clusters_df[clusters_df[\"cluster\"] == 32][\"var\"].tolist()"
   ]
  },
  {
   "cell_type": "code",
   "execution_count": null,
   "id": "cfdbcc9f",
   "metadata": {},
   "outputs": [],
   "source": [
    "clusters_df[clusters_df[\"cluster\"] == 20][\"var\"].tolist()"
   ]
  },
  {
   "cell_type": "markdown",
   "id": "40018133",
   "metadata": {},
   "source": [
    "Analyze if any features is constants over time"
   ]
  },
  {
   "cell_type": "code",
   "execution_count": null,
   "id": "c4b83e05",
   "metadata": {},
   "outputs": [],
   "source": [
    "valid_col = [col for col in train_df.schema.keys() if \"X\" in col]\n",
    "for col in tqdm(valid_col):\n",
    "    temp = train_df.select([pl.col(\"timestamp\"), pl.col(col)]).collect().to_pandas()\n",
    "    temp[\"month\"] = temp[\"timestamp\"].dt.month\n",
    "    month_var = temp.drop(\"timestamp\", axis = 1).groupby(\"month\").var()\n",
    "    if (month_var.max() == 0).all():\n",
    "        print(f\"{col} is constant across month\")\n",
    "    temp[\"week\"] = temp[\"timestamp\"].dt.isocalendar().week\n",
    "    week_var = temp.drop(\"timestamp\", axis = 1).groupby([\"month\", \"week\"]).var()\n",
    "    if (week_var.max() == 0).all():\n",
    "        print(f\"{col} is constant across week\")\n",
    "    temp[\"day\"] = temp[\"timestamp\"].dt.day\n",
    "    day_var = temp.drop(\"timestamp\", axis = 1).groupby([\"month\", \"week\", \"day\"]).var()\n",
    "    if (day_var.max() == 0).all():\n",
    "        print(f\"{col} is constant across day\")\n",
    "    temp[\"hour\"] = temp[\"timestamp\"].dt.hour\n",
    "    hour_var = temp.drop(\"timestamp\", axis = 1).groupby([\"month\", \"week\", \"day\", \"hour\"]).var()\n",
    "    if (hour_var.max() == 0).all():\n",
    "        print(f\"{col} is constant across hour\")"
   ]
  },
  {
   "cell_type": "markdown",
   "id": "4a2d87f6",
   "metadata": {},
   "source": [
    "Analyze regime from other variables (volume, as sugggested in Kaggle)"
   ]
  },
  {
   "cell_type": "code",
   "execution_count": null,
   "id": "c4cbea23",
   "metadata": {},
   "outputs": [],
   "source": [
    "label_over_time = train_df.select([\"__index_level_0__\", \"label\"]).collect().to_pandas()\n",
    "sns.lineplot(data = label_over_time, x = \"__index_level_0__\", y = \"label\")"
   ]
  },
  {
   "cell_type": "code",
   "execution_count": null,
   "id": "a420bd17",
   "metadata": {},
   "outputs": [],
   "source": [
    "volume_over_time = train_df.select([\"__index_level_0__\", \"volume\"]).collect().to_pandas()\n",
    "sns.lineplot(data = volume_over_time, x = \"__index_level_0__\", y = \"volume\")"
   ]
  },
  {
   "cell_type": "code",
   "execution_count": null,
   "id": "e95caa60",
   "metadata": {},
   "outputs": [],
   "source": [
    "sns.histplot(np.log(volume_over_time[\"volume\"]))"
   ]
  },
  {
   "cell_type": "code",
   "execution_count": null,
   "id": "3415d156",
   "metadata": {},
   "outputs": [],
   "source": [
    "print(np.log(volume_over_time[\"volume\"]).quantile(0.25, \"nearest\"), np.log(volume_over_time[\"volume\"]).quantile(0.75, \"nearest\"))"
   ]
  },
  {
   "cell_type": "code",
   "execution_count": null,
   "id": "fa01ab09",
   "metadata": {},
   "outputs": [],
   "source": [
    "low_volume = np.exp(4)\n",
    "high_volume = np.exp(6)\n",
    "volume_over_time = train_df.select([\"__index_level_0__\", \"volume\", \"label\"]).collect().to_pandas()\n",
    "volume_over_time[\"volume_class\"] = volume_over_time[\"volume\"].apply(lambda x: \"low\" if x < low_volume else (\"high\" if x > high_volume else \"medium\"))\n",
    "sns.histplot(data=volume_over_time, x=\"label\", hue=\"volume_class\")"
   ]
  },
  {
   "cell_type": "code",
   "execution_count": null,
   "id": "021c893b",
   "metadata": {},
   "outputs": [],
   "source": [
    "bid_ask_over_time = train_df.select([\"__index_level_0__\", \"bid_qty\", \"ask_qty\"]).collect().to_pandas()\n",
    "fig, ax = plt.subplots(figsize=(15, 10), nrows = 2, ncols = 2)\n",
    "sns.lineplot(bid_ask_over_time, x = \"__index_level_0__\", y = \"bid_qty\", ax = ax[0][0])\n",
    "sns.lineplot(bid_ask_over_time, x = \"__index_level_0__\", y = \"ask_qty\", ax = ax[0][1])\n",
    "sns.histplot(np.log(bid_ask_over_time[\"bid_qty\"]), ax = ax[1][0])\n",
    "sns.histplot(np.log(bid_ask_over_time[\"ask_qty\"]), ax = ax[1][1])\n",
    "plt.show()"
   ]
  },
  {
   "cell_type": "code",
   "execution_count": null,
   "id": "c4ae1e12",
   "metadata": {},
   "outputs": [],
   "source": [
    "print(np.log(bid_ask_over_time[\"bid_qty\"]).quantile(0.25, \"nearest\"), np.log(bid_ask_over_time[\"bid_qty\"]).quantile(0.75, \"nearest\"))\n",
    "print(np.log(bid_ask_over_time[\"ask_qty\"]).quantile(0.25, \"nearest\"), np.log(bid_ask_over_time[\"ask_qty\"]).quantile(0.75, \"nearest\"))"
   ]
  },
  {
   "cell_type": "code",
   "execution_count": null,
   "id": "bbadaa71",
   "metadata": {},
   "outputs": [],
   "source": [
    "low_bid = np.exp(1)\n",
    "high_bid = np.exp(2.5)\n",
    "bid_over_time = train_df.select([\"__index_level_0__\", \"bid_qty\", \"label\"]).collect().to_pandas()\n",
    "bid_over_time[\"bid_class\"] = bid_over_time[\"bid_qty\"].apply(lambda x: \"low\" if x < low_bid else (\"high\" if x > high_bid else \"medium\"))\n",
    "sns.histplot(data=bid_over_time, x=\"label\", hue=\"bid_class\")"
   ]
  },
  {
   "cell_type": "code",
   "execution_count": null,
   "id": "a0e317e5",
   "metadata": {},
   "outputs": [],
   "source": [
    "buy_sell_over_time = train_df.select([\"__index_level_0__\", \"buy_qty\", \"sell_qty\"]).collect().to_pandas()\n",
    "fig, ax = plt.subplots(figsize=(15, 10), nrows = 2, ncols = 2)\n",
    "sns.lineplot(data = buy_sell_over_time, x = \"__index_level_0__\", y = \"buy_qty\", ax = ax[0][0])\n",
    "sns.lineplot(data = buy_sell_over_time, x = \"__index_level_0__\", y = \"sell_qty\", ax = ax[0][1])\n",
    "sns.histplot(data = np.log(buy_sell_over_time[\"buy_qty\"]), ax = ax[1][0])\n",
    "sns.histplot(data = np.log(buy_sell_over_time[\"sell_qty\"]), ax = ax[1][1])\n",
    "plt.show()"
   ]
  },
  {
   "cell_type": "code",
   "execution_count": null,
   "id": "a9ee454b",
   "metadata": {},
   "outputs": [],
   "source": [
    "X_with_label = train_df.select([\"__index_level_0__\", \"volume\", \"bid_qty\", \"ask_qty\", \"buy_qty\", \"sell_qty\", \"label\"]).collect().to_pandas()\n",
    "X = X_with_label.drop([\"label\", \"__index_level_0__\"], axis = 1).to_numpy()\n",
    "kmeans = KMeans(n_clusters=3, random_state=101)\n",
    "kmeans.fit(X)\n",
    "X_with_label[\"cluster\"] = kmeans.labels_.tolist()"
   ]
  },
  {
   "cell_type": "code",
   "execution_count": null,
   "id": "1684fff6",
   "metadata": {},
   "outputs": [],
   "source": [
    "sns.histplot(data=X_with_label, x=\"label\", hue=\"cluster\")"
   ]
  },
  {
   "cell_type": "code",
   "execution_count": null,
   "id": "23e00b5c",
   "metadata": {},
   "outputs": [],
   "source": [
    "X_with_label[\"cluster\"].value_counts()"
   ]
  },
  {
   "cell_type": "code",
   "execution_count": null,
   "id": "153d979c",
   "metadata": {},
   "outputs": [],
   "source": [
    "fig, ax = plt.subplots(figsize=(15, 10), nrows=2, ncols=2)\n",
    "sns.histplot(data=X_with_label[X_with_label[\"cluster\"] == 0], x=\"label\", ax = ax[0][0])\n",
    "sns.histplot(data=X_with_label[X_with_label[\"cluster\"] == 1], x=\"label\", ax = ax[0][1])\n",
    "sns.histplot(data=X_with_label[X_with_label[\"cluster\"] == 2], x=\"label\", ax = ax[1][0])"
   ]
  },
  {
   "cell_type": "code",
   "execution_count": null,
   "id": "a677e124",
   "metadata": {},
   "outputs": [],
   "source": [
    "sns.scatterplot(data=X_with_label, x=\"__index_level_0__\", y = \"label\", hue=\"cluster\")"
   ]
  },
  {
   "cell_type": "code",
   "execution_count": null,
   "id": "3b40c690",
   "metadata": {},
   "outputs": [],
   "source": [
    "X_with_label = train_df.select([\"__index_level_0__\", \"volume\", \"bid_qty\", \"ask_qty\", \"label\"]).collect().to_pandas()\n",
    "X = X_with_label.drop([\"label\", \"__index_level_0__\"], axis = 1).to_numpy()\n",
    "kmeans = KMeans(n_clusters=3, random_state=101)\n",
    "kmeans.fit(X)\n",
    "X_with_label[\"cluster\"] = kmeans.labels_.tolist()"
   ]
  },
  {
   "cell_type": "code",
   "execution_count": null,
   "id": "67c9a53c",
   "metadata": {},
   "outputs": [],
   "source": [
    "sns.histplot(data=X_with_label, x=\"label\", hue=\"cluster\")"
   ]
  },
  {
   "cell_type": "code",
   "execution_count": null,
   "id": "e8bf97f8",
   "metadata": {},
   "outputs": [],
   "source": [
    "X_with_label[\"cluster\"].value_counts()"
   ]
  },
  {
   "cell_type": "code",
   "execution_count": null,
   "id": "62419c8c",
   "metadata": {},
   "outputs": [],
   "source": [
    "fig, ax = plt.subplots(figsize=(15, 10), nrows=2, ncols=2)\n",
    "sns.histplot(data=X_with_label[X_with_label[\"cluster\"] == 0], x=\"label\", ax = ax[0][0])\n",
    "sns.histplot(data=X_with_label[X_with_label[\"cluster\"] == 1], x=\"label\", ax = ax[0][1])\n",
    "sns.histplot(data=X_with_label[X_with_label[\"cluster\"] == 2], x=\"label\", ax = ax[1][0])"
   ]
  },
  {
   "cell_type": "code",
   "execution_count": null,
   "id": "4dbbf970",
   "metadata": {},
   "outputs": [],
   "source": [
    "sns.scatterplot(data=X_with_label, x=\"__index_level_0__\", y = \"label\", hue=\"cluster\")"
   ]
  },
  {
   "cell_type": "code",
   "execution_count": null,
   "id": "ffa44256",
   "metadata": {},
   "outputs": [],
   "source": [
    "X_with_label = train_df.select([\"__index_level_0__\", \"volume\", \"buy_qty\", \"sell_qty\", \"label\"]).collect().to_pandas()\n",
    "X = X_with_label.drop([\"label\", \"__index_level_0__\"], axis = 1).to_numpy()\n",
    "kmeans = KMeans(n_clusters=3, random_state=101)\n",
    "kmeans.fit(X)\n",
    "X_with_label[\"cluster\"] = kmeans.labels_.tolist()"
   ]
  },
  {
   "cell_type": "code",
   "execution_count": null,
   "id": "b812892a",
   "metadata": {},
   "outputs": [],
   "source": [
    "sns.histplot(data=X_with_label, x=\"label\", hue=\"cluster\")"
   ]
  },
  {
   "cell_type": "code",
   "execution_count": null,
   "id": "2c9f3402",
   "metadata": {},
   "outputs": [],
   "source": [
    "X_with_label[\"cluster\"].value_counts()"
   ]
  },
  {
   "cell_type": "code",
   "execution_count": null,
   "id": "f9c8db87",
   "metadata": {},
   "outputs": [],
   "source": [
    "fig, ax = plt.subplots(figsize=(15, 10), nrows=2, ncols=2)\n",
    "sns.histplot(data=X_with_label[X_with_label[\"cluster\"] == 0], x=\"label\", ax = ax[0][0])\n",
    "sns.histplot(data=X_with_label[X_with_label[\"cluster\"] == 1], x=\"label\", ax = ax[0][1])\n",
    "sns.histplot(data=X_with_label[X_with_label[\"cluster\"] == 2], x=\"label\", ax = ax[1][0])"
   ]
  },
  {
   "cell_type": "code",
   "execution_count": null,
   "id": "713dcefa",
   "metadata": {},
   "outputs": [],
   "source": [
    "sns.scatterplot(data=X_with_label, x=\"__index_level_0__\", y = \"label\", hue=\"cluster\")"
   ]
  },
  {
   "cell_type": "markdown",
   "id": "726b25bf",
   "metadata": {},
   "source": [
    "Analyze interaction between top features and target"
   ]
  },
  {
   "cell_type": "code",
   "execution_count": 19,
   "id": "0ef3bffe",
   "metadata": {},
   "outputs": [],
   "source": [
    "best_features = ['X757', 'X758', 'X759', 'X508', 'X614', 'X752', 'X331', 'X445', 'X465', 'X385', \n",
    "                 'X466', 'X95', 'X23', 'X219', 'X31', 'X373', 'X379', 'X284', 'X750', 'X652', \n",
    "                 'X279', 'X89', 'X169', 'X753', 'X226', 'X28', 'X444', 'X272', 'X271', 'X218']\n",
    "best_features_interaction_label_corr = {}\n",
    "\n",
    "for i in range(len(best_features) - 1):\n",
    "    # best_features_interaction_label_corr[best_features[i]] = train_df.select(pl.corr(best_features[i], \"label\")).collect().item()\n",
    "    for j in range(i + 1, len(best_features)):\n",
    "        col1 = best_features[i]\n",
    "        col2 = best_features[j]\n",
    "        corr = train_df.with_columns(\n",
    "            (pl.col(col1) * pl.col(col2)).alias(f\"{col1}_{col2}_interaction\")\n",
    "        ).select(pl.corr(f\"{col1}_{col2}_interaction\", \"label\")).collect().item()\n",
    "        best_features_interaction_label_corr[f\"{col1}_{col2}_interaction\"] = corr"
   ]
  },
  {
   "cell_type": "code",
   "execution_count": 20,
   "id": "c89cd22c",
   "metadata": {},
   "outputs": [
    {
     "name": "stdout",
     "output_type": "stream",
     "text": [
      "0.061585499345195485 -0.047758517464216416\n"
     ]
    }
   ],
   "source": [
    "print(max(best_features_interaction_label_corr.values()), min(best_features_interaction_label_corr.values()))"
   ]
  },
  {
   "cell_type": "code",
   "execution_count": 21,
   "id": "e44dcacd",
   "metadata": {},
   "outputs": [],
   "source": [
    "best_features = ['X757', 'X758', 'X759', 'X508', 'X614', 'X752', 'X331', 'X445', 'X465', 'X385', \n",
    "                 'X466', 'X95', 'X23', 'X219', 'X31', 'X373', 'X379', 'X284', 'X750', 'X652', \n",
    "                 'X279', 'X89', 'X169', 'X753', 'X226', 'X28', 'X444', 'X272', 'X271', 'X218']\n",
    "best_features_interaction_label_corr = {}\n",
    "\n",
    "for i in range(len(best_features)):\n",
    "    #best_features_interaction_label_corr[best_features[i]] = train_df.select(pl.corr(best_features[i], \"label\")).collect().item()\n",
    "    for j in range(i + 1, len(best_features)):\n",
    "        col1 = best_features[i]\n",
    "        col2 = best_features[j]\n",
    "        corr = train_df.with_columns(\n",
    "            (pl.col(col1).exp() * pl.col(col2).exp()).alias(f\"{col1}_{col2}_interaction\")\n",
    "        ).select(pl.corr(f\"{col1}_{col2}_interaction\", \"label\")).collect().item()\n",
    "        best_features_interaction_label_corr[f\"{col1}_{col2}_interaction\"] = corr"
   ]
  },
  {
   "cell_type": "code",
   "execution_count": 22,
   "id": "99e88945",
   "metadata": {},
   "outputs": [
    {
     "name": "stdout",
     "output_type": "stream",
     "text": [
      "0.08441087509663686 -0.046009773680294394\n"
     ]
    }
   ],
   "source": [
    "print(max(best_features_interaction_label_corr.values()), min(best_features_interaction_label_corr.values()))"
   ]
  },
  {
   "cell_type": "code",
   "execution_count": 29,
   "id": "18501461",
   "metadata": {},
   "outputs": [
    {
     "name": "stderr",
     "output_type": "stream",
     "text": [
      "100%|██████████| 30/30 [00:21<00:00,  1.37it/s]\n"
     ]
    }
   ],
   "source": [
    "best_features = ['X757', 'X758', 'X759', 'X508', 'X614', 'X752', 'X331', 'X445', 'X465', 'X385', \n",
    "                 'X466', 'X95', 'X23', 'X219', 'X31', 'X373', 'X379', 'X284', 'X750', 'X652', \n",
    "                 'X279', 'X89', 'X169', 'X753', 'X226', 'X28', 'X444', 'X272', 'X271', 'X218']\n",
    "best_features_interaction_label_corr_1 = {}\n",
    "best_features_interaction_label_corr_2 = {}\n",
    "best_features_interaction_label_corr_3 = {}\n",
    "best_features_interaction_label_corr_4 = {}\n",
    "\n",
    "for i in tqdm(range(len(best_features))):\n",
    "    best_features_interaction_label_corr_1[best_features[i]] = train_df.select(pl.corr(best_features[i], \"label\")).collect().item()\n",
    "    for j in range(i, len(best_features)):\n",
    "        if i != j:\n",
    "            col1 = best_features[i]\n",
    "            col2 = best_features[j]\n",
    "            corr = train_df.with_columns(\n",
    "                (pl.col(col1) * pl.col(col2)).alias(f\"{col1}_{col2}_interaction\")\n",
    "            ).select(pl.corr(f\"{col1}_{col2}_interaction\", \"label\")).collect().item()\n",
    "            best_features_interaction_label_corr_2[f\"{col1}_{col2}_interaction\"] = corr\n",
    "            for k in range(j, len(best_features)):\n",
    "                if j != k:\n",
    "                    col3 = best_features[k]\n",
    "                    corr = train_df.with_columns(\n",
    "                        (pl.col(col1) * pl.col(col2) * pl.col(col3)).alias(f\"{col1}_{col2}_{col3}_interaction\")\n",
    "                    ).select(pl.corr(f\"{col1}_{col2}_{col3}_interaction\", \"label\")).collect().item()\n",
    "                    best_features_interaction_label_corr_3[f\"{col1}_{col2}_{col3}_interaction\"] = corr\n",
    "                    for l in range(k, len(best_features)):\n",
    "                        if k != l:\n",
    "                            col4 = best_features[l]\n",
    "                            corr = train_df.with_columns(\n",
    "                                (pl.col(col1) * pl.col(col2) * pl.col(col3) * pl.col(col4)).alias(f\"{col1}_{col2}_{col3}_{col4}_interaction\")\n",
    "                            ).select(pl.corr(f\"{col1}_{col2}_{col3}_{col4}_interaction\", \"label\")).collect().item()\n",
    "                            best_features_interaction_label_corr_4[f\"{col1}_{col2}_{col3}_{col4}_interaction\"] = corr"
   ]
  },
  {
   "cell_type": "code",
   "execution_count": 30,
   "id": "cfb7fc67",
   "metadata": {},
   "outputs": [
    {
     "name": "stdout",
     "output_type": "stream",
     "text": [
      "0.09056130214388529 -0.04294828230956148\n",
      "0.061585499345195485 -0.047758517464216416\n",
      "0.10510170348574646 -0.09526577444022204\n",
      "0.09845914721458159 -0.09562000962532145\n"
     ]
    }
   ],
   "source": [
    "print(max(best_features_interaction_label_corr_1.values()), min(best_features_interaction_label_corr_1.values()))\n",
    "print(max(best_features_interaction_label_corr_2.values()), min(best_features_interaction_label_corr_2.values()))\n",
    "print(max(best_features_interaction_label_corr_3.values()), min(best_features_interaction_label_corr_3.values()))\n",
    "print(max(best_features_interaction_label_corr_4.values()), min(best_features_interaction_label_corr_4.values()))"
   ]
  },
  {
   "cell_type": "code",
   "execution_count": 31,
   "id": "465b3608",
   "metadata": {},
   "outputs": [
    {
     "data": {
      "text/plain": [
       "['X758_X508_X219_interaction',\n",
       " 'X758_X508_X218_interaction',\n",
       " 'X758_X219_X89_interaction']"
      ]
     },
     "execution_count": 31,
     "metadata": {},
     "output_type": "execute_result"
    }
   ],
   "source": [
    "[k for k in best_features_interaction_label_corr_3 if abs(best_features_interaction_label_corr_3[k]) >= 0.095]"
   ]
  },
  {
   "cell_type": "code",
   "execution_count": 26,
   "id": "9e771229",
   "metadata": {},
   "outputs": [],
   "source": [
    "best_features = ['X757', 'X758', 'X759', 'X508', 'X614', 'X752', 'X331', 'X445', 'X465', 'X385', \n",
    "                 'X466', 'X95', 'X23', 'X219', 'X31', 'X373', 'X379', 'X284', 'X750', 'X652', \n",
    "                 'X279', 'X89', 'X169', 'X753', 'X226', 'X28', 'X444', 'X272', 'X271', 'X218']\n",
    "best_features_interaction_label_corr_1 = {}\n",
    "best_features_interaction_label_corr_2 = {}\n",
    "best_features_interaction_label_corr_3 = {}\n",
    "\n",
    "for i in range(len(best_features) - 2):\n",
    "    corr = train_df.select(pl.corr(pl.col(best_features[i]).exp(), \"label\")).collect().item()\n",
    "    best_features_interaction_label_corr_1[best_features[i]] = corr\n",
    "    for j in range(i, len(best_features)):\n",
    "        if i != j:\n",
    "            col1 = best_features[i]\n",
    "            col2 = best_features[j]\n",
    "            corr = train_df.with_columns(\n",
    "                (pl.col(col1).exp() * pl.col(col2).exp()).alias(f\"{col1}_{col2}_interaction\")\n",
    "            ).select(pl.corr(f\"{col1}_{col2}_interaction\", \"label\")).collect().item()\n",
    "            best_features_interaction_label_corr_2[f\"{col1}_{col2}_interaction\"] = corr\n",
    "            for k in range(j, len(best_features)):\n",
    "                if j != k:\n",
    "                    col3 = best_features[k]\n",
    "                    corr = train_df.with_columns(\n",
    "                        (pl.col(col1).exp() * pl.col(col2).exp() * pl.col(col3).exp()).alias(f\"{col1}_{col2}_{col3}_interaction\")\n",
    "                    ).select(pl.corr(f\"{col1}_{col2}_{col3}_interaction\", \"label\")).collect().item()\n",
    "                    best_features_interaction_label_corr_3[f\"{col1}_{col2}_{col3}_interaction\"] = corr"
   ]
  },
  {
   "cell_type": "code",
   "execution_count": 27,
   "id": "1a6e3e28",
   "metadata": {},
   "outputs": [
    {
     "name": "stdout",
     "output_type": "stream",
     "text": [
      "0.05601527469319152 -0.024852069188992864\n",
      "0.08441087509663686 -0.046009773680294394\n",
      "0.09228703370568721 -0.046851553564968486\n"
     ]
    }
   ],
   "source": [
    "print(max(best_features_interaction_label_corr_1.values()), min(best_features_interaction_label_corr_1.values()))\n",
    "print(max(best_features_interaction_label_corr_2.values()), min(best_features_interaction_label_corr_2.values()))\n",
    "print(max(best_features_interaction_label_corr_3.values()), min(best_features_interaction_label_corr_3.values()))"
   ]
  },
  {
   "cell_type": "markdown",
   "id": "54436a12",
   "metadata": {},
   "source": [
    "Detect data drift among top features"
   ]
  },
  {
   "cell_type": "code",
   "execution_count": 22,
   "id": "d1459482",
   "metadata": {},
   "outputs": [
    {
     "name": "stdout",
     "output_type": "stream",
     "text": [
      "Feature without data drift\n"
     ]
    }
   ],
   "source": [
    "best_features = ['X757', 'X758', 'X759', 'X508', 'X614', 'X752', 'X331', 'X445', 'X465', 'X385', \n",
    "                 'X466', 'X95', 'X23', 'X219', 'X31', 'X373', 'X379', 'X284', 'X750', 'X652', \n",
    "                 'X279', 'X89', 'X169', 'X753', 'X226', 'X28', 'X444', 'X272', 'X271', 'X218']\n",
    "features = [col for col in train_df.collect_schema().keys() if \"X\" in col]\n",
    "print(\"Feature without data drift\")\n",
    "for feature in best_features:\n",
    "    train_feature = train_df.select(feature).collect().to_numpy().flatten()\n",
    "    test_feature = test_df.select(feature).collect().to_numpy().flatten()\n",
    "    statistic, p_value = ks_2samp(train_feature, test_feature)\n",
    "    if p_value > 0.05:\n",
    "        print(feature)"
   ]
  }
 ],
 "metadata": {
  "kernelspec": {
   "display_name": "venv",
   "language": "python",
   "name": "python3"
  },
  "language_info": {
   "codemirror_mode": {
    "name": "ipython",
    "version": 3
   },
   "file_extension": ".py",
   "mimetype": "text/x-python",
   "name": "python",
   "nbconvert_exporter": "python",
   "pygments_lexer": "ipython3",
   "version": "3.9.6"
  }
 },
 "nbformat": 4,
 "nbformat_minor": 5
}
