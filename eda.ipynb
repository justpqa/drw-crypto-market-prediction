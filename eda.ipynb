{
 "cells": [
  {
   "cell_type": "code",
   "execution_count": 1,
   "id": "4ea9bfa1",
   "metadata": {},
   "outputs": [],
   "source": [
    "from tqdm import tqdm\n",
    "import gc\n",
    "import pickle\n",
    "import pandas as pd\n",
    "import polars as pl\n",
    "import numpy as np\n",
    "import matplotlib.pyplot as plt\n",
    "import seaborn as sns\n",
    "from sklearn.decomposition import PCA, IncrementalPCA\n",
    "from statsmodels.graphics.tsaplots import plot_acf, plot_pacf\n",
    "from scipy.stats import levene, f_oneway\n",
    "from scipy.cluster.hierarchy import linkage, dendrogram\n",
    "from scipy.spatial.distance import pdist\n",
    "from scipy.cluster.hierarchy import fcluster\n",
    "from sklearn.cluster import KMeans\n",
    "import statsmodels.api as sm\n",
    "from statsmodels.formula.api import ols"
   ]
  },
  {
   "cell_type": "code",
   "execution_count": 2,
   "id": "c93e7217",
   "metadata": {},
   "outputs": [],
   "source": [
    "train_df = pl.read_parquet(\n",
    "    \"data/raw/train.parquet\",\n",
    "    use_pyarrow=True,   \n",
    "    low_memory=True\n",
    ").lazy()"
   ]
  },
  {
   "cell_type": "code",
   "execution_count": 3,
   "id": "7ff8adc0",
   "metadata": {},
   "outputs": [],
   "source": [
    "test_df = pl.read_parquet(\n",
    "    \"data/raw/test.parquet\",\n",
    "    use_pyarrow=True,   \n",
    "    low_memory=True\n",
    ").lazy()"
   ]
  },
  {
   "cell_type": "code",
   "execution_count": 4,
   "id": "9968ed2b",
   "metadata": {},
   "outputs": [
    {
     "name": "stdout",
     "output_type": "stream",
     "text": [
      "['bid_qty', 'ask_qty', 'buy_qty', 'sell_qty', 'volume', 'X1', 'X2', 'X3', 'X4', 'X5', 'X6', 'X7', 'X8', 'X9', 'X10', 'X11', 'X12', 'X13', 'X14', 'X15', 'X16', 'X17', 'X18', 'X19', 'X20', 'X21', 'X22', 'X23', 'X24', 'X25', 'X26', 'X27', 'X28', 'X29', 'X30', 'X31', 'X32', 'X33', 'X34', 'X35', 'X36', 'X37', 'X38', 'X39', 'X40', 'X41', 'X42', 'X43', 'X44', 'X45', 'X46', 'X47', 'X48', 'X49', 'X50', 'X51', 'X52', 'X53', 'X54', 'X55', 'X56', 'X57', 'X58', 'X59', 'X60', 'X61', 'X62', 'X63', 'X64', 'X65', 'X66', 'X67', 'X68', 'X69', 'X70', 'X71', 'X72', 'X73', 'X74', 'X75', 'X76', 'X77', 'X78', 'X79', 'X80', 'X81', 'X82', 'X83', 'X84', 'X85', 'X86', 'X87', 'X88', 'X89', 'X90', 'X91', 'X92', 'X93', 'X94', 'X95', 'X96', 'X97', 'X98', 'X99', 'X100', 'X101', 'X102', 'X103', 'X104', 'X105', 'X106', 'X107', 'X108', 'X109', 'X110', 'X111', 'X112', 'X113', 'X114', 'X115', 'X116', 'X117', 'X118', 'X119', 'X120', 'X121', 'X122', 'X123', 'X124', 'X125', 'X126', 'X127', 'X128', 'X129', 'X130', 'X131', 'X132', 'X133', 'X134', 'X135', 'X136', 'X137', 'X138', 'X139', 'X140', 'X141', 'X142', 'X143', 'X144', 'X145', 'X146', 'X147', 'X148', 'X149', 'X150', 'X151', 'X152', 'X153', 'X154', 'X155', 'X156', 'X157', 'X158', 'X159', 'X160', 'X161', 'X162', 'X163', 'X164', 'X165', 'X166', 'X167', 'X168', 'X169', 'X170', 'X171', 'X172', 'X173', 'X174', 'X175', 'X176', 'X177', 'X178', 'X179', 'X180', 'X181', 'X182', 'X183', 'X184', 'X185', 'X186', 'X187', 'X188', 'X189', 'X190', 'X191', 'X192', 'X193', 'X194', 'X195', 'X196', 'X197', 'X198', 'X199', 'X200', 'X201', 'X202', 'X203', 'X204', 'X205', 'X206', 'X207', 'X208', 'X209', 'X210', 'X211', 'X212', 'X213', 'X214', 'X215', 'X216', 'X217', 'X218', 'X219', 'X220', 'X221', 'X222', 'X223', 'X224', 'X225', 'X226', 'X227', 'X228', 'X229', 'X230', 'X231', 'X232', 'X233', 'X234', 'X235', 'X236', 'X237', 'X238', 'X239', 'X240', 'X241', 'X242', 'X243', 'X244', 'X245', 'X246', 'X247', 'X248', 'X249', 'X250', 'X251', 'X252', 'X253', 'X254', 'X255', 'X256', 'X257', 'X258', 'X259', 'X260', 'X261', 'X262', 'X263', 'X264', 'X265', 'X266', 'X267', 'X268', 'X269', 'X270', 'X271', 'X272', 'X273', 'X274', 'X275', 'X276', 'X277', 'X278', 'X279', 'X280', 'X281', 'X282', 'X283', 'X284', 'X285', 'X286', 'X287', 'X288', 'X289', 'X290', 'X291', 'X292', 'X293', 'X294', 'X295', 'X296', 'X297', 'X298', 'X299', 'X300', 'X301', 'X302', 'X303', 'X304', 'X305', 'X306', 'X307', 'X308', 'X309', 'X310', 'X311', 'X312', 'X313', 'X314', 'X315', 'X316', 'X317', 'X318', 'X319', 'X320', 'X321', 'X322', 'X323', 'X324', 'X325', 'X326', 'X327', 'X328', 'X329', 'X330', 'X331', 'X332', 'X333', 'X334', 'X335', 'X336', 'X337', 'X338', 'X339', 'X340', 'X341', 'X342', 'X343', 'X344', 'X345', 'X346', 'X347', 'X348', 'X349', 'X350', 'X351', 'X352', 'X353', 'X354', 'X355', 'X356', 'X357', 'X358', 'X359', 'X360', 'X361', 'X362', 'X363', 'X364', 'X365', 'X366', 'X367', 'X368', 'X369', 'X370', 'X371', 'X372', 'X373', 'X374', 'X375', 'X376', 'X377', 'X378', 'X379', 'X380', 'X381', 'X382', 'X383', 'X384', 'X385', 'X386', 'X387', 'X388', 'X389', 'X390', 'X391', 'X392', 'X393', 'X394', 'X395', 'X396', 'X397', 'X398', 'X399', 'X400', 'X401', 'X402', 'X403', 'X404', 'X405', 'X406', 'X407', 'X408', 'X409', 'X410', 'X411', 'X412', 'X413', 'X414', 'X415', 'X416', 'X417', 'X418', 'X419', 'X420', 'X421', 'X422', 'X423', 'X424', 'X425', 'X426', 'X427', 'X428', 'X429', 'X430', 'X431', 'X432', 'X433', 'X434', 'X435', 'X436', 'X437', 'X438', 'X439', 'X440', 'X441', 'X442', 'X443', 'X444', 'X445', 'X446', 'X447', 'X448', 'X449', 'X450', 'X451', 'X452', 'X453', 'X454', 'X455', 'X456', 'X457', 'X458', 'X459', 'X460', 'X461', 'X462', 'X463', 'X464', 'X465', 'X466', 'X467', 'X468', 'X469', 'X470', 'X471', 'X472', 'X473', 'X474', 'X475', 'X476', 'X477', 'X478', 'X479', 'X480', 'X481', 'X482', 'X483', 'X484', 'X485', 'X486', 'X487', 'X488', 'X489', 'X490', 'X491', 'X492', 'X493', 'X494', 'X495', 'X496', 'X497', 'X498', 'X499', 'X500', 'X501', 'X502', 'X503', 'X504', 'X505', 'X506', 'X507', 'X508', 'X509', 'X510', 'X511', 'X512', 'X513', 'X514', 'X515', 'X516', 'X517', 'X518', 'X519', 'X520', 'X521', 'X522', 'X523', 'X524', 'X525', 'X526', 'X527', 'X528', 'X529', 'X530', 'X531', 'X532', 'X533', 'X534', 'X535', 'X536', 'X537', 'X538', 'X539', 'X540', 'X541', 'X542', 'X543', 'X544', 'X545', 'X546', 'X547', 'X548', 'X549', 'X550', 'X551', 'X552', 'X553', 'X554', 'X555', 'X556', 'X557', 'X558', 'X559', 'X560', 'X561', 'X562', 'X563', 'X564', 'X565', 'X566', 'X567', 'X568', 'X569', 'X570', 'X571', 'X572', 'X573', 'X574', 'X575', 'X576', 'X577', 'X578', 'X579', 'X580', 'X581', 'X582', 'X583', 'X584', 'X585', 'X586', 'X587', 'X588', 'X589', 'X590', 'X591', 'X592', 'X593', 'X594', 'X595', 'X596', 'X597', 'X598', 'X599', 'X600', 'X601', 'X602', 'X603', 'X604', 'X605', 'X606', 'X607', 'X608', 'X609', 'X610', 'X611', 'X612', 'X613', 'X614', 'X615', 'X616', 'X617', 'X618', 'X619', 'X620', 'X621', 'X622', 'X623', 'X624', 'X625', 'X626', 'X627', 'X628', 'X629', 'X630', 'X631', 'X632', 'X633', 'X634', 'X635', 'X636', 'X637', 'X638', 'X639', 'X640', 'X641', 'X642', 'X643', 'X644', 'X645', 'X646', 'X647', 'X648', 'X649', 'X650', 'X651', 'X652', 'X653', 'X654', 'X655', 'X656', 'X657', 'X658', 'X659', 'X660', 'X661', 'X662', 'X663', 'X664', 'X665', 'X666', 'X667', 'X668', 'X669', 'X670', 'X671', 'X672', 'X673', 'X674', 'X675', 'X676', 'X677', 'X678', 'X679', 'X680', 'X681', 'X682', 'X683', 'X684', 'X685', 'X686', 'X687', 'X688', 'X689', 'X690', 'X691', 'X692', 'X693', 'X694', 'X695', 'X696', 'X697', 'X698', 'X699', 'X700', 'X701', 'X702', 'X703', 'X704', 'X705', 'X706', 'X707', 'X708', 'X709', 'X710', 'X711', 'X712', 'X713', 'X714', 'X715', 'X716', 'X717', 'X718', 'X719', 'X720', 'X721', 'X722', 'X723', 'X724', 'X725', 'X726', 'X727', 'X728', 'X729', 'X730', 'X731', 'X732', 'X733', 'X734', 'X735', 'X736', 'X737', 'X738', 'X739', 'X740', 'X741', 'X742', 'X743', 'X744', 'X745', 'X746', 'X747', 'X748', 'X749', 'X750', 'X751', 'X752', 'X753', 'X754', 'X755', 'X756', 'X757', 'X758', 'X759', 'X760', 'X761', 'X762', 'X763', 'X764', 'X765', 'X766', 'X767', 'X768', 'X769', 'X770', 'X771', 'X772', 'X773', 'X774', 'X775', 'X776', 'X777', 'X778', 'X779', 'X780', 'label', '__index_level_0__']\n"
     ]
    },
    {
     "name": "stderr",
     "output_type": "stream",
     "text": [
      "/var/folders/5b/jn4p_4vx7j9gx2jdrmbjlxnr0000gn/T/ipykernel_37754/293337480.py:1: PerformanceWarning: Determining the column names of a LazyFrame requires resolving its schema, which is a potentially expensive operation. Use `LazyFrame.collect_schema().names()` to get the column names without this warning.\n",
      "  print(train_df.columns)\n"
     ]
    }
   ],
   "source": [
    "print(train_df.columns)"
   ]
  },
  {
   "cell_type": "code",
   "execution_count": 5,
   "id": "98e35c4d",
   "metadata": {},
   "outputs": [
    {
     "data": {
      "text/plain": [
       "Text(0.5, 1.0, 'Label Distribution')"
      ]
     },
     "execution_count": 5,
     "metadata": {},
     "output_type": "execute_result"
    },
    {
     "data": {
      "image/png": "[encoded data removed]",
      "text/plain": [
       "<Figure size 640x480 with 1 Axes>"
      ]
     },
     "metadata": {},
     "output_type": "display_data"
    }
   ],
   "source": [
    "sns.histplot(train_df.select(\"label\").collect().to_numpy())\n",
    "plt.xlim([-7.5, 7.5])\n",
    "plt.title(\"Label Distribution\")"
   ]
  },
  {
   "cell_type": "code",
   "execution_count": 6,
   "id": "588743b8",
   "metadata": {},
   "outputs": [
    {
     "name": "stdout",
     "output_type": "stream",
     "text": [
      "-0.3815867679423254 0.4341385161847758\n"
     ]
    }
   ],
   "source": [
    "print(train_df.select(\"label\").quantile(0.25, \"nearest\").collect().item(), train_df.select(\"label\").quantile(0.75, \"nearest\").collect().item())"
   ]
  },
  {
   "cell_type": "code",
   "execution_count": 7,
   "id": "21ebdcc7",
   "metadata": {},
   "outputs": [
    {
     "data": {
      "text/html": [
       "<div><style>\n",
       ".dataframe > thead > tr,\n",
       ".dataframe > tbody > tr {\n",
       "  text-align: right;\n",
       "  white-space: pre-wrap;\n",
       "}\n",
       "</style>\n",
       "<small>shape: (525_886, 1)</small><table border=\"1\" class=\"dataframe\"><thead><tr><th>__index_level_0__</th></tr><tr><td>datetime[ns]</td></tr></thead><tbody><tr><td>2023-03-01 00:00:00</td></tr><tr><td>2023-03-01 00:01:00</td></tr><tr><td>2023-03-01 00:02:00</td></tr><tr><td>2023-03-01 00:03:00</td></tr><tr><td>2023-03-01 00:04:00</td></tr><tr><td>&hellip;</td></tr><tr><td>2024-02-29 23:55:00</td></tr><tr><td>2024-02-29 23:56:00</td></tr><tr><td>2024-02-29 23:57:00</td></tr><tr><td>2024-02-29 23:58:00</td></tr><tr><td>2024-02-29 23:59:00</td></tr></tbody></table></div>"
      ],
      "text/plain": [
       "shape: (525_886, 1)\n",
       "┌─────────────────────┐\n",
       "│ __index_level_0__   │\n",
       "│ ---                 │\n",
       "│ datetime[ns]        │\n",
       "╞═════════════════════╡\n",
       "│ 2023-03-01 00:00:00 │\n",
       "│ 2023-03-01 00:01:00 │\n",
       "│ 2023-03-01 00:02:00 │\n",
       "│ 2023-03-01 00:03:00 │\n",
       "│ 2023-03-01 00:04:00 │\n",
       "│ …                   │\n",
       "│ 2024-02-29 23:55:00 │\n",
       "│ 2024-02-29 23:56:00 │\n",
       "│ 2024-02-29 23:57:00 │\n",
       "│ 2024-02-29 23:58:00 │\n",
       "│ 2024-02-29 23:59:00 │\n",
       "└─────────────────────┘"
      ]
     },
     "execution_count": 7,
     "metadata": {},
     "output_type": "execute_result"
    }
   ],
   "source": [
    "train_df.select(\"__index_level_0__\").collect()"
   ]
  },
  {
   "cell_type": "code",
   "execution_count": null,
   "id": "4791c11f",
   "metadata": {},
   "outputs": [],
   "source": [
    "# drop timestamp since test data does not have timestamp\n",
    "train_df = train_df.drop(\"__index_level_0__\")"
   ]
  },
  {
   "cell_type": "code",
   "execution_count": 8,
   "id": "b1c61f52",
   "metadata": {},
   "outputs": [
    {
     "data": {
      "text/plain": [
       "[]"
      ]
     },
     "execution_count": 8,
     "metadata": {},
     "output_type": "execute_result"
    }
   ],
   "source": [
    "# Check for nas in train or test\n",
    "temp = train_df.null_count().collect()\n",
    "has_null_col = [col for col in temp.columns if temp[col].sum() != 0]\n",
    "has_null_col"
   ]
  },
  {
   "cell_type": "code",
   "execution_count": 9,
   "id": "3457572d",
   "metadata": {},
   "outputs": [
    {
     "data": {
      "text/plain": [
       "[]"
      ]
     },
     "execution_count": 9,
     "metadata": {},
     "output_type": "execute_result"
    }
   ],
   "source": [
    "temp = test_df.null_count().collect()\n",
    "has_null_col = [col for col in temp.columns if temp[col].sum() != 0]\n",
    "has_null_col\n",
    "# no nas issue in train and test"
   ]
  },
  {
   "cell_type": "code",
   "execution_count": 10,
   "id": "62c8f8ae",
   "metadata": {},
   "outputs": [
    {
     "name": "stdout",
     "output_type": "stream",
     "text": [
      "{Float64, Datetime(time_unit='ns', time_zone=None)}\n"
     ]
    },
    {
     "name": "stderr",
     "output_type": "stream",
     "text": [
      "/var/folders/5b/jn4p_4vx7j9gx2jdrmbjlxnr0000gn/T/ipykernel_37754/1737341288.py:2: PerformanceWarning: Determining the data types of a LazyFrame requires resolving its schema, which is a potentially expensive operation. Use `LazyFrame.collect_schema().dtypes()` to get the data types without this warning.\n",
      "  print(set(train_df.dtypes))\n"
     ]
    }
   ],
   "source": [
    "# check all possible datatypes\n",
    "print(set(train_df.dtypes))"
   ]
  },
  {
   "cell_type": "code",
   "execution_count": 11,
   "id": "ae0884b4",
   "metadata": {},
   "outputs": [
    {
     "name": "stderr",
     "output_type": "stream",
     "text": [
      "/var/folders/5b/jn4p_4vx7j9gx2jdrmbjlxnr0000gn/T/ipykernel_37754/2295361549.py:3: PerformanceWarning: Determining the column names of a LazyFrame requires resolving its schema, which is a potentially expensive operation. Use `LazyFrame.collect_schema().names()` to get the column names without this warning.\n",
      "  for col in train_df.columns:\n"
     ]
    },
    {
     "name": "stdout",
     "output_type": "stream",
     "text": [
      "[]\n"
     ]
    }
   ],
   "source": [
    "# check for possible constant columns\n",
    "constant_columns = []\n",
    "for col in train_df.columns:\n",
    "    if train_df.select(col).min().collect()[0, 0] == train_df.select(col).max().collect()[0, 0]:\n",
    "        constant_columns.append(col)\n",
    "print(constant_columns)"
   ]
  },
  {
   "cell_type": "code",
   "execution_count": 12,
   "id": "99119258",
   "metadata": {},
   "outputs": [
    {
     "name": "stdout",
     "output_type": "stream",
     "text": [
      "set()\n"
     ]
    }
   ],
   "source": [
    "# check if same issue might also appear in test\n",
    "actual_constant_columns = []\n",
    "for col in constant_columns:\n",
    "    if train_df.select(col).min().collect()[0, 0] == train_df.select(col).max().collect()[0, 0]:\n",
    "        actual_constant_columns.append(col)\n",
    "print(set(constant_columns) - set(actual_constant_columns)) # all are constant => can remove?"
   ]
  },
  {
   "cell_type": "code",
   "execution_count": 13,
   "id": "59d133bd",
   "metadata": {},
   "outputs": [],
   "source": [
    "train_df = train_df.drop(actual_constant_columns)"
   ]
  },
  {
   "cell_type": "code",
   "execution_count": 14,
   "id": "8d591291",
   "metadata": {},
   "outputs": [],
   "source": [
    "# # get columns pair that is perfectly (or very highly) correlated\n",
    "# correlated_pair = []\n",
    "# col_names = train_df.collect_schema().names()\n",
    "# for i in tqdm(range(len(col_names) - 1)):\n",
    "#     col1 = col_names[i]\n",
    "#     if col1 not in constant_columns:\n",
    "#         for j in range(i + 1, len(col_names)):\n",
    "#             col2 = col_names[j]\n",
    "#             if col2 not in constant_columns:\n",
    "#                 x = train_df.select(col1).collect()[col1].to_numpy()\n",
    "#                 y = train_df.select(col2).collect()[col2].to_numpy()\n",
    "#                 if np.corrcoef(x, y)[0][1] == 1:\n",
    "#                     correlated_pair.append(f\"{col1}-{col2}\")\n",
    "# print(correlated_pair)\n",
    "# print(len(correlated_pair))"
   ]
  },
  {
   "cell_type": "code",
   "execution_count": 15,
   "id": "a6e3e7d2",
   "metadata": {},
   "outputs": [
    {
     "data": {
      "text/plain": [
       "{'X104-X146',\n",
       " 'X116-X158',\n",
       " 'X309-X351',\n",
       " 'X309-X393',\n",
       " 'X315-X357',\n",
       " 'X315-X399',\n",
       " 'X351-X393',\n",
       " 'X357-X399',\n",
       " 'X62-X104',\n",
       " 'X62-X146',\n",
       " 'X74-X116',\n",
       " 'X74-X158'}"
      ]
     },
     "execution_count": 15,
     "metadata": {},
     "output_type": "execute_result"
    }
   ],
   "source": [
    "correlated_pair = ['X62-X104', 'X62-X146', 'X68-X110', 'X68-X152', 'X74-X116', 'X74-X158', 'X80-X122', 'X80-X164', 'X86-X128', 'X86-X170', 'X92-X134', 'X92-X176', 'X98-X140', 'X98-X182', 'X104-X146', 'X110-X152', 'X116-X158', 'X122-X164', 'X128-X170', 'X134-X176', 'X140-X182', 'X309-X351', 'X309-X393', 'X315-X357', 'X315-X399', 'X327-X369', 'X327-X411', 'X333-X375', 'X333-X417', 'X339-X381', 'X339-X423', 'X345-X387', 'X345-X429', 'X351-X393', 'X357-X399', 'X369-X411', 'X375-X417', 'X381-X423', 'X387-X429']\n",
    "actual_correlated_pair = []\n",
    "for cp in correlated_pair:\n",
    "    col1, col2 = cp.split(\"-\")\n",
    "    x = test_df.select(col1).collect()[col1].to_numpy()\n",
    "    y = test_df.select(col2).collect()[col2].to_numpy()\n",
    "    if np.corrcoef(x, y)[0][1] == 1:\n",
    "        actual_correlated_pair.append(f\"{col1}-{col2}\")\n",
    "set(correlated_pair) - set(actual_correlated_pair)"
   ]
  },
  {
   "cell_type": "code",
   "execution_count": 16,
   "id": "8fdb1dd7",
   "metadata": {},
   "outputs": [
    {
     "data": {
      "text/plain": [
       "[['X68', 'X152', 'X110'],\n",
       " ['X80', 'X164', 'X122'],\n",
       " ['X170', 'X86', 'X128'],\n",
       " ['X176', 'X134', 'X92'],\n",
       " ['X98', 'X140', 'X182'],\n",
       " ['X411', 'X369', 'X327'],\n",
       " ['X375', 'X417', 'X333'],\n",
       " ['X339', 'X423', 'X381'],\n",
       " ['X387', 'X345', 'X429']]"
      ]
     },
     "execution_count": 16,
     "metadata": {},
     "output_type": "execute_result"
    }
   ],
   "source": [
    "# Group into correlated group\n",
    "correlated_group = []\n",
    "for cp in actual_correlated_pair:\n",
    "    cp_lst = cp.split(\"-\")\n",
    "    added = False\n",
    "    for inx, cg in enumerate(correlated_group):\n",
    "        for var in cp_lst:\n",
    "            if var in cg:\n",
    "                correlated_group[inx].extend(cp_lst)\n",
    "                correlated_group[inx] = list(set(correlated_group[inx]))\n",
    "                added = True\n",
    "                break\n",
    "        if added:\n",
    "            break\n",
    "    if not added:\n",
    "        correlated_group.append(cp_lst)\n",
    "correlated_group\n",
    "# 8 groups of perfectly correlated features, try to check if same things happen in test"
   ]
  },
  {
   "cell_type": "code",
   "execution_count": 17,
   "id": "757c696e",
   "metadata": {},
   "outputs": [],
   "source": [
    "removed_col = []\n",
    "for cg in correlated_group:\n",
    "    removed_col.extend(cg[1:])\n",
    "train_df = train_df.drop(removed_col)"
   ]
  },
  {
   "cell_type": "code",
   "execution_count": 19,
   "id": "be7a6a8a",
   "metadata": {},
   "outputs": [
    {
     "name": "stderr",
     "output_type": "stream",
     "text": [
      "100%|██████████| 53/53 [00:34<00:00,  1.54it/s]\n"
     ]
    }
   ],
   "source": [
    "# Incremental PCA\n",
    "inc_PCA = IncrementalPCA(n_components = 50)\n",
    "\n",
    "# fitting a batch every turn\n",
    "n_rows = train_df.select(\"bid_qty\").count().collect()[0, 0]\n",
    "batch_size = 10000\n",
    "for i in tqdm(range(0, n_rows, batch_size)):\n",
    "    length = min(n_rows - i, batch_size)\n",
    "    train_df_batch = train_df.drop(\"label\").slice(offset = i, length = length).collect()\n",
    "    inc_PCA.partial_fit(train_df_batch)"
   ]
  },
  {
   "cell_type": "code",
   "execution_count": 20,
   "id": "e8637412",
   "metadata": {},
   "outputs": [
    {
     "data": {
      "text/plain": [
       "<Axes: >"
      ]
     },
     "execution_count": 20,
     "metadata": {},
     "output_type": "execute_result"
    },
    {
     "data": {
      "image/png": "[encoded data removed]",
      "text/plain": [
       "<Figure size 640x480 with 1 Axes>"
      ]
     },
     "metadata": {},
     "output_type": "display_data"
    }
   ],
   "source": [
    "sns.barplot(inc_PCA.explained_variance_ratio_)"
   ]
  },
  {
   "cell_type": "code",
   "execution_count": 21,
   "id": "7399d36f",
   "metadata": {},
   "outputs": [
    {
     "data": {
      "text/html": [
       "<div>\n",
       "<style scoped>\n",
       "    .dataframe tbody tr th:only-of-type {\n",
       "        vertical-align: middle;\n",
       "    }\n",
       "\n",
       "    .dataframe tbody tr th {\n",
       "        vertical-align: top;\n",
       "    }\n",
       "\n",
       "    .dataframe thead th {\n",
       "        text-align: right;\n",
       "    }\n",
       "</style>\n",
       "<table border=\"1\" class=\"dataframe\">\n",
       "  <thead>\n",
       "    <tr style=\"text-align: right;\">\n",
       "      <th></th>\n",
       "      <th>var</th>\n",
       "      <th>pc1_contribution</th>\n",
       "    </tr>\n",
       "  </thead>\n",
       "  <tbody>\n",
       "    <tr>\n",
       "      <th>0</th>\n",
       "      <td>volume</td>\n",
       "      <td>8.164891e-01</td>\n",
       "    </tr>\n",
       "    <tr>\n",
       "      <th>1</th>\n",
       "      <td>sell_qty</td>\n",
       "      <td>4.101576e-01</td>\n",
       "    </tr>\n",
       "    <tr>\n",
       "      <th>2</th>\n",
       "      <td>buy_qty</td>\n",
       "      <td>4.063315e-01</td>\n",
       "    </tr>\n",
       "    <tr>\n",
       "      <th>3</th>\n",
       "      <td>bid_qty</td>\n",
       "      <td>-1.431589e-03</td>\n",
       "    </tr>\n",
       "    <tr>\n",
       "      <th>4</th>\n",
       "      <td>ask_qty</td>\n",
       "      <td>-1.377298e-03</td>\n",
       "    </tr>\n",
       "    <tr>\n",
       "      <th>...</th>\n",
       "      <td>...</td>\n",
       "      <td>...</td>\n",
       "    </tr>\n",
       "    <tr>\n",
       "      <th>762</th>\n",
       "      <td>X609</td>\n",
       "      <td>2.456777e-07</td>\n",
       "    </tr>\n",
       "    <tr>\n",
       "      <th>763</th>\n",
       "      <td>X610</td>\n",
       "      <td>1.183094e-07</td>\n",
       "    </tr>\n",
       "    <tr>\n",
       "      <th>764</th>\n",
       "      <td>X654</td>\n",
       "      <td>-8.141552e-08</td>\n",
       "    </tr>\n",
       "    <tr>\n",
       "      <th>765</th>\n",
       "      <td>X607</td>\n",
       "      <td>3.080135e-08</td>\n",
       "    </tr>\n",
       "    <tr>\n",
       "      <th>766</th>\n",
       "      <td>X347</td>\n",
       "      <td>9.950231e-11</td>\n",
       "    </tr>\n",
       "  </tbody>\n",
       "</table>\n",
       "<p>767 rows × 2 columns</p>\n",
       "</div>"
      ],
      "text/plain": [
       "          var  pc1_contribution\n",
       "0      volume      8.164891e-01\n",
       "1    sell_qty      4.101576e-01\n",
       "2     buy_qty      4.063315e-01\n",
       "3     bid_qty     -1.431589e-03\n",
       "4     ask_qty     -1.377298e-03\n",
       "..        ...               ...\n",
       "762      X609      2.456777e-07\n",
       "763      X610      1.183094e-07\n",
       "764      X654     -8.141552e-08\n",
       "765      X607      3.080135e-08\n",
       "766      X347      9.950231e-11\n",
       "\n",
       "[767 rows x 2 columns]"
      ]
     },
     "execution_count": 21,
     "metadata": {},
     "output_type": "execute_result"
    }
   ],
   "source": [
    "pc1_component = pd.DataFrame(\n",
    "    {\n",
    "        \"var\": inc_PCA.feature_names_in_,\n",
    "        \"pc1_contribution\": inc_PCA.components_[0]\n",
    "    }\n",
    ")\n",
    "\n",
    "pc1_component = pc1_component.sort_values(\"pc1_contribution\", ascending=False, key = lambda x: abs(x)).reset_index().drop(\"index\", axis = 1)\n",
    "pc1_component"
   ]
  },
  {
   "cell_type": "code",
   "execution_count": 22,
   "id": "330c27ed",
   "metadata": {},
   "outputs": [
    {
     "name": "stdout",
     "output_type": "stream",
     "text": [
      "['volume', 'sell_qty', 'buy_qty', 'bid_qty', 'ask_qty', 'X763', 'X764', 'X765', 'X766', 'X767', 'X141', 'X147', 'X99', 'X105', 'X768', 'X153', 'X772', 'X111', 'X159', 'X117', 'X769', 'X771', 'X123', 'X57', 'X63', 'X165', 'X459', 'X69', 'X75', 'X129', 'X81', 'X458', 'X171', 'X87', 'X135', 'X93', 'X452', 'X394', 'X388', 'X177', 'X457', 'X400', 'X352', 'X358', 'X777', 'X776', 'X778', 'X346', 'X451', 'X364']\n"
     ]
    }
   ],
   "source": [
    "# Use the top 50 features\n",
    "print(pc1_component.iloc[:50, ][\"var\"].tolist())"
   ]
  },
  {
   "cell_type": "code",
   "execution_count": 23,
   "id": "c31b05ad",
   "metadata": {},
   "outputs": [
    {
     "name": "stderr",
     "output_type": "stream",
     "text": [
      "100%|██████████| 767/767 [00:00<00:00, 2044.79it/s]\n"
     ]
    },
    {
     "data": {
      "text/html": [
       "<div>\n",
       "<style scoped>\n",
       "    .dataframe tbody tr th:only-of-type {\n",
       "        vertical-align: middle;\n",
       "    }\n",
       "\n",
       "    .dataframe tbody tr th {\n",
       "        vertical-align: top;\n",
       "    }\n",
       "\n",
       "    .dataframe thead th {\n",
       "        text-align: right;\n",
       "    }\n",
       "</style>\n",
       "<table border=\"1\" class=\"dataframe\">\n",
       "  <thead>\n",
       "    <tr style=\"text-align: right;\">\n",
       "      <th></th>\n",
       "      <th>var</th>\n",
       "      <th>pc1_contribution</th>\n",
       "      <th>var_label_correlation</th>\n",
       "    </tr>\n",
       "  </thead>\n",
       "  <tbody>\n",
       "    <tr>\n",
       "      <th>0</th>\n",
       "      <td>volume</td>\n",
       "      <td>8.164891e-01</td>\n",
       "      <td>0.008814</td>\n",
       "    </tr>\n",
       "    <tr>\n",
       "      <th>1</th>\n",
       "      <td>sell_qty</td>\n",
       "      <td>4.101576e-01</td>\n",
       "      <td>0.011175</td>\n",
       "    </tr>\n",
       "    <tr>\n",
       "      <th>2</th>\n",
       "      <td>buy_qty</td>\n",
       "      <td>4.063315e-01</td>\n",
       "      <td>0.005616</td>\n",
       "    </tr>\n",
       "    <tr>\n",
       "      <th>3</th>\n",
       "      <td>bid_qty</td>\n",
       "      <td>-1.431589e-03</td>\n",
       "      <td>-0.013220</td>\n",
       "    </tr>\n",
       "    <tr>\n",
       "      <th>4</th>\n",
       "      <td>ask_qty</td>\n",
       "      <td>-1.377298e-03</td>\n",
       "      <td>-0.015761</td>\n",
       "    </tr>\n",
       "    <tr>\n",
       "      <th>...</th>\n",
       "      <td>...</td>\n",
       "      <td>...</td>\n",
       "      <td>...</td>\n",
       "    </tr>\n",
       "    <tr>\n",
       "      <th>762</th>\n",
       "      <td>X609</td>\n",
       "      <td>2.456777e-07</td>\n",
       "      <td>0.021520</td>\n",
       "    </tr>\n",
       "    <tr>\n",
       "      <th>763</th>\n",
       "      <td>X610</td>\n",
       "      <td>1.183094e-07</td>\n",
       "      <td>-0.017971</td>\n",
       "    </tr>\n",
       "    <tr>\n",
       "      <th>764</th>\n",
       "      <td>X654</td>\n",
       "      <td>-8.141552e-08</td>\n",
       "      <td>-0.007180</td>\n",
       "    </tr>\n",
       "    <tr>\n",
       "      <th>765</th>\n",
       "      <td>X607</td>\n",
       "      <td>3.080135e-08</td>\n",
       "      <td>-0.013082</td>\n",
       "    </tr>\n",
       "    <tr>\n",
       "      <th>766</th>\n",
       "      <td>X347</td>\n",
       "      <td>9.950231e-11</td>\n",
       "      <td>-0.010130</td>\n",
       "    </tr>\n",
       "  </tbody>\n",
       "</table>\n",
       "<p>767 rows × 3 columns</p>\n",
       "</div>"
      ],
      "text/plain": [
       "          var  pc1_contribution  var_label_correlation\n",
       "0      volume      8.164891e-01               0.008814\n",
       "1    sell_qty      4.101576e-01               0.011175\n",
       "2     buy_qty      4.063315e-01               0.005616\n",
       "3     bid_qty     -1.431589e-03              -0.013220\n",
       "4     ask_qty     -1.377298e-03              -0.015761\n",
       "..        ...               ...                    ...\n",
       "762      X609      2.456777e-07               0.021520\n",
       "763      X610      1.183094e-07              -0.017971\n",
       "764      X654     -8.141552e-08              -0.007180\n",
       "765      X607      3.080135e-08              -0.013082\n",
       "766      X347      9.950231e-11              -0.010130\n",
       "\n",
       "[767 rows x 3 columns]"
      ]
     },
     "execution_count": 23,
     "metadata": {},
     "output_type": "execute_result"
    }
   ],
   "source": [
    "# Also need to check correlation with target variable\n",
    "var_label_correlation = []\n",
    "for i in tqdm(range(pc1_component.shape[0])):\n",
    "    var = pc1_component.loc[i, \"var\"]\n",
    "    var_label_correlation.append(train_df.select(pl.corr(var, \"label\")).collect().item())\n",
    "pc1_component[\"var_label_correlation\"] = var_label_correlation\n",
    "pc1_component"
   ]
  },
  {
   "cell_type": "code",
   "execution_count": 24,
   "id": "f4305ab8",
   "metadata": {},
   "outputs": [
    {
     "data": {
      "text/html": [
       "<div>\n",
       "<style scoped>\n",
       "    .dataframe tbody tr th:only-of-type {\n",
       "        vertical-align: middle;\n",
       "    }\n",
       "\n",
       "    .dataframe tbody tr th {\n",
       "        vertical-align: top;\n",
       "    }\n",
       "\n",
       "    .dataframe thead th {\n",
       "        text-align: right;\n",
       "    }\n",
       "</style>\n",
       "<table border=\"1\" class=\"dataframe\">\n",
       "  <thead>\n",
       "    <tr style=\"text-align: right;\">\n",
       "      <th></th>\n",
       "      <th>var</th>\n",
       "      <th>pc1_contribution</th>\n",
       "      <th>var_label_correlation</th>\n",
       "    </tr>\n",
       "  </thead>\n",
       "  <tbody>\n",
       "    <tr>\n",
       "      <th>339</th>\n",
       "      <td>X752</td>\n",
       "      <td>4.009549e-05</td>\n",
       "      <td>0.090561</td>\n",
       "    </tr>\n",
       "    <tr>\n",
       "      <th>397</th>\n",
       "      <td>X21</td>\n",
       "      <td>3.009003e-05</td>\n",
       "      <td>0.069401</td>\n",
       "    </tr>\n",
       "    <tr>\n",
       "      <th>331</th>\n",
       "      <td>X20</td>\n",
       "      <td>4.144216e-05</td>\n",
       "      <td>0.067667</td>\n",
       "    </tr>\n",
       "    <tr>\n",
       "      <th>207</th>\n",
       "      <td>X28</td>\n",
       "      <td>6.696172e-05</td>\n",
       "      <td>0.064092</td>\n",
       "    </tr>\n",
       "    <tr>\n",
       "      <th>432</th>\n",
       "      <td>X759</td>\n",
       "      <td>-2.690891e-05</td>\n",
       "      <td>0.064057</td>\n",
       "    </tr>\n",
       "    <tr>\n",
       "      <th>...</th>\n",
       "      <td>...</td>\n",
       "      <td>...</td>\n",
       "      <td>...</td>\n",
       "    </tr>\n",
       "    <tr>\n",
       "      <th>126</th>\n",
       "      <td>X568</td>\n",
       "      <td>-8.924423e-05</td>\n",
       "      <td>-0.000165</td>\n",
       "    </tr>\n",
       "    <tr>\n",
       "      <th>750</th>\n",
       "      <td>X647</td>\n",
       "      <td>-9.253358e-07</td>\n",
       "      <td>0.000139</td>\n",
       "    </tr>\n",
       "    <tr>\n",
       "      <th>304</th>\n",
       "      <td>X128</td>\n",
       "      <td>-4.620777e-05</td>\n",
       "      <td>0.000120</td>\n",
       "    </tr>\n",
       "    <tr>\n",
       "      <th>122</th>\n",
       "      <td>X475</td>\n",
       "      <td>9.153042e-05</td>\n",
       "      <td>-0.000063</td>\n",
       "    </tr>\n",
       "    <tr>\n",
       "      <th>520</th>\n",
       "      <td>X407</td>\n",
       "      <td>1.765480e-05</td>\n",
       "      <td>-0.000028</td>\n",
       "    </tr>\n",
       "  </tbody>\n",
       "</table>\n",
       "<p>767 rows × 3 columns</p>\n",
       "</div>"
      ],
      "text/plain": [
       "      var  pc1_contribution  var_label_correlation\n",
       "339  X752      4.009549e-05               0.090561\n",
       "397   X21      3.009003e-05               0.069401\n",
       "331   X20      4.144216e-05               0.067667\n",
       "207   X28      6.696172e-05               0.064092\n",
       "432  X759     -2.690891e-05               0.064057\n",
       "..    ...               ...                    ...\n",
       "126  X568     -8.924423e-05              -0.000165\n",
       "750  X647     -9.253358e-07               0.000139\n",
       "304  X128     -4.620777e-05               0.000120\n",
       "122  X475      9.153042e-05              -0.000063\n",
       "520  X407      1.765480e-05              -0.000028\n",
       "\n",
       "[767 rows x 3 columns]"
      ]
     },
     "execution_count": 24,
     "metadata": {},
     "output_type": "execute_result"
    }
   ],
   "source": [
    "pc1_component.sort_values(\"var_label_correlation\", ascending=False, key = lambda x: abs(x))"
   ]
  },
  {
   "cell_type": "code",
   "execution_count": 25,
   "id": "79954976",
   "metadata": {},
   "outputs": [
    {
     "data": {
      "text/html": [
       "<div>\n",
       "<style scoped>\n",
       "    .dataframe tbody tr th:only-of-type {\n",
       "        vertical-align: middle;\n",
       "    }\n",
       "\n",
       "    .dataframe tbody tr th {\n",
       "        vertical-align: top;\n",
       "    }\n",
       "\n",
       "    .dataframe thead th {\n",
       "        text-align: right;\n",
       "    }\n",
       "</style>\n",
       "<table border=\"1\" class=\"dataframe\">\n",
       "  <thead>\n",
       "    <tr style=\"text-align: right;\">\n",
       "      <th></th>\n",
       "      <th>var</th>\n",
       "      <th>pc1_contribution</th>\n",
       "      <th>var_label_correlation</th>\n",
       "      <th>pc1_contribution_rnk</th>\n",
       "      <th>var_label_correlation_rnk</th>\n",
       "      <th>average_rnk</th>\n",
       "    </tr>\n",
       "  </thead>\n",
       "  <tbody>\n",
       "    <tr>\n",
       "      <th>0</th>\n",
       "      <td>volume</td>\n",
       "      <td>8.164891e-01</td>\n",
       "      <td>0.008814</td>\n",
       "      <td>1.0</td>\n",
       "      <td>529.0</td>\n",
       "      <td>265.0</td>\n",
       "    </tr>\n",
       "    <tr>\n",
       "      <th>1</th>\n",
       "      <td>sell_qty</td>\n",
       "      <td>4.101576e-01</td>\n",
       "      <td>0.011175</td>\n",
       "      <td>2.0</td>\n",
       "      <td>473.0</td>\n",
       "      <td>237.5</td>\n",
       "    </tr>\n",
       "    <tr>\n",
       "      <th>2</th>\n",
       "      <td>buy_qty</td>\n",
       "      <td>4.063315e-01</td>\n",
       "      <td>0.005616</td>\n",
       "      <td>3.0</td>\n",
       "      <td>629.0</td>\n",
       "      <td>316.0</td>\n",
       "    </tr>\n",
       "    <tr>\n",
       "      <th>3</th>\n",
       "      <td>bid_qty</td>\n",
       "      <td>-1.431589e-03</td>\n",
       "      <td>-0.013220</td>\n",
       "      <td>4.0</td>\n",
       "      <td>410.0</td>\n",
       "      <td>207.0</td>\n",
       "    </tr>\n",
       "    <tr>\n",
       "      <th>4</th>\n",
       "      <td>ask_qty</td>\n",
       "      <td>-1.377298e-03</td>\n",
       "      <td>-0.015761</td>\n",
       "      <td>5.0</td>\n",
       "      <td>340.0</td>\n",
       "      <td>172.5</td>\n",
       "    </tr>\n",
       "    <tr>\n",
       "      <th>...</th>\n",
       "      <td>...</td>\n",
       "      <td>...</td>\n",
       "      <td>...</td>\n",
       "      <td>...</td>\n",
       "      <td>...</td>\n",
       "      <td>...</td>\n",
       "    </tr>\n",
       "    <tr>\n",
       "      <th>762</th>\n",
       "      <td>X609</td>\n",
       "      <td>2.456777e-07</td>\n",
       "      <td>0.021520</td>\n",
       "      <td>763.0</td>\n",
       "      <td>258.0</td>\n",
       "      <td>510.5</td>\n",
       "    </tr>\n",
       "    <tr>\n",
       "      <th>763</th>\n",
       "      <td>X610</td>\n",
       "      <td>1.183094e-07</td>\n",
       "      <td>-0.017971</td>\n",
       "      <td>764.0</td>\n",
       "      <td>296.0</td>\n",
       "      <td>530.0</td>\n",
       "    </tr>\n",
       "    <tr>\n",
       "      <th>764</th>\n",
       "      <td>X654</td>\n",
       "      <td>-8.141552e-08</td>\n",
       "      <td>-0.007180</td>\n",
       "      <td>765.0</td>\n",
       "      <td>587.0</td>\n",
       "      <td>676.0</td>\n",
       "    </tr>\n",
       "    <tr>\n",
       "      <th>765</th>\n",
       "      <td>X607</td>\n",
       "      <td>3.080135e-08</td>\n",
       "      <td>-0.013082</td>\n",
       "      <td>766.0</td>\n",
       "      <td>415.0</td>\n",
       "      <td>590.5</td>\n",
       "    </tr>\n",
       "    <tr>\n",
       "      <th>766</th>\n",
       "      <td>X347</td>\n",
       "      <td>9.950231e-11</td>\n",
       "      <td>-0.010130</td>\n",
       "      <td>767.0</td>\n",
       "      <td>497.0</td>\n",
       "      <td>632.0</td>\n",
       "    </tr>\n",
       "  </tbody>\n",
       "</table>\n",
       "<p>767 rows × 6 columns</p>\n",
       "</div>"
      ],
      "text/plain": [
       "          var  pc1_contribution  var_label_correlation  pc1_contribution_rnk  \\\n",
       "0      volume      8.164891e-01               0.008814                   1.0   \n",
       "1    sell_qty      4.101576e-01               0.011175                   2.0   \n",
       "2     buy_qty      4.063315e-01               0.005616                   3.0   \n",
       "3     bid_qty     -1.431589e-03              -0.013220                   4.0   \n",
       "4     ask_qty     -1.377298e-03              -0.015761                   5.0   \n",
       "..        ...               ...                    ...                   ...   \n",
       "762      X609      2.456777e-07               0.021520                 763.0   \n",
       "763      X610      1.183094e-07              -0.017971                 764.0   \n",
       "764      X654     -8.141552e-08              -0.007180                 765.0   \n",
       "765      X607      3.080135e-08              -0.013082                 766.0   \n",
       "766      X347      9.950231e-11              -0.010130                 767.0   \n",
       "\n",
       "     var_label_correlation_rnk  average_rnk  \n",
       "0                        529.0        265.0  \n",
       "1                        473.0        237.5  \n",
       "2                        629.0        316.0  \n",
       "3                        410.0        207.0  \n",
       "4                        340.0        172.5  \n",
       "..                         ...          ...  \n",
       "762                      258.0        510.5  \n",
       "763                      296.0        530.0  \n",
       "764                      587.0        676.0  \n",
       "765                      415.0        590.5  \n",
       "766                      497.0        632.0  \n",
       "\n",
       "[767 rows x 6 columns]"
      ]
     },
     "execution_count": 25,
     "metadata": {},
     "output_type": "execute_result"
    }
   ],
   "source": [
    "pc1_component[\"pc1_contribution_rnk\"] = pc1_component[\"pc1_contribution\"].abs().rank(method = \"min\", ascending=False)\n",
    "pc1_component[\"var_label_correlation_rnk\"] = pc1_component[\"var_label_correlation\"].abs().rank(method = \"min\", ascending=False)\n",
    "pc1_component[\"average_rnk\"] = (pc1_component[\"pc1_contribution_rnk\"] + pc1_component[\"var_label_correlation_rnk\"]) / 2\n",
    "pc1_component"
   ]
  },
  {
   "cell_type": "code",
   "execution_count": 26,
   "id": "c024cfb7",
   "metadata": {},
   "outputs": [
    {
     "data": {
      "text/html": [
       "<div>\n",
       "<style scoped>\n",
       "    .dataframe tbody tr th:only-of-type {\n",
       "        vertical-align: middle;\n",
       "    }\n",
       "\n",
       "    .dataframe tbody tr th {\n",
       "        vertical-align: top;\n",
       "    }\n",
       "\n",
       "    .dataframe thead th {\n",
       "        text-align: right;\n",
       "    }\n",
       "</style>\n",
       "<table border=\"1\" class=\"dataframe\">\n",
       "  <thead>\n",
       "    <tr style=\"text-align: right;\">\n",
       "      <th></th>\n",
       "      <th>var</th>\n",
       "      <th>pc1_contribution</th>\n",
       "      <th>var_label_correlation</th>\n",
       "      <th>pc1_contribution_rnk</th>\n",
       "      <th>var_label_correlation_rnk</th>\n",
       "      <th>average_rnk</th>\n",
       "    </tr>\n",
       "  </thead>\n",
       "  <tbody>\n",
       "    <tr>\n",
       "      <th>0</th>\n",
       "      <td>volume</td>\n",
       "      <td>0.816489</td>\n",
       "      <td>0.008814</td>\n",
       "      <td>1.0</td>\n",
       "      <td>529.0</td>\n",
       "      <td>265.0</td>\n",
       "    </tr>\n",
       "    <tr>\n",
       "      <th>1</th>\n",
       "      <td>sell_qty</td>\n",
       "      <td>0.410158</td>\n",
       "      <td>0.011175</td>\n",
       "      <td>2.0</td>\n",
       "      <td>473.0</td>\n",
       "      <td>237.5</td>\n",
       "    </tr>\n",
       "    <tr>\n",
       "      <th>2</th>\n",
       "      <td>buy_qty</td>\n",
       "      <td>0.406331</td>\n",
       "      <td>0.005616</td>\n",
       "      <td>3.0</td>\n",
       "      <td>629.0</td>\n",
       "      <td>316.0</td>\n",
       "    </tr>\n",
       "    <tr>\n",
       "      <th>3</th>\n",
       "      <td>bid_qty</td>\n",
       "      <td>-0.001432</td>\n",
       "      <td>-0.013220</td>\n",
       "      <td>4.0</td>\n",
       "      <td>410.0</td>\n",
       "      <td>207.0</td>\n",
       "    </tr>\n",
       "    <tr>\n",
       "      <th>4</th>\n",
       "      <td>ask_qty</td>\n",
       "      <td>-0.001377</td>\n",
       "      <td>-0.015761</td>\n",
       "      <td>5.0</td>\n",
       "      <td>340.0</td>\n",
       "      <td>172.5</td>\n",
       "    </tr>\n",
       "    <tr>\n",
       "      <th>169</th>\n",
       "      <td>X137</td>\n",
       "      <td>-0.000074</td>\n",
       "      <td>-0.044290</td>\n",
       "      <td>170.0</td>\n",
       "      <td>51.0</td>\n",
       "      <td>110.5</td>\n",
       "    </tr>\n",
       "    <tr>\n",
       "      <th>327</th>\n",
       "      <td>X674</td>\n",
       "      <td>-0.000042</td>\n",
       "      <td>0.016070</td>\n",
       "      <td>328.0</td>\n",
       "      <td>330.0</td>\n",
       "      <td>329.0</td>\n",
       "    </tr>\n",
       "    <tr>\n",
       "      <th>360</th>\n",
       "      <td>X344</td>\n",
       "      <td>0.000035</td>\n",
       "      <td>-0.009061</td>\n",
       "      <td>361.0</td>\n",
       "      <td>523.0</td>\n",
       "      <td>442.0</td>\n",
       "    </tr>\n",
       "    <tr>\n",
       "      <th>433</th>\n",
       "      <td>X415</td>\n",
       "      <td>0.000027</td>\n",
       "      <td>0.008287</td>\n",
       "      <td>434.0</td>\n",
       "      <td>544.0</td>\n",
       "      <td>489.0</td>\n",
       "    </tr>\n",
       "    <tr>\n",
       "      <th>513</th>\n",
       "      <td>X385</td>\n",
       "      <td>-0.000018</td>\n",
       "      <td>0.038095</td>\n",
       "      <td>514.0</td>\n",
       "      <td>81.0</td>\n",
       "      <td>297.5</td>\n",
       "    </tr>\n",
       "    <tr>\n",
       "      <th>581</th>\n",
       "      <td>X532</td>\n",
       "      <td>-0.000013</td>\n",
       "      <td>-0.002244</td>\n",
       "      <td>582.0</td>\n",
       "      <td>711.0</td>\n",
       "      <td>646.5</td>\n",
       "    </tr>\n",
       "    <tr>\n",
       "      <th>593</th>\n",
       "      <td>X603</td>\n",
       "      <td>-0.000012</td>\n",
       "      <td>0.004352</td>\n",
       "      <td>594.0</td>\n",
       "      <td>658.0</td>\n",
       "      <td>626.0</td>\n",
       "    </tr>\n",
       "    <tr>\n",
       "      <th>616</th>\n",
       "      <td>X168</td>\n",
       "      <td>0.000010</td>\n",
       "      <td>0.014750</td>\n",
       "      <td>617.0</td>\n",
       "      <td>366.0</td>\n",
       "      <td>491.5</td>\n",
       "    </tr>\n",
       "    <tr>\n",
       "      <th>624</th>\n",
       "      <td>X302</td>\n",
       "      <td>0.000009</td>\n",
       "      <td>0.051736</td>\n",
       "      <td>625.0</td>\n",
       "      <td>27.0</td>\n",
       "      <td>326.0</td>\n",
       "    </tr>\n",
       "    <tr>\n",
       "      <th>648</th>\n",
       "      <td>X612</td>\n",
       "      <td>0.000007</td>\n",
       "      <td>0.027958</td>\n",
       "      <td>649.0</td>\n",
       "      <td>174.0</td>\n",
       "      <td>411.5</td>\n",
       "    </tr>\n",
       "    <tr>\n",
       "      <th>663</th>\n",
       "      <td>X598</td>\n",
       "      <td>0.000006</td>\n",
       "      <td>-0.004728</td>\n",
       "      <td>664.0</td>\n",
       "      <td>653.0</td>\n",
       "      <td>658.5</td>\n",
       "    </tr>\n",
       "    <tr>\n",
       "      <th>716</th>\n",
       "      <td>X178</td>\n",
       "      <td>0.000003</td>\n",
       "      <td>0.012840</td>\n",
       "      <td>717.0</td>\n",
       "      <td>419.0</td>\n",
       "      <td>568.0</td>\n",
       "    </tr>\n",
       "    <tr>\n",
       "      <th>723</th>\n",
       "      <td>X174</td>\n",
       "      <td>0.000003</td>\n",
       "      <td>0.010663</td>\n",
       "      <td>724.0</td>\n",
       "      <td>484.0</td>\n",
       "      <td>604.0</td>\n",
       "    </tr>\n",
       "  </tbody>\n",
       "</table>\n",
       "</div>"
      ],
      "text/plain": [
       "          var  pc1_contribution  var_label_correlation  pc1_contribution_rnk  \\\n",
       "0      volume          0.816489               0.008814                   1.0   \n",
       "1    sell_qty          0.410158               0.011175                   2.0   \n",
       "2     buy_qty          0.406331               0.005616                   3.0   \n",
       "3     bid_qty         -0.001432              -0.013220                   4.0   \n",
       "4     ask_qty         -0.001377              -0.015761                   5.0   \n",
       "169      X137         -0.000074              -0.044290                 170.0   \n",
       "327      X674         -0.000042               0.016070                 328.0   \n",
       "360      X344          0.000035              -0.009061                 361.0   \n",
       "433      X415          0.000027               0.008287                 434.0   \n",
       "513      X385         -0.000018               0.038095                 514.0   \n",
       "581      X532         -0.000013              -0.002244                 582.0   \n",
       "593      X603         -0.000012               0.004352                 594.0   \n",
       "616      X168          0.000010               0.014750                 617.0   \n",
       "624      X302          0.000009               0.051736                 625.0   \n",
       "648      X612          0.000007               0.027958                 649.0   \n",
       "663      X598          0.000006              -0.004728                 664.0   \n",
       "716      X178          0.000003               0.012840                 717.0   \n",
       "723      X174          0.000003               0.010663                 724.0   \n",
       "\n",
       "     var_label_correlation_rnk  average_rnk  \n",
       "0                        529.0        265.0  \n",
       "1                        473.0        237.5  \n",
       "2                        629.0        316.0  \n",
       "3                        410.0        207.0  \n",
       "4                        340.0        172.5  \n",
       "169                       51.0        110.5  \n",
       "327                      330.0        329.0  \n",
       "360                      523.0        442.0  \n",
       "433                      544.0        489.0  \n",
       "513                       81.0        297.5  \n",
       "581                      711.0        646.5  \n",
       "593                      658.0        626.0  \n",
       "616                      366.0        491.5  \n",
       "624                       27.0        326.0  \n",
       "648                      174.0        411.5  \n",
       "663                      653.0        658.5  \n",
       "716                      419.0        568.0  \n",
       "723                      484.0        604.0  "
      ]
     },
     "execution_count": 26,
     "metadata": {},
     "output_type": "execute_result"
    }
   ],
   "source": [
    "popular_var = [\n",
    "    \"X863\", \"X856\", \"X344\", \"X598\", \"X862\", \"X385\", \"X852\", \"X603\", \"X860\", \"X674\",\n",
    "    \"X415\", \"X345\", \"X137\", \"X855\", \"X174\", \"X302\", \"X178\", \"X532\", \"X168\", \"X612\",\n",
    "    \"bid_qty\", \"ask_qty\", \"buy_qty\", \"sell_qty\", \"volume\"\n",
    "]\n",
    "pc1_component[pc1_component[\"var\"].isin(popular_var)]"
   ]
  },
  {
   "cell_type": "code",
   "execution_count": 27,
   "id": "62cd270b",
   "metadata": {},
   "outputs": [
    {
     "data": {
      "text/html": [
       "<div>\n",
       "<style scoped>\n",
       "    .dataframe tbody tr th:only-of-type {\n",
       "        vertical-align: middle;\n",
       "    }\n",
       "\n",
       "    .dataframe tbody tr th {\n",
       "        vertical-align: top;\n",
       "    }\n",
       "\n",
       "    .dataframe thead th {\n",
       "        text-align: right;\n",
       "    }\n",
       "</style>\n",
       "<table border=\"1\" class=\"dataframe\">\n",
       "  <thead>\n",
       "    <tr style=\"text-align: right;\">\n",
       "      <th></th>\n",
       "      <th>var</th>\n",
       "      <th>pc1_contribution</th>\n",
       "      <th>var_label_correlation</th>\n",
       "      <th>pc1_contribution_rnk</th>\n",
       "      <th>var_label_correlation_rnk</th>\n",
       "      <th>average_rnk</th>\n",
       "    </tr>\n",
       "  </thead>\n",
       "  <tbody>\n",
       "    <tr>\n",
       "      <th>0</th>\n",
       "      <td>X751</td>\n",
       "      <td>1.522247e-04</td>\n",
       "      <td>0.053532</td>\n",
       "      <td>68.0</td>\n",
       "      <td>21.0</td>\n",
       "      <td>44.5</td>\n",
       "    </tr>\n",
       "    <tr>\n",
       "      <th>1</th>\n",
       "      <td>X111</td>\n",
       "      <td>-3.157714e-04</td>\n",
       "      <td>0.033087</td>\n",
       "      <td>18.0</td>\n",
       "      <td>113.0</td>\n",
       "      <td>65.5</td>\n",
       "    </tr>\n",
       "    <tr>\n",
       "      <th>2</th>\n",
       "      <td>X153</td>\n",
       "      <td>-3.258045e-04</td>\n",
       "      <td>0.032990</td>\n",
       "      <td>16.0</td>\n",
       "      <td>115.0</td>\n",
       "      <td>65.5</td>\n",
       "    </tr>\n",
       "    <tr>\n",
       "      <th>3</th>\n",
       "      <td>X473</td>\n",
       "      <td>1.540076e-04</td>\n",
       "      <td>0.040191</td>\n",
       "      <td>66.0</td>\n",
       "      <td>69.0</td>\n",
       "      <td>67.5</td>\n",
       "    </tr>\n",
       "    <tr>\n",
       "      <th>4</th>\n",
       "      <td>X472</td>\n",
       "      <td>1.312127e-04</td>\n",
       "      <td>0.042454</td>\n",
       "      <td>83.0</td>\n",
       "      <td>56.0</td>\n",
       "      <td>69.5</td>\n",
       "    </tr>\n",
       "    <tr>\n",
       "      <th>...</th>\n",
       "      <td>...</td>\n",
       "      <td>...</td>\n",
       "      <td>...</td>\n",
       "      <td>...</td>\n",
       "      <td>...</td>\n",
       "      <td>...</td>\n",
       "    </tr>\n",
       "    <tr>\n",
       "      <th>762</th>\n",
       "      <td>X101</td>\n",
       "      <td>-2.026954e-06</td>\n",
       "      <td>-0.001161</td>\n",
       "      <td>734.0</td>\n",
       "      <td>736.0</td>\n",
       "      <td>735.0</td>\n",
       "    </tr>\n",
       "    <tr>\n",
       "      <th>763</th>\n",
       "      <td>X78</td>\n",
       "      <td>2.006423e-06</td>\n",
       "      <td>0.000942</td>\n",
       "      <td>735.0</td>\n",
       "      <td>742.0</td>\n",
       "      <td>738.5</td>\n",
       "    </tr>\n",
       "    <tr>\n",
       "      <th>764</th>\n",
       "      <td>X688</td>\n",
       "      <td>-1.052262e-06</td>\n",
       "      <td>-0.001007</td>\n",
       "      <td>748.0</td>\n",
       "      <td>740.0</td>\n",
       "      <td>744.0</td>\n",
       "    </tr>\n",
       "    <tr>\n",
       "      <th>765</th>\n",
       "      <td>X689</td>\n",
       "      <td>3.508579e-07</td>\n",
       "      <td>0.001751</td>\n",
       "      <td>761.0</td>\n",
       "      <td>728.0</td>\n",
       "      <td>744.5</td>\n",
       "    </tr>\n",
       "    <tr>\n",
       "      <th>766</th>\n",
       "      <td>X647</td>\n",
       "      <td>-9.253358e-07</td>\n",
       "      <td>0.000139</td>\n",
       "      <td>751.0</td>\n",
       "      <td>764.0</td>\n",
       "      <td>757.5</td>\n",
       "    </tr>\n",
       "  </tbody>\n",
       "</table>\n",
       "<p>767 rows × 6 columns</p>\n",
       "</div>"
      ],
      "text/plain": [
       "      var  pc1_contribution  var_label_correlation  pc1_contribution_rnk  \\\n",
       "0    X751      1.522247e-04               0.053532                  68.0   \n",
       "1    X111     -3.157714e-04               0.033087                  18.0   \n",
       "2    X153     -3.258045e-04               0.032990                  16.0   \n",
       "3    X473      1.540076e-04               0.040191                  66.0   \n",
       "4    X472      1.312127e-04               0.042454                  83.0   \n",
       "..    ...               ...                    ...                   ...   \n",
       "762  X101     -2.026954e-06              -0.001161                 734.0   \n",
       "763   X78      2.006423e-06               0.000942                 735.0   \n",
       "764  X688     -1.052262e-06              -0.001007                 748.0   \n",
       "765  X689      3.508579e-07               0.001751                 761.0   \n",
       "766  X647     -9.253358e-07               0.000139                 751.0   \n",
       "\n",
       "     var_label_correlation_rnk  average_rnk  \n",
       "0                         21.0         44.5  \n",
       "1                        113.0         65.5  \n",
       "2                        115.0         65.5  \n",
       "3                         69.0         67.5  \n",
       "4                         56.0         69.5  \n",
       "..                         ...          ...  \n",
       "762                      736.0        735.0  \n",
       "763                      742.0        738.5  \n",
       "764                      740.0        744.0  \n",
       "765                      728.0        744.5  \n",
       "766                      764.0        757.5  \n",
       "\n",
       "[767 rows x 6 columns]"
      ]
     },
     "execution_count": 27,
     "metadata": {},
     "output_type": "execute_result"
    }
   ],
   "source": [
    "pc1_component = pc1_component.sort_values(\"average_rnk\").reset_index().drop(\"index\", axis = 1)\n",
    "pc1_component"
   ]
  },
  {
   "cell_type": "code",
   "execution_count": 28,
   "id": "161fac5f",
   "metadata": {},
   "outputs": [],
   "source": [
    "best_pc1_contribution = pc1_component[pc1_component[\"pc1_contribution_rnk\"] <= 100][\"var\"].tolist()\n",
    "with open(\"features/best_pc1_contribution.pkl\", \"wb\") as f:\n",
    "    pickle.dump(best_pc1_contribution, f)"
   ]
  },
  {
   "cell_type": "code",
   "execution_count": 29,
   "id": "507ee324",
   "metadata": {},
   "outputs": [],
   "source": [
    "best_label_correlation = pc1_component[pc1_component[\"var_label_correlation_rnk\"] <= 100][\"var\"].tolist()\n",
    "with open(\"features/best_label_correlation.pkl\", \"wb\") as f:\n",
    "    pickle.dump(best_label_correlation, f)"
   ]
  },
  {
   "cell_type": "code",
   "execution_count": 30,
   "id": "e216d1c2",
   "metadata": {},
   "outputs": [],
   "source": [
    "best_label_correlation_200 = pc1_component[pc1_component[\"var_label_correlation_rnk\"] <= 200][\"var\"].tolist()\n",
    "with open(\"features/best_label_correlation_200.pkl\", \"wb\") as f:\n",
    "    pickle.dump(best_label_correlation_200, f)"
   ]
  },
  {
   "cell_type": "code",
   "execution_count": 31,
   "id": "d49b219c",
   "metadata": {},
   "outputs": [],
   "source": [
    "best_overall = (pc1_component.loc[:50, \"var\"].to_list())\n",
    "best_overall.extend([\"volume\", \"bid_qty\", \"ask_qty\", \"buy_qty\", \"sell_qty\"])\n",
    "with open(\"features/best_overall.pkl\", \"wb\") as f:\n",
    "    pickle.dump(best_overall, f)"
   ]
  },
  {
   "cell_type": "markdown",
   "id": "5320f462",
   "metadata": {},
   "source": [
    "Analyze interesting features from initial modeling"
   ]
  },
  {
   "cell_type": "code",
   "execution_count": null,
   "id": "da860dcd",
   "metadata": {},
   "outputs": [],
   "source": [
    "plot_acf(train_df.select(\"X198\").collect().to_numpy(), lags=50)\n",
    "plot_pacf(train_df.select(\"X198\").collect().to_numpy(), lags=50)\n",
    "plt.show()"
   ]
  },
  {
   "cell_type": "code",
   "execution_count": null,
   "id": "28810525",
   "metadata": {},
   "outputs": [],
   "source": [
    "plot_acf(train_df.select(\"X598\").collect().to_numpy(), lags=50)\n",
    "plot_pacf(train_df.select(\"X598\").collect().to_numpy(), lags=50)\n",
    "plt.show()"
   ]
  },
  {
   "cell_type": "code",
   "execution_count": null,
   "id": "e1464cfe",
   "metadata": {},
   "outputs": [],
   "source": [
    "plot_acf(train_df.select(\"X863\").collect().to_numpy(), lags=50)\n",
    "plot_pacf(train_df.select(\"X863\").collect().to_numpy(), lags=50)\n",
    "plt.show()"
   ]
  },
  {
   "cell_type": "code",
   "execution_count": null,
   "id": "02ea229f",
   "metadata": {},
   "outputs": [],
   "source": [
    "plot_acf(train_df.select(\"X466\").collect().to_numpy(), lags=50)\n",
    "plot_pacf(train_df.select(\"X466\").collect().to_numpy(), lags=50)\n",
    "plt.show()"
   ]
  },
  {
   "cell_type": "markdown",
   "id": "0547b01c",
   "metadata": {},
   "source": [
    "Add extra features"
   ]
  },
  {
   "cell_type": "code",
   "execution_count": null,
   "id": "f27d687b",
   "metadata": {},
   "outputs": [],
   "source": [
    "train_df = train_df.with_columns(\n",
    "    # interaction features\n",
    "    (pl.col(\"bid_qty\") * pl.col(\"ask_qty\")).alias(\"bid_ask_interaction\"),\n",
    "    (pl.col(\"bid_qty\") * pl.col(\"buy_qty\")).alias(\"bid_buy_interaction\"),\n",
    "    (pl.col(\"bid_qty\") * pl.col(\"sell_qty\")).alias(\"bid_sell_interaction\"),\n",
    "    (pl.col(\"ask_qty\") * pl.col(\"buy_qty\")).alias(\"ask_buy_interaction\"),\n",
    "    (pl.col(\"ask_qty\") * pl.col(\"sell_qty\")).alias(\"ask_sell_interaction\"),\n",
    "    (pl.col(\"buy_qty\") * pl.col(\"sell_qty\")).alias(\"buy_sell_interaction\"),\n",
    "\n",
    "    # spread features\n",
    "    ((pl.col(\"ask_qty\") - pl.col(\"bid_qty\")) / (pl.col(\"ask_qty\") + pl.col(\"bid_qty\")) + 1e-8).alias(\"spread_indicator\"),\n",
    "\n",
    "    # volume weighted features\n",
    "    (pl.col(\"buy_qty\") * pl.col(\"volume\")).alias(\"volume_weighted_buy\"),\n",
    "    (pl.col(\"sell_qty\") * pl.col(\"volume\")).alias(\"volume_weighted_sell\"),\n",
    "    (pl.col(\"bid_qty\") * pl.col(\"volume\")).alias(\"volume_weighted_bid\"),\n",
    "    (pl.col(\"ask_qty\") * pl.col(\"volume\")).alias(\"volume_weighted_ask\"),\n",
    "\n",
    "    # buy/sell and bid/ask ratios\n",
    "    (pl.col(\"buy_qty\") / (pl.col(\"sell_qty\") + 1e-8)).alias(\"buy_sell_ratio\"),\n",
    "    (pl.col(\"bid_qty\") / (pl.col(\"ask_qty\") + 1e-8)).alias(\"bid_ask_ratio\"),\n",
    "\n",
    "    # order flow imbalance\n",
    "    ((pl.col(\"buy_qty\") - pl.col(\"sell_qty\")) / (pl.col(\"volume\") + 1e-8)).alias(\"order_flow_imbalance\"),\n",
    "\n",
    "    # buying and selling pressure\n",
    "    (pl.col(\"buy_qty\") / (pl.col(\"volume\") + 1e-8)).alias(\"buying_pressure\"),\n",
    "    (pl.col(\"sell_qty\") / (pl.col(\"volume\") + 1e-8)).alias(\"selling_pressure\"),\n",
    "\n",
    "    # liquidity features\n",
    "    (pl.col(\"bid_qty\") + pl.col(\"ask_qty\")).alias(\"total_liquidity\"),\n",
    "    ((pl.col(\"bid_qty\") - pl.col(\"ask_qty\")) / (pl.col(\"bid_qty\") + pl.col(\"ask_qty\") + 1e-8)).alias(\"liquidity_imbalance\"),\n",
    "    ((pl.col(\"ask_qty\") - pl.col(\"bid_qty\")) / (pl.col(\"volume\") + 1e-8)).alias(\"relative_spread\"),\n",
    "\n",
    "    # trade related features (size, intensity, flow)\n",
    "    ((pl.col(\"buy_qty\") + pl.col(\"sell_qty\")) / (pl.col(\"volume\") + 1e-8)).alias(\"trade_intensity\"),\n",
    "    (pl.col(\"volume\") / (pl.col(\"buy_qty\") + pl.col(\"sell_qty\") + 1e-8)).alias(\"avg_trade_size\"),\n",
    "    ((pl.col(\"buy_qty\") - pl.col(\"sell_qty\")) / (pl.col(\"buy_qty\") + pl.col(\"sell_qty\") + 1e-8)).alias(\"net_trade_flow\"),\n",
    "\n",
    "    # volume features in market + how market is working wrt to volume \n",
    "    ((pl.col(\"bid_qty\") + pl.col(\"ask_qty\")) / (pl.col(\"volume\") + 1e-8)).alias(\"depth_ratio\"),\n",
    "    ((pl.col(\"buy_qty\") + pl.col(\"sell_qty\")) / (pl.col(\"bid_qty\") + pl.col(\"ask_qty\") + 1e-8)).alias(\"volume_participation\"),\n",
    "    (pl.col(\"volume\") * (pl.col(\"bid_qty\") + pl.col(\"ask_qty\"))).alias(\"market_activity\"),\n",
    "\n",
    "    # spread proxy and realized vol proxy\n",
    "    ((pl.col(\"buy_qty\") - pl.col(\"sell_qty\")).abs() / (pl.col(\"volume\") + 1e-8)).alias(\"effective_spread_proxy\"),\n",
    "    (((pl.col(\"buy_qty\") - pl.col(\"sell_qty\")) / (pl.col(\"volume\") + 1e-8)) * pl.col(\"volume\")).alias(\"realized_volatility_proxy\"),\n",
    "\n",
    "    # normalized buy/sell volume\n",
    "    (pl.col(\"buy_qty\") / (pl.col(\"bid_qty\") + 1e-8)).alias(\"normalized_buy_volume\"),\n",
    "    (pl.col(\"sell_qty\") / (pl.col(\"ask_qty\") + 1e-8)).alias(\"normalized_sell_volume\"),\n",
    "\n",
    "    # imbalance and spread interaction\n",
    "    (((pl.col(\"buy_qty\") - pl.col(\"sell_qty\")) / (pl.col(\"volume\") + 1e-8)) * ((pl.col(\"bid_qty\") + pl.col(\"ask_qty\")) / (pl.col(\"volume\") + 1e-8))).alias(\"liquidity_adjusted_imbalance\"),\n",
    "    ((pl.col(\"buy_qty\") / (pl.col(\"volume\") + 1e-8)) * ((pl.col(\"ask_qty\") - pl.col(\"bid_qty\")) / (pl.col(\"ask_qty\") + pl.col(\"bid_qty\")) + 1e-8)).alias(\"pressure_spread_interaction\"),\n",
    "\n",
    "    # trade direction ratio, net buying volume, bid/ask skew\n",
    "    (pl.col(\"buy_qty\") / (pl.col(\"buy_qty\") + pl.col(\"sell_qty\") + 1e-8)).alias(\"trade_direction_ratio\"),\n",
    "    (pl.col(\"buy_qty\") - pl.col(\"sell_qty\")).alias(\"net_buy_volume\"),\n",
    "    (pl.col(\"bid_qty\") / (pl.col(\"bid_qty\") + pl.col(\"ask_qty\") + 1e-8)).alias(\"bid_skew\"),\n",
    "    (pl.col(\"ask_qty\") / (pl.col(\"bid_qty\") + pl.col(\"ask_qty\") + 1e-8)).alias(\"ask_skew\")\n",
    ")\n",
    "\n",
    "train_df = train_df.fill_nan(0).fill_null(0)"
   ]
  },
  {
   "cell_type": "markdown",
   "id": "8d0532d7",
   "metadata": {},
   "source": [
    "Test important features on lags with other columns to reverse-engineer anonymized features"
   ]
  },
  {
   "cell_type": "code",
   "execution_count": null,
   "id": "7311c3ff",
   "metadata": {},
   "outputs": [],
   "source": [
    "interested_time = [\n",
    "    1, 2, 3, 4, 5, 10, 15, 20, 25, 30, \n",
    "    35, 40, 45, 50, 55, 60, \n",
    "    120, 180, 240, 300, 360, 720, 1440, \n",
    "    1440 * 3, 1440 * 5, 1440 * 7, 1440 * 14, \n",
    "    1440 * 30, 1440 * 60, 1440 * 90, 1440 * 180\n",
    "]"
   ]
  },
  {
   "cell_type": "code",
   "execution_count": null,
   "id": "2dbe7888",
   "metadata": {},
   "outputs": [],
   "source": [
    "for l in interested_time:\n",
    "    max_correlation = 0\n",
    "    max_abs_correlation = 0\n",
    "    feature = None\n",
    "    for col in train_df.schema.keys():\n",
    "        if \"X\" not in col:\n",
    "            corr = train_df.with_columns(\n",
    "                pl.col(\"X466\"),\n",
    "                pl.col(col).rolling_mean(window_size=l).shift(1).alias(f\"{col}_rolling_{l}\"),\n",
    "            ).with_row_index(\"row_inx\").select(pl.corr(f\"X466\", f\"{col}_rolling_{l}\")).collect().item()\n",
    "            if abs(corr) > max_abs_correlation:\n",
    "                max_abs_correlation = abs(corr)\n",
    "                max_correlation = corr\n",
    "                feature = col\n",
    "    print(l)\n",
    "    print(feature, max_correlation, max_abs_correlation)"
   ]
  },
  {
   "cell_type": "code",
   "execution_count": null,
   "id": "67cb4dbe",
   "metadata": {},
   "outputs": [],
   "source": [
    "for l in interested_time:\n",
    "    max_correlation = 0\n",
    "    max_abs_correlation = 0\n",
    "    feature = None\n",
    "    for col in train_df.schema.keys():\n",
    "        if \"X\" not in col:\n",
    "            corr = train_df.with_columns(\n",
    "                pl.col(\"X198\"),\n",
    "                pl.col(col).rolling_mean(window_size=l).shift(1).alias(f\"{col}_rolling_{l}\"),\n",
    "            ).with_row_index(\"row_inx\").select(pl.corr(f\"X198\", f\"{col}_rolling_{l}\")).collect().item()\n",
    "            if abs(corr) > max_abs_correlation:\n",
    "                max_abs_correlation = abs(corr)\n",
    "                max_correlation = corr\n",
    "                feature = col\n",
    "    print(l)\n",
    "    print(feature, max_correlation, max_abs_correlation)"
   ]
  },
  {
   "cell_type": "code",
   "execution_count": null,
   "id": "bdefd9c1",
   "metadata": {},
   "outputs": [],
   "source": [
    "for l in interested_time:\n",
    "    max_correlation = 0\n",
    "    max_abs_correlation = 0\n",
    "    feature = None\n",
    "    for col in train_df.schema.keys():\n",
    "        if \"X\" not in col:\n",
    "            corr = train_df.with_columns(\n",
    "                pl.col(\"X598\"),\n",
    "                pl.col(col).rolling_mean(window_size=l).shift(1).alias(f\"{col}_rolling_{l}\"),\n",
    "            ).with_row_index(\"row_inx\").select(pl.corr(f\"X598\", f\"{col}_rolling_{l}\")).collect().item()\n",
    "            if abs(corr) > max_abs_correlation:\n",
    "                max_abs_correlation = abs(corr)\n",
    "                max_correlation = corr\n",
    "                feature = col\n",
    "    print(l)\n",
    "    print(feature, max_correlation, max_abs_correlation)"
   ]
  },
  {
   "cell_type": "code",
   "execution_count": null,
   "id": "a01931ef",
   "metadata": {},
   "outputs": [],
   "source": [
    "for l in interested_time:\n",
    "    max_correlation = 0\n",
    "    max_abs_correlation = 0\n",
    "    feature = None\n",
    "    for col in train_df.schema.keys():\n",
    "        if \"X\" not in col:\n",
    "            corr = train_df.with_columns(\n",
    "                pl.col(\"X862\"),\n",
    "                pl.col(col).rolling_mean(window_size=l).shift(1).alias(f\"{col}_rolling_{l}\"),\n",
    "            ).with_row_index(\"row_inx\").select(pl.corr(f\"X862\", f\"{col}_rolling_{l}\")).collect().item()\n",
    "            if abs(corr) > max_abs_correlation:\n",
    "                max_abs_correlation = abs(corr)\n",
    "                max_correlation = corr\n",
    "                feature = col\n",
    "    print(l)\n",
    "    print(feature, max_correlation, max_abs_correlation)"
   ]
  },
  {
   "cell_type": "code",
   "execution_count": null,
   "id": "75fd32a6",
   "metadata": {},
   "outputs": [],
   "source": [
    "features = ['X862', 'X598', 'X863', 'X533', 'X379', 'X856', 'X28', 'X284', 'X466', 'X95', \n",
    "            'X331', 'X465', 'X852', 'X861', 'X198', 'X169', 'X285', 'X23', 'X531', 'X444', \n",
    "            'X754', 'X445', 'X758', 'X137', 'X279', 'X540', 'X31', 'X218', 'X291', 'X511']\n",
    "for f in features:\n",
    "    print(f)\n",
    "    max_correlation = 0\n",
    "    max_abs_correlation = 0\n",
    "    feature = None\n",
    "    lag = None\n",
    "    for l in tqdm(interested_time):\n",
    "        for col in train_df.schema.keys():\n",
    "            if \"X\" not in col:\n",
    "                corr = train_df.with_columns(\n",
    "                    pl.col(f),\n",
    "                    pl.col(col).rolling_mean(window_size=l).shift(1).alias(f\"{col}_rolling_{l}\"),\n",
    "                ).with_row_index(\"row_inx\").select(pl.corr(f, f\"{col}_rolling_{l}\")).collect().item()\n",
    "                if abs(corr) > max_abs_correlation:\n",
    "                    max_abs_correlation = abs(corr)\n",
    "                    max_correlation = corr\n",
    "                    feature = col\n",
    "                    lag = l\n",
    "    print(feature, lag, max_correlation, max_abs_correlation)"
   ]
  },
  {
   "cell_type": "markdown",
   "id": "63e72758",
   "metadata": {},
   "source": [
    "Consider the case of different class of returns"
   ]
  },
  {
   "cell_type": "code",
   "execution_count": null,
   "id": "ce75e187",
   "metadata": {},
   "outputs": [],
   "source": [
    "print(train_df.select(\"label\").quantile(1/3, \"nearest\").collect().item())"
   ]
  },
  {
   "cell_type": "code",
   "execution_count": null,
   "id": "ac2661f3",
   "metadata": {},
   "outputs": [],
   "source": [
    "def check_quantile(x):\n",
    "    if x > 0.2: return \"pos\"\n",
    "    elif x < -0.2: return \"neg\"\n",
    "    return \"neu\""
   ]
  },
  {
   "cell_type": "code",
   "execution_count": null,
   "id": "cdd67a02",
   "metadata": {},
   "outputs": [],
   "source": [
    "valid = []\n",
    "valid_col = [col for col in train_df.schema.keys() if \"X\" in col]\n",
    "for col in tqdm(valid_col):\n",
    "    data = train_df.select([pl.col(col), pl.col(\"label\")]).collect().to_pandas()\n",
    "    data[\"label\"] = data[\"label\"].apply(lambda x: check_quantile(x))\n",
    "    # levene test for equal variance\n",
    "    pos = data[data[\"label\"] == \"pos\"][col].tolist()\n",
    "    neg = data[data[\"label\"] == \"neg\"][col].tolist()\n",
    "    neu = data[data[\"label\"] == \"neu\"][col].tolist()\n",
    "    _, pvalue= levene(pos, neg, neu)\n",
    "    if pvalue < 0.05:\n",
    "        # do anova test later\n",
    "        _, pvalue = f_oneway(pos, neg, neu)\n",
    "        if pvalue < 0.05:\n",
    "            valid.append(col)\n",
    "print(len(valid))"
   ]
  },
  {
   "cell_type": "code",
   "execution_count": null,
   "id": "02443229",
   "metadata": {},
   "outputs": [],
   "source": [
    "valid"
   ]
  },
  {
   "cell_type": "code",
   "execution_count": null,
   "id": "77becb2d",
   "metadata": {},
   "outputs": [],
   "source": [
    "popular_cols = [c for c in train_df.schema.keys() if \"X\" not in c and \"label\" not in c]\n",
    "popular_valid = []\n",
    "for col in tqdm(popular_cols):\n",
    "    data = train_df.select([pl.col(col), pl.col(\"label\")]).collect().to_pandas()\n",
    "    data[\"label\"] = data[\"label\"].apply(lambda x: check_quantile(x))\n",
    "    # levene test for equal variance\n",
    "    pos = data[data[\"label\"] == \"pos\"][col].tolist()\n",
    "    neg = data[data[\"label\"] == \"neg\"][col].tolist()\n",
    "    neu = data[data[\"label\"] == \"neu\"][col].tolist()\n",
    "    _, pvalue= levene(pos, neg, neu)\n",
    "    if pvalue < 0.05:\n",
    "        # do anova test later\n",
    "        _, pvalue = f_oneway(pos, neg, neu)\n",
    "        if pvalue < 0.05:\n",
    "            popular_valid.append(col)\n",
    "print(len(popular_valid))"
   ]
  },
  {
   "cell_type": "markdown",
   "id": "d8017a92",
   "metadata": {},
   "source": [
    "Maybe try to clustering features to look at how features correlated to each other"
   ]
  },
  {
   "cell_type": "code",
   "execution_count": null,
   "id": "080b43e2",
   "metadata": {},
   "outputs": [],
   "source": [
    "# we have about 900 rows for 900 features, we might only look at a subset of data to prevent too large data\n",
    "# use around 7 days (60 * 24 * 7 = 10080) to prevent too much data\n",
    "X = train_df.slice(offset = 0, length = 10080).collect().to_numpy().T\n",
    "for i in range(X.shape[0]):\n",
    "    if np.linalg.norm(X[i, :]) == 0:\n",
    "        X[i, :] += 1e-10"
   ]
  },
  {
   "cell_type": "code",
   "execution_count": null,
   "id": "318dc72f",
   "metadata": {},
   "outputs": [],
   "source": [
    "distance_matrix = pdist(X, metric='cosine')  \n",
    "linkage_matrix = linkage(distance_matrix, method='median') "
   ]
  },
  {
   "cell_type": "code",
   "execution_count": null,
   "id": "4534b85c",
   "metadata": {},
   "outputs": [],
   "source": [
    "clusters = fcluster(linkage_matrix, t=50, criterion='maxclust')\n",
    "clusters_df = pd.DataFrame({\n",
    "    \"var\": list(train_df.schema.keys()),\n",
    "    \"cluster\": clusters\n",
    "})\n",
    "clusters_df"
   ]
  },
  {
   "cell_type": "code",
   "execution_count": null,
   "id": "dca0fc10",
   "metadata": {},
   "outputs": [],
   "source": [
    "clusters_df[\"cluster\"].value_counts()"
   ]
  },
  {
   "cell_type": "code",
   "execution_count": null,
   "id": "d001fa7c",
   "metadata": {},
   "outputs": [],
   "source": [
    "clusters_df[clusters_df[\"cluster\"] == 33][\"var\"].tolist()"
   ]
  },
  {
   "cell_type": "code",
   "execution_count": null,
   "id": "08f6a83c",
   "metadata": {},
   "outputs": [],
   "source": [
    "clusters_df[clusters_df[\"var\"] == \"label\"]"
   ]
  },
  {
   "cell_type": "code",
   "execution_count": null,
   "id": "0fbc4f61",
   "metadata": {},
   "outputs": [],
   "source": [
    "clusters_df[clusters_df[\"cluster\"] == 43]"
   ]
  },
  {
   "cell_type": "code",
   "execution_count": null,
   "id": "c06355db",
   "metadata": {},
   "outputs": [],
   "source": [
    "X = train_df.slice(offset = 10080, length = 10080).collect().to_numpy().T\n",
    "for i in range(X.shape[0]):\n",
    "    if np.linalg.norm(X[i, :]) == 0:\n",
    "        X[i, :] += 1e-10"
   ]
  },
  {
   "cell_type": "code",
   "execution_count": null,
   "id": "f4116c73",
   "metadata": {},
   "outputs": [],
   "source": [
    "distance_matrix = pdist(X, metric='cosine')  \n",
    "linkage_matrix = linkage(distance_matrix, method='median') "
   ]
  },
  {
   "cell_type": "code",
   "execution_count": null,
   "id": "c02f5278",
   "metadata": {},
   "outputs": [],
   "source": [
    "clusters = fcluster(linkage_matrix, t=50, criterion='maxclust')\n",
    "clusters_df = pd.DataFrame({\n",
    "    \"var\": list(train_df.schema.keys()),\n",
    "    \"cluster\": clusters\n",
    "})\n",
    "clusters_df"
   ]
  },
  {
   "cell_type": "code",
   "execution_count": null,
   "id": "8b94c71c",
   "metadata": {},
   "outputs": [],
   "source": [
    "clusters_df[\"cluster\"].value_counts()"
   ]
  },
  {
   "cell_type": "code",
   "execution_count": null,
   "id": "fcb3c491",
   "metadata": {},
   "outputs": [],
   "source": [
    "clusters_df[clusters_df[\"cluster\"] == 23][\"var\"].tolist()"
   ]
  },
  {
   "cell_type": "code",
   "execution_count": null,
   "id": "2ef0d9d0",
   "metadata": {},
   "outputs": [],
   "source": [
    "clusters_df[clusters_df[\"cluster\"] == 18][\"var\"].tolist()"
   ]
  },
  {
   "cell_type": "code",
   "execution_count": null,
   "id": "75c1252a",
   "metadata": {},
   "outputs": [],
   "source": [
    "clusters_df[clusters_df[\"var\"] == \"label\"]"
   ]
  },
  {
   "cell_type": "code",
   "execution_count": null,
   "id": "b154b462",
   "metadata": {},
   "outputs": [],
   "source": [
    "X = train_df.slice(offset = 10080 * 28, length = 10080).collect().to_numpy().T\n",
    "for i in range(X.shape[0]):\n",
    "    if np.linalg.norm(X[i, :]) == 0:\n",
    "        X[i, :] += 1e-10"
   ]
  },
  {
   "cell_type": "code",
   "execution_count": null,
   "id": "64a63b7c",
   "metadata": {},
   "outputs": [],
   "source": [
    "distance_matrix = pdist(X, metric='cosine')  \n",
    "linkage_matrix = linkage(distance_matrix, method='median') "
   ]
  },
  {
   "cell_type": "code",
   "execution_count": null,
   "id": "ac3b5391",
   "metadata": {},
   "outputs": [],
   "source": [
    "clusters = fcluster(linkage_matrix, t=50, criterion='maxclust')\n",
    "clusters_df = pd.DataFrame({\n",
    "    \"var\": list(train_df.schema.keys()),\n",
    "    \"cluster\": clusters\n",
    "})\n",
    "clusters_df"
   ]
  },
  {
   "cell_type": "code",
   "execution_count": null,
   "id": "45ae5040",
   "metadata": {},
   "outputs": [],
   "source": [
    "clusters_df[\"cluster\"].value_counts()"
   ]
  },
  {
   "cell_type": "code",
   "execution_count": null,
   "id": "dc9fe14a",
   "metadata": {},
   "outputs": [],
   "source": [
    "clusters_df[clusters_df[\"cluster\"] == 32][\"var\"].tolist()"
   ]
  },
  {
   "cell_type": "code",
   "execution_count": null,
   "id": "cfdbcc9f",
   "metadata": {},
   "outputs": [],
   "source": [
    "clusters_df[clusters_df[\"cluster\"] == 20][\"var\"].tolist()"
   ]
  },
  {
   "cell_type": "markdown",
   "id": "40018133",
   "metadata": {},
   "source": [
    "Analyze if any features is constants over time"
   ]
  },
  {
   "cell_type": "code",
   "execution_count": null,
   "id": "c4b83e05",
   "metadata": {},
   "outputs": [],
   "source": [
    "valid_col = [col for col in train_df.schema.keys() if \"X\" in col]\n",
    "for col in tqdm(valid_col):\n",
    "    temp = train_df.select([pl.col(\"timestamp\"), pl.col(col)]).collect().to_pandas()\n",
    "    temp[\"month\"] = temp[\"timestamp\"].dt.month\n",
    "    month_var = temp.drop(\"timestamp\", axis = 1).groupby(\"month\").var()\n",
    "    if (month_var.max() == 0).all():\n",
    "        print(f\"{col} is constant across month\")\n",
    "    temp[\"week\"] = temp[\"timestamp\"].dt.isocalendar().week\n",
    "    week_var = temp.drop(\"timestamp\", axis = 1).groupby([\"month\", \"week\"]).var()\n",
    "    if (week_var.max() == 0).all():\n",
    "        print(f\"{col} is constant across week\")\n",
    "    temp[\"day\"] = temp[\"timestamp\"].dt.day\n",
    "    day_var = temp.drop(\"timestamp\", axis = 1).groupby([\"month\", \"week\", \"day\"]).var()\n",
    "    if (day_var.max() == 0).all():\n",
    "        print(f\"{col} is constant across day\")\n",
    "    temp[\"hour\"] = temp[\"timestamp\"].dt.hour\n",
    "    hour_var = temp.drop(\"timestamp\", axis = 1).groupby([\"month\", \"week\", \"day\", \"hour\"]).var()\n",
    "    if (hour_var.max() == 0).all():\n",
    "        print(f\"{col} is constant across hour\")"
   ]
  },
  {
   "cell_type": "markdown",
   "id": "4a2d87f6",
   "metadata": {},
   "source": [
    "Analyze regime from other variables (volume, as sugggested in Kaggle)"
   ]
  },
  {
   "cell_type": "code",
   "execution_count": 18,
   "id": "c4cbea23",
   "metadata": {},
   "outputs": [
    {
     "data": {
      "text/plain": [
       "<Axes: xlabel='__index_level_0__', ylabel='label'>"
      ]
     },
     "execution_count": 18,
     "metadata": {},
     "output_type": "execute_result"
    },
    {
     "data": {
      "image/png": "[encoded data removed]",
      "text/plain": [
       "<Figure size 640x480 with 1 Axes>"
      ]
     },
     "metadata": {},
     "output_type": "display_data"
    }
   ],
   "source": [
    "label_over_time = train_df.select([\"__index_level_0__\", \"label\"]).collect().to_pandas()\n",
    "sns.lineplot(data = label_over_time, x = \"__index_level_0__\", y = \"label\")"
   ]
  },
  {
   "cell_type": "code",
   "execution_count": 19,
   "id": "a420bd17",
   "metadata": {},
   "outputs": [
    {
     "data": {
      "text/plain": [
       "<Axes: xlabel='__index_level_0__', ylabel='volume'>"
      ]
     },
     "execution_count": 19,
     "metadata": {},
     "output_type": "execute_result"
    },
    {
     "data": {
      "image/png": "[encoded data removed]",
      "text/plain": [
       "<Figure size 640x480 with 1 Axes>"
      ]
     },
     "metadata": {},
     "output_type": "display_data"
    }
   ],
   "source": [
    "volume_over_time = train_df.select([\"__index_level_0__\", \"volume\"]).collect().to_pandas()\n",
    "sns.lineplot(data = volume_over_time, x = \"__index_level_0__\", y = \"volume\")"
   ]
  },
  {
   "cell_type": "code",
   "execution_count": 20,
   "id": "e95caa60",
   "metadata": {},
   "outputs": [
    {
     "data": {
      "text/plain": [
       "<Axes: xlabel='volume', ylabel='Count'>"
      ]
     },
     "execution_count": 20,
     "metadata": {},
     "output_type": "execute_result"
    },
    {
     "data": {
      "image/png": "[encoded data removed]",
      "text/plain": [
       "<Figure size 640x480 with 1 Axes>"
      ]
     },
     "metadata": {},
     "output_type": "display_data"
    }
   ],
   "source": [
    "sns.histplot(data = volume_over_time, x = \"volume\")"
   ]
  },
  {
   "cell_type": "code",
   "execution_count": 34,
   "id": "021c893b",
   "metadata": {},
   "outputs": [
    {
     "data": {
      "image/png": "[encoded data removed]",
      "text/plain": [
       "<Figure size 1500x1000 with 4 Axes>"
      ]
     },
     "metadata": {},
     "output_type": "display_data"
    }
   ],
   "source": [
    "bid_ask_over_time = train_df.select([\"__index_level_0__\", \"bid_qty\", \"ask_qty\"]).collect().to_pandas()\n",
    "fig, ax = plt.subplots(figsize=(15, 10), nrows = 2, ncols = 2)\n",
    "sns.lineplot(bid_ask_over_time, x = \"__index_level_0__\", y = \"bid_qty\", ax = ax[0][0])\n",
    "sns.lineplot(bid_ask_over_time, x = \"__index_level_0__\", y = \"ask_qty\", ax = ax[0][1])\n",
    "sns.histplot(np.log(bid_ask_over_time[\"bid_qty\"]), ax = ax[1][0])\n",
    "sns.histplot(np.log(bid_ask_over_time[\"ask_qty\"]), ax = ax[1][1])\n",
    "plt.show()"
   ]
  },
  {
   "cell_type": "code",
   "execution_count": 37,
   "id": "a0e317e5",
   "metadata": {},
   "outputs": [
    {
     "name": "stderr",
     "output_type": "stream",
     "text": [
      "/Users/justpqa/drw-crypto-market-prediction/venv/lib/python3.9/site-packages/pandas/core/arraylike.py:399: RuntimeWarning: divide by zero encountered in log\n",
      "  result = getattr(ufunc, method)(*inputs, **kwargs)\n",
      "/Users/justpqa/drw-crypto-market-prediction/venv/lib/python3.9/site-packages/pandas/core/arraylike.py:399: RuntimeWarning: divide by zero encountered in log\n",
      "  result = getattr(ufunc, method)(*inputs, **kwargs)\n"
     ]
    },
    {
     "data": {
      "image/png": "[encoded data removed]",
      "text/plain": [
       "<Figure size 1500x1000 with 4 Axes>"
      ]
     },
     "metadata": {},
     "output_type": "display_data"
    }
   ],
   "source": [
    "buy_sell_over_time = train_df.select([\"__index_level_0__\", \"buy_qty\", \"sell_qty\"]).collect().to_pandas()\n",
    "fig, ax = plt.subplots(figsize=(15, 10), nrows = 2, ncols = 2)\n",
    "sns.lineplot(data = buy_sell_over_time, x = \"__index_level_0__\", y = \"buy_qty\", ax = ax[0][0])\n",
    "sns.lineplot(data = buy_sell_over_time, x = \"__index_level_0__\", y = \"sell_qty\", ax = ax[0][1])\n",
    "sns.histplot(data = np.log(buy_sell_over_time[\"buy_qty\"]), ax = ax[1][0])\n",
    "sns.histplot(data = np.log(buy_sell_over_time[\"sell_qty\"]), ax = ax[1][1])\n",
    "plt.show()"
   ]
  },
  {
   "cell_type": "code",
   "execution_count": null,
   "id": "4afa850d",
   "metadata": {},
   "outputs": [],
   "source": []
  }
 ],
 "metadata": {
  "kernelspec": {
   "display_name": "venv",
   "language": "python",
   "name": "python3"
  },
  "language_info": {
   "codemirror_mode": {
    "name": "ipython",
    "version": 3
   },
   "file_extension": ".py",
   "mimetype": "text/x-python",
   "name": "python",
   "nbconvert_exporter": "python",
   "pygments_lexer": "ipython3",
   "version": "3.9.6"
  }
 },
 "nbformat": 4,
 "nbformat_minor": 5
}
