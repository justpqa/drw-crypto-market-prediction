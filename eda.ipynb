{
 "cells": [
  {
   "cell_type": "code",
   "execution_count": 1,
   "id": "4ea9bfa1",
   "metadata": {},
   "outputs": [],
   "source": [
    "from tqdm import tqdm\n",
    "import gc\n",
    "import pickle\n",
    "import pandas as pd\n",
    "import polars as pl\n",
    "import numpy as np\n",
    "import matplotlib.pyplot as plt\n",
    "import seaborn as sns\n",
    "from sklearn.decomposition import PCA, IncrementalPCA\n",
    "from statsmodels.graphics.tsaplots import plot_acf, plot_pacf\n",
    "from scipy.cluster.hierarchy import linkage, dendrogram\n",
    "from scipy.spatial.distance import pdist\n",
    "from scipy.cluster.hierarchy import fcluster"
   ]
  },
  {
   "cell_type": "code",
   "execution_count": 2,
   "id": "c93e7217",
   "metadata": {},
   "outputs": [],
   "source": [
    "train_df = pl.read_parquet(\n",
    "    \"data/raw/train.parquet\",\n",
    "    use_pyarrow=True,   \n",
    "    low_memory=True\n",
    ").lazy()"
   ]
  },
  {
   "cell_type": "code",
   "execution_count": 3,
   "id": "7ff8adc0",
   "metadata": {},
   "outputs": [],
   "source": [
    "test_df = pl.read_parquet(\n",
    "    \"data/raw/test.parquet\",\n",
    "    use_pyarrow=True,   \n",
    "    low_memory=True\n",
    ").lazy()"
   ]
  },
  {
   "cell_type": "code",
   "execution_count": 4,
   "id": "9968ed2b",
   "metadata": {},
   "outputs": [
    {
     "name": "stdout",
     "output_type": "stream",
     "text": [
      "['bid_qty', 'ask_qty', 'buy_qty', 'sell_qty', 'volume', 'X1', 'X2', 'X3', 'X4', 'X5', 'X6', 'X7', 'X8', 'X9', 'X10', 'X11', 'X12', 'X13', 'X14', 'X15', 'X16', 'X17', 'X18', 'X19', 'X20', 'X21', 'X22', 'X23', 'X24', 'X25', 'X26', 'X27', 'X28', 'X29', 'X30', 'X31', 'X32', 'X33', 'X34', 'X35', 'X36', 'X37', 'X38', 'X39', 'X40', 'X41', 'X42', 'X43', 'X44', 'X45', 'X46', 'X47', 'X48', 'X49', 'X50', 'X51', 'X52', 'X53', 'X54', 'X55', 'X56', 'X57', 'X58', 'X59', 'X60', 'X61', 'X62', 'X63', 'X64', 'X65', 'X66', 'X67', 'X68', 'X69', 'X70', 'X71', 'X72', 'X73', 'X74', 'X75', 'X76', 'X77', 'X78', 'X79', 'X80', 'X81', 'X82', 'X83', 'X84', 'X85', 'X86', 'X87', 'X88', 'X89', 'X90', 'X91', 'X92', 'X93', 'X94', 'X95', 'X96', 'X97', 'X98', 'X99', 'X100', 'X101', 'X102', 'X103', 'X104', 'X105', 'X106', 'X107', 'X108', 'X109', 'X110', 'X111', 'X112', 'X113', 'X114', 'X115', 'X116', 'X117', 'X118', 'X119', 'X120', 'X121', 'X122', 'X123', 'X124', 'X125', 'X126', 'X127', 'X128', 'X129', 'X130', 'X131', 'X132', 'X133', 'X134', 'X135', 'X136', 'X137', 'X138', 'X139', 'X140', 'X141', 'X142', 'X143', 'X144', 'X145', 'X146', 'X147', 'X148', 'X149', 'X150', 'X151', 'X152', 'X153', 'X154', 'X155', 'X156', 'X157', 'X158', 'X159', 'X160', 'X161', 'X162', 'X163', 'X164', 'X165', 'X166', 'X167', 'X168', 'X169', 'X170', 'X171', 'X172', 'X173', 'X174', 'X175', 'X176', 'X177', 'X178', 'X179', 'X180', 'X181', 'X182', 'X183', 'X184', 'X185', 'X186', 'X187', 'X188', 'X189', 'X190', 'X191', 'X192', 'X193', 'X194', 'X195', 'X196', 'X197', 'X198', 'X199', 'X200', 'X201', 'X202', 'X203', 'X204', 'X205', 'X206', 'X207', 'X208', 'X209', 'X210', 'X211', 'X212', 'X213', 'X214', 'X215', 'X216', 'X217', 'X218', 'X219', 'X220', 'X221', 'X222', 'X223', 'X224', 'X225', 'X226', 'X227', 'X228', 'X229', 'X230', 'X231', 'X232', 'X233', 'X234', 'X235', 'X236', 'X237', 'X238', 'X239', 'X240', 'X241', 'X242', 'X243', 'X244', 'X245', 'X246', 'X247', 'X248', 'X249', 'X250', 'X251', 'X252', 'X253', 'X254', 'X255', 'X256', 'X257', 'X258', 'X259', 'X260', 'X261', 'X262', 'X263', 'X264', 'X265', 'X266', 'X267', 'X268', 'X269', 'X270', 'X271', 'X272', 'X273', 'X274', 'X275', 'X276', 'X277', 'X278', 'X279', 'X280', 'X281', 'X282', 'X283', 'X284', 'X285', 'X286', 'X287', 'X288', 'X289', 'X290', 'X291', 'X292', 'X293', 'X294', 'X295', 'X296', 'X297', 'X298', 'X299', 'X300', 'X301', 'X302', 'X303', 'X304', 'X305', 'X306', 'X307', 'X308', 'X309', 'X310', 'X311', 'X312', 'X313', 'X314', 'X315', 'X316', 'X317', 'X318', 'X319', 'X320', 'X321', 'X322', 'X323', 'X324', 'X325', 'X326', 'X327', 'X328', 'X329', 'X330', 'X331', 'X332', 'X333', 'X334', 'X335', 'X336', 'X337', 'X338', 'X339', 'X340', 'X341', 'X342', 'X343', 'X344', 'X345', 'X346', 'X347', 'X348', 'X349', 'X350', 'X351', 'X352', 'X353', 'X354', 'X355', 'X356', 'X357', 'X358', 'X359', 'X360', 'X361', 'X362', 'X363', 'X364', 'X365', 'X366', 'X367', 'X368', 'X369', 'X370', 'X371', 'X372', 'X373', 'X374', 'X375', 'X376', 'X377', 'X378', 'X379', 'X380', 'X381', 'X382', 'X383', 'X384', 'X385', 'X386', 'X387', 'X388', 'X389', 'X390', 'X391', 'X392', 'X393', 'X394', 'X395', 'X396', 'X397', 'X398', 'X399', 'X400', 'X401', 'X402', 'X403', 'X404', 'X405', 'X406', 'X407', 'X408', 'X409', 'X410', 'X411', 'X412', 'X413', 'X414', 'X415', 'X416', 'X417', 'X418', 'X419', 'X420', 'X421', 'X422', 'X423', 'X424', 'X425', 'X426', 'X427', 'X428', 'X429', 'X430', 'X431', 'X432', 'X433', 'X434', 'X435', 'X436', 'X437', 'X438', 'X439', 'X440', 'X441', 'X442', 'X443', 'X444', 'X445', 'X446', 'X447', 'X448', 'X449', 'X450', 'X451', 'X452', 'X453', 'X454', 'X455', 'X456', 'X457', 'X458', 'X459', 'X460', 'X461', 'X462', 'X463', 'X464', 'X465', 'X466', 'X467', 'X468', 'X469', 'X470', 'X471', 'X472', 'X473', 'X474', 'X475', 'X476', 'X477', 'X478', 'X479', 'X480', 'X481', 'X482', 'X483', 'X484', 'X485', 'X486', 'X487', 'X488', 'X489', 'X490', 'X491', 'X492', 'X493', 'X494', 'X495', 'X496', 'X497', 'X498', 'X499', 'X500', 'X501', 'X502', 'X503', 'X504', 'X505', 'X506', 'X507', 'X508', 'X509', 'X510', 'X511', 'X512', 'X513', 'X514', 'X515', 'X516', 'X517', 'X518', 'X519', 'X520', 'X521', 'X522', 'X523', 'X524', 'X525', 'X526', 'X527', 'X528', 'X529', 'X530', 'X531', 'X532', 'X533', 'X534', 'X535', 'X536', 'X537', 'X538', 'X539', 'X540', 'X541', 'X542', 'X543', 'X544', 'X545', 'X546', 'X547', 'X548', 'X549', 'X550', 'X551', 'X552', 'X553', 'X554', 'X555', 'X556', 'X557', 'X558', 'X559', 'X560', 'X561', 'X562', 'X563', 'X564', 'X565', 'X566', 'X567', 'X568', 'X569', 'X570', 'X571', 'X572', 'X573', 'X574', 'X575', 'X576', 'X577', 'X578', 'X579', 'X580', 'X581', 'X582', 'X583', 'X584', 'X585', 'X586', 'X587', 'X588', 'X589', 'X590', 'X591', 'X592', 'X593', 'X594', 'X595', 'X596', 'X597', 'X598', 'X599', 'X600', 'X601', 'X602', 'X603', 'X604', 'X605', 'X606', 'X607', 'X608', 'X609', 'X610', 'X611', 'X612', 'X613', 'X614', 'X615', 'X616', 'X617', 'X618', 'X619', 'X620', 'X621', 'X622', 'X623', 'X624', 'X625', 'X626', 'X627', 'X628', 'X629', 'X630', 'X631', 'X632', 'X633', 'X634', 'X635', 'X636', 'X637', 'X638', 'X639', 'X640', 'X641', 'X642', 'X643', 'X644', 'X645', 'X646', 'X647', 'X648', 'X649', 'X650', 'X651', 'X652', 'X653', 'X654', 'X655', 'X656', 'X657', 'X658', 'X659', 'X660', 'X661', 'X662', 'X663', 'X664', 'X665', 'X666', 'X667', 'X668', 'X669', 'X670', 'X671', 'X672', 'X673', 'X674', 'X675', 'X676', 'X677', 'X678', 'X679', 'X680', 'X681', 'X682', 'X683', 'X684', 'X685', 'X686', 'X687', 'X688', 'X689', 'X690', 'X691', 'X692', 'X693', 'X694', 'X695', 'X696', 'X697', 'X698', 'X699', 'X700', 'X701', 'X702', 'X703', 'X704', 'X705', 'X706', 'X707', 'X708', 'X709', 'X710', 'X711', 'X712', 'X713', 'X714', 'X715', 'X716', 'X717', 'X718', 'X719', 'X720', 'X721', 'X722', 'X723', 'X724', 'X725', 'X726', 'X727', 'X728', 'X729', 'X730', 'X731', 'X732', 'X733', 'X734', 'X735', 'X736', 'X737', 'X738', 'X739', 'X740', 'X741', 'X742', 'X743', 'X744', 'X745', 'X746', 'X747', 'X748', 'X749', 'X750', 'X751', 'X752', 'X753', 'X754', 'X755', 'X756', 'X757', 'X758', 'X759', 'X760', 'X761', 'X762', 'X763', 'X764', 'X765', 'X766', 'X767', 'X768', 'X769', 'X770', 'X771', 'X772', 'X773', 'X774', 'X775', 'X776', 'X777', 'X778', 'X779', 'X780', 'X781', 'X782', 'X783', 'X784', 'X785', 'X786', 'X787', 'X788', 'X789', 'X790', 'X791', 'X792', 'X793', 'X794', 'X795', 'X796', 'X797', 'X798', 'X799', 'X800', 'X801', 'X802', 'X803', 'X804', 'X805', 'X806', 'X807', 'X808', 'X809', 'X810', 'X811', 'X812', 'X813', 'X814', 'X815', 'X816', 'X817', 'X818', 'X819', 'X820', 'X821', 'X822', 'X823', 'X824', 'X825', 'X826', 'X827', 'X828', 'X829', 'X830', 'X831', 'X832', 'X833', 'X834', 'X835', 'X836', 'X837', 'X838', 'X839', 'X840', 'X841', 'X842', 'X843', 'X844', 'X845', 'X846', 'X847', 'X848', 'X849', 'X850', 'X851', 'X852', 'X853', 'X854', 'X855', 'X856', 'X857', 'X858', 'X859', 'X860', 'X861', 'X862', 'X863', 'X864', 'X865', 'X866', 'X867', 'X868', 'X869', 'X870', 'X871', 'X872', 'X873', 'X874', 'X875', 'X876', 'X877', 'X878', 'X879', 'X880', 'X881', 'X882', 'X883', 'X884', 'X885', 'X886', 'X887', 'X888', 'X889', 'X890', 'label', 'timestamp']\n"
     ]
    },
    {
     "name": "stderr",
     "output_type": "stream",
     "text": [
      "/var/folders/5b/jn4p_4vx7j9gx2jdrmbjlxnr0000gn/T/ipykernel_40638/293337480.py:1: PerformanceWarning: Determining the column names of a LazyFrame requires resolving its schema, which is a potentially expensive operation. Use `LazyFrame.collect_schema().names()` to get the column names without this warning.\n",
      "  print(train_df.columns)\n"
     ]
    }
   ],
   "source": [
    "print(train_df.columns)"
   ]
  },
  {
   "cell_type": "code",
   "execution_count": 5,
   "id": "98e35c4d",
   "metadata": {},
   "outputs": [
    {
     "data": {
      "text/plain": [
       "Text(0.5, 1.0, 'Label Distribution')"
      ]
     },
     "execution_count": 5,
     "metadata": {},
     "output_type": "execute_result"
    },
    {
     "data": {
      "image/png": "[encoded data removed]",
      "text/plain": [
       "<Figure size 640x480 with 1 Axes>"
      ]
     },
     "metadata": {},
     "output_type": "display_data"
    }
   ],
   "source": [
    "sns.histplot(train_df.select(\"label\").collect().to_numpy())\n",
    "plt.xlim([-7.5, 7.5])\n",
    "plt.title(\"Label Distribution\")"
   ]
  },
  {
   "cell_type": "code",
   "execution_count": 6,
   "id": "4791c11f",
   "metadata": {},
   "outputs": [],
   "source": [
    "# drop timestamp since test data does not have timestamp\n",
    "train_df = train_df.drop(\"timestamp\")"
   ]
  },
  {
   "cell_type": "code",
   "execution_count": 7,
   "id": "b1c61f52",
   "metadata": {},
   "outputs": [
    {
     "data": {
      "text/plain": [
       "[]"
      ]
     },
     "execution_count": 7,
     "metadata": {},
     "output_type": "execute_result"
    }
   ],
   "source": [
    "# Check for nas in train or test\n",
    "temp = train_df.null_count().collect()\n",
    "has_null_col = [col for col in temp.columns if temp[col].sum() != 0]\n",
    "has_null_col"
   ]
  },
  {
   "cell_type": "code",
   "execution_count": 8,
   "id": "3457572d",
   "metadata": {},
   "outputs": [
    {
     "data": {
      "text/plain": [
       "[]"
      ]
     },
     "execution_count": 8,
     "metadata": {},
     "output_type": "execute_result"
    }
   ],
   "source": [
    "temp = test_df.null_count().collect()\n",
    "has_null_col = [col for col in temp.columns if temp[col].sum() != 0]\n",
    "has_null_col\n",
    "# no nas issue in train and test"
   ]
  },
  {
   "cell_type": "code",
   "execution_count": 9,
   "id": "62c8f8ae",
   "metadata": {},
   "outputs": [
    {
     "name": "stdout",
     "output_type": "stream",
     "text": [
      "{Float64}\n"
     ]
    },
    {
     "name": "stderr",
     "output_type": "stream",
     "text": [
      "/var/folders/5b/jn4p_4vx7j9gx2jdrmbjlxnr0000gn/T/ipykernel_40638/1737341288.py:2: PerformanceWarning: Determining the data types of a LazyFrame requires resolving its schema, which is a potentially expensive operation. Use `LazyFrame.collect_schema().dtypes()` to get the data types without this warning.\n",
      "  print(set(train_df.dtypes))\n"
     ]
    }
   ],
   "source": [
    "# check all possible datatypes\n",
    "print(set(train_df.dtypes))"
   ]
  },
  {
   "cell_type": "code",
   "execution_count": 10,
   "id": "ae0884b4",
   "metadata": {},
   "outputs": [
    {
     "name": "stderr",
     "output_type": "stream",
     "text": [
      "/var/folders/5b/jn4p_4vx7j9gx2jdrmbjlxnr0000gn/T/ipykernel_40638/2295361549.py:3: PerformanceWarning: Determining the column names of a LazyFrame requires resolving its schema, which is a potentially expensive operation. Use `LazyFrame.collect_schema().names()` to get the column names without this warning.\n",
      "  for col in train_df.columns:\n"
     ]
    },
    {
     "name": "stdout",
     "output_type": "stream",
     "text": [
      "['X697', 'X698', 'X699', 'X700', 'X701', 'X702', 'X703', 'X704', 'X705', 'X706', 'X707', 'X708', 'X709', 'X710', 'X711', 'X712', 'X713', 'X714', 'X715', 'X716', 'X717', 'X864', 'X867', 'X869', 'X870', 'X871', 'X872']\n"
     ]
    }
   ],
   "source": [
    "# check for possible constant columns\n",
    "constant_columns = []\n",
    "for col in train_df.columns:\n",
    "    if train_df.select(col).min().collect()[0, 0] == train_df.select(col).max().collect()[0, 0]:\n",
    "        constant_columns.append(col)\n",
    "print(constant_columns)"
   ]
  },
  {
   "cell_type": "code",
   "execution_count": 11,
   "id": "99119258",
   "metadata": {},
   "outputs": [
    {
     "name": "stdout",
     "output_type": "stream",
     "text": [
      "set()\n"
     ]
    }
   ],
   "source": [
    "# check if same issue might also appear in test\n",
    "actual_constant_columns = []\n",
    "for col in constant_columns:\n",
    "    if train_df.select(col).min().collect()[0, 0] == train_df.select(col).max().collect()[0, 0]:\n",
    "        actual_constant_columns.append(col)\n",
    "print(set(constant_columns) - set(actual_constant_columns)) # all are constant => can remove?"
   ]
  },
  {
   "cell_type": "code",
   "execution_count": 12,
   "id": "59d133bd",
   "metadata": {},
   "outputs": [],
   "source": [
    "train_df = train_df.drop(actual_constant_columns)"
   ]
  },
  {
   "cell_type": "code",
   "execution_count": 13,
   "id": "8d591291",
   "metadata": {},
   "outputs": [],
   "source": [
    "# # get columns pair that is perfectly (or very highly) correlated\n",
    "# correlated_pair = []\n",
    "# col_names = train_df.collect_schema().names()\n",
    "# for i in tqdm(range(len(col_names) - 1)):\n",
    "#     col1 = col_names[i]\n",
    "#     if col1 not in constant_columns:\n",
    "#         for j in range(i + 1, len(col_names)):\n",
    "#             col2 = col_names[j]\n",
    "#             if col2 not in constant_columns:\n",
    "#                 x = train_df.select(col1).collect()[col1].to_numpy()\n",
    "#                 y = train_df.select(col2).collect()[col2].to_numpy()\n",
    "#                 if np.corrcoef(x, y)[0][1] == 1:\n",
    "#                     correlated_pair.append(f\"{col1}-{col2}\")\n",
    "# print(correlated_pair)\n",
    "# print(len(correlated_pair))"
   ]
  },
  {
   "cell_type": "code",
   "execution_count": 14,
   "id": "a6e3e7d2",
   "metadata": {},
   "outputs": [
    {
     "data": {
      "text/plain": [
       "{'X140-X182', 'X321-X363', 'X321-X405', 'X363-X405', 'X98-X140', 'X98-X182'}"
      ]
     },
     "execution_count": 14,
     "metadata": {},
     "output_type": "execute_result"
    }
   ],
   "source": [
    "correlated_pair = ['X62-X104', 'X62-X146', 'X74-X116', 'X74-X158', 'X86-X128', 'X86-X170', 'X92-X134', 'X92-X176', 'X98-X140', 'X98-X182', 'X104-X146', 'X116-X158', 'X128-X170', 'X134-X176', 'X140-X182', 'X315-X357', 'X315-X399', 'X321-X363', 'X321-X405', 'X327-X369', 'X327-X411', 'X333-X375', 'X333-X417', 'X339-X381', 'X339-X423', 'X357-X399', 'X363-X405', 'X369-X411', 'X375-X417', 'X381-X423']\n",
    "actual_correlated_pair = []\n",
    "for cp in correlated_pair:\n",
    "    col1, col2 = cp.split(\"-\")\n",
    "    x = test_df.select(col1).collect()[col1].to_numpy()\n",
    "    y = test_df.select(col2).collect()[col2].to_numpy()\n",
    "    if np.corrcoef(x, y)[0][1] == 1:\n",
    "        actual_correlated_pair.append(f\"{col1}-{col2}\")\n",
    "set(correlated_pair) - set(actual_correlated_pair)"
   ]
  },
  {
   "cell_type": "code",
   "execution_count": 15,
   "id": "8fdb1dd7",
   "metadata": {},
   "outputs": [
    {
     "data": {
      "text/plain": [
       "[['X62', 'X104', 'X146'],\n",
       " ['X74', 'X116', 'X158'],\n",
       " ['X128', 'X170', 'X86'],\n",
       " ['X92', 'X176', 'X134'],\n",
       " ['X315', 'X357', 'X399'],\n",
       " ['X411', 'X369', 'X327'],\n",
       " ['X333', 'X417', 'X375'],\n",
       " ['X423', 'X381', 'X339']]"
      ]
     },
     "execution_count": 15,
     "metadata": {},
     "output_type": "execute_result"
    }
   ],
   "source": [
    "# Group into correlated group\n",
    "correlated_group = []\n",
    "for cp in actual_correlated_pair:\n",
    "    cp_lst = cp.split(\"-\")\n",
    "    added = False\n",
    "    for inx, cg in enumerate(correlated_group):\n",
    "        for var in cp_lst:\n",
    "            if var in cg:\n",
    "                correlated_group[inx].extend(cp_lst)\n",
    "                correlated_group[inx] = list(set(correlated_group[inx]))\n",
    "                added = True\n",
    "                break\n",
    "        if added:\n",
    "            break\n",
    "    if not added:\n",
    "        correlated_group.append(cp_lst)\n",
    "correlated_group\n",
    "# 8 groups of perfectly correlated features, try to check if same things happen in test"
   ]
  },
  {
   "cell_type": "code",
   "execution_count": 16,
   "id": "757c696e",
   "metadata": {},
   "outputs": [],
   "source": [
    "removed_col = []\n",
    "for cg in correlated_group:\n",
    "    removed_col.extend(cg[1:])\n",
    "train_df = train_df.drop(removed_col)"
   ]
  },
  {
   "cell_type": "code",
   "execution_count": 17,
   "id": "be7a6a8a",
   "metadata": {},
   "outputs": [
    {
     "name": "stderr",
     "output_type": "stream",
     "text": [
      "100%|██████████| 11/11 [00:33<00:00,  3.00s/it]\n"
     ]
    }
   ],
   "source": [
    "# Incremental PCA\n",
    "inc_PCA = IncrementalPCA(n_components = 50)\n",
    "\n",
    "# fitting a batch every turn\n",
    "n_rows = train_df.select(\"bid_qty\").count().collect()[0, 0]\n",
    "batch_size = 50000\n",
    "for i in tqdm(range(0, n_rows, batch_size)):\n",
    "    length = min(n_rows - i, batch_size)\n",
    "    train_df_batch = train_df.drop(\"label\").slice(offset = i, length = length).collect()\n",
    "    inc_PCA.partial_fit(train_df_batch)"
   ]
  },
  {
   "cell_type": "code",
   "execution_count": 18,
   "id": "e8637412",
   "metadata": {},
   "outputs": [
    {
     "data": {
      "text/plain": [
       "<Axes: >"
      ]
     },
     "execution_count": 18,
     "metadata": {},
     "output_type": "execute_result"
    },
    {
     "data": {
      "image/png": "[encoded data removed]",
      "text/plain": [
       "<Figure size 640x480 with 1 Axes>"
      ]
     },
     "metadata": {},
     "output_type": "display_data"
    }
   ],
   "source": [
    "sns.barplot(inc_PCA.explained_variance_ratio_)"
   ]
  },
  {
   "cell_type": "code",
   "execution_count": 19,
   "id": "7399d36f",
   "metadata": {},
   "outputs": [
    {
     "data": {
      "text/html": [
       "<div>\n",
       "<style scoped>\n",
       "    .dataframe tbody tr th:only-of-type {\n",
       "        vertical-align: middle;\n",
       "    }\n",
       "\n",
       "    .dataframe tbody tr th {\n",
       "        vertical-align: top;\n",
       "    }\n",
       "\n",
       "    .dataframe thead th {\n",
       "        text-align: right;\n",
       "    }\n",
       "</style>\n",
       "<table border=\"1\" class=\"dataframe\">\n",
       "  <thead>\n",
       "    <tr style=\"text-align: right;\">\n",
       "      <th></th>\n",
       "      <th>var</th>\n",
       "      <th>pc1_contribution</th>\n",
       "    </tr>\n",
       "  </thead>\n",
       "  <tbody>\n",
       "    <tr>\n",
       "      <th>0</th>\n",
       "      <td>volume</td>\n",
       "      <td>8.164894e-01</td>\n",
       "    </tr>\n",
       "    <tr>\n",
       "      <th>1</th>\n",
       "      <td>sell_qty</td>\n",
       "      <td>4.101512e-01</td>\n",
       "    </tr>\n",
       "    <tr>\n",
       "      <th>2</th>\n",
       "      <td>buy_qty</td>\n",
       "      <td>4.063382e-01</td>\n",
       "    </tr>\n",
       "    <tr>\n",
       "      <th>3</th>\n",
       "      <td>bid_qty</td>\n",
       "      <td>-1.431198e-03</td>\n",
       "    </tr>\n",
       "    <tr>\n",
       "      <th>4</th>\n",
       "      <td>ask_qty</td>\n",
       "      <td>-1.376846e-03</td>\n",
       "    </tr>\n",
       "    <tr>\n",
       "      <th>...</th>\n",
       "      <td>...</td>\n",
       "      <td>...</td>\n",
       "    </tr>\n",
       "    <tr>\n",
       "      <th>847</th>\n",
       "      <td>X263</td>\n",
       "      <td>2.643868e-07</td>\n",
       "    </tr>\n",
       "    <tr>\n",
       "      <th>848</th>\n",
       "      <td>X234</td>\n",
       "      <td>2.461852e-07</td>\n",
       "    </tr>\n",
       "    <tr>\n",
       "      <th>849</th>\n",
       "      <td>X791</td>\n",
       "      <td>2.011902e-07</td>\n",
       "    </tr>\n",
       "    <tr>\n",
       "      <th>850</th>\n",
       "      <td>X347</td>\n",
       "      <td>1.814764e-08</td>\n",
       "    </tr>\n",
       "    <tr>\n",
       "      <th>851</th>\n",
       "      <td>X756</td>\n",
       "      <td>3.103340e-09</td>\n",
       "    </tr>\n",
       "  </tbody>\n",
       "</table>\n",
       "<p>852 rows × 2 columns</p>\n",
       "</div>"
      ],
      "text/plain": [
       "          var  pc1_contribution\n",
       "0      volume      8.164894e-01\n",
       "1    sell_qty      4.101512e-01\n",
       "2     buy_qty      4.063382e-01\n",
       "3     bid_qty     -1.431198e-03\n",
       "4     ask_qty     -1.376846e-03\n",
       "..        ...               ...\n",
       "847      X263      2.643868e-07\n",
       "848      X234      2.461852e-07\n",
       "849      X791      2.011902e-07\n",
       "850      X347      1.814764e-08\n",
       "851      X756      3.103340e-09\n",
       "\n",
       "[852 rows x 2 columns]"
      ]
     },
     "execution_count": 19,
     "metadata": {},
     "output_type": "execute_result"
    }
   ],
   "source": [
    "pc1_component = pd.DataFrame(\n",
    "    {\n",
    "        \"var\": inc_PCA.feature_names_in_,\n",
    "        \"pc1_contribution\": inc_PCA.components_[0]\n",
    "    }\n",
    ")\n",
    "\n",
    "pc1_component = pc1_component.sort_values(\"pc1_contribution\", ascending=False, key = lambda x: abs(x)).reset_index().drop(\"index\", axis = 1)\n",
    "pc1_component"
   ]
  },
  {
   "cell_type": "code",
   "execution_count": 20,
   "id": "330c27ed",
   "metadata": {},
   "outputs": [
    {
     "name": "stdout",
     "output_type": "stream",
     "text": [
      "['volume', 'sell_qty', 'buy_qty', 'bid_qty', 'ask_qty', 'X596', 'X594', 'X877', 'X879', 'X597', 'X880', 'X595', 'X878', 'X544', 'X551', 'X558', 'X873', 'X117', 'X565', 'X882', 'X153', 'X123', 'X111', 'X502', 'X495', 'X75', 'X881', 'X509', 'X394', 'X141', 'X147', 'X388', 'X87', 'X99', 'X352', 'X105', 'X876', 'X346', 'X572', 'X451', 'X81', 'X69', 'X452', 'X516', 'X177', 'X480', 'X456', 'X135', 'X883', 'X406']\n"
     ]
    }
   ],
   "source": [
    "# Use the top 50 features\n",
    "print(pc1_component.iloc[:50, ][\"var\"].tolist())"
   ]
  },
  {
   "cell_type": "code",
   "execution_count": 21,
   "id": "c31b05ad",
   "metadata": {},
   "outputs": [
    {
     "name": "stderr",
     "output_type": "stream",
     "text": [
      "100%|██████████| 852/852 [00:00<00:00, 2140.88it/s]\n"
     ]
    },
    {
     "data": {
      "text/html": [
       "<div>\n",
       "<style scoped>\n",
       "    .dataframe tbody tr th:only-of-type {\n",
       "        vertical-align: middle;\n",
       "    }\n",
       "\n",
       "    .dataframe tbody tr th {\n",
       "        vertical-align: top;\n",
       "    }\n",
       "\n",
       "    .dataframe thead th {\n",
       "        text-align: right;\n",
       "    }\n",
       "</style>\n",
       "<table border=\"1\" class=\"dataframe\">\n",
       "  <thead>\n",
       "    <tr style=\"text-align: right;\">\n",
       "      <th></th>\n",
       "      <th>var</th>\n",
       "      <th>pc1_contribution</th>\n",
       "      <th>var_label_correlation</th>\n",
       "    </tr>\n",
       "  </thead>\n",
       "  <tbody>\n",
       "    <tr>\n",
       "      <th>0</th>\n",
       "      <td>volume</td>\n",
       "      <td>8.164894e-01</td>\n",
       "      <td>0.008809</td>\n",
       "    </tr>\n",
       "    <tr>\n",
       "      <th>1</th>\n",
       "      <td>sell_qty</td>\n",
       "      <td>4.101512e-01</td>\n",
       "      <td>0.011166</td>\n",
       "    </tr>\n",
       "    <tr>\n",
       "      <th>2</th>\n",
       "      <td>buy_qty</td>\n",
       "      <td>4.063382e-01</td>\n",
       "      <td>0.005618</td>\n",
       "    </tr>\n",
       "    <tr>\n",
       "      <th>3</th>\n",
       "      <td>bid_qty</td>\n",
       "      <td>-1.431198e-03</td>\n",
       "      <td>-0.013220</td>\n",
       "    </tr>\n",
       "    <tr>\n",
       "      <th>4</th>\n",
       "      <td>ask_qty</td>\n",
       "      <td>-1.376846e-03</td>\n",
       "      <td>-0.015762</td>\n",
       "    </tr>\n",
       "    <tr>\n",
       "      <th>...</th>\n",
       "      <td>...</td>\n",
       "      <td>...</td>\n",
       "      <td>...</td>\n",
       "    </tr>\n",
       "    <tr>\n",
       "      <th>847</th>\n",
       "      <td>X263</td>\n",
       "      <td>2.643868e-07</td>\n",
       "      <td>0.012352</td>\n",
       "    </tr>\n",
       "    <tr>\n",
       "      <th>848</th>\n",
       "      <td>X234</td>\n",
       "      <td>2.461852e-07</td>\n",
       "      <td>0.004803</td>\n",
       "    </tr>\n",
       "    <tr>\n",
       "      <th>849</th>\n",
       "      <td>X791</td>\n",
       "      <td>2.011902e-07</td>\n",
       "      <td>0.001805</td>\n",
       "    </tr>\n",
       "    <tr>\n",
       "      <th>850</th>\n",
       "      <td>X347</td>\n",
       "      <td>1.814764e-08</td>\n",
       "      <td>-0.010130</td>\n",
       "    </tr>\n",
       "    <tr>\n",
       "      <th>851</th>\n",
       "      <td>X756</td>\n",
       "      <td>3.103340e-09</td>\n",
       "      <td>-0.007081</td>\n",
       "    </tr>\n",
       "  </tbody>\n",
       "</table>\n",
       "<p>852 rows × 3 columns</p>\n",
       "</div>"
      ],
      "text/plain": [
       "          var  pc1_contribution  var_label_correlation\n",
       "0      volume      8.164894e-01               0.008809\n",
       "1    sell_qty      4.101512e-01               0.011166\n",
       "2     buy_qty      4.063382e-01               0.005618\n",
       "3     bid_qty     -1.431198e-03              -0.013220\n",
       "4     ask_qty     -1.376846e-03              -0.015762\n",
       "..        ...               ...                    ...\n",
       "847      X263      2.643868e-07               0.012352\n",
       "848      X234      2.461852e-07               0.004803\n",
       "849      X791      2.011902e-07               0.001805\n",
       "850      X347      1.814764e-08              -0.010130\n",
       "851      X756      3.103340e-09              -0.007081\n",
       "\n",
       "[852 rows x 3 columns]"
      ]
     },
     "execution_count": 21,
     "metadata": {},
     "output_type": "execute_result"
    }
   ],
   "source": [
    "# Also need to check correlation with target variable\n",
    "var_label_correlation = []\n",
    "for i in tqdm(range(pc1_component.shape[0])):\n",
    "    var = pc1_component.loc[i, \"var\"]\n",
    "    var_label_correlation.append(train_df.select(pl.corr(var, \"label\")).collect().item())\n",
    "pc1_component[\"var_label_correlation\"] = var_label_correlation\n",
    "pc1_component"
   ]
  },
  {
   "cell_type": "code",
   "execution_count": 22,
   "id": "f4305ab8",
   "metadata": {},
   "outputs": [
    {
     "data": {
      "text/html": [
       "<div>\n",
       "<style scoped>\n",
       "    .dataframe tbody tr th:only-of-type {\n",
       "        vertical-align: middle;\n",
       "    }\n",
       "\n",
       "    .dataframe tbody tr th {\n",
       "        vertical-align: top;\n",
       "    }\n",
       "\n",
       "    .dataframe thead th {\n",
       "        text-align: right;\n",
       "    }\n",
       "</style>\n",
       "<table border=\"1\" class=\"dataframe\">\n",
       "  <thead>\n",
       "    <tr style=\"text-align: right;\">\n",
       "      <th></th>\n",
       "      <th>var</th>\n",
       "      <th>pc1_contribution</th>\n",
       "      <th>var_label_correlation</th>\n",
       "    </tr>\n",
       "  </thead>\n",
       "  <tbody>\n",
       "    <tr>\n",
       "      <th>430</th>\n",
       "      <td>X21</td>\n",
       "      <td>0.000022</td>\n",
       "      <td>0.069401</td>\n",
       "    </tr>\n",
       "    <tr>\n",
       "      <th>416</th>\n",
       "      <td>X20</td>\n",
       "      <td>0.000024</td>\n",
       "      <td>0.067667</td>\n",
       "    </tr>\n",
       "    <tr>\n",
       "      <th>219</th>\n",
       "      <td>X28</td>\n",
       "      <td>0.000049</td>\n",
       "      <td>0.064092</td>\n",
       "    </tr>\n",
       "    <tr>\n",
       "      <th>496</th>\n",
       "      <td>X863</td>\n",
       "      <td>-0.000017</td>\n",
       "      <td>0.064057</td>\n",
       "    </tr>\n",
       "    <tr>\n",
       "      <th>202</th>\n",
       "      <td>X29</td>\n",
       "      <td>0.000052</td>\n",
       "      <td>0.062339</td>\n",
       "    </tr>\n",
       "    <tr>\n",
       "      <th>...</th>\n",
       "      <td>...</td>\n",
       "      <td>...</td>\n",
       "      <td>...</td>\n",
       "    </tr>\n",
       "    <tr>\n",
       "      <th>447</th>\n",
       "      <td>X795</td>\n",
       "      <td>-0.000021</td>\n",
       "      <td>-0.000185</td>\n",
       "    </tr>\n",
       "    <tr>\n",
       "      <th>265</th>\n",
       "      <td>X128</td>\n",
       "      <td>-0.000042</td>\n",
       "      <td>0.000120</td>\n",
       "    </tr>\n",
       "    <tr>\n",
       "      <th>121</th>\n",
       "      <td>X475</td>\n",
       "      <td>0.000079</td>\n",
       "      <td>-0.000063</td>\n",
       "    </tr>\n",
       "    <tr>\n",
       "      <th>13</th>\n",
       "      <td>X544</td>\n",
       "      <td>-0.000322</td>\n",
       "      <td>-0.000042</td>\n",
       "    </tr>\n",
       "    <tr>\n",
       "      <th>595</th>\n",
       "      <td>X407</td>\n",
       "      <td>0.000011</td>\n",
       "      <td>-0.000028</td>\n",
       "    </tr>\n",
       "  </tbody>\n",
       "</table>\n",
       "<p>852 rows × 3 columns</p>\n",
       "</div>"
      ],
      "text/plain": [
       "      var  pc1_contribution  var_label_correlation\n",
       "430   X21          0.000022               0.069401\n",
       "416   X20          0.000024               0.067667\n",
       "219   X28          0.000049               0.064092\n",
       "496  X863         -0.000017               0.064057\n",
       "202   X29          0.000052               0.062339\n",
       "..    ...               ...                    ...\n",
       "447  X795         -0.000021              -0.000185\n",
       "265  X128         -0.000042               0.000120\n",
       "121  X475          0.000079              -0.000063\n",
       "13   X544         -0.000322              -0.000042\n",
       "595  X407          0.000011              -0.000028\n",
       "\n",
       "[852 rows x 3 columns]"
      ]
     },
     "execution_count": 22,
     "metadata": {},
     "output_type": "execute_result"
    }
   ],
   "source": [
    "pc1_component.sort_values(\"var_label_correlation\", ascending=False, key = lambda x: abs(x))"
   ]
  },
  {
   "cell_type": "code",
   "execution_count": 23,
   "id": "79954976",
   "metadata": {},
   "outputs": [
    {
     "data": {
      "text/html": [
       "<div>\n",
       "<style scoped>\n",
       "    .dataframe tbody tr th:only-of-type {\n",
       "        vertical-align: middle;\n",
       "    }\n",
       "\n",
       "    .dataframe tbody tr th {\n",
       "        vertical-align: top;\n",
       "    }\n",
       "\n",
       "    .dataframe thead th {\n",
       "        text-align: right;\n",
       "    }\n",
       "</style>\n",
       "<table border=\"1\" class=\"dataframe\">\n",
       "  <thead>\n",
       "    <tr style=\"text-align: right;\">\n",
       "      <th></th>\n",
       "      <th>var</th>\n",
       "      <th>pc1_contribution</th>\n",
       "      <th>var_label_correlation</th>\n",
       "      <th>pc1_contribution_rnk</th>\n",
       "      <th>var_label_correlation_rnk</th>\n",
       "      <th>average_rnk</th>\n",
       "    </tr>\n",
       "  </thead>\n",
       "  <tbody>\n",
       "    <tr>\n",
       "      <th>0</th>\n",
       "      <td>volume</td>\n",
       "      <td>8.164894e-01</td>\n",
       "      <td>0.008809</td>\n",
       "      <td>1.0</td>\n",
       "      <td>603.0</td>\n",
       "      <td>302.0</td>\n",
       "    </tr>\n",
       "    <tr>\n",
       "      <th>1</th>\n",
       "      <td>sell_qty</td>\n",
       "      <td>4.101512e-01</td>\n",
       "      <td>0.011166</td>\n",
       "      <td>2.0</td>\n",
       "      <td>538.0</td>\n",
       "      <td>270.0</td>\n",
       "    </tr>\n",
       "    <tr>\n",
       "      <th>2</th>\n",
       "      <td>buy_qty</td>\n",
       "      <td>4.063382e-01</td>\n",
       "      <td>0.005618</td>\n",
       "      <td>3.0</td>\n",
       "      <td>697.0</td>\n",
       "      <td>350.0</td>\n",
       "    </tr>\n",
       "    <tr>\n",
       "      <th>3</th>\n",
       "      <td>bid_qty</td>\n",
       "      <td>-1.431198e-03</td>\n",
       "      <td>-0.013220</td>\n",
       "      <td>4.0</td>\n",
       "      <td>478.0</td>\n",
       "      <td>241.0</td>\n",
       "    </tr>\n",
       "    <tr>\n",
       "      <th>4</th>\n",
       "      <td>ask_qty</td>\n",
       "      <td>-1.376846e-03</td>\n",
       "      <td>-0.015762</td>\n",
       "      <td>5.0</td>\n",
       "      <td>402.0</td>\n",
       "      <td>203.5</td>\n",
       "    </tr>\n",
       "    <tr>\n",
       "      <th>...</th>\n",
       "      <td>...</td>\n",
       "      <td>...</td>\n",
       "      <td>...</td>\n",
       "      <td>...</td>\n",
       "      <td>...</td>\n",
       "      <td>...</td>\n",
       "    </tr>\n",
       "    <tr>\n",
       "      <th>847</th>\n",
       "      <td>X263</td>\n",
       "      <td>2.643868e-07</td>\n",
       "      <td>0.012352</td>\n",
       "      <td>848.0</td>\n",
       "      <td>502.0</td>\n",
       "      <td>675.0</td>\n",
       "    </tr>\n",
       "    <tr>\n",
       "      <th>848</th>\n",
       "      <td>X234</td>\n",
       "      <td>2.461852e-07</td>\n",
       "      <td>0.004803</td>\n",
       "      <td>849.0</td>\n",
       "      <td>722.0</td>\n",
       "      <td>785.5</td>\n",
       "    </tr>\n",
       "    <tr>\n",
       "      <th>849</th>\n",
       "      <td>X791</td>\n",
       "      <td>2.011902e-07</td>\n",
       "      <td>0.001805</td>\n",
       "      <td>850.0</td>\n",
       "      <td>804.0</td>\n",
       "      <td>827.0</td>\n",
       "    </tr>\n",
       "    <tr>\n",
       "      <th>850</th>\n",
       "      <td>X347</td>\n",
       "      <td>1.814764e-08</td>\n",
       "      <td>-0.010130</td>\n",
       "      <td>851.0</td>\n",
       "      <td>571.0</td>\n",
       "      <td>711.0</td>\n",
       "    </tr>\n",
       "    <tr>\n",
       "      <th>851</th>\n",
       "      <td>X756</td>\n",
       "      <td>3.103340e-09</td>\n",
       "      <td>-0.007081</td>\n",
       "      <td>852.0</td>\n",
       "      <td>660.0</td>\n",
       "      <td>756.0</td>\n",
       "    </tr>\n",
       "  </tbody>\n",
       "</table>\n",
       "<p>852 rows × 6 columns</p>\n",
       "</div>"
      ],
      "text/plain": [
       "          var  pc1_contribution  var_label_correlation  pc1_contribution_rnk  \\\n",
       "0      volume      8.164894e-01               0.008809                   1.0   \n",
       "1    sell_qty      4.101512e-01               0.011166                   2.0   \n",
       "2     buy_qty      4.063382e-01               0.005618                   3.0   \n",
       "3     bid_qty     -1.431198e-03              -0.013220                   4.0   \n",
       "4     ask_qty     -1.376846e-03              -0.015762                   5.0   \n",
       "..        ...               ...                    ...                   ...   \n",
       "847      X263      2.643868e-07               0.012352                 848.0   \n",
       "848      X234      2.461852e-07               0.004803                 849.0   \n",
       "849      X791      2.011902e-07               0.001805                 850.0   \n",
       "850      X347      1.814764e-08              -0.010130                 851.0   \n",
       "851      X756      3.103340e-09              -0.007081                 852.0   \n",
       "\n",
       "     var_label_correlation_rnk  average_rnk  \n",
       "0                        603.0        302.0  \n",
       "1                        538.0        270.0  \n",
       "2                        697.0        350.0  \n",
       "3                        478.0        241.0  \n",
       "4                        402.0        203.5  \n",
       "..                         ...          ...  \n",
       "847                      502.0        675.0  \n",
       "848                      722.0        785.5  \n",
       "849                      804.0        827.0  \n",
       "850                      571.0        711.0  \n",
       "851                      660.0        756.0  \n",
       "\n",
       "[852 rows x 6 columns]"
      ]
     },
     "execution_count": 23,
     "metadata": {},
     "output_type": "execute_result"
    }
   ],
   "source": [
    "pc1_component[\"pc1_contribution_rnk\"] = pc1_component[\"pc1_contribution\"].abs().rank(method = \"min\", ascending=False)\n",
    "pc1_component[\"var_label_correlation_rnk\"] = pc1_component[\"var_label_correlation\"].abs().rank(method = \"min\", ascending=False)\n",
    "pc1_component[\"average_rnk\"] = (pc1_component[\"pc1_contribution_rnk\"] + pc1_component[\"var_label_correlation_rnk\"]) / 2\n",
    "pc1_component"
   ]
  },
  {
   "cell_type": "code",
   "execution_count": 24,
   "id": "c024cfb7",
   "metadata": {},
   "outputs": [
    {
     "data": {
      "text/html": [
       "<div>\n",
       "<style scoped>\n",
       "    .dataframe tbody tr th:only-of-type {\n",
       "        vertical-align: middle;\n",
       "    }\n",
       "\n",
       "    .dataframe tbody tr th {\n",
       "        vertical-align: top;\n",
       "    }\n",
       "\n",
       "    .dataframe thead th {\n",
       "        text-align: right;\n",
       "    }\n",
       "</style>\n",
       "<table border=\"1\" class=\"dataframe\">\n",
       "  <thead>\n",
       "    <tr style=\"text-align: right;\">\n",
       "      <th></th>\n",
       "      <th>var</th>\n",
       "      <th>pc1_contribution</th>\n",
       "      <th>var_label_correlation</th>\n",
       "      <th>pc1_contribution_rnk</th>\n",
       "      <th>var_label_correlation_rnk</th>\n",
       "      <th>average_rnk</th>\n",
       "    </tr>\n",
       "  </thead>\n",
       "  <tbody>\n",
       "    <tr>\n",
       "      <th>0</th>\n",
       "      <td>volume</td>\n",
       "      <td>0.816489</td>\n",
       "      <td>0.008809</td>\n",
       "      <td>1.0</td>\n",
       "      <td>603.0</td>\n",
       "      <td>302.0</td>\n",
       "    </tr>\n",
       "    <tr>\n",
       "      <th>1</th>\n",
       "      <td>sell_qty</td>\n",
       "      <td>0.410151</td>\n",
       "      <td>0.011166</td>\n",
       "      <td>2.0</td>\n",
       "      <td>538.0</td>\n",
       "      <td>270.0</td>\n",
       "    </tr>\n",
       "    <tr>\n",
       "      <th>2</th>\n",
       "      <td>buy_qty</td>\n",
       "      <td>0.406338</td>\n",
       "      <td>0.005618</td>\n",
       "      <td>3.0</td>\n",
       "      <td>697.0</td>\n",
       "      <td>350.0</td>\n",
       "    </tr>\n",
       "    <tr>\n",
       "      <th>3</th>\n",
       "      <td>bid_qty</td>\n",
       "      <td>-0.001431</td>\n",
       "      <td>-0.013220</td>\n",
       "      <td>4.0</td>\n",
       "      <td>478.0</td>\n",
       "      <td>241.0</td>\n",
       "    </tr>\n",
       "    <tr>\n",
       "      <th>4</th>\n",
       "      <td>ask_qty</td>\n",
       "      <td>-0.001377</td>\n",
       "      <td>-0.015762</td>\n",
       "      <td>5.0</td>\n",
       "      <td>402.0</td>\n",
       "      <td>203.5</td>\n",
       "    </tr>\n",
       "    <tr>\n",
       "      <th>133</th>\n",
       "      <td>X345</td>\n",
       "      <td>-0.000076</td>\n",
       "      <td>-0.011439</td>\n",
       "      <td>134.0</td>\n",
       "      <td>527.0</td>\n",
       "      <td>330.5</td>\n",
       "    </tr>\n",
       "    <tr>\n",
       "      <th>165</th>\n",
       "      <td>X137</td>\n",
       "      <td>-0.000060</td>\n",
       "      <td>-0.044290</td>\n",
       "      <td>166.0</td>\n",
       "      <td>51.0</td>\n",
       "      <td>108.5</td>\n",
       "    </tr>\n",
       "    <tr>\n",
       "      <th>186</th>\n",
       "      <td>X862</td>\n",
       "      <td>0.000057</td>\n",
       "      <td>0.040828</td>\n",
       "      <td>187.0</td>\n",
       "      <td>65.0</td>\n",
       "      <td>126.0</td>\n",
       "    </tr>\n",
       "    <tr>\n",
       "      <th>329</th>\n",
       "      <td>X344</td>\n",
       "      <td>0.000032</td>\n",
       "      <td>-0.009061</td>\n",
       "      <td>330.0</td>\n",
       "      <td>597.0</td>\n",
       "      <td>463.5</td>\n",
       "    </tr>\n",
       "    <tr>\n",
       "      <th>354</th>\n",
       "      <td>X855</td>\n",
       "      <td>0.000029</td>\n",
       "      <td>0.037702</td>\n",
       "      <td>355.0</td>\n",
       "      <td>88.0</td>\n",
       "      <td>221.5</td>\n",
       "    </tr>\n",
       "    <tr>\n",
       "      <th>359</th>\n",
       "      <td>X856</td>\n",
       "      <td>0.000029</td>\n",
       "      <td>0.047273</td>\n",
       "      <td>360.0</td>\n",
       "      <td>44.0</td>\n",
       "      <td>202.0</td>\n",
       "    </tr>\n",
       "    <tr>\n",
       "      <th>390</th>\n",
       "      <td>X860</td>\n",
       "      <td>0.000026</td>\n",
       "      <td>0.056259</td>\n",
       "      <td>391.0</td>\n",
       "      <td>11.0</td>\n",
       "      <td>201.0</td>\n",
       "    </tr>\n",
       "    <tr>\n",
       "      <th>392</th>\n",
       "      <td>X415</td>\n",
       "      <td>0.000026</td>\n",
       "      <td>0.008287</td>\n",
       "      <td>393.0</td>\n",
       "      <td>617.0</td>\n",
       "      <td>505.0</td>\n",
       "    </tr>\n",
       "    <tr>\n",
       "      <th>395</th>\n",
       "      <td>X532</td>\n",
       "      <td>-0.000025</td>\n",
       "      <td>-0.030602</td>\n",
       "      <td>396.0</td>\n",
       "      <td>166.0</td>\n",
       "      <td>281.0</td>\n",
       "    </tr>\n",
       "    <tr>\n",
       "      <th>453</th>\n",
       "      <td>X674</td>\n",
       "      <td>-0.000020</td>\n",
       "      <td>0.021163</td>\n",
       "      <td>454.0</td>\n",
       "      <td>307.0</td>\n",
       "      <td>380.5</td>\n",
       "    </tr>\n",
       "    <tr>\n",
       "      <th>473</th>\n",
       "      <td>X852</td>\n",
       "      <td>-0.000018</td>\n",
       "      <td>0.040686</td>\n",
       "      <td>474.0</td>\n",
       "      <td>66.0</td>\n",
       "      <td>270.0</td>\n",
       "    </tr>\n",
       "    <tr>\n",
       "      <th>494</th>\n",
       "      <td>X603</td>\n",
       "      <td>0.000017</td>\n",
       "      <td>0.029827</td>\n",
       "      <td>495.0</td>\n",
       "      <td>175.0</td>\n",
       "      <td>335.0</td>\n",
       "    </tr>\n",
       "    <tr>\n",
       "      <th>496</th>\n",
       "      <td>X863</td>\n",
       "      <td>-0.000017</td>\n",
       "      <td>0.064057</td>\n",
       "      <td>497.0</td>\n",
       "      <td>4.0</td>\n",
       "      <td>250.5</td>\n",
       "    </tr>\n",
       "    <tr>\n",
       "      <th>546</th>\n",
       "      <td>X385</td>\n",
       "      <td>-0.000014</td>\n",
       "      <td>0.038095</td>\n",
       "      <td>547.0</td>\n",
       "      <td>84.0</td>\n",
       "      <td>315.5</td>\n",
       "    </tr>\n",
       "    <tr>\n",
       "      <th>646</th>\n",
       "      <td>X598</td>\n",
       "      <td>-0.000008</td>\n",
       "      <td>0.054528</td>\n",
       "      <td>647.0</td>\n",
       "      <td>19.0</td>\n",
       "      <td>333.0</td>\n",
       "    </tr>\n",
       "    <tr>\n",
       "      <th>650</th>\n",
       "      <td>X168</td>\n",
       "      <td>0.000008</td>\n",
       "      <td>0.014750</td>\n",
       "      <td>651.0</td>\n",
       "      <td>433.0</td>\n",
       "      <td>542.0</td>\n",
       "    </tr>\n",
       "    <tr>\n",
       "      <th>671</th>\n",
       "      <td>X302</td>\n",
       "      <td>0.000007</td>\n",
       "      <td>0.051736</td>\n",
       "      <td>672.0</td>\n",
       "      <td>26.0</td>\n",
       "      <td>349.0</td>\n",
       "    </tr>\n",
       "    <tr>\n",
       "      <th>799</th>\n",
       "      <td>X178</td>\n",
       "      <td>0.000002</td>\n",
       "      <td>0.012840</td>\n",
       "      <td>800.0</td>\n",
       "      <td>488.0</td>\n",
       "      <td>644.0</td>\n",
       "    </tr>\n",
       "    <tr>\n",
       "      <th>807</th>\n",
       "      <td>X612</td>\n",
       "      <td>-0.000002</td>\n",
       "      <td>0.040614</td>\n",
       "      <td>808.0</td>\n",
       "      <td>67.0</td>\n",
       "      <td>437.5</td>\n",
       "    </tr>\n",
       "    <tr>\n",
       "      <th>808</th>\n",
       "      <td>X174</td>\n",
       "      <td>0.000002</td>\n",
       "      <td>0.010663</td>\n",
       "      <td>809.0</td>\n",
       "      <td>556.0</td>\n",
       "      <td>682.5</td>\n",
       "    </tr>\n",
       "  </tbody>\n",
       "</table>\n",
       "</div>"
      ],
      "text/plain": [
       "          var  pc1_contribution  var_label_correlation  pc1_contribution_rnk  \\\n",
       "0      volume          0.816489               0.008809                   1.0   \n",
       "1    sell_qty          0.410151               0.011166                   2.0   \n",
       "2     buy_qty          0.406338               0.005618                   3.0   \n",
       "3     bid_qty         -0.001431              -0.013220                   4.0   \n",
       "4     ask_qty         -0.001377              -0.015762                   5.0   \n",
       "133      X345         -0.000076              -0.011439                 134.0   \n",
       "165      X137         -0.000060              -0.044290                 166.0   \n",
       "186      X862          0.000057               0.040828                 187.0   \n",
       "329      X344          0.000032              -0.009061                 330.0   \n",
       "354      X855          0.000029               0.037702                 355.0   \n",
       "359      X856          0.000029               0.047273                 360.0   \n",
       "390      X860          0.000026               0.056259                 391.0   \n",
       "392      X415          0.000026               0.008287                 393.0   \n",
       "395      X532         -0.000025              -0.030602                 396.0   \n",
       "453      X674         -0.000020               0.021163                 454.0   \n",
       "473      X852         -0.000018               0.040686                 474.0   \n",
       "494      X603          0.000017               0.029827                 495.0   \n",
       "496      X863         -0.000017               0.064057                 497.0   \n",
       "546      X385         -0.000014               0.038095                 547.0   \n",
       "646      X598         -0.000008               0.054528                 647.0   \n",
       "650      X168          0.000008               0.014750                 651.0   \n",
       "671      X302          0.000007               0.051736                 672.0   \n",
       "799      X178          0.000002               0.012840                 800.0   \n",
       "807      X612         -0.000002               0.040614                 808.0   \n",
       "808      X174          0.000002               0.010663                 809.0   \n",
       "\n",
       "     var_label_correlation_rnk  average_rnk  \n",
       "0                        603.0        302.0  \n",
       "1                        538.0        270.0  \n",
       "2                        697.0        350.0  \n",
       "3                        478.0        241.0  \n",
       "4                        402.0        203.5  \n",
       "133                      527.0        330.5  \n",
       "165                       51.0        108.5  \n",
       "186                       65.0        126.0  \n",
       "329                      597.0        463.5  \n",
       "354                       88.0        221.5  \n",
       "359                       44.0        202.0  \n",
       "390                       11.0        201.0  \n",
       "392                      617.0        505.0  \n",
       "395                      166.0        281.0  \n",
       "453                      307.0        380.5  \n",
       "473                       66.0        270.0  \n",
       "494                      175.0        335.0  \n",
       "496                        4.0        250.5  \n",
       "546                       84.0        315.5  \n",
       "646                       19.0        333.0  \n",
       "650                      433.0        542.0  \n",
       "671                       26.0        349.0  \n",
       "799                      488.0        644.0  \n",
       "807                       67.0        437.5  \n",
       "808                      556.0        682.5  "
      ]
     },
     "execution_count": 24,
     "metadata": {},
     "output_type": "execute_result"
    }
   ],
   "source": [
    "popular_var = [\n",
    "    \"X863\", \"X856\", \"X344\", \"X598\", \"X862\", \"X385\", \"X852\", \"X603\", \"X860\", \"X674\",\n",
    "    \"X415\", \"X345\", \"X137\", \"X855\", \"X174\", \"X302\", \"X178\", \"X532\", \"X168\", \"X612\",\n",
    "    \"bid_qty\", \"ask_qty\", \"buy_qty\", \"sell_qty\", \"volume\"\n",
    "]\n",
    "pc1_component[pc1_component[\"var\"].isin(popular_var)]"
   ]
  },
  {
   "cell_type": "code",
   "execution_count": 25,
   "id": "62cd270b",
   "metadata": {},
   "outputs": [
    {
     "data": {
      "text/html": [
       "<div>\n",
       "<style scoped>\n",
       "    .dataframe tbody tr th:only-of-type {\n",
       "        vertical-align: middle;\n",
       "    }\n",
       "\n",
       "    .dataframe tbody tr th {\n",
       "        vertical-align: top;\n",
       "    }\n",
       "\n",
       "    .dataframe thead th {\n",
       "        text-align: right;\n",
       "    }\n",
       "</style>\n",
       "<table border=\"1\" class=\"dataframe\">\n",
       "  <thead>\n",
       "    <tr style=\"text-align: right;\">\n",
       "      <th></th>\n",
       "      <th>var</th>\n",
       "      <th>pc1_contribution</th>\n",
       "      <th>var_label_correlation</th>\n",
       "      <th>pc1_contribution_rnk</th>\n",
       "      <th>var_label_correlation_rnk</th>\n",
       "      <th>average_rnk</th>\n",
       "    </tr>\n",
       "  </thead>\n",
       "  <tbody>\n",
       "    <tr>\n",
       "      <th>0</th>\n",
       "      <td>X473</td>\n",
       "      <td>1.494225e-04</td>\n",
       "      <td>0.040200</td>\n",
       "      <td>54.0</td>\n",
       "      <td>73.0</td>\n",
       "      <td>63.5</td>\n",
       "    </tr>\n",
       "    <tr>\n",
       "      <th>1</th>\n",
       "      <td>X451</td>\n",
       "      <td>1.803425e-04</td>\n",
       "      <td>0.035329</td>\n",
       "      <td>40.0</td>\n",
       "      <td>106.0</td>\n",
       "      <td>73.0</td>\n",
       "    </tr>\n",
       "    <tr>\n",
       "      <th>2</th>\n",
       "      <td>X111</td>\n",
       "      <td>-2.361445e-04</td>\n",
       "      <td>0.033087</td>\n",
       "      <td>23.0</td>\n",
       "      <td>126.0</td>\n",
       "      <td>74.5</td>\n",
       "    </tr>\n",
       "    <tr>\n",
       "      <th>3</th>\n",
       "      <td>X153</td>\n",
       "      <td>-2.469401e-04</td>\n",
       "      <td>0.032990</td>\n",
       "      <td>21.0</td>\n",
       "      <td>128.0</td>\n",
       "      <td>74.5</td>\n",
       "    </tr>\n",
       "    <tr>\n",
       "      <th>4</th>\n",
       "      <td>X205</td>\n",
       "      <td>1.427800e-04</td>\n",
       "      <td>0.036817</td>\n",
       "      <td>59.0</td>\n",
       "      <td>97.0</td>\n",
       "      <td>78.0</td>\n",
       "    </tr>\n",
       "    <tr>\n",
       "      <th>...</th>\n",
       "      <td>...</td>\n",
       "      <td>...</td>\n",
       "      <td>...</td>\n",
       "      <td>...</td>\n",
       "      <td>...</td>\n",
       "      <td>...</td>\n",
       "    </tr>\n",
       "    <tr>\n",
       "      <th>847</th>\n",
       "      <td>X101</td>\n",
       "      <td>-1.208360e-06</td>\n",
       "      <td>-0.001161</td>\n",
       "      <td>827.0</td>\n",
       "      <td>817.0</td>\n",
       "      <td>822.0</td>\n",
       "    </tr>\n",
       "    <tr>\n",
       "      <th>848</th>\n",
       "      <td>X78</td>\n",
       "      <td>1.253916e-06</td>\n",
       "      <td>0.000942</td>\n",
       "      <td>826.0</td>\n",
       "      <td>823.0</td>\n",
       "      <td>824.5</td>\n",
       "    </tr>\n",
       "    <tr>\n",
       "      <th>849</th>\n",
       "      <td>X791</td>\n",
       "      <td>2.011902e-07</td>\n",
       "      <td>0.001805</td>\n",
       "      <td>850.0</td>\n",
       "      <td>804.0</td>\n",
       "      <td>827.0</td>\n",
       "    </tr>\n",
       "    <tr>\n",
       "      <th>850</th>\n",
       "      <td>X790</td>\n",
       "      <td>-6.532309e-07</td>\n",
       "      <td>-0.001051</td>\n",
       "      <td>840.0</td>\n",
       "      <td>820.0</td>\n",
       "      <td>830.0</td>\n",
       "    </tr>\n",
       "    <tr>\n",
       "      <th>851</th>\n",
       "      <td>X749</td>\n",
       "      <td>-4.512686e-07</td>\n",
       "      <td>0.000192</td>\n",
       "      <td>842.0</td>\n",
       "      <td>847.0</td>\n",
       "      <td>844.5</td>\n",
       "    </tr>\n",
       "  </tbody>\n",
       "</table>\n",
       "<p>852 rows × 6 columns</p>\n",
       "</div>"
      ],
      "text/plain": [
       "      var  pc1_contribution  var_label_correlation  pc1_contribution_rnk  \\\n",
       "0    X473      1.494225e-04               0.040200                  54.0   \n",
       "1    X451      1.803425e-04               0.035329                  40.0   \n",
       "2    X111     -2.361445e-04               0.033087                  23.0   \n",
       "3    X153     -2.469401e-04               0.032990                  21.0   \n",
       "4    X205      1.427800e-04               0.036817                  59.0   \n",
       "..    ...               ...                    ...                   ...   \n",
       "847  X101     -1.208360e-06              -0.001161                 827.0   \n",
       "848   X78      1.253916e-06               0.000942                 826.0   \n",
       "849  X791      2.011902e-07               0.001805                 850.0   \n",
       "850  X790     -6.532309e-07              -0.001051                 840.0   \n",
       "851  X749     -4.512686e-07               0.000192                 842.0   \n",
       "\n",
       "     var_label_correlation_rnk  average_rnk  \n",
       "0                         73.0         63.5  \n",
       "1                        106.0         73.0  \n",
       "2                        126.0         74.5  \n",
       "3                        128.0         74.5  \n",
       "4                         97.0         78.0  \n",
       "..                         ...          ...  \n",
       "847                      817.0        822.0  \n",
       "848                      823.0        824.5  \n",
       "849                      804.0        827.0  \n",
       "850                      820.0        830.0  \n",
       "851                      847.0        844.5  \n",
       "\n",
       "[852 rows x 6 columns]"
      ]
     },
     "execution_count": 25,
     "metadata": {},
     "output_type": "execute_result"
    }
   ],
   "source": [
    "pc1_component = pc1_component.sort_values(\"average_rnk\").reset_index().drop(\"index\", axis = 1)\n",
    "pc1_component"
   ]
  },
  {
   "cell_type": "code",
   "execution_count": 26,
   "id": "161fac5f",
   "metadata": {},
   "outputs": [],
   "source": [
    "best_pc1_contribution = pc1_component[pc1_component[\"pc1_contribution_rnk\"] <= 100][\"var\"].tolist()\n",
    "with open(\"features/best_pc1_contribution.pkl\", \"wb\") as f:\n",
    "    pickle.dump(best_pc1_contribution, f)"
   ]
  },
  {
   "cell_type": "code",
   "execution_count": 27,
   "id": "507ee324",
   "metadata": {},
   "outputs": [],
   "source": [
    "best_label_correlation = pc1_component[pc1_component[\"var_label_correlation_rnk\"] <= 100][\"var\"].tolist()\n",
    "with open(\"features/best_label_correlation.pkl\", \"wb\") as f:\n",
    "    pickle.dump(best_label_correlation, f)"
   ]
  },
  {
   "cell_type": "code",
   "execution_count": 28,
   "id": "d49b219c",
   "metadata": {},
   "outputs": [],
   "source": [
    "best_overall = (pc1_component.loc[:50, \"var\"].to_list())\n",
    "best_overall.extend([\"volume\", \"bid_qty\", \"ask_qty\", \"buy_qty\", \"sell_qty\"])\n",
    "with open(\"features/best_overall.pkl\", \"wb\") as f:\n",
    "    pickle.dump(best_overall, f)"
   ]
  },
  {
   "cell_type": "code",
   "execution_count": 29,
   "id": "baf9e0a9",
   "metadata": {},
   "outputs": [
    {
     "name": "stderr",
     "output_type": "stream",
     "text": [
      "100%|██████████| 11/11 [00:02<00:00,  4.61it/s]\n"
     ]
    }
   ],
   "source": [
    "# Incremental PCA\n",
    "inc_PCA = IncrementalPCA(n_components = 50)\n",
    "\n",
    "# fitting a batch every turn\n",
    "n_rows = train_df.select(\"bid_qty\").count().collect()[0, 0]\n",
    "batch_size = 50000\n",
    "for i in tqdm(range(0, n_rows, batch_size)):\n",
    "    length = min(n_rows - i, batch_size)\n",
    "    train_df_batch = train_df.select(best_label_correlation).slice(offset = i, length = length).collect()\n",
    "    inc_PCA.partial_fit(train_df_batch)"
   ]
  },
  {
   "cell_type": "code",
   "execution_count": 30,
   "id": "17cfdecc",
   "metadata": {},
   "outputs": [
    {
     "data": {
      "text/plain": [
       "<Axes: >"
      ]
     },
     "execution_count": 30,
     "metadata": {},
     "output_type": "execute_result"
    },
    {
     "data": {
      "image/png": "[encoded data removed]",
      "text/plain": [
       "<Figure size 640x480 with 1 Axes>"
      ]
     },
     "metadata": {},
     "output_type": "display_data"
    }
   ],
   "source": [
    "sns.barplot(inc_PCA.explained_variance_ratio_)"
   ]
  },
  {
   "cell_type": "code",
   "execution_count": 31,
   "id": "23ce2139",
   "metadata": {},
   "outputs": [
    {
     "data": {
      "text/plain": [
       "<Axes: >"
      ]
     },
     "execution_count": 31,
     "metadata": {},
     "output_type": "execute_result"
    },
    {
     "data": {
      "image/png": "[encoded data removed]",
      "text/plain": [
       "<Figure size 640x480 with 1 Axes>"
      ]
     },
     "metadata": {},
     "output_type": "display_data"
    }
   ],
   "source": [
    "sns.barplot(np.cumsum(inc_PCA.explained_variance_ratio_))"
   ]
  },
  {
   "cell_type": "code",
   "execution_count": 32,
   "id": "f07fc12b",
   "metadata": {},
   "outputs": [
    {
     "data": {
      "text/html": [
       "<div>\n",
       "<style scoped>\n",
       "    .dataframe tbody tr th:only-of-type {\n",
       "        vertical-align: middle;\n",
       "    }\n",
       "\n",
       "    .dataframe tbody tr th {\n",
       "        vertical-align: top;\n",
       "    }\n",
       "\n",
       "    .dataframe thead th {\n",
       "        text-align: right;\n",
       "    }\n",
       "</style>\n",
       "<table border=\"1\" class=\"dataframe\">\n",
       "  <thead>\n",
       "    <tr style=\"text-align: right;\">\n",
       "      <th></th>\n",
       "      <th>var</th>\n",
       "      <th>contribution</th>\n",
       "    </tr>\n",
       "  </thead>\n",
       "  <tbody>\n",
       "    <tr>\n",
       "      <th>0</th>\n",
       "      <td>X217</td>\n",
       "      <td>0.447664</td>\n",
       "    </tr>\n",
       "    <tr>\n",
       "      <th>1</th>\n",
       "      <td>X868</td>\n",
       "      <td>0.447664</td>\n",
       "    </tr>\n",
       "    <tr>\n",
       "      <th>2</th>\n",
       "      <td>X473</td>\n",
       "      <td>0.422322</td>\n",
       "    </tr>\n",
       "    <tr>\n",
       "      <th>3</th>\n",
       "      <td>X466</td>\n",
       "      <td>0.336577</td>\n",
       "    </tr>\n",
       "    <tr>\n",
       "      <th>4</th>\n",
       "      <td>X218</td>\n",
       "      <td>0.266039</td>\n",
       "    </tr>\n",
       "    <tr>\n",
       "      <th>5</th>\n",
       "      <td>X225</td>\n",
       "      <td>0.266039</td>\n",
       "    </tr>\n",
       "    <tr>\n",
       "      <th>6</th>\n",
       "      <td>X137</td>\n",
       "      <td>0.266039</td>\n",
       "    </tr>\n",
       "    <tr>\n",
       "      <th>7</th>\n",
       "      <td>X89</td>\n",
       "      <td>0.266039</td>\n",
       "    </tr>\n",
       "    <tr>\n",
       "      <th>8</th>\n",
       "      <td>X169</td>\n",
       "      <td>0.266039</td>\n",
       "    </tr>\n",
       "    <tr>\n",
       "      <th>9</th>\n",
       "      <td>X224</td>\n",
       "      <td>0.266039</td>\n",
       "    </tr>\n",
       "    <tr>\n",
       "      <th>10</th>\n",
       "      <td>X299</td>\n",
       "      <td>0.181624</td>\n",
       "    </tr>\n",
       "    <tr>\n",
       "      <th>11</th>\n",
       "      <td>X379</td>\n",
       "      <td>0.181624</td>\n",
       "    </tr>\n",
       "    <tr>\n",
       "      <th>12</th>\n",
       "      <td>X303</td>\n",
       "      <td>0.181624</td>\n",
       "    </tr>\n",
       "    <tr>\n",
       "      <th>13</th>\n",
       "      <td>X272</td>\n",
       "      <td>0.181624</td>\n",
       "    </tr>\n",
       "    <tr>\n",
       "      <th>14</th>\n",
       "      <td>X301</td>\n",
       "      <td>0.181624</td>\n",
       "    </tr>\n",
       "    <tr>\n",
       "      <th>15</th>\n",
       "      <td>X302</td>\n",
       "      <td>0.181624</td>\n",
       "    </tr>\n",
       "    <tr>\n",
       "      <th>16</th>\n",
       "      <td>X298</td>\n",
       "      <td>0.181624</td>\n",
       "    </tr>\n",
       "    <tr>\n",
       "      <th>17</th>\n",
       "      <td>X300</td>\n",
       "      <td>0.181624</td>\n",
       "    </tr>\n",
       "    <tr>\n",
       "      <th>18</th>\n",
       "      <td>X29</td>\n",
       "      <td>0.156283</td>\n",
       "    </tr>\n",
       "    <tr>\n",
       "      <th>19</th>\n",
       "      <td>X19</td>\n",
       "      <td>0.156283</td>\n",
       "    </tr>\n",
       "    <tr>\n",
       "      <th>20</th>\n",
       "      <td>X858</td>\n",
       "      <td>0.085745</td>\n",
       "    </tr>\n",
       "  </tbody>\n",
       "</table>\n",
       "</div>"
      ],
      "text/plain": [
       "     var  contribution\n",
       "0   X217      0.447664\n",
       "1   X868      0.447664\n",
       "2   X473      0.422322\n",
       "3   X466      0.336577\n",
       "4   X218      0.266039\n",
       "5   X225      0.266039\n",
       "6   X137      0.266039\n",
       "7    X89      0.266039\n",
       "8   X169      0.266039\n",
       "9   X224      0.266039\n",
       "10  X299      0.181624\n",
       "11  X379      0.181624\n",
       "12  X303      0.181624\n",
       "13  X272      0.181624\n",
       "14  X301      0.181624\n",
       "15  X302      0.181624\n",
       "16  X298      0.181624\n",
       "17  X300      0.181624\n",
       "18   X29      0.156283\n",
       "19   X19      0.156283\n",
       "20  X858      0.085745"
      ]
     },
     "execution_count": 32,
     "metadata": {},
     "output_type": "execute_result"
    }
   ],
   "source": [
    "# count appearance in top k factors in top 5 components\n",
    "top_contribution = {}\n",
    "\n",
    "for i in range(4):\n",
    "    temp = pd.DataFrame(\n",
    "        {\n",
    "            \"var\": inc_PCA.feature_names_in_,\n",
    "            \"pc1_contribution\": inc_PCA.components_[i]\n",
    "        }\n",
    "    )\n",
    "    temp_lst = temp.sort_values(\"pc1_contribution\", ascending=False, key = lambda x: abs(x)).iloc[:10, ][\"var\"].tolist()\n",
    "    for var in temp_lst:\n",
    "        top_contribution[var] = top_contribution.get(var, 0) + inc_PCA.explained_variance_ratio_[i]\n",
    "top_contribution = pd.DataFrame(\n",
    "    {\n",
    "        \"var\": list(top_contribution.keys()),\n",
    "        \"contribution\": list(top_contribution.values())\n",
    "    }\n",
    ").sort_values(\"contribution\", ascending=False).reset_index().drop(\"index\", axis = 1)\n",
    "top_contribution.loc[:20,]"
   ]
  },
  {
   "cell_type": "markdown",
   "id": "5320f462",
   "metadata": {},
   "source": [
    "Analyze interesting features from initial modeling"
   ]
  },
  {
   "cell_type": "code",
   "execution_count": 33,
   "id": "da860dcd",
   "metadata": {},
   "outputs": [
    {
     "data": {
      "image/png": "[encoded data removed]",
      "text/plain": [
       "<Figure size 640x480 with 1 Axes>"
      ]
     },
     "metadata": {},
     "output_type": "display_data"
    },
    {
     "data": {
      "image/png": "[encoded data removed]",
      "text/plain": [
       "<Figure size 640x480 with 1 Axes>"
      ]
     },
     "metadata": {},
     "output_type": "display_data"
    }
   ],
   "source": [
    "plot_acf(train_df.select(\"X198\").collect().to_numpy(), lags=50)\n",
    "plot_pacf(train_df.select(\"X198\").collect().to_numpy(), lags=50)\n",
    "plt.show()"
   ]
  },
  {
   "cell_type": "code",
   "execution_count": 34,
   "id": "28810525",
   "metadata": {},
   "outputs": [
    {
     "data": {
      "image/png": "[encoded data removed]",
      "text/plain": [
       "<Figure size 640x480 with 1 Axes>"
      ]
     },
     "metadata": {},
     "output_type": "display_data"
    },
    {
     "data": {
      "image/png": "[encoded data removed]",
      "text/plain": [
       "<Figure size 640x480 with 1 Axes>"
      ]
     },
     "metadata": {},
     "output_type": "display_data"
    }
   ],
   "source": [
    "plot_acf(train_df.select(\"X598\").collect().to_numpy(), lags=50)\n",
    "plot_pacf(train_df.select(\"X598\").collect().to_numpy(), lags=50)\n",
    "plt.show()"
   ]
  },
  {
   "cell_type": "code",
   "execution_count": 35,
   "id": "e1464cfe",
   "metadata": {},
   "outputs": [
    {
     "data": {
      "image/png": "[encoded data removed]",
      "text/plain": [
       "<Figure size 640x480 with 1 Axes>"
      ]
     },
     "metadata": {},
     "output_type": "display_data"
    },
    {
     "data": {
      "image/png": "[encoded data removed]",
      "text/plain": [
       "<Figure size 640x480 with 1 Axes>"
      ]
     },
     "metadata": {},
     "output_type": "display_data"
    }
   ],
   "source": [
    "plot_acf(train_df.select(\"X863\").collect().to_numpy(), lags=50)\n",
    "plot_pacf(train_df.select(\"X863\").collect().to_numpy(), lags=50)\n",
    "plt.show()"
   ]
  },
  {
   "cell_type": "code",
   "execution_count": 36,
   "id": "02ea229f",
   "metadata": {},
   "outputs": [
    {
     "data": {
      "image/png": "[encoded data removed]",
      "text/plain": [
       "<Figure size 640x480 with 1 Axes>"
      ]
     },
     "metadata": {},
     "output_type": "display_data"
    },
    {
     "data": {
      "image/png": "[encoded data removed]",
      "text/plain": [
       "<Figure size 640x480 with 1 Axes>"
      ]
     },
     "metadata": {},
     "output_type": "display_data"
    }
   ],
   "source": [
    "plot_acf(train_df.select(\"X466\").collect().to_numpy(), lags=50)\n",
    "plot_pacf(train_df.select(\"X466\").collect().to_numpy(), lags=50)\n",
    "plt.show()"
   ]
  },
  {
   "cell_type": "markdown",
   "id": "49ac51c4",
   "metadata": {},
   "source": [
    "Try to cluster the features to see how many groups we have"
   ]
  },
  {
   "cell_type": "code",
   "execution_count": 37,
   "id": "b21c4ead",
   "metadata": {},
   "outputs": [
    {
     "data": {
      "image/png": "[encoded data removed]",
      "text/plain": [
       "<Figure size 1000x2000 with 1 Axes>"
      ]
     },
     "metadata": {},
     "output_type": "display_data"
    }
   ],
   "source": [
    "X = train_df.select(best_label_correlation).collect().to_numpy().T\n",
    "X = (X - X.mean(axis=1, keepdims=True)) / X.std(axis=1, keepdims=True)\n",
    "distance_matrix = pdist(X, metric='euclidean')  \n",
    "linkage_matrix = linkage(distance_matrix, method='median') \n",
    "plt.figure(figsize=(10, 20))\n",
    "dendrogram(linkage_matrix, orientation=\"right\", labels = best_label_correlation, leaf_font_size=8)\n",
    "plt.show()"
   ]
  },
  {
   "cell_type": "code",
   "execution_count": 38,
   "id": "0c85454c",
   "metadata": {},
   "outputs": [
    {
     "data": {
      "text/html": [
       "<div>\n",
       "<style scoped>\n",
       "    .dataframe tbody tr th:only-of-type {\n",
       "        vertical-align: middle;\n",
       "    }\n",
       "\n",
       "    .dataframe tbody tr th {\n",
       "        vertical-align: top;\n",
       "    }\n",
       "\n",
       "    .dataframe thead th {\n",
       "        text-align: right;\n",
       "    }\n",
       "</style>\n",
       "<table border=\"1\" class=\"dataframe\">\n",
       "  <thead>\n",
       "    <tr style=\"text-align: right;\">\n",
       "      <th></th>\n",
       "      <th>var</th>\n",
       "      <th>cluster</th>\n",
       "    </tr>\n",
       "  </thead>\n",
       "  <tbody>\n",
       "    <tr>\n",
       "      <th>0</th>\n",
       "      <td>X367</td>\n",
       "      <td>1</td>\n",
       "    </tr>\n",
       "    <tr>\n",
       "      <th>1</th>\n",
       "      <td>X373</td>\n",
       "      <td>1</td>\n",
       "    </tr>\n",
       "    <tr>\n",
       "      <th>2</th>\n",
       "      <td>X361</td>\n",
       "      <td>1</td>\n",
       "    </tr>\n",
       "    <tr>\n",
       "      <th>3</th>\n",
       "      <td>X379</td>\n",
       "      <td>1</td>\n",
       "    </tr>\n",
       "    <tr>\n",
       "      <th>4</th>\n",
       "      <td>X385</td>\n",
       "      <td>1</td>\n",
       "    </tr>\n",
       "    <tr>\n",
       "      <th>...</th>\n",
       "      <td>...</td>\n",
       "      <td>...</td>\n",
       "    </tr>\n",
       "    <tr>\n",
       "      <th>95</th>\n",
       "      <td>X731</td>\n",
       "      <td>16</td>\n",
       "    </tr>\n",
       "    <tr>\n",
       "      <th>96</th>\n",
       "      <td>X856</td>\n",
       "      <td>17</td>\n",
       "    </tr>\n",
       "    <tr>\n",
       "      <th>97</th>\n",
       "      <td>X612</td>\n",
       "      <td>18</td>\n",
       "    </tr>\n",
       "    <tr>\n",
       "      <th>98</th>\n",
       "      <td>X598</td>\n",
       "      <td>19</td>\n",
       "    </tr>\n",
       "    <tr>\n",
       "      <th>99</th>\n",
       "      <td>X863</td>\n",
       "      <td>20</td>\n",
       "    </tr>\n",
       "  </tbody>\n",
       "</table>\n",
       "<p>100 rows × 2 columns</p>\n",
       "</div>"
      ],
      "text/plain": [
       "     var  cluster\n",
       "0   X367        1\n",
       "1   X373        1\n",
       "2   X361        1\n",
       "3   X379        1\n",
       "4   X385        1\n",
       "..   ...      ...\n",
       "95  X731       16\n",
       "96  X856       17\n",
       "97  X612       18\n",
       "98  X598       19\n",
       "99  X863       20\n",
       "\n",
       "[100 rows x 2 columns]"
      ]
     },
     "execution_count": 38,
     "metadata": {},
     "output_type": "execute_result"
    }
   ],
   "source": [
    "# Cut the dendrogram to form k clusters\n",
    "clusters = fcluster(linkage_matrix, t=20, criterion='maxclust')\n",
    "clusters_df = pd.DataFrame({\n",
    "    \"var\": best_label_correlation,\n",
    "    \"cluster\": clusters\n",
    "}).sort_values(\"cluster\").reset_index(drop=True)\n",
    "clusters_df"
   ]
  },
  {
   "cell_type": "code",
   "execution_count": 39,
   "id": "b7a7f7e5",
   "metadata": {},
   "outputs": [
    {
     "data": {
      "text/plain": [
       "cluster\n",
       "5     29\n",
       "2     15\n",
       "16    11\n",
       "11     8\n",
       "4      6\n",
       "1      5\n",
       "7      4\n",
       "9      4\n",
       "10     3\n",
       "15     3\n",
       "8      2\n",
       "6      2\n",
       "12     1\n",
       "13     1\n",
       "14     1\n",
       "3      1\n",
       "17     1\n",
       "18     1\n",
       "19     1\n",
       "20     1\n",
       "Name: count, dtype: int64"
      ]
     },
     "execution_count": 39,
     "metadata": {},
     "output_type": "execute_result"
    }
   ],
   "source": [
    "clusters_df[\"cluster\"].value_counts()"
   ]
  }
 ],
 "metadata": {
  "kernelspec": {
   "display_name": "Python 3",
   "language": "python",
   "name": "python3"
  },
  "language_info": {
   "codemirror_mode": {
    "name": "ipython",
    "version": 3
   },
   "file_extension": ".py",
   "mimetype": "text/x-python",
   "name": "python",
   "nbconvert_exporter": "python",
   "pygments_lexer": "ipython3",
   "version": "3.9.6"
  }
 },
 "nbformat": 4,
 "nbformat_minor": 5
}
