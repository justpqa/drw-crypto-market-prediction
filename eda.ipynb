{
 "cells": [
  {
   "cell_type": "code",
   "execution_count": 1,
   "id": "4ea9bfa1",
   "metadata": {},
   "outputs": [],
   "source": [
    "from tqdm import tqdm\n",
    "import gc\n",
    "import pickle\n",
    "import pandas as pd\n",
    "import polars as pl\n",
    "import numpy as np\n",
    "import matplotlib.pyplot as plt\n",
    "import seaborn as sns\n",
    "from sklearn.decomposition import PCA, IncrementalPCA\n",
    "from statsmodels.graphics.tsaplots import plot_acf, plot_pacf\n",
    "from scipy.cluster.hierarchy import linkage, dendrogram\n",
    "from scipy.spatial.distance import pdist\n",
    "from scipy.cluster.hierarchy import fcluster"
   ]
  },
  {
   "cell_type": "code",
   "execution_count": 2,
   "id": "c93e7217",
   "metadata": {},
   "outputs": [],
   "source": [
    "train_df = pl.read_parquet(\n",
    "    \"data/raw/train.parquet\",\n",
    "    use_pyarrow=True,   \n",
    "    low_memory=True\n",
    ").lazy()"
   ]
  },
  {
   "cell_type": "code",
   "execution_count": 3,
   "id": "7ff8adc0",
   "metadata": {},
   "outputs": [],
   "source": [
    "test_df = pl.read_parquet(\n",
    "    \"data/raw/test.parquet\",\n",
    "    use_pyarrow=True,   \n",
    "    low_memory=True\n",
    ").lazy()"
   ]
  },
  {
   "cell_type": "code",
   "execution_count": 4,
   "id": "9968ed2b",
   "metadata": {},
   "outputs": [
    {
     "name": "stdout",
     "output_type": "stream",
     "text": [
      "['bid_qty', 'ask_qty', 'buy_qty', 'sell_qty', 'volume', 'X1', 'X2', 'X3', 'X4', 'X5', 'X6', 'X7', 'X8', 'X9', 'X10', 'X11', 'X12', 'X13', 'X14', 'X15', 'X16', 'X17', 'X18', 'X19', 'X20', 'X21', 'X22', 'X23', 'X24', 'X25', 'X26', 'X27', 'X28', 'X29', 'X30', 'X31', 'X32', 'X33', 'X34', 'X35', 'X36', 'X37', 'X38', 'X39', 'X40', 'X41', 'X42', 'X43', 'X44', 'X45', 'X46', 'X47', 'X48', 'X49', 'X50', 'X51', 'X52', 'X53', 'X54', 'X55', 'X56', 'X57', 'X58', 'X59', 'X60', 'X61', 'X62', 'X63', 'X64', 'X65', 'X66', 'X67', 'X68', 'X69', 'X70', 'X71', 'X72', 'X73', 'X74', 'X75', 'X76', 'X77', 'X78', 'X79', 'X80', 'X81', 'X82', 'X83', 'X84', 'X85', 'X86', 'X87', 'X88', 'X89', 'X90', 'X91', 'X92', 'X93', 'X94', 'X95', 'X96', 'X97', 'X98', 'X99', 'X100', 'X101', 'X102', 'X103', 'X104', 'X105', 'X106', 'X107', 'X108', 'X109', 'X110', 'X111', 'X112', 'X113', 'X114', 'X115', 'X116', 'X117', 'X118', 'X119', 'X120', 'X121', 'X122', 'X123', 'X124', 'X125', 'X126', 'X127', 'X128', 'X129', 'X130', 'X131', 'X132', 'X133', 'X134', 'X135', 'X136', 'X137', 'X138', 'X139', 'X140', 'X141', 'X142', 'X143', 'X144', 'X145', 'X146', 'X147', 'X148', 'X149', 'X150', 'X151', 'X152', 'X153', 'X154', 'X155', 'X156', 'X157', 'X158', 'X159', 'X160', 'X161', 'X162', 'X163', 'X164', 'X165', 'X166', 'X167', 'X168', 'X169', 'X170', 'X171', 'X172', 'X173', 'X174', 'X175', 'X176', 'X177', 'X178', 'X179', 'X180', 'X181', 'X182', 'X183', 'X184', 'X185', 'X186', 'X187', 'X188', 'X189', 'X190', 'X191', 'X192', 'X193', 'X194', 'X195', 'X196', 'X197', 'X198', 'X199', 'X200', 'X201', 'X202', 'X203', 'X204', 'X205', 'X206', 'X207', 'X208', 'X209', 'X210', 'X211', 'X212', 'X213', 'X214', 'X215', 'X216', 'X217', 'X218', 'X219', 'X220', 'X221', 'X222', 'X223', 'X224', 'X225', 'X226', 'X227', 'X228', 'X229', 'X230', 'X231', 'X232', 'X233', 'X234', 'X235', 'X236', 'X237', 'X238', 'X239', 'X240', 'X241', 'X242', 'X243', 'X244', 'X245', 'X246', 'X247', 'X248', 'X249', 'X250', 'X251', 'X252', 'X253', 'X254', 'X255', 'X256', 'X257', 'X258', 'X259', 'X260', 'X261', 'X262', 'X263', 'X264', 'X265', 'X266', 'X267', 'X268', 'X269', 'X270', 'X271', 'X272', 'X273', 'X274', 'X275', 'X276', 'X277', 'X278', 'X279', 'X280', 'X281', 'X282', 'X283', 'X284', 'X285', 'X286', 'X287', 'X288', 'X289', 'X290', 'X291', 'X292', 'X293', 'X294', 'X295', 'X296', 'X297', 'X298', 'X299', 'X300', 'X301', 'X302', 'X303', 'X304', 'X305', 'X306', 'X307', 'X308', 'X309', 'X310', 'X311', 'X312', 'X313', 'X314', 'X315', 'X316', 'X317', 'X318', 'X319', 'X320', 'X321', 'X322', 'X323', 'X324', 'X325', 'X326', 'X327', 'X328', 'X329', 'X330', 'X331', 'X332', 'X333', 'X334', 'X335', 'X336', 'X337', 'X338', 'X339', 'X340', 'X341', 'X342', 'X343', 'X344', 'X345', 'X346', 'X347', 'X348', 'X349', 'X350', 'X351', 'X352', 'X353', 'X354', 'X355', 'X356', 'X357', 'X358', 'X359', 'X360', 'X361', 'X362', 'X363', 'X364', 'X365', 'X366', 'X367', 'X368', 'X369', 'X370', 'X371', 'X372', 'X373', 'X374', 'X375', 'X376', 'X377', 'X378', 'X379', 'X380', 'X381', 'X382', 'X383', 'X384', 'X385', 'X386', 'X387', 'X388', 'X389', 'X390', 'X391', 'X392', 'X393', 'X394', 'X395', 'X396', 'X397', 'X398', 'X399', 'X400', 'X401', 'X402', 'X403', 'X404', 'X405', 'X406', 'X407', 'X408', 'X409', 'X410', 'X411', 'X412', 'X413', 'X414', 'X415', 'X416', 'X417', 'X418', 'X419', 'X420', 'X421', 'X422', 'X423', 'X424', 'X425', 'X426', 'X427', 'X428', 'X429', 'X430', 'X431', 'X432', 'X433', 'X434', 'X435', 'X436', 'X437', 'X438', 'X439', 'X440', 'X441', 'X442', 'X443', 'X444', 'X445', 'X446', 'X447', 'X448', 'X449', 'X450', 'X451', 'X452', 'X453', 'X454', 'X455', 'X456', 'X457', 'X458', 'X459', 'X460', 'X461', 'X462', 'X463', 'X464', 'X465', 'X466', 'X467', 'X468', 'X469', 'X470', 'X471', 'X472', 'X473', 'X474', 'X475', 'X476', 'X477', 'X478', 'X479', 'X480', 'X481', 'X482', 'X483', 'X484', 'X485', 'X486', 'X487', 'X488', 'X489', 'X490', 'X491', 'X492', 'X493', 'X494', 'X495', 'X496', 'X497', 'X498', 'X499', 'X500', 'X501', 'X502', 'X503', 'X504', 'X505', 'X506', 'X507', 'X508', 'X509', 'X510', 'X511', 'X512', 'X513', 'X514', 'X515', 'X516', 'X517', 'X518', 'X519', 'X520', 'X521', 'X522', 'X523', 'X524', 'X525', 'X526', 'X527', 'X528', 'X529', 'X530', 'X531', 'X532', 'X533', 'X534', 'X535', 'X536', 'X537', 'X538', 'X539', 'X540', 'X541', 'X542', 'X543', 'X544', 'X545', 'X546', 'X547', 'X548', 'X549', 'X550', 'X551', 'X552', 'X553', 'X554', 'X555', 'X556', 'X557', 'X558', 'X559', 'X560', 'X561', 'X562', 'X563', 'X564', 'X565', 'X566', 'X567', 'X568', 'X569', 'X570', 'X571', 'X572', 'X573', 'X574', 'X575', 'X576', 'X577', 'X578', 'X579', 'X580', 'X581', 'X582', 'X583', 'X584', 'X585', 'X586', 'X587', 'X588', 'X589', 'X590', 'X591', 'X592', 'X593', 'X594', 'X595', 'X596', 'X597', 'X598', 'X599', 'X600', 'X601', 'X602', 'X603', 'X604', 'X605', 'X606', 'X607', 'X608', 'X609', 'X610', 'X611', 'X612', 'X613', 'X614', 'X615', 'X616', 'X617', 'X618', 'X619', 'X620', 'X621', 'X622', 'X623', 'X624', 'X625', 'X626', 'X627', 'X628', 'X629', 'X630', 'X631', 'X632', 'X633', 'X634', 'X635', 'X636', 'X637', 'X638', 'X639', 'X640', 'X641', 'X642', 'X643', 'X644', 'X645', 'X646', 'X647', 'X648', 'X649', 'X650', 'X651', 'X652', 'X653', 'X654', 'X655', 'X656', 'X657', 'X658', 'X659', 'X660', 'X661', 'X662', 'X663', 'X664', 'X665', 'X666', 'X667', 'X668', 'X669', 'X670', 'X671', 'X672', 'X673', 'X674', 'X675', 'X676', 'X677', 'X678', 'X679', 'X680', 'X681', 'X682', 'X683', 'X684', 'X685', 'X686', 'X687', 'X688', 'X689', 'X690', 'X691', 'X692', 'X693', 'X694', 'X695', 'X696', 'X697', 'X698', 'X699', 'X700', 'X701', 'X702', 'X703', 'X704', 'X705', 'X706', 'X707', 'X708', 'X709', 'X710', 'X711', 'X712', 'X713', 'X714', 'X715', 'X716', 'X717', 'X718', 'X719', 'X720', 'X721', 'X722', 'X723', 'X724', 'X725', 'X726', 'X727', 'X728', 'X729', 'X730', 'X731', 'X732', 'X733', 'X734', 'X735', 'X736', 'X737', 'X738', 'X739', 'X740', 'X741', 'X742', 'X743', 'X744', 'X745', 'X746', 'X747', 'X748', 'X749', 'X750', 'X751', 'X752', 'X753', 'X754', 'X755', 'X756', 'X757', 'X758', 'X759', 'X760', 'X761', 'X762', 'X763', 'X764', 'X765', 'X766', 'X767', 'X768', 'X769', 'X770', 'X771', 'X772', 'X773', 'X774', 'X775', 'X776', 'X777', 'X778', 'X779', 'X780', 'X781', 'X782', 'X783', 'X784', 'X785', 'X786', 'X787', 'X788', 'X789', 'X790', 'X791', 'X792', 'X793', 'X794', 'X795', 'X796', 'X797', 'X798', 'X799', 'X800', 'X801', 'X802', 'X803', 'X804', 'X805', 'X806', 'X807', 'X808', 'X809', 'X810', 'X811', 'X812', 'X813', 'X814', 'X815', 'X816', 'X817', 'X818', 'X819', 'X820', 'X821', 'X822', 'X823', 'X824', 'X825', 'X826', 'X827', 'X828', 'X829', 'X830', 'X831', 'X832', 'X833', 'X834', 'X835', 'X836', 'X837', 'X838', 'X839', 'X840', 'X841', 'X842', 'X843', 'X844', 'X845', 'X846', 'X847', 'X848', 'X849', 'X850', 'X851', 'X852', 'X853', 'X854', 'X855', 'X856', 'X857', 'X858', 'X859', 'X860', 'X861', 'X862', 'X863', 'X864', 'X865', 'X866', 'X867', 'X868', 'X869', 'X870', 'X871', 'X872', 'X873', 'X874', 'X875', 'X876', 'X877', 'X878', 'X879', 'X880', 'X881', 'X882', 'X883', 'X884', 'X885', 'X886', 'X887', 'X888', 'X889', 'X890', 'label', 'timestamp']\n"
     ]
    },
    {
     "name": "stderr",
     "output_type": "stream",
     "text": [
      "/var/folders/5b/jn4p_4vx7j9gx2jdrmbjlxnr0000gn/T/ipykernel_49557/293337480.py:1: PerformanceWarning: Determining the column names of a LazyFrame requires resolving its schema, which is a potentially expensive operation. Use `LazyFrame.collect_schema().names()` to get the column names without this warning.\n",
      "  print(train_df.columns)\n"
     ]
    }
   ],
   "source": [
    "print(train_df.columns)"
   ]
  },
  {
   "cell_type": "code",
   "execution_count": 5,
   "id": "98e35c4d",
   "metadata": {},
   "outputs": [
    {
     "data": {
      "text/plain": [
       "Text(0.5, 1.0, 'Label Distribution')"
      ]
     },
     "execution_count": 5,
     "metadata": {},
     "output_type": "execute_result"
    },
    {
     "data": {
      "image/png": "[encoded data removed]",
      "text/plain": [
       "<Figure size 640x480 with 1 Axes>"
      ]
     },
     "metadata": {},
     "output_type": "display_data"
    }
   ],
   "source": [
    "sns.histplot(train_df.select(\"label\").collect().to_numpy())\n",
    "plt.xlim([-7.5, 7.5])\n",
    "plt.title(\"Label Distribution\")"
   ]
  },
  {
   "cell_type": "code",
   "execution_count": 8,
   "id": "588743b8",
   "metadata": {},
   "outputs": [
    {
     "name": "stdout",
     "output_type": "stream",
     "text": [
      "-0.3815825345619924 0.4341385161847758\n"
     ]
    }
   ],
   "source": [
    "print(train_df.select(\"label\").quantile(0.25, \"nearest\").collect().item(), train_df.select(\"label\").quantile(0.75, \"nearest\").collect().item())"
   ]
  },
  {
   "cell_type": "code",
   "execution_count": null,
   "id": "4791c11f",
   "metadata": {},
   "outputs": [],
   "source": [
    "# drop timestamp since test data does not have timestamp\n",
    "train_df = train_df.drop(\"timestamp\")"
   ]
  },
  {
   "cell_type": "code",
   "execution_count": null,
   "id": "b1c61f52",
   "metadata": {},
   "outputs": [],
   "source": [
    "# Check for nas in train or test\n",
    "temp = train_df.null_count().collect()\n",
    "has_null_col = [col for col in temp.columns if temp[col].sum() != 0]\n",
    "has_null_col"
   ]
  },
  {
   "cell_type": "code",
   "execution_count": null,
   "id": "3457572d",
   "metadata": {},
   "outputs": [],
   "source": [
    "temp = test_df.null_count().collect()\n",
    "has_null_col = [col for col in temp.columns if temp[col].sum() != 0]\n",
    "has_null_col\n",
    "# no nas issue in train and test"
   ]
  },
  {
   "cell_type": "code",
   "execution_count": null,
   "id": "62c8f8ae",
   "metadata": {},
   "outputs": [],
   "source": [
    "# check all possible datatypes\n",
    "print(set(train_df.dtypes))"
   ]
  },
  {
   "cell_type": "code",
   "execution_count": null,
   "id": "ae0884b4",
   "metadata": {},
   "outputs": [],
   "source": [
    "# check for possible constant columns\n",
    "constant_columns = []\n",
    "for col in train_df.columns:\n",
    "    if train_df.select(col).min().collect()[0, 0] == train_df.select(col).max().collect()[0, 0]:\n",
    "        constant_columns.append(col)\n",
    "print(constant_columns)"
   ]
  },
  {
   "cell_type": "code",
   "execution_count": null,
   "id": "99119258",
   "metadata": {},
   "outputs": [],
   "source": [
    "# check if same issue might also appear in test\n",
    "actual_constant_columns = []\n",
    "for col in constant_columns:\n",
    "    if train_df.select(col).min().collect()[0, 0] == train_df.select(col).max().collect()[0, 0]:\n",
    "        actual_constant_columns.append(col)\n",
    "print(set(constant_columns) - set(actual_constant_columns)) # all are constant => can remove?"
   ]
  },
  {
   "cell_type": "code",
   "execution_count": null,
   "id": "59d133bd",
   "metadata": {},
   "outputs": [],
   "source": [
    "train_df = train_df.drop(actual_constant_columns)"
   ]
  },
  {
   "cell_type": "code",
   "execution_count": null,
   "id": "8d591291",
   "metadata": {},
   "outputs": [],
   "source": [
    "# # get columns pair that is perfectly (or very highly) correlated\n",
    "# correlated_pair = []\n",
    "# col_names = train_df.collect_schema().names()\n",
    "# for i in tqdm(range(len(col_names) - 1)):\n",
    "#     col1 = col_names[i]\n",
    "#     if col1 not in constant_columns:\n",
    "#         for j in range(i + 1, len(col_names)):\n",
    "#             col2 = col_names[j]\n",
    "#             if col2 not in constant_columns:\n",
    "#                 x = train_df.select(col1).collect()[col1].to_numpy()\n",
    "#                 y = train_df.select(col2).collect()[col2].to_numpy()\n",
    "#                 if np.corrcoef(x, y)[0][1] == 1:\n",
    "#                     correlated_pair.append(f\"{col1}-{col2}\")\n",
    "# print(correlated_pair)\n",
    "# print(len(correlated_pair))"
   ]
  },
  {
   "cell_type": "code",
   "execution_count": null,
   "id": "a6e3e7d2",
   "metadata": {},
   "outputs": [],
   "source": [
    "correlated_pair = ['X62-X104', 'X62-X146', 'X74-X116', 'X74-X158', 'X86-X128', 'X86-X170', 'X92-X134', 'X92-X176', 'X98-X140', 'X98-X182', 'X104-X146', 'X116-X158', 'X128-X170', 'X134-X176', 'X140-X182', 'X315-X357', 'X315-X399', 'X321-X363', 'X321-X405', 'X327-X369', 'X327-X411', 'X333-X375', 'X333-X417', 'X339-X381', 'X339-X423', 'X357-X399', 'X363-X405', 'X369-X411', 'X375-X417', 'X381-X423']\n",
    "actual_correlated_pair = []\n",
    "for cp in correlated_pair:\n",
    "    col1, col2 = cp.split(\"-\")\n",
    "    x = test_df.select(col1).collect()[col1].to_numpy()\n",
    "    y = test_df.select(col2).collect()[col2].to_numpy()\n",
    "    if np.corrcoef(x, y)[0][1] == 1:\n",
    "        actual_correlated_pair.append(f\"{col1}-{col2}\")\n",
    "set(correlated_pair) - set(actual_correlated_pair)"
   ]
  },
  {
   "cell_type": "code",
   "execution_count": null,
   "id": "8fdb1dd7",
   "metadata": {},
   "outputs": [],
   "source": [
    "# Group into correlated group\n",
    "correlated_group = []\n",
    "for cp in actual_correlated_pair:\n",
    "    cp_lst = cp.split(\"-\")\n",
    "    added = False\n",
    "    for inx, cg in enumerate(correlated_group):\n",
    "        for var in cp_lst:\n",
    "            if var in cg:\n",
    "                correlated_group[inx].extend(cp_lst)\n",
    "                correlated_group[inx] = list(set(correlated_group[inx]))\n",
    "                added = True\n",
    "                break\n",
    "        if added:\n",
    "            break\n",
    "    if not added:\n",
    "        correlated_group.append(cp_lst)\n",
    "correlated_group\n",
    "# 8 groups of perfectly correlated features, try to check if same things happen in test"
   ]
  },
  {
   "cell_type": "code",
   "execution_count": null,
   "id": "757c696e",
   "metadata": {},
   "outputs": [],
   "source": [
    "removed_col = []\n",
    "for cg in correlated_group:\n",
    "    removed_col.extend(cg[1:])\n",
    "train_df = train_df.drop(removed_col)"
   ]
  },
  {
   "cell_type": "code",
   "execution_count": null,
   "id": "be7a6a8a",
   "metadata": {},
   "outputs": [],
   "source": [
    "# Incremental PCA\n",
    "inc_PCA = IncrementalPCA(n_components = 50)\n",
    "\n",
    "# fitting a batch every turn\n",
    "n_rows = train_df.select(\"bid_qty\").count().collect()[0, 0]\n",
    "batch_size = 100000\n",
    "for i in tqdm(range(0, n_rows, batch_size)):\n",
    "    length = min(n_rows - i, batch_size)\n",
    "    train_df_batch = train_df.drop(\"label\").slice(offset = i, length = length).collect()\n",
    "    inc_PCA.partial_fit(train_df_batch)"
   ]
  },
  {
   "cell_type": "code",
   "execution_count": null,
   "id": "e8637412",
   "metadata": {},
   "outputs": [],
   "source": [
    "sns.barplot(inc_PCA.explained_variance_ratio_)"
   ]
  },
  {
   "cell_type": "code",
   "execution_count": null,
   "id": "7399d36f",
   "metadata": {},
   "outputs": [],
   "source": [
    "pc1_component = pd.DataFrame(\n",
    "    {\n",
    "        \"var\": inc_PCA.feature_names_in_,\n",
    "        \"pc1_contribution\": inc_PCA.components_[0]\n",
    "    }\n",
    ")\n",
    "\n",
    "pc1_component = pc1_component.sort_values(\"pc1_contribution\", ascending=False, key = lambda x: abs(x)).reset_index().drop(\"index\", axis = 1)\n",
    "pc1_component"
   ]
  },
  {
   "cell_type": "code",
   "execution_count": null,
   "id": "330c27ed",
   "metadata": {},
   "outputs": [],
   "source": [
    "# Use the top 50 features\n",
    "print(pc1_component.iloc[:50, ][\"var\"].tolist())"
   ]
  },
  {
   "cell_type": "code",
   "execution_count": null,
   "id": "c31b05ad",
   "metadata": {},
   "outputs": [],
   "source": [
    "# Also need to check correlation with target variable\n",
    "var_label_correlation = []\n",
    "for i in tqdm(range(pc1_component.shape[0])):\n",
    "    var = pc1_component.loc[i, \"var\"]\n",
    "    var_label_correlation.append(train_df.select(pl.corr(var, \"label\")).collect().item())\n",
    "pc1_component[\"var_label_correlation\"] = var_label_correlation\n",
    "pc1_component"
   ]
  },
  {
   "cell_type": "code",
   "execution_count": null,
   "id": "f4305ab8",
   "metadata": {},
   "outputs": [],
   "source": [
    "pc1_component.sort_values(\"var_label_correlation\", ascending=False, key = lambda x: abs(x))"
   ]
  },
  {
   "cell_type": "code",
   "execution_count": null,
   "id": "79954976",
   "metadata": {},
   "outputs": [],
   "source": [
    "pc1_component[\"pc1_contribution_rnk\"] = pc1_component[\"pc1_contribution\"].abs().rank(method = \"min\", ascending=False)\n",
    "pc1_component[\"var_label_correlation_rnk\"] = pc1_component[\"var_label_correlation\"].abs().rank(method = \"min\", ascending=False)\n",
    "pc1_component[\"average_rnk\"] = (pc1_component[\"pc1_contribution_rnk\"] + pc1_component[\"var_label_correlation_rnk\"]) / 2\n",
    "pc1_component"
   ]
  },
  {
   "cell_type": "code",
   "execution_count": null,
   "id": "c024cfb7",
   "metadata": {},
   "outputs": [],
   "source": [
    "popular_var = [\n",
    "    \"X863\", \"X856\", \"X344\", \"X598\", \"X862\", \"X385\", \"X852\", \"X603\", \"X860\", \"X674\",\n",
    "    \"X415\", \"X345\", \"X137\", \"X855\", \"X174\", \"X302\", \"X178\", \"X532\", \"X168\", \"X612\",\n",
    "    \"bid_qty\", \"ask_qty\", \"buy_qty\", \"sell_qty\", \"volume\"\n",
    "]\n",
    "pc1_component[pc1_component[\"var\"].isin(popular_var)]"
   ]
  },
  {
   "cell_type": "code",
   "execution_count": null,
   "id": "62cd270b",
   "metadata": {},
   "outputs": [],
   "source": [
    "pc1_component = pc1_component.sort_values(\"average_rnk\").reset_index().drop(\"index\", axis = 1)\n",
    "pc1_component"
   ]
  },
  {
   "cell_type": "code",
   "execution_count": null,
   "id": "161fac5f",
   "metadata": {},
   "outputs": [],
   "source": [
    "best_pc1_contribution = pc1_component[pc1_component[\"pc1_contribution_rnk\"] <= 100][\"var\"].tolist()\n",
    "with open(\"features/best_pc1_contribution.pkl\", \"wb\") as f:\n",
    "    pickle.dump(best_pc1_contribution, f)"
   ]
  },
  {
   "cell_type": "code",
   "execution_count": null,
   "id": "507ee324",
   "metadata": {},
   "outputs": [],
   "source": [
    "best_label_correlation = pc1_component[pc1_component[\"var_label_correlation_rnk\"] <= 100][\"var\"].tolist()\n",
    "with open(\"features/best_label_correlation.pkl\", \"wb\") as f:\n",
    "    pickle.dump(best_label_correlation, f)"
   ]
  },
  {
   "cell_type": "code",
   "execution_count": null,
   "id": "d49b219c",
   "metadata": {},
   "outputs": [],
   "source": [
    "best_overall = (pc1_component.loc[:50, \"var\"].to_list())\n",
    "best_overall.extend([\"volume\", \"bid_qty\", \"ask_qty\", \"buy_qty\", \"sell_qty\"])\n",
    "with open(\"features/best_overall.pkl\", \"wb\") as f:\n",
    "    pickle.dump(best_overall, f)"
   ]
  },
  {
   "cell_type": "code",
   "execution_count": null,
   "id": "baf9e0a9",
   "metadata": {},
   "outputs": [],
   "source": [
    "# Incremental PCA\n",
    "inc_PCA = IncrementalPCA(n_components = 50)\n",
    "\n",
    "# fitting a batch every turn\n",
    "n_rows = train_df.select(\"bid_qty\").count().collect()[0, 0]\n",
    "batch_size = 50000\n",
    "for i in tqdm(range(0, n_rows, batch_size)):\n",
    "    length = min(n_rows - i, batch_size)\n",
    "    train_df_batch = train_df.select(best_label_correlation).slice(offset = i, length = length).collect()\n",
    "    inc_PCA.partial_fit(train_df_batch)"
   ]
  },
  {
   "cell_type": "code",
   "execution_count": null,
   "id": "17cfdecc",
   "metadata": {},
   "outputs": [],
   "source": [
    "sns.barplot(inc_PCA.explained_variance_ratio_)"
   ]
  },
  {
   "cell_type": "code",
   "execution_count": null,
   "id": "23ce2139",
   "metadata": {},
   "outputs": [],
   "source": [
    "sns.barplot(np.cumsum(inc_PCA.explained_variance_ratio_))"
   ]
  },
  {
   "cell_type": "code",
   "execution_count": null,
   "id": "f07fc12b",
   "metadata": {},
   "outputs": [],
   "source": [
    "# count appearance in top k factors in top 5 components\n",
    "top_contribution = {}\n",
    "\n",
    "for i in range(4):\n",
    "    temp = pd.DataFrame(\n",
    "        {\n",
    "            \"var\": inc_PCA.feature_names_in_,\n",
    "            \"pc1_contribution\": inc_PCA.components_[i]\n",
    "        }\n",
    "    )\n",
    "    temp_lst = temp.sort_values(\"pc1_contribution\", ascending=False, key = lambda x: abs(x)).iloc[:10, ][\"var\"].tolist()\n",
    "    for var in temp_lst:\n",
    "        top_contribution[var] = top_contribution.get(var, 0) + inc_PCA.explained_variance_ratio_[i]\n",
    "top_contribution = pd.DataFrame(\n",
    "    {\n",
    "        \"var\": list(top_contribution.keys()),\n",
    "        \"contribution\": list(top_contribution.values())\n",
    "    }\n",
    ").sort_values(\"contribution\", ascending=False).reset_index().drop(\"index\", axis = 1)\n",
    "top_contribution.loc[:20,]"
   ]
  },
  {
   "cell_type": "markdown",
   "id": "5320f462",
   "metadata": {},
   "source": [
    "Analyze interesting features from initial modeling"
   ]
  },
  {
   "cell_type": "code",
   "execution_count": null,
   "id": "da860dcd",
   "metadata": {},
   "outputs": [],
   "source": [
    "plot_acf(train_df.select(\"X198\").collect().to_numpy(), lags=50)\n",
    "plot_pacf(train_df.select(\"X198\").collect().to_numpy(), lags=50)\n",
    "plt.show()"
   ]
  },
  {
   "cell_type": "code",
   "execution_count": null,
   "id": "28810525",
   "metadata": {},
   "outputs": [],
   "source": [
    "plot_acf(train_df.select(\"X598\").collect().to_numpy(), lags=50)\n",
    "plot_pacf(train_df.select(\"X598\").collect().to_numpy(), lags=50)\n",
    "plt.show()"
   ]
  },
  {
   "cell_type": "code",
   "execution_count": null,
   "id": "e1464cfe",
   "metadata": {},
   "outputs": [],
   "source": [
    "plot_acf(train_df.select(\"X863\").collect().to_numpy(), lags=50)\n",
    "plot_pacf(train_df.select(\"X863\").collect().to_numpy(), lags=50)\n",
    "plt.show()"
   ]
  },
  {
   "cell_type": "code",
   "execution_count": null,
   "id": "02ea229f",
   "metadata": {},
   "outputs": [],
   "source": [
    "plot_acf(train_df.select(\"X466\").collect().to_numpy(), lags=50)\n",
    "plot_pacf(train_df.select(\"X466\").collect().to_numpy(), lags=50)\n",
    "plt.show()"
   ]
  },
  {
   "cell_type": "markdown",
   "id": "49ac51c4",
   "metadata": {},
   "source": [
    "Try to cluster the features to see how many groups we have"
   ]
  },
  {
   "cell_type": "code",
   "execution_count": null,
   "id": "b21c4ead",
   "metadata": {},
   "outputs": [],
   "source": [
    "X = train_df.collect().to_numpy().T\n",
    "X = (X - X.mean(axis=1, keepdims=True)) / X.std(axis=1, keepdims=True)\n",
    "distance_matrix = pdist(X, metric='euclidean')  \n",
    "linkage_matrix = linkage(distance_matrix, method='median') "
   ]
  },
  {
   "cell_type": "code",
   "execution_count": null,
   "id": "04606ee6",
   "metadata": {},
   "outputs": [],
   "source": [
    "plt.figure(figsize=(10, 100))\n",
    "dendrogram(linkage_matrix, orientation=\"right\", labels = list(train_df.schema.keys()), leaf_font_size=8)\n",
    "plt.show()"
   ]
  },
  {
   "cell_type": "code",
   "execution_count": null,
   "id": "0c85454c",
   "metadata": {},
   "outputs": [],
   "source": [
    "# Cut the dendrogram to form k clusters\n",
    "clusters = fcluster(linkage_matrix, t=50, criterion='maxclust')\n",
    "clusters_df = pd.DataFrame({\n",
    "    \"var\": list(train_df.schema.keys()),\n",
    "    \"cluster\": clusters\n",
    "}).sort_values(\"cluster\").reset_index(drop=True)\n",
    "clusters_df"
   ]
  },
  {
   "cell_type": "code",
   "execution_count": null,
   "id": "b7a7f7e5",
   "metadata": {},
   "outputs": [],
   "source": [
    "clusters_df[\"cluster\"].value_counts()"
   ]
  },
  {
   "cell_type": "code",
   "execution_count": null,
   "id": "2af36270",
   "metadata": {},
   "outputs": [],
   "source": [
    "pc1_component[pc1_component[\"var\"].isin(clusters_df[clusters_df[\"cluster\"] == 25][\"var\"].to_list())].sort_values(\"var_label_correlation\", ascending=False, key = lambda x: abs(x))"
   ]
  },
  {
   "cell_type": "code",
   "execution_count": null,
   "id": "0aab6c39",
   "metadata": {},
   "outputs": [],
   "source": [
    "pc1_component[pc1_component[\"var\"].isin(clusters_df[clusters_df[\"cluster\"] == 11][\"var\"].to_list())].sort_values(\"var_label_correlation\", ascending=False, key = lambda x: abs(x))"
   ]
  },
  {
   "cell_type": "code",
   "execution_count": null,
   "id": "11a55fbd",
   "metadata": {},
   "outputs": [],
   "source": [
    "pc1_component[pc1_component[\"var\"].isin(clusters_df[clusters_df[\"cluster\"] == 47][\"var\"].to_list())].sort_values(\"var_label_correlation\", ascending=False, key = lambda x: abs(x))"
   ]
  },
  {
   "cell_type": "markdown",
   "id": "8d0532d7",
   "metadata": {},
   "source": [
    "Test important features on lags with other columns to reverse-engineer anonymized features"
   ]
  },
  {
   "cell_type": "code",
   "execution_count": null,
   "id": "870a94d0",
   "metadata": {},
   "outputs": [],
   "source": [
    "train_df = train_df.with_columns(\n",
    "    # interaction features\n",
    "    (pl.col(\"bid_qty\") * pl.col(\"ask_qty\")).alias(\"bid_ask_interaction\"),\n",
    "    (pl.col(\"bid_qty\") * pl.col(\"buy_qty\")).alias(\"bid_buy_interaction\"),\n",
    "    (pl.col(\"bid_qty\") * pl.col(\"sell_qty\")).alias(\"bid_sell_interaction\"),\n",
    "    (pl.col(\"ask_qty\") * pl.col(\"buy_qty\")).alias(\"ask_buy_interaction\"),\n",
    "    (pl.col(\"ask_qty\") * pl.col(\"sell_qty\")).alias(\"ask_sell_interaction\"),\n",
    "    (pl.col(\"buy_qty\") * pl.col(\"sell_qty\")).alias(\"buy_sell_interaction\"),\n",
    "\n",
    "    # spread features\n",
    "    ((pl.col(\"ask_qty\") - pl.col(\"bid_qty\")) / (pl.col(\"ask_qty\") + pl.col(\"bid_qty\")) + 1e-8).alias(\"spread_indicator\"),\n",
    "\n",
    "    # volume weighted features\n",
    "    (pl.col(\"buy_qty\") * pl.col(\"volume\")).alias(\"volume_weighted_buy\"),\n",
    "    (pl.col(\"sell_qty\") * pl.col(\"volume\")).alias(\"volume_weighted_sell\"),\n",
    "    (pl.col(\"bid_qty\") * pl.col(\"volume\")).alias(\"volume_weighted_bid\"),\n",
    "    (pl.col(\"ask_qty\") * pl.col(\"volume\")).alias(\"volume_weighted_ask\"),\n",
    "\n",
    "    # buy/sell and bid/ask ratios\n",
    "    (pl.col(\"buy_qty\") / (pl.col(\"sell_qty\") + 1e-8)).alias(\"buy_sell_ratio\"),\n",
    "    (pl.col(\"bid_qty\") / (pl.col(\"ask_qty\") + 1e-8)).alias(\"bid_ask_ratio\"),\n",
    "\n",
    "    # order flow imbalance\n",
    "    ((pl.col(\"buy_qty\") - pl.col(\"sell_qty\")) / (pl.col(\"volume\") + 1e-8)).alias(\"order_flow_imbalance\"),\n",
    "\n",
    "    # buying and selling pressure\n",
    "    (pl.col(\"buy_qty\") / (pl.col(\"volume\") + 1e-8)).alias(\"buying_pressure\"),\n",
    "    (pl.col(\"sell_qty\") / (pl.col(\"volume\") + 1e-8)).alias(\"selling_pressure\"),\n",
    "\n",
    "    # liquidity features\n",
    "    (pl.col(\"bid_qty\") + pl.col(\"ask_qty\")).alias(\"total_liquidity\"),\n",
    "    ((pl.col(\"bid_qty\") - pl.col(\"ask_qty\")) / (pl.col(\"bid_qty\") + pl.col(\"ask_qty\") + 1e-8)).alias(\"liquidity_imbalance\"),\n",
    "    ((pl.col(\"ask_qty\") - pl.col(\"bid_qty\")) / (pl.col(\"volume\") + 1e-8)).alias(\"relative_spread\"),\n",
    "\n",
    "    # trade related features (size, intensity, flow)\n",
    "    ((pl.col(\"buy_qty\") + pl.col(\"sell_qty\")) / (pl.col(\"volume\") + 1e-8)).alias(\"trade_intensity\"),\n",
    "    (pl.col(\"volume\") / (pl.col(\"buy_qty\") + pl.col(\"sell_qty\") + 1e-8)).alias(\"avg_trade_size\"),\n",
    "    ((pl.col(\"buy_qty\") - pl.col(\"sell_qty\")) / (pl.col(\"buy_qty\") + pl.col(\"sell_qty\") + 1e-8)).alias(\"net_trade_flow\"),\n",
    "\n",
    "    # volume features in market + how market is working wrt to volume \n",
    "    ((pl.col(\"bid_qty\") + pl.col(\"ask_qty\")) / (pl.col(\"volume\") + 1e-8)).alias(\"depth_ratio\"),\n",
    "    ((pl.col(\"buy_qty\") + pl.col(\"sell_qty\")) / (pl.col(\"bid_qty\") + pl.col(\"ask_qty\") + 1e-8)).alias(\"volume_participation\"),\n",
    "    (pl.col(\"volume\") * (pl.col(\"bid_qty\") + pl.col(\"ask_qty\"))).alias(\"market_activity\"),\n",
    "\n",
    "    # spread proxy and realized vol proxy\n",
    "    ((pl.col(\"buy_qty\") - pl.col(\"sell_qty\")).abs() / (pl.col(\"volume\") + 1e-8)).alias(\"effective_spread_proxy\"),\n",
    "    (((pl.col(\"buy_qty\") - pl.col(\"sell_qty\")) / (pl.col(\"volume\") + 1e-8)) * pl.col(\"volume\")).alias(\"realized_volatility_proxy\"),\n",
    "\n",
    "    # normalized buy/sell volume\n",
    "    (pl.col(\"buy_qty\") / (pl.col(\"bid_qty\") + 1e-8)).alias(\"normalized_buy_volume\"),\n",
    "    (pl.col(\"sell_qty\") / (pl.col(\"ask_qty\") + 1e-8)).alias(\"normalized_sell_volume\"),\n",
    "\n",
    "    # imbalance and spread interaction\n",
    "    (((pl.col(\"buy_qty\") - pl.col(\"sell_qty\")) / (pl.col(\"volume\") + 1e-8)) * ((pl.col(\"bid_qty\") + pl.col(\"ask_qty\")) / (pl.col(\"volume\") + 1e-8))).alias(\"liquidity_adjusted_imbalance\"),\n",
    "    ((pl.col(\"buy_qty\") / (pl.col(\"volume\") + 1e-8)) * ((pl.col(\"ask_qty\") - pl.col(\"bid_qty\")) / (pl.col(\"ask_qty\") + pl.col(\"bid_qty\")) + 1e-8)).alias(\"pressure_spread_interaction\"),\n",
    "\n",
    "    # trade direction ratio, net buying volume, bid/ask skew\n",
    "    (pl.col(\"buy_qty\") / (pl.col(\"buy_qty\") + pl.col(\"sell_qty\") + 1e-8)).alias(\"trade_direction_ratio\"),\n",
    "    (pl.col(\"buy_qty\") - pl.col(\"sell_qty\")).alias(\"net_buy_volume\"),\n",
    "    (pl.col(\"bid_qty\") / (pl.col(\"bid_qty\") + pl.col(\"ask_qty\") + 1e-8)).alias(\"bid_skew\"),\n",
    "    (pl.col(\"ask_qty\") / (pl.col(\"bid_qty\") + pl.col(\"ask_qty\") + 1e-8)).alias(\"ask_skew\")\n",
    ")\n",
    "\n",
    "train_df = train_df.fill_nan(0).fill_null(0)"
   ]
  },
  {
   "cell_type": "code",
   "execution_count": null,
   "id": "7311c3ff",
   "metadata": {},
   "outputs": [],
   "source": [
    "interested_time = [\n",
    "    1, 2, 3, 4, 5, 10, 15, 20, 25, 30, \n",
    "    35, 40, 45, 50, 55, 60, \n",
    "    120, 180, 240, 300, 360, 720, 1440, \n",
    "    1440 * 3, 1440 * 5, 1440 * 7, 1440 * 14, \n",
    "    1440 * 30, 1440 * 60, 1440 * 90, 1440 * 180\n",
    "]"
   ]
  },
  {
   "cell_type": "code",
   "execution_count": null,
   "id": "2dbe7888",
   "metadata": {},
   "outputs": [],
   "source": [
    "for l in interested_time:\n",
    "    max_correlation = 0\n",
    "    max_abs_correlation = 0\n",
    "    feature = None\n",
    "    for col in train_df.schema.keys():\n",
    "        if \"X\" not in col:\n",
    "            corr = train_df.with_columns(\n",
    "                pl.col(\"X466\"),\n",
    "                pl.col(col).rolling_mean(window_size=l).shift(1).alias(f\"{col}_rolling_{l}\"),\n",
    "            ).with_row_index(\"row_inx\").select(pl.corr(f\"X466\", f\"{col}_rolling_{l}\")).collect().item()\n",
    "            if abs(corr) > max_abs_correlation:\n",
    "                max_abs_correlation = abs(corr)\n",
    "                max_correlation = corr\n",
    "                feature = col\n",
    "    print(l)\n",
    "    print(feature, max_correlation, max_abs_correlation)"
   ]
  },
  {
   "cell_type": "code",
   "execution_count": null,
   "id": "67cb4dbe",
   "metadata": {},
   "outputs": [],
   "source": [
    "for l in interested_time:\n",
    "    max_correlation = 0\n",
    "    max_abs_correlation = 0\n",
    "    feature = None\n",
    "    for col in train_df.schema.keys():\n",
    "        if \"X\" not in col:\n",
    "            corr = train_df.with_columns(\n",
    "                pl.col(\"X198\"),\n",
    "                pl.col(col).rolling_mean(window_size=l).shift(1).alias(f\"{col}_rolling_{l}\"),\n",
    "            ).with_row_index(\"row_inx\").select(pl.corr(f\"X198\", f\"{col}_rolling_{l}\")).collect().item()\n",
    "            if abs(corr) > max_abs_correlation:\n",
    "                max_abs_correlation = abs(corr)\n",
    "                max_correlation = corr\n",
    "                feature = col\n",
    "    print(l)\n",
    "    print(feature, max_correlation, max_abs_correlation)"
   ]
  },
  {
   "cell_type": "code",
   "execution_count": null,
   "id": "bdefd9c1",
   "metadata": {},
   "outputs": [],
   "source": [
    "for l in interested_time:\n",
    "    max_correlation = 0\n",
    "    max_abs_correlation = 0\n",
    "    feature = None\n",
    "    for col in train_df.schema.keys():\n",
    "        if \"X\" not in col:\n",
    "            corr = train_df.with_columns(\n",
    "                pl.col(\"X598\"),\n",
    "                pl.col(col).rolling_mean(window_size=l).shift(1).alias(f\"{col}_rolling_{l}\"),\n",
    "            ).with_row_index(\"row_inx\").select(pl.corr(f\"X598\", f\"{col}_rolling_{l}\")).collect().item()\n",
    "            if abs(corr) > max_abs_correlation:\n",
    "                max_abs_correlation = abs(corr)\n",
    "                max_correlation = corr\n",
    "                feature = col\n",
    "    print(l)\n",
    "    print(feature, max_correlation, max_abs_correlation)"
   ]
  },
  {
   "cell_type": "code",
   "execution_count": null,
   "id": "a01931ef",
   "metadata": {},
   "outputs": [],
   "source": [
    "for l in interested_time:\n",
    "    max_correlation = 0\n",
    "    max_abs_correlation = 0\n",
    "    feature = None\n",
    "    for col in train_df.schema.keys():\n",
    "        if \"X\" not in col:\n",
    "            corr = train_df.with_columns(\n",
    "                pl.col(\"X862\"),\n",
    "                pl.col(col).rolling_mean(window_size=l).shift(1).alias(f\"{col}_rolling_{l}\"),\n",
    "            ).with_row_index(\"row_inx\").select(pl.corr(f\"X862\", f\"{col}_rolling_{l}\")).collect().item()\n",
    "            if abs(corr) > max_abs_correlation:\n",
    "                max_abs_correlation = abs(corr)\n",
    "                max_correlation = corr\n",
    "                feature = col\n",
    "    print(l)\n",
    "    print(feature, max_correlation, max_abs_correlation)"
   ]
  },
  {
   "cell_type": "code",
   "execution_count": null,
   "id": "75fd32a6",
   "metadata": {},
   "outputs": [],
   "source": [
    "features = ['X862', 'X598', 'X863', 'X533', 'X379', 'X856', 'X28', 'X284', 'X466', 'X95', \n",
    "            'X331', 'X465', 'X852', 'X861', 'X198', 'X169', 'X285', 'X23', 'X531', 'X444', \n",
    "            'X754', 'X445', 'X758', 'X137', 'X279', 'X540', 'X31', 'X218', 'X291', 'X511']\n",
    "for f in features:\n",
    "    print(f)\n",
    "    max_correlation = 0\n",
    "    max_abs_correlation = 0\n",
    "    feature = None\n",
    "    lag = None\n",
    "    for l in tqdm(interested_time):\n",
    "        for col in train_df.schema.keys():\n",
    "            if \"X\" not in col:\n",
    "                corr = train_df.with_columns(\n",
    "                    pl.col(f),\n",
    "                    pl.col(col).rolling_mean(window_size=l).shift(1).alias(f\"{col}_rolling_{l}\"),\n",
    "                ).with_row_index(\"row_inx\").select(pl.corr(f, f\"{col}_rolling_{l}\")).collect().item()\n",
    "                if abs(corr) > max_abs_correlation:\n",
    "                    max_abs_correlation = abs(corr)\n",
    "                    max_correlation = corr\n",
    "                    feature = col\n",
    "                    lag = l\n",
    "    print(feature, lag, max_correlation, max_abs_correlation)"
   ]
  },
  {
   "cell_type": "code",
   "execution_count": null,
   "id": "d3b8a4c1",
   "metadata": {},
   "outputs": [],
   "source": []
  }
 ],
 "metadata": {
  "kernelspec": {
   "display_name": "Python 3",
   "language": "python",
   "name": "python3"
  },
  "language_info": {
   "codemirror_mode": {
    "name": "ipython",
    "version": 3
   },
   "file_extension": ".py",
   "mimetype": "text/x-python",
   "name": "python",
   "nbconvert_exporter": "python",
   "pygments_lexer": "ipython3",
   "version": "3.9.6"
  }
 },
 "nbformat": 4,
 "nbformat_minor": 5
}
