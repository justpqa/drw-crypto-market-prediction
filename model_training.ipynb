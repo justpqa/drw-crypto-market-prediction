{
 "cells": [
  {
   "cell_type": "code",
   "execution_count": 1,
   "id": "c89ecff9",
   "metadata": {},
   "outputs": [
    {
     "name": "stderr",
     "output_type": "stream",
     "text": [
      "/Users/justpqa/drw-crypto-market-prediction/venv/lib/python3.9/site-packages/tqdm/auto.py:21: TqdmWarning: IProgress not found. Please update jupyter and ipywidgets. See https://ipywidgets.readthedocs.io/en/stable/user_install.html\n",
      "  from .autonotebook import tqdm as notebook_tqdm\n"
     ]
    }
   ],
   "source": [
    "import math\n",
    "import gc\n",
    "import pickle\n",
    "import random\n",
    "from copy import deepcopy\n",
    "from tqdm import tqdm\n",
    "import numpy as np\n",
    "import pandas as pd\n",
    "import polars as pl\n",
    "import matplotlib.pyplot as plt\n",
    "import seaborn as sns\n",
    "from sklearn.preprocessing import StandardScaler\n",
    "from sklearn.metrics import accuracy_score\n",
    "from xgboost import XGBRegressor, XGBClassifier\n",
    "from lightgbm import LGBMRegressor, LGBMClassifier\n",
    "from catboost import CatBoostRegressor, CatBoostClassifier\n",
    "import optuna\n",
    "from optuna.samplers import RandomSampler, TPESampler, GPSampler\n",
    "import warnings\n",
    "warnings.filterwarnings(\"ignore\")\n",
    "# import multiprocessing\n",
    "# max_n_jobs = multiprocessing.cpu_count()\n",
    "import shap\n",
    "import torch\n",
    "from torch.utils.data import Dataset, TensorDataset, DataLoader, Sampler\n",
    "import torch.nn as nn\n",
    "import torch.optim as optim\n",
    "import mlx.core as mx\n",
    "import mlx.nn as nnmx\n",
    "import mlx.optimizers as optimmx"
   ]
  },
  {
   "cell_type": "code",
   "execution_count": 2,
   "id": "3dce0396",
   "metadata": {},
   "outputs": [],
   "source": [
    "# Set the device\n",
    "device = \"mps\" if torch.backends.mps.is_available() else \"cpu\""
   ]
  },
  {
   "cell_type": "code",
   "execution_count": 3,
   "id": "e2025de2",
   "metadata": {},
   "outputs": [],
   "source": [
    "feature_version = 2\n",
    "# 1 for pc feature, \n",
    "# 2 for label correlation feature # seems to work most consistently\n",
    "# 3 for best features based on combination rank\n",
    "# 4 for including time features (in case we want to reverse engineer the masked timestamp)\n",
    "# 5 for increasing number of correlation features + only use those that are in the same cluster\n",
    "# 6 is for 2 but more features, use when I want to use more features for larger models or AE approaches"
   ]
  },
  {
   "cell_type": "code",
   "execution_count": 4,
   "id": "935ee52f",
   "metadata": {},
   "outputs": [],
   "source": [
    "default_random_state = 101\n",
    "random.seed(default_random_state)\n",
    "np.random.seed(default_random_state)\n",
    "torch.manual_seed(default_random_state)\n",
    "torch.mps.manual_seed(default_random_state)\n",
    "mx.random.seed(default_random_state)"
   ]
  },
  {
   "cell_type": "markdown",
   "id": "4731d3a4",
   "metadata": {},
   "source": [
    "#### Import train data and popular features"
   ]
  },
  {
   "cell_type": "code",
   "execution_count": 5,
   "id": "b6dc4e49",
   "metadata": {},
   "outputs": [
    {
     "data": {
      "text/html": [
       "<div>\n",
       "<style scoped>\n",
       "    .dataframe tbody tr th:only-of-type {\n",
       "        vertical-align: middle;\n",
       "    }\n",
       "\n",
       "    .dataframe tbody tr th {\n",
       "        vertical-align: top;\n",
       "    }\n",
       "\n",
       "    .dataframe thead th {\n",
       "        text-align: right;\n",
       "    }\n",
       "</style>\n",
       "<table border=\"1\" class=\"dataframe\">\n",
       "  <thead>\n",
       "    <tr style=\"text-align: right;\">\n",
       "      <th></th>\n",
       "      <th>X751</th>\n",
       "      <th>X473</th>\n",
       "      <th>X472</th>\n",
       "      <th>X451</th>\n",
       "      <th>X226</th>\n",
       "      <th>X219</th>\n",
       "      <th>X205</th>\n",
       "      <th>X445</th>\n",
       "      <th>X444</th>\n",
       "      <th>X27</th>\n",
       "      <th>...</th>\n",
       "      <th>X181_X762_X286_exp_interaction</th>\n",
       "      <th>X181_X272_X286_exp_interaction</th>\n",
       "      <th>X181_X272_X288_exp_interaction</th>\n",
       "      <th>X181_X272_X285_exp_interaction</th>\n",
       "      <th>X204_X758_X286_exp_interaction</th>\n",
       "      <th>X204_X758_X288_exp_interaction</th>\n",
       "      <th>X204_X758_X290_exp_interaction</th>\n",
       "      <th>X204_X758_X292_exp_interaction</th>\n",
       "      <th>__index_level_0__</th>\n",
       "      <th>label</th>\n",
       "    </tr>\n",
       "  </thead>\n",
       "  <tbody>\n",
       "    <tr>\n",
       "      <th>0</th>\n",
       "      <td>0.000617</td>\n",
       "      <td>0.362816</td>\n",
       "      <td>0.255354</td>\n",
       "      <td>0.625153</td>\n",
       "      <td>-0.893206</td>\n",
       "      <td>-0.654146</td>\n",
       "      <td>-1.250753</td>\n",
       "      <td>0.755891</td>\n",
       "      <td>0.625328</td>\n",
       "      <td>1.714323</td>\n",
       "      <td>...</td>\n",
       "      <td>0.469463</td>\n",
       "      <td>0.264951</td>\n",
       "      <td>0.248992</td>\n",
       "      <td>0.391404</td>\n",
       "      <td>0.129056</td>\n",
       "      <td>0.121283</td>\n",
       "      <td>0.108972</td>\n",
       "      <td>0.091955</td>\n",
       "      <td>2023-03-01 00:00:00</td>\n",
       "      <td>0.562539</td>\n",
       "    </tr>\n",
       "    <tr>\n",
       "      <th>1</th>\n",
       "      <td>0.013388</td>\n",
       "      <td>0.378391</td>\n",
       "      <td>0.274621</td>\n",
       "      <td>0.637250</td>\n",
       "      <td>-0.738291</td>\n",
       "      <td>-0.634723</td>\n",
       "      <td>-1.100357</td>\n",
       "      <td>0.760472</td>\n",
       "      <td>0.633046</td>\n",
       "      <td>1.396133</td>\n",
       "      <td>...</td>\n",
       "      <td>0.443526</td>\n",
       "      <td>0.250629</td>\n",
       "      <td>0.238075</td>\n",
       "      <td>0.374853</td>\n",
       "      <td>0.149914</td>\n",
       "      <td>0.142404</td>\n",
       "      <td>0.128732</td>\n",
       "      <td>0.107978</td>\n",
       "      <td>2023-03-01 00:01:00</td>\n",
       "      <td>0.533686</td>\n",
       "    </tr>\n",
       "    <tr>\n",
       "      <th>2</th>\n",
       "      <td>-0.016807</td>\n",
       "      <td>0.382337</td>\n",
       "      <td>0.279272</td>\n",
       "      <td>0.640437</td>\n",
       "      <td>-0.713420</td>\n",
       "      <td>-0.631882</td>\n",
       "      <td>-1.073226</td>\n",
       "      <td>0.761631</td>\n",
       "      <td>0.635009</td>\n",
       "      <td>1.205921</td>\n",
       "      <td>...</td>\n",
       "      <td>0.442458</td>\n",
       "      <td>0.247697</td>\n",
       "      <td>0.235061</td>\n",
       "      <td>0.373425</td>\n",
       "      <td>0.154606</td>\n",
       "      <td>0.146719</td>\n",
       "      <td>0.133283</td>\n",
       "      <td>0.111113</td>\n",
       "      <td>2023-03-01 00:02:00</td>\n",
       "      <td>0.546505</td>\n",
       "    </tr>\n",
       "    <tr>\n",
       "      <th>3</th>\n",
       "      <td>-0.036622</td>\n",
       "      <td>0.387473</td>\n",
       "      <td>0.284750</td>\n",
       "      <td>0.642831</td>\n",
       "      <td>-0.644172</td>\n",
       "      <td>-0.612901</td>\n",
       "      <td>-0.982398</td>\n",
       "      <td>0.761936</td>\n",
       "      <td>0.635508</td>\n",
       "      <td>1.419536</td>\n",
       "      <td>...</td>\n",
       "      <td>0.430054</td>\n",
       "      <td>0.245878</td>\n",
       "      <td>0.234839</td>\n",
       "      <td>0.364263</td>\n",
       "      <td>0.171042</td>\n",
       "      <td>0.163363</td>\n",
       "      <td>0.147668</td>\n",
       "      <td>0.124220</td>\n",
       "      <td>2023-03-01 00:03:00</td>\n",
       "      <td>0.357703</td>\n",
       "    </tr>\n",
       "    <tr>\n",
       "      <th>4</th>\n",
       "      <td>-0.053322</td>\n",
       "      <td>0.390820</td>\n",
       "      <td>0.289431</td>\n",
       "      <td>0.648175</td>\n",
       "      <td>-0.628840</td>\n",
       "      <td>-0.607648</td>\n",
       "      <td>-0.952145</td>\n",
       "      <td>0.764770</td>\n",
       "      <td>0.640311</td>\n",
       "      <td>1.408936</td>\n",
       "      <td>...</td>\n",
       "      <td>0.432521</td>\n",
       "      <td>0.249067</td>\n",
       "      <td>0.237772</td>\n",
       "      <td>0.370813</td>\n",
       "      <td>0.178625</td>\n",
       "      <td>0.170524</td>\n",
       "      <td>0.154702</td>\n",
       "      <td>0.129949</td>\n",
       "      <td>2023-03-01 00:04:00</td>\n",
       "      <td>0.362452</td>\n",
       "    </tr>\n",
       "  </tbody>\n",
       "</table>\n",
       "<p>5 rows × 200 columns</p>\n",
       "</div>"
      ],
      "text/plain": [
       "       X751      X473      X472      X451      X226      X219      X205  \\\n",
       "0  0.000617  0.362816  0.255354  0.625153 -0.893206 -0.654146 -1.250753   \n",
       "1  0.013388  0.378391  0.274621  0.637250 -0.738291 -0.634723 -1.100357   \n",
       "2 -0.016807  0.382337  0.279272  0.640437 -0.713420 -0.631882 -1.073226   \n",
       "3 -0.036622  0.387473  0.284750  0.642831 -0.644172 -0.612901 -0.982398   \n",
       "4 -0.053322  0.390820  0.289431  0.648175 -0.628840 -0.607648 -0.952145   \n",
       "\n",
       "       X445      X444       X27  ...  X181_X762_X286_exp_interaction  \\\n",
       "0  0.755891  0.625328  1.714323  ...                        0.469463   \n",
       "1  0.760472  0.633046  1.396133  ...                        0.443526   \n",
       "2  0.761631  0.635009  1.205921  ...                        0.442458   \n",
       "3  0.761936  0.635508  1.419536  ...                        0.430054   \n",
       "4  0.764770  0.640311  1.408936  ...                        0.432521   \n",
       "\n",
       "   X181_X272_X286_exp_interaction  X181_X272_X288_exp_interaction  \\\n",
       "0                        0.264951                        0.248992   \n",
       "1                        0.250629                        0.238075   \n",
       "2                        0.247697                        0.235061   \n",
       "3                        0.245878                        0.234839   \n",
       "4                        0.249067                        0.237772   \n",
       "\n",
       "   X181_X272_X285_exp_interaction  X204_X758_X286_exp_interaction  \\\n",
       "0                        0.391404                        0.129056   \n",
       "1                        0.374853                        0.149914   \n",
       "2                        0.373425                        0.154606   \n",
       "3                        0.364263                        0.171042   \n",
       "4                        0.370813                        0.178625   \n",
       "\n",
       "   X204_X758_X288_exp_interaction  X204_X758_X290_exp_interaction  \\\n",
       "0                        0.121283                        0.108972   \n",
       "1                        0.142404                        0.128732   \n",
       "2                        0.146719                        0.133283   \n",
       "3                        0.163363                        0.147668   \n",
       "4                        0.170524                        0.154702   \n",
       "\n",
       "   X204_X758_X292_exp_interaction   __index_level_0__     label  \n",
       "0                        0.091955 2023-03-01 00:00:00  0.562539  \n",
       "1                        0.107978 2023-03-01 00:01:00  0.533686  \n",
       "2                        0.111113 2023-03-01 00:02:00  0.546505  \n",
       "3                        0.124220 2023-03-01 00:03:00  0.357703  \n",
       "4                        0.129949 2023-03-01 00:04:00  0.362452  \n",
       "\n",
       "[5 rows x 200 columns]"
      ]
     },
     "execution_count": 5,
     "metadata": {},
     "output_type": "execute_result"
    }
   ],
   "source": [
    "train_df = pd.read_parquet(f\"data/cleaned/cleaned_train_{feature_version}.parquet\")\n",
    "train_df.head()"
   ]
  },
  {
   "cell_type": "code",
   "execution_count": 6,
   "id": "766f9871",
   "metadata": {},
   "outputs": [
    {
     "data": {
      "text/html": [
       "<div>\n",
       "<style scoped>\n",
       "    .dataframe tbody tr th:only-of-type {\n",
       "        vertical-align: middle;\n",
       "    }\n",
       "\n",
       "    .dataframe tbody tr th {\n",
       "        vertical-align: top;\n",
       "    }\n",
       "\n",
       "    .dataframe thead th {\n",
       "        text-align: right;\n",
       "    }\n",
       "</style>\n",
       "<table border=\"1\" class=\"dataframe\">\n",
       "  <thead>\n",
       "    <tr style=\"text-align: right;\">\n",
       "      <th></th>\n",
       "      <th>volume</th>\n",
       "      <th>bid_qty</th>\n",
       "      <th>ask_qty</th>\n",
       "      <th>buy_qty</th>\n",
       "      <th>sell_qty</th>\n",
       "    </tr>\n",
       "  </thead>\n",
       "  <tbody>\n",
       "    <tr>\n",
       "      <th>0</th>\n",
       "      <td>221.389</td>\n",
       "      <td>15.283</td>\n",
       "      <td>8.425</td>\n",
       "      <td>176.405</td>\n",
       "      <td>44.984</td>\n",
       "    </tr>\n",
       "    <tr>\n",
       "      <th>1</th>\n",
       "      <td>847.796</td>\n",
       "      <td>38.590</td>\n",
       "      <td>2.336</td>\n",
       "      <td>525.846</td>\n",
       "      <td>321.950</td>\n",
       "    </tr>\n",
       "    <tr>\n",
       "      <th>2</th>\n",
       "      <td>295.596</td>\n",
       "      <td>0.442</td>\n",
       "      <td>60.250</td>\n",
       "      <td>159.227</td>\n",
       "      <td>136.369</td>\n",
       "    </tr>\n",
       "    <tr>\n",
       "      <th>3</th>\n",
       "      <td>460.705</td>\n",
       "      <td>4.865</td>\n",
       "      <td>21.016</td>\n",
       "      <td>335.742</td>\n",
       "      <td>124.963</td>\n",
       "    </tr>\n",
       "    <tr>\n",
       "      <th>4</th>\n",
       "      <td>142.818</td>\n",
       "      <td>27.158</td>\n",
       "      <td>3.451</td>\n",
       "      <td>98.411</td>\n",
       "      <td>44.407</td>\n",
       "    </tr>\n",
       "  </tbody>\n",
       "</table>\n",
       "</div>"
      ],
      "text/plain": [
       "    volume  bid_qty  ask_qty  buy_qty  sell_qty\n",
       "0  221.389   15.283    8.425  176.405    44.984\n",
       "1  847.796   38.590    2.336  525.846   321.950\n",
       "2  295.596    0.442   60.250  159.227   136.369\n",
       "3  460.705    4.865   21.016  335.742   124.963\n",
       "4  142.818   27.158    3.451   98.411    44.407"
      ]
     },
     "execution_count": 6,
     "metadata": {},
     "output_type": "execute_result"
    }
   ],
   "source": [
    "popular_features_train = pd.read_parquet(\"data/cleaned/popular_features_train.parquet\")\n",
    "popular_features_train.head()"
   ]
  },
  {
   "cell_type": "markdown",
   "id": "219f1fe5",
   "metadata": {},
   "source": [
    "#### Implement some helper function"
   ]
  },
  {
   "cell_type": "code",
   "execution_count": 7,
   "id": "ecb40f12",
   "metadata": {},
   "outputs": [],
   "source": [
    "# First need to split into some fold\n",
    "train_df[\"__index_level_0__\"] = pd.to_datetime(train_df[\"__index_level_0__\"])\n",
    "\n",
    "default_cv = 4\n",
    "default_cv_type = \"full\"\n",
    "# NOTE: default_cv must set to 1 instead of 3 based on consistency with LB score contains 49% of test data\n",
    "# NOTE: 3 cv with gap is slightly better or almost equal\n",
    "\n",
    "def create_cv(train_df, features=None, cv=default_cv):\n",
    "    if features is not None:\n",
    "        train_df = train_df[features + [\"__index_level_0__\", \"label\"]]\n",
    "    X_train_arr = []\n",
    "    X_test_arr = []\n",
    "    Y_train_arr = []\n",
    "    Y_test_arr = []\n",
    "    for i in range(cv):\n",
    "        train_month = list(range(3 + i, 7 + i))\n",
    "        test_month = list(map(lambda x: x % 12 if x > 12 else x, list(range(8 + i, 12 + i))))\n",
    "        print(train_month, test_month)\n",
    "        # print(train_month, test_month)\n",
    "        train = train_df[train_df[\"__index_level_0__\"].dt.month.isin(train_month)].reset_index().drop(\"index\", axis = 1)\n",
    "        test = train_df[train_df[\"__index_level_0__\"].dt.month.isin(test_month)].reset_index().drop(\"index\", axis = 1)\n",
    "        X_train_arr.append(train.drop([\"__index_level_0__\", \"label\"], axis = 1))\n",
    "        X_test_arr.append(test.drop([\"__index_level_0__\", \"label\"], axis = 1))\n",
    "        Y_train_arr.append(train[\"label\"])\n",
    "        Y_test_arr.append(test[\"label\"])  \n",
    "    return X_train_arr, X_test_arr, Y_train_arr, Y_test_arr\n",
    "\n",
    "# def create_cv_random_test(train_df, features=None, test_cv=10):\n",
    "#     # randomize so that we have 1 train, but try it on 10 different test \n",
    "#     if features is not None:\n",
    "#         train_df = train_df[features + [\"timestamp\", \"label\"]]\n",
    "#     X_train_arr = []\n",
    "#     X_test_arr = []\n",
    "#     Y_train_arr = []\n",
    "#     Y_test_arr = []\n",
    "\n",
    "#     # Create train data\n",
    "#     train_month = [3, 4, 5, 6, 7, 8]\n",
    "#     train = train_df[train_df[\"timestamp\"].dt.month.isin(train_month)] \n",
    "#     X_train_arr.append(train.drop([\"timestamp\", \"label\"], axis = 1))\n",
    "#     Y_train_arr.append(train[\"label\"])\n",
    "\n",
    "#     test_month = [9, 10, 11, 12, 1, 2]\n",
    "#     test = train_df[train_df[\"timestamp\"].dt.month.isin(test_month)]\n",
    "#     # Create test data\n",
    "#     for _ in range(test_cv):\n",
    "#         random_test = test.sample(frac = 0.5, random_state = default_random_state)\n",
    "#         X_test_arr.append(random_test.drop([\"timestamp\", \"label\"], axis = 1))\n",
    "#         Y_test_arr.append(random_test[\"label\"])\n",
    "\n",
    "#     return X_train_arr, X_test_arr, Y_train_arr, Y_test_arr \n",
    "\n",
    "# class [-1, 0, 1] -> [0, 1, 2] => < -0.2 => neg, > 0.2 => pos, else => neutral\n",
    "def create_classification_class(label):\n",
    "    if label < -0.4: return 0\n",
    "    elif label < 0: return 1\n",
    "    elif label < 0.4: return 2\n",
    "    return 3\n",
    "\n",
    "def create_cv_classification(train_df, features=None, cv=default_cv):\n",
    "    if features is not None:\n",
    "        train_df = train_df[features + [\"__index_level_0__\", \"label\"]]\n",
    "    X_train_arr = []\n",
    "    X_test_arr = []\n",
    "    Y_train_arr = []\n",
    "    Y_test_arr = []\n",
    "    for i in range(cv):\n",
    "        train_month = list(range(3 + i, 7 + i))\n",
    "        # train_month = [3, 4, 5, 6, 7, 8]\n",
    "        test_month = list(map(lambda x: x % 12 if x > 12 else x, list(range(8 + i, 12 + i))))\n",
    "        print(train_month, test_month)\n",
    "        # test_month = [9, 10, 11, 12, 1, 2] # try to make a gap to see if there is any differences in cv-lb correlation\n",
    "        # print(train_month, test_month)\n",
    "        train = train_df[train_df[\"__index_level_0__\"].dt.month.isin(train_month)].reset_index().drop(\"index\", axis = 1)\n",
    "        test = train_df[train_df[\"__index_level_0__\"].dt.month.isin(test_month)].reset_index().drop(\"index\", axis = 1)\n",
    "        X_train_arr.append(train.drop([\"__index_level_0__\", \"label\"], axis = 1))\n",
    "        X_test_arr.append(test.drop([\"__index_level_0__\", \"label\"], axis = 1))\n",
    "        Y_train_arr.append(train[\"label\"].apply(lambda x: create_classification_class(x)))\n",
    "        Y_test_arr.append(test[\"label\"].apply(lambda x: create_classification_class(x)))  \n",
    "    return X_train_arr, X_test_arr, Y_train_arr, Y_test_arr"
   ]
  },
  {
   "cell_type": "code",
   "execution_count": 8,
   "id": "ae8b878a",
   "metadata": {},
   "outputs": [],
   "source": [
    "def pearson_score(Y_test, Y_pred):\n",
    "    if isinstance(Y_test, pd.Series) or isinstance(Y_test, pd.DataFrame):\n",
    "        Y_test = Y_test.values\n",
    "    if isinstance(Y_pred, pd.Series) or isinstance(Y_pred, pd.DataFrame):\n",
    "        Y_pred = Y_pred.values\n",
    "    Y_test = np.ravel(Y_test)\n",
    "    Y_pred = np.ravel(Y_pred)\n",
    "    pearson = np.corrcoef(Y_test, Y_pred)[0, 1]\n",
    "    if np.isnan(pearson):\n",
    "        if np.std(Y_pred) == 0:\n",
    "            print(Y_pred)\n",
    "            print(\"Error: zero variance prediction\")\n",
    "        elif np.isnan(Y_pred).any():\n",
    "            print(\"Error: nan prediction\")\n",
    "        return -1\n",
    "    else:\n",
    "        return pearson"
   ]
  },
  {
   "cell_type": "code",
   "execution_count": 9,
   "id": "ce779cc7",
   "metadata": {},
   "outputs": [],
   "source": [
    "# Make function specifically for cross validation\n",
    "def train_eval_cv(model, cv, X_train_arr, X_test_arr, Y_train_arr, Y_test_arr, scoring_function=pearson_score):\n",
    "    cv_score = []\n",
    "\n",
    "    for i in range(cv):\n",
    "        X_train, X_test = X_train_arr[i], X_test_arr[i]\n",
    "        Y_train, Y_test = Y_train_arr[i], Y_test_arr[i]\n",
    "        model.fit(X_train, Y_train)\n",
    "        Y_pred = model.predict(X_test)\n",
    "        cv_score.append(scoring_function(Y_test, Y_pred))\n",
    "    \n",
    "    return sum(cv_score) / cv, np.std(cv_score)\n",
    "\n",
    "def train_eval_cv_random_test(model, cv, X_train_arr, X_test_arr, Y_train_arr, Y_test_arr, scoring_function=pearson_score, test_cv = 10):\n",
    "    cv_score = 0\n",
    "\n",
    "    for i in range(cv):\n",
    "        curr_cv_score = 0\n",
    "\n",
    "        # Conduct fitting\n",
    "        X_train, X_test = X_train_arr[i], X_test_arr[i]\n",
    "        Y_train, Y_test = Y_train_arr[i], Y_test_arr[i]\n",
    "        model.fit(X_train, Y_train)\n",
    "        \n",
    "        # sampling and testing\n",
    "        len_test = X_test.shape[0]\n",
    "        for seed in tqdm(range(test_cv)):\n",
    "            np.random.seed(seed)\n",
    "            test_index = np.random.choice(len_test, size = len_test // 2, replace = False) \n",
    "            X_test_sample = X_test.loc[test_index, :]\n",
    "            Y_test_sample = Y_test[test_index]\n",
    "            Y_pred_sample = model.predict(X_test_sample)\n",
    "            curr_cv_score += scoring_function(Y_test_sample, Y_pred_sample)\n",
    "        \n",
    "        cv_score += curr_cv_score / test_cv\n",
    "    \n",
    "    np.random.seed(default_random_state)\n",
    "    return cv_score"
   ]
  },
  {
   "cell_type": "code",
   "execution_count": 10,
   "id": "2e9d975a",
   "metadata": {},
   "outputs": [],
   "source": [
    "default_n_trees = 1000\n",
    "# Finetuning XGBoost\n",
    "def objective_xgboost(trial):\n",
    "    params = {\n",
    "        \"n_estimators\": default_n_trees,\n",
    "        \"max_depth\": trial.suggest_int(\"max_depth\", 2, 10),\n",
    "        \"learning_rate\": trial.suggest_float(\"learning_rate\", 0.001, 0.1, log = True), # 0.001 - 0.1 -> 0.01 - 0.05 \n",
    "        \"verbosity\": 0,\n",
    "        \"subsample\": trial.suggest_float(\"subsample\", 0.05, 1.0), # 1.0 -> 0.2\n",
    "        \"colsample_bytree\": trial.suggest_float(\"colsample_bytree\", 0.05, 1),\n",
    "        \"colsample_bynode\": trial.suggest_float(\"colsample_bynode\", 0.05, 1), \n",
    "        \"colsample_bylevel\": trial.suggest_float(\"colsample_bylevel\", 0.05, 1), \n",
    "        \"min_child_weight\": trial.suggest_int(\"min_child_weight\", 1, 10),\n",
    "        \"reg_alpha\": trial.suggest_float(\"reg_alpha\", 0, 100),\n",
    "        \"reg_lambda\": trial.suggest_float(\"reg_lambda\", 0, 100),\n",
    "        \"gamma\": trial.suggest_float(\"gamma\", 0, 5),\n",
    "        \"enable_categorical\": True,\n",
    "        \"random_state\": default_random_state\n",
    "    }\n",
    "\n",
    "    xgbr = XGBRegressor(**params)\n",
    "    cv_pearson, cv_std = train_eval_cv(xgbr, default_cv, X_train_arr, X_test_arr, Y_train_arr, Y_test_arr, pearson_score)\n",
    "    trial.set_user_attr(\"cv_std\", cv_std)\n",
    "    return cv_pearson\n",
    "\n",
    "def objective_lightgbm(trial):\n",
    "    params = {\n",
    "        \"n_estimators\": default_n_trees,\n",
    "        \"verbosity\": -1,\n",
    "        \"max_depth\": trial.suggest_int(\"max_depth\", 2, 10), # 1 - 10 => 1 - 5\n",
    "        \"learning_rate\": trial.suggest_float(\"learning_rate\", 0.001, 0.1, log=True), # 0.001 - 0.1 -> 0.005 - 0.02\n",
    "        \"num_leaves\": trial.suggest_int(\"num_leaves\", 2, 2**10),\n",
    "        \"subsample\": trial.suggest_float(\"subsample\", 0.05, 1.0),\n",
    "        \"colsample_bytree\": trial.suggest_float(\"colsample_bytree\", 0.05, 1.0),\n",
    "        \"min_child_weight\": trial.suggest_float(\"min_child_weight\", 0, 1),\n",
    "        \"reg_alpha\": trial.suggest_float(\"reg_alpha\", 0, 100),\n",
    "        \"reg_lambda\": trial.suggest_float(\"reg_lambda\", 0, 100),\n",
    "        \"random_state\": default_random_state\n",
    "    }\n",
    "\n",
    "    lgbr = LGBMRegressor(**params)\n",
    "    cv_pearson, cv_std = train_eval_cv(lgbr, default_cv, X_train_arr, X_test_arr, Y_train_arr, Y_test_arr, pearson_score)\n",
    "    trial.set_user_attr(\"cv_std\", cv_std)\n",
    "    return cv_pearson\n",
    "\n",
    "def objective_catboost(trial):\n",
    "    params = {\n",
    "        \"iterations\": default_n_trees,\n",
    "        \"verbose\": False,\n",
    "        \"learning_rate\": trial.suggest_float(\"learning_rate\", 0.001, 0.1, log=True), # 0.001 - 0.1 => 0.01 - 0.1\n",
    "        \"depth\": trial.suggest_int(\"depth\", 1, 10), #  1 - 10 => 5 - 15\n",
    "        \"subsample\": trial.suggest_float(\"subsample\", 0.05, 1.0),\n",
    "        \"colsample_bylevel\": trial.suggest_float(\"colsample_bylevel\", 0.05, 1.0),\n",
    "        \"min_data_in_leaf\": trial.suggest_int(\"min_data_in_leaf\", 2, 600),\n",
    "        \"reg_lambda\": trial.suggest_float(\"reg_lambda\", 0, 100),\n",
    "        \"random_seed\": default_random_state\n",
    "    }\n",
    "\n",
    "    cbr = CatBoostRegressor(**params)\n",
    "    cv_pearson, cv_std = train_eval_cv(cbr, default_cv, X_train_arr, X_test_arr, Y_train_arr, Y_test_arr, pearson_score)\n",
    "    trial.set_user_attr(\"cv_std\", cv_std)\n",
    "    return cv_pearson"
   ]
  },
  {
   "cell_type": "code",
   "execution_count": 11,
   "id": "778f94c4",
   "metadata": {},
   "outputs": [],
   "source": [
    "default_n_trials = 100\n",
    "default_n_jobs = 1\n",
    "\n",
    "def optimize_xgboost(study_name, storage_name, objective_function=objective_xgboost, n_trials = default_n_trials, n_jobs = default_n_jobs):\n",
    "    print(\"Conduct hyperparam opt for XGBoost\")\n",
    "    study = optuna.create_study(\n",
    "        study_name = study_name,\n",
    "        direction ='maximize',\n",
    "        storage = f\"sqlite:///{storage_name}.db\",\n",
    "        sampler = TPESampler(seed = 101, n_startup_trials=10),\n",
    "        load_if_exists=True\n",
    "    )\n",
    "    study.optimize(objective_function, n_trials=n_trials, n_jobs=n_jobs)\n",
    "    print('Best hyperparameters:', study.best_params)\n",
    "    print('Best Pearson score:', study.best_value)\n",
    "    return study.best_params\n",
    "\n",
    "def optimize_lightgbm(study_name, storage_name, objective_function=objective_lightgbm, n_trials = default_n_trials, n_jobs = default_n_jobs):\n",
    "    print(\"Conduct hyperparam opt for LightGBM\")\n",
    "    study = optuna.create_study(\n",
    "        study_name = study_name,\n",
    "        direction='maximize',\n",
    "        storage = f\"sqlite:///{storage_name}.db\",\n",
    "        sampler = TPESampler(seed = 101, n_startup_trials=10),\n",
    "        load_if_exists=True\n",
    "    )\n",
    "    study.optimize(objective_function, n_trials=n_trials, n_jobs=n_jobs)\n",
    "    print('Best hyperparameters:', study.best_params)\n",
    "    print('Best Pearson score:', study.best_value)\n",
    "    return study.best_params\n",
    "\n",
    "def optimize_catboost(study_name, storage_name, objective_function=objective_catboost, n_trials = default_n_trials, n_jobs = default_n_jobs):\n",
    "    print(\"Conduct hyperparam opt for CatBoost\")\n",
    "    study = optuna.create_study(\n",
    "        study_name = study_name,\n",
    "        direction='maximize',\n",
    "        storage = f\"sqlite:///{storage_name}.db\",\n",
    "        sampler = TPESampler(seed = 101, n_startup_trials=10),\n",
    "        load_if_exists=True\n",
    "    )\n",
    "    study.optimize(objective_function, n_trials=n_trials, n_jobs=n_jobs)\n",
    "    print('Best hyperparameters:', study.best_params)\n",
    "    print('Best Pearson score:', study.best_value)\n",
    "    return study.best_params"
   ]
  },
  {
   "cell_type": "markdown",
   "id": "a54fd743",
   "metadata": {},
   "source": [
    "#### First iteration: training with all features from the collection, no popular features"
   ]
  },
  {
   "cell_type": "code",
   "execution_count": null,
   "id": "3c5acc81",
   "metadata": {},
   "outputs": [],
   "source": [
    "original_features = [f for f in train_df.columns if \"X\" in f]\n",
    "\n",
    "X_train_arr, X_test_arr, Y_train_arr, Y_test_arr = create_cv(train_df, original_features)"
   ]
  },
  {
   "cell_type": "code",
   "execution_count": null,
   "id": "eb106a91",
   "metadata": {},
   "outputs": [],
   "source": [
    "best_params_xgboost = optimize_xgboost(\n",
    "    f\"xgboost_{feature_version}_{default_cv}_{default_random_state}_{default_n_trees}_study\",\n",
    "    f\"xgboost_{feature_version}_{default_cv}_{default_random_state}_{default_n_trees}_study\"\n",
    ")"
   ]
  },
  {
   "cell_type": "code",
   "execution_count": null,
   "id": "d006996d",
   "metadata": {},
   "outputs": [],
   "source": [
    "best_params_lightgbm = optimize_lightgbm(\n",
    "    f\"lightgbm_{feature_version}_{default_cv}_{default_random_state}_{default_n_trees}_study\",\n",
    "    f\"lightgbm_{feature_version}_{default_cv}_{default_random_state}_{default_n_trees}_study\"\n",
    ")"
   ]
  },
  {
   "cell_type": "code",
   "execution_count": null,
   "id": "bc06c338",
   "metadata": {},
   "outputs": [],
   "source": [
    "# best_params_catboost = optimize_catboost(\n",
    "#     f\"catboost_{feature_version}_{default_cv}_{default_random_state}_{default_n_trees}_study\",\n",
    "#     f\"catboost_{feature_version}_{default_cv}_{default_random_state}_{default_n_trees}_study\"\n",
    "# )\n",
    "# # Need to take down as catboost might not work well in this situation"
   ]
  },
  {
   "cell_type": "markdown",
   "id": "be5e2b50",
   "metadata": {},
   "source": [
    "Analyze params - cv relationship"
   ]
  },
  {
   "cell_type": "code",
   "execution_count": 33,
   "id": "ae8801e1",
   "metadata": {},
   "outputs": [],
   "source": [
    "def get_study_df(filename):\n",
    "    study = optuna.load_study(\n",
    "        study_name = filename,\n",
    "        storage = f\"sqlite:///{filename}.db\"\n",
    "    )\n",
    "    study_df = []\n",
    "    for trial in study.trials:\n",
    "        trial_dict = trial.params\n",
    "        trial_dict[\"value\"] = trial.value\n",
    "        if \"cv_std\" in trial.user_attrs:\n",
    "            trial_dict[\"cv_std\"] = trial.user_attrs[\"cv_std\"]\n",
    "        study_df.append(trial_dict)\n",
    "\n",
    "    return pd.DataFrame(study_df)"
   ]
  },
  {
   "cell_type": "code",
   "execution_count": 13,
   "id": "52d57f07",
   "metadata": {},
   "outputs": [],
   "source": [
    "def params_value_viz(study_df):\n",
    "    nrows = (study_df.shape[1] - 1) // 3 + ((study_df.shape[1] - 1) % 3 > 0)\n",
    "    fig, ax = plt.subplots(nrows = nrows, ncols = 3, figsize = (14, 5 * nrows))\n",
    "    for inx, var in enumerate(study_df.columns):\n",
    "        x, y = inx // 3, inx % 3\n",
    "        if var != \"value\":\n",
    "            sns.regplot(study_df, x = var, y = \"value\", ax = ax[x][y], lowess=True, line_kws={'color': 'green'}, ci = 95)\n",
    "    plt.show()"
   ]
  },
  {
   "cell_type": "code",
   "execution_count": null,
   "id": "ad954e1f",
   "metadata": {},
   "outputs": [],
   "source": [
    "study_df_xgboost = get_study_df(f\"xgboost_{feature_version}_{default_cv}_{default_random_state}_{default_n_trees}_study\")   \n",
    "params_value_viz(study_df_xgboost)"
   ]
  },
  {
   "cell_type": "code",
   "execution_count": null,
   "id": "717983ac",
   "metadata": {},
   "outputs": [],
   "source": [
    "study_df_lightgbm = get_study_df(f\"lightgbm_{feature_version}_{default_cv}_{default_random_state}_{default_n_trees}_study\")\n",
    "params_value_viz(study_df_lightgbm)"
   ]
  },
  {
   "cell_type": "code",
   "execution_count": null,
   "id": "eba067f3",
   "metadata": {},
   "outputs": [],
   "source": [
    "# study_df_catboost = get_study_df(f\"catboost_{feature_version}_{default_cv}_{default_random_state}_{default_n_trees}_study\")\n",
    "# params_value_viz(study_df_catboost)"
   ]
  },
  {
   "cell_type": "markdown",
   "id": "f7d81cc8",
   "metadata": {},
   "source": [
    "Analyze feature importance + CV performance"
   ]
  },
  {
   "cell_type": "code",
   "execution_count": 14,
   "id": "9ccea6fa",
   "metadata": {},
   "outputs": [],
   "source": [
    "def get_best_params_from_file(filename):\n",
    "    study = optuna.load_study(\n",
    "        study_name = filename,\n",
    "        storage = f\"sqlite:///{filename}.db\"\n",
    "    )\n",
    "    return study.best_params"
   ]
  },
  {
   "cell_type": "code",
   "execution_count": 15,
   "id": "c1942990",
   "metadata": {},
   "outputs": [],
   "source": [
    "def get_shap_values(model, X_train_arr, X_test_arr, Y_train_arr, Y_test_arr, sample_size=-1):\n",
    "    mean_abs_shap_all = np.zeros(X_train_arr[0].shape[1])\n",
    "    for i in range(default_cv):\n",
    "        X_train, X_test = X_train_arr[i], X_test_arr[i]\n",
    "        Y_train, Y_test = Y_train_arr[i], Y_test_arr[i]\n",
    "        model.fit(X_train, Y_train)\n",
    "        if sample_size != -1:\n",
    "            X_test_sample = X_test.sample(sample_size, random_state = default_random_state)\n",
    "            explainer = shap.TreeExplainer(model)\n",
    "            shap_values = explainer.shap_values(X_test_sample)\n",
    "            mean_abs_shap = np.mean(np.abs(shap_values), axis = 0)\n",
    "            mean_abs_shap_all += mean_abs_shap\n",
    "        else:\n",
    "            explainer = shap.TreeExplainer(model)\n",
    "            shap_values = explainer.shap_values(X_test)\n",
    "            mean_abs_shap = np.mean(np.abs(shap_values), axis = 0)\n",
    "            mean_abs_shap_all += mean_abs_shap\n",
    "    mean_abs_shap_all /= default_cv\n",
    "    return mean_abs_shap_all"
   ]
  },
  {
   "cell_type": "code",
   "execution_count": null,
   "id": "2186ffc5",
   "metadata": {},
   "outputs": [],
   "source": [
    "params = {\n",
    "    \"n_estimators\": default_n_trees,\n",
    "    \"verbosity\": 0,\n",
    "    \"enable_categorical\": True,\n",
    "    \"random_state\": default_random_state\n",
    "}\n",
    "best_params_xgboost = get_best_params_from_file(f\"xgboost_{feature_version}_{default_cv}_{default_random_state}_{default_n_trees}_study\")\n",
    "for p in best_params_xgboost:\n",
    "    params[p] = best_params_xgboost[p]\n",
    "\n",
    "xgboost_feature_importances = {}\n",
    "\n",
    "xgbr = XGBRegressor(**params)\n",
    "for i in range(default_cv):\n",
    "    X_train, X_test = X_train_arr[i], X_test_arr[i]\n",
    "    Y_train, Y_test = Y_train_arr[i], Y_test_arr[i]\n",
    "    xgbr.fit(X_train, Y_train)\n",
    "    print(pearson_score(Y_test, xgbr.predict(X_test)))\n",
    "    features = xgbr.feature_names_in_.tolist()\n",
    "    # features_i = xgbr.feature_importances_.tolist()\n",
    "    features_i = get_shap_values(xgbr, X_train_arr, X_test_arr, Y_train_arr, Y_test_arr)\n",
    "    for inx, feat in enumerate(features):\n",
    "        xgboost_feature_importances[feat] = xgboost_feature_importances.get(feat, 0) + features_i[inx]\n",
    "\n",
    "# print(feature_importances)\n",
    "plt.hist(xgboost_feature_importances.values())\n",
    "# Seems like only COD features are important (can try to only use 4-8 hours if 4-13 hours does not work well)"
   ]
  },
  {
   "cell_type": "code",
   "execution_count": null,
   "id": "32d0b480",
   "metadata": {},
   "outputs": [],
   "source": [
    "print([f for f in xgboost_feature_importances if xgboost_feature_importances[f] > 0.01])"
   ]
  },
  {
   "cell_type": "code",
   "execution_count": null,
   "id": "ca63d92f",
   "metadata": {},
   "outputs": [],
   "source": [
    "params = {\n",
    "    \"n_estimators\": default_n_trees,\n",
    "    \"verbosity\": -1,\n",
    "    \"random_state\": default_random_state\n",
    "}\n",
    "best_params_lightgbm = get_best_params_from_file(f\"lightgbm_{feature_version}_{default_cv}_{default_random_state}_{default_n_trees}_study\")\n",
    "for p in best_params_lightgbm:\n",
    "    params[p] = best_params_lightgbm[p]\n",
    "\n",
    "lightgbm_feature_importances = {}\n",
    "\n",
    "lgbr = LGBMRegressor(**params)\n",
    "for i in range(default_cv):\n",
    "    X_train, X_test = X_train_arr[i], X_test_arr[i]\n",
    "    Y_train, Y_test = Y_train_arr[i], Y_test_arr[i]\n",
    "    lgbr.fit(X_train, Y_train)\n",
    "    print(pearson_score(Y_test, lgbr.predict(X_test)))\n",
    "    features = lgbr.feature_names_in_.tolist()\n",
    "    # features_i = lgbr.feature_importances_.tolist()\n",
    "    features_i = get_shap_values(lgbr, X_train_arr, X_test_arr, Y_train_arr, Y_test_arr)\n",
    "    for inx, feat in enumerate(features):\n",
    "        lightgbm_feature_importances[feat] = lightgbm_feature_importances.get(feat, 0) + features_i[inx]\n",
    "\n",
    "plt.hist(lightgbm_feature_importances.values())\n",
    "# seems to pick up time features not as good as past 4 hours features"
   ]
  },
  {
   "cell_type": "code",
   "execution_count": null,
   "id": "d7366dcb",
   "metadata": {},
   "outputs": [],
   "source": [
    "print([f for f in lightgbm_feature_importances if lightgbm_feature_importances[f] >= 0.01])"
   ]
  },
  {
   "cell_type": "code",
   "execution_count": null,
   "id": "55cd2162",
   "metadata": {},
   "outputs": [],
   "source": [
    "# params = {\n",
    "#     \"iterations\": default_n_trees,\n",
    "#     \"verbose\": False,\n",
    "#     \"random_seed\": default_random_state\n",
    "# }\n",
    "# best_params_catboost = get_best_params_from_file(f\"catboost_{feature_version}_{default_cv}_{default_random_state}_{default_n_trees}_study\")\n",
    "# for p in best_params_catboost:\n",
    "#     params[p] = best_params_catboost[p]\n",
    "\n",
    "# catboost_feature_importances = {}\n",
    "\n",
    "# cbr = CatBoostRegressor(**params)\n",
    "# cv_rmse = 0\n",
    "\n",
    "# for i in range(default_cv):\n",
    "#     X_train, X_test = X_train_arr[i], X_test_arr[i]\n",
    "#     Y_train, Y_test = Y_train_arr[i], Y_test_arr[i]\n",
    "#     cbr.fit(X_train, Y_train)\n",
    "#     print(pearson_score(Y_test, cbr.predict(X_test)))\n",
    "#     features = cbr.feature_names_\n",
    "#     # features_i = cbr.feature_importances_.tolist()\n",
    "#     features_i = get_shap_values(cbr, X_train_arr, X_test_arr, Y_train_arr, Y_test_arr)\n",
    "#     for inx, feat in enumerate(features):\n",
    "#         catboost_feature_importances[feat] = catboost_feature_importances.get(feat, 0) + features_i[inx]\n",
    "\n",
    "# plt.hist(catboost_feature_importances.values())\n",
    "# # can pick up a combination of both past cod and tss, not good at picking up ph, temp"
   ]
  },
  {
   "cell_type": "code",
   "execution_count": null,
   "id": "b0b3a0fa",
   "metadata": {},
   "outputs": [],
   "source": [
    "# print([f for f in catboost_feature_importances if catboost_feature_importances[f] >= 0.02])"
   ]
  },
  {
   "cell_type": "markdown",
   "id": "d3d8120d",
   "metadata": {},
   "source": [
    "Get top 20 important features in all of them"
   ]
  },
  {
   "cell_type": "code",
   "execution_count": null,
   "id": "10d9d370",
   "metadata": {},
   "outputs": [],
   "source": [
    "xgboost_feature_importances_df = pd.DataFrame(\n",
    "    {\"var\": xgboost_feature_importances.keys(), \"importance\": xgboost_feature_importances.values()}\n",
    ")\n",
    "xgboost_feature_importances_df[\"importance\"] /= default_cv\n",
    "# xgboost_feature_importances_df[\"rank_importance\"] = xgboost_feature_importances_df[\"importance\"].rank(ascending=False)\n",
    "lightgbm_feature_importances_df = pd.DataFrame(\n",
    "    {\"var\": lightgbm_feature_importances.keys(), \"importance\": lightgbm_feature_importances.values()}\n",
    ")\n",
    "lightgbm_feature_importances_df[\"importance\"] /= default_cv\n",
    "# lightgbm_feature_importances_df[\"rank_importance\"] = lightgbm_feature_importances_df[\"importance\"].rank(ascending=False)\n",
    "# catboost_feature_importances_df = pd.DataFrame(\n",
    "#     {\"var\": catboost_feature_importances.keys(), \"importance_catboost\": catboost_feature_importances.values()}\n",
    "# )\n",
    "# catboost_feature_importances_df[\"rank_importance\"] = catboost_feature_importances_df[\"importance_catboost\"].rank(ascending=False)\n",
    "feature_importances_df = xgboost_feature_importances_df.merge(\n",
    "    lightgbm_feature_importances_df,\n",
    "    on=\"var\",\n",
    "    how=\"inner\",\n",
    "    suffixes=(\"_xgboost\", \"_lightgbm\")\n",
    ")\n",
    "# feature_importances_df = feature_importances_df.merge(\n",
    "#     catboost_feature_importances_df,\n",
    "#     on=\"var\",\n",
    "#     how=\"inner\",\n",
    "#     suffixes=(\"\", \"_catboost\")\n",
    "# )\n",
    "# feature_importances_df = feature_importances_df[[\"var\", \"rank_importance_xgboost\", \"rank_importance_lightgbm\", \"rank_importance_catboost\"]]\n",
    "# feature_importances_df[\"rank\"] = 1/3 * (feature_importances_df[\"rank_importance_xgboost\"] + feature_importances_df[\"rank_importance_lightgbm\"] + feature_importances_df[\"rank_importance_catboost\"])\n",
    "\n",
    "feature_importances_df[\"importance\"] = 1/2 * (feature_importances_df[\"importance_xgboost\"] + feature_importances_df[\"importance_lightgbm\"])\n",
    "feature_importances_df = feature_importances_df.sort_values(by=\"importance\", ascending=False).reset_index().drop(\"index\", axis = 1)\n",
    "feature_importances_df[:50]"
   ]
  },
  {
   "cell_type": "code",
   "execution_count": null,
   "id": "4378e4d1",
   "metadata": {},
   "outputs": [],
   "source": [
    "feature_importances_df.to_csv(\"feature_importances_df.csv\", index = False)"
   ]
  },
  {
   "cell_type": "code",
   "execution_count": null,
   "id": "bb2ed2fe",
   "metadata": {},
   "outputs": [],
   "source": [
    "feature_importances_df = pd.read_csv(\"feature_importances_df.csv\")\n",
    "feature_importances_df"
   ]
  },
  {
   "cell_type": "code",
   "execution_count": null,
   "id": "564c86e8",
   "metadata": {},
   "outputs": [],
   "source": [
    "print(feature_importances_df.loc[:49, \"var\"].tolist())"
   ]
  },
  {
   "cell_type": "markdown",
   "id": "3ca490b7",
   "metadata": {},
   "source": [
    "#### Second Iteration: adding popular feature in addition to original features correlated to label"
   ]
  },
  {
   "cell_type": "code",
   "execution_count": null,
   "id": "c93eefea",
   "metadata": {},
   "outputs": [],
   "source": [
    "train_added_df = pd.concat([train_df, popular_features_train], axis = 1)\n",
    "\n",
    "X_train_arr, X_test_arr, Y_train_arr, Y_test_arr = create_cv(train_added_df)"
   ]
  },
  {
   "cell_type": "code",
   "execution_count": null,
   "id": "b56349c8",
   "metadata": {},
   "outputs": [],
   "source": [
    "best_params_xgboost_popular_feature = optimize_xgboost(\n",
    "    f\"xgboost_{feature_version}_{default_cv}_{default_random_state}_{default_n_trees}_popular_feature_study\",\n",
    "    f\"xgboost_{feature_version}_{default_cv}_{default_random_state}_{default_n_trees}_popular_feature_study\"\n",
    ")"
   ]
  },
  {
   "cell_type": "code",
   "execution_count": null,
   "id": "7344c1fe",
   "metadata": {},
   "outputs": [],
   "source": [
    "best_params_lightgbm_popular_feature = optimize_lightgbm(\n",
    "    f\"lightgbm_{feature_version}_{default_cv}_{default_random_state}_{default_n_trees}_popular_feature_study\",\n",
    "    f\"lightgbm_{feature_version}_{default_cv}_{default_random_state}_{default_n_trees}_popular_feature_study\"\n",
    ")"
   ]
  },
  {
   "cell_type": "markdown",
   "id": "068d683a",
   "metadata": {},
   "source": [
    "Check for feature importance"
   ]
  },
  {
   "cell_type": "code",
   "execution_count": null,
   "id": "291e0763",
   "metadata": {},
   "outputs": [],
   "source": [
    "params = {\n",
    "    \"n_estimators\": default_n_trees,\n",
    "    \"verbosity\": 0,\n",
    "    \"enable_categorical\": True,\n",
    "    \"random_state\": default_random_state\n",
    "}\n",
    "best_params_xgboost_popular_feature = get_best_params_from_file(f\"xgboost_{feature_version}_{default_cv}_{default_random_state}_{default_n_trees}_popular_feature_study\")\n",
    "for p in best_params_xgboost_popular_feature:\n",
    "    params[p] = best_params_xgboost_popular_feature[p]\n",
    "\n",
    "xgboost_feature_importances = {}\n",
    "\n",
    "xgbr = XGBRegressor(**params)\n",
    "for i in range(default_cv):\n",
    "    X_train, X_test = X_train_arr[i], X_test_arr[i]\n",
    "    Y_train, Y_test = Y_train_arr[i], Y_test_arr[i]\n",
    "    xgbr.fit(X_train, Y_train)\n",
    "    print(pearson_score(Y_test, xgbr.predict(X_test)))\n",
    "    features = xgbr.feature_names_in_.tolist()\n",
    "    # features_i = xgbr.feature_importances_.tolist()\n",
    "    features_i = get_shap_values(xgbr, X_train_arr, X_test_arr, Y_train_arr, Y_test_arr)\n",
    "    for inx, feat in enumerate(features):\n",
    "        xgboost_feature_importances[feat] = xgboost_feature_importances.get(feat, 0) + features_i[inx]\n",
    "\n",
    "# print(feature_importances)\n",
    "plt.hist(xgboost_feature_importances.values())\n",
    "# Seems like only COD features are important (can try to only use 4-8 hours if 4-13 hours does not work well)"
   ]
  },
  {
   "cell_type": "code",
   "execution_count": null,
   "id": "765c7e31",
   "metadata": {},
   "outputs": [],
   "source": [
    "params = {\n",
    "    \"n_estimators\": default_n_trees,\n",
    "    \"verbosity\": -1,\n",
    "    \"random_state\": default_random_state\n",
    "}\n",
    "best_params_lightgbm_popular_feature = get_best_params_from_file(f\"lightgbm_{feature_version}_{default_cv}_{default_random_state}_{default_n_trees}_popular_feature_study\")\n",
    "for p in best_params_lightgbm_popular_feature:\n",
    "    params[p] = best_params_lightgbm_popular_feature[p]\n",
    "\n",
    "lightgbm_feature_importances = {}\n",
    "\n",
    "lgbr = LGBMRegressor(**params)\n",
    "for i in range(default_cv):\n",
    "    X_train, X_test = X_train_arr[i], X_test_arr[i]\n",
    "    Y_train, Y_test = Y_train_arr[i], Y_test_arr[i]\n",
    "    lgbr.fit(X_train, Y_train)\n",
    "    print(pearson_score(Y_test, lgbr.predict(X_test)))\n",
    "    features = lgbr.feature_names_in_.tolist()\n",
    "    # features_i = lgbr.feature_importances_.tolist()\n",
    "    features_i = get_shap_values(lgbr, X_train_arr, X_test_arr, Y_train_arr, Y_test_arr)\n",
    "    for inx, feat in enumerate(features):\n",
    "        lightgbm_feature_importances[feat] = lightgbm_feature_importances.get(feat, 0) + features_i[inx]\n",
    "\n",
    "plt.hist(lightgbm_feature_importances.values())\n",
    "# seems to pick up time features not as good as past 4 hours features"
   ]
  },
  {
   "cell_type": "code",
   "execution_count": null,
   "id": "4dbfbaf7",
   "metadata": {},
   "outputs": [],
   "source": [
    "xgboost_feature_importances_df = pd.DataFrame(\n",
    "    {\"var\": xgboost_feature_importances.keys(), \"importance\": xgboost_feature_importances.values()}\n",
    ")\n",
    "xgboost_feature_importances_df[\"importance\"] /= default_cv\n",
    "# xgboost_feature_importances_df[\"rank_importance\"] = xgboost_feature_importances_df[\"importance\"].rank(ascending=False)\n",
    "lightgbm_feature_importances_df = pd.DataFrame(\n",
    "    {\"var\": lightgbm_feature_importances.keys(), \"importance\": lightgbm_feature_importances.values()}\n",
    ")\n",
    "lightgbm_feature_importances_df[\"importance\"] /= default_cv\n",
    "# lightgbm_feature_importances_df[\"rank_importance\"] = lightgbm_feature_importances_df[\"importance\"].rank(ascending=False)\n",
    "# catboost_feature_importances_df = pd.DataFrame(\n",
    "#     {\"var\": catboost_feature_importances.keys(), \"importance_catboost\": catboost_feature_importances.values()}\n",
    "# )\n",
    "# catboost_feature_importances_df[\"rank_importance\"] = catboost_feature_importances_df[\"importance_catboost\"].rank(ascending=False)\n",
    "feature_importances_df = xgboost_feature_importances_df.merge(\n",
    "    lightgbm_feature_importances_df,\n",
    "    on=\"var\",\n",
    "    how=\"inner\",\n",
    "    suffixes=(\"_xgboost\", \"_lightgbm\")\n",
    ")\n",
    "# feature_importances_df = feature_importances_df.merge(\n",
    "#     catboost_feature_importances_df,\n",
    "#     on=\"var\",\n",
    "#     how=\"inner\",\n",
    "#     suffixes=(\"\", \"_catboost\")\n",
    "# )\n",
    "# feature_importances_df = feature_importances_df[[\"var\", \"rank_importance_xgboost\", \"rank_importance_lightgbm\", \"rank_importance_catboost\"]]\n",
    "# feature_importances_df[\"rank\"] = 1/3 * (feature_importances_df[\"rank_importance_xgboost\"] + feature_importances_df[\"rank_importance_lightgbm\"] + feature_importances_df[\"rank_importance_catboost\"])\n",
    "feature_importances_df[\"importance\"] = 1/2 * (feature_importances_df[\"importance_xgboost\"] + feature_importances_df[\"importance_lightgbm\"])\n",
    "feature_importances_df = feature_importances_df.sort_values(by=\"importance\", ascending=False).reset_index().drop(\"index\", axis = 1)\n",
    "feature_importances_df"
   ]
  },
  {
   "cell_type": "code",
   "execution_count": null,
   "id": "98d18fb2",
   "metadata": {},
   "outputs": [],
   "source": [
    "best_xgboost_score = optuna.load_study(\n",
    "    study_name = \"xgboost_2_4_101_1000_popular_feature_study\",\n",
    "    storage = f\"sqlite:///xgboost_2_4_101_1000_popular_feature_study.db\"\n",
    ").best_value\n",
    "best_lightgbm_score = optuna.load_study(\n",
    "    study_name = \"lightgbm_2_4_101_1000_popular_feature_study\",\n",
    "    storage = f\"sqlite:///lightgbm_2_4_101_1000_popular_feature_study.db\"\n",
    ").best_value\n",
    "feature_importances_df[\"weighted_importance\"] = (best_xgboost_score * feature_importances_df[\"importance_xgboost\"] + best_lightgbm_score * feature_importances_df[\"importance_lightgbm\"]) / (best_xgboost_score + best_lightgbm_score)\n",
    "feature_importances_df = feature_importances_df.sort_values(\"weighted_importance\", ascending=False, ignore_index=True)\n",
    "feature_importances_df"
   ]
  },
  {
   "cell_type": "code",
   "execution_count": null,
   "id": "bd11a33a",
   "metadata": {},
   "outputs": [],
   "source": [
    "feature_importances_df.to_csv(\"feature_importances_df.csv\", index = False)"
   ]
  },
  {
   "cell_type": "code",
   "execution_count": null,
   "id": "8211c2eb",
   "metadata": {},
   "outputs": [],
   "source": [
    "feature_importances_df = pd.read_csv(\"feature_importances_df.csv\")\n",
    "feature_importances_df"
   ]
  },
  {
   "cell_type": "code",
   "execution_count": null,
   "id": "7136debc",
   "metadata": {},
   "outputs": [],
   "source": [
    "feature_importances_df[~feature_importances_df[\"var\"].str.contains(\"X\")]"
   ]
  },
  {
   "cell_type": "code",
   "execution_count": null,
   "id": "dc0ba087",
   "metadata": {},
   "outputs": [],
   "source": [
    "print(feature_importances_df.sort_values(\"importance\", ignore_index=True, ascending=False).head(30)[\"var\"].tolist())"
   ]
  },
  {
   "cell_type": "code",
   "execution_count": null,
   "id": "34cec354",
   "metadata": {},
   "outputs": [],
   "source": [
    "print(feature_importances_df.sort_values(\"weighted_importance\", ignore_index=True, ascending=False).head(30)[\"var\"].tolist())"
   ]
  },
  {
   "cell_type": "code",
   "execution_count": null,
   "id": "fd8bbad6",
   "metadata": {},
   "outputs": [],
   "source": [
    "s1 = set(feature_importances_df.sort_values(\"importance\", ignore_index=True, ascending=False).head(20)[\"var\"].tolist())\n",
    "s2 = set(feature_importances_df.sort_values(\"weighted_importance\", ignore_index=True, ascending=False).head(20)[\"var\"].tolist())\n",
    "print(s1 - s2)\n",
    "print(s2 - s1)"
   ]
  },
  {
   "cell_type": "code",
   "execution_count": null,
   "id": "79548519",
   "metadata": {},
   "outputs": [],
   "source": [
    "feature_importances_df.sort_values(\"importance\", ignore_index=True, ascending=False).head(50)"
   ]
  },
  {
   "cell_type": "code",
   "execution_count": null,
   "id": "f391f3d1",
   "metadata": {},
   "outputs": [],
   "source": [
    "feature_importances_df.sort_values(\"weighted_importance\", ignore_index=True, ascending=False).head(50)"
   ]
  },
  {
   "cell_type": "markdown",
   "id": "c6953fd8",
   "metadata": {},
   "source": [
    "#### Third Iteration: a common truncated version using good features across all models + popular features"
   ]
  },
  {
   "cell_type": "code",
   "execution_count": null,
   "id": "7ebb508a",
   "metadata": {},
   "outputs": [],
   "source": [
    "best_features = ['X757', 'X758', 'X759', 'X508', 'X614', 'X752', 'X331', 'X445', 'X465', 'X385', \n",
    "                 'X466', 'X95', 'X23', 'X219', 'X31', 'X373', 'X379', 'X284', 'X750', 'X652', \n",
    "                 'X279', 'X89', 'X169', 'X753', 'X226', 'X28', 'X444', 'X272', 'X271', 'X218']\n",
    "# Best is at 30 features with no popular features\n",
    "best_features = list(set(best_features))\n",
    "train_added_df = pd.concat([train_df, popular_features_train], axis=1)\n",
    "X_train_arr, X_test_arr, Y_train_arr, Y_test_arr = create_cv(train_added_df, best_features)"
   ]
  },
  {
   "cell_type": "markdown",
   "id": "4f1c7f75",
   "metadata": {},
   "source": [
    "XGBoost"
   ]
  },
  {
   "cell_type": "code",
   "execution_count": null,
   "id": "5d3ed407",
   "metadata": {},
   "outputs": [],
   "source": [
    "best_xgboost_params_common_truncated = optimize_xgboost(\n",
    "    f\"xgboost_{feature_version}_{default_cv}_{default_random_state}_{default_n_trees}_common_truncated_{len(best_features)}_study\",\n",
    "    f\"xgboost_{feature_version}_{default_cv}_{default_random_state}_{default_n_trees}_common_truncated_{len(best_features)}_study\"\n",
    ") "
   ]
  },
  {
   "cell_type": "markdown",
   "id": "e534cb1d",
   "metadata": {},
   "source": [
    "LightGBM"
   ]
  },
  {
   "cell_type": "code",
   "execution_count": null,
   "id": "6c656479",
   "metadata": {},
   "outputs": [],
   "source": [
    "best_lightgbm_params_common_truncated = optimize_lightgbm(\n",
    "    f\"lightgbm_{feature_version}_{default_cv}_{default_random_state}_{default_n_trees}_common_truncated_{len(best_features)}_study\",\n",
    "    f\"lightgbm_{feature_version}_{default_cv}_{default_random_state}_{default_n_trees}_common_truncated_{len(best_features)}_study\"\n",
    ")"
   ]
  },
  {
   "cell_type": "markdown",
   "id": "9bfaacf4",
   "metadata": {},
   "source": [
    "Catboost"
   ]
  },
  {
   "cell_type": "code",
   "execution_count": null,
   "id": "9dd9af8c",
   "metadata": {},
   "outputs": [],
   "source": [
    "# best_catboost_params_common_truncated = optimize_catboost(\n",
    "#     f\"catboost_{feature_version}_{default_cv}_{default_random_state}_{default_n_trees}_common_truncated_20_study\",\n",
    "#     f\"catboost_{feature_version}_{default_cv}_{default_random_state}_{default_n_trees}_common_truncated_20_study\"\n",
    "# )"
   ]
  },
  {
   "cell_type": "markdown",
   "id": "1291147c",
   "metadata": {},
   "source": [
    "Analyze model performance and feature importance across train and test"
   ]
  },
  {
   "cell_type": "code",
   "execution_count": null,
   "id": "c6913016",
   "metadata": {},
   "outputs": [],
   "source": [
    "params = {\n",
    "    \"n_estimators\": default_n_trees,\n",
    "    \"verbosity\": 0,\n",
    "    \"enable_categorical\": True,\n",
    "    \"random_state\": default_random_state\n",
    "}\n",
    "best_params_xgboost = get_best_params_from_file(f\"xgboost_{feature_version}_{default_cv}_{default_random_state}_{default_n_trees}_common_truncated_20_study\")\n",
    "for p in best_params_xgboost:\n",
    "    params[p] = best_params_xgboost[p]\n",
    "\n",
    "xgbr_arr = []\n",
    "\n",
    "for i in tqdm(range(default_cv)):\n",
    "    xgbr = XGBRegressor(**params)\n",
    "    xgbr.fit(X_train_arr[i], Y_train_arr[i])\n",
    "    xgbr_arr.append(xgbr)"
   ]
  },
  {
   "cell_type": "code",
   "execution_count": null,
   "id": "baefd3d8",
   "metadata": {},
   "outputs": [],
   "source": [
    "params = {\n",
    "    \"n_estimators\": default_n_trees,\n",
    "    \"verbosity\": -1,\n",
    "    \"random_state\": default_random_state,\n",
    "}\n",
    "best_params_lightgbm = get_best_params_from_file(f\"lightgbm_{feature_version}_{default_cv}_{default_random_state}_{default_n_trees}_common_truncated_20_study\")\n",
    "for p in best_params_lightgbm:\n",
    "    params[p] = best_params_lightgbm[p]\n",
    "\n",
    "lgbr_arr = []\n",
    "\n",
    "for i in tqdm(range(default_cv)):\n",
    "    lgbr = LGBMRegressor(**params)\n",
    "    lgbr.fit(X_train_arr[i], Y_train_arr[i])\n",
    "    lgbr_arr.append(lgbr)"
   ]
  },
  {
   "cell_type": "code",
   "execution_count": null,
   "id": "ac9c8711",
   "metadata": {},
   "outputs": [],
   "source": [
    "xgboost_feature_importances = {}\n",
    "lightgbm_feature_importances = {}\n",
    "\n",
    "for i in tqdm(range(default_cv)):\n",
    "    features = xgbr_arr[i].feature_names_in_.tolist()\n",
    "    features_i = get_shap_values(xgbr_arr[i], X_train_arr, X_test_arr, Y_train_arr, Y_test_arr)\n",
    "    for inx, feat in enumerate(features):\n",
    "        xgboost_feature_importances[feat] = xgboost_feature_importances.get(feat, 0) + features_i[inx]\n",
    "    features = lgbr_arr[i].feature_names_in_.tolist()\n",
    "    features_i = get_shap_values(xgbr_arr[i], X_train_arr, X_test_arr, Y_train_arr, Y_test_arr)\n",
    "    for inx, feat in enumerate(features):\n",
    "        lightgbm_feature_importances[feat] = lightgbm_feature_importances.get(feat, 0) + features_i[inx]\n",
    "\n",
    "xgboost_feature_importances_df = pd.DataFrame(\n",
    "    {\"var\": xgboost_feature_importances.keys(), \"importance\": xgboost_feature_importances.values()}\n",
    ")\n",
    "xgboost_feature_importances_df[\"importance\"] /= default_cv\n",
    "# xgboost_feature_importances_df[\"rank_importance\"] = xgboost_feature_importances_df[\"importance\"].rank(ascending=False)\n",
    "lightgbm_feature_importances_df = pd.DataFrame(\n",
    "    {\"var\": lightgbm_feature_importances.keys(), \"importance\": lightgbm_feature_importances.values()}\n",
    ")\n",
    "lightgbm_feature_importances_df[\"importance\"] /= default_cv\n",
    "# lightgbm_feature_importances_df[\"rank_importance\"] = lightgbm_feature_importances_df[\"importance\"].rank(ascending=False)\n",
    "# catboost_feature_importances_df = pd.DataFrame(\n",
    "#     {\"var\": catboost_feature_importances.keys(), \"importance_catboost\": catboost_feature_importances.values()}\n",
    "# )\n",
    "# catboost_feature_importances_df[\"rank_importance\"] = catboost_feature_importances_df[\"importance_catboost\"].rank(ascending=False)\n",
    "feature_importances_df_common_truncated = xgboost_feature_importances_df.merge(\n",
    "    lightgbm_feature_importances_df,\n",
    "    on=\"var\",\n",
    "    how=\"inner\",\n",
    "    suffixes=(\"_xgboost\", \"_lightgbm\")\n",
    ")\n",
    "# feature_importances_df = feature_importances_df.merge(\n",
    "#     catboost_feature_importances_df,\n",
    "#     on=\"var\",\n",
    "#     how=\"inner\",\n",
    "#     suffixes=(\"\", \"_catboost\")\n",
    "# )\n",
    "# feature_importances_df = feature_importances_df[[\"var\", \"rank_importance_xgboost\", \"rank_importance_lightgbm\", \"rank_importance_catboost\"]]\n",
    "# feature_importances_df[\"rank\"] = 1/3 * (feature_importances_df[\"rank_importance_xgboost\"] + feature_importances_df[\"rank_importance_lightgbm\"] + feature_importances_df[\"rank_importance_catboost\"])\n",
    "feature_importances_df_common_truncated[\"importance\"] = 1/2 * (feature_importances_df_common_truncated[\"importance_xgboost\"] + feature_importances_df_common_truncated[\"importance_lightgbm\"])\n",
    "feature_importances_df_common_truncated = feature_importances_df_common_truncated.sort_values(by=\"importance\", ascending=False).reset_index().drop(\"index\", axis = 1)\n",
    "feature_importances_df_common_truncated"
   ]
  },
  {
   "cell_type": "code",
   "execution_count": null,
   "id": "5167c0c5",
   "metadata": {},
   "outputs": [],
   "source": [
    "best_xgboost_score = optuna.load_study(\n",
    "    study_name = \"xgboost_2_4_101_1000_common_truncated_20_study\",\n",
    "    storage = f\"sqlite:///xgboost_2_4_101_1000_common_truncated_20_study.db\"\n",
    ").best_value\n",
    "best_lightgbm_score = optuna.load_study(\n",
    "    study_name = \"lightgbm_2_4_101_1000_common_truncated_20_study\",\n",
    "    storage = f\"sqlite:///lightgbm_2_4_101_1000_common_truncated_20_study.db\"\n",
    ").best_value\n",
    "feature_importances_df_common_truncated[\"weighted_importance\"] = (best_xgboost_score * feature_importances_df_common_truncated[\"importance_xgboost\"] + best_lightgbm_score * feature_importances_df_common_truncated[\"importance_lightgbm\"]) / (best_xgboost_score + best_lightgbm_score)\n",
    "feature_importances_df_common_truncated = feature_importances_df_common_truncated.sort_values(\"weighted_importance\", ascending=False, ignore_index=True)\n",
    "feature_importances_df_common_truncated"
   ]
  },
  {
   "cell_type": "markdown",
   "id": "f0f13d6b",
   "metadata": {},
   "source": [
    "#### Fourth iteration: Adding popular feature on top of truncated X"
   ]
  },
  {
   "cell_type": "code",
   "execution_count": null,
   "id": "f8a9c3f6",
   "metadata": {},
   "outputs": [],
   "source": [
    "best_features = ['X757', 'X758', 'X759', 'X508', 'X614', 'X752', 'X331', 'X445', 'X465', 'X385', \n",
    "                 'X466', 'X95', 'X23', 'X219', 'X31', 'X373', 'X379', 'X284', 'X750', 'X652', \n",
    "                 'X279', 'X89', 'X169', 'X753', 'X226', 'X28', 'X444', 'X272', 'X271', 'X218'] + \\\n",
    "                [\"volume\", \"bid_qty\", \"ask_qty\", \"buy_qty\", \"sell_qty\"] \n",
    "# Since the features are already normalized, we cannot use the newly created features like order_flow_imbalance,\n",
    "# since they lose their meanings already, but we can still use the old popular features\n",
    "best_features = list(set(best_features))\n",
    "train_added_df = pd.concat([train_df, popular_features_train], axis=1)\n",
    "X_train_arr, X_test_arr, Y_train_arr, Y_test_arr = create_cv(train_added_df, best_features)"
   ]
  },
  {
   "cell_type": "markdown",
   "id": "0c758740",
   "metadata": {},
   "source": [
    "XGBoost"
   ]
  },
  {
   "cell_type": "code",
   "execution_count": null,
   "id": "5bbe0881",
   "metadata": {},
   "outputs": [],
   "source": [
    "best_xgboost_params_common_truncated_popular_feature = optimize_xgboost(\n",
    "    f\"xgboost_{feature_version}_{default_cv}_{default_random_state}_{default_n_trees}_common_truncated_{len(best_features) - 5}_popular_feature_study\",\n",
    "    f\"xgboost_{feature_version}_{default_cv}_{default_random_state}_{default_n_trees}_common_truncated_{len(best_features) - 5}_popular_feature_study\"\n",
    ") "
   ]
  },
  {
   "cell_type": "markdown",
   "id": "6f517360",
   "metadata": {},
   "source": [
    "LightGBM"
   ]
  },
  {
   "cell_type": "code",
   "execution_count": null,
   "id": "a376aff1",
   "metadata": {},
   "outputs": [],
   "source": [
    "best_lightgbm_params_common_truncated_popular_feature = optimize_lightgbm(\n",
    "    f\"lightgbm_{feature_version}_{default_cv}_{default_random_state}_{default_n_trees}_common_truncated_20_popular_feature_study\",\n",
    "    f\"lightgbm_{feature_version}_{default_cv}_{default_random_state}_{default_n_trees}_common_truncated_20_popular_feature_study\"\n",
    ") "
   ]
  },
  {
   "cell_type": "markdown",
   "id": "6922a1c7",
   "metadata": {},
   "source": [
    "#### Fifth Iteration Instead of using GBDT, can we use MLP on these features"
   ]
  },
  {
   "cell_type": "markdown",
   "id": "0f58f11b",
   "metadata": {},
   "source": [
    "Convert from normal CV to torch type CV"
   ]
  },
  {
   "cell_type": "code",
   "execution_count": null,
   "id": "9131a45e",
   "metadata": {},
   "outputs": [],
   "source": [
    "# Create the CV data, seems to be better with only anonymized features\n",
    "best_features = ['X862', 'X598', 'X863', 'X856', 'X612', 'X466', 'X533', 'X861', 'X445', 'X531',\n",
    "                 'X385', 'X23', 'X465', 'X284', 'X331', 'X95', 'X169', 'X285', 'X137', 'X31']\n",
    "                # [\"volume\", \"bid_qty\", \"ask_qty\", \"buy_qty\", \"sell_qty\"] + \\\n",
    "                # [col for col in train_df.columns.tolist() if \"X\" not in col and col not in [\"timestamp\", \"label\"]]\n",
    "best_features = list(set(best_features))\n",
    "train_added_df = pd.concat([train_df, popular_features_train], axis=1)\n",
    "X_train_arr, X_test_arr, Y_train_arr, Y_test_arr = create_cv(train_added_df, best_features)"
   ]
  },
  {
   "cell_type": "code",
   "execution_count": null,
   "id": "96ca0ca3",
   "metadata": {},
   "outputs": [],
   "source": [
    "# Extra code to \"reduce\" from float64 to float32\n",
    "def float64_to_float32(data):\n",
    "    if isinstance(data, pd.DataFrame):\n",
    "        for col in data.columns:\n",
    "            data[col] = data[col].astype(\"float32\")\n",
    "    elif isinstance(data, pd.Series):\n",
    "        data = data.astype(\"float32\")\n",
    "    return data\n",
    "\n",
    "for i in range(default_cv):\n",
    "    X_train_arr[i] = float64_to_float32(X_train_arr[i])\n",
    "    X_test_arr[i] = float64_to_float32(X_test_arr[i])\n",
    "    Y_train_arr[i] = float64_to_float32(Y_train_arr[i])\n",
    "    Y_test_arr[i] = float64_to_float32(Y_test_arr[i])"
   ]
  },
  {
   "cell_type": "code",
   "execution_count": null,
   "id": "b7b2e44f",
   "metadata": {},
   "outputs": [],
   "source": [
    "def normal_cv_to_torch_cv(X_train_arr, X_test_arr, Y_train_arr, Y_test_arr, cv=default_cv):\n",
    "    train_arr = []\n",
    "    test_arr = []\n",
    "    for i in range(cv):\n",
    "        # First shuffle the data\n",
    "        X_train, Y_train = X_train_arr[i], Y_train_arr[i]\n",
    "        X_train[\"label\"] = Y_train\n",
    "        # Instead of shuffle the training data when create the dataloader, try to shuffle beforehand\n",
    "        # X_train = X_train.sample(frac = 1, random_state = default_random_state)\n",
    "        # not shuffle, keep it by date\n",
    "        Y_train = X_train[\"label\"]\n",
    "        X_train = X_train.drop(\"label\", axis = 1)\n",
    "\n",
    "        # Then normalize\n",
    "        scaler = StandardScaler()\n",
    "        X_train = scaler.fit_transform(X_train.values)\n",
    "\n",
    "        # Create train dataset\n",
    "        X_train, Y_train = torch.from_numpy(X_train), torch.from_numpy(Y_train.values)\n",
    "        train_dataset = TensorDataset(X_train, Y_train)\n",
    "        train_arr.append(train_dataset)\n",
    "\n",
    "        # Normalize X_test\n",
    "        X_test = scaler.transform(X_test_arr[i].values)\n",
    "\n",
    "        # Create test dataset\n",
    "        X_test, Y_test = torch.from_numpy(X_test), torch.from_numpy(Y_test_arr[i].values)\n",
    "        test_dataset = TensorDataset(X_test, Y_test)\n",
    "        test_arr.append(test_dataset)\n",
    "        \n",
    "    return train_arr, test_arr"
   ]
  },
  {
   "cell_type": "code",
   "execution_count": null,
   "id": "7695aa63",
   "metadata": {},
   "outputs": [],
   "source": [
    "train_arr, test_arr = normal_cv_to_torch_cv(X_train_arr, X_test_arr, Y_train_arr, Y_test_arr)"
   ]
  },
  {
   "cell_type": "markdown",
   "id": "e7da5b12",
   "metadata": {},
   "source": [
    "Define the model"
   ]
  },
  {
   "cell_type": "code",
   "execution_count": null,
   "id": "b62c0ec5",
   "metadata": {},
   "outputs": [],
   "source": [
    "# Define the model\n",
    "class MLP(nn.Module):\n",
    "    def __init__(self, num_features, hidden_layers_size, dropout):\n",
    "        super(MLP, self).__init__()\n",
    "\n",
    "        # Initialize layers & batchnorm\n",
    "        last_layer = num_features\n",
    "        self.layers = nn.ModuleList()\n",
    "        for current_layer in hidden_layers_size:\n",
    "            self.layers.append(nn.Linear(last_layer, current_layer))\n",
    "            last_layer = current_layer\n",
    "        self.layers.append(nn.Linear(last_layer, 1))\n",
    "\n",
    "        # Initialize activation\n",
    "        self.activation = nn.ReLU()\n",
    "\n",
    "        # Initialze dropout\n",
    "        self.dropout = nn.Dropout(p = dropout)\n",
    "\n",
    "    def forward(self, x):\n",
    "        for inx, layer in enumerate(self.layers):\n",
    "            if inx == len(self.layers) - 1:\n",
    "                x = layer(x)\n",
    "            else:\n",
    "                x = layer(x)\n",
    "                x = self.activation(x)\n",
    "                x = self.dropout(x)\n",
    "        return x\n",
    "\n",
    "    def reset(self):\n",
    "        for layer in self.layers:\n",
    "            layer.reset_parameters()"
   ]
  },
  {
   "cell_type": "markdown",
   "id": "dcbb08f2",
   "metadata": {},
   "source": [
    "Train model with CV and evaluate"
   ]
  },
  {
   "cell_type": "code",
   "execution_count": null,
   "id": "d4e892da",
   "metadata": {},
   "outputs": [],
   "source": [
    "# Separate function for train & eval step\n",
    "def train_mlp(model, criterion, optimizer, train_dataloader, num_epochs):\n",
    "    model.train()\n",
    "    for _ in tqdm(range(num_epochs)):\n",
    "        for (inputs, targets) in train_dataloader:\n",
    "            # Load to device\n",
    "            inputs, targets= inputs.to(device), targets.to(device)\n",
    "            # Forward step\n",
    "            outputs = model(inputs)\n",
    "            # get error\n",
    "            error = criterion(outputs, targets)\n",
    "            # Zero out the past gradient\n",
    "            optimizer.zero_grad()\n",
    "            # Backprop\n",
    "            error.backward()\n",
    "            # Gradient Descent\n",
    "            optimizer.step()\n",
    "\n",
    "def eval_mlp(model, test_dataloader):\n",
    "    outputs_all = np.zeros(0)\n",
    "    targets_all = np.zeros(0)\n",
    "    model.eval()\n",
    "    with torch.no_grad():\n",
    "        for _, (inputs, targets) in enumerate(test_dataloader):\n",
    "            # Load to device\n",
    "            inputs = inputs.to(device)\n",
    "            # Forward step\n",
    "            outputs = model(inputs).detach().cpu().numpy().flatten()\n",
    "            # Load to overall Y_test, Y_pred to calculate pearson score later\n",
    "            outputs_all = np.concatenate([outputs_all, outputs])\n",
    "            targets_all = np.concatenate([targets_all, targets])\n",
    "    return pearson_score(targets_all, outputs_all)"
   ]
  },
  {
   "cell_type": "code",
   "execution_count": null,
   "id": "d53f6b6a",
   "metadata": {},
   "outputs": [],
   "source": [
    "def train_eval_cv_torch(model, lr, cv, train_arr, test_arr, batch_size, num_epochs):\n",
    "    cv_pearson = 0\n",
    "    for i in range(cv):\n",
    "        # Get the dataloader\n",
    "        train_dataset = train_arr[i]\n",
    "        train_dataloader = DataLoader(train_dataset, batch_size = batch_size, num_workers=0)\n",
    "        test_dataset = test_arr[i]\n",
    "        test_dataloader = DataLoader(test_dataset, batch_size = batch_size, num_workers=0)\n",
    "\n",
    "        # Reinitialize the model\n",
    "        model.reset()\n",
    "        model.to(device)\n",
    "\n",
    "        # Initialize the loss function\n",
    "        criterion = nn.MSELoss()\n",
    "\n",
    "        # Reinitialize the optimizer\n",
    "        optimizer = optim.Adam(model.parameters(), lr = lr)\n",
    "\n",
    "        # Train the model\n",
    "        train_mlp(model, criterion, optimizer, train_dataloader, num_epochs)\n",
    "\n",
    "        # Test the model\n",
    "        pearson = eval_mlp(model, test_dataloader)\n",
    "        print(pearson)\n",
    "        cv_pearson += pearson\n",
    "    return cv_pearson / cv"
   ]
  },
  {
   "cell_type": "code",
   "execution_count": null,
   "id": "0a2bc5a9",
   "metadata": {},
   "outputs": [],
   "source": [
    "# Training process of the default config\n",
    "hidden_layers_size = [16, 8, 4]\n",
    "lr = 0.001\n",
    "batch_size = 60\n",
    "num_epochs = 10\n",
    "\n",
    "mlpr = MLP(len(best_features), hidden_layers_size=hidden_layers_size, dropout = 0.3)\n",
    "\n",
    "train_eval_cv_torch(mlpr, lr, default_cv, train_arr, test_arr, batch_size, num_epochs)"
   ]
  },
  {
   "cell_type": "markdown",
   "id": "08cdd235",
   "metadata": {},
   "source": [
    "#### Sixth Iteration: Change this into a classification problem"
   ]
  },
  {
   "cell_type": "code",
   "execution_count": null,
   "id": "65121481",
   "metadata": {},
   "outputs": [],
   "source": [
    "original_features = [f for f in train_df.columns if \"X\" in f]\n",
    "\n",
    "X_train_arr, X_test_arr, Y_train_arr, Y_test_arr = create_cv_classification(train_df, original_features)"
   ]
  },
  {
   "cell_type": "code",
   "execution_count": null,
   "id": "1b5950bc",
   "metadata": {},
   "outputs": [],
   "source": [
    "best_params_xgboost_classification = optimize_xgboost(\n",
    "    f\"xgboost_{feature_version}_{default_cv}_{default_random_state}_{default_n_trees}_classification_study\",\n",
    "    f\"xgboost_{feature_version}_{default_cv}_{default_random_state}_{default_n_trees}_classification_study\",\n",
    "    objective_xgboost_classification\n",
    ")"
   ]
  },
  {
   "cell_type": "code",
   "execution_count": null,
   "id": "45e8dc4d",
   "metadata": {},
   "outputs": [],
   "source": [
    "best_params_lightgbm_classification = optimize_lightgbm(\n",
    "    f\"lightgbm_{feature_version}_{default_cv}_{default_random_state}_{default_n_trees}_classification_study\",\n",
    "    f\"lightgbm_{feature_version}_{default_cv}_{default_random_state}_{default_n_trees}_classification_study\",\n",
    "    objective_lightgbm_classification\n",
    ")"
   ]
  },
  {
   "cell_type": "markdown",
   "id": "31960b41",
   "metadata": {},
   "source": [
    "#### Seventh Iteration: Search for the best way to train"
   ]
  },
  {
   "cell_type": "code",
   "execution_count": null,
   "id": "5333abb9",
   "metadata": {},
   "outputs": [],
   "source": [
    "def search_training_scheme(model, train_df, cv = default_cv, features = None):\n",
    "    folds_trial = [\n",
    "        # level 1\n",
    "        [[0, 1, 2, 3]], \n",
    "        [[0, 1]], [[1, 2]], [[2, 3]],\n",
    "        [[0]], [[1]], [[2]], [[3]],\n",
    "        [[0, 1], [1, 2], [2, 3]],\n",
    "        [[0, 1], [2, 3]],\n",
    "        [[0], [1], [2], [3]],\n",
    "        # level 2\n",
    "        [[0, 1, 2, 3], [0, 1]],\n",
    "        [[0, 1, 2, 3], [1, 2]],\n",
    "        [[0, 1, 2, 3], [2, 3]],\n",
    "        [[0, 1, 2, 3], [0, 1], [2, 3]],\n",
    "        [[0, 1, 2, 3], [0, 1], [1, 2], [2, 3]],\n",
    "        [[0, 1, 2, 3], [0], [1], [2], [3]],\n",
    "        [[0, 1], [2, 3], [0], [1], [2], [3]],\n",
    "        [[0, 1], [1, 2], [2, 3], [0], [1], [2], [3]],\n",
    "        # level 3\n",
    "        [[0, 1, 2, 3], [0, 1], [0]],\n",
    "        [[0, 1, 2, 3], [2, 3], [3]],\n",
    "        [[0, 1, 2, 3], [0, 1], [2, 3], [0], [1], [2], [3]],\n",
    "        [[0, 1, 2, 3], [0, 1], [1, 2], [2, 3], [0], [1], [2], [3]],\n",
    "    ]\n",
    "\n",
    "    if features is not None:\n",
    "        train_df = train_df[features + [\"timestamp\", \"label\"]]\n",
    "\n",
    "    for folds in folds_trial:\n",
    "        print(f\"Current folds list is {folds}\")\n",
    "        model_lst = [deepcopy(model)] * len(folds)\n",
    "        cv_pearson = []\n",
    "        for i in range(cv):\n",
    "            train_month = list(range(3 + i, 7 + i))\n",
    "            test_month = list(map(lambda x: x % 12 if x > 12 else x, list(range(8 + i, 12 + i))))\n",
    "            test = train_df[train_df[\"timestamp\"].dt.month.isin(test_month)].reset_index().drop(\"index\", axis = 1)\n",
    "            X_test, Y_test = test.drop([\"timestamp\", \"label\"], axis = 1), test[\"label\"]\n",
    "            Y_pred = np.zeros(Y_test.shape[0])\n",
    "            for j in range(len(folds)):\n",
    "                fold = folds[j]\n",
    "                model = model_lst[j]\n",
    "                train_month_curr = [train_month[f] for f in fold]\n",
    "                train_curr = train_df[train_df[\"timestamp\"].dt.month.isin(train_month_curr)].reset_index().drop(\"index\", axis = 1)\n",
    "                X_train, Y_train = train_curr.drop([\"timestamp\", \"label\"], axis = 1), train_curr[\"label\"]\n",
    "                model.fit(X_train, Y_train)\n",
    "                Y_pred += model.predict(X_test)\n",
    "            Y_pred /= len(folds)\n",
    "            cv_pearson.append(pearson_score(Y_test, Y_pred))\n",
    "            print(f\"Finish fold {i} with score: {pearson_score(Y_test, Y_pred)}\")\n",
    "        print(f\"Finish trial with mean score: {np.mean(np.array(cv_pearson))}\")\n",
    "        print(f\"Finish trial with std score: {np.std(np.array(cv_pearson))}\")\n",
    "        print()"
   ]
  },
  {
   "cell_type": "code",
   "execution_count": null,
   "id": "8df66a70",
   "metadata": {},
   "outputs": [],
   "source": [
    "train_added_df = pd.concat([train_df, popular_features_train], axis = 1)\n",
    "\n",
    "params = {\n",
    "    \"n_estimators\": default_n_trees,\n",
    "    \"verbosity\": 0,\n",
    "    \"enable_categorical\": True,\n",
    "    \"random_state\": default_random_state\n",
    "}\n",
    "best_params_xgboost_popular_feature = get_best_params_from_file(f\"xgboost_{feature_version}_{default_cv}_{default_random_state}_{default_n_trees}_popular_feature_study\")\n",
    "for p in best_params_xgboost_popular_feature:\n",
    "    params[p] = best_params_xgboost_popular_feature[p]\n",
    "\n",
    "xgbr = XGBRegressor(**params)\n",
    "search_training_scheme(xgbr, train_added_df)\n",
    "# Notable\n",
    "# [[0, 1, 2, 3]]\n",
    "# [[0, 1, 2, 3], [1, 2]]\n",
    "# [[0, 1, 2, 3], [0, 1], [2, 3]]\n",
    "# [[0, 1, 2, 3], [0, 1], [1, 2], [2, 3]]\n",
    "# [[0, 1, 2, 3], [0], [1], [2], [3]] \n",
    "# [[0, 1, 2, 3], [0, 1], [2, 3], [0], [1], [2], [3]]\n",
    "# [[0, 1, 2, 3], [0, 1], [1, 2], [2, 3], [0], [1], [2], [3]]"
   ]
  },
  {
   "cell_type": "code",
   "execution_count": null,
   "id": "370ea866",
   "metadata": {},
   "outputs": [],
   "source": [
    "train_added_df = pd.concat([train_df, popular_features_train], axis = 1)\n",
    "\n",
    "params = {\n",
    "    \"n_estimators\": default_n_trees,\n",
    "    \"verbosity\": -1,\n",
    "    \"random_state\": default_random_state\n",
    "}\n",
    "best_params_lightgbm_popular_feature = get_best_params_from_file(f\"lightgbm_{feature_version}_{default_cv}_{default_random_state}_{default_n_trees}_popular_feature_study\")\n",
    "for p in best_params_lightgbm_popular_feature:\n",
    "    params[p] = best_params_lightgbm_popular_feature[p]\n",
    "\n",
    "lgbr = LGBMRegressor(**params)\n",
    "search_training_scheme(lgbr, train_added_df)\n",
    "# [[0, 1, 2, 3]]\n",
    "# [[0, 1, 2, 3], [0, 1]]\n",
    "# [[0, 1, 2, 3], [0, 1], [2, 3]]\n",
    "# [[0, 1, 2, 3], [0], [1], [2], [3]]\n",
    "# [[0, 1, 2, 3], [0, 1], [0]]\n",
    "# [[0, 1, 2, 3], [0, 1], [2, 3], [0], [1], [2], [3]]"
   ]
  },
  {
   "cell_type": "markdown",
   "id": "3f4fe3ca",
   "metadata": {},
   "source": [
    "#### Eighth Iteration: rewrite the code for MLP training using MLX"
   ]
  },
  {
   "cell_type": "markdown",
   "id": "f9f11bdd",
   "metadata": {},
   "source": [
    "Create the data for training + custom batch iteration"
   ]
  },
  {
   "cell_type": "code",
   "execution_count": 16,
   "id": "eb028760",
   "metadata": {},
   "outputs": [],
   "source": [
    "# Create the CV data, seems to be better with only anonymized features\n",
    "# best_features = ['X862', 'X598', 'X863', 'X856', 'X612', 'X466', 'X533', 'X861', 'X445', 'X531', \n",
    "#                  'X385', 'X23', 'X284', 'X465', 'X331', 'X95', 'X285', 'X31', 'X169', 'X137', \n",
    "#                 'X379', 'X186', 'X852', 'X302', 'X868', 'X89', 'X219', 'X855', 'X540', 'X301'] \n",
    "                #  'X198', 'X373', 'X524', 'X291', 'X444', 'X279', 'X300', 'X181', 'X367', 'X538', \n",
    "                #  'X288', 'X226', 'X857', 'X860', 'X205', 'X298', 'X272', 'X472', 'X28', 'X754']\n",
    "                # [\"volume\", \"bid_qty\", \"ask_qty\", \"buy_qty\", \"sell_qty\"] + \\\n",
    "                # [col for col in train_df.columns.tolist() if \"X\" not in col and col not in [\"timestamp\", \"label\"]]\n",
    "# best_features = list(set(best_features))\n",
    "# best_features = [col for col in train_df.columns if \"X\" in col]\n",
    "# train_added_df = pd.concat([train_df, popular_features_train], axis=1)\n",
    "# X_train_arr, X_test_arr, Y_train_arr, Y_test_arr = create_cv(train_added_df, best_features)"
   ]
  },
  {
   "cell_type": "code",
   "execution_count": 17,
   "id": "68496448",
   "metadata": {},
   "outputs": [],
   "source": [
    "# Extra code to \"reduce\" from float64 to float32\n",
    "def float64_to_float32(data):\n",
    "    if isinstance(data, pd.DataFrame):\n",
    "        for col in data.columns:\n",
    "            data[col] = data[col].astype(\"float32\")\n",
    "    elif isinstance(data, pd.Series):\n",
    "        data = data.astype(\"float32\")\n",
    "    return data\n",
    "\n",
    "# for i in range(default_cv):\n",
    "#     X_train_arr[i] = float64_to_float32(X_train_arr[i])\n",
    "#     X_test_arr[i] = float64_to_float32(X_test_arr[i])\n",
    "#     Y_train_arr[i] = float64_to_float32(Y_train_arr[i])\n",
    "#     Y_test_arr[i] = float64_to_float32(Y_test_arr[i])"
   ]
  },
  {
   "cell_type": "code",
   "execution_count": 18,
   "id": "02f14632",
   "metadata": {},
   "outputs": [],
   "source": [
    "def normal_cv_to_mlx_cv(X_train_arr = None, X_test_arr = None, Y_train_arr = None, Y_test_arr = None, cv=default_cv):\n",
    "    for i in range(cv):\n",
    "        # Normalize first\n",
    "        if X_train_arr is not None and X_test_arr is not None:\n",
    "            scaler = StandardScaler()\n",
    "            X_train_arr[i] = scaler.fit_transform(X_train_arr[i].values)\n",
    "            X_test_arr[i] = scaler.transform(X_test_arr[i].values)\n",
    "\n",
    "        # Convert to mlx format\n",
    "        if X_train_arr is not None: X_train_arr[i] = mx.array(X_train_arr[i])\n",
    "        if X_test_arr is not None: X_test_arr[i] = mx.array(X_test_arr[i])\n",
    "        if Y_train_arr is not None: Y_train_arr[i] = mx.array(Y_train_arr[i].values)\n",
    "        if Y_test_arr is not None: Y_test_arr[i] = mx.array(Y_test_arr[i].values)\n",
    "        \n",
    "    return X_train_arr, X_test_arr, Y_train_arr, Y_test_arr\n",
    "\n",
    "# X_train_arr, X_test_arr, Y_train_arr, Y_test_arr = normal_cv_to_mlx_cv(X_train_arr, X_test_arr, Y_train_arr, Y_test_arr)"
   ]
  },
  {
   "cell_type": "markdown",
   "id": "69c3f916",
   "metadata": {},
   "source": [
    "Define the model"
   ]
  },
  {
   "cell_type": "code",
   "execution_count": 19,
   "id": "993631c4",
   "metadata": {},
   "outputs": [],
   "source": [
    "# Define the model\n",
    "# We do not use the reset method this time so you have to create the model at each fold\n",
    "class MLPMLX(nnmx.Module):\n",
    "    def __init__(self, num_features, hidden_layers_size, dropout):\n",
    "        super().__init__()\n",
    "\n",
    "        # Initialize layers & batchnorm\n",
    "        last_layer = num_features\n",
    "        self.layers = []\n",
    "        for current_layer in hidden_layers_size:\n",
    "            self.layers.append(nnmx.Linear(last_layer, current_layer))\n",
    "            last_layer = current_layer\n",
    "        self.layers.append(nnmx.Linear(last_layer, 1))\n",
    "\n",
    "        # Initialize activation\n",
    "        self.activation = nnmx.ReLU()\n",
    "\n",
    "        # Initialize dropout\n",
    "        self.dropout = nnmx.Dropout(p = dropout)\n",
    "\n",
    "    def __call__(self, x):\n",
    "        for inx, layer in enumerate(self.layers):\n",
    "            x = layer(x)\n",
    "            if inx != len(self.layers) - 1:\n",
    "                x = self.activation(x)\n",
    "                x = self.dropout(x)\n",
    "        return x"
   ]
  },
  {
   "cell_type": "markdown",
   "id": "33907ab7",
   "metadata": {},
   "source": [
    "Train model with CV and evaluate"
   ]
  },
  {
   "cell_type": "code",
   "execution_count": 20,
   "id": "78aaa51f",
   "metadata": {},
   "outputs": [],
   "source": [
    "# Custom function for batch iteration\n",
    "def batch_iterate(batch_size, X, Y, shuffle = True):\n",
    "    for i in range(0, Y.size, batch_size):\n",
    "        X_curr = X[i: min(i + batch_size, Y.size), :]\n",
    "        Y_curr = Y[i: min(i + batch_size, Y.size)]\n",
    "        if shuffle:\n",
    "            inx_lst = mx.random.permutation(batch_size)\n",
    "            X_curr = X_curr[inx_lst, :]\n",
    "            Y_curr = Y_curr[inx_lst]\n",
    "        yield X_curr, Y_curr"
   ]
  },
  {
   "cell_type": "code",
   "execution_count": 21,
   "id": "1a72a82b",
   "metadata": {},
   "outputs": [],
   "source": [
    "# Separate function for train & eval step\n",
    "def train_mlp_mlx(model, loss_and_grad_fn, optimizer, X_train, Y_train, batch_size, num_epochs):\n",
    "    model.train()\n",
    "    for _ in tqdm(range(num_epochs)):\n",
    "        for (inputs, targets) in batch_iterate(batch_size, X_train, Y_train):\n",
    "            _, grads = loss_and_grad_fn(model, inputs, targets)\n",
    "            # Update the optimizer state and model parameters in a single call\n",
    "            optimizer.update(model, grads)\n",
    "            # Force a graph evaluation\n",
    "            mx.eval(model.parameters(), optimizer.state)\n",
    "\n",
    "def eval_mlp_mlx(model, X_test, Y_test, batch_size):\n",
    "    outputs_all = np.zeros(0)\n",
    "    targets_all = np.zeros(0)\n",
    "    model.eval()\n",
    "    for (inputs, targets) in batch_iterate(batch_size, X_test, Y_test, shuffle=False):\n",
    "        outputs = model(inputs).reshape(-1)\n",
    "        # convert back to numpy\n",
    "        outputs, targets = np.array(outputs), np.array(targets)\n",
    "        # Load to overall Y_test, Y_pred to calculate pearson score later\n",
    "        outputs_all = np.concatenate([outputs_all, outputs])\n",
    "        targets_all = np.concatenate([targets_all, targets])\n",
    "    return pearson_score(targets_all, outputs_all)"
   ]
  },
  {
   "cell_type": "code",
   "execution_count": 22,
   "id": "a3974705",
   "metadata": {},
   "outputs": [],
   "source": [
    "def train_eval_cv_mlx(num_features, hidden_layers_size, dropout, lr, cv, X_train_arr, X_test_arr, Y_train_arr, Y_test_arr, batch_size, num_epochs):\n",
    "    cv_pearson = []\n",
    "    for _, (X_train, X_test, Y_train, Y_test) in enumerate(zip(X_train_arr, X_test_arr, Y_train_arr, Y_test_arr)):\n",
    "        # initialize the model\n",
    "        mx.random.seed(default_random_state)\n",
    "        model = MLPMLX(num_features, hidden_layers_size, dropout)\n",
    "\n",
    "        # Initialize the loss function\n",
    "        def loss_fn(model, X, Y):\n",
    "            Y_pred = model(X).reshape(-1)\n",
    "            return mx.mean(nnmx.losses.mse_loss(Y_pred, Y))\n",
    "            # Y_centered = Y - mx.mean(Y)\n",
    "            # Y_pred_centered = Y_pred - mx.mean(Y_pred)\n",
    "            # return mx.sum(Y_centered * Y_pred_centered) / mx.sqrt(mx.sum(Y_centered ** 2) * mx.sum(Y_pred_centered ** 2))\n",
    "        loss_and_grad_fn = nnmx.value_and_grad(model, loss_fn)\n",
    "\n",
    "        # Reinitialize the optimizer\n",
    "        optimizer = optimmx.Adam(learning_rate = lr)\n",
    "\n",
    "        # Train the model\n",
    "        train_mlp_mlx(model, loss_and_grad_fn, optimizer, X_train, Y_train, batch_size, num_epochs)\n",
    "\n",
    "        # Test the model\n",
    "        pearson = eval_mlp_mlx(model, X_test, Y_test, batch_size)\n",
    "        print(pearson)\n",
    "        if pearson == -1:\n",
    "            return pearson, 0\n",
    "        cv_pearson.append(pearson)\n",
    "    return sum(cv_pearson) / cv, np.std(cv_pearson)"
   ]
  },
  {
   "cell_type": "markdown",
   "id": "d0617236",
   "metadata": {},
   "source": [
    "Conduct training and evaluating process of the model"
   ]
  },
  {
   "cell_type": "code",
   "execution_count": 23,
   "id": "8a75900f",
   "metadata": {},
   "outputs": [],
   "source": [
    "# # Training process of the default config\n",
    "# num_features = len(best_features)\n",
    "# hidden_layers_size = [8, 8, 8]\n",
    "# dropout = 0.2\n",
    "# lr = 0.001\n",
    "# batch_size = 180\n",
    "# num_epochs = 10\n",
    "\n",
    "# train_eval_cv_mlx(num_features, hidden_layers_size, dropout, lr, default_cv, X_train_arr, X_test_arr, Y_train_arr, Y_test_arr, batch_size, num_epochs)"
   ]
  },
  {
   "cell_type": "markdown",
   "id": "29ad94fa",
   "metadata": {},
   "source": [
    "Conduct Bayesian Optimization on this"
   ]
  },
  {
   "cell_type": "code",
   "execution_count": 24,
   "id": "7b347651",
   "metadata": {},
   "outputs": [],
   "source": [
    "default_num_layers = 2"
   ]
  },
  {
   "cell_type": "code",
   "execution_count": 25,
   "id": "820f5451",
   "metadata": {},
   "outputs": [],
   "source": [
    "def objective_mlp_mlx(trial):\n",
    "    # First initialize the parameters\n",
    "    num_features = len(best_features)\n",
    "    num_layers = default_num_layers\n",
    "    log_2_hidden_layers_size = []\n",
    "    for i in range(num_layers):\n",
    "        if len(log_2_hidden_layers_size) == 0:\n",
    "            log_2_hidden_layers_size.append(trial.suggest_int(f\"log2_hidden_layer_{i}\", 2, 7))\n",
    "        else:\n",
    "            log_2_hidden_layers_size.append(trial.suggest_int(f\"log2_hidden_layer_{i}\", 2, log_2_hidden_layers_size[-1]))\n",
    "    hidden_layers_size = [2**l for l in log_2_hidden_layers_size]\n",
    "    # dropout = trial.suggest_categorical(\"dropout\", [0.2, 0.3, 0.4, 0.5, 0.6, 0.7])\n",
    "    dropout = 0\n",
    "    lr = trial.suggest_float(\"lr\", 0.0001, 0.01, log=True)\n",
    "    batch_size = trial.suggest_categorical(\"batch_size\", [30, 60, 120, 180, 360, 720])\n",
    "    num_epochs = trial.suggest_categorical(\"num_epochs\", [5, 10, 15])\n",
    "    \n",
    "    # Conduct training based on those parameters\n",
    "    cv_pearson, cv_std = train_eval_cv_mlx(num_features, hidden_layers_size, dropout, lr, default_cv, X_train_arr, X_test_arr, Y_train_arr, Y_test_arr, batch_size, num_epochs)\n",
    "    trial.set_user_attr(\"cv_std\", cv_std)\n",
    "    return cv_pearson"
   ]
  },
  {
   "cell_type": "code",
   "execution_count": 26,
   "id": "e305bd7d",
   "metadata": {},
   "outputs": [],
   "source": [
    "def optimize_mlp_mlx(study_name, storage_name, objective_function=objective_mlp_mlx, n_trials = 100, n_jobs = 1):\n",
    "    print(\"Conduct hyperparam opt for MLP\")\n",
    "    study = optuna.create_study(\n",
    "        study_name = study_name,\n",
    "        direction ='maximize',\n",
    "        storage = f\"sqlite:///{storage_name}.db\",\n",
    "        sampler = TPESampler(seed = 101, n_startup_trials=10),\n",
    "        load_if_exists=True\n",
    "    )\n",
    "    study.optimize(objective_function, n_trials=n_trials, n_jobs=n_jobs)\n",
    "    print('Best hyperparameters:', study.best_params)\n",
    "    print('Best Pearson score:', study.best_value)\n",
    "    return study.best_params"
   ]
  },
  {
   "cell_type": "code",
   "execution_count": 27,
   "id": "dcca3193",
   "metadata": {},
   "outputs": [
    {
     "name": "stdout",
     "output_type": "stream",
     "text": [
      "[3, 4, 5, 6] [8, 9, 10, 11]\n",
      "[4, 5, 6, 7] [9, 10, 11, 12]\n",
      "[5, 6, 7, 8] [10, 11, 12, 1]\n",
      "[6, 7, 8, 9] [11, 12, 1, 2]\n"
     ]
    }
   ],
   "source": [
    "# Create the CV data, seems to be better with only anonymized features\n",
    "best_features = ['X757', 'X758', 'X759', 'X508', 'X614', 'X752', 'X331', 'X445', 'X465', 'X385', \n",
    "                 'X466', 'X95', 'X23', 'X219', 'X31', 'X373', 'X379', 'X284', 'X750', 'X652', \n",
    "                 'X279', 'X89', 'X169', 'X753', 'X226', 'X28', 'X444', 'X272', 'X271', 'X218']\n",
    "                # [\"volume\", \"bid_qty\", \"ask_qty\", \"buy_qty\", \"sell_qty\"] + \\\n",
    "                # [col for col in train_df.columns.tolist() if \"X\" not in col and col not in [\"timestamp\", \"label\"]]\n",
    "best_features = list(set(best_features))\n",
    "# best_features = [col for col in train_df.columns if \"X\" in col]\n",
    "# train_added_df = pd.concat([train_df, popular_features_train], axis=1)\n",
    "X_train_arr, X_test_arr, Y_train_arr, Y_test_arr = create_cv(train_df, best_features)\n",
    "\n",
    "# Convert to float32\n",
    "for i in range(default_cv):\n",
    "    X_train_arr[i] = float64_to_float32(X_train_arr[i])\n",
    "    X_test_arr[i] = float64_to_float32(X_test_arr[i])\n",
    "    Y_train_arr[i] = float64_to_float32(Y_train_arr[i])\n",
    "    Y_test_arr[i] = float64_to_float32(Y_test_arr[i])\n",
    "\n",
    "# Convert to MLX\n",
    "X_train_arr, X_test_arr, Y_train_arr, Y_test_arr = normal_cv_to_mlx_cv(X_train_arr, X_test_arr, Y_train_arr, Y_test_arr)"
   ]
  },
  {
   "cell_type": "code",
   "execution_count": 28,
   "id": "08e30381",
   "metadata": {},
   "outputs": [
    {
     "name": "stdout",
     "output_type": "stream",
     "text": [
      "Conduct hyperparam opt for MLP\n"
     ]
    },
    {
     "name": "stderr",
     "output_type": "stream",
     "text": [
      "[I 2025-07-24 13:50:35,256] Using an existing study with name 'mlp_mlx_2_4_101_2_common_truncated_30_study' instead of creating a new one.\n",
      "100%|██████████| 5/5 [00:00<00:00,  5.31it/s]\n"
     ]
    },
    {
     "name": "stdout",
     "output_type": "stream",
     "text": [
      "0.09093762997261831\n"
     ]
    },
    {
     "name": "stderr",
     "output_type": "stream",
     "text": [
      "100%|██████████| 5/5 [00:00<00:00,  5.49it/s]\n"
     ]
    },
    {
     "name": "stdout",
     "output_type": "stream",
     "text": [
      "0.10066141254422996\n"
     ]
    },
    {
     "name": "stderr",
     "output_type": "stream",
     "text": [
      "100%|██████████| 5/5 [00:00<00:00,  5.44it/s]\n"
     ]
    },
    {
     "name": "stdout",
     "output_type": "stream",
     "text": [
      "0.10198003300638844\n"
     ]
    },
    {
     "name": "stderr",
     "output_type": "stream",
     "text": [
      "100%|██████████| 5/5 [00:00<00:00,  5.61it/s]\n",
      "[I 2025-07-24 13:50:39,363] Trial 302 finished with value: 0.09906458141982707 and parameters: {'log2_hidden_layer_0': 4, 'log2_hidden_layer_1': 3, 'lr': 0.00011441147013606219, 'batch_size': 720, 'num_epochs': 5}. Best is trial 198 with value: 0.13282118335902438.\n"
     ]
    },
    {
     "name": "stdout",
     "output_type": "stream",
     "text": [
      "0.10267925015607157\n"
     ]
    },
    {
     "name": "stderr",
     "output_type": "stream",
     "text": [
      "100%|██████████| 5/5 [00:00<00:00,  5.37it/s]\n"
     ]
    },
    {
     "name": "stdout",
     "output_type": "stream",
     "text": [
      "0.09424130799209007\n"
     ]
    },
    {
     "name": "stderr",
     "output_type": "stream",
     "text": [
      "100%|██████████| 5/5 [00:00<00:00,  5.12it/s]\n"
     ]
    },
    {
     "name": "stdout",
     "output_type": "stream",
     "text": [
      "0.10210824970423528\n"
     ]
    },
    {
     "name": "stderr",
     "output_type": "stream",
     "text": [
      "100%|██████████| 5/5 [00:00<00:00,  5.13it/s]\n"
     ]
    },
    {
     "name": "stdout",
     "output_type": "stream",
     "text": [
      "0.10546874321671278\n"
     ]
    },
    {
     "name": "stderr",
     "output_type": "stream",
     "text": [
      "100%|██████████| 5/5 [00:00<00:00,  5.21it/s]\n",
      "[I 2025-07-24 13:50:43,590] Trial 303 finished with value: 0.1032878354918525 and parameters: {'log2_hidden_layer_0': 4, 'log2_hidden_layer_1': 3, 'lr': 0.00014983686146932595, 'batch_size': 720, 'num_epochs': 5}. Best is trial 198 with value: 0.13282118335902438.\n"
     ]
    },
    {
     "name": "stdout",
     "output_type": "stream",
     "text": [
      "0.11133304105437189\n"
     ]
    },
    {
     "name": "stderr",
     "output_type": "stream",
     "text": [
      "100%|██████████| 5/5 [00:00<00:00,  5.07it/s]\n"
     ]
    },
    {
     "name": "stdout",
     "output_type": "stream",
     "text": [
      "0.0955517659322254\n"
     ]
    },
    {
     "name": "stderr",
     "output_type": "stream",
     "text": [
      "100%|██████████| 5/5 [00:00<00:00,  5.07it/s]\n"
     ]
    },
    {
     "name": "stdout",
     "output_type": "stream",
     "text": [
      "0.1026499471505806\n"
     ]
    },
    {
     "name": "stderr",
     "output_type": "stream",
     "text": [
      "100%|██████████| 5/5 [00:00<00:00,  5.33it/s]\n"
     ]
    },
    {
     "name": "stdout",
     "output_type": "stream",
     "text": [
      "0.10739033539137509\n"
     ]
    },
    {
     "name": "stderr",
     "output_type": "stream",
     "text": [
      "100%|██████████| 5/5 [00:00<00:00,  5.41it/s]\n",
      "[I 2025-07-24 13:50:47,767] Trial 304 finished with value: 0.10532179431807363 and parameters: {'log2_hidden_layer_0': 4, 'log2_hidden_layer_1': 3, 'lr': 0.00017032294700890515, 'batch_size': 720, 'num_epochs': 5}. Best is trial 198 with value: 0.13282118335902438.\n"
     ]
    },
    {
     "name": "stdout",
     "output_type": "stream",
     "text": [
      "0.11569512879811346\n"
     ]
    },
    {
     "name": "stderr",
     "output_type": "stream",
     "text": [
      "100%|██████████| 5/5 [00:01<00:00,  2.74it/s]\n"
     ]
    },
    {
     "name": "stdout",
     "output_type": "stream",
     "text": [
      "0.06797289081456827\n"
     ]
    },
    {
     "name": "stderr",
     "output_type": "stream",
     "text": [
      "100%|██████████| 5/5 [00:01<00:00,  2.67it/s]\n"
     ]
    },
    {
     "name": "stdout",
     "output_type": "stream",
     "text": [
      "0.07210970209498438\n"
     ]
    },
    {
     "name": "stderr",
     "output_type": "stream",
     "text": [
      "100%|██████████| 5/5 [00:01<00:00,  2.60it/s]\n"
     ]
    },
    {
     "name": "stdout",
     "output_type": "stream",
     "text": [
      "0.08564694341038036\n"
     ]
    },
    {
     "name": "stderr",
     "output_type": "stream",
     "text": [
      "100%|██████████| 5/5 [00:01<00:00,  2.63it/s]\n",
      "[I 2025-07-24 13:50:55,933] Trial 305 finished with value: 0.06570382243092383 and parameters: {'log2_hidden_layer_0': 4, 'log2_hidden_layer_1': 3, 'lr': 0.004871024163616171, 'batch_size': 360, 'num_epochs': 5}. Best is trial 198 with value: 0.13282118335902438.\n"
     ]
    },
    {
     "name": "stdout",
     "output_type": "stream",
     "text": [
      "0.037085753403762314\n"
     ]
    },
    {
     "name": "stderr",
     "output_type": "stream",
     "text": [
      "100%|██████████| 5/5 [00:00<00:00,  5.27it/s]\n"
     ]
    },
    {
     "name": "stdout",
     "output_type": "stream",
     "text": [
      "0.08104240466022072\n"
     ]
    },
    {
     "name": "stderr",
     "output_type": "stream",
     "text": [
      "100%|██████████| 5/5 [00:00<00:00,  5.33it/s]\n"
     ]
    },
    {
     "name": "stdout",
     "output_type": "stream",
     "text": [
      "0.13023192272730125\n"
     ]
    },
    {
     "name": "stderr",
     "output_type": "stream",
     "text": [
      "100%|██████████| 5/5 [00:00<00:00,  5.39it/s]\n"
     ]
    },
    {
     "name": "stdout",
     "output_type": "stream",
     "text": [
      "0.09685897057940854\n"
     ]
    },
    {
     "name": "stderr",
     "output_type": "stream",
     "text": [
      "100%|██████████| 5/5 [00:00<00:00,  5.34it/s]\n",
      "[I 2025-07-24 13:51:00,009] Trial 306 finished with value: 0.09793518218162563 and parameters: {'log2_hidden_layer_0': 4, 'log2_hidden_layer_1': 3, 'lr': 0.0025576996223639404, 'batch_size': 720, 'num_epochs': 5}. Best is trial 198 with value: 0.13282118335902438.\n"
     ]
    },
    {
     "name": "stdout",
     "output_type": "stream",
     "text": [
      "0.083607430759572\n"
     ]
    },
    {
     "name": "stderr",
     "output_type": "stream",
     "text": [
      "100%|██████████| 5/5 [00:00<00:00,  5.37it/s]\n"
     ]
    },
    {
     "name": "stdout",
     "output_type": "stream",
     "text": [
      "0.11024056241291896\n"
     ]
    },
    {
     "name": "stderr",
     "output_type": "stream",
     "text": [
      "100%|██████████| 5/5 [00:00<00:00,  5.41it/s]\n"
     ]
    },
    {
     "name": "stdout",
     "output_type": "stream",
     "text": [
      "0.05441834039121291\n"
     ]
    },
    {
     "name": "stderr",
     "output_type": "stream",
     "text": [
      "100%|██████████| 5/5 [00:00<00:00,  5.13it/s]\n"
     ]
    },
    {
     "name": "stdout",
     "output_type": "stream",
     "text": [
      "0.0021085910184802724\n"
     ]
    },
    {
     "name": "stderr",
     "output_type": "stream",
     "text": [
      "100%|██████████| 5/5 [00:00<00:00,  5.19it/s]\n",
      "[I 2025-07-24 13:51:04,142] Trial 307 finished with value: 0.050010524200854764 and parameters: {'log2_hidden_layer_0': 3, 'log2_hidden_layer_1': 3, 'lr': 0.0001331515204817748, 'batch_size': 720, 'num_epochs': 5}. Best is trial 198 with value: 0.13282118335902438.\n"
     ]
    },
    {
     "name": "stdout",
     "output_type": "stream",
     "text": [
      "0.03327460298080691\n"
     ]
    },
    {
     "name": "stderr",
     "output_type": "stream",
     "text": [
      "100%|██████████| 5/5 [00:00<00:00,  5.14it/s]\n"
     ]
    },
    {
     "name": "stdout",
     "output_type": "stream",
     "text": [
      "0.09626284180779633\n"
     ]
    },
    {
     "name": "stderr",
     "output_type": "stream",
     "text": [
      "100%|██████████| 5/5 [00:00<00:00,  5.17it/s]\n"
     ]
    },
    {
     "name": "stdout",
     "output_type": "stream",
     "text": [
      "0.10360132554876228\n"
     ]
    },
    {
     "name": "stderr",
     "output_type": "stream",
     "text": [
      "100%|██████████| 5/5 [00:00<00:00,  5.09it/s]\n"
     ]
    },
    {
     "name": "stdout",
     "output_type": "stream",
     "text": [
      "0.10903675838065788\n"
     ]
    },
    {
     "name": "stderr",
     "output_type": "stream",
     "text": [
      "100%|██████████| 5/5 [00:00<00:00,  5.21it/s]\n",
      "[I 2025-07-24 13:51:08,387] Trial 308 finished with value: 0.10687803757237958 and parameters: {'log2_hidden_layer_0': 4, 'log2_hidden_layer_1': 3, 'lr': 0.00018831240596786625, 'batch_size': 720, 'num_epochs': 5}. Best is trial 198 with value: 0.13282118335902438.\n"
     ]
    },
    {
     "name": "stdout",
     "output_type": "stream",
     "text": [
      "0.11861122455230182\n"
     ]
    },
    {
     "name": "stderr",
     "output_type": "stream",
     "text": [
      "100%|██████████| 5/5 [00:00<00:00,  5.32it/s]\n"
     ]
    },
    {
     "name": "stdout",
     "output_type": "stream",
     "text": [
      "0.09388606649672486\n"
     ]
    },
    {
     "name": "stderr",
     "output_type": "stream",
     "text": [
      "100%|██████████| 5/5 [00:00<00:00,  5.41it/s]\n"
     ]
    },
    {
     "name": "stdout",
     "output_type": "stream",
     "text": [
      "0.10183054455335151\n"
     ]
    },
    {
     "name": "stderr",
     "output_type": "stream",
     "text": [
      "100%|██████████| 5/5 [00:00<00:00,  5.37it/s]\n"
     ]
    },
    {
     "name": "stdout",
     "output_type": "stream",
     "text": [
      "0.10491636355660873\n"
     ]
    },
    {
     "name": "stderr",
     "output_type": "stream",
     "text": [
      "100%|██████████| 5/5 [00:00<00:00,  5.36it/s]\n",
      "[I 2025-07-24 13:51:12,435] Trial 309 finished with value: 0.10258187451396075 and parameters: {'log2_hidden_layer_0': 4, 'log2_hidden_layer_1': 3, 'lr': 0.00014369084156494986, 'batch_size': 720, 'num_epochs': 5}. Best is trial 198 with value: 0.13282118335902438.\n"
     ]
    },
    {
     "name": "stdout",
     "output_type": "stream",
     "text": [
      "0.1096945234491579\n"
     ]
    },
    {
     "name": "stderr",
     "output_type": "stream",
     "text": [
      "100%|██████████| 5/5 [00:05<00:00,  1.08s/it]\n"
     ]
    },
    {
     "name": "stdout",
     "output_type": "stream",
     "text": [
      "0.10011168347965527\n"
     ]
    },
    {
     "name": "stderr",
     "output_type": "stream",
     "text": [
      "100%|██████████| 5/5 [00:05<00:00,  1.05s/it]\n"
     ]
    },
    {
     "name": "stdout",
     "output_type": "stream",
     "text": [
      "0.10484061361934892\n"
     ]
    },
    {
     "name": "stderr",
     "output_type": "stream",
     "text": [
      "100%|██████████| 5/5 [00:05<00:00,  1.08s/it]\n"
     ]
    },
    {
     "name": "stdout",
     "output_type": "stream",
     "text": [
      "0.11636404498061267\n"
     ]
    },
    {
     "name": "stderr",
     "output_type": "stream",
     "text": [
      "100%|██████████| 5/5 [00:05<00:00,  1.05s/it]\n",
      "[I 2025-07-24 13:51:35,283] Trial 310 finished with value: 0.11278678970245334 and parameters: {'log2_hidden_layer_0': 4, 'log2_hidden_layer_1': 3, 'lr': 0.00016083827977734157, 'batch_size': 120, 'num_epochs': 5}. Best is trial 198 with value: 0.13282118335902438.\n"
     ]
    },
    {
     "name": "stdout",
     "output_type": "stream",
     "text": [
      "0.12983081673019647\n"
     ]
    },
    {
     "name": "stderr",
     "output_type": "stream",
     "text": [
      "100%|██████████| 5/5 [00:00<00:00,  5.43it/s]\n"
     ]
    },
    {
     "name": "stdout",
     "output_type": "stream",
     "text": [
      "0.09217971685433865\n"
     ]
    },
    {
     "name": "stderr",
     "output_type": "stream",
     "text": [
      "100%|██████████| 5/5 [00:00<00:00,  5.30it/s]\n"
     ]
    },
    {
     "name": "stdout",
     "output_type": "stream",
     "text": [
      "0.10090536902668401\n"
     ]
    },
    {
     "name": "stderr",
     "output_type": "stream",
     "text": [
      "100%|██████████| 5/5 [00:00<00:00,  5.07it/s]\n"
     ]
    },
    {
     "name": "stdout",
     "output_type": "stream",
     "text": [
      "0.10332371471557203\n"
     ]
    },
    {
     "name": "stderr",
     "output_type": "stream",
     "text": [
      "100%|██████████| 5/5 [00:00<00:00,  5.06it/s]\n",
      "[I 2025-07-24 13:51:39,481] Trial 311 finished with value: 0.10051799145363544 and parameters: {'log2_hidden_layer_0': 4, 'log2_hidden_layer_1': 3, 'lr': 0.0001264267591491744, 'batch_size': 720, 'num_epochs': 5}. Best is trial 198 with value: 0.13282118335902438.\n"
     ]
    },
    {
     "name": "stdout",
     "output_type": "stream",
     "text": [
      "0.10566316521794702\n"
     ]
    },
    {
     "name": "stderr",
     "output_type": "stream",
     "text": [
      "100%|██████████| 5/5 [00:00<00:00,  5.08it/s]\n"
     ]
    },
    {
     "name": "stdout",
     "output_type": "stream",
     "text": [
      "0.09440839450265434\n"
     ]
    },
    {
     "name": "stderr",
     "output_type": "stream",
     "text": [
      "100%|██████████| 5/5 [00:00<00:00,  5.14it/s]\n"
     ]
    },
    {
     "name": "stdout",
     "output_type": "stream",
     "text": [
      "0.10224789354457352\n"
     ]
    },
    {
     "name": "stderr",
     "output_type": "stream",
     "text": [
      "100%|██████████| 5/5 [00:00<00:00,  5.07it/s]\n"
     ]
    },
    {
     "name": "stdout",
     "output_type": "stream",
     "text": [
      "0.10568063987527693\n"
     ]
    },
    {
     "name": "stderr",
     "output_type": "stream",
     "text": [
      "100%|██████████| 5/5 [00:00<00:00,  5.32it/s]\n",
      "[I 2025-07-24 13:51:43,715] Trial 312 finished with value: 0.10356862239477103 and parameters: {'log2_hidden_layer_0': 4, 'log2_hidden_layer_1': 3, 'lr': 0.00015324894278382487, 'batch_size': 720, 'num_epochs': 5}. Best is trial 198 with value: 0.13282118335902438.\n"
     ]
    },
    {
     "name": "stdout",
     "output_type": "stream",
     "text": [
      "0.11193756165657938\n"
     ]
    },
    {
     "name": "stderr",
     "output_type": "stream",
     "text": [
      "100%|██████████| 5/5 [00:00<00:00,  5.32it/s]\n"
     ]
    },
    {
     "name": "stdout",
     "output_type": "stream",
     "text": [
      "0.0958475198395675\n"
     ]
    },
    {
     "name": "stderr",
     "output_type": "stream",
     "text": [
      "100%|██████████| 5/5 [00:00<00:00,  5.32it/s]\n"
     ]
    },
    {
     "name": "stdout",
     "output_type": "stream",
     "text": [
      "0.1028967329836561\n"
     ]
    },
    {
     "name": "stderr",
     "output_type": "stream",
     "text": [
      "100%|██████████| 5/5 [00:00<00:00,  5.20it/s]\n"
     ]
    },
    {
     "name": "stdout",
     "output_type": "stream",
     "text": [
      "0.10793528811679763\n"
     ]
    },
    {
     "name": "stderr",
     "output_type": "stream",
     "text": [
      "100%|██████████| 5/5 [00:00<00:00,  5.28it/s]\n",
      "[I 2025-07-24 13:51:47,835] Trial 313 finished with value: 0.10580643134800052 and parameters: {'log2_hidden_layer_0': 4, 'log2_hidden_layer_1': 3, 'lr': 0.00017617507423276684, 'batch_size': 720, 'num_epochs': 5}. Best is trial 198 with value: 0.13282118335902438.\n"
     ]
    },
    {
     "name": "stdout",
     "output_type": "stream",
     "text": [
      "0.11654618445198082\n"
     ]
    },
    {
     "name": "stderr",
     "output_type": "stream",
     "text": [
      "100%|██████████| 5/5 [00:03<00:00,  1.36it/s]\n"
     ]
    },
    {
     "name": "stdout",
     "output_type": "stream",
     "text": [
      "0.09638364852004605\n"
     ]
    },
    {
     "name": "stderr",
     "output_type": "stream",
     "text": [
      "100%|██████████| 5/5 [00:03<00:00,  1.37it/s]\n"
     ]
    },
    {
     "name": "stdout",
     "output_type": "stream",
     "text": [
      "0.10283533847056411\n"
     ]
    },
    {
     "name": "stderr",
     "output_type": "stream",
     "text": [
      "100%|██████████| 5/5 [00:03<00:00,  1.40it/s]\n"
     ]
    },
    {
     "name": "stdout",
     "output_type": "stream",
     "text": [
      "0.10722598144736001\n"
     ]
    },
    {
     "name": "stderr",
     "output_type": "stream",
     "text": [
      "100%|██████████| 5/5 [00:03<00:00,  1.37it/s]\n",
      "[I 2025-07-24 13:52:03,498] Trial 314 finished with value: 0.10491924213463065 and parameters: {'log2_hidden_layer_0': 4, 'log2_hidden_layer_1': 3, 'lr': 0.0001078471127241807, 'batch_size': 180, 'num_epochs': 5}. Best is trial 198 with value: 0.13282118335902438.\n"
     ]
    },
    {
     "name": "stdout",
     "output_type": "stream",
     "text": [
      "0.11323200010055241\n"
     ]
    },
    {
     "name": "stderr",
     "output_type": "stream",
     "text": [
      "100%|██████████| 5/5 [00:20<00:00,  4.19s/it]\n"
     ]
    },
    {
     "name": "stdout",
     "output_type": "stream",
     "text": [
      "0.07458419559552544\n"
     ]
    },
    {
     "name": "stderr",
     "output_type": "stream",
     "text": [
      "100%|██████████| 5/5 [00:21<00:00,  4.20s/it]\n"
     ]
    },
    {
     "name": "stdout",
     "output_type": "stream",
     "text": [
      "0.0929050747887716\n"
     ]
    },
    {
     "name": "stderr",
     "output_type": "stream",
     "text": [
      "100%|██████████| 5/5 [00:21<00:00,  4.25s/it]\n"
     ]
    },
    {
     "name": "stdout",
     "output_type": "stream",
     "text": [
      "0.1203042512696316\n"
     ]
    },
    {
     "name": "stderr",
     "output_type": "stream",
     "text": [
      "100%|██████████| 5/5 [00:21<00:00,  4.22s/it]\n",
      "[I 2025-07-24 13:53:33,842] Trial 315 finished with value: 0.10524761940182004 and parameters: {'log2_hidden_layer_0': 4, 'log2_hidden_layer_1': 3, 'lr': 0.00013880254886296646, 'batch_size': 30, 'num_epochs': 5}. Best is trial 198 with value: 0.13282118335902438.\n"
     ]
    },
    {
     "name": "stdout",
     "output_type": "stream",
     "text": [
      "0.13319695595335154\n"
     ]
    },
    {
     "name": "stderr",
     "output_type": "stream",
     "text": [
      "100%|██████████| 5/5 [00:01<00:00,  2.72it/s]\n"
     ]
    },
    {
     "name": "stdout",
     "output_type": "stream",
     "text": [
      "0.0973774834920523\n"
     ]
    },
    {
     "name": "stderr",
     "output_type": "stream",
     "text": [
      "100%|██████████| 5/5 [00:01<00:00,  2.57it/s]\n"
     ]
    },
    {
     "name": "stdout",
     "output_type": "stream",
     "text": [
      "0.10340687230818293\n"
     ]
    },
    {
     "name": "stderr",
     "output_type": "stream",
     "text": [
      "100%|██████████| 5/5 [00:01<00:00,  2.57it/s]\n"
     ]
    },
    {
     "name": "stdout",
     "output_type": "stream",
     "text": [
      "0.10926415894574135\n"
     ]
    },
    {
     "name": "stderr",
     "output_type": "stream",
     "text": [
      "100%|██████████| 5/5 [00:01<00:00,  2.58it/s]\n",
      "[I 2025-07-24 13:53:42,128] Trial 316 finished with value: 0.10713969229880396 and parameters: {'log2_hidden_layer_0': 4, 'log2_hidden_layer_1': 3, 'lr': 0.0001592943206416864, 'batch_size': 360, 'num_epochs': 5}. Best is trial 198 with value: 0.13282118335902438.\n"
     ]
    },
    {
     "name": "stdout",
     "output_type": "stream",
     "text": [
      "0.11851025444923922\n"
     ]
    },
    {
     "name": "stderr",
     "output_type": "stream",
     "text": [
      "100%|██████████| 10/10 [00:01<00:00,  5.33it/s]\n"
     ]
    },
    {
     "name": "stdout",
     "output_type": "stream",
     "text": [
      "0.10055410582518219\n"
     ]
    },
    {
     "name": "stderr",
     "output_type": "stream",
     "text": [
      "100%|██████████| 10/10 [00:01<00:00,  5.37it/s]\n"
     ]
    },
    {
     "name": "stdout",
     "output_type": "stream",
     "text": [
      "0.10630097880084868\n"
     ]
    },
    {
     "name": "stderr",
     "output_type": "stream",
     "text": [
      "100%|██████████| 10/10 [00:01<00:00,  5.31it/s]\n"
     ]
    },
    {
     "name": "stdout",
     "output_type": "stream",
     "text": [
      "0.11475475171067567\n"
     ]
    },
    {
     "name": "stderr",
     "output_type": "stream",
     "text": [
      "100%|██████████| 10/10 [00:01<00:00,  5.10it/s]\n",
      "[I 2025-07-24 13:53:50,038] Trial 317 finished with value: 0.11349336095444688 and parameters: {'log2_hidden_layer_0': 4, 'log2_hidden_layer_1': 3, 'lr': 0.00020175826930921915, 'batch_size': 720, 'num_epochs': 10}. Best is trial 198 with value: 0.13282118335902438.\n"
     ]
    },
    {
     "name": "stdout",
     "output_type": "stream",
     "text": [
      "0.132363607481081\n"
     ]
    },
    {
     "name": "stderr",
     "output_type": "stream",
     "text": [
      "100%|██████████| 5/5 [00:00<00:00,  5.14it/s]\n"
     ]
    },
    {
     "name": "stdout",
     "output_type": "stream",
     "text": [
      "0.10095516655405108\n"
     ]
    },
    {
     "name": "stderr",
     "output_type": "stream",
     "text": [
      "100%|██████████| 5/5 [00:00<00:00,  5.17it/s]\n"
     ]
    },
    {
     "name": "stdout",
     "output_type": "stream",
     "text": [
      "0.10366123762882351\n"
     ]
    },
    {
     "name": "stderr",
     "output_type": "stream",
     "text": [
      "100%|██████████| 5/5 [00:00<00:00,  5.08it/s]\n"
     ]
    },
    {
     "name": "stdout",
     "output_type": "stream",
     "text": [
      "0.12031278897772578\n"
     ]
    },
    {
     "name": "stderr",
     "output_type": "stream",
     "text": [
      "100%|██████████| 5/5 [00:00<00:00,  5.22it/s]\n",
      "[I 2025-07-24 13:53:54,288] Trial 318 finished with value: 0.1142420142175925 and parameters: {'log2_hidden_layer_0': 4, 'log2_hidden_layer_1': 3, 'lr': 0.000369142983338753, 'batch_size': 720, 'num_epochs': 5}. Best is trial 198 with value: 0.13282118335902438.\n"
     ]
    },
    {
     "name": "stdout",
     "output_type": "stream",
     "text": [
      "0.13203886370976967\n"
     ]
    },
    {
     "name": "stderr",
     "output_type": "stream",
     "text": [
      "100%|██████████| 5/5 [00:00<00:00,  5.32it/s]\n"
     ]
    },
    {
     "name": "stdout",
     "output_type": "stream",
     "text": [
      "0.09157375160257279\n"
     ]
    },
    {
     "name": "stderr",
     "output_type": "stream",
     "text": [
      "100%|██████████| 5/5 [00:00<00:00,  5.40it/s]\n"
     ]
    },
    {
     "name": "stdout",
     "output_type": "stream",
     "text": [
      "0.10056377617299872\n"
     ]
    },
    {
     "name": "stderr",
     "output_type": "stream",
     "text": [
      "100%|██████████| 5/5 [00:00<00:00,  5.39it/s]\n"
     ]
    },
    {
     "name": "stdout",
     "output_type": "stream",
     "text": [
      "0.1026740110250193\n"
     ]
    },
    {
     "name": "stderr",
     "output_type": "stream",
     "text": [
      "100%|██████████| 5/5 [00:00<00:00,  5.36it/s]\n",
      "[I 2025-07-24 13:53:58,332] Trial 319 finished with value: 0.09975953729836168 and parameters: {'log2_hidden_layer_0': 4, 'log2_hidden_layer_1': 3, 'lr': 0.00012066861550232458, 'batch_size': 720, 'num_epochs': 5}. Best is trial 198 with value: 0.13282118335902438.\n"
     ]
    },
    {
     "name": "stdout",
     "output_type": "stream",
     "text": [
      "0.10422661039285587\n"
     ]
    },
    {
     "name": "stderr",
     "output_type": "stream",
     "text": [
      "100%|██████████| 5/5 [00:00<00:00,  5.24it/s]\n"
     ]
    },
    {
     "name": "stdout",
     "output_type": "stream",
     "text": [
      "0.12634041630702425\n"
     ]
    },
    {
     "name": "stderr",
     "output_type": "stream",
     "text": [
      "100%|██████████| 5/5 [00:00<00:00,  5.13it/s]\n"
     ]
    },
    {
     "name": "stdout",
     "output_type": "stream",
     "text": [
      "0.1068542186544691\n"
     ]
    },
    {
     "name": "stderr",
     "output_type": "stream",
     "text": [
      "100%|██████████| 5/5 [00:01<00:00,  4.98it/s]\n"
     ]
    },
    {
     "name": "stdout",
     "output_type": "stream",
     "text": [
      "0.09547709890434726\n"
     ]
    },
    {
     "name": "stderr",
     "output_type": "stream",
     "text": [
      "100%|██████████| 5/5 [00:00<00:00,  5.07it/s]\n",
      "[I 2025-07-24 13:54:02,579] Trial 320 finished with value: 0.10584797244249448 and parameters: {'log2_hidden_layer_0': 5, 'log2_hidden_layer_1': 4, 'lr': 0.0001430237874503125, 'batch_size': 720, 'num_epochs': 5}. Best is trial 198 with value: 0.13282118335902438.\n"
     ]
    },
    {
     "name": "stdout",
     "output_type": "stream",
     "text": [
      "0.09472015590413733\n"
     ]
    },
    {
     "name": "stderr",
     "output_type": "stream",
     "text": [
      "100%|██████████| 5/5 [00:00<00:00,  5.19it/s]\n"
     ]
    },
    {
     "name": "stdout",
     "output_type": "stream",
     "text": [
      "0.09597343895157039\n"
     ]
    },
    {
     "name": "stderr",
     "output_type": "stream",
     "text": [
      "100%|██████████| 5/5 [00:00<00:00,  5.10it/s]\n"
     ]
    },
    {
     "name": "stdout",
     "output_type": "stream",
     "text": [
      "0.10314299692820482\n"
     ]
    },
    {
     "name": "stderr",
     "output_type": "stream",
     "text": [
      "100%|██████████| 5/5 [00:00<00:00,  5.17it/s]\n"
     ]
    },
    {
     "name": "stdout",
     "output_type": "stream",
     "text": [
      "0.10827701647720152\n"
     ]
    },
    {
     "name": "stderr",
     "output_type": "stream",
     "text": [
      "100%|██████████| 5/5 [00:00<00:00,  5.37it/s]\n",
      "[I 2025-07-24 13:54:06,750] Trial 321 finished with value: 0.10620897617087914 and parameters: {'log2_hidden_layer_0': 4, 'log2_hidden_layer_1': 3, 'lr': 0.00018049393931153008, 'batch_size': 720, 'num_epochs': 5}. Best is trial 198 with value: 0.13282118335902438.\n"
     ]
    },
    {
     "name": "stdout",
     "output_type": "stream",
     "text": [
      "0.11744245232653983\n"
     ]
    },
    {
     "name": "stderr",
     "output_type": "stream",
     "text": [
      "100%|██████████| 15/15 [00:02<00:00,  5.34it/s]\n"
     ]
    },
    {
     "name": "stdout",
     "output_type": "stream",
     "text": [
      "0.09945417346327094\n"
     ]
    },
    {
     "name": "stderr",
     "output_type": "stream",
     "text": [
      "100%|██████████| 15/15 [00:02<00:00,  5.17it/s]\n"
     ]
    },
    {
     "name": "stdout",
     "output_type": "stream",
     "text": [
      "0.10661068107931469\n"
     ]
    },
    {
     "name": "stderr",
     "output_type": "stream",
     "text": [
      "100%|██████████| 15/15 [00:02<00:00,  5.04it/s]\n"
     ]
    },
    {
     "name": "stdout",
     "output_type": "stream",
     "text": [
      "0.11425212733132448\n"
     ]
    },
    {
     "name": "stderr",
     "output_type": "stream",
     "text": [
      "100%|██████████| 15/15 [00:02<00:00,  5.15it/s]\n",
      "[I 2025-07-24 13:54:18,707] Trial 322 finished with value: 0.11376399025179454 and parameters: {'log2_hidden_layer_0': 4, 'log2_hidden_layer_1': 3, 'lr': 0.00016752349778250786, 'batch_size': 720, 'num_epochs': 15}. Best is trial 198 with value: 0.13282118335902438.\n"
     ]
    },
    {
     "name": "stdout",
     "output_type": "stream",
     "text": [
      "0.13473897913326802\n"
     ]
    },
    {
     "name": "stderr",
     "output_type": "stream",
     "text": [
      "100%|██████████| 5/5 [00:00<00:00,  5.18it/s]\n"
     ]
    },
    {
     "name": "stdout",
     "output_type": "stream",
     "text": [
      "0.09435544237114496\n"
     ]
    },
    {
     "name": "stderr",
     "output_type": "stream",
     "text": [
      "100%|██████████| 5/5 [00:01<00:00,  4.78it/s]\n"
     ]
    },
    {
     "name": "stdout",
     "output_type": "stream",
     "text": [
      "0.10219050171983587\n"
     ]
    },
    {
     "name": "stderr",
     "output_type": "stream",
     "text": [
      "100%|██████████| 5/5 [00:00<00:00,  5.05it/s]\n"
     ]
    },
    {
     "name": "stdout",
     "output_type": "stream",
     "text": [
      "0.10555011677711522\n"
     ]
    },
    {
     "name": "stderr",
     "output_type": "stream",
     "text": [
      "100%|██████████| 5/5 [00:01<00:00,  4.91it/s]\n",
      "[I 2025-07-24 13:54:23,102] Trial 323 finished with value: 0.10345046587963193 and parameters: {'log2_hidden_layer_0': 4, 'log2_hidden_layer_1': 3, 'lr': 0.00015157722000774858, 'batch_size': 720, 'num_epochs': 5}. Best is trial 198 with value: 0.13282118335902438.\n"
     ]
    },
    {
     "name": "stdout",
     "output_type": "stream",
     "text": [
      "0.11170580265043169\n"
     ]
    },
    {
     "name": "stderr",
     "output_type": "stream",
     "text": [
      "100%|██████████| 5/5 [00:00<00:00,  5.06it/s]\n"
     ]
    },
    {
     "name": "stdout",
     "output_type": "stream",
     "text": [
      "0.09255440658033902\n"
     ]
    },
    {
     "name": "stderr",
     "output_type": "stream",
     "text": [
      "100%|██████████| 5/5 [00:00<00:00,  5.16it/s]\n"
     ]
    },
    {
     "name": "stdout",
     "output_type": "stream",
     "text": [
      "0.1010652438295666\n"
     ]
    },
    {
     "name": "stderr",
     "output_type": "stream",
     "text": [
      "100%|██████████| 5/5 [00:00<00:00,  5.28it/s]\n"
     ]
    },
    {
     "name": "stdout",
     "output_type": "stream",
     "text": [
      "0.1036117950951721\n"
     ]
    },
    {
     "name": "stderr",
     "output_type": "stream",
     "text": [
      "100%|██████████| 5/5 [00:00<00:00,  5.26it/s]\n",
      "[I 2025-07-24 13:54:27,293] Trial 324 finished with value: 0.10090024632180787 and parameters: {'log2_hidden_layer_0': 4, 'log2_hidden_layer_1': 3, 'lr': 0.00012981703590410066, 'batch_size': 720, 'num_epochs': 5}. Best is trial 198 with value: 0.13282118335902438.\n"
     ]
    },
    {
     "name": "stdout",
     "output_type": "stream",
     "text": [
      "0.10636953978215373\n"
     ]
    },
    {
     "name": "stderr",
     "output_type": "stream",
     "text": [
      "100%|██████████| 5/5 [00:01<00:00,  2.67it/s]\n"
     ]
    },
    {
     "name": "stdout",
     "output_type": "stream",
     "text": [
      "0.09657464149659718\n"
     ]
    },
    {
     "name": "stderr",
     "output_type": "stream",
     "text": [
      "100%|██████████| 5/5 [00:01<00:00,  2.58it/s]\n"
     ]
    },
    {
     "name": "stdout",
     "output_type": "stream",
     "text": [
      "0.10259443537768179\n"
     ]
    },
    {
     "name": "stderr",
     "output_type": "stream",
     "text": [
      "100%|██████████| 5/5 [00:01<00:00,  2.55it/s]\n"
     ]
    },
    {
     "name": "stdout",
     "output_type": "stream",
     "text": [
      "0.10700035541255094\n"
     ]
    },
    {
     "name": "stderr",
     "output_type": "stream",
     "text": [
      "100%|██████████| 5/5 [00:01<00:00,  2.64it/s]\n",
      "[I 2025-07-24 13:54:35,615] Trial 325 finished with value: 0.10480361138448127 and parameters: {'log2_hidden_layer_0': 4, 'log2_hidden_layer_1': 3, 'lr': 0.0001380254889080136, 'batch_size': 360, 'num_epochs': 5}. Best is trial 198 with value: 0.13282118335902438.\n"
     ]
    },
    {
     "name": "stdout",
     "output_type": "stream",
     "text": [
      "0.11304501325109519\n"
     ]
    },
    {
     "name": "stderr",
     "output_type": "stream",
     "text": [
      "100%|██████████| 5/5 [00:00<00:00,  5.20it/s]\n"
     ]
    },
    {
     "name": "stdout",
     "output_type": "stream",
     "text": [
      "0.09504665905304399\n"
     ]
    },
    {
     "name": "stderr",
     "output_type": "stream",
     "text": [
      "100%|██████████| 5/5 [00:00<00:00,  5.35it/s]\n"
     ]
    },
    {
     "name": "stdout",
     "output_type": "stream",
     "text": [
      "0.10241067051625478\n"
     ]
    },
    {
     "name": "stderr",
     "output_type": "stream",
     "text": [
      "100%|██████████| 5/5 [00:00<00:00,  5.34it/s]\n"
     ]
    },
    {
     "name": "stdout",
     "output_type": "stream",
     "text": [
      "0.10639204754086656\n"
     ]
    },
    {
     "name": "stderr",
     "output_type": "stream",
     "text": [
      "100%|██████████| 5/5 [00:00<00:00,  5.20it/s]\n",
      "[I 2025-07-24 13:54:39,770] Trial 326 finished with value: 0.10440306128062066 and parameters: {'log2_hidden_layer_0': 4, 'log2_hidden_layer_1': 3, 'lr': 0.00016199326580085036, 'batch_size': 720, 'num_epochs': 5}. Best is trial 198 with value: 0.13282118335902438.\n"
     ]
    },
    {
     "name": "stdout",
     "output_type": "stream",
     "text": [
      "0.11376286801231728\n"
     ]
    },
    {
     "name": "stderr",
     "output_type": "stream",
     "text": [
      "100%|██████████| 5/5 [00:11<00:00,  2.21s/it]\n"
     ]
    },
    {
     "name": "stdout",
     "output_type": "stream",
     "text": [
      "0.09268277328052064\n"
     ]
    },
    {
     "name": "stderr",
     "output_type": "stream",
     "text": [
      "100%|██████████| 5/5 [00:10<00:00,  2.16s/it]\n"
     ]
    },
    {
     "name": "stdout",
     "output_type": "stream",
     "text": [
      "0.10075681515434713\n"
     ]
    },
    {
     "name": "stderr",
     "output_type": "stream",
     "text": [
      "100%|██████████| 5/5 [00:10<00:00,  2.16s/it]\n"
     ]
    },
    {
     "name": "stdout",
     "output_type": "stream",
     "text": [
      "0.12191887027191095\n"
     ]
    },
    {
     "name": "stderr",
     "output_type": "stream",
     "text": [
      "100%|██████████| 5/5 [00:10<00:00,  2.15s/it]\n",
      "[I 2025-07-24 13:55:26,608] Trial 327 finished with value: 0.11260895258929887 and parameters: {'log2_hidden_layer_0': 4, 'log2_hidden_layer_1': 3, 'lr': 0.00018603407607166558, 'batch_size': 60, 'num_epochs': 5}. Best is trial 198 with value: 0.13282118335902438.\n"
     ]
    },
    {
     "name": "stdout",
     "output_type": "stream",
     "text": [
      "0.13507735165041682\n"
     ]
    },
    {
     "name": "stderr",
     "output_type": "stream",
     "text": [
      "100%|██████████| 5/5 [00:00<00:00,  5.43it/s]\n"
     ]
    },
    {
     "name": "stdout",
     "output_type": "stream",
     "text": [
      "0.0940861089104365\n"
     ]
    },
    {
     "name": "stderr",
     "output_type": "stream",
     "text": [
      "100%|██████████| 5/5 [00:00<00:00,  5.29it/s]\n"
     ]
    },
    {
     "name": "stdout",
     "output_type": "stream",
     "text": [
      "0.10200360944023797\n"
     ]
    },
    {
     "name": "stderr",
     "output_type": "stream",
     "text": [
      "100%|██████████| 5/5 [00:00<00:00,  5.33it/s]\n"
     ]
    },
    {
     "name": "stdout",
     "output_type": "stream",
     "text": [
      "0.1051698318135842\n"
     ]
    },
    {
     "name": "stderr",
     "output_type": "stream",
     "text": [
      "100%|██████████| 5/5 [00:00<00:00,  5.34it/s]\n",
      "[I 2025-07-24 13:55:30,661] Trial 328 finished with value: 0.10302191791539386 and parameters: {'log2_hidden_layer_0': 4, 'log2_hidden_layer_1': 3, 'lr': 0.00014784638138359304, 'batch_size': 720, 'num_epochs': 5}. Best is trial 198 with value: 0.13282118335902438.\n"
     ]
    },
    {
     "name": "stdout",
     "output_type": "stream",
     "text": [
      "0.11082812149731679\n"
     ]
    },
    {
     "name": "stderr",
     "output_type": "stream",
     "text": [
      "100%|██████████| 5/5 [00:00<00:00,  5.20it/s]\n"
     ]
    },
    {
     "name": "stdout",
     "output_type": "stream",
     "text": [
      "0.09640974441295051\n"
     ]
    },
    {
     "name": "stderr",
     "output_type": "stream",
     "text": [
      "100%|██████████| 5/5 [00:00<00:00,  5.29it/s]\n"
     ]
    },
    {
     "name": "stdout",
     "output_type": "stream",
     "text": [
      "0.09520667312413865\n"
     ]
    },
    {
     "name": "stderr",
     "output_type": "stream",
     "text": [
      "100%|██████████| 5/5 [00:00<00:00,  5.18it/s]\n"
     ]
    },
    {
     "name": "stdout",
     "output_type": "stream",
     "text": [
      "0.11285013078453497\n"
     ]
    },
    {
     "name": "stderr",
     "output_type": "stream",
     "text": [
      "100%|██████████| 5/5 [00:00<00:00,  5.07it/s]\n",
      "[I 2025-07-24 13:55:34,858] Trial 329 finished with value: 0.10151398148848165 and parameters: {'log2_hidden_layer_0': 4, 'log2_hidden_layer_1': 3, 'lr': 0.0006898110988832415, 'batch_size': 720, 'num_epochs': 5}. Best is trial 198 with value: 0.13282118335902438.\n"
     ]
    },
    {
     "name": "stdout",
     "output_type": "stream",
     "text": [
      "0.10158937763230244\n"
     ]
    },
    {
     "name": "stderr",
     "output_type": "stream",
     "text": [
      "100%|██████████| 5/5 [00:00<00:00,  5.15it/s]\n"
     ]
    },
    {
     "name": "stdout",
     "output_type": "stream",
     "text": [
      "0.09557599727282544\n"
     ]
    },
    {
     "name": "stderr",
     "output_type": "stream",
     "text": [
      "100%|██████████| 5/5 [00:00<00:00,  5.09it/s]\n"
     ]
    },
    {
     "name": "stdout",
     "output_type": "stream",
     "text": [
      "0.10269489885460119\n"
     ]
    },
    {
     "name": "stderr",
     "output_type": "stream",
     "text": [
      "100%|██████████| 5/5 [00:00<00:00,  5.07it/s]\n"
     ]
    },
    {
     "name": "stdout",
     "output_type": "stream",
     "text": [
      "0.10737292932681429\n"
     ]
    },
    {
     "name": "stderr",
     "output_type": "stream",
     "text": [
      "100%|██████████| 5/5 [00:00<00:00,  5.17it/s]\n",
      "[I 2025-07-24 13:55:39,100] Trial 330 finished with value: 0.10533166493536163 and parameters: {'log2_hidden_layer_0': 4, 'log2_hidden_layer_1': 3, 'lr': 0.00017013693224833998, 'batch_size': 720, 'num_epochs': 5}. Best is trial 198 with value: 0.13282118335902438.\n"
     ]
    },
    {
     "name": "stdout",
     "output_type": "stream",
     "text": [
      "0.11568283428720559\n"
     ]
    },
    {
     "name": "stderr",
     "output_type": "stream",
     "text": [
      "100%|██████████| 5/5 [00:00<00:00,  5.20it/s]\n"
     ]
    },
    {
     "name": "stdout",
     "output_type": "stream",
     "text": [
      "0.0928220206812713\n"
     ]
    },
    {
     "name": "stderr",
     "output_type": "stream",
     "text": [
      "100%|██████████| 5/5 [00:00<00:00,  5.18it/s]\n"
     ]
    },
    {
     "name": "stdout",
     "output_type": "stream",
     "text": [
      "0.10121053015540918\n"
     ]
    },
    {
     "name": "stderr",
     "output_type": "stream",
     "text": [
      "100%|██████████| 5/5 [00:00<00:00,  5.30it/s]\n"
     ]
    },
    {
     "name": "stdout",
     "output_type": "stream",
     "text": [
      "0.10384844477594206\n"
     ]
    },
    {
     "name": "stderr",
     "output_type": "stream",
     "text": [
      "100%|██████████| 5/5 [00:00<00:00,  5.33it/s]\n",
      "[I 2025-07-24 13:55:43,221] Trial 331 finished with value: 0.10120702923490955 and parameters: {'log2_hidden_layer_0': 4, 'log2_hidden_layer_1': 3, 'lr': 0.0001316414201637613, 'batch_size': 720, 'num_epochs': 5}. Best is trial 198 with value: 0.13282118335902438.\n"
     ]
    },
    {
     "name": "stdout",
     "output_type": "stream",
     "text": [
      "0.10694712132701566\n"
     ]
    },
    {
     "name": "stderr",
     "output_type": "stream",
     "text": [
      "100%|██████████| 5/5 [00:00<00:00,  5.29it/s]\n"
     ]
    },
    {
     "name": "stdout",
     "output_type": "stream",
     "text": [
      "0.09550226674758246\n"
     ]
    },
    {
     "name": "stderr",
     "output_type": "stream",
     "text": [
      "100%|██████████| 5/5 [00:00<00:00,  5.20it/s]\n"
     ]
    },
    {
     "name": "stdout",
     "output_type": "stream",
     "text": [
      "0.0920688485675328\n"
     ]
    },
    {
     "name": "stderr",
     "output_type": "stream",
     "text": [
      "100%|██████████| 5/5 [00:00<00:00,  5.10it/s]\n"
     ]
    },
    {
     "name": "stdout",
     "output_type": "stream",
     "text": [
      "0.11170105258999213\n"
     ]
    },
    {
     "name": "stderr",
     "output_type": "stream",
     "text": [
      "100%|██████████| 5/5 [00:00<00:00,  5.12it/s]\n",
      "[I 2025-07-24 13:55:47,430] Trial 332 finished with value: 0.09856578559419642 and parameters: {'log2_hidden_layer_0': 4, 'log2_hidden_layer_1': 3, 'lr': 0.0011233179836728417, 'batch_size': 720, 'num_epochs': 5}. Best is trial 198 with value: 0.13282118335902438.\n"
     ]
    },
    {
     "name": "stdout",
     "output_type": "stream",
     "text": [
      "0.09499097447167831\n"
     ]
    },
    {
     "name": "stderr",
     "output_type": "stream",
     "text": [
      "100%|██████████| 5/5 [00:01<00:00,  4.92it/s]\n"
     ]
    },
    {
     "name": "stdout",
     "output_type": "stream",
     "text": [
      "0.10195663992131547\n"
     ]
    },
    {
     "name": "stderr",
     "output_type": "stream",
     "text": [
      "100%|██████████| 5/5 [00:01<00:00,  4.88it/s]\n"
     ]
    },
    {
     "name": "stdout",
     "output_type": "stream",
     "text": [
      "0.11384220650234177\n"
     ]
    },
    {
     "name": "stderr",
     "output_type": "stream",
     "text": [
      "100%|██████████| 5/5 [00:01<00:00,  4.90it/s]\n"
     ]
    },
    {
     "name": "stdout",
     "output_type": "stream",
     "text": [
      "0.10431415506679513\n"
     ]
    },
    {
     "name": "stderr",
     "output_type": "stream",
     "text": [
      "100%|██████████| 5/5 [00:00<00:00,  5.14it/s]\n",
      "[I 2025-07-24 13:55:51,814] Trial 333 finished with value: 0.10601122501581528 and parameters: {'log2_hidden_layer_0': 7, 'log2_hidden_layer_1': 6, 'lr': 0.00011764813729637153, 'batch_size': 720, 'num_epochs': 5}. Best is trial 198 with value: 0.13282118335902438.\n"
     ]
    },
    {
     "name": "stdout",
     "output_type": "stream",
     "text": [
      "0.10393189857280877\n"
     ]
    },
    {
     "name": "stderr",
     "output_type": "stream",
     "text": [
      "100%|██████████| 5/5 [00:01<00:00,  4.92it/s]\n"
     ]
    },
    {
     "name": "stdout",
     "output_type": "stream",
     "text": [
      "0.025958061135661233\n"
     ]
    },
    {
     "name": "stderr",
     "output_type": "stream",
     "text": [
      "100%|██████████| 5/5 [00:00<00:00,  5.36it/s]\n"
     ]
    },
    {
     "name": "stdout",
     "output_type": "stream",
     "text": [
      "0.07958133676401673\n"
     ]
    },
    {
     "name": "stderr",
     "output_type": "stream",
     "text": [
      "100%|██████████| 5/5 [00:00<00:00,  5.29it/s]\n"
     ]
    },
    {
     "name": "stdout",
     "output_type": "stream",
     "text": [
      "0.09397091154192425\n"
     ]
    },
    {
     "name": "stderr",
     "output_type": "stream",
     "text": [
      "100%|██████████| 5/5 [00:00<00:00,  5.11it/s]\n",
      "[I 2025-07-24 13:55:56,023] Trial 334 finished with value: 0.07096570230469265 and parameters: {'log2_hidden_layer_0': 2, 'log2_hidden_layer_1': 2, 'lr': 0.00015405870681385814, 'batch_size': 720, 'num_epochs': 5}. Best is trial 198 with value: 0.13282118335902438.\n"
     ]
    },
    {
     "name": "stdout",
     "output_type": "stream",
     "text": [
      "0.08435249977716842\n"
     ]
    },
    {
     "name": "stderr",
     "output_type": "stream",
     "text": [
      "100%|██████████| 5/5 [00:01<00:00,  2.57it/s]\n"
     ]
    },
    {
     "name": "stdout",
     "output_type": "stream",
     "text": [
      "0.09927393595647403\n"
     ]
    },
    {
     "name": "stderr",
     "output_type": "stream",
     "text": [
      "100%|██████████| 5/5 [00:01<00:00,  2.64it/s]\n"
     ]
    },
    {
     "name": "stdout",
     "output_type": "stream",
     "text": [
      "0.1047244728203356\n"
     ]
    },
    {
     "name": "stderr",
     "output_type": "stream",
     "text": [
      "100%|██████████| 5/5 [00:01<00:00,  2.51it/s]\n"
     ]
    },
    {
     "name": "stdout",
     "output_type": "stream",
     "text": [
      "0.11243882190056084\n"
     ]
    },
    {
     "name": "stderr",
     "output_type": "stream",
     "text": [
      "100%|██████████| 5/5 [00:01<00:00,  2.70it/s]\n",
      "[I 2025-07-24 13:56:04,321] Trial 335 finished with value: 0.11062750254014411 and parameters: {'log2_hidden_layer_0': 4, 'log2_hidden_layer_1': 3, 'lr': 0.0002008347904003908, 'batch_size': 360, 'num_epochs': 5}. Best is trial 198 with value: 0.13282118335902438.\n"
     ]
    },
    {
     "name": "stdout",
     "output_type": "stream",
     "text": [
      "0.12607277948320592\n"
     ]
    },
    {
     "name": "stderr",
     "output_type": "stream",
     "text": [
      "100%|██████████| 5/5 [00:05<00:00,  1.08s/it]\n"
     ]
    },
    {
     "name": "stdout",
     "output_type": "stream",
     "text": [
      "0.09936285284544158\n"
     ]
    },
    {
     "name": "stderr",
     "output_type": "stream",
     "text": [
      "100%|██████████| 5/5 [00:05<00:00,  1.08s/it]\n"
     ]
    },
    {
     "name": "stdout",
     "output_type": "stream",
     "text": [
      "0.1045819225788907\n"
     ]
    },
    {
     "name": "stderr",
     "output_type": "stream",
     "text": [
      "100%|██████████| 5/5 [00:05<00:00,  1.11s/it]\n"
     ]
    },
    {
     "name": "stdout",
     "output_type": "stream",
     "text": [
      "0.11445287449109233\n"
     ]
    },
    {
     "name": "stderr",
     "output_type": "stream",
     "text": [
      "100%|██████████| 5/5 [00:05<00:00,  1.05s/it]\n",
      "[I 2025-07-24 13:56:27,493] Trial 336 finished with value: 0.11126346342624639 and parameters: {'log2_hidden_layer_0': 4, 'log2_hidden_layer_1': 3, 'lr': 0.00014144320911640162, 'batch_size': 120, 'num_epochs': 5}. Best is trial 198 with value: 0.13282118335902438.\n"
     ]
    },
    {
     "name": "stdout",
     "output_type": "stream",
     "text": [
      "0.126656203789561\n"
     ]
    },
    {
     "name": "stderr",
     "output_type": "stream",
     "text": [
      "100%|██████████| 5/5 [00:00<00:00,  5.40it/s]\n"
     ]
    },
    {
     "name": "stdout",
     "output_type": "stream",
     "text": [
      "0.09518864726825078\n"
     ]
    },
    {
     "name": "stderr",
     "output_type": "stream",
     "text": [
      "100%|██████████| 5/5 [00:00<00:00,  5.25it/s]\n"
     ]
    },
    {
     "name": "stdout",
     "output_type": "stream",
     "text": [
      "0.09597932296911753\n"
     ]
    },
    {
     "name": "stderr",
     "output_type": "stream",
     "text": [
      "100%|██████████| 5/5 [00:00<00:00,  5.09it/s]\n"
     ]
    },
    {
     "name": "stdout",
     "output_type": "stream",
     "text": [
      "0.11445111670268433\n"
     ]
    },
    {
     "name": "stderr",
     "output_type": "stream",
     "text": [
      "100%|██████████| 5/5 [00:00<00:00,  5.24it/s]\n",
      "[I 2025-07-24 13:56:31,650] Trial 337 finished with value: 0.10474814091242066 and parameters: {'log2_hidden_layer_0': 4, 'log2_hidden_layer_1': 3, 'lr': 0.0005831277898170888, 'batch_size': 720, 'num_epochs': 5}. Best is trial 198 with value: 0.13282118335902438.\n"
     ]
    },
    {
     "name": "stdout",
     "output_type": "stream",
     "text": [
      "0.11337347670962998\n"
     ]
    },
    {
     "name": "stderr",
     "output_type": "stream",
     "text": [
      "100%|██████████| 10/10 [00:01<00:00,  5.09it/s]\n"
     ]
    },
    {
     "name": "stdout",
     "output_type": "stream",
     "text": [
      "0.09934772639887156\n"
     ]
    },
    {
     "name": "stderr",
     "output_type": "stream",
     "text": [
      "100%|██████████| 10/10 [00:01<00:00,  5.19it/s]\n"
     ]
    },
    {
     "name": "stdout",
     "output_type": "stream",
     "text": [
      "0.10754649612698358\n"
     ]
    },
    {
     "name": "stderr",
     "output_type": "stream",
     "text": [
      "100%|██████████| 10/10 [00:01<00:00,  5.35it/s]\n"
     ]
    },
    {
     "name": "stdout",
     "output_type": "stream",
     "text": [
      "0.11236832644515521\n"
     ]
    },
    {
     "name": "stderr",
     "output_type": "stream",
     "text": [
      "100%|██████████| 10/10 [00:01<00:00,  5.37it/s]\n",
      "[I 2025-07-24 13:56:39,584] Trial 338 finished with value: 0.11253018304988793 and parameters: {'log2_hidden_layer_0': 4, 'log2_hidden_layer_1': 3, 'lr': 0.00016810724040328769, 'batch_size': 720, 'num_epochs': 10}. Best is trial 198 with value: 0.13282118335902438.\n"
     ]
    },
    {
     "name": "stdout",
     "output_type": "stream",
     "text": [
      "0.1308581832285414\n"
     ]
    },
    {
     "name": "stderr",
     "output_type": "stream",
     "text": [
      "100%|██████████| 5/5 [00:00<00:00,  5.36it/s]\n"
     ]
    },
    {
     "name": "stdout",
     "output_type": "stream",
     "text": [
      "0.09448101210291392\n"
     ]
    },
    {
     "name": "stderr",
     "output_type": "stream",
     "text": [
      "100%|██████████| 5/5 [00:00<00:00,  5.42it/s]\n"
     ]
    },
    {
     "name": "stdout",
     "output_type": "stream",
     "text": [
      "0.10230563697546333\n"
     ]
    },
    {
     "name": "stderr",
     "output_type": "stream",
     "text": [
      "100%|██████████| 5/5 [00:00<00:00,  5.09it/s]\n"
     ]
    },
    {
     "name": "stdout",
     "output_type": "stream",
     "text": [
      "0.10576261603166151\n"
     ]
    },
    {
     "name": "stderr",
     "output_type": "stream",
     "text": [
      "100%|██████████| 5/5 [00:00<00:00,  5.05it/s]\n",
      "[I 2025-07-24 13:56:43,728] Trial 339 finished with value: 0.1036187199780609 and parameters: {'log2_hidden_layer_0': 4, 'log2_hidden_layer_1': 3, 'lr': 0.00015468665239016488, 'batch_size': 720, 'num_epochs': 5}. Best is trial 198 with value: 0.13282118335902438.\n"
     ]
    },
    {
     "name": "stdout",
     "output_type": "stream",
     "text": [
      "0.11192561480220481\n"
     ]
    },
    {
     "name": "stderr",
     "output_type": "stream",
     "text": [
      "100%|██████████| 5/5 [00:03<00:00,  1.35it/s]\n"
     ]
    },
    {
     "name": "stdout",
     "output_type": "stream",
     "text": [
      "0.015439172166116984\n"
     ]
    },
    {
     "name": "stderr",
     "output_type": "stream",
     "text": [
      "100%|██████████| 5/5 [00:03<00:00,  1.41it/s]\n"
     ]
    },
    {
     "name": "stdout",
     "output_type": "stream",
     "text": [
      "0.003912229672096087\n"
     ]
    },
    {
     "name": "stderr",
     "output_type": "stream",
     "text": [
      "100%|██████████| 5/5 [00:03<00:00,  1.37it/s]\n"
     ]
    },
    {
     "name": "stdout",
     "output_type": "stream",
     "text": [
      "-0.04694645151147945\n"
     ]
    },
    {
     "name": "stderr",
     "output_type": "stream",
     "text": [
      "100%|██████████| 5/5 [00:03<00:00,  1.34it/s]\n",
      "[I 2025-07-24 13:56:59,438] Trial 340 finished with value: -0.007198931182534438 and parameters: {'log2_hidden_layer_0': 4, 'log2_hidden_layer_1': 3, 'lr': 0.007802148420595913, 'batch_size': 180, 'num_epochs': 5}. Best is trial 198 with value: 0.13282118335902438.\n"
     ]
    },
    {
     "name": "stdout",
     "output_type": "stream",
     "text": [
      "-0.0012006750568713726\n"
     ]
    },
    {
     "name": "stderr",
     "output_type": "stream",
     "text": [
      "100%|██████████| 5/5 [00:00<00:00,  5.22it/s]\n"
     ]
    },
    {
     "name": "stdout",
     "output_type": "stream",
     "text": [
      "0.0921766695638214\n"
     ]
    },
    {
     "name": "stderr",
     "output_type": "stream",
     "text": [
      "100%|██████████| 5/5 [00:00<00:00,  5.37it/s]\n"
     ]
    },
    {
     "name": "stdout",
     "output_type": "stream",
     "text": [
      "0.10090748574547553\n"
     ]
    },
    {
     "name": "stderr",
     "output_type": "stream",
     "text": [
      "100%|██████████| 5/5 [00:00<00:00,  5.33it/s]\n"
     ]
    },
    {
     "name": "stdout",
     "output_type": "stream",
     "text": [
      "0.10331260705790392\n"
     ]
    },
    {
     "name": "stderr",
     "output_type": "stream",
     "text": [
      "100%|██████████| 5/5 [00:00<00:00,  5.37it/s]\n",
      "[I 2025-07-24 13:57:03,517] Trial 341 finished with value: 0.10052345091219064 and parameters: {'log2_hidden_layer_0': 4, 'log2_hidden_layer_1': 3, 'lr': 0.0001265366068952386, 'batch_size': 720, 'num_epochs': 5}. Best is trial 198 with value: 0.13282118335902438.\n"
     ]
    },
    {
     "name": "stdout",
     "output_type": "stream",
     "text": [
      "0.10569704128156168\n"
     ]
    },
    {
     "name": "stderr",
     "output_type": "stream",
     "text": [
      "100%|██████████| 5/5 [00:00<00:00,  5.29it/s]\n"
     ]
    },
    {
     "name": "stdout",
     "output_type": "stream",
     "text": [
      "0.09606011158697857\n"
     ]
    },
    {
     "name": "stderr",
     "output_type": "stream",
     "text": [
      "100%|██████████| 5/5 [00:00<00:00,  5.42it/s]\n"
     ]
    },
    {
     "name": "stdout",
     "output_type": "stream",
     "text": [
      "0.10328155893645882\n"
     ]
    },
    {
     "name": "stderr",
     "output_type": "stream",
     "text": [
      "100%|██████████| 5/5 [00:00<00:00,  5.17it/s]\n"
     ]
    },
    {
     "name": "stdout",
     "output_type": "stream",
     "text": [
      "0.10845142979690173\n"
     ]
    },
    {
     "name": "stderr",
     "output_type": "stream",
     "text": [
      "100%|██████████| 5/5 [00:00<00:00,  5.14it/s]\n",
      "[I 2025-07-24 13:57:07,658] Trial 342 finished with value: 0.10644228790983382 and parameters: {'log2_hidden_layer_0': 4, 'log2_hidden_layer_1': 3, 'lr': 0.00018358879660825098, 'batch_size': 720, 'num_epochs': 5}. Best is trial 198 with value: 0.13282118335902438.\n"
     ]
    },
    {
     "name": "stdout",
     "output_type": "stream",
     "text": [
      "0.11797605131899615\n"
     ]
    },
    {
     "name": "stderr",
     "output_type": "stream",
     "text": [
      "100%|██████████| 5/5 [00:00<00:00,  5.06it/s]\n"
     ]
    },
    {
     "name": "stdout",
     "output_type": "stream",
     "text": [
      "0.09381099761632077\n"
     ]
    },
    {
     "name": "stderr",
     "output_type": "stream",
     "text": [
      "100%|██████████| 5/5 [00:00<00:00,  5.07it/s]\n"
     ]
    },
    {
     "name": "stdout",
     "output_type": "stream",
     "text": [
      "0.10167274176743443\n"
     ]
    },
    {
     "name": "stderr",
     "output_type": "stream",
     "text": [
      "100%|██████████| 5/5 [00:00<00:00,  5.06it/s]\n"
     ]
    },
    {
     "name": "stdout",
     "output_type": "stream",
     "text": [
      "0.10473917312746271\n"
     ]
    },
    {
     "name": "stderr",
     "output_type": "stream",
     "text": [
      "100%|██████████| 5/5 [00:00<00:00,  5.28it/s]\n",
      "[I 2025-07-24 13:57:11,898] Trial 343 finished with value: 0.10235632791236522 and parameters: {'log2_hidden_layer_0': 4, 'log2_hidden_layer_1': 3, 'lr': 0.00014108587065109557, 'batch_size': 720, 'num_epochs': 5}. Best is trial 198 with value: 0.13282118335902438.\n"
     ]
    },
    {
     "name": "stdout",
     "output_type": "stream",
     "text": [
      "0.10920239913824299\n"
     ]
    },
    {
     "name": "stderr",
     "output_type": "stream",
     "text": [
      "100%|██████████| 5/5 [00:00<00:00,  5.31it/s]\n"
     ]
    },
    {
     "name": "stdout",
     "output_type": "stream",
     "text": [
      "0.0974143272723055\n"
     ]
    },
    {
     "name": "stderr",
     "output_type": "stream",
     "text": [
      "100%|██████████| 5/5 [00:00<00:00,  5.36it/s]\n"
     ]
    },
    {
     "name": "stdout",
     "output_type": "stream",
     "text": [
      "0.10425634640798179\n"
     ]
    },
    {
     "name": "stderr",
     "output_type": "stream",
     "text": [
      "100%|██████████| 5/5 [00:00<00:00,  5.29it/s]\n"
     ]
    },
    {
     "name": "stdout",
     "output_type": "stream",
     "text": [
      "0.11175664446504768\n"
     ]
    },
    {
     "name": "stderr",
     "output_type": "stream",
     "text": [
      "100%|██████████| 5/5 [00:00<00:00,  5.32it/s]\n",
      "[I 2025-07-24 13:57:15,974] Trial 344 finished with value: 0.10922654991866229 and parameters: {'log2_hidden_layer_0': 4, 'log2_hidden_layer_1': 3, 'lr': 0.00022095698105204778, 'batch_size': 720, 'num_epochs': 5}. Best is trial 198 with value: 0.13282118335902438.\n"
     ]
    },
    {
     "name": "stdout",
     "output_type": "stream",
     "text": [
      "0.12347888152931416\n"
     ]
    },
    {
     "name": "stderr",
     "output_type": "stream",
     "text": [
      "100%|██████████| 5/5 [00:01<00:00,  2.65it/s]\n"
     ]
    },
    {
     "name": "stdout",
     "output_type": "stream",
     "text": [
      "0.09403155904752089\n"
     ]
    },
    {
     "name": "stderr",
     "output_type": "stream",
     "text": [
      "100%|██████████| 5/5 [00:01<00:00,  2.60it/s]\n"
     ]
    },
    {
     "name": "stdout",
     "output_type": "stream",
     "text": [
      "0.10106177824695349\n"
     ]
    },
    {
     "name": "stderr",
     "output_type": "stream",
     "text": [
      "100%|██████████| 5/5 [00:01<00:00,  2.59it/s]\n"
     ]
    },
    {
     "name": "stdout",
     "output_type": "stream",
     "text": [
      "0.10346685748755466\n"
     ]
    },
    {
     "name": "stderr",
     "output_type": "stream",
     "text": [
      "100%|██████████| 5/5 [00:01<00:00,  2.65it/s]\n",
      "[I 2025-07-24 13:57:24,212] Trial 345 finished with value: 0.10079929015219985 and parameters: {'log2_hidden_layer_0': 4, 'log2_hidden_layer_1': 3, 'lr': 0.00010747651185758945, 'batch_size': 360, 'num_epochs': 5}. Best is trial 198 with value: 0.13282118335902438.\n"
     ]
    },
    {
     "name": "stdout",
     "output_type": "stream",
     "text": [
      "0.10463696582677037\n"
     ]
    },
    {
     "name": "stderr",
     "output_type": "stream",
     "text": [
      "100%|██████████| 15/15 [00:02<00:00,  5.34it/s]\n"
     ]
    },
    {
     "name": "stdout",
     "output_type": "stream",
     "text": [
      "0.09944861255957062\n"
     ]
    },
    {
     "name": "stderr",
     "output_type": "stream",
     "text": [
      "100%|██████████| 15/15 [00:02<00:00,  5.32it/s]\n"
     ]
    },
    {
     "name": "stdout",
     "output_type": "stream",
     "text": [
      "0.10696038328566652\n"
     ]
    },
    {
     "name": "stderr",
     "output_type": "stream",
     "text": [
      "100%|██████████| 15/15 [00:02<00:00,  5.09it/s]\n"
     ]
    },
    {
     "name": "stdout",
     "output_type": "stream",
     "text": [
      "0.11398232876524587\n"
     ]
    },
    {
     "name": "stderr",
     "output_type": "stream",
     "text": [
      "100%|██████████| 15/15 [00:02<00:00,  5.20it/s]\n",
      "[I 2025-07-24 13:57:36,002] Trial 346 finished with value: 0.11371970043175024 and parameters: {'log2_hidden_layer_0': 4, 'log2_hidden_layer_1': 3, 'lr': 0.0001634142430953085, 'batch_size': 720, 'num_epochs': 15}. Best is trial 198 with value: 0.13282118335902438.\n"
     ]
    },
    {
     "name": "stdout",
     "output_type": "stream",
     "text": [
      "0.13448747711651793\n"
     ]
    },
    {
     "name": "stderr",
     "output_type": "stream",
     "text": [
      "100%|██████████| 5/5 [00:21<00:00,  4.24s/it]\n"
     ]
    },
    {
     "name": "stdout",
     "output_type": "stream",
     "text": [
      "0.078659388857073\n"
     ]
    },
    {
     "name": "stderr",
     "output_type": "stream",
     "text": [
      "100%|██████████| 5/5 [00:20<00:00,  4.19s/it]\n"
     ]
    },
    {
     "name": "stdout",
     "output_type": "stream",
     "text": [
      "0.09207811487930578\n"
     ]
    },
    {
     "name": "stderr",
     "output_type": "stream",
     "text": [
      "100%|██████████| 5/5 [00:21<00:00,  4.26s/it]\n"
     ]
    },
    {
     "name": "stdout",
     "output_type": "stream",
     "text": [
      "0.12123319065397724\n"
     ]
    },
    {
     "name": "stderr",
     "output_type": "stream",
     "text": [
      "100%|██████████| 5/5 [00:21<00:00,  4.20s/it]\n",
      "[I 2025-07-24 13:59:06,268] Trial 347 finished with value: 0.10553497929720435 and parameters: {'log2_hidden_layer_0': 4, 'log2_hidden_layer_1': 3, 'lr': 0.0001503236110361184, 'batch_size': 30, 'num_epochs': 5}. Best is trial 198 with value: 0.13282118335902438.\n"
     ]
    },
    {
     "name": "stdout",
     "output_type": "stream",
     "text": [
      "0.1301692227984613\n"
     ]
    },
    {
     "name": "stderr",
     "output_type": "stream",
     "text": [
      "100%|██████████| 5/5 [00:00<00:00,  5.44it/s]\n"
     ]
    },
    {
     "name": "stdout",
     "output_type": "stream",
     "text": [
      "0.09301278653421505\n"
     ]
    },
    {
     "name": "stderr",
     "output_type": "stream",
     "text": [
      "100%|██████████| 5/5 [00:00<00:00,  5.36it/s]\n"
     ]
    },
    {
     "name": "stdout",
     "output_type": "stream",
     "text": [
      "0.1013578400149668\n"
     ]
    },
    {
     "name": "stderr",
     "output_type": "stream",
     "text": [
      "100%|██████████| 5/5 [00:00<00:00,  5.26it/s]\n"
     ]
    },
    {
     "name": "stdout",
     "output_type": "stream",
     "text": [
      "0.10404946085452584\n"
     ]
    },
    {
     "name": "stderr",
     "output_type": "stream",
     "text": [
      "100%|██████████| 5/5 [00:00<00:00,  5.36it/s]\n",
      "[I 2025-07-24 13:59:10,328] Trial 348 finished with value: 0.10143555838770675 and parameters: {'log2_hidden_layer_0': 4, 'log2_hidden_layer_1': 3, 'lr': 0.00013343775676684854, 'batch_size': 720, 'num_epochs': 5}. Best is trial 198 with value: 0.13282118335902438.\n"
     ]
    },
    {
     "name": "stdout",
     "output_type": "stream",
     "text": [
      "0.10732214614711934\n"
     ]
    },
    {
     "name": "stderr",
     "output_type": "stream",
     "text": [
      "100%|██████████| 5/5 [00:00<00:00,  5.10it/s]\n"
     ]
    },
    {
     "name": "stdout",
     "output_type": "stream",
     "text": [
      "0.0910974767563385\n"
     ]
    },
    {
     "name": "stderr",
     "output_type": "stream",
     "text": [
      "100%|██████████| 5/5 [00:00<00:00,  5.12it/s]\n"
     ]
    },
    {
     "name": "stdout",
     "output_type": "stream",
     "text": [
      "0.10083378414292234\n"
     ]
    },
    {
     "name": "stderr",
     "output_type": "stream",
     "text": [
      "100%|██████████| 5/5 [00:00<00:00,  5.12it/s]\n"
     ]
    },
    {
     "name": "stdout",
     "output_type": "stream",
     "text": [
      "0.1020575999947419\n"
     ]
    },
    {
     "name": "stderr",
     "output_type": "stream",
     "text": [
      "100%|██████████| 5/5 [00:00<00:00,  5.17it/s]\n",
      "[I 2025-07-24 13:59:14,572] Trial 349 finished with value: 0.09926606327147001 and parameters: {'log2_hidden_layer_0': 4, 'log2_hidden_layer_1': 3, 'lr': 0.00011616009539952952, 'batch_size': 720, 'num_epochs': 5}. Best is trial 198 with value: 0.13282118335902438.\n"
     ]
    },
    {
     "name": "stdout",
     "output_type": "stream",
     "text": [
      "0.10307539219187734\n"
     ]
    },
    {
     "name": "stderr",
     "output_type": "stream",
     "text": [
      "100%|██████████| 5/5 [00:01<00:00,  4.98it/s]\n"
     ]
    },
    {
     "name": "stdout",
     "output_type": "stream",
     "text": [
      "0.1171156599781168\n"
     ]
    },
    {
     "name": "stderr",
     "output_type": "stream",
     "text": [
      "100%|██████████| 5/5 [00:00<00:00,  5.14it/s]\n"
     ]
    },
    {
     "name": "stdout",
     "output_type": "stream",
     "text": [
      "0.13811989632274893\n"
     ]
    },
    {
     "name": "stderr",
     "output_type": "stream",
     "text": [
      "100%|██████████| 5/5 [00:00<00:00,  5.17it/s]\n"
     ]
    },
    {
     "name": "stdout",
     "output_type": "stream",
     "text": [
      "0.13200077260335402\n"
     ]
    },
    {
     "name": "stderr",
     "output_type": "stream",
     "text": [
      "100%|██████████| 5/5 [00:00<00:00,  5.22it/s]\n",
      "[I 2025-07-24 13:59:18,801] Trial 350 finished with value: 0.1196687004764887 and parameters: {'log2_hidden_layer_0': 6, 'log2_hidden_layer_1': 3, 'lr': 0.00018385054165806603, 'batch_size': 720, 'num_epochs': 5}. Best is trial 198 with value: 0.13282118335902438.\n"
     ]
    },
    {
     "name": "stdout",
     "output_type": "stream",
     "text": [
      "0.091438473001735\n"
     ]
    },
    {
     "name": "stderr",
     "output_type": "stream",
     "text": [
      "100%|██████████| 5/5 [00:00<00:00,  5.18it/s]\n"
     ]
    },
    {
     "name": "stdout",
     "output_type": "stream",
     "text": [
      "0.09555041577620872\n"
     ]
    },
    {
     "name": "stderr",
     "output_type": "stream",
     "text": [
      "100%|██████████| 5/5 [00:00<00:00,  5.38it/s]\n"
     ]
    },
    {
     "name": "stdout",
     "output_type": "stream",
     "text": [
      "0.10266223510613659\n"
     ]
    },
    {
     "name": "stderr",
     "output_type": "stream",
     "text": [
      "100%|██████████| 5/5 [00:00<00:00,  5.26it/s]\n"
     ]
    },
    {
     "name": "stdout",
     "output_type": "stream",
     "text": [
      "0.10739767951878537\n"
     ]
    },
    {
     "name": "stderr",
     "output_type": "stream",
     "text": [
      "100%|██████████| 5/5 [00:00<00:00,  5.17it/s]\n",
      "[I 2025-07-24 13:59:22,931] Trial 351 finished with value: 0.10532076957208786 and parameters: {'log2_hidden_layer_0': 4, 'log2_hidden_layer_1': 3, 'lr': 0.00017036944770419278, 'batch_size': 720, 'num_epochs': 5}. Best is trial 198 with value: 0.13282118335902438.\n"
     ]
    },
    {
     "name": "stdout",
     "output_type": "stream",
     "text": [
      "0.11567274788722073\n"
     ]
    },
    {
     "name": "stderr",
     "output_type": "stream",
     "text": [
      "100%|██████████| 5/5 [00:00<00:00,  5.03it/s]\n"
     ]
    },
    {
     "name": "stdout",
     "output_type": "stream",
     "text": [
      "0.09414877709314626\n"
     ]
    },
    {
     "name": "stderr",
     "output_type": "stream",
     "text": [
      "100%|██████████| 5/5 [00:00<00:00,  5.18it/s]\n"
     ]
    },
    {
     "name": "stdout",
     "output_type": "stream",
     "text": [
      "0.10203423947542502\n"
     ]
    },
    {
     "name": "stderr",
     "output_type": "stream",
     "text": [
      "100%|██████████| 5/5 [00:00<00:00,  5.13it/s]\n"
     ]
    },
    {
     "name": "stdout",
     "output_type": "stream",
     "text": [
      "0.10521688021202368\n"
     ]
    },
    {
     "name": "stderr",
     "output_type": "stream",
     "text": [
      "100%|██████████| 5/5 [00:00<00:00,  5.19it/s]\n",
      "[I 2025-07-24 13:59:27,182] Trial 352 finished with value: 0.10309167207586113 and parameters: {'log2_hidden_layer_0': 4, 'log2_hidden_layer_1': 3, 'lr': 0.00014833559830238022, 'batch_size': 720, 'num_epochs': 5}. Best is trial 198 with value: 0.13282118335902438.\n"
     ]
    },
    {
     "name": "stdout",
     "output_type": "stream",
     "text": [
      "0.11096679152284956\n"
     ]
    },
    {
     "name": "stderr",
     "output_type": "stream",
     "text": [
      "100%|██████████| 5/5 [00:00<00:00,  5.10it/s]\n"
     ]
    },
    {
     "name": "stdout",
     "output_type": "stream",
     "text": [
      "0.09314624063893531\n"
     ]
    },
    {
     "name": "stderr",
     "output_type": "stream",
     "text": [
      "100%|██████████| 5/5 [00:00<00:00,  5.34it/s]\n"
     ]
    },
    {
     "name": "stdout",
     "output_type": "stream",
     "text": [
      "0.10139782795258422\n"
     ]
    },
    {
     "name": "stderr",
     "output_type": "stream",
     "text": [
      "100%|██████████| 5/5 [00:00<00:00,  5.31it/s]\n"
     ]
    },
    {
     "name": "stdout",
     "output_type": "stream",
     "text": [
      "0.10417646738767727\n"
     ]
    },
    {
     "name": "stderr",
     "output_type": "stream",
     "text": [
      "100%|██████████| 5/5 [00:00<00:00,  5.38it/s]\n",
      "[I 2025-07-24 13:59:31,291] Trial 353 finished with value: 0.10159418567455193 and parameters: {'log2_hidden_layer_0': 4, 'log2_hidden_layer_1': 3, 'lr': 0.00013471655131193106, 'batch_size': 720, 'num_epochs': 5}. Best is trial 198 with value: 0.13282118335902438.\n"
     ]
    },
    {
     "name": "stdout",
     "output_type": "stream",
     "text": [
      "0.10765620671901092\n"
     ]
    },
    {
     "name": "stderr",
     "output_type": "stream",
     "text": [
      "100%|██████████| 5/5 [00:10<00:00,  2.13s/it]\n"
     ]
    },
    {
     "name": "stdout",
     "output_type": "stream",
     "text": [
      "0.09583791013222734\n"
     ]
    },
    {
     "name": "stderr",
     "output_type": "stream",
     "text": [
      "100%|██████████| 5/5 [00:10<00:00,  2.11s/it]\n"
     ]
    },
    {
     "name": "stdout",
     "output_type": "stream",
     "text": [
      "0.10024345455620445\n"
     ]
    },
    {
     "name": "stderr",
     "output_type": "stream",
     "text": [
      "100%|██████████| 5/5 [00:10<00:00,  2.13s/it]\n"
     ]
    },
    {
     "name": "stdout",
     "output_type": "stream",
     "text": [
      "0.1215728083612422\n"
     ]
    },
    {
     "name": "stderr",
     "output_type": "stream",
     "text": [
      "100%|██████████| 5/5 [00:10<00:00,  2.10s/it]\n",
      "[I 2025-07-24 14:00:16,763] Trial 354 finished with value: 0.11287491370166627 and parameters: {'log2_hidden_layer_0': 4, 'log2_hidden_layer_1': 3, 'lr': 0.00015951286838538937, 'batch_size': 60, 'num_epochs': 5}. Best is trial 198 with value: 0.13282118335902438.\n"
     ]
    },
    {
     "name": "stdout",
     "output_type": "stream",
     "text": [
      "0.1338454817569911\n"
     ]
    },
    {
     "name": "stderr",
     "output_type": "stream",
     "text": [
      "100%|██████████| 5/5 [00:00<00:00,  5.25it/s]\n"
     ]
    },
    {
     "name": "stdout",
     "output_type": "stream",
     "text": [
      "0.09670651154080527\n"
     ]
    },
    {
     "name": "stderr",
     "output_type": "stream",
     "text": [
      "100%|██████████| 5/5 [00:00<00:00,  5.37it/s]\n"
     ]
    },
    {
     "name": "stdout",
     "output_type": "stream",
     "text": [
      "0.10370050020079485\n"
     ]
    },
    {
     "name": "stderr",
     "output_type": "stream",
     "text": [
      "100%|██████████| 5/5 [00:00<00:00,  5.27it/s]\n"
     ]
    },
    {
     "name": "stdout",
     "output_type": "stream",
     "text": [
      "0.10986770800970382\n"
     ]
    },
    {
     "name": "stderr",
     "output_type": "stream",
     "text": [
      "100%|██████████| 5/5 [00:00<00:00,  5.34it/s]\n",
      "[I 2025-07-24 14:00:20,860] Trial 355 finished with value: 0.10770043597907797 and parameters: {'log2_hidden_layer_0': 4, 'log2_hidden_layer_1': 3, 'lr': 0.00019898799889194602, 'batch_size': 720, 'num_epochs': 5}. Best is trial 198 with value: 0.13282118335902438.\n"
     ]
    },
    {
     "name": "stdout",
     "output_type": "stream",
     "text": [
      "0.12052702416500792\n"
     ]
    },
    {
     "name": "stderr",
     "output_type": "stream",
     "text": [
      "100%|██████████| 5/5 [00:01<00:00,  2.69it/s]\n"
     ]
    },
    {
     "name": "stdout",
     "output_type": "stream",
     "text": [
      "0.1133639868389908\n"
     ]
    },
    {
     "name": "stderr",
     "output_type": "stream",
     "text": [
      "100%|██████████| 5/5 [00:01<00:00,  2.68it/s]\n"
     ]
    },
    {
     "name": "stdout",
     "output_type": "stream",
     "text": [
      "0.06971934859405007\n"
     ]
    },
    {
     "name": "stderr",
     "output_type": "stream",
     "text": [
      "100%|██████████| 5/5 [00:01<00:00,  2.60it/s]\n"
     ]
    },
    {
     "name": "stdout",
     "output_type": "stream",
     "text": [
      "0.007067676738074744\n"
     ]
    },
    {
     "name": "stderr",
     "output_type": "stream",
     "text": [
      "100%|██████████| 5/5 [00:01<00:00,  2.62it/s]\n",
      "[I 2025-07-24 14:00:29,026] Trial 356 finished with value: 0.05668797468630784 and parameters: {'log2_hidden_layer_0': 3, 'log2_hidden_layer_1': 3, 'lr': 0.00012208539623396875, 'batch_size': 360, 'num_epochs': 5}. Best is trial 198 with value: 0.13282118335902438.\n"
     ]
    },
    {
     "name": "stdout",
     "output_type": "stream",
     "text": [
      "0.036600886574115754\n"
     ]
    },
    {
     "name": "stderr",
     "output_type": "stream",
     "text": [
      "100%|██████████| 5/5 [00:00<00:00,  5.24it/s]\n"
     ]
    },
    {
     "name": "stdout",
     "output_type": "stream",
     "text": [
      "0.09573865345376162\n"
     ]
    },
    {
     "name": "stderr",
     "output_type": "stream",
     "text": [
      "100%|██████████| 5/5 [00:00<00:00,  5.33it/s]\n"
     ]
    },
    {
     "name": "stdout",
     "output_type": "stream",
     "text": [
      "0.10279433553343692\n"
     ]
    },
    {
     "name": "stderr",
     "output_type": "stream",
     "text": [
      "100%|██████████| 5/5 [00:00<00:00,  5.34it/s]\n"
     ]
    },
    {
     "name": "stdout",
     "output_type": "stream",
     "text": [
      "0.10768210484768413\n"
     ]
    },
    {
     "name": "stderr",
     "output_type": "stream",
     "text": [
      "100%|██████████| 5/5 [00:00<00:00,  5.37it/s]\n",
      "[I 2025-07-24 14:00:33,107] Trial 357 finished with value: 0.10558565918382988 and parameters: {'log2_hidden_layer_0': 4, 'log2_hidden_layer_1': 3, 'lr': 0.0001737704726549563, 'batch_size': 720, 'num_epochs': 5}. Best is trial 198 with value: 0.13282118335902438.\n"
     ]
    },
    {
     "name": "stdout",
     "output_type": "stream",
     "text": [
      "0.11612754290043688\n"
     ]
    },
    {
     "name": "stderr",
     "output_type": "stream",
     "text": [
      "100%|██████████| 5/5 [00:00<00:00,  5.25it/s]\n"
     ]
    },
    {
     "name": "stdout",
     "output_type": "stream",
     "text": [
      "0.09384391252259405\n"
     ]
    },
    {
     "name": "stderr",
     "output_type": "stream",
     "text": [
      "100%|██████████| 5/5 [00:00<00:00,  5.40it/s]\n"
     ]
    },
    {
     "name": "stdout",
     "output_type": "stream",
     "text": [
      "0.1017277690627574\n"
     ]
    },
    {
     "name": "stderr",
     "output_type": "stream",
     "text": [
      "100%|██████████| 5/5 [00:00<00:00,  5.10it/s]\n"
     ]
    },
    {
     "name": "stdout",
     "output_type": "stream",
     "text": [
      "0.10475944707675218\n"
     ]
    },
    {
     "name": "stderr",
     "output_type": "stream",
     "text": [
      "100%|██████████| 5/5 [00:00<00:00,  5.16it/s]\n",
      "[I 2025-07-24 14:00:37,273] Trial 358 finished with value: 0.10239524211631 and parameters: {'log2_hidden_layer_0': 4, 'log2_hidden_layer_1': 3, 'lr': 0.00014172402344186664, 'batch_size': 720, 'num_epochs': 5}. Best is trial 198 with value: 0.13282118335902438.\n"
     ]
    },
    {
     "name": "stdout",
     "output_type": "stream",
     "text": [
      "0.10924983980313635\n"
     ]
    },
    {
     "name": "stderr",
     "output_type": "stream",
     "text": [
      "100%|██████████| 5/5 [00:00<00:00,  5.14it/s]\n"
     ]
    },
    {
     "name": "stdout",
     "output_type": "stream",
     "text": [
      "0.09446058771579076\n"
     ]
    },
    {
     "name": "stderr",
     "output_type": "stream",
     "text": [
      "100%|██████████| 5/5 [00:00<00:00,  5.14it/s]\n"
     ]
    },
    {
     "name": "stdout",
     "output_type": "stream",
     "text": [
      "0.10227014135417878\n"
     ]
    },
    {
     "name": "stderr",
     "output_type": "stream",
     "text": [
      "100%|██████████| 5/5 [00:00<00:00,  5.06it/s]\n"
     ]
    },
    {
     "name": "stdout",
     "output_type": "stream",
     "text": [
      "0.10567216736658575\n"
     ]
    },
    {
     "name": "stderr",
     "output_type": "stream",
     "text": [
      "100%|██████████| 5/5 [00:00<00:00,  5.28it/s]\n",
      "[I 2025-07-24 14:00:41,490] Trial 359 finished with value: 0.10360646869273167 and parameters: {'log2_hidden_layer_0': 4, 'log2_hidden_layer_1': 3, 'lr': 0.0001540450436904458, 'batch_size': 720, 'num_epochs': 5}. Best is trial 198 with value: 0.13282118335902438.\n"
     ]
    },
    {
     "name": "stdout",
     "output_type": "stream",
     "text": [
      "0.1120229783343714\n"
     ]
    },
    {
     "name": "stderr",
     "output_type": "stream",
     "text": [
      "100%|██████████| 10/10 [00:01<00:00,  5.30it/s]\n"
     ]
    },
    {
     "name": "stdout",
     "output_type": "stream",
     "text": [
      "0.09749286865971647\n"
     ]
    },
    {
     "name": "stderr",
     "output_type": "stream",
     "text": [
      "100%|██████████| 10/10 [00:01<00:00,  5.35it/s]\n"
     ]
    },
    {
     "name": "stdout",
     "output_type": "stream",
     "text": [
      "0.10668803077897367\n"
     ]
    },
    {
     "name": "stderr",
     "output_type": "stream",
     "text": [
      "100%|██████████| 10/10 [00:01<00:00,  5.27it/s]\n"
     ]
    },
    {
     "name": "stdout",
     "output_type": "stream",
     "text": [
      "0.10903786400913047\n"
     ]
    },
    {
     "name": "stderr",
     "output_type": "stream",
     "text": [
      "100%|██████████| 10/10 [00:01<00:00,  5.15it/s]\n",
      "[I 2025-07-24 14:00:49,417] Trial 360 finished with value: 0.10955322605775028 and parameters: {'log2_hidden_layer_0': 4, 'log2_hidden_layer_1': 3, 'lr': 0.00013209484785135572, 'batch_size': 720, 'num_epochs': 10}. Best is trial 198 with value: 0.13282118335902438.\n"
     ]
    },
    {
     "name": "stdout",
     "output_type": "stream",
     "text": [
      "0.12499414078318052\n"
     ]
    },
    {
     "name": "stderr",
     "output_type": "stream",
     "text": [
      "100%|██████████| 5/5 [00:00<00:00,  5.10it/s]\n"
     ]
    },
    {
     "name": "stdout",
     "output_type": "stream",
     "text": [
      "0.09503257712843981\n"
     ]
    },
    {
     "name": "stderr",
     "output_type": "stream",
     "text": [
      "100%|██████████| 5/5 [00:01<00:00,  4.84it/s]\n"
     ]
    },
    {
     "name": "stdout",
     "output_type": "stream",
     "text": [
      "0.1023843890257812\n"
     ]
    },
    {
     "name": "stderr",
     "output_type": "stream",
     "text": [
      "100%|██████████| 5/5 [00:00<00:00,  5.05it/s]\n"
     ]
    },
    {
     "name": "stdout",
     "output_type": "stream",
     "text": [
      "0.10633458242020867\n"
     ]
    },
    {
     "name": "stderr",
     "output_type": "stream",
     "text": [
      "100%|██████████| 5/5 [00:00<00:00,  5.26it/s]\n",
      "[I 2025-07-24 14:00:53,704] Trial 361 finished with value: 0.10436824766904097 and parameters: {'log2_hidden_layer_0': 4, 'log2_hidden_layer_1': 3, 'lr': 0.0001618070280871253, 'batch_size': 720, 'num_epochs': 5}. Best is trial 198 with value: 0.13282118335902438.\n"
     ]
    },
    {
     "name": "stdout",
     "output_type": "stream",
     "text": [
      "0.11372144210173424\n"
     ]
    },
    {
     "name": "stderr",
     "output_type": "stream",
     "text": [
      "100%|██████████| 5/5 [00:00<00:00,  5.29it/s]\n"
     ]
    },
    {
     "name": "stdout",
     "output_type": "stream",
     "text": [
      "0.09598708597977486\n"
     ]
    },
    {
     "name": "stderr",
     "output_type": "stream",
     "text": [
      "100%|██████████| 5/5 [00:00<00:00,  5.28it/s]\n"
     ]
    },
    {
     "name": "stdout",
     "output_type": "stream",
     "text": [
      "0.10320668276201632\n"
     ]
    },
    {
     "name": "stderr",
     "output_type": "stream",
     "text": [
      "100%|██████████| 5/5 [00:00<00:00,  5.29it/s]\n"
     ]
    },
    {
     "name": "stdout",
     "output_type": "stream",
     "text": [
      "0.1082792187718385\n"
     ]
    },
    {
     "name": "stderr",
     "output_type": "stream",
     "text": [
      "100%|██████████| 5/5 [00:00<00:00,  5.32it/s]\n",
      "[I 2025-07-24 14:00:57,805] Trial 362 finished with value: 0.10626556418878796 and parameters: {'log2_hidden_layer_0': 4, 'log2_hidden_layer_1': 3, 'lr': 0.00018094269462581573, 'batch_size': 720, 'num_epochs': 5}. Best is trial 198 with value: 0.13282118335902438.\n"
     ]
    },
    {
     "name": "stdout",
     "output_type": "stream",
     "text": [
      "0.11758926924152222\n"
     ]
    },
    {
     "name": "stderr",
     "output_type": "stream",
     "text": [
      "100%|██████████| 5/5 [00:05<00:00,  1.11s/it]\n"
     ]
    },
    {
     "name": "stdout",
     "output_type": "stream",
     "text": [
      "0.09962274508198461\n"
     ]
    },
    {
     "name": "stderr",
     "output_type": "stream",
     "text": [
      "100%|██████████| 5/5 [00:05<00:00,  1.05s/it]\n"
     ]
    },
    {
     "name": "stdout",
     "output_type": "stream",
     "text": [
      "0.10513453324866806\n"
     ]
    },
    {
     "name": "stderr",
     "output_type": "stream",
     "text": [
      "100%|██████████| 5/5 [00:05<00:00,  1.10s/it]\n"
     ]
    },
    {
     "name": "stdout",
     "output_type": "stream",
     "text": [
      "0.1150845325096083\n"
     ]
    },
    {
     "name": "stderr",
     "output_type": "stream",
     "text": [
      "100%|██████████| 5/5 [00:05<00:00,  1.06s/it]\n",
      "[I 2025-07-24 14:01:21,002] Trial 363 finished with value: 0.11196707630572782 and parameters: {'log2_hidden_layer_0': 4, 'log2_hidden_layer_1': 3, 'lr': 0.0001471255514283209, 'batch_size': 120, 'num_epochs': 5}. Best is trial 198 with value: 0.13282118335902438.\n"
     ]
    },
    {
     "name": "stdout",
     "output_type": "stream",
     "text": [
      "0.1280264943826503\n"
     ]
    },
    {
     "name": "stderr",
     "output_type": "stream",
     "text": [
      "100%|██████████| 5/5 [00:00<00:00,  5.40it/s]\n"
     ]
    },
    {
     "name": "stdout",
     "output_type": "stream",
     "text": [
      "0.11722672263617752\n"
     ]
    },
    {
     "name": "stderr",
     "output_type": "stream",
     "text": [
      "100%|██████████| 5/5 [00:00<00:00,  5.21it/s]\n"
     ]
    },
    {
     "name": "stdout",
     "output_type": "stream",
     "text": [
      "0.11520138050321753\n"
     ]
    },
    {
     "name": "stderr",
     "output_type": "stream",
     "text": [
      "100%|██████████| 5/5 [00:00<00:00,  5.07it/s]\n"
     ]
    },
    {
     "name": "stdout",
     "output_type": "stream",
     "text": [
      "0.10182221941986064\n"
     ]
    },
    {
     "name": "stderr",
     "output_type": "stream",
     "text": [
      "100%|██████████| 5/5 [00:00<00:00,  5.11it/s]\n",
      "[I 2025-07-24 14:01:25,197] Trial 364 finished with value: 0.10467051382699355 and parameters: {'log2_hidden_layer_0': 5, 'log2_hidden_layer_1': 3, 'lr': 0.0001261207612642737, 'batch_size': 720, 'num_epochs': 5}. Best is trial 198 with value: 0.13282118335902438.\n"
     ]
    },
    {
     "name": "stdout",
     "output_type": "stream",
     "text": [
      "0.0844317327487185\n"
     ]
    },
    {
     "name": "stderr",
     "output_type": "stream",
     "text": [
      "100%|██████████| 5/5 [00:00<00:00,  5.14it/s]\n"
     ]
    },
    {
     "name": "stdout",
     "output_type": "stream",
     "text": [
      "0.09853971437956334\n"
     ]
    },
    {
     "name": "stderr",
     "output_type": "stream",
     "text": [
      "100%|██████████| 5/5 [00:00<00:00,  5.13it/s]\n"
     ]
    },
    {
     "name": "stdout",
     "output_type": "stream",
     "text": [
      "0.10407134520011797\n"
     ]
    },
    {
     "name": "stderr",
     "output_type": "stream",
     "text": [
      "100%|██████████| 5/5 [00:00<00:00,  5.06it/s]\n"
     ]
    },
    {
     "name": "stdout",
     "output_type": "stream",
     "text": [
      "0.11288410795343158\n"
     ]
    },
    {
     "name": "stderr",
     "output_type": "stream",
     "text": [
      "100%|██████████| 5/5 [00:00<00:00,  5.17it/s]\n",
      "[I 2025-07-24 14:01:29,451] Trial 365 finished with value: 0.1105779674786488 and parameters: {'log2_hidden_layer_0': 4, 'log2_hidden_layer_1': 3, 'lr': 0.0002476770535913737, 'batch_size': 720, 'num_epochs': 5}. Best is trial 198 with value: 0.13282118335902438.\n"
     ]
    },
    {
     "name": "stdout",
     "output_type": "stream",
     "text": [
      "0.1268167023814823\n"
     ]
    },
    {
     "name": "stderr",
     "output_type": "stream",
     "text": [
      "100%|██████████| 5/5 [00:01<00:00,  2.68it/s]\n"
     ]
    },
    {
     "name": "stdout",
     "output_type": "stream",
     "text": [
      "0.0973833251018084\n"
     ]
    },
    {
     "name": "stderr",
     "output_type": "stream",
     "text": [
      "100%|██████████| 5/5 [00:01<00:00,  2.71it/s]\n"
     ]
    },
    {
     "name": "stdout",
     "output_type": "stream",
     "text": [
      "0.10332070985159002\n"
     ]
    },
    {
     "name": "stderr",
     "output_type": "stream",
     "text": [
      "100%|██████████| 5/5 [00:01<00:00,  2.71it/s]\n"
     ]
    },
    {
     "name": "stdout",
     "output_type": "stream",
     "text": [
      "0.10916172568097211\n"
     ]
    },
    {
     "name": "stderr",
     "output_type": "stream",
     "text": [
      "100%|██████████| 5/5 [00:01<00:00,  2.68it/s]\n",
      "[I 2025-07-24 14:01:37,441] Trial 366 finished with value: 0.10698619869357387 and parameters: {'log2_hidden_layer_0': 4, 'log2_hidden_layer_1': 3, 'lr': 0.00015734625469094023, 'batch_size': 360, 'num_epochs': 5}. Best is trial 198 with value: 0.13282118335902438.\n"
     ]
    },
    {
     "name": "stdout",
     "output_type": "stream",
     "text": [
      "0.11807903413992493\n"
     ]
    },
    {
     "name": "stderr",
     "output_type": "stream",
     "text": [
      "100%|██████████| 15/15 [00:02<00:00,  5.12it/s]\n"
     ]
    },
    {
     "name": "stdout",
     "output_type": "stream",
     "text": [
      "0.11756143283016378\n"
     ]
    },
    {
     "name": "stderr",
     "output_type": "stream",
     "text": [
      "100%|██████████| 15/15 [00:02<00:00,  5.22it/s]\n"
     ]
    },
    {
     "name": "stdout",
     "output_type": "stream",
     "text": [
      "0.11061351601794495\n"
     ]
    },
    {
     "name": "stderr",
     "output_type": "stream",
     "text": [
      "100%|██████████| 15/15 [00:02<00:00,  5.32it/s]\n"
     ]
    },
    {
     "name": "stdout",
     "output_type": "stream",
     "text": [
      "0.043324869953768316\n"
     ]
    },
    {
     "name": "stderr",
     "output_type": "stream",
     "text": [
      "100%|██████████| 15/15 [00:02<00:00,  5.31it/s]\n",
      "[I 2025-07-24 14:01:49,217] Trial 367 finished with value: 0.08307489432836833 and parameters: {'log2_hidden_layer_0': 3, 'log2_hidden_layer_1': 3, 'lr': 0.0001410212895300983, 'batch_size': 720, 'num_epochs': 15}. Best is trial 198 with value: 0.13282118335902438.\n"
     ]
    },
    {
     "name": "stdout",
     "output_type": "stream",
     "text": [
      "0.06079975851159625\n"
     ]
    },
    {
     "name": "stderr",
     "output_type": "stream",
     "text": [
      "100%|██████████| 5/5 [00:00<00:00,  5.11it/s]\n"
     ]
    },
    {
     "name": "stdout",
     "output_type": "stream",
     "text": [
      "0.09648352858977394\n"
     ]
    },
    {
     "name": "stderr",
     "output_type": "stream",
     "text": [
      "100%|██████████| 5/5 [00:00<00:00,  5.05it/s]\n"
     ]
    },
    {
     "name": "stdout",
     "output_type": "stream",
     "text": [
      "0.10379764462004229\n"
     ]
    },
    {
     "name": "stderr",
     "output_type": "stream",
     "text": [
      "100%|██████████| 5/5 [00:00<00:00,  5.13it/s]\n"
     ]
    },
    {
     "name": "stdout",
     "output_type": "stream",
     "text": [
      "0.10952958168808008\n"
     ]
    },
    {
     "name": "stderr",
     "output_type": "stream",
     "text": [
      "100%|██████████| 5/5 [00:00<00:00,  5.21it/s]\n",
      "[I 2025-07-24 14:01:53,470] Trial 368 finished with value: 0.10740506778807433 and parameters: {'log2_hidden_layer_0': 4, 'log2_hidden_layer_1': 3, 'lr': 0.00019519186486851068, 'batch_size': 720, 'num_epochs': 5}. Best is trial 198 with value: 0.13282118335902438.\n"
     ]
    },
    {
     "name": "stdout",
     "output_type": "stream",
     "text": [
      "0.119809516254401\n"
     ]
    },
    {
     "name": "stderr",
     "output_type": "stream",
     "text": [
      "100%|██████████| 5/5 [00:00<00:00,  5.09it/s]\n"
     ]
    },
    {
     "name": "stdout",
     "output_type": "stream",
     "text": [
      "0.09545788421681543\n"
     ]
    },
    {
     "name": "stderr",
     "output_type": "stream",
     "text": [
      "100%|██████████| 5/5 [00:00<00:00,  5.15it/s]\n"
     ]
    },
    {
     "name": "stdout",
     "output_type": "stream",
     "text": [
      "0.10246715250738425\n"
     ]
    },
    {
     "name": "stderr",
     "output_type": "stream",
     "text": [
      "100%|██████████| 5/5 [00:00<00:00,  5.18it/s]\n"
     ]
    },
    {
     "name": "stdout",
     "output_type": "stream",
     "text": [
      "0.10710190121955043\n"
     ]
    },
    {
     "name": "stderr",
     "output_type": "stream",
     "text": [
      "100%|██████████| 5/5 [00:00<00:00,  5.39it/s]\n",
      "[I 2025-07-24 14:01:57,634] Trial 369 finished with value: 0.1050700271929141 and parameters: {'log2_hidden_layer_0': 4, 'log2_hidden_layer_1': 3, 'lr': 0.00016742899827544726, 'batch_size': 720, 'num_epochs': 5}. Best is trial 198 with value: 0.13282118335902438.\n"
     ]
    },
    {
     "name": "stdout",
     "output_type": "stream",
     "text": [
      "0.11525317082790626\n"
     ]
    },
    {
     "name": "stderr",
     "output_type": "stream",
     "text": [
      "100%|██████████| 5/5 [00:03<00:00,  1.39it/s]\n"
     ]
    },
    {
     "name": "stdout",
     "output_type": "stream",
     "text": [
      "0.09948361873595271\n"
     ]
    },
    {
     "name": "stderr",
     "output_type": "stream",
     "text": [
      "100%|██████████| 5/5 [00:03<00:00,  1.36it/s]\n"
     ]
    },
    {
     "name": "stdout",
     "output_type": "stream",
     "text": [
      "0.1017109498238815\n"
     ]
    },
    {
     "name": "stderr",
     "output_type": "stream",
     "text": [
      "100%|██████████| 5/5 [00:03<00:00,  1.39it/s]\n"
     ]
    },
    {
     "name": "stdout",
     "output_type": "stream",
     "text": [
      "0.12544896667996336\n"
     ]
    },
    {
     "name": "stderr",
     "output_type": "stream",
     "text": [
      "100%|██████████| 5/5 [00:03<00:00,  1.39it/s]\n",
      "[I 2025-07-24 14:02:13,199] Trial 370 finished with value: 0.11544115359133165 and parameters: {'log2_hidden_layer_0': 4, 'log2_hidden_layer_1': 3, 'lr': 0.00030434155968014686, 'batch_size': 180, 'num_epochs': 5}. Best is trial 198 with value: 0.13282118335902438.\n"
     ]
    },
    {
     "name": "stdout",
     "output_type": "stream",
     "text": [
      "0.13512107912552906\n"
     ]
    },
    {
     "name": "stderr",
     "output_type": "stream",
     "text": [
      "100%|██████████| 5/5 [00:00<00:00,  5.23it/s]\n"
     ]
    },
    {
     "name": "stdout",
     "output_type": "stream",
     "text": [
      "0.09402083299461905\n"
     ]
    },
    {
     "name": "stderr",
     "output_type": "stream",
     "text": [
      "100%|██████████| 5/5 [00:00<00:00,  5.13it/s]\n"
     ]
    },
    {
     "name": "stdout",
     "output_type": "stream",
     "text": [
      "0.1019156008025221\n"
     ]
    },
    {
     "name": "stderr",
     "output_type": "stream",
     "text": [
      "100%|██████████| 5/5 [00:00<00:00,  5.08it/s]\n"
     ]
    },
    {
     "name": "stdout",
     "output_type": "stream",
     "text": [
      "0.1050011490946617\n"
     ]
    },
    {
     "name": "stderr",
     "output_type": "stream",
     "text": [
      "100%|██████████| 5/5 [00:00<00:00,  5.15it/s]\n",
      "[I 2025-07-24 14:02:17,426] Trial 371 finished with value: 0.10278782098628142 and parameters: {'log2_hidden_layer_0': 4, 'log2_hidden_layer_1': 3, 'lr': 0.00014574421935150832, 'batch_size': 720, 'num_epochs': 5}. Best is trial 198 with value: 0.13282118335902438.\n"
     ]
    },
    {
     "name": "stdout",
     "output_type": "stream",
     "text": [
      "0.11021370105332282\n"
     ]
    },
    {
     "name": "stderr",
     "output_type": "stream",
     "text": [
      "100%|██████████| 5/5 [00:20<00:00,  4.14s/it]\n"
     ]
    },
    {
     "name": "stdout",
     "output_type": "stream",
     "text": [
      "0.08524821780594537\n"
     ]
    },
    {
     "name": "stderr",
     "output_type": "stream",
     "text": [
      "100%|██████████| 5/5 [00:20<00:00,  4.17s/it]\n"
     ]
    },
    {
     "name": "stdout",
     "output_type": "stream",
     "text": [
      "0.09528652526555294\n"
     ]
    },
    {
     "name": "stderr",
     "output_type": "stream",
     "text": [
      "100%|██████████| 5/5 [00:20<00:00,  4.19s/it]\n"
     ]
    },
    {
     "name": "stdout",
     "output_type": "stream",
     "text": [
      "0.12163186200728231\n"
     ]
    },
    {
     "name": "stderr",
     "output_type": "stream",
     "text": [
      "100%|██████████| 5/5 [00:20<00:00,  4.13s/it]\n",
      "[I 2025-07-24 14:03:46,526] Trial 372 finished with value: 0.10943408622013684 and parameters: {'log2_hidden_layer_0': 4, 'log2_hidden_layer_1': 3, 'lr': 0.00011506304716906349, 'batch_size': 30, 'num_epochs': 5}. Best is trial 198 with value: 0.13282118335902438.\n"
     ]
    },
    {
     "name": "stdout",
     "output_type": "stream",
     "text": [
      "0.1355697398017667\n"
     ]
    },
    {
     "name": "stderr",
     "output_type": "stream",
     "text": [
      "100%|██████████| 5/5 [00:00<00:00,  5.36it/s]\n"
     ]
    },
    {
     "name": "stdout",
     "output_type": "stream",
     "text": [
      "0.08956535584363827\n"
     ]
    },
    {
     "name": "stderr",
     "output_type": "stream",
     "text": [
      "100%|██████████| 5/5 [00:00<00:00,  5.18it/s]\n"
     ]
    },
    {
     "name": "stdout",
     "output_type": "stream",
     "text": [
      "0.09989294031358198\n"
     ]
    },
    {
     "name": "stderr",
     "output_type": "stream",
     "text": [
      "100%|██████████| 5/5 [00:00<00:00,  5.35it/s]\n"
     ]
    },
    {
     "name": "stdout",
     "output_type": "stream",
     "text": [
      "0.1003898304034564\n"
     ]
    },
    {
     "name": "stderr",
     "output_type": "stream",
     "text": [
      "100%|██████████| 5/5 [00:00<00:00,  5.27it/s]\n",
      "[I 2025-07-24 14:03:50,643] Trial 373 finished with value: 0.09750811053574787 and parameters: {'log2_hidden_layer_0': 4, 'log2_hidden_layer_1': 3, 'lr': 0.00010387671387655042, 'batch_size': 720, 'num_epochs': 5}. Best is trial 198 with value: 0.13282118335902438.\n"
     ]
    },
    {
     "name": "stdout",
     "output_type": "stream",
     "text": [
      "0.10018431558231483\n"
     ]
    },
    {
     "name": "stderr",
     "output_type": "stream",
     "text": [
      "100%|██████████| 5/5 [00:00<00:00,  5.37it/s]\n"
     ]
    },
    {
     "name": "stdout",
     "output_type": "stream",
     "text": [
      "0.09578281540270826\n"
     ]
    },
    {
     "name": "stderr",
     "output_type": "stream",
     "text": [
      "100%|██████████| 5/5 [00:00<00:00,  5.36it/s]\n"
     ]
    },
    {
     "name": "stdout",
     "output_type": "stream",
     "text": [
      "0.10282315017194862\n"
     ]
    },
    {
     "name": "stderr",
     "output_type": "stream",
     "text": [
      "100%|██████████| 5/5 [00:00<00:00,  5.39it/s]\n"
     ]
    },
    {
     "name": "stdout",
     "output_type": "stream",
     "text": [
      "0.10777382922222535\n"
     ]
    },
    {
     "name": "stderr",
     "output_type": "stream",
     "text": [
      "100%|██████████| 5/5 [00:00<00:00,  5.31it/s]\n",
      "[I 2025-07-24 14:03:54,705] Trial 374 finished with value: 0.1056691227937833 and parameters: {'log2_hidden_layer_0': 4, 'log2_hidden_layer_1': 3, 'lr': 0.0001749868358354773, 'batch_size': 720, 'num_epochs': 5}. Best is trial 198 with value: 0.13282118335902438.\n"
     ]
    },
    {
     "name": "stdout",
     "output_type": "stream",
     "text": [
      "0.11629669637825099\n"
     ]
    },
    {
     "name": "stderr",
     "output_type": "stream",
     "text": [
      "100%|██████████| 5/5 [00:00<00:00,  5.11it/s]\n"
     ]
    },
    {
     "name": "stdout",
     "output_type": "stream",
     "text": [
      "0.09278790912105278\n"
     ]
    },
    {
     "name": "stderr",
     "output_type": "stream",
     "text": [
      "100%|██████████| 5/5 [00:00<00:00,  5.18it/s]\n"
     ]
    },
    {
     "name": "stdout",
     "output_type": "stream",
     "text": [
      "0.10119141808373927\n"
     ]
    },
    {
     "name": "stderr",
     "output_type": "stream",
     "text": [
      "100%|██████████| 5/5 [00:00<00:00,  5.15it/s]\n"
     ]
    },
    {
     "name": "stdout",
     "output_type": "stream",
     "text": [
      "0.103874253003749\n"
     ]
    },
    {
     "name": "stderr",
     "output_type": "stream",
     "text": [
      "100%|██████████| 5/5 [00:00<00:00,  5.22it/s]\n",
      "[I 2025-07-24 14:03:58,908] Trial 375 finished with value: 0.10118867599080661 and parameters: {'log2_hidden_layer_0': 4, 'log2_hidden_layer_1': 3, 'lr': 0.0001314091915996505, 'batch_size': 720, 'num_epochs': 5}. Best is trial 198 with value: 0.13282118335902438.\n"
     ]
    },
    {
     "name": "stdout",
     "output_type": "stream",
     "text": [
      "0.1069011237546854\n"
     ]
    },
    {
     "name": "stderr",
     "output_type": "stream",
     "text": [
      "100%|██████████| 5/5 [00:01<00:00,  2.62it/s]\n"
     ]
    },
    {
     "name": "stdout",
     "output_type": "stream",
     "text": [
      "0.09737431038060147\n"
     ]
    },
    {
     "name": "stderr",
     "output_type": "stream",
     "text": [
      "100%|██████████| 5/5 [00:01<00:00,  2.74it/s]\n"
     ]
    },
    {
     "name": "stdout",
     "output_type": "stream",
     "text": [
      "0.10334298795922622\n"
     ]
    },
    {
     "name": "stderr",
     "output_type": "stream",
     "text": [
      "100%|██████████| 5/5 [00:01<00:00,  2.72it/s]\n"
     ]
    },
    {
     "name": "stdout",
     "output_type": "stream",
     "text": [
      "0.10904981199077876\n"
     ]
    },
    {
     "name": "stderr",
     "output_type": "stream",
     "text": [
      "100%|██████████| 5/5 [00:01<00:00,  2.74it/s]\n",
      "[I 2025-07-24 14:04:06,856] Trial 376 finished with value: 0.10693130688574944 and parameters: {'log2_hidden_layer_0': 4, 'log2_hidden_layer_1': 3, 'lr': 0.00015674716299964963, 'batch_size': 360, 'num_epochs': 5}. Best is trial 198 with value: 0.13282118335902438.\n"
     ]
    },
    {
     "name": "stdout",
     "output_type": "stream",
     "text": [
      "0.11795811721239129\n"
     ]
    },
    {
     "name": "stderr",
     "output_type": "stream",
     "text": [
      "100%|██████████| 5/5 [00:00<00:00,  5.10it/s]\n"
     ]
    },
    {
     "name": "stdout",
     "output_type": "stream",
     "text": [
      "0.09626209243081553\n"
     ]
    },
    {
     "name": "stderr",
     "output_type": "stream",
     "text": [
      "100%|██████████| 5/5 [00:00<00:00,  5.18it/s]\n"
     ]
    },
    {
     "name": "stdout",
     "output_type": "stream",
     "text": [
      "0.10360728383928822\n"
     ]
    },
    {
     "name": "stderr",
     "output_type": "stream",
     "text": [
      "100%|██████████| 5/5 [00:00<00:00,  5.22it/s]\n"
     ]
    },
    {
     "name": "stdout",
     "output_type": "stream",
     "text": [
      "0.10903665657459763\n"
     ]
    },
    {
     "name": "stderr",
     "output_type": "stream",
     "text": [
      "100%|██████████| 5/5 [00:00<00:00,  5.15it/s]\n",
      "[I 2025-07-24 14:04:11,076] Trial 377 finished with value: 0.10687216561178495 and parameters: {'log2_hidden_layer_0': 4, 'log2_hidden_layer_1': 3, 'lr': 0.00018829766996044167, 'batch_size': 720, 'num_epochs': 5}. Best is trial 198 with value: 0.13282118335902438.\n"
     ]
    },
    {
     "name": "stdout",
     "output_type": "stream",
     "text": [
      "0.1185826296024384\n"
     ]
    },
    {
     "name": "stderr",
     "output_type": "stream",
     "text": [
      "100%|██████████| 5/5 [00:00<00:00,  5.11it/s]\n"
     ]
    },
    {
     "name": "stdout",
     "output_type": "stream",
     "text": [
      "0.09383022669967396\n"
     ]
    },
    {
     "name": "stderr",
     "output_type": "stream",
     "text": [
      "100%|██████████| 5/5 [00:00<00:00,  5.05it/s]\n"
     ]
    },
    {
     "name": "stdout",
     "output_type": "stream",
     "text": [
      "0.10170583404955771\n"
     ]
    },
    {
     "name": "stderr",
     "output_type": "stream",
     "text": [
      "100%|██████████| 5/5 [00:00<00:00,  5.26it/s]\n"
     ]
    },
    {
     "name": "stdout",
     "output_type": "stream",
     "text": [
      "0.10473823982985919\n"
     ]
    },
    {
     "name": "stderr",
     "output_type": "stream",
     "text": [
      "100%|██████████| 5/5 [00:00<00:00,  5.24it/s]\n",
      "[I 2025-07-24 14:04:15,267] Trial 378 finished with value: 0.10238527935245773 and parameters: {'log2_hidden_layer_0': 4, 'log2_hidden_layer_1': 3, 'lr': 0.00014151688732802668, 'batch_size': 720, 'num_epochs': 5}. Best is trial 198 with value: 0.13282118335902438.\n"
     ]
    },
    {
     "name": "stdout",
     "output_type": "stream",
     "text": [
      "0.10926681683074002\n"
     ]
    },
    {
     "name": "stderr",
     "output_type": "stream",
     "text": [
      "100%|██████████| 5/5 [00:00<00:00,  5.30it/s]\n"
     ]
    },
    {
     "name": "stdout",
     "output_type": "stream",
     "text": [
      "0.09534664242075765\n"
     ]
    },
    {
     "name": "stderr",
     "output_type": "stream",
     "text": [
      "100%|██████████| 5/5 [00:00<00:00,  5.40it/s]\n"
     ]
    },
    {
     "name": "stdout",
     "output_type": "stream",
     "text": [
      "0.1024933749540247\n"
     ]
    },
    {
     "name": "stderr",
     "output_type": "stream",
     "text": [
      "100%|██████████| 5/5 [00:00<00:00,  5.20it/s]\n"
     ]
    },
    {
     "name": "stdout",
     "output_type": "stream",
     "text": [
      "0.10681188196963741\n"
     ]
    },
    {
     "name": "stderr",
     "output_type": "stream",
     "text": [
      "100%|██████████| 5/5 [00:00<00:00,  5.02it/s]\n",
      "[I 2025-07-24 14:04:19,423] Trial 379 finished with value: 0.10476695376811482 and parameters: {'log2_hidden_layer_0': 4, 'log2_hidden_layer_1': 3, 'lr': 0.00016471697949226722, 'batch_size': 720, 'num_epochs': 5}. Best is trial 198 with value: 0.13282118335902438.\n"
     ]
    },
    {
     "name": "stdout",
     "output_type": "stream",
     "text": [
      "0.11441591572803947\n"
     ]
    },
    {
     "name": "stderr",
     "output_type": "stream",
     "text": [
      "100%|██████████| 5/5 [00:01<00:00,  5.00it/s]\n"
     ]
    },
    {
     "name": "stdout",
     "output_type": "stream",
     "text": [
      "0.09175065128617305\n"
     ]
    },
    {
     "name": "stderr",
     "output_type": "stream",
     "text": [
      "100%|██████████| 5/5 [00:00<00:00,  5.27it/s]\n"
     ]
    },
    {
     "name": "stdout",
     "output_type": "stream",
     "text": [
      "0.10071131695101118\n"
     ]
    },
    {
     "name": "stderr",
     "output_type": "stream",
     "text": [
      "100%|██████████| 5/5 [00:00<00:00,  5.02it/s]\n"
     ]
    },
    {
     "name": "stdout",
     "output_type": "stream",
     "text": [
      "0.102958952276631\n"
     ]
    },
    {
     "name": "stderr",
     "output_type": "stream",
     "text": [
      "100%|██████████| 5/5 [00:00<00:00,  5.23it/s]\n",
      "[I 2025-07-24 14:04:23,660] Trial 380 finished with value: 0.10003022699976771 and parameters: {'log2_hidden_layer_0': 4, 'log2_hidden_layer_1': 3, 'lr': 0.00012271341290996408, 'batch_size': 720, 'num_epochs': 5}. Best is trial 198 with value: 0.13282118335902438.\n"
     ]
    },
    {
     "name": "stdout",
     "output_type": "stream",
     "text": [
      "0.10469998748525558\n"
     ]
    },
    {
     "name": "stderr",
     "output_type": "stream",
     "text": [
      "100%|██████████| 5/5 [00:00<00:00,  5.17it/s]\n"
     ]
    },
    {
     "name": "stdout",
     "output_type": "stream",
     "text": [
      "0.09440359146444247\n"
     ]
    },
    {
     "name": "stderr",
     "output_type": "stream",
     "text": [
      "100%|██████████| 5/5 [00:00<00:00,  5.37it/s]\n"
     ]
    },
    {
     "name": "stdout",
     "output_type": "stream",
     "text": [
      "0.10219926815506765\n"
     ]
    },
    {
     "name": "stderr",
     "output_type": "stream",
     "text": [
      "100%|██████████| 5/5 [00:00<00:00,  5.31it/s]\n"
     ]
    },
    {
     "name": "stdout",
     "output_type": "stream",
     "text": [
      "0.10558575564683212\n"
     ]
    },
    {
     "name": "stderr",
     "output_type": "stream",
     "text": [
      "100%|██████████| 5/5 [00:00<00:00,  5.36it/s]\n",
      "[I 2025-07-24 14:04:27,754] Trial 381 finished with value: 0.10347827549333803 and parameters: {'log2_hidden_layer_0': 4, 'log2_hidden_layer_1': 3, 'lr': 0.00015202080966489592, 'batch_size': 720, 'num_epochs': 5}. Best is trial 198 with value: 0.13282118335902438.\n"
     ]
    },
    {
     "name": "stdout",
     "output_type": "stream",
     "text": [
      "0.11172448670700989\n"
     ]
    },
    {
     "name": "stderr",
     "output_type": "stream",
     "text": [
      "100%|██████████| 10/10 [00:21<00:00,  2.12s/it]\n"
     ]
    },
    {
     "name": "stdout",
     "output_type": "stream",
     "text": [
      "0.07884942027370916\n"
     ]
    },
    {
     "name": "stderr",
     "output_type": "stream",
     "text": [
      "100%|██████████| 10/10 [00:21<00:00,  2.10s/it]\n"
     ]
    },
    {
     "name": "stdout",
     "output_type": "stream",
     "text": [
      "0.0847036198986792\n"
     ]
    },
    {
     "name": "stderr",
     "output_type": "stream",
     "text": [
      "100%|██████████| 10/10 [00:21<00:00,  2.12s/it]\n"
     ]
    },
    {
     "name": "stdout",
     "output_type": "stream",
     "text": [
      "0.09588146177101964\n"
     ]
    },
    {
     "name": "stderr",
     "output_type": "stream",
     "text": [
      "100%|██████████| 10/10 [00:21<00:00,  2.11s/it]\n",
      "[I 2025-07-24 14:05:55,471] Trial 382 finished with value: 0.09350088669131429 and parameters: {'log2_hidden_layer_0': 4, 'log2_hidden_layer_1': 3, 'lr': 0.00022059994510092372, 'batch_size': 60, 'num_epochs': 10}. Best is trial 198 with value: 0.13282118335902438.\n"
     ]
    },
    {
     "name": "stdout",
     "output_type": "stream",
     "text": [
      "0.11456904482184913\n"
     ]
    },
    {
     "name": "stderr",
     "output_type": "stream",
     "text": [
      "100%|██████████| 5/5 [00:00<00:00,  5.47it/s]\n"
     ]
    },
    {
     "name": "stdout",
     "output_type": "stream",
     "text": [
      "0.09583113387424412\n"
     ]
    },
    {
     "name": "stderr",
     "output_type": "stream",
     "text": [
      "100%|██████████| 5/5 [00:00<00:00,  5.40it/s]\n"
     ]
    },
    {
     "name": "stdout",
     "output_type": "stream",
     "text": [
      "0.10287010394175673\n"
     ]
    },
    {
     "name": "stderr",
     "output_type": "stream",
     "text": [
      "100%|██████████| 5/5 [00:00<00:00,  5.36it/s]\n"
     ]
    },
    {
     "name": "stdout",
     "output_type": "stream",
     "text": [
      "0.10784836384712863\n"
     ]
    },
    {
     "name": "stderr",
     "output_type": "stream",
     "text": [
      "100%|██████████| 5/5 [00:00<00:00,  5.29it/s]\n",
      "[I 2025-07-24 14:05:59,509] Trial 383 finished with value: 0.10575456632230888 and parameters: {'log2_hidden_layer_0': 4, 'log2_hidden_layer_1': 3, 'lr': 0.0001756715582060961, 'batch_size': 720, 'num_epochs': 5}. Best is trial 198 with value: 0.13282118335902438.\n"
     ]
    },
    {
     "name": "stdout",
     "output_type": "stream",
     "text": [
      "0.11646866362610601\n"
     ]
    },
    {
     "name": "stderr",
     "output_type": "stream",
     "text": [
      "100%|██████████| 5/5 [00:00<00:00,  5.21it/s]\n"
     ]
    },
    {
     "name": "stdout",
     "output_type": "stream",
     "text": [
      "0.09306824851849477\n"
     ]
    },
    {
     "name": "stderr",
     "output_type": "stream",
     "text": [
      "100%|██████████| 5/5 [00:00<00:00,  5.21it/s]\n"
     ]
    },
    {
     "name": "stdout",
     "output_type": "stream",
     "text": [
      "0.10137481093713757\n"
     ]
    },
    {
     "name": "stderr",
     "output_type": "stream",
     "text": [
      "100%|██████████| 5/5 [00:00<00:00,  5.08it/s]\n"
     ]
    },
    {
     "name": "stdout",
     "output_type": "stream",
     "text": [
      "0.10410986238412823\n"
     ]
    },
    {
     "name": "stderr",
     "output_type": "stream",
     "text": [
      "100%|██████████| 5/5 [00:00<00:00,  5.14it/s]\n",
      "[I 2025-07-24 14:06:03,722] Trial 384 finished with value: 0.1014899515481904 and parameters: {'log2_hidden_layer_0': 4, 'log2_hidden_layer_1': 3, 'lr': 0.00013394221743197833, 'batch_size': 720, 'num_epochs': 5}. Best is trial 198 with value: 0.13282118335902438.\n"
     ]
    },
    {
     "name": "stdout",
     "output_type": "stream",
     "text": [
      "0.10740688435300104\n"
     ]
    },
    {
     "name": "stderr",
     "output_type": "stream",
     "text": [
      "100%|██████████| 5/5 [00:00<00:00,  5.23it/s]\n"
     ]
    },
    {
     "name": "stdout",
     "output_type": "stream",
     "text": [
      "0.09449409317352032\n"
     ]
    },
    {
     "name": "stderr",
     "output_type": "stream",
     "text": [
      "100%|██████████| 5/5 [00:00<00:00,  5.42it/s]\n"
     ]
    },
    {
     "name": "stdout",
     "output_type": "stream",
     "text": [
      "0.10239148244977654\n"
     ]
    },
    {
     "name": "stderr",
     "output_type": "stream",
     "text": [
      "100%|██████████| 5/5 [00:00<00:00,  5.33it/s]\n"
     ]
    },
    {
     "name": "stdout",
     "output_type": "stream",
     "text": [
      "0.10575504090452065\n"
     ]
    },
    {
     "name": "stderr",
     "output_type": "stream",
     "text": [
      "100%|██████████| 5/5 [00:00<00:00,  5.45it/s]\n",
      "[I 2025-07-24 14:06:07,773] Trial 385 finished with value: 0.10364784087784207 and parameters: {'log2_hidden_layer_0': 4, 'log2_hidden_layer_1': 3, 'lr': 0.00015486903734268707, 'batch_size': 720, 'num_epochs': 5}. Best is trial 198 with value: 0.13282118335902438.\n"
     ]
    },
    {
     "name": "stdout",
     "output_type": "stream",
     "text": [
      "0.1119507469835508\n"
     ]
    },
    {
     "name": "stderr",
     "output_type": "stream",
     "text": [
      "100%|██████████| 5/5 [00:01<00:00,  2.70it/s]\n"
     ]
    },
    {
     "name": "stdout",
     "output_type": "stream",
     "text": [
      "0.11728261784536365\n"
     ]
    },
    {
     "name": "stderr",
     "output_type": "stream",
     "text": [
      "100%|██████████| 5/5 [00:01<00:00,  2.69it/s]\n"
     ]
    },
    {
     "name": "stdout",
     "output_type": "stream",
     "text": [
      "0.122197438521481\n"
     ]
    },
    {
     "name": "stderr",
     "output_type": "stream",
     "text": [
      "100%|██████████| 5/5 [00:01<00:00,  2.58it/s]\n"
     ]
    },
    {
     "name": "stdout",
     "output_type": "stream",
     "text": [
      "0.11579656928667117\n"
     ]
    },
    {
     "name": "stderr",
     "output_type": "stream",
     "text": [
      "100%|██████████| 5/5 [00:01<00:00,  2.62it/s]\n",
      "[I 2025-07-24 14:06:15,946] Trial 386 finished with value: 0.11532815965691758 and parameters: {'log2_hidden_layer_0': 5, 'log2_hidden_layer_1': 3, 'lr': 0.0002070308946971429, 'batch_size': 360, 'num_epochs': 5}. Best is trial 198 with value: 0.13282118335902438.\n"
     ]
    },
    {
     "name": "stdout",
     "output_type": "stream",
     "text": [
      "0.10603601297415449\n"
     ]
    },
    {
     "name": "stderr",
     "output_type": "stream",
     "text": [
      "100%|██████████| 5/5 [00:00<00:00,  5.18it/s]\n"
     ]
    },
    {
     "name": "stdout",
     "output_type": "stream",
     "text": [
      "0.09384540707712082\n"
     ]
    },
    {
     "name": "stderr",
     "output_type": "stream",
     "text": [
      "100%|██████████| 5/5 [00:00<00:00,  5.29it/s]\n"
     ]
    },
    {
     "name": "stdout",
     "output_type": "stream",
     "text": [
      "0.10176591223848189\n"
     ]
    },
    {
     "name": "stderr",
     "output_type": "stream",
     "text": [
      "100%|██████████| 5/5 [00:00<00:00,  5.33it/s]\n"
     ]
    },
    {
     "name": "stdout",
     "output_type": "stream",
     "text": [
      "0.10478887071228231\n"
     ]
    },
    {
     "name": "stderr",
     "output_type": "stream",
     "text": [
      "100%|██████████| 5/5 [00:00<00:00,  5.39it/s]\n",
      "[I 2025-07-24 14:06:20,047] Trial 387 finished with value: 0.10242658417485437 and parameters: {'log2_hidden_layer_0': 4, 'log2_hidden_layer_1': 3, 'lr': 0.00014214379809115082, 'batch_size': 720, 'num_epochs': 5}. Best is trial 198 with value: 0.13282118335902438.\n"
     ]
    },
    {
     "name": "stdout",
     "output_type": "stream",
     "text": [
      "0.10930614667153242\n"
     ]
    },
    {
     "name": "stderr",
     "output_type": "stream",
     "text": [
      "100%|██████████| 5/5 [00:00<00:00,  5.28it/s]\n"
     ]
    },
    {
     "name": "stdout",
     "output_type": "stream",
     "text": [
      "0.09555959380832214\n"
     ]
    },
    {
     "name": "stderr",
     "output_type": "stream",
     "text": [
      "100%|██████████| 5/5 [00:00<00:00,  5.38it/s]\n"
     ]
    },
    {
     "name": "stdout",
     "output_type": "stream",
     "text": [
      "0.10264610599420407\n"
     ]
    },
    {
     "name": "stderr",
     "output_type": "stream",
     "text": [
      "100%|██████████| 5/5 [00:00<00:00,  5.35it/s]\n"
     ]
    },
    {
     "name": "stdout",
     "output_type": "stream",
     "text": [
      "0.10738821729393244\n"
     ]
    },
    {
     "name": "stderr",
     "output_type": "stream",
     "text": [
      "100%|██████████| 5/5 [00:00<00:00,  5.31it/s]\n",
      "[I 2025-07-24 14:06:24,132] Trial 388 finished with value: 0.10532337730642446 and parameters: {'log2_hidden_layer_0': 4, 'log2_hidden_layer_1': 3, 'lr': 0.00017044572230660382, 'batch_size': 720, 'num_epochs': 5}. Best is trial 198 with value: 0.13282118335902438.\n"
     ]
    },
    {
     "name": "stdout",
     "output_type": "stream",
     "text": [
      "0.11569959212923918\n"
     ]
    },
    {
     "name": "stderr",
     "output_type": "stream",
     "text": [
      "100%|██████████| 15/15 [00:02<00:00,  5.18it/s]\n"
     ]
    },
    {
     "name": "stdout",
     "output_type": "stream",
     "text": [
      "0.09901153113979827\n"
     ]
    },
    {
     "name": "stderr",
     "output_type": "stream",
     "text": [
      "100%|██████████| 15/15 [00:02<00:00,  5.27it/s]\n"
     ]
    },
    {
     "name": "stdout",
     "output_type": "stream",
     "text": [
      "0.1088688268002931\n"
     ]
    },
    {
     "name": "stderr",
     "output_type": "stream",
     "text": [
      "100%|██████████| 15/15 [00:02<00:00,  5.35it/s]\n"
     ]
    },
    {
     "name": "stdout",
     "output_type": "stream",
     "text": [
      "0.11116705364190052\n"
     ]
    },
    {
     "name": "stderr",
     "output_type": "stream",
     "text": [
      "100%|██████████| 15/15 [00:02<00:00,  5.33it/s]\n",
      "[I 2025-07-24 14:06:35,839] Trial 389 finished with value: 0.1123827329593686 and parameters: {'log2_hidden_layer_0': 4, 'log2_hidden_layer_1': 3, 'lr': 0.00012201712808658674, 'batch_size': 720, 'num_epochs': 15}. Best is trial 198 with value: 0.13282118335902438.\n"
     ]
    },
    {
     "name": "stdout",
     "output_type": "stream",
     "text": [
      "0.13048352025548252\n"
     ]
    },
    {
     "name": "stderr",
     "output_type": "stream",
     "text": [
      "100%|██████████| 5/5 [00:00<00:00,  5.22it/s]\n"
     ]
    },
    {
     "name": "stdout",
     "output_type": "stream",
     "text": [
      "0.09625286730319416\n"
     ]
    },
    {
     "name": "stderr",
     "output_type": "stream",
     "text": [
      "100%|██████████| 5/5 [00:00<00:00,  5.19it/s]\n"
     ]
    },
    {
     "name": "stdout",
     "output_type": "stream",
     "text": [
      "0.10367891640160007\n"
     ]
    },
    {
     "name": "stderr",
     "output_type": "stream",
     "text": [
      "100%|██████████| 5/5 [00:00<00:00,  5.18it/s]\n"
     ]
    },
    {
     "name": "stdout",
     "output_type": "stream",
     "text": [
      "0.10907869047921656\n"
     ]
    },
    {
     "name": "stderr",
     "output_type": "stream",
     "text": [
      "100%|██████████| 5/5 [00:00<00:00,  5.20it/s]\n",
      "[I 2025-07-24 14:06:40,033] Trial 390 finished with value: 0.10693979464069832 and parameters: {'log2_hidden_layer_0': 4, 'log2_hidden_layer_1': 3, 'lr': 0.00018937773333323313, 'batch_size': 720, 'num_epochs': 5}. Best is trial 198 with value: 0.13282118335902438.\n"
     ]
    },
    {
     "name": "stdout",
     "output_type": "stream",
     "text": [
      "0.1187487043787825\n"
     ]
    },
    {
     "name": "stderr",
     "output_type": "stream",
     "text": [
      "100%|██████████| 5/5 [00:05<00:00,  1.04s/it]\n"
     ]
    },
    {
     "name": "stdout",
     "output_type": "stream",
     "text": [
      "0.09893252739423801\n"
     ]
    },
    {
     "name": "stderr",
     "output_type": "stream",
     "text": [
      "100%|██████████| 5/5 [00:05<00:00,  1.06s/it]\n"
     ]
    },
    {
     "name": "stdout",
     "output_type": "stream",
     "text": [
      "0.10500543180261598\n"
     ]
    },
    {
     "name": "stderr",
     "output_type": "stream",
     "text": [
      "100%|██████████| 5/5 [00:05<00:00,  1.06s/it]\n"
     ]
    },
    {
     "name": "stdout",
     "output_type": "stream",
     "text": [
      "0.11368803281569394\n"
     ]
    },
    {
     "name": "stderr",
     "output_type": "stream",
     "text": [
      "100%|██████████| 5/5 [00:05<00:00,  1.04s/it]\n",
      "[I 2025-07-24 14:07:02,675] Trial 391 finished with value: 0.11083667920285184 and parameters: {'log2_hidden_layer_0': 4, 'log2_hidden_layer_1': 3, 'lr': 0.00013490841003097206, 'batch_size': 120, 'num_epochs': 5}. Best is trial 198 with value: 0.13282118335902438.\n"
     ]
    },
    {
     "name": "stdout",
     "output_type": "stream",
     "text": [
      "0.12572072479885943\n"
     ]
    },
    {
     "name": "stderr",
     "output_type": "stream",
     "text": [
      "100%|██████████| 5/5 [00:00<00:00,  5.25it/s]\n"
     ]
    },
    {
     "name": "stdout",
     "output_type": "stream",
     "text": [
      "0.09469289744982674\n"
     ]
    },
    {
     "name": "stderr",
     "output_type": "stream",
     "text": [
      "100%|██████████| 5/5 [00:00<00:00,  5.21it/s]\n"
     ]
    },
    {
     "name": "stdout",
     "output_type": "stream",
     "text": [
      "0.10236964483604946\n"
     ]
    },
    {
     "name": "stderr",
     "output_type": "stream",
     "text": [
      "100%|██████████| 5/5 [00:00<00:00,  5.20it/s]\n"
     ]
    },
    {
     "name": "stdout",
     "output_type": "stream",
     "text": [
      "0.10595699508134739\n"
     ]
    },
    {
     "name": "stderr",
     "output_type": "stream",
     "text": [
      "100%|██████████| 5/5 [00:00<00:00,  5.34it/s]\n",
      "[I 2025-07-24 14:07:06,822] Trial 392 finished with value: 0.10390711481076216 and parameters: {'log2_hidden_layer_0': 4, 'log2_hidden_layer_1': 3, 'lr': 0.00015727568607157573, 'batch_size': 720, 'num_epochs': 5}. Best is trial 198 with value: 0.13282118335902438.\n"
     ]
    },
    {
     "name": "stdout",
     "output_type": "stream",
     "text": [
      "0.11260892187582507\n"
     ]
    },
    {
     "name": "stderr",
     "output_type": "stream",
     "text": [
      "100%|██████████| 5/5 [00:00<00:00,  5.36it/s]\n"
     ]
    },
    {
     "name": "stdout",
     "output_type": "stream",
     "text": [
      "0.09402610847918412\n"
     ]
    },
    {
     "name": "stderr",
     "output_type": "stream",
     "text": [
      "100%|██████████| 5/5 [00:00<00:00,  5.42it/s]\n"
     ]
    },
    {
     "name": "stdout",
     "output_type": "stream",
     "text": [
      "0.10190429339473599\n"
     ]
    },
    {
     "name": "stderr",
     "output_type": "stream",
     "text": [
      "100%|██████████| 5/5 [00:00<00:00,  5.33it/s]\n"
     ]
    },
    {
     "name": "stdout",
     "output_type": "stream",
     "text": [
      "0.10501215025567884\n"
     ]
    },
    {
     "name": "stderr",
     "output_type": "stream",
     "text": [
      "100%|██████████| 5/5 [00:00<00:00,  5.32it/s]\n",
      "[I 2025-07-24 14:07:10,865] Trial 393 finished with value: 0.10279426494914495 and parameters: {'log2_hidden_layer_0': 4, 'log2_hidden_layer_1': 3, 'lr': 0.0001458178925503053, 'batch_size': 720, 'num_epochs': 5}. Best is trial 198 with value: 0.13282118335902438.\n"
     ]
    },
    {
     "name": "stdout",
     "output_type": "stream",
     "text": [
      "0.11023450766698087\n"
     ]
    },
    {
     "name": "stderr",
     "output_type": "stream",
     "text": [
      "100%|██████████| 5/5 [00:00<00:00,  5.36it/s]\n"
     ]
    },
    {
     "name": "stdout",
     "output_type": "stream",
     "text": [
      "0.04670655767140883\n"
     ]
    },
    {
     "name": "stderr",
     "output_type": "stream",
     "text": [
      "100%|██████████| 5/5 [00:00<00:00,  5.23it/s]\n"
     ]
    },
    {
     "name": "stdout",
     "output_type": "stream",
     "text": [
      "0.09630711018376428\n"
     ]
    },
    {
     "name": "stderr",
     "output_type": "stream",
     "text": [
      "100%|██████████| 5/5 [00:00<00:00,  5.10it/s]\n"
     ]
    },
    {
     "name": "stdout",
     "output_type": "stream",
     "text": [
      "0.058388322512486206\n"
     ]
    },
    {
     "name": "stderr",
     "output_type": "stream",
     "text": [
      "100%|██████████| 5/5 [00:00<00:00,  5.21it/s]\n",
      "[I 2025-07-24 14:07:15,025] Trial 394 finished with value: 0.0766489199317675 and parameters: {'log2_hidden_layer_0': 4, 'log2_hidden_layer_1': 3, 'lr': 0.003283914252092856, 'batch_size': 720, 'num_epochs': 5}. Best is trial 198 with value: 0.13282118335902438.\n"
     ]
    },
    {
     "name": "stdout",
     "output_type": "stream",
     "text": [
      "0.1051936893594107\n"
     ]
    },
    {
     "name": "stderr",
     "output_type": "stream",
     "text": [
      "100%|██████████| 5/5 [00:03<00:00,  1.37it/s]\n"
     ]
    },
    {
     "name": "stdout",
     "output_type": "stream",
     "text": [
      "0.09972899906600091\n"
     ]
    },
    {
     "name": "stderr",
     "output_type": "stream",
     "text": [
      "100%|██████████| 5/5 [00:03<00:00,  1.42it/s]\n"
     ]
    },
    {
     "name": "stdout",
     "output_type": "stream",
     "text": [
      "0.10424902070967405\n"
     ]
    },
    {
     "name": "stderr",
     "output_type": "stream",
     "text": [
      "100%|██████████| 5/5 [00:03<00:00,  1.37it/s]\n"
     ]
    },
    {
     "name": "stdout",
     "output_type": "stream",
     "text": [
      "0.11426164802529877\n"
     ]
    },
    {
     "name": "stderr",
     "output_type": "stream",
     "text": [
      "100%|██████████| 5/5 [00:03<00:00,  1.37it/s]\n",
      "[I 2025-07-24 14:07:30,593] Trial 395 finished with value: 0.11139827464631469 and parameters: {'log2_hidden_layer_0': 4, 'log2_hidden_layer_1': 3, 'lr': 0.00016839283902287712, 'batch_size': 180, 'num_epochs': 5}. Best is trial 198 with value: 0.13282118335902438.\n"
     ]
    },
    {
     "name": "stdout",
     "output_type": "stream",
     "text": [
      "0.12735343078428502\n"
     ]
    },
    {
     "name": "stderr",
     "output_type": "stream",
     "text": [
      "100%|██████████| 5/5 [00:00<00:00,  5.40it/s]\n"
     ]
    },
    {
     "name": "stdout",
     "output_type": "stream",
     "text": [
      "0.09234146216840042\n"
     ]
    },
    {
     "name": "stderr",
     "output_type": "stream",
     "text": [
      "100%|██████████| 5/5 [00:00<00:00,  5.40it/s]\n"
     ]
    },
    {
     "name": "stdout",
     "output_type": "stream",
     "text": [
      "0.10105551854803635\n"
     ]
    },
    {
     "name": "stderr",
     "output_type": "stream",
     "text": [
      "100%|██████████| 5/5 [00:00<00:00,  5.38it/s]\n"
     ]
    },
    {
     "name": "stdout",
     "output_type": "stream",
     "text": [
      "0.10345460329056072\n"
     ]
    },
    {
     "name": "stderr",
     "output_type": "stream",
     "text": [
      "100%|██████████| 5/5 [00:00<00:00,  5.43it/s]\n",
      "[I 2025-07-24 14:07:34,622] Trial 396 finished with value: 0.10072231325555212 and parameters: {'log2_hidden_layer_0': 4, 'log2_hidden_layer_1': 3, 'lr': 0.00012807292531128255, 'batch_size': 720, 'num_epochs': 5}. Best is trial 198 with value: 0.13282118335902438.\n"
     ]
    },
    {
     "name": "stdout",
     "output_type": "stream",
     "text": [
      "0.10603766901521097\n"
     ]
    },
    {
     "name": "stderr",
     "output_type": "stream",
     "text": [
      "100%|██████████| 5/5 [00:01<00:00,  2.68it/s]\n"
     ]
    },
    {
     "name": "stdout",
     "output_type": "stream",
     "text": [
      "0.09456204197127156\n"
     ]
    },
    {
     "name": "stderr",
     "output_type": "stream",
     "text": [
      "100%|██████████| 5/5 [00:01<00:00,  2.60it/s]\n"
     ]
    },
    {
     "name": "stdout",
     "output_type": "stream",
     "text": [
      "0.10140376157302385\n"
     ]
    },
    {
     "name": "stderr",
     "output_type": "stream",
     "text": [
      "100%|██████████| 5/5 [00:01<00:00,  2.59it/s]\n"
     ]
    },
    {
     "name": "stdout",
     "output_type": "stream",
     "text": [
      "0.10413704175391744\n"
     ]
    },
    {
     "name": "stderr",
     "output_type": "stream",
     "text": [
      "100%|██████████| 5/5 [00:01<00:00,  2.62it/s]\n",
      "[I 2025-07-24 14:07:42,860] Trial 397 finished with value: 0.10157402536812873 and parameters: {'log2_hidden_layer_0': 4, 'log2_hidden_layer_1': 3, 'lr': 0.00011287137903184254, 'batch_size': 360, 'num_epochs': 5}. Best is trial 198 with value: 0.13282118335902438.\n"
     ]
    },
    {
     "name": "stdout",
     "output_type": "stream",
     "text": [
      "0.10619325617430206\n"
     ]
    },
    {
     "name": "stderr",
     "output_type": "stream",
     "text": [
      "100%|██████████| 5/5 [00:00<00:00,  5.38it/s]\n"
     ]
    },
    {
     "name": "stdout",
     "output_type": "stream",
     "text": [
      "0.09441716917415954\n"
     ]
    },
    {
     "name": "stderr",
     "output_type": "stream",
     "text": [
      "100%|██████████| 5/5 [00:00<00:00,  5.39it/s]\n"
     ]
    },
    {
     "name": "stdout",
     "output_type": "stream",
     "text": [
      "0.10222271014789913\n"
     ]
    },
    {
     "name": "stderr",
     "output_type": "stream",
     "text": [
      "100%|██████████| 5/5 [00:00<00:00,  5.34it/s]\n"
     ]
    },
    {
     "name": "stdout",
     "output_type": "stream",
     "text": [
      "0.10566646591155157\n"
     ]
    },
    {
     "name": "stderr",
     "output_type": "stream",
     "text": [
      "100%|██████████| 5/5 [00:00<00:00,  5.39it/s]\n",
      "[I 2025-07-24 14:07:46,897] Trial 398 finished with value: 0.10355068978664458 and parameters: {'log2_hidden_layer_0': 4, 'log2_hidden_layer_1': 3, 'lr': 0.00015301297401338132, 'batch_size': 720, 'num_epochs': 5}. Best is trial 198 with value: 0.13282118335902438.\n"
     ]
    },
    {
     "name": "stdout",
     "output_type": "stream",
     "text": [
      "0.11189641391296813\n"
     ]
    },
    {
     "name": "stderr",
     "output_type": "stream",
     "text": [
      "100%|██████████| 5/5 [00:20<00:00,  4.17s/it]\n"
     ]
    },
    {
     "name": "stdout",
     "output_type": "stream",
     "text": [
      "0.07655370789150227\n"
     ]
    },
    {
     "name": "stderr",
     "output_type": "stream",
     "text": [
      "100%|██████████| 5/5 [00:20<00:00,  4.13s/it]\n"
     ]
    },
    {
     "name": "stdout",
     "output_type": "stream",
     "text": [
      "0.08884454028274309\n"
     ]
    },
    {
     "name": "stderr",
     "output_type": "stream",
     "text": [
      "100%|██████████| 5/5 [00:20<00:00,  4.16s/it]\n"
     ]
    },
    {
     "name": "stdout",
     "output_type": "stream",
     "text": [
      "0.10870713523542365\n"
     ]
    },
    {
     "name": "stderr",
     "output_type": "stream",
     "text": [
      "100%|██████████| 5/5 [00:20<00:00,  4.14s/it]\n",
      "[I 2025-07-24 14:09:15,822] Trial 399 finished with value: 0.09979713027844603 and parameters: {'log2_hidden_layer_0': 4, 'log2_hidden_layer_1': 3, 'lr': 0.00017887038047683718, 'batch_size': 30, 'num_epochs': 5}. Best is trial 198 with value: 0.13282118335902438.\n"
     ]
    },
    {
     "name": "stdout",
     "output_type": "stream",
     "text": [
      "0.1250831377041151\n"
     ]
    },
    {
     "name": "stderr",
     "output_type": "stream",
     "text": [
      "100%|██████████| 5/5 [00:00<00:00,  5.48it/s]\n"
     ]
    },
    {
     "name": "stdout",
     "output_type": "stream",
     "text": [
      "0.093950287957309\n"
     ]
    },
    {
     "name": "stderr",
     "output_type": "stream",
     "text": [
      "100%|██████████| 5/5 [00:00<00:00,  5.19it/s]\n"
     ]
    },
    {
     "name": "stdout",
     "output_type": "stream",
     "text": [
      "0.10189759560707277\n"
     ]
    },
    {
     "name": "stderr",
     "output_type": "stream",
     "text": [
      "100%|██████████| 5/5 [00:00<00:00,  5.06it/s]\n"
     ]
    },
    {
     "name": "stdout",
     "output_type": "stream",
     "text": [
      "0.1049039186670398\n"
     ]
    },
    {
     "name": "stderr",
     "output_type": "stream",
     "text": [
      "100%|██████████| 5/5 [00:00<00:00,  5.28it/s]\n",
      "[I 2025-07-24 14:09:19,978] Trial 400 finished with value: 0.10272205248219853 and parameters: {'log2_hidden_layer_0': 4, 'log2_hidden_layer_1': 3, 'lr': 0.0001452335807680878, 'batch_size': 720, 'num_epochs': 5}. Best is trial 198 with value: 0.13282118335902438.\n"
     ]
    },
    {
     "name": "stdout",
     "output_type": "stream",
     "text": [
      "0.11013640769737255\n"
     ]
    },
    {
     "name": "stderr",
     "output_type": "stream",
     "text": [
      "100%|██████████| 5/5 [00:00<00:00,  5.13it/s]\n"
     ]
    },
    {
     "name": "stdout",
     "output_type": "stream",
     "text": [
      "0.09513863750906258\n"
     ]
    },
    {
     "name": "stderr",
     "output_type": "stream",
     "text": [
      "100%|██████████| 5/5 [00:00<00:00,  5.36it/s]\n"
     ]
    },
    {
     "name": "stdout",
     "output_type": "stream",
     "text": [
      "0.10242742175322397\n"
     ]
    },
    {
     "name": "stderr",
     "output_type": "stream",
     "text": [
      "100%|██████████| 5/5 [00:00<00:00,  5.26it/s]\n"
     ]
    },
    {
     "name": "stdout",
     "output_type": "stream",
     "text": [
      "0.10662688613481353\n"
     ]
    },
    {
     "name": "stderr",
     "output_type": "stream",
     "text": [
      "100%|██████████| 5/5 [00:00<00:00,  5.40it/s]\n",
      "[I 2025-07-24 14:09:24,077] Trial 401 finished with value: 0.10453853186341065 and parameters: {'log2_hidden_layer_0': 4, 'log2_hidden_layer_1': 3, 'lr': 0.00016273172561622813, 'batch_size': 720, 'num_epochs': 5}. Best is trial 198 with value: 0.13282118335902438.\n"
     ]
    },
    {
     "name": "stdout",
     "output_type": "stream",
     "text": [
      "0.11396118205654253\n",
      "Best hyperparameters: {'log2_hidden_layer_0': 4, 'log2_hidden_layer_1': 3, 'lr': 0.00013160334710050743, 'batch_size': 360, 'num_epochs': 5}\n",
      "Best Pearson score: 0.13282118335902438\n"
     ]
    },
    {
     "data": {
      "text/plain": [
       "{'log2_hidden_layer_0': 4,\n",
       " 'log2_hidden_layer_1': 3,\n",
       " 'lr': 0.00013160334710050743,\n",
       " 'batch_size': 360,\n",
       " 'num_epochs': 5}"
      ]
     },
     "execution_count": 28,
     "metadata": {},
     "output_type": "execute_result"
    }
   ],
   "source": [
    "optimize_mlp_mlx(\n",
    "    f\"mlp_mlx_{feature_version}_{default_cv}_{default_random_state}_{default_num_layers}_common_truncated_{len(best_features)}_study\",\n",
    "    f\"mlp_mlx_{feature_version}_{default_cv}_{default_random_state}_{default_num_layers}_common_truncated_{len(best_features)}_study\"\n",
    ")"
   ]
  },
  {
   "cell_type": "code",
   "execution_count": 53,
   "id": "bc272468",
   "metadata": {},
   "outputs": [
    {
     "data": {
      "text/html": [
       "<div>\n",
       "<style scoped>\n",
       "    .dataframe tbody tr th:only-of-type {\n",
       "        vertical-align: middle;\n",
       "    }\n",
       "\n",
       "    .dataframe tbody tr th {\n",
       "        vertical-align: top;\n",
       "    }\n",
       "\n",
       "    .dataframe thead th {\n",
       "        text-align: right;\n",
       "    }\n",
       "</style>\n",
       "<table border=\"1\" class=\"dataframe\">\n",
       "  <thead>\n",
       "    <tr style=\"text-align: right;\">\n",
       "      <th></th>\n",
       "      <th>log2_hidden_layer_0</th>\n",
       "      <th>log2_hidden_layer_1</th>\n",
       "      <th>lr</th>\n",
       "      <th>batch_size</th>\n",
       "      <th>num_epochs</th>\n",
       "      <th>value</th>\n",
       "      <th>cv_std</th>\n",
       "    </tr>\n",
       "  </thead>\n",
       "  <tbody>\n",
       "    <tr>\n",
       "      <th>0</th>\n",
       "      <td>4</td>\n",
       "      <td>3</td>\n",
       "      <td>0.000132</td>\n",
       "      <td>360</td>\n",
       "      <td>5</td>\n",
       "      <td>0.132821</td>\n",
       "      <td>0.016609</td>\n",
       "    </tr>\n",
       "    <tr>\n",
       "      <th>1</th>\n",
       "      <td>4</td>\n",
       "      <td>3</td>\n",
       "      <td>0.000144</td>\n",
       "      <td>720</td>\n",
       "      <td>5</td>\n",
       "      <td>0.132726</td>\n",
       "      <td>0.018696</td>\n",
       "    </tr>\n",
       "    <tr>\n",
       "      <th>2</th>\n",
       "      <td>4</td>\n",
       "      <td>3</td>\n",
       "      <td>0.000156</td>\n",
       "      <td>720</td>\n",
       "      <td>5</td>\n",
       "      <td>0.132719</td>\n",
       "      <td>0.017678</td>\n",
       "    </tr>\n",
       "    <tr>\n",
       "      <th>3</th>\n",
       "      <td>4</td>\n",
       "      <td>3</td>\n",
       "      <td>0.000148</td>\n",
       "      <td>720</td>\n",
       "      <td>5</td>\n",
       "      <td>0.132715</td>\n",
       "      <td>0.018409</td>\n",
       "    </tr>\n",
       "    <tr>\n",
       "      <th>4</th>\n",
       "      <td>4</td>\n",
       "      <td>3</td>\n",
       "      <td>0.000144</td>\n",
       "      <td>720</td>\n",
       "      <td>5</td>\n",
       "      <td>0.132705</td>\n",
       "      <td>0.018710</td>\n",
       "    </tr>\n",
       "    <tr>\n",
       "      <th>...</th>\n",
       "      <td>...</td>\n",
       "      <td>...</td>\n",
       "      <td>...</td>\n",
       "      <td>...</td>\n",
       "      <td>...</td>\n",
       "      <td>...</td>\n",
       "      <td>...</td>\n",
       "    </tr>\n",
       "    <tr>\n",
       "      <th>397</th>\n",
       "      <td>4</td>\n",
       "      <td>3</td>\n",
       "      <td>0.005858</td>\n",
       "      <td>30</td>\n",
       "      <td>5</td>\n",
       "      <td>0.004791</td>\n",
       "      <td>0.038926</td>\n",
       "    </tr>\n",
       "    <tr>\n",
       "      <th>398</th>\n",
       "      <td>4</td>\n",
       "      <td>3</td>\n",
       "      <td>0.009369</td>\n",
       "      <td>720</td>\n",
       "      <td>5</td>\n",
       "      <td>-0.005855</td>\n",
       "      <td>0.019978</td>\n",
       "    </tr>\n",
       "    <tr>\n",
       "      <th>399</th>\n",
       "      <td>4</td>\n",
       "      <td>3</td>\n",
       "      <td>0.007802</td>\n",
       "      <td>180</td>\n",
       "      <td>5</td>\n",
       "      <td>-0.007199</td>\n",
       "      <td>0.023726</td>\n",
       "    </tr>\n",
       "    <tr>\n",
       "      <th>400</th>\n",
       "      <td>4</td>\n",
       "      <td>3</td>\n",
       "      <td>0.000114</td>\n",
       "      <td>720</td>\n",
       "      <td>5</td>\n",
       "      <td>NaN</td>\n",
       "      <td>NaN</td>\n",
       "    </tr>\n",
       "    <tr>\n",
       "      <th>401</th>\n",
       "      <td>4</td>\n",
       "      <td>3</td>\n",
       "      <td>0.000114</td>\n",
       "      <td>720</td>\n",
       "      <td>5</td>\n",
       "      <td>NaN</td>\n",
       "      <td>NaN</td>\n",
       "    </tr>\n",
       "  </tbody>\n",
       "</table>\n",
       "<p>402 rows × 7 columns</p>\n",
       "</div>"
      ],
      "text/plain": [
       "     log2_hidden_layer_0  log2_hidden_layer_1        lr  batch_size  \\\n",
       "0                      4                    3  0.000132         360   \n",
       "1                      4                    3  0.000144         720   \n",
       "2                      4                    3  0.000156         720   \n",
       "3                      4                    3  0.000148         720   \n",
       "4                      4                    3  0.000144         720   \n",
       "..                   ...                  ...       ...         ...   \n",
       "397                    4                    3  0.005858          30   \n",
       "398                    4                    3  0.009369         720   \n",
       "399                    4                    3  0.007802         180   \n",
       "400                    4                    3  0.000114         720   \n",
       "401                    4                    3  0.000114         720   \n",
       "\n",
       "     num_epochs     value    cv_std  \n",
       "0             5  0.132821  0.016609  \n",
       "1             5  0.132726  0.018696  \n",
       "2             5  0.132719  0.017678  \n",
       "3             5  0.132715  0.018409  \n",
       "4             5  0.132705  0.018710  \n",
       "..          ...       ...       ...  \n",
       "397           5  0.004791  0.038926  \n",
       "398           5 -0.005855  0.019978  \n",
       "399           5 -0.007199  0.023726  \n",
       "400           5       NaN       NaN  \n",
       "401           5       NaN       NaN  \n",
       "\n",
       "[402 rows x 7 columns]"
      ]
     },
     "execution_count": 53,
     "metadata": {},
     "output_type": "execute_result"
    }
   ],
   "source": [
    "study_df = get_study_df(\n",
    "    f\"mlp_mlx_{feature_version}_{default_cv}_{default_random_state}_{default_num_layers}_common_truncated_30_study\"\n",
    ")\n",
    "study_df.sort_values(\"value\", ignore_index=True, ascending=False)"
   ]
  },
  {
   "cell_type": "code",
   "execution_count": 54,
   "id": "46df1237",
   "metadata": {},
   "outputs": [
    {
     "data": {
      "text/html": [
       "<div>\n",
       "<style scoped>\n",
       "    .dataframe tbody tr th:only-of-type {\n",
       "        vertical-align: middle;\n",
       "    }\n",
       "\n",
       "    .dataframe tbody tr th {\n",
       "        vertical-align: top;\n",
       "    }\n",
       "\n",
       "    .dataframe thead th {\n",
       "        text-align: right;\n",
       "    }\n",
       "</style>\n",
       "<table border=\"1\" class=\"dataframe\">\n",
       "  <thead>\n",
       "    <tr style=\"text-align: right;\">\n",
       "      <th></th>\n",
       "      <th>log2_hidden_layer_0</th>\n",
       "      <th>log2_hidden_layer_1</th>\n",
       "      <th>lr</th>\n",
       "      <th>batch_size</th>\n",
       "      <th>num_epochs</th>\n",
       "      <th>value</th>\n",
       "      <th>cv_std</th>\n",
       "    </tr>\n",
       "  </thead>\n",
       "  <tbody>\n",
       "    <tr>\n",
       "      <th>0</th>\n",
       "      <td>6</td>\n",
       "      <td>5</td>\n",
       "      <td>0.000628</td>\n",
       "      <td>30</td>\n",
       "      <td>5</td>\n",
       "      <td>0.085032</td>\n",
       "      <td>0.003625</td>\n",
       "    </tr>\n",
       "    <tr>\n",
       "      <th>1</th>\n",
       "      <td>4</td>\n",
       "      <td>3</td>\n",
       "      <td>0.000107</td>\n",
       "      <td>360</td>\n",
       "      <td>5</td>\n",
       "      <td>0.100799</td>\n",
       "      <td>0.004114</td>\n",
       "    </tr>\n",
       "    <tr>\n",
       "      <th>2</th>\n",
       "      <td>4</td>\n",
       "      <td>3</td>\n",
       "      <td>0.000113</td>\n",
       "      <td>360</td>\n",
       "      <td>5</td>\n",
       "      <td>0.101574</td>\n",
       "      <td>0.004390</td>\n",
       "    </tr>\n",
       "    <tr>\n",
       "      <th>3</th>\n",
       "      <td>4</td>\n",
       "      <td>3</td>\n",
       "      <td>0.000104</td>\n",
       "      <td>720</td>\n",
       "      <td>5</td>\n",
       "      <td>0.097508</td>\n",
       "      <td>0.004589</td>\n",
       "    </tr>\n",
       "    <tr>\n",
       "      <th>4</th>\n",
       "      <td>7</td>\n",
       "      <td>6</td>\n",
       "      <td>0.000118</td>\n",
       "      <td>720</td>\n",
       "      <td>5</td>\n",
       "      <td>0.106011</td>\n",
       "      <td>0.004609</td>\n",
       "    </tr>\n",
       "    <tr>\n",
       "      <th>...</th>\n",
       "      <td>...</td>\n",
       "      <td>...</td>\n",
       "      <td>...</td>\n",
       "      <td>...</td>\n",
       "      <td>...</td>\n",
       "      <td>...</td>\n",
       "      <td>...</td>\n",
       "    </tr>\n",
       "    <tr>\n",
       "      <th>397</th>\n",
       "      <td>3</td>\n",
       "      <td>3</td>\n",
       "      <td>0.000122</td>\n",
       "      <td>360</td>\n",
       "      <td>5</td>\n",
       "      <td>0.056688</td>\n",
       "      <td>0.039521</td>\n",
       "    </tr>\n",
       "    <tr>\n",
       "      <th>398</th>\n",
       "      <td>4</td>\n",
       "      <td>4</td>\n",
       "      <td>0.007916</td>\n",
       "      <td>120</td>\n",
       "      <td>10</td>\n",
       "      <td>0.008124</td>\n",
       "      <td>0.042510</td>\n",
       "    </tr>\n",
       "    <tr>\n",
       "      <th>399</th>\n",
       "      <td>4</td>\n",
       "      <td>3</td>\n",
       "      <td>0.003933</td>\n",
       "      <td>720</td>\n",
       "      <td>5</td>\n",
       "      <td>0.074880</td>\n",
       "      <td>0.044892</td>\n",
       "    </tr>\n",
       "    <tr>\n",
       "      <th>400</th>\n",
       "      <td>4</td>\n",
       "      <td>3</td>\n",
       "      <td>0.000114</td>\n",
       "      <td>720</td>\n",
       "      <td>5</td>\n",
       "      <td>NaN</td>\n",
       "      <td>NaN</td>\n",
       "    </tr>\n",
       "    <tr>\n",
       "      <th>401</th>\n",
       "      <td>4</td>\n",
       "      <td>3</td>\n",
       "      <td>0.000114</td>\n",
       "      <td>720</td>\n",
       "      <td>5</td>\n",
       "      <td>NaN</td>\n",
       "      <td>NaN</td>\n",
       "    </tr>\n",
       "  </tbody>\n",
       "</table>\n",
       "<p>402 rows × 7 columns</p>\n",
       "</div>"
      ],
      "text/plain": [
       "     log2_hidden_layer_0  log2_hidden_layer_1        lr  batch_size  \\\n",
       "0                      6                    5  0.000628          30   \n",
       "1                      4                    3  0.000107         360   \n",
       "2                      4                    3  0.000113         360   \n",
       "3                      4                    3  0.000104         720   \n",
       "4                      7                    6  0.000118         720   \n",
       "..                   ...                  ...       ...         ...   \n",
       "397                    3                    3  0.000122         360   \n",
       "398                    4                    4  0.007916         120   \n",
       "399                    4                    3  0.003933         720   \n",
       "400                    4                    3  0.000114         720   \n",
       "401                    4                    3  0.000114         720   \n",
       "\n",
       "     num_epochs     value    cv_std  \n",
       "0             5  0.085032  0.003625  \n",
       "1             5  0.100799  0.004114  \n",
       "2             5  0.101574  0.004390  \n",
       "3             5  0.097508  0.004589  \n",
       "4             5  0.106011  0.004609  \n",
       "..          ...       ...       ...  \n",
       "397           5  0.056688  0.039521  \n",
       "398          10  0.008124  0.042510  \n",
       "399           5  0.074880  0.044892  \n",
       "400           5       NaN       NaN  \n",
       "401           5       NaN       NaN  \n",
       "\n",
       "[402 rows x 7 columns]"
      ]
     },
     "execution_count": 54,
     "metadata": {},
     "output_type": "execute_result"
    }
   ],
   "source": [
    "study_df.sort_values(\"cv_std\", ignore_index=True)"
   ]
  },
  {
   "cell_type": "markdown",
   "id": "196766ca",
   "metadata": {},
   "source": [
    "#### Nineth Iteration: AE + MLP instead of GBDT feature selection + MLP (train together)"
   ]
  },
  {
   "cell_type": "markdown",
   "id": "49c02845",
   "metadata": {},
   "source": [
    "Define the model"
   ]
  },
  {
   "cell_type": "code",
   "execution_count": null,
   "id": "00cd4f42",
   "metadata": {},
   "outputs": [],
   "source": [
    "# Define gaussian noise for autoencoder\n",
    "class GaussianNoise(nnmx.Module):\n",
    "    def __init__(self, mean: float = 0.0, stddev: float = 0.01):\n",
    "        super().__init__()\n",
    "        self.mean = mean\n",
    "        self.stddev = stddev\n",
    "\n",
    "    def __call__(self, x, training = True):\n",
    "        if training:\n",
    "            x += mx.random.normal(loc=self.mean, scale=self.stddev, shape=x.shape)\n",
    "        return x"
   ]
  },
  {
   "cell_type": "code",
   "execution_count": null,
   "id": "568359d6",
   "metadata": {},
   "outputs": [],
   "source": [
    "# Define the model\n",
    "# We do not use the reset method this time so you have to create the model at each fold\n",
    "class AEMLX(nnmx.Module):\n",
    "    def __init__(self, num_features, hidden_layers_size, latent_size, dropout):\n",
    "        super().__init__()\n",
    "\n",
    "        # Initialize layers for encoder\n",
    "        last_layer = num_features\n",
    "        self.encoder_layers = []\n",
    "        for current_layer in hidden_layers_size:\n",
    "            self.encoder_layers.append(nnmx.Linear(last_layer, current_layer))\n",
    "            last_layer = current_layer\n",
    "        self.encoder_layers.append(nnmx.Linear(last_layer, latent_size))\n",
    "\n",
    "        # Initialize layers for decoder\n",
    "        last_layer = latent_size\n",
    "        self.decoder_layers = []\n",
    "        for current_layer in hidden_layers_size[::-1]:\n",
    "            self.decoder_layers.append(nnmx.Linear(last_layer, current_layer))\n",
    "            last_layer = current_layer\n",
    "        self.decoder_layers.append(nnmx.Linear(last_layer, num_features))\n",
    "\n",
    "        # Initialize activation\n",
    "        self.activation = nnmx.ReLU()\n",
    "\n",
    "        # Initialze gaussian noise to apply upon training\n",
    "        # self.gaussian_noise = GaussianNoise()\n",
    "\n",
    "        # Initialize dropout\n",
    "        self.dropout = nnmx.Dropout(p = dropout)\n",
    "\n",
    "    def __call__(self, x, training = True):\n",
    "        # if training:\n",
    "        #     x = self.gaussian_noise(x)\n",
    "            \n",
    "        for inx, layer in enumerate(self.encoder_layers):\n",
    "            x = layer(x)\n",
    "            x = self.activation(x)\n",
    "            x = self.dropout(x)\n",
    "        for inx, layer in enumerate(self.decoder_layers):\n",
    "            if inx == len(self.decoder_layers) - 1:\n",
    "                x = layer(x)\n",
    "            else:\n",
    "                x = layer(x)\n",
    "                x = self.activation(x)\n",
    "                x = self.dropout(x)\n",
    "        return x\n",
    "\n",
    "    def get_latent(self, x):\n",
    "        for inx, layer in enumerate(self.encoder_layers):\n",
    "            x = layer(x)\n",
    "            x = self.activation(x)\n",
    "        return x"
   ]
  },
  {
   "cell_type": "markdown",
   "id": "68aef2af",
   "metadata": {},
   "source": [
    "Train model with CV and evaluate"
   ]
  },
  {
   "cell_type": "code",
   "execution_count": null,
   "id": "5ae44b82",
   "metadata": {},
   "outputs": [],
   "source": [
    "# Separate function for train & eval step\n",
    "def train_aemlp_mlx(ae_model, ae_loss_and_grad_fn, ae_optimizer, ae_num_epochs,\n",
    "                     mlp_model, mlp_loss_and_grad_fn, mlp_optimizer, mlp_num_epochs,\n",
    "                     X_train, Y_train, batch_size):\n",
    "    # Train ae first\n",
    "    ae_model.train()\n",
    "    for _ in tqdm(range(ae_num_epochs)):\n",
    "        for (inputs, targets) in batch_iterate(batch_size, X_train, Y_train):\n",
    "            # get gradients for ae, output is the inputs itself\n",
    "            _, ae_grads = ae_loss_and_grad_fn(ae_model, inputs, inputs)\n",
    "\n",
    "            # Update the optimizer state and model parameters in a single call\n",
    "            ae_optimizer.update(ae_model, ae_grads)\n",
    "\n",
    "            # Force a graph evaluation\n",
    "            mx.eval(ae_model.parameters(), ae_optimizer.state)\n",
    "\n",
    "    # Train mlp later\n",
    "    mlp_model.train()\n",
    "    for _ in tqdm(range(mlp_num_epochs)):\n",
    "        for (inputs, targets) in batch_iterate(batch_size, X_train, Y_train):\n",
    "            # get the latent representation for X_train\n",
    "            latent_inputs = ae_model.get_latent(inputs)\n",
    "            used_inputs = mx.concatenate([inputs, latent_inputs], axis=1)\n",
    "            # get gradients for mlp\n",
    "            _, mlp_grads = mlp_loss_and_grad_fn(mlp_model, used_inputs, targets)\n",
    "\n",
    "            # Update the optimizer state and model parameters in a single call\n",
    "            mlp_optimizer.update(mlp_model, mlp_grads)\n",
    "\n",
    "            # Force a graph evaluation\n",
    "            mx.eval(mlp_model.parameters(), mlp_optimizer.state)\n",
    "\n",
    "    # # Train ae and mlp together\n",
    "    # ae_model.train()\n",
    "    # mlp_model.train()\n",
    "    # for _ in tqdm(range(ae_num_epochs)):\n",
    "    #     for (inputs, targets) in batch_iterate(batch_size, X_train, Y_train):\n",
    "    #         # get gradients for ae, output is the inputs itself\n",
    "    #         _, ae_grads = ae_loss_and_grad_fn(ae_model, inputs, inputs)\n",
    "\n",
    "    #         # Update the optimizer state and model parameters in a single call\n",
    "    #         ae_optimizer.update(ae_model, ae_grads)\n",
    "\n",
    "    #         # Force a graph evaluation\n",
    "    #         mx.eval(ae_model.parameters(), ae_optimizer.state)\n",
    "\n",
    "    #         # get gradients for mlp\n",
    "    #         latent_inputs = ae_model.get_latent(inputs)\n",
    "    #         used_inputs = mx.concatenate([inputs, latent_inputs], axis=1)\n",
    "    #         _, mlp_grads = mlp_loss_and_grad_fn(mlp_model, used_inputs, targets)\n",
    "\n",
    "    #         # Update the optimizer state and model parameters in a single call\n",
    "    #         mlp_optimizer.update(mlp_model, mlp_grads)\n",
    "\n",
    "    #         # Force a graph evaluation\n",
    "    #         mx.eval(mlp_model.parameters(), mlp_optimizer.state)\n",
    "\n",
    "def eval_aemlp_mlx(ae_model, mlp_model, X_test, Y_test, batch_size):\n",
    "    outputs_all = np.zeros(0)\n",
    "    targets_all = np.zeros(0)\n",
    "    ae_model.eval()\n",
    "    mlp_model.eval()\n",
    "    for (inputs, targets) in batch_iterate(batch_size, X_test, Y_test, shuffle=False):\n",
    "        latent_inputs = ae_model.get_latent(inputs)\n",
    "        used_inputs = mx.concatenate([inputs, latent_inputs], axis=1)\n",
    "        outputs = mlp_model(used_inputs).reshape(-1)\n",
    "        # convert back to numpy\n",
    "        outputs, targets = np.array(outputs), np.array(targets)\n",
    "        # Load to overall Y_test, Y_pred to calculate pearson score later\n",
    "        outputs_all = np.concatenate([outputs_all, outputs])\n",
    "        targets_all = np.concatenate([targets_all, targets])\n",
    "    return pearson_score(targets_all, outputs_all)"
   ]
  },
  {
   "cell_type": "code",
   "execution_count": null,
   "id": "c6679261",
   "metadata": {},
   "outputs": [],
   "source": [
    "def train_eval_cv_mlx_aemlp(num_features, ae_hidden_layers_size, ae_latent_size, ae_dropout, ae_lr, ae_num_epochs,\n",
    "                            mlp_hidden_layers_size, mlp_dropout, mlp_lr, mlp_num_epochs,\n",
    "                            cv, X_train_arr, X_test_arr, Y_train_arr, Y_test_arr, batch_size):\n",
    "    cv_pearson = 0\n",
    "    for _, (X_train, X_test, Y_train, Y_test) in enumerate(zip(X_train_arr, X_test_arr, Y_train_arr, Y_test_arr)):\n",
    "        # initialize the model\n",
    "        mx.random.seed(default_random_state)\n",
    "        ae_model = AEMLX(num_features, ae_hidden_layers_size, ae_latent_size, ae_dropout)\n",
    "\n",
    "        mx.random.seed(default_random_state)\n",
    "        mlp_model = MLPMLX(ae_latent_size + num_features, mlp_hidden_layers_size, mlp_dropout)\n",
    "\n",
    "        # Initialize the loss function (both use same loss function)\n",
    "        def loss_fn(model, X, Y):\n",
    "            Y_pred = model(X).reshape(-1)\n",
    "            Y = Y.reshape(-1)\n",
    "            return mx.mean(nnmx.losses.mse_loss(Y_pred, Y))\n",
    "        ae_loss_and_grad_fn = nnmx.value_and_grad(ae_model, loss_fn)\n",
    "        mlp_loss_and_grad_fn = nnmx.value_and_grad(mlp_model, loss_fn)\n",
    "\n",
    "        # Reinitialize the optimizer\n",
    "        ae_optimizer = optimmx.Adam(learning_rate = ae_lr)\n",
    "        mlp_optimizer = optimmx.Adam(learning_rate = mlp_lr)\n",
    "\n",
    "        # Train the model\n",
    "        train_aemlp_mlx(ae_model, ae_loss_and_grad_fn, ae_optimizer, ae_num_epochs,\n",
    "                        mlp_model, mlp_loss_and_grad_fn, mlp_optimizer, mlp_num_epochs,\n",
    "                        X_train, Y_train, batch_size)\n",
    "\n",
    "        # Test the model\n",
    "        pearson = eval_aemlp_mlx(ae_model, mlp_model, X_test, Y_test, batch_size)\n",
    "        print(pearson)\n",
    "        if pearson == -1:\n",
    "            return pearson\n",
    "        cv_pearson += pearson\n",
    "    return cv_pearson / cv"
   ]
  },
  {
   "cell_type": "markdown",
   "id": "c4959ed6",
   "metadata": {},
   "source": [
    "Conduct training and evaluating process of the model"
   ]
  },
  {
   "cell_type": "code",
   "execution_count": null,
   "id": "15b892fe",
   "metadata": {},
   "outputs": [],
   "source": [
    "# # Create the CV data, seems to be better with only anonymized features\n",
    "# best_features = [col for col in train_df.columns if \"X\" in col] + \\\n",
    "#                 [\"volume\", \"bid_qty\", \"ask_qty\", \"buy_qty\", \"sell_qty\"] + \\\n",
    "#                 [col for col in train_df.columns.tolist() if \"X\" not in col and col not in [\"timestamp\", \"label\"]]\n",
    "# train_added_df = pd.concat([train_df, popular_features_train], axis=1)\n",
    "# X_train_arr, X_test_arr, Y_train_arr, Y_test_arr = create_cv(train_added_df, best_features)\n",
    "# for i in range(default_cv):\n",
    "#     X_train_arr[i] = float64_to_float32(X_train_arr[i])\n",
    "#     X_test_arr[i] = float64_to_float32(X_test_arr[i])\n",
    "#     Y_train_arr[i] = float64_to_float32(Y_train_arr[i])\n",
    "#     Y_test_arr[i] = float64_to_float32(Y_test_arr[i])\n",
    "# X_train_arr, X_test_arr, Y_train_arr, Y_test_arr = normal_cv_to_mlx_cv(X_train_arr, X_test_arr, Y_train_arr, Y_test_arr)"
   ]
  },
  {
   "cell_type": "code",
   "execution_count": null,
   "id": "854d475c",
   "metadata": {},
   "outputs": [],
   "source": [
    "# # # Training process of the default config\n",
    "# num_features = len(best_features)\n",
    "# ae_hidden_layers_size = [64]\n",
    "# ae_latent_size = 16\n",
    "# mlp_hidden_layers_size = [4, 2]\n",
    "# lr = 0.0005\n",
    "# dropout = 0.5\n",
    "# batch_size = 180\n",
    "# num_epochs = 30\n",
    "\n",
    "# train_eval_cv_mlx_aemlp(num_features, ae_hidden_layers_size, ae_latent_size, \n",
    "#                         mlp_hidden_layers_size, dropout, \n",
    "#                         lr, default_cv,\n",
    "#                         X_train_arr, X_test_arr, Y_train_arr, Y_test_arr,\n",
    "#                         batch_size, num_epochs)"
   ]
  },
  {
   "cell_type": "markdown",
   "id": "5477b9b9",
   "metadata": {},
   "source": [
    "Optimize with bayesian optimization"
   ]
  },
  {
   "cell_type": "code",
   "execution_count": null,
   "id": "cfdd8651",
   "metadata": {},
   "outputs": [],
   "source": [
    "ae_default_num_layers = 2\n",
    "mlp_default_num_layers = 1"
   ]
  },
  {
   "cell_type": "code",
   "execution_count": null,
   "id": "99c60d8b",
   "metadata": {},
   "outputs": [],
   "source": [
    "def objective_aemlp_mlx(trial):\n",
    "    # First initialize the parameters\n",
    "    num_features = len(best_features)\n",
    "\n",
    "    # initialize ae layers\n",
    "    ae_num_layers = ae_default_num_layers\n",
    "    ae_log_2_hidden_layers_size = []\n",
    "    for i in range(ae_num_layers):\n",
    "        if len(ae_log_2_hidden_layers_size) == 0:\n",
    "            ae_log_2_hidden_layers_size.append(trial.suggest_int(f\"ae_log2_hidden_layer_{i}\", 3, int(math.ceil(math.log2(num_features)))))\n",
    "        else:\n",
    "            ae_log_2_hidden_layers_size.append(trial.suggest_int(f\"ae_log2_hidden_layer_{i}\", 3, ae_log_2_hidden_layers_size[-1]))\n",
    "    ae_hidden_layers_size = [2**i for i in ae_log_2_hidden_layers_size]\n",
    "    ae_latent_size = 2**trial.suggest_int(\"ae_log2_latent_size\", 3, ae_log_2_hidden_layers_size[-1])\n",
    "    ae_dropout = trial.suggest_categorical(\"ae_dropout\", [0.2, 0.3, 0.4, 0.5, 0.6, 0.7])\n",
    "    ae_lr = trial.suggest_float(\"ae_lr\", 0.0001, 0.01, log=True)\n",
    "    ae_num_epochs = trial.suggest_categorical(\"num_epochs\", [5 * i for i in range(1, 7)])\n",
    "\n",
    "    # initialize mlp layers\n",
    "    mlp_num_layers = mlp_default_num_layers\n",
    "    mlp_log_2_hidden_layers_size = []\n",
    "    for i in range(mlp_num_layers):\n",
    "        if len(mlp_log_2_hidden_layers_size) == 0:\n",
    "            mlp_log_2_hidden_layers_size.append(trial.suggest_int(f\"mlp_log2_hidden_layer_{i}\", 2, int(math.ceil(math.log2(ae_latent_size + num_features)))))\n",
    "        else:\n",
    "            mlp_log_2_hidden_layers_size.append(trial.suggest_int(f\"mlp_log2_hidden_layer_{i}\", 2, mlp_log_2_hidden_layers_size[-1]))\n",
    "    mlp_hidden_layers_size = [2**i for i in mlp_log_2_hidden_layers_size]\n",
    "    mlp_dropout = trial.suggest_categorical(\"mle_dropout\", [0.2, 0.3, 0.4, 0.5, 0.6, 0.7])\n",
    "    mlp_lr = trial.suggest_float(\"mlp_lr\", 0.0001, 0.01, log=True)\n",
    "    # mlp_num_epochs = trial.suggest_categorical(\"mlp_num_epochs\", [10, 20, 30, 40, 50])\n",
    "    mlp_num_epochs = ae_num_epochs\n",
    "\n",
    "    # batch size\n",
    "    batch_size = trial.suggest_categorical(\"batch_size\", [30, 60, 120, 180, 360, 720, 1440])\n",
    "    \n",
    "    # Conduct training based on those parameters\n",
    "    cv_pearson = train_eval_cv_mlx_aemlp(num_features, ae_hidden_layers_size, ae_latent_size, ae_dropout, ae_lr, ae_num_epochs,\n",
    "                                         mlp_hidden_layers_size, mlp_dropout, mlp_lr, mlp_num_epochs,\n",
    "                                         default_cv, X_train_arr, X_test_arr, Y_train_arr, Y_test_arr,\n",
    "                                         batch_size)\n",
    "    \n",
    "    return cv_pearson"
   ]
  },
  {
   "cell_type": "code",
   "execution_count": null,
   "id": "3196cd06",
   "metadata": {},
   "outputs": [],
   "source": [
    "def optimize_aemlp_mlx(study_name, storage_name, objective_function=objective_aemlp_mlx, n_trials = 100, n_jobs = 1):\n",
    "    print(\"Conduct hyperparam opt for AE-MLP\")\n",
    "    study = optuna.create_study(\n",
    "        study_name = study_name,\n",
    "        direction ='maximize',\n",
    "        storage = f\"sqlite:///{storage_name}.db\",\n",
    "        sampler = TPESampler(seed = 101, n_startup_trials=10),\n",
    "        load_if_exists=True\n",
    "    )\n",
    "    study.optimize(objective_function, n_trials=n_trials, n_jobs=n_jobs)\n",
    "    print('Best hyperparameters:', study.best_params)\n",
    "    print('Best Pearson score:', study.best_value)\n",
    "    return study.best_params"
   ]
  },
  {
   "cell_type": "code",
   "execution_count": null,
   "id": "4a17cbda",
   "metadata": {},
   "outputs": [],
   "source": [
    "best_features = [col for col in train_df.columns if \"X\" in col and \"interaction\" not in col]\n",
    "X_train_arr, X_test_arr, Y_train_arr, Y_test_arr = create_cv(train_df, best_features)\n",
    "for i in range(default_cv):\n",
    "    X_train_arr[i] = float64_to_float32(X_train_arr[i])\n",
    "    X_test_arr[i] = float64_to_float32(X_test_arr[i])\n",
    "    Y_train_arr[i] = float64_to_float32(Y_train_arr[i])\n",
    "    Y_test_arr[i] = float64_to_float32(Y_test_arr[i])\n",
    "X_train_arr, X_test_arr, Y_train_arr, Y_test_arr = normal_cv_to_mlx_cv(X_train_arr, X_test_arr, Y_train_arr, Y_test_arr)"
   ]
  },
  {
   "cell_type": "code",
   "execution_count": null,
   "id": "fff3abf3",
   "metadata": {},
   "outputs": [],
   "source": [
    "optimize_aemlp_mlx(\n",
    "    f\"aemlp_mlx_{feature_version}_{default_cv}_{default_random_state}_{ae_default_num_layers}_{mlp_default_num_layers}_study\",\n",
    "    f\"aemlp_mlx_{feature_version}_{default_cv}_{default_random_state}_{ae_default_num_layers}_{mlp_default_num_layers}_study\"\n",
    ")"
   ]
  },
  {
   "cell_type": "markdown",
   "id": "12af3671",
   "metadata": {},
   "source": [
    "#### Tenth Trial: Adding interaction terms to models"
   ]
  },
  {
   "cell_type": "code",
   "execution_count": null,
   "id": "2c6bc9a8",
   "metadata": {},
   "outputs": [],
   "source": [
    "best_features = ['X757', 'X758', 'X759', 'X508', 'X614', 'X752', 'X331', 'X445', 'X465', 'X385', \n",
    "                 'X466', 'X95', 'X23', 'X219', 'X31', 'X373', 'X379', 'X284', 'X750', 'X652', \n",
    "                 'X279', 'X89', 'X169', 'X753', 'X226', 'X28', 'X444', 'X272', 'X271', 'X218']\n",
    "best_interaction_features = [\n",
    "    'X205_X131_X294_interaction', 'X205_X131_X296_interaction', 'X205_X169_X291_interaction', \n",
    "    'X205_X169_X289_interaction', 'X205_X169_X298_interaction', 'X205_X169_X292_interaction', \n",
    "    'X205_X169_X294_interaction', 'X205_X169_X296_interaction', 'X205_X89_X290_interaction', \n",
    "    'X205_X89_X292_interaction', 'X205_X89_X294_interaction', 'X205_X83_X288_interaction', \n",
    "    'X205_X83_X290_interaction', 'X205_X83_X292_interaction', 'X205_X83_X294_interaction', \n",
    "    'X205_X83_X296_interaction', 'X198_X175_X294_interaction', 'X198_X175_X296_interaction', \n",
    "    'X198_X131_X292_interaction', 'X198_X131_X294_interaction', 'X198_X131_X296_interaction', \n",
    "    'X198_X169_X292_interaction', 'X198_X169_X294_interaction', 'X198_X169_X296_interaction', \n",
    "    'X198_X89_X290_interaction', 'X198_X89_X292_interaction', 'X198_X89_X294_interaction', \n",
    "    'X198_X89_X296_interaction', 'X198_X83_X288_interaction', 'X198_X83_X290_interaction', \n",
    "    'X198_X83_X292_interaction', 'X198_X83_X294_interaction', 'X198_X83_X296_interaction', \n",
    "    'X204_X83_X296_interaction'\n",
    "]\n",
    "best_exp_interaction_features = [\n",
    "    'X181_X285_exp_interaction', 'X473_X181_X285_exp_interaction', 'X205_X181_X286_exp_interaction',\n",
    "    'X205_X181_X288_exp_interaction', 'X205_X181_X290_exp_interaction', 'X205_X758_X286_exp_interaction',\n",
    "    'X205_X758_X288_exp_interaction', 'X205_X758_X290_exp_interaction', 'X205_X758_X292_exp_interaction',\n",
    "    'X205_X758_X294_exp_interaction', 'X205_X758_X296_exp_interaction', 'X205_X758_X271_exp_interaction',\n",
    "    'X205_X175_X286_exp_interaction', 'X205_X175_X288_exp_interaction', 'X205_X175_X292_exp_interaction',\n",
    "    'X205_X175_X294_exp_interaction', 'X205_X175_X296_exp_interaction', 'X205_X614_X285_exp_interaction', \n",
    "    'X198_X758_X286_exp_interaction', 'X198_X758_X288_exp_interaction', 'X198_X758_X290_exp_interaction',\n",
    "    'X181_X762_X286_exp_interaction', 'X181_X272_X286_exp_interaction', 'X181_X272_X288_exp_interaction', \n",
    "    'X181_X272_X285_exp_interaction', 'X204_X758_X286_exp_interaction', 'X204_X758_X288_exp_interaction',\n",
    "    'X204_X758_X290_exp_interaction', 'X204_X758_X292_exp_interaction'\n",
    "]\n",
    "\n",
    "X_train_arr, X_test_arr, Y_train_arr, Y_test_arr = create_cv(train_df, best_features + best_interaction_features + best_exp_interaction_features)"
   ]
  },
  {
   "cell_type": "markdown",
   "id": "0bfd6718",
   "metadata": {},
   "source": [
    "XGBoost"
   ]
  },
  {
   "cell_type": "code",
   "execution_count": null,
   "id": "95d8f44e",
   "metadata": {},
   "outputs": [],
   "source": [
    "best_xgboost_params_common_truncated_with_interaction = optimize_xgboost(\n",
    "    f\"xgboost_{feature_version}_{default_cv}_{default_random_state}_{default_n_trees}_common_truncated_30_with_interaction_study\",\n",
    "    f\"xgboost_{feature_version}_{default_cv}_{default_random_state}_{default_n_trees}_common_truncated_30_with_interaction_study\"\n",
    ") "
   ]
  },
  {
   "cell_type": "markdown",
   "id": "e4a6b477",
   "metadata": {},
   "source": [
    "LightGBM"
   ]
  },
  {
   "cell_type": "code",
   "execution_count": null,
   "id": "bee2ab3c",
   "metadata": {},
   "outputs": [],
   "source": [
    "best_lightgbm_params_common_truncated_with_interaction = optimize_lightgbm(\n",
    "    f\"lightgbm_{feature_version}_{default_cv}_{default_random_state}_{default_n_trees}_common_truncated_30_with_interaction_study\",\n",
    "    f\"lightgbm_{feature_version}_{default_cv}_{default_random_state}_{default_n_trees}_common_truncated_30_with_interaction_study\",\n",
    "    n_trials = 64\n",
    ") "
   ]
  },
  {
   "cell_type": "markdown",
   "id": "ac44f8a5",
   "metadata": {},
   "source": [
    "Analyze importance"
   ]
  },
  {
   "cell_type": "code",
   "execution_count": null,
   "id": "12d35707",
   "metadata": {},
   "outputs": [],
   "source": [
    "params = {\n",
    "    \"n_estimators\": default_n_trees,\n",
    "    \"verbosity\": 0,\n",
    "    \"enable_categorical\": True,\n",
    "    \"random_state\": default_random_state\n",
    "}\n",
    "best_params_xgboost = get_best_params_from_file(f\"xgboost_{feature_version}_{default_cv}_{default_random_state}_{default_n_trees}_common_truncated_30_with_interaction_study\")\n",
    "for p in best_params_xgboost:\n",
    "    params[p] = best_params_xgboost[p]\n",
    "\n",
    "xgboost_feature_importances = {}\n",
    "\n",
    "xgbr = XGBRegressor(**params)\n",
    "for i in range(default_cv):\n",
    "    X_train, X_test = X_train_arr[i], X_test_arr[i]\n",
    "    Y_train, Y_test = Y_train_arr[i], Y_test_arr[i]\n",
    "    xgbr.fit(X_train, Y_train)\n",
    "    print(pearson_score(Y_test, xgbr.predict(X_test)))\n",
    "    features = xgbr.feature_names_in_.tolist()\n",
    "    # features_i = xgbr.feature_importances_.tolist()\n",
    "    features_i = get_shap_values(xgbr, X_train_arr, X_test_arr, Y_train_arr, Y_test_arr)\n",
    "    for inx, feat in enumerate(features):\n",
    "        xgboost_feature_importances[feat] = xgboost_feature_importances.get(feat, 0) + features_i[inx]\n",
    "\n",
    "# print(feature_importances)\n",
    "plt.hist(xgboost_feature_importances.values())\n",
    "# Seems like only COD features are important (can try to only use 4-8 hours if 4-13 hours does not work well)"
   ]
  },
  {
   "cell_type": "code",
   "execution_count": null,
   "id": "02c3dfce",
   "metadata": {},
   "outputs": [],
   "source": [
    "params = {\n",
    "    \"n_estimators\": default_n_trees,\n",
    "    \"verbosity\": -1,\n",
    "    \"random_state\": default_random_state\n",
    "}\n",
    "best_params_lightgbm = get_best_params_from_file(f\"lightgbm_{feature_version}_{default_cv}_{default_random_state}_{default_n_trees}_common_truncated_30_with_interaction_study\")\n",
    "for p in best_params_lightgbm:\n",
    "    params[p] = best_params_lightgbm[p]\n",
    "\n",
    "lightgbm_feature_importances = {}\n",
    "\n",
    "lgbr = LGBMRegressor(**params)\n",
    "for i in range(default_cv):\n",
    "    X_train, X_test = X_train_arr[i], X_test_arr[i]\n",
    "    Y_train, Y_test = Y_train_arr[i], Y_test_arr[i]\n",
    "    lgbr.fit(X_train, Y_train)\n",
    "    print(pearson_score(Y_test, lgbr.predict(X_test)))\n",
    "    features = lgbr.feature_names_in_.tolist()\n",
    "    # features_i = lgbr.feature_importances_.tolist()\n",
    "    features_i = get_shap_values(lgbr, X_train_arr, X_test_arr, Y_train_arr, Y_test_arr, 10000)\n",
    "    for inx, feat in enumerate(features):\n",
    "        lightgbm_feature_importances[feat] = lightgbm_feature_importances.get(feat, 0) + features_i[inx]\n",
    "\n",
    "plt.hist(lightgbm_feature_importances.values())\n",
    "# seems to pick up time features not as good as past 4 hours features"
   ]
  },
  {
   "cell_type": "code",
   "execution_count": null,
   "id": "dd35128c",
   "metadata": {},
   "outputs": [],
   "source": [
    "xgboost_feature_importances_df = pd.DataFrame(\n",
    "    {\"var\": xgboost_feature_importances.keys(), \"importance\": xgboost_feature_importances.values()}\n",
    ")\n",
    "xgboost_feature_importances_df[\"importance\"] /= default_cv\n",
    "# xgboost_feature_importances_df[\"rank_importance\"] = xgboost_feature_importances_df[\"importance\"].rank(ascending=False)\n",
    "# lightgbm_feature_importances_df = pd.DataFrame(\n",
    "#     {\"var\": lightgbm_feature_importances.keys(), \"importance\": lightgbm_feature_importances.values()}\n",
    "# )\n",
    "# lightgbm_feature_importances_df[\"importance\"] /= default_cv\n",
    "# lightgbm_feature_importances_df[\"rank_importance\"] = lightgbm_feature_importances_df[\"importance\"].rank(ascending=False)\n",
    "# catboost_feature_importances_df = pd.DataFrame(\n",
    "#     {\"var\": catboost_feature_importances.keys(), \"importance_catboost\": catboost_feature_importances.values()}\n",
    "# )\n",
    "# catboost_feature_importances_df[\"rank_importance\"] = catboost_feature_importances_df[\"importance_catboost\"].rank(ascending=False)\n",
    "# feature_importances_df = xgboost_feature_importances_df.merge(\n",
    "#     lightgbm_feature_importances_df,\n",
    "#     on=\"var\",\n",
    "#     how=\"inner\",\n",
    "#     suffixes=(\"_xgboost\", \"_lightgbm\")\n",
    "# )\n",
    "feature_importances_df = xgboost_feature_importances_df\n",
    "# feature_importances_df = feature_importances_df.merge(\n",
    "#     catboost_feature_importances_df,\n",
    "#     on=\"var\",\n",
    "#     how=\"inner\",\n",
    "#     suffixes=(\"\", \"_catboost\")\n",
    "# )\n",
    "# feature_importances_df = feature_importances_df[[\"var\", \"rank_importance_xgboost\", \"rank_importance_lightgbm\", \"rank_importance_catboost\"]]\n",
    "# feature_importances_df[\"rank\"] = 1/3 * (feature_importances_df[\"rank_importance_xgboost\"] + feature_importances_df[\"rank_importance_lightgbm\"] + feature_importances_df[\"rank_importance_catboost\"])\n",
    "\n",
    "# feature_importances_df[\"importance\"] = 1/2 * (feature_importances_df[\"importance_xgboost\"] + feature_importances_df[\"importance_lightgbm\"])\n",
    "# best_xgboost_score = optuna.load_study(\n",
    "#     study_name = f\"xgboost_{feature_version}_{default_cv}_{default_random_state}_{default_n_trees}_common_truncated_30_with_interaction_study\",\n",
    "#     storage = f\"sqlite:///xgboost_{feature_version}_{default_cv}_{default_random_state}_{default_n_trees}_common_truncated_30_with_interaction_study.db\"\n",
    "# ).best_value\n",
    "# best_lightgbm_score = optuna.load_study(\n",
    "#     study_name = f\"lightgbm_{feature_version}_{default_cv}_{default_random_state}_{default_n_trees}_common_truncated_30_with_interaction_study\",\n",
    "#     storage = f\"sqlite:///lightgbm_{feature_version}_{default_cv}_{default_random_state}_{default_n_trees}_common_truncated_30_with_interaction_study.db\"\n",
    "# ).best_value\n",
    "# feature_importances_df[\"weighted_importance\"] = (best_xgboost_score * feature_importances_df[\"importance_xgboost\"] + best_lightgbm_score * feature_importances_df[\"importance_lightgbm\"]) / (best_xgboost_score + best_lightgbm_score)\n",
    "# feature_importances_df = feature_importances_df.sort_values(\"weighted_importance\", ascending=False, ignore_index=True)\n",
    "feature_importances_df = feature_importances_df.sort_values(\"importance\", ascending=False, ignore_index=True)\n",
    "feature_importances_df"
   ]
  },
  {
   "cell_type": "code",
   "execution_count": null,
   "id": "6f49b38a",
   "metadata": {},
   "outputs": [],
   "source": [
    "feature_importances_df.head(50)"
   ]
  },
  {
   "cell_type": "code",
   "execution_count": null,
   "id": "6ec656c0",
   "metadata": {},
   "outputs": [],
   "source": [
    "feature_importances_df.to_csv(\"feature_importances_with_interaction_df.csv\", index=False)"
   ]
  },
  {
   "cell_type": "markdown",
   "id": "3fbcc48e",
   "metadata": {},
   "source": [
    "#### Eleventh Trial: Adding MLP and only good (features + interaction features)"
   ]
  },
  {
   "cell_type": "code",
   "execution_count": 29,
   "id": "4494dde4",
   "metadata": {},
   "outputs": [
    {
     "name": "stdout",
     "output_type": "stream",
     "text": [
      "[3, 4, 5, 6] [8, 9, 10, 11]\n",
      "[4, 5, 6, 7] [9, 10, 11, 12]\n",
      "[5, 6, 7, 8] [10, 11, 12, 1]\n",
      "[6, 7, 8, 9] [11, 12, 1, 2]\n"
     ]
    }
   ],
   "source": [
    "best_features = ['X757', 'X758', 'X759', 'X508', 'X614', 'X752', 'X331', 'X445', 'X465', 'X385', \n",
    "                 'X466', 'X95', 'X23', 'X219', 'X31', 'X373', 'X379', 'X284', 'X750', 'X652', \n",
    "                 'X279', 'X89', 'X169', 'X753', 'X226', 'X28', 'X444', 'X272', 'X271', 'X218']\n",
    "best_interaction_features = [\n",
    "    'X205_X169_X298_interaction', 'X198_X131_X292_interaction', 'X205_X169_X291_interaction',\n",
    "    'X198_X89_X290_interaction', 'X198_X175_X294_interaction'\n",
    "]\n",
    "best_exp_interaction_features = [\n",
    "    'X205_X614_X285_exp_interaction', 'X181_X762_X286_exp_interaction', 'X473_X181_X285_exp_interaction',\n",
    "    'X205_X758_X271_exp_interaction', 'X181_X285_exp_interaction', 'X198_X758_X286_exp_interaction'\n",
    "]\n",
    "\n",
    "X_train_arr, X_test_arr, Y_train_arr, Y_test_arr = create_cv(train_df, best_features + best_interaction_features + best_exp_interaction_features)"
   ]
  },
  {
   "cell_type": "markdown",
   "id": "3d3ebd9c",
   "metadata": {},
   "source": [
    "XGBoost"
   ]
  },
  {
   "cell_type": "code",
   "execution_count": 30,
   "id": "d62c5a45",
   "metadata": {},
   "outputs": [
    {
     "name": "stderr",
     "output_type": "stream",
     "text": [
      "[I 2025-07-24 14:12:51,435] Using an existing study with name 'xgboost_2_4_101_1000_common_truncated_30_with_less_interaction_study' instead of creating a new one.\n"
     ]
    },
    {
     "name": "stdout",
     "output_type": "stream",
     "text": [
      "Conduct hyperparam opt for XGBoost\n"
     ]
    },
    {
     "name": "stderr",
     "output_type": "stream",
     "text": [
      "[I 2025-07-24 14:13:03,721] Trial 500 finished with value: 0.10574020217936851 and parameters: {'max_depth': 4, 'learning_rate': 0.0023564869618134276, 'subsample': 0.7893116710195236, 'colsample_bytree': 0.05010164255915135, 'colsample_bynode': 0.24743892158293174, 'colsample_bylevel': 0.26130476594867436, 'min_child_weight': 3, 'reg_alpha': 2.516489656296631, 'reg_lambda': 0.0029868230022391806, 'gamma': 3.335039655883995}. Best is trial 482 with value: 0.11247107629894448.\n",
      "[I 2025-07-24 14:13:15,736] Trial 501 finished with value: 0.09844845531606142 and parameters: {'max_depth': 4, 'learning_rate': 0.0022152754865740914, 'subsample': 0.8195450254384452, 'colsample_bytree': 0.6216753522607805, 'colsample_bynode': 0.26376827044142653, 'colsample_bylevel': 0.2588296890801218, 'min_child_weight': 3, 'reg_alpha': 3.0155074434557134, 'reg_lambda': 2.67211857707203, 'gamma': 3.1690639723176184}. Best is trial 482 with value: 0.11247107629894448.\n",
      "[I 2025-07-24 14:13:28,141] Trial 502 finished with value: 0.10774460375127634 and parameters: {'max_depth': 4, 'learning_rate': 0.00245374672388004, 'subsample': 0.7960372996862215, 'colsample_bytree': 0.1053014740788043, 'colsample_bynode': 0.29167148450927693, 'colsample_bylevel': 0.284225310612193, 'min_child_weight': 3, 'reg_alpha': 0.10776124262962838, 'reg_lambda': 2.1204977635206683, 'gamma': 3.1995461048052625}. Best is trial 482 with value: 0.11247107629894448.\n",
      "[I 2025-07-24 14:13:40,475] Trial 503 finished with value: 0.1102968950253407 and parameters: {'max_depth': 4, 'learning_rate': 0.0018698977516746979, 'subsample': 0.7664645693317174, 'colsample_bytree': 0.079504168864699, 'colsample_bynode': 0.32774180269790143, 'colsample_bylevel': 0.24387413635775118, 'min_child_weight': 3, 'reg_alpha': 3.3091384367954246, 'reg_lambda': 3.0186684640972437, 'gamma': 3.437400088395555}. Best is trial 482 with value: 0.11247107629894448.\n",
      "[I 2025-07-24 14:13:56,966] Trial 504 finished with value: 0.09986912069781265 and parameters: {'max_depth': 6, 'learning_rate': 0.0017023556368992413, 'subsample': 0.763198788052612, 'colsample_bytree': 0.09351757368066943, 'colsample_bynode': 0.3279803576991401, 'colsample_bylevel': 0.25234271153693427, 'min_child_weight': 3, 'reg_alpha': 2.320777488779881, 'reg_lambda': 2.9594683909594877, 'gamma': 3.5650039775842783}. Best is trial 482 with value: 0.11247107629894448.\n",
      "[I 2025-07-24 14:14:09,369] Trial 505 finished with value: 0.11056103723774631 and parameters: {'max_depth': 4, 'learning_rate': 0.001855085010013209, 'subsample': 0.7741409072528926, 'colsample_bytree': 0.07478897688749357, 'colsample_bynode': 0.3080697610113799, 'colsample_bylevel': 0.3130807072444149, 'min_child_weight': 3, 'reg_alpha': 3.0676355096793575, 'reg_lambda': 1.663797497697739, 'gamma': 3.422878239246519}. Best is trial 482 with value: 0.11247107629894448.\n",
      "[I 2025-07-24 14:14:21,232] Trial 506 finished with value: 0.10683250618893356 and parameters: {'max_depth': 4, 'learning_rate': 0.0018237150094690137, 'subsample': 0.734044830908732, 'colsample_bytree': 0.06769924733982836, 'colsample_bynode': 0.30164107582818034, 'colsample_bylevel': 0.2686767851344617, 'min_child_weight': 3, 'reg_alpha': 2.337822497034422, 'reg_lambda': 1.7133912706986445, 'gamma': 3.384008846382131}. Best is trial 482 with value: 0.11247107629894448.\n",
      "[I 2025-07-24 14:14:34,075] Trial 507 finished with value: 0.10693469847310491 and parameters: {'max_depth': 4, 'learning_rate': 0.001880097593689538, 'subsample': 0.7788121053050338, 'colsample_bytree': 0.10776470211270625, 'colsample_bynode': 0.2771641069863658, 'colsample_bylevel': 0.31945512072863563, 'min_child_weight': 3, 'reg_alpha': 3.641030744319118, 'reg_lambda': 3.2124321492474652, 'gamma': 3.7093839141409948}. Best is trial 482 with value: 0.11247107629894448.\n",
      "[I 2025-07-24 14:14:46,711] Trial 508 finished with value: 0.10674299412720786 and parameters: {'max_depth': 4, 'learning_rate': 0.001922358589603341, 'subsample': 0.7695900454275768, 'colsample_bytree': 0.05035100650072766, 'colsample_bynode': 0.3210443607879175, 'colsample_bylevel': 0.30529029582741946, 'min_child_weight': 3, 'reg_alpha': 0.01605992927345845, 'reg_lambda': 0.01125683960977275, 'gamma': 3.340810385838921}. Best is trial 482 with value: 0.11247107629894448.\n",
      "[I 2025-07-24 14:15:01,169] Trial 509 finished with value: 0.09767165993286812 and parameters: {'max_depth': 5, 'learning_rate': 0.001628077075056972, 'subsample': 0.8374171756047936, 'colsample_bytree': 0.3767096007098792, 'colsample_bynode': 0.34458501947528297, 'colsample_bylevel': 0.24106775021121485, 'min_child_weight': 3, 'reg_alpha': 2.1867542480204563, 'reg_lambda': 1.9022210410430884, 'gamma': 3.5132629173045626}. Best is trial 482 with value: 0.11247107629894448.\n",
      "[I 2025-07-24 14:15:13,862] Trial 510 finished with value: 0.11091370134828438 and parameters: {'max_depth': 4, 'learning_rate': 0.0020553646048576926, 'subsample': 0.8087444822907419, 'colsample_bytree': 0.08020538114528483, 'colsample_bynode': 0.3024480463404871, 'colsample_bylevel': 0.2829077430635025, 'min_child_weight': 3, 'reg_alpha': 3.6710439999562574, 'reg_lambda': 0.03190511148707187, 'gamma': 3.4381907766530517}. Best is trial 482 with value: 0.11247107629894448.\n",
      "[I 2025-07-24 14:15:26,263] Trial 511 finished with value: 0.11001199912668295 and parameters: {'max_depth': 4, 'learning_rate': 0.0017561391051785866, 'subsample': 0.7923264219961518, 'colsample_bytree': 0.0949578288591639, 'colsample_bynode': 0.2919842893456371, 'colsample_bylevel': 0.2915701848662351, 'min_child_weight': 3, 'reg_alpha': 3.6388760913878837, 'reg_lambda': 3.7446810067164904, 'gamma': 3.4437721570829165}. Best is trial 482 with value: 0.11247107629894448.\n",
      "[I 2025-07-24 14:15:38,708] Trial 512 finished with value: 0.09832689344452622 and parameters: {'max_depth': 4, 'learning_rate': 0.0014667336713450445, 'subsample': 0.7964670168198582, 'colsample_bytree': 0.12327953205216508, 'colsample_bynode': 0.3026022604246723, 'colsample_bylevel': 0.2858889580830715, 'min_child_weight': 3, 'reg_alpha': 3.217928237229973, 'reg_lambda': 3.043057045958685, 'gamma': 3.428579166720298}. Best is trial 482 with value: 0.11247107629894448.\n",
      "[I 2025-07-24 14:15:50,927] Trial 513 finished with value: 0.10713649499475736 and parameters: {'max_depth': 4, 'learning_rate': 0.0017912092148620869, 'subsample': 0.7536760116288957, 'colsample_bytree': 0.10341177879496441, 'colsample_bynode': 0.2779951966878218, 'colsample_bylevel': 0.33106834898609017, 'min_child_weight': 3, 'reg_alpha': 1.7080968133007588, 'reg_lambda': 3.876292830119824, 'gamma': 3.580201524363489}. Best is trial 482 with value: 0.11247107629894448.\n",
      "[I 2025-07-24 14:16:02,755] Trial 514 finished with value: 0.11234439990576613 and parameters: {'max_depth': 4, 'learning_rate': 0.0020152536016473624, 'subsample': 0.7827172974734073, 'colsample_bytree': 0.08151113973341235, 'colsample_bynode': 0.2512488939351748, 'colsample_bylevel': 0.301060254944535, 'min_child_weight': 3, 'reg_alpha': 3.803977780874961, 'reg_lambda': 0.08895081940155422, 'gamma': 3.4556950350065447}. Best is trial 482 with value: 0.11247107629894448.\n",
      "[I 2025-07-24 14:16:14,808] Trial 515 finished with value: 0.10602703106994336 and parameters: {'max_depth': 4, 'learning_rate': 0.0016944178057537193, 'subsample': 0.7701439050238791, 'colsample_bytree': 0.07225754390227108, 'colsample_bynode': 0.23524803599467098, 'colsample_bylevel': 0.2922040516016333, 'min_child_weight': 3, 'reg_alpha': 3.9242257304810577, 'reg_lambda': 1.4292869841977867, 'gamma': 3.286160921045519}. Best is trial 482 with value: 0.11247107629894448.\n",
      "[I 2025-07-24 14:16:27,236] Trial 516 finished with value: 0.11106057124892371 and parameters: {'max_depth': 4, 'learning_rate': 0.001966980836762032, 'subsample': 0.7862585546343265, 'colsample_bytree': 0.08147245246202356, 'colsample_bynode': 0.2489601979140555, 'colsample_bylevel': 0.31020768204163995, 'min_child_weight': 3, 'reg_alpha': 1.7358233068597069, 'reg_lambda': 1.7502347485792522, 'gamma': 3.4335744131746315}. Best is trial 482 with value: 0.11247107629894448.\n",
      "[I 2025-07-24 14:16:39,709] Trial 517 finished with value: 0.0976649766716966 and parameters: {'max_depth': 4, 'learning_rate': 0.002058621745946784, 'subsample': 0.785611711904589, 'colsample_bytree': 0.41465934781562686, 'colsample_bynode': 0.19994389504264476, 'colsample_bylevel': 0.31006353592677127, 'min_child_weight': 3, 'reg_alpha': 1.7313459440942869, 'reg_lambda': 0.025190570515420285, 'gamma': 3.4756676901492876}. Best is trial 482 with value: 0.11247107629894448.\n",
      "[I 2025-07-24 14:16:52,504] Trial 518 finished with value: 0.1071079456462759 and parameters: {'max_depth': 4, 'learning_rate': 0.001941854219580052, 'subsample': 0.7287112192284871, 'colsample_bytree': 0.06743433396312863, 'colsample_bynode': 0.2588742872506523, 'colsample_bylevel': 0.31901414544024703, 'min_child_weight': 3, 'reg_alpha': 0.26758409769497105, 'reg_lambda': 0.1242103543983808, 'gamma': 3.3962228458892674}. Best is trial 482 with value: 0.11247107629894448.\n",
      "[I 2025-07-24 14:17:04,808] Trial 519 finished with value: 0.11113589809867004 and parameters: {'max_depth': 4, 'learning_rate': 0.001739786921148081, 'subsample': 0.8065048877377, 'colsample_bytree': 0.07990780988667585, 'colsample_bynode': 0.25200320341967436, 'colsample_bylevel': 0.35568598526618583, 'min_child_weight': 3, 'reg_alpha': 0.07593473218414193, 'reg_lambda': 1.5862616580746725, 'gamma': 3.4621975942864633}. Best is trial 482 with value: 0.11247107629894448.\n",
      "[I 2025-07-24 14:17:17,276] Trial 520 finished with value: 0.10503498605920969 and parameters: {'max_depth': 4, 'learning_rate': 0.0016305901268104735, 'subsample': 0.8045045242188197, 'colsample_bytree': 0.06506257909560895, 'colsample_bynode': 0.25046324049072943, 'colsample_bylevel': 0.3507277905561541, 'min_child_weight': 3, 'reg_alpha': 1.7118353895472125, 'reg_lambda': 1.7032562917930678, 'gamma': 3.566135877779734}. Best is trial 482 with value: 0.11247107629894448.\n",
      "[I 2025-07-24 14:17:29,488] Trial 521 finished with value: 0.11087544125415194 and parameters: {'max_depth': 4, 'learning_rate': 0.0018009907163373574, 'subsample': 0.8305109849161998, 'colsample_bytree': 0.07764873550001278, 'colsample_bynode': 0.2871855535236821, 'colsample_bylevel': 0.30962018200284364, 'min_child_weight': 3, 'reg_alpha': 0.1878847460912102, 'reg_lambda': 0.18040120816969, 'gamma': 3.6787854689359545}. Best is trial 482 with value: 0.11247107629894448.\n",
      "[I 2025-07-24 14:17:41,554] Trial 522 finished with value: 0.10541333101287106 and parameters: {'max_depth': 4, 'learning_rate': 0.0014833904928812215, 'subsample': 0.8172229426276794, 'colsample_bytree': 0.06399039685386337, 'colsample_bynode': 0.22520588063375965, 'colsample_bylevel': 0.33384968718661945, 'min_child_weight': 3, 'reg_alpha': 0.054007419178736804, 'reg_lambda': 0.00969573918179556, 'gamma': 3.6694498213745295}. Best is trial 482 with value: 0.11247107629894448.\n",
      "[I 2025-07-24 14:17:55,368] Trial 523 finished with value: 0.10402330784648617 and parameters: {'max_depth': 5, 'learning_rate': 0.0018408250629384057, 'subsample': 0.7822534803133673, 'colsample_bytree': 0.08192853369653094, 'colsample_bynode': 0.2917930805581357, 'colsample_bylevel': 0.3054017889287302, 'min_child_weight': 3, 'reg_alpha': 0.21028970688589113, 'reg_lambda': 0.16984727059204685, 'gamma': 3.741105993487922}. Best is trial 482 with value: 0.11247107629894448.\n",
      "[I 2025-07-24 14:18:07,600] Trial 524 finished with value: 0.10631693275298602 and parameters: {'max_depth': 4, 'learning_rate': 0.001683247135296558, 'subsample': 0.7619482282732093, 'colsample_bytree': 0.06491671930598371, 'colsample_bynode': 0.2633623069349121, 'colsample_bylevel': 0.35312502435868326, 'min_child_weight': 3, 'reg_alpha': 1.8410445805540423, 'reg_lambda': 1.883023920326688, 'gamma': 3.480099852077275}. Best is trial 482 with value: 0.11247107629894448.\n",
      "[I 2025-07-24 14:18:20,342] Trial 525 finished with value: 0.11134293820022442 and parameters: {'max_depth': 4, 'learning_rate': 0.00197976715739727, 'subsample': 0.8274175574259776, 'colsample_bytree': 0.08118153907119563, 'colsample_bynode': 0.2812331485414662, 'colsample_bylevel': 0.2790169329473589, 'min_child_weight': 3, 'reg_alpha': 2.033624168070614, 'reg_lambda': 0.06326882772036496, 'gamma': 3.6271421361556997}. Best is trial 482 with value: 0.11247107629894448.\n",
      "[I 2025-07-24 14:18:33,078] Trial 526 finished with value: 0.10579360279533694 and parameters: {'max_depth': 4, 'learning_rate': 0.0019600940053507722, 'subsample': 0.8231041098426733, 'colsample_bytree': 0.051213902694533464, 'colsample_bynode': 0.2732368918665944, 'colsample_bylevel': 0.2953809002934416, 'min_child_weight': 3, 'reg_alpha': 2.185942031149786, 'reg_lambda': 0.03013174315334677, 'gamma': 3.607589641952161}. Best is trial 482 with value: 0.11247107629894448.\n",
      "[I 2025-07-24 14:18:45,515] Trial 527 finished with value: 0.11113312710063508 and parameters: {'max_depth': 4, 'learning_rate': 0.0017478675052847196, 'subsample': 0.7988580160799249, 'colsample_bytree': 0.07541551837360183, 'colsample_bynode': 0.3104566716872751, 'colsample_bylevel': 0.2713656833131002, 'min_child_weight': 3, 'reg_alpha': 0.36650144214777636, 'reg_lambda': 0.05078667910507595, 'gamma': 3.8154264253329715}. Best is trial 482 with value: 0.11247107629894448.\n",
      "[I 2025-07-24 14:18:57,637] Trial 528 finished with value: 0.10089029244753317 and parameters: {'max_depth': 4, 'learning_rate': 0.001549826563526953, 'subsample': 0.7981221649749841, 'colsample_bytree': 0.2794874345872369, 'colsample_bynode': 0.31006471853180817, 'colsample_bylevel': 0.2714073697021371, 'min_child_weight': 3, 'reg_alpha': 1.7493684265061369, 'reg_lambda': 1.8256787662283365, 'gamma': 3.8014860369103776}. Best is trial 482 with value: 0.11247107629894448.\n",
      "[I 2025-07-24 14:19:10,808] Trial 529 finished with value: 0.09183751896677805 and parameters: {'max_depth': 4, 'learning_rate': 0.001837864049472459, 'subsample': 0.8322795476121584, 'colsample_bytree': 0.7699410998357634, 'colsample_bynode': 0.2900602962283414, 'colsample_bylevel': 0.28346600664194527, 'min_child_weight': 3, 'reg_alpha': 1.6303753028545054, 'reg_lambda': 2.231448201516855, 'gamma': 3.8759624850701835}. Best is trial 482 with value: 0.11247107629894448.\n",
      "[I 2025-07-24 14:19:23,590] Trial 530 finished with value: 0.11065867295864769 and parameters: {'max_depth': 4, 'learning_rate': 0.0017259245941018148, 'subsample': 0.8097754530110192, 'colsample_bytree': 0.07614203411313543, 'colsample_bynode': 0.3261768209654178, 'colsample_bylevel': 0.3155495852611637, 'min_child_weight': 3, 'reg_alpha': 0.2568013907627227, 'reg_lambda': 3.6700070430205463, 'gamma': 4.036983316622545}. Best is trial 482 with value: 0.11247107629894448.\n",
      "[I 2025-07-24 14:19:36,645] Trial 531 finished with value: 0.10550568567018338 and parameters: {'max_depth': 4, 'learning_rate': 0.002065148558350482, 'subsample': 0.8136589609973911, 'colsample_bytree': 0.05057117095534901, 'colsample_bynode': 0.33127482178355466, 'colsample_bylevel': 0.3304552022402082, 'min_child_weight': 3, 'reg_alpha': 0.07804022518920606, 'reg_lambda': 0.056891865673496245, 'gamma': 4.076132168639827}. Best is trial 482 with value: 0.11247107629894448.\n",
      "[I 2025-07-24 14:19:49,664] Trial 532 finished with value: 0.11144212363510411 and parameters: {'max_depth': 4, 'learning_rate': 0.0013810119967264428, 'subsample': 0.8305598202892539, 'colsample_bytree': 0.07421259114540105, 'colsample_bynode': 0.21162064751754167, 'colsample_bylevel': 0.37514548830340866, 'min_child_weight': 3, 'reg_alpha': 0.0835726933523181, 'reg_lambda': 0.07914570395179532, 'gamma': 3.2893551936607306}. Best is trial 482 with value: 0.11247107629894448.\n",
      "[I 2025-07-24 14:20:02,322] Trial 533 finished with value: 0.10497555432794275 and parameters: {'max_depth': 4, 'learning_rate': 0.0013367789140969605, 'subsample': 0.8320452816187018, 'colsample_bytree': 0.0680699894991122, 'colsample_bynode': 0.22288977632311124, 'colsample_bylevel': 0.37880692479997047, 'min_child_weight': 3, 'reg_alpha': 0.34368122531811784, 'reg_lambda': 1.8283043148439724, 'gamma': 3.974724148937746}. Best is trial 482 with value: 0.11247107629894448.\n",
      "[I 2025-07-24 14:20:14,756] Trial 534 finished with value: 0.10593897320622322 and parameters: {'max_depth': 4, 'learning_rate': 0.0017324589160216874, 'subsample': 0.8402454228114862, 'colsample_bytree': 0.06929550390529603, 'colsample_bynode': 0.2468412846293549, 'colsample_bylevel': 0.3146636224446132, 'min_child_weight': 3, 'reg_alpha': 0.22481873450783318, 'reg_lambda': 1.6927347361110807, 'gamma': 3.6711623786839493}. Best is trial 482 with value: 0.11247107629894448.\n",
      "[I 2025-07-24 14:20:27,436] Trial 535 finished with value: 0.11014669578995222 and parameters: {'max_depth': 4, 'learning_rate': 0.0015945553304374954, 'subsample': 0.8104973311524483, 'colsample_bytree': 0.07613691951975965, 'colsample_bynode': 0.3154631843458165, 'colsample_bylevel': 0.3484774965792185, 'min_child_weight': 3, 'reg_alpha': 0.2617121771301951, 'reg_lambda': 1.7777838244724282, 'gamma': 4.287885409364487}. Best is trial 482 with value: 0.11247107629894448.\n",
      "[I 2025-07-24 14:20:39,494] Trial 536 finished with value: 0.10592194129097722 and parameters: {'max_depth': 4, 'learning_rate': 0.0014187000130781735, 'subsample': 0.8083958489205714, 'colsample_bytree': 0.0665453768829157, 'colsample_bynode': 0.17545433722444523, 'colsample_bylevel': 0.36984351803924626, 'min_child_weight': 3, 'reg_alpha': 1.8106904797935268, 'reg_lambda': 0.13608281359380442, 'gamma': 4.066772408357917}. Best is trial 482 with value: 0.11247107629894448.\n",
      "[I 2025-07-24 14:20:53,659] Trial 537 finished with value: 0.10917221518559869 and parameters: {'max_depth': 5, 'learning_rate': 0.001580634876689902, 'subsample': 0.8220638675851125, 'colsample_bytree': 0.0508113915874527, 'colsample_bynode': 0.3145978500706058, 'colsample_bylevel': 0.34077560285419206, 'min_child_weight': 3, 'reg_alpha': 1.7185668484337815, 'reg_lambda': 0.013085372444443522, 'gamma': 4.119482992110685}. Best is trial 482 with value: 0.11247107629894448.\n",
      "[I 2025-07-24 14:21:05,960] Trial 538 finished with value: 0.10542629515913055 and parameters: {'max_depth': 4, 'learning_rate': 0.0015528113302749867, 'subsample': 0.7915995188112435, 'colsample_bytree': 0.07282552997131198, 'colsample_bynode': 0.2723870771789302, 'colsample_bylevel': 0.35673007101078746, 'min_child_weight': 3, 'reg_alpha': 0.07521910787143804, 'reg_lambda': 2.7472523348192506, 'gamma': 4.317044458255165}. Best is trial 482 with value: 0.11247107629894448.\n",
      "[I 2025-07-24 14:21:19,141] Trial 539 finished with value: 0.10917579772396363 and parameters: {'max_depth': 4, 'learning_rate': 0.001247540562168095, 'subsample': 0.8058404267248047, 'colsample_bytree': 0.07885246799127357, 'colsample_bynode': 0.20596305126238437, 'colsample_bylevel': 0.3173215593733715, 'min_child_weight': 3, 'reg_alpha': 0.3329801083501338, 'reg_lambda': 3.850245424591595, 'gamma': 4.239941528804845}. Best is trial 482 with value: 0.11247107629894448.\n",
      "[I 2025-07-24 14:21:31,608] Trial 540 finished with value: 0.10552927884196252 and parameters: {'max_depth': 4, 'learning_rate': 0.001955104963094468, 'subsample': 0.833881589805513, 'colsample_bytree': 0.05081711494433275, 'colsample_bynode': 0.32493320840998924, 'colsample_bylevel': 0.3029904619552914, 'min_child_weight': 3, 'reg_alpha': 0.15329574164047188, 'reg_lambda': 1.7661787874626416, 'gamma': 3.602573771510189}. Best is trial 482 with value: 0.11247107629894448.\n",
      "[I 2025-07-24 14:21:44,624] Trial 541 finished with value: 0.10661056773987068 and parameters: {'max_depth': 4, 'learning_rate': 0.0013894365144450794, 'subsample': 0.7822700094107363, 'colsample_bytree': 0.050443396940336935, 'colsample_bynode': 0.3056583764493403, 'colsample_bylevel': 0.3424506678121514, 'min_child_weight': 3, 'reg_alpha': 2.9356087863924203, 'reg_lambda': 0.15089073831401878, 'gamma': 4.561485152865377}. Best is trial 482 with value: 0.11247107629894448.\n",
      "[I 2025-07-24 14:21:56,655] Trial 542 finished with value: 0.1104659016763799 and parameters: {'max_depth': 4, 'learning_rate': 0.0017014202922069682, 'subsample': 0.8116637902737254, 'colsample_bytree': 0.0791813201887132, 'colsample_bynode': 0.18244976691252046, 'colsample_bylevel': 0.3891330970266963, 'min_child_weight': 3, 'reg_alpha': 0.06445199716520157, 'reg_lambda': 3.553809053729082, 'gamma': 3.906671193669532}. Best is trial 482 with value: 0.11247107629894448.\n",
      "[I 2025-07-24 14:22:09,306] Trial 543 finished with value: 0.1092633604319556 and parameters: {'max_depth': 4, 'learning_rate': 0.002094896443764076, 'subsample': 0.7491503969945172, 'colsample_bytree': 0.08035171762034957, 'colsample_bynode': 0.16170614901350253, 'colsample_bylevel': 0.2719003391784861, 'min_child_weight': 3, 'reg_alpha': 3.3578411033256996, 'reg_lambda': 3.840826914582367, 'gamma': 3.713182258619146}. Best is trial 482 with value: 0.11247107629894448.\n",
      "[I 2025-07-24 14:22:22,020] Trial 544 finished with value: 0.10891115795841384 and parameters: {'max_depth': 4, 'learning_rate': 0.001811672048670526, 'subsample': 0.8444753192714598, 'colsample_bytree': 0.10800662467129288, 'colsample_bynode': 0.23520031800212707, 'colsample_bylevel': 0.4092689457063036, 'min_child_weight': 3, 'reg_alpha': 0.06571984270897957, 'reg_lambda': 0.02964521403798598, 'gamma': 3.877009037210258}. Best is trial 482 with value: 0.11247107629894448.\n",
      "[I 2025-07-24 14:22:34,387] Trial 545 finished with value: 0.10984922352593399 and parameters: {'max_depth': 4, 'learning_rate': 0.0019721761556313606, 'subsample': 0.8219148130964955, 'colsample_bytree': 0.07887659744848227, 'colsample_bynode': 0.17418772852603084, 'colsample_bylevel': 0.27062921711830856, 'min_child_weight': 3, 'reg_alpha': 2.4926503005844243, 'reg_lambda': 4.159861135260322, 'gamma': 3.9245729189784826}. Best is trial 482 with value: 0.11247107629894448.\n",
      "[I 2025-07-24 14:22:46,798] Trial 546 finished with value: 0.10523810786303915 and parameters: {'max_depth': 4, 'learning_rate': 0.0017369962142159228, 'subsample': 0.779695827551848, 'colsample_bytree': 0.05011972034650612, 'colsample_bynode': 0.14023143277069733, 'colsample_bylevel': 0.4350662502528152, 'min_child_weight': 3, 'reg_alpha': 0.022798475005607166, 'reg_lambda': 3.156704909828813, 'gamma': 3.776625313185584}. Best is trial 482 with value: 0.11247107629894448.\n",
      "[I 2025-07-24 14:22:59,343] Trial 547 finished with value: 0.1112342294412521 and parameters: {'max_depth': 4, 'learning_rate': 0.002119377610478671, 'subsample': 0.7973247474933319, 'colsample_bytree': 0.08231181869299058, 'colsample_bynode': 0.18577821314016685, 'colsample_bylevel': 0.37983522478433684, 'min_child_weight': 3, 'reg_alpha': 2.6009132874029515, 'reg_lambda': 0.025614888279883015, 'gamma': 3.2414320872170563}. Best is trial 482 with value: 0.11247107629894448.\n",
      "[I 2025-07-24 14:23:12,304] Trial 548 finished with value: 0.10757155178414005 and parameters: {'max_depth': 4, 'learning_rate': 0.0021335354315750576, 'subsample': 0.8006103270188544, 'colsample_bytree': 0.10385085785314067, 'colsample_bynode': 0.21288123534516776, 'colsample_bylevel': 0.41902982499708324, 'min_child_weight': 3, 'reg_alpha': 2.501740417410904, 'reg_lambda': 0.07536340525095825, 'gamma': 3.242891652115382}. Best is trial 482 with value: 0.11247107629894448.\n",
      "[I 2025-07-24 14:23:24,869] Trial 549 finished with value: 0.100651355361549 and parameters: {'max_depth': 4, 'learning_rate': 0.002135531386442091, 'subsample': 0.8385890445982924, 'colsample_bytree': 0.06675121761201915, 'colsample_bynode': 0.18164247953984952, 'colsample_bylevel': 0.3961308011198732, 'min_child_weight': 3, 'reg_alpha': 2.623652519836494, 'reg_lambda': 89.74522032027294, 'gamma': 3.316752265795267}. Best is trial 482 with value: 0.11247107629894448.\n",
      "[I 2025-07-24 14:23:39,263] Trial 550 finished with value: 0.10455988702314202 and parameters: {'max_depth': 5, 'learning_rate': 0.002119850138126266, 'subsample': 0.819488299325276, 'colsample_bytree': 0.08798300442687142, 'colsample_bynode': 0.14669229462975852, 'colsample_bylevel': 0.3629682003784368, 'min_child_weight': 3, 'reg_alpha': 2.077084647539031, 'reg_lambda': 2.03026405484826, 'gamma': 3.1852951730625025}. Best is trial 482 with value: 0.11247107629894448.\n",
      "[I 2025-07-24 14:23:51,315] Trial 551 finished with value: 0.1060678800101916 and parameters: {'max_depth': 4, 'learning_rate': 0.0010925683846609961, 'subsample': 0.7973117471160487, 'colsample_bytree': 0.11414367782908671, 'colsample_bynode': 0.18846059392161432, 'colsample_bylevel': 0.37268117303988485, 'min_child_weight': 3, 'reg_alpha': 3.416765472421018, 'reg_lambda': 1.8922261337464645, 'gamma': 3.5307846808288406}. Best is trial 482 with value: 0.11247107629894448.\n",
      "[I 2025-07-24 14:24:04,197] Trial 552 finished with value: 0.11093248525813382 and parameters: {'max_depth': 4, 'learning_rate': 0.0019580253186302775, 'subsample': 0.8260722827193028, 'colsample_bytree': 0.09502974407834097, 'colsample_bynode': 0.25079505794425266, 'colsample_bylevel': 0.32306448625708983, 'min_child_weight': 3, 'reg_alpha': 0.18340077766452012, 'reg_lambda': 4.308223280396004, 'gamma': 3.368939312000802}. Best is trial 482 with value: 0.11247107629894448.\n",
      "[I 2025-07-24 14:24:16,870] Trial 553 finished with value: 0.1075729877816445 and parameters: {'max_depth': 4, 'learning_rate': 0.0019208133333597892, 'subsample': 0.8241918869401935, 'colsample_bytree': 0.09775306717972934, 'colsample_bynode': 0.256770069044337, 'colsample_bylevel': 0.3827262164912025, 'min_child_weight': 3, 'reg_alpha': 1.5879971640426418, 'reg_lambda': 0.10624294701691243, 'gamma': 3.3779518663605437}. Best is trial 482 with value: 0.11247107629894448.\n",
      "[I 2025-07-24 14:24:29,322] Trial 554 finished with value: 0.10496237782969543 and parameters: {'max_depth': 4, 'learning_rate': 0.0017361929613293843, 'subsample': 0.8042678746588277, 'colsample_bytree': 0.06713123985422492, 'colsample_bynode': 0.23822365194839895, 'colsample_bylevel': 0.32470760520901837, 'min_child_weight': 3, 'reg_alpha': 0.23722161247964513, 'reg_lambda': 4.084856105445509, 'gamma': 3.268743599612215}. Best is trial 482 with value: 0.11247107629894448.\n",
      "[I 2025-07-24 14:24:42,618] Trial 555 finished with value: 0.10834619839685355 and parameters: {'max_depth': 4, 'learning_rate': 0.0022451682200685624, 'subsample': 0.7847554170376115, 'colsample_bytree': 0.11744929505877759, 'colsample_bynode': 0.28470876968125036, 'colsample_bylevel': 0.3073622058808814, 'min_child_weight': 3, 'reg_alpha': 0.048588261674498645, 'reg_lambda': 0.01708854590006622, 'gamma': 3.9655932286931423}. Best is trial 482 with value: 0.11247107629894448.\n",
      "[I 2025-07-24 14:24:55,160] Trial 556 finished with value: 0.11149070110870929 and parameters: {'max_depth': 4, 'learning_rate': 0.001998888867815481, 'subsample': 0.8354807856358892, 'colsample_bytree': 0.09532198691983494, 'colsample_bynode': 0.22922677695593244, 'colsample_bylevel': 0.29151096909944435, 'min_child_weight': 3, 'reg_alpha': 0.032909017637765214, 'reg_lambda': 1.8068490227364562, 'gamma': 3.1510065392549444}. Best is trial 482 with value: 0.11247107629894448.\n",
      "[I 2025-07-24 14:25:15,354] Trial 557 finished with value: 0.1018505879957623 and parameters: {'max_depth': 7, 'learning_rate': 0.001985644423341605, 'subsample': 0.8403956000114432, 'colsample_bytree': 0.13040924059946918, 'colsample_bynode': 0.22498989181620047, 'colsample_bylevel': 0.29620279861497034, 'min_child_weight': 3, 'reg_alpha': 2.1766760491632224, 'reg_lambda': 1.7283296697454222, 'gamma': 3.119850564287124}. Best is trial 482 with value: 0.11247107629894448.\n",
      "[I 2025-07-24 14:25:28,104] Trial 558 finished with value: 0.10687274502755778 and parameters: {'max_depth': 4, 'learning_rate': 0.002105091393956569, 'subsample': 0.8351757986582625, 'colsample_bytree': 0.10074828855805362, 'colsample_bynode': 0.26421916313293864, 'colsample_bylevel': 0.3351736128073803, 'min_child_weight': 4, 'reg_alpha': 3.5706848645105875, 'reg_lambda': 1.9098943956120968, 'gamma': 3.213368132024905}. Best is trial 482 with value: 0.11247107629894448.\n",
      "[I 2025-07-24 14:25:40,571] Trial 559 finished with value: 0.10669121695832251 and parameters: {'max_depth': 4, 'learning_rate': 0.0022609466349323114, 'subsample': 0.8201760331282555, 'colsample_bytree': 0.11549153877216788, 'colsample_bynode': 0.2485949212347835, 'colsample_bylevel': 0.2849145471268411, 'min_child_weight': 3, 'reg_alpha': 2.039659457340811, 'reg_lambda': 0.11120077804530323, 'gamma': 3.0346413515258317}. Best is trial 482 with value: 0.11247107629894448.\n",
      "[I 2025-07-24 14:25:53,600] Trial 560 finished with value: 0.10970516253684864 and parameters: {'max_depth': 4, 'learning_rate': 0.001907422883447377, 'subsample': 0.7886589142031419, 'colsample_bytree': 0.09279864238140063, 'colsample_bynode': 0.2792949122996852, 'colsample_bylevel': 0.3255634369541735, 'min_child_weight': 3, 'reg_alpha': 2.1363613757761177, 'reg_lambda': 4.491743571606416, 'gamma': 3.3427868708976716}. Best is trial 482 with value: 0.11247107629894448.\n",
      "[I 2025-07-24 14:26:07,583] Trial 561 finished with value: 0.10588269888335457 and parameters: {'max_depth': 5, 'learning_rate': 0.002214707292344993, 'subsample': 0.798566567980228, 'colsample_bytree': 0.06744272961988768, 'colsample_bynode': 0.20391810065387708, 'colsample_bylevel': 0.3032975715090701, 'min_child_weight': 3, 'reg_alpha': 3.597409414890803, 'reg_lambda': 1.9834851460095186, 'gamma': 3.4734937936916546}. Best is trial 482 with value: 0.11247107629894448.\n",
      "[I 2025-07-24 14:26:20,069] Trial 562 finished with value: 0.10083185830695629 and parameters: {'max_depth': 4, 'learning_rate': 0.001953959753783154, 'subsample': 0.8439066897139035, 'colsample_bytree': 0.09406813056083987, 'colsample_bynode': 0.297669156624416, 'colsample_bylevel': 0.2797967237159697, 'min_child_weight': 4, 'reg_alpha': 94.78269424564937, 'reg_lambda': 1.8458790279356443, 'gamma': 3.178669105616976}. Best is trial 482 with value: 0.11247107629894448.\n",
      "[I 2025-07-24 14:26:32,633] Trial 563 finished with value: 0.10527920819958597 and parameters: {'max_depth': 4, 'learning_rate': 0.0015123854728080423, 'subsample': 0.818758019737467, 'colsample_bytree': 0.06285125674682436, 'colsample_bynode': 0.25607034126059935, 'colsample_bylevel': 0.26362816309327647, 'min_child_weight': 3, 'reg_alpha': 0.04020272093254329, 'reg_lambda': 4.725311989502943, 'gamma': 3.377638472041603}. Best is trial 482 with value: 0.11247107629894448.\n",
      "[I 2025-07-24 14:26:45,325] Trial 564 finished with value: 0.09245189305554771 and parameters: {'max_depth': 4, 'learning_rate': 0.0017803272438601371, 'subsample': 0.768119785569913, 'colsample_bytree': 0.832407260284454, 'colsample_bynode': 0.22703903055937197, 'colsample_bylevel': 0.31317830082292636, 'min_child_weight': 3, 'reg_alpha': 1.9634612016788697, 'reg_lambda': 2.0194454313759835, 'gamma': 3.277685436612594}. Best is trial 482 with value: 0.11247107629894448.\n",
      "[I 2025-07-24 14:26:58,120] Trial 565 finished with value: 0.09979099997638263 and parameters: {'max_depth': 4, 'learning_rate': 0.0020889685179740223, 'subsample': 0.8475515831923496, 'colsample_bytree': 0.12781190534633485, 'colsample_bynode': 0.2670537408315489, 'colsample_bylevel': 0.28969335140766467, 'min_child_weight': 3, 'reg_alpha': 0.06024935014483057, 'reg_lambda': 4.611747189687497, 'gamma': 3.4513418385349612}. Best is trial 482 with value: 0.11247107629894448.\n",
      "[I 2025-07-24 14:27:10,392] Trial 566 finished with value: 0.11106081455684305 and parameters: {'max_depth': 4, 'learning_rate': 0.002295027086777371, 'subsample': 0.8276248664844974, 'colsample_bytree': 0.08266826817994896, 'colsample_bynode': 0.28478739369337935, 'colsample_bylevel': 0.3207431170084568, 'min_child_weight': 3, 'reg_alpha': 3.780660269601189, 'reg_lambda': 1.9678534355147272, 'gamma': 3.0795184514565146}. Best is trial 482 with value: 0.11247107629894448.\n",
      "[I 2025-07-24 14:27:23,379] Trial 567 finished with value: 0.0978329694401373 and parameters: {'max_depth': 4, 'learning_rate': 0.0023577918340831135, 'subsample': 0.8306216933036692, 'colsample_bytree': 0.5558229153609123, 'colsample_bynode': 0.2855558980777298, 'colsample_bylevel': 0.265083720410051, 'min_child_weight': 3, 'reg_alpha': 3.7963953628720097, 'reg_lambda': 3.822694821162429, 'gamma': 3.006417313469624}. Best is trial 482 with value: 0.11247107629894448.\n",
      "[I 2025-07-24 14:27:35,858] Trial 568 finished with value: 0.10717538203352221 and parameters: {'max_depth': 4, 'learning_rate': 0.0022497906232464807, 'subsample': 0.8086966649503471, 'colsample_bytree': 0.11165232072332287, 'colsample_bynode': 0.23790934352026152, 'colsample_bylevel': 0.33398343359127425, 'min_child_weight': 3, 'reg_alpha': 1.8975305944280372, 'reg_lambda': 0.02378402599814744, 'gamma': 3.155050308366179}. Best is trial 482 with value: 0.11247107629894448.\n",
      "[I 2025-07-24 14:27:47,806] Trial 569 finished with value: 0.11070127742126502 and parameters: {'max_depth': 4, 'learning_rate': 0.002037243811440164, 'subsample': 0.8448408131093785, 'colsample_bytree': 0.09218271205081716, 'colsample_bynode': 0.2807653117922539, 'colsample_bylevel': 0.2860414387916672, 'min_child_weight': 3, 'reg_alpha': 4.038877842650644, 'reg_lambda': 2.1451512694293853, 'gamma': 3.0631175979456864}. Best is trial 482 with value: 0.11247107629894448.\n",
      "[I 2025-07-24 14:28:00,652] Trial 570 finished with value: 0.09953219169148755 and parameters: {'max_depth': 4, 'learning_rate': 0.002063885884293137, 'subsample': 0.8487892987567953, 'colsample_bytree': 0.13339934704445058, 'colsample_bynode': 0.25435646961069214, 'colsample_bylevel': 0.28047821330010947, 'min_child_weight': 3, 'reg_alpha': 4.077425301361173, 'reg_lambda': 2.121389483969287, 'gamma': 2.93467766360574}. Best is trial 482 with value: 0.11247107629894448.\n",
      "[I 2025-07-24 14:28:13,507] Trial 571 finished with value: 0.10692299847354123 and parameters: {'max_depth': 4, 'learning_rate': 0.002305602661855448, 'subsample': 0.8307987426802671, 'colsample_bytree': 0.1048617340451158, 'colsample_bynode': 0.2774569867844322, 'colsample_bylevel': 0.25656991533945434, 'min_child_weight': 4, 'reg_alpha': 4.129433582568808, 'reg_lambda': 1.788422006495367, 'gamma': 3.0873124785047676}. Best is trial 482 with value: 0.11247107629894448.\n",
      "[I 2025-07-24 14:28:27,971] Trial 572 finished with value: 0.09843228391248686 and parameters: {'max_depth': 5, 'learning_rate': 0.002139918403621497, 'subsample': 0.8443388656111898, 'colsample_bytree': 0.09758001629344423, 'colsample_bynode': 0.21644495231828353, 'colsample_bylevel': 0.2985800519310258, 'min_child_weight': 3, 'reg_alpha': 4.016584898574092, 'reg_lambda': 0.14446061738599084, 'gamma': 3.038343265641915}. Best is trial 482 with value: 0.11247107629894448.\n",
      "[I 2025-07-24 14:28:40,598] Trial 573 finished with value: 0.10757335643842124 and parameters: {'max_depth': 4, 'learning_rate': 0.0023891047378567995, 'subsample': 0.8307687040971532, 'colsample_bytree': 0.11780427314447771, 'colsample_bynode': 0.29642053244969235, 'colsample_bylevel': 0.27807007034259357, 'min_child_weight': 3, 'reg_alpha': 2.000939282315071, 'reg_lambda': 0.0295698171158838, 'gamma': 3.227326255299851}. Best is trial 482 with value: 0.11247107629894448.\n",
      "[I 2025-07-24 14:28:53,023] Trial 574 finished with value: 0.10984253345397736 and parameters: {'max_depth': 4, 'learning_rate': 0.001977553261933357, 'subsample': 0.7933320208221578, 'colsample_bytree': 0.09052785308182072, 'colsample_bynode': 0.2627875301025372, 'colsample_bylevel': 0.26179851903098683, 'min_child_weight': 3, 'reg_alpha': 3.8776279422243416, 'reg_lambda': 4.769056331732247, 'gamma': 3.1215400608881256}. Best is trial 482 with value: 0.11247107629894448.\n",
      "[I 2025-07-24 14:29:05,978] Trial 575 finished with value: 0.09949518448243021 and parameters: {'max_depth': 4, 'learning_rate': 0.0023000590215880665, 'subsample': 0.8491069629020604, 'colsample_bytree': 0.14260291495850064, 'colsample_bynode': 0.23700070982326624, 'colsample_bylevel': 0.28830247139900056, 'min_child_weight': 3, 'reg_alpha': 1.9434546910828874, 'reg_lambda': 2.6447018761656023, 'gamma': 3.288872356410486}. Best is trial 482 with value: 0.11247107629894448.\n",
      "[I 2025-07-24 14:29:18,245] Trial 576 finished with value: 0.1111991838788535 and parameters: {'max_depth': 4, 'learning_rate': 0.002013494040750491, 'subsample': 0.8115664236855888, 'colsample_bytree': 0.08909183751959443, 'colsample_bynode': 0.27494403936213735, 'colsample_bylevel': 0.351619510561284, 'min_child_weight': 3, 'reg_alpha': 0.029944035942020802, 'reg_lambda': 0.025800488336184126, 'gamma': 2.921438523697188}. Best is trial 482 with value: 0.11247107629894448.\n",
      "[I 2025-07-24 14:29:30,862] Trial 577 finished with value: 0.1050880773844947 and parameters: {'max_depth': 4, 'learning_rate': 0.0018645133866243958, 'subsample': 0.8120992649690865, 'colsample_bytree': 0.051731664615166956, 'colsample_bynode': 0.25104326906484487, 'colsample_bylevel': 0.35778818795435335, 'min_child_weight': 3, 'reg_alpha': 0.11527271700952402, 'reg_lambda': 1.793058397091055, 'gamma': 3.219174468346511}. Best is trial 482 with value: 0.11247107629894448.\n",
      "[I 2025-07-24 14:29:43,778] Trial 578 finished with value: 0.11093867836188855 and parameters: {'max_depth': 4, 'learning_rate': 0.0023480844720169215, 'subsample': 0.7445725315204572, 'colsample_bytree': 0.08224532648018623, 'colsample_bynode': 0.29136750911270404, 'colsample_bylevel': 0.3365334439889573, 'min_child_weight': 3, 'reg_alpha': 1.9862399098290004, 'reg_lambda': 0.004832883724575104, 'gamma': 2.954928805824913}. Best is trial 482 with value: 0.11247107629894448.\n",
      "[I 2025-07-24 14:29:56,548] Trial 579 finished with value: 0.10823849942497762 and parameters: {'max_depth': 4, 'learning_rate': 0.002132276317607159, 'subsample': 0.7803158700364957, 'colsample_bytree': 0.11263526348812927, 'colsample_bynode': 0.272429643066324, 'colsample_bylevel': 0.3455931680949791, 'min_child_weight': 3, 'reg_alpha': 1.8236151007417987, 'reg_lambda': 1.5471168482310145, 'gamma': 2.8828975126200067}. Best is trial 482 with value: 0.11247107629894448.\n",
      "[I 2025-07-24 14:30:10,578] Trial 580 finished with value: 0.10528670605287455 and parameters: {'max_depth': 5, 'learning_rate': 0.0019237242937516193, 'subsample': 0.7589640685500194, 'colsample_bytree': 0.08643119176052938, 'colsample_bynode': 0.12139425532910231, 'colsample_bylevel': 0.36986830082228495, 'min_child_weight': 3, 'reg_alpha': 0.1627392023497487, 'reg_lambda': 0.13494439474322756, 'gamma': 3.0223462824378458}. Best is trial 482 with value: 0.11247107629894448.\n",
      "[I 2025-07-24 14:30:22,908] Trial 581 finished with value: 0.10808033706360635 and parameters: {'max_depth': 4, 'learning_rate': 0.0016228976306369312, 'subsample': 0.7958891116943538, 'colsample_bytree': 0.10250218374628964, 'colsample_bynode': 0.2024466012850269, 'colsample_bylevel': 0.3360540292915374, 'min_child_weight': 4, 'reg_alpha': 1.9242752682677724, 'reg_lambda': 1.7824250280863936, 'gamma': 2.9492219490936087}. Best is trial 482 with value: 0.11247107629894448.\n",
      "[I 2025-07-24 14:30:34,827] Trial 582 finished with value: 0.10591553374188376 and parameters: {'max_depth': 4, 'learning_rate': 0.0021997169545036744, 'subsample': 0.794931073660245, 'colsample_bytree': 0.06841336977383654, 'colsample_bynode': 0.22675683336761823, 'colsample_bylevel': 0.35283936281590894, 'min_child_weight': 3, 'reg_alpha': 1.8957809605502143, 'reg_lambda': 0.0016321850889511325, 'gamma': 3.133973070306663}. Best is trial 482 with value: 0.11247107629894448.\n",
      "[I 2025-07-24 14:30:46,428] Trial 583 finished with value: 0.10082366591138735 and parameters: {'max_depth': 4, 'learning_rate': 0.0024124656129553526, 'subsample': 0.7390454783252671, 'colsample_bytree': 0.12664306095650887, 'colsample_bynode': 0.28669955420202653, 'colsample_bylevel': 0.3155922887108217, 'min_child_weight': 3, 'reg_alpha': 1.9596379577414242, 'reg_lambda': 0.041377251741383514, 'gamma': 3.6598926486612626}. Best is trial 482 with value: 0.11247107629894448.\n",
      "[I 2025-07-24 14:30:58,872] Trial 584 finished with value: 0.10987710436038294 and parameters: {'max_depth': 4, 'learning_rate': 0.002056523688646489, 'subsample': 0.8216452637521658, 'colsample_bytree': 0.08759594848170263, 'colsample_bynode': 0.2589519613215305, 'colsample_bylevel': 0.31745353751505306, 'min_child_weight': 3, 'reg_alpha': 4.166545566760675, 'reg_lambda': 4.3658665301193516, 'gamma': 3.5126815087203003}. Best is trial 482 with value: 0.11247107629894448.\n",
      "[I 2025-07-24 14:31:11,123] Trial 585 finished with value: 0.10731631441908347 and parameters: {'max_depth': 4, 'learning_rate': 0.0018046195535657392, 'subsample': 0.7807785008490217, 'colsample_bytree': 0.10787085299671481, 'colsample_bynode': 0.3436561504828183, 'colsample_bylevel': 0.37393321737107876, 'min_child_weight': 3, 'reg_alpha': 0.20486201650709107, 'reg_lambda': 3.3114012087755964, 'gamma': 3.2933302806565465}. Best is trial 482 with value: 0.11247107629894448.\n",
      "[I 2025-07-24 14:31:22,977] Trial 586 finished with value: 0.10615294622968552 and parameters: {'max_depth': 4, 'learning_rate': 0.0019805504616545143, 'subsample': 0.8002557028405413, 'colsample_bytree': 0.05176356583895731, 'colsample_bynode': 0.2980316613480291, 'colsample_bylevel': 0.33692505257269006, 'min_child_weight': 3, 'reg_alpha': 0.11389593346506549, 'reg_lambda': 0.19274675602973712, 'gamma': 2.9048625899503895}. Best is trial 482 with value: 0.11247107629894448.\n",
      "[I 2025-07-24 14:31:35,526] Trial 587 finished with value: 0.10976803266016105 and parameters: {'max_depth': 4, 'learning_rate': 0.0022184201634177034, 'subsample': 0.7468004435287361, 'colsample_bytree': 0.08123668448376936, 'colsample_bynode': 0.23850430447770513, 'colsample_bylevel': 0.3012177438288881, 'min_child_weight': 3, 'reg_alpha': 2.1342323509177827, 'reg_lambda': 3.3124262131674764, 'gamma': 3.1163857578673992}. Best is trial 482 with value: 0.11247107629894448.\n",
      "[I 2025-07-24 14:31:47,422] Trial 588 finished with value: 0.10187541819816602 and parameters: {'max_depth': 4, 'learning_rate': 0.002370992447201811, 'subsample': 0.8139950635828799, 'colsample_bytree': 0.06609072744773647, 'colsample_bynode': 0.2759880602069187, 'colsample_bylevel': 0.32704131745530945, 'min_child_weight': 3, 'reg_alpha': 3.3143902080848626, 'reg_lambda': 64.72226507410781, 'gamma': 3.244421861646605}. Best is trial 482 with value: 0.11247107629894448.\n",
      "[I 2025-07-24 14:32:13,197] Trial 589 finished with value: 0.09624918794610893 and parameters: {'max_depth': 9, 'learning_rate': 0.0016880895209957832, 'subsample': 0.7694031816315337, 'colsample_bytree': 0.10183691892676873, 'colsample_bynode': 0.3092359614793284, 'colsample_bylevel': 0.2440331344509102, 'min_child_weight': 4, 'reg_alpha': 4.348132470751338, 'reg_lambda': 4.871749950153559, 'gamma': 3.3456414518928437}. Best is trial 482 with value: 0.11247107629894448.\n",
      "[I 2025-07-24 14:32:25,712] Trial 590 finished with value: 0.11096065880108665 and parameters: {'max_depth': 4, 'learning_rate': 0.001897486397050409, 'subsample': 0.8225290030954812, 'colsample_bytree': 0.08192029166674558, 'colsample_bynode': 0.21782712719850117, 'colsample_bylevel': 0.3633334691926049, 'min_child_weight': 3, 'reg_alpha': 1.771999282748582, 'reg_lambda': 0.049345167936852466, 'gamma': 3.559560675695398}. Best is trial 482 with value: 0.11247107629894448.\n",
      "[I 2025-07-24 14:32:37,732] Trial 591 finished with value: 0.09960627628911009 and parameters: {'max_depth': 4, 'learning_rate': 0.0020387948686939675, 'subsample': 0.8102158341605806, 'colsample_bytree': 0.12535596494472906, 'colsample_bynode': 0.21673597713347953, 'colsample_bylevel': 0.3932420491401315, 'min_child_weight': 3, 'reg_alpha': 4.294130916076728, 'reg_lambda': 1.8981184902128672, 'gamma': 3.5250793495074393}. Best is trial 482 with value: 0.11247107629894448.\n",
      "[I 2025-07-24 14:32:49,986] Trial 592 finished with value: 0.09730576386167981 and parameters: {'max_depth': 4, 'learning_rate': 0.002375915075689138, 'subsample': 0.7845514077380286, 'colsample_bytree': 0.1505768792386486, 'colsample_bynode': 0.20485654147224358, 'colsample_bylevel': 0.3587548414830301, 'min_child_weight': 3, 'reg_alpha': 2.6024667643860457, 'reg_lambda': 3.212618712697139, 'gamma': 3.0148726934217365}. Best is trial 482 with value: 0.11247107629894448.\n",
      "[I 2025-07-24 14:33:04,293] Trial 593 finished with value: 0.10805815168834015 and parameters: {'max_depth': 5, 'learning_rate': 0.0021673175544324364, 'subsample': 0.800477401399677, 'colsample_bytree': 0.050125162657079385, 'colsample_bynode': 0.2514095197640332, 'colsample_bylevel': 0.36721391957815036, 'min_child_weight': 3, 'reg_alpha': 1.9427220997933865, 'reg_lambda': 0.025602179892625546, 'gamma': 3.2196911067447176}. Best is trial 482 with value: 0.11247107629894448.\n",
      "[I 2025-07-24 14:33:16,264] Trial 594 finished with value: 0.1105732920814682 and parameters: {'max_depth': 4, 'learning_rate': 0.0019044812109666853, 'subsample': 0.8226956723315051, 'colsample_bytree': 0.08857229280761168, 'colsample_bynode': 0.23608172417213236, 'colsample_bylevel': 0.40933898182441475, 'min_child_weight': 3, 'reg_alpha': 4.176433902308745, 'reg_lambda': 0.007890309892654823, 'gamma': 3.4225246999385366}. Best is trial 482 with value: 0.11247107629894448.\n",
      "[I 2025-07-24 14:33:28,410] Trial 595 finished with value: 0.10725355031535808 and parameters: {'max_depth': 4, 'learning_rate': 0.0024376983516680995, 'subsample': 0.8518819890444882, 'colsample_bytree': 0.11413820815683624, 'colsample_bynode': 0.19287095150245306, 'colsample_bylevel': 0.3846827884485911, 'min_child_weight': 3, 'reg_alpha': 0.08981771676972247, 'reg_lambda': 4.99263168628249, 'gamma': 3.573620180860705}. Best is trial 482 with value: 0.11247107629894448.\n",
      "[I 2025-07-24 14:33:39,904] Trial 596 finished with value: 0.10860594105951002 and parameters: {'max_depth': 4, 'learning_rate': 0.0014781777691462803, 'subsample': 0.7550005272152048, 'colsample_bytree': 0.07978734802591281, 'colsample_bynode': 0.21656777753519135, 'colsample_bylevel': 0.33861811652088525, 'min_child_weight': 3, 'reg_alpha': 1.936612362301258, 'reg_lambda': 2.0505847446511436, 'gamma': 3.338594489164014}. Best is trial 482 with value: 0.11247107629894448.\n",
      "[I 2025-07-24 14:33:52,337] Trial 597 finished with value: 0.10544250187277207 and parameters: {'max_depth': 4, 'learning_rate': 0.0022015989863617743, 'subsample': 0.7880816297581615, 'colsample_bytree': 0.06661859329913215, 'colsample_bynode': 0.2693829309486116, 'colsample_bylevel': 0.23985518954574359, 'min_child_weight': 3, 'reg_alpha': 1.915845100436172, 'reg_lambda': 2.149606592504993, 'gamma': 3.1426975570930393}. Best is trial 482 with value: 0.11247107629894448.\n",
      "[I 2025-07-24 14:34:04,256] Trial 598 finished with value: 0.10527141675350138 and parameters: {'max_depth': 4, 'learning_rate': 0.0011796268567875832, 'subsample': 0.7200347828391837, 'colsample_bytree': 0.0977758445200011, 'colsample_bynode': 0.34186828774816946, 'colsample_bylevel': 0.3473228705112993, 'min_child_weight': 3, 'reg_alpha': 4.025934060723602, 'reg_lambda': 3.7277849089727537, 'gamma': 2.9570470024934297}. Best is trial 482 with value: 0.11247107629894448.\n",
      "[I 2025-07-24 14:34:16,092] Trial 599 finished with value: 0.10228909065435973 and parameters: {'max_depth': 4, 'learning_rate': 0.0019402446463659044, 'subsample': 0.8136977237406089, 'colsample_bytree': 0.06616270207543064, 'colsample_bynode': 0.2522868694910732, 'colsample_bylevel': 0.25278116159233677, 'min_child_weight': 3, 'reg_alpha': 23.932460045767424, 'reg_lambda': 0.005423423421477003, 'gamma': 3.4972413342965885}. Best is trial 482 with value: 0.11247107629894448.\n"
     ]
    },
    {
     "name": "stdout",
     "output_type": "stream",
     "text": [
      "Best hyperparameters: {'max_depth': 4, 'learning_rate': 0.002150149549475475, 'subsample': 0.8178291667417426, 'colsample_bytree': 0.07740643366955846, 'colsample_bynode': 0.31180010107154604, 'colsample_bylevel': 0.2315283145671454, 'min_child_weight': 3, 'reg_alpha': 0.31039917845818943, 'reg_lambda': 0.0016321850889511325, 'gamma': 3.142634422419756}\n",
      "Best Pearson score: 0.11247107629894448\n"
     ]
    }
   ],
   "source": [
    "best_xgboost_params_common_truncated_with_less_interaction = optimize_xgboost(\n",
    "    f\"xgboost_{feature_version}_{default_cv}_{default_random_state}_{default_n_trees}_common_truncated_30_with_less_interaction_study\",\n",
    "    f\"xgboost_{feature_version}_{default_cv}_{default_random_state}_{default_n_trees}_common_truncated_30_with_less_interaction_study\"\n",
    ") "
   ]
  },
  {
   "cell_type": "code",
   "execution_count": 50,
   "id": "89d98d57",
   "metadata": {},
   "outputs": [
    {
     "data": {
      "text/html": [
       "<div>\n",
       "<style scoped>\n",
       "    .dataframe tbody tr th:only-of-type {\n",
       "        vertical-align: middle;\n",
       "    }\n",
       "\n",
       "    .dataframe tbody tr th {\n",
       "        vertical-align: top;\n",
       "    }\n",
       "\n",
       "    .dataframe thead th {\n",
       "        text-align: right;\n",
       "    }\n",
       "</style>\n",
       "<table border=\"1\" class=\"dataframe\">\n",
       "  <thead>\n",
       "    <tr style=\"text-align: right;\">\n",
       "      <th></th>\n",
       "      <th>max_depth</th>\n",
       "      <th>learning_rate</th>\n",
       "      <th>subsample</th>\n",
       "      <th>colsample_bytree</th>\n",
       "      <th>colsample_bynode</th>\n",
       "      <th>colsample_bylevel</th>\n",
       "      <th>min_child_weight</th>\n",
       "      <th>reg_alpha</th>\n",
       "      <th>reg_lambda</th>\n",
       "      <th>gamma</th>\n",
       "      <th>value</th>\n",
       "      <th>cv_std</th>\n",
       "    </tr>\n",
       "  </thead>\n",
       "  <tbody>\n",
       "    <tr>\n",
       "      <th>0</th>\n",
       "      <td>4</td>\n",
       "      <td>0.002150</td>\n",
       "      <td>0.817829</td>\n",
       "      <td>0.077406</td>\n",
       "      <td>0.311800</td>\n",
       "      <td>0.231528</td>\n",
       "      <td>3</td>\n",
       "      <td>0.310399</td>\n",
       "      <td>0.001632</td>\n",
       "      <td>3.142634</td>\n",
       "      <td>0.112471</td>\n",
       "      <td>0.013198</td>\n",
       "    </tr>\n",
       "    <tr>\n",
       "      <th>1</th>\n",
       "      <td>4</td>\n",
       "      <td>0.002015</td>\n",
       "      <td>0.782717</td>\n",
       "      <td>0.081511</td>\n",
       "      <td>0.251249</td>\n",
       "      <td>0.301060</td>\n",
       "      <td>3</td>\n",
       "      <td>3.803978</td>\n",
       "      <td>0.088951</td>\n",
       "      <td>3.455695</td>\n",
       "      <td>0.112344</td>\n",
       "      <td>0.011668</td>\n",
       "    </tr>\n",
       "    <tr>\n",
       "      <th>2</th>\n",
       "      <td>4</td>\n",
       "      <td>0.002245</td>\n",
       "      <td>0.824523</td>\n",
       "      <td>0.082827</td>\n",
       "      <td>0.312931</td>\n",
       "      <td>0.263660</td>\n",
       "      <td>3</td>\n",
       "      <td>2.999283</td>\n",
       "      <td>0.188784</td>\n",
       "      <td>3.370771</td>\n",
       "      <td>0.111954</td>\n",
       "      <td>0.012512</td>\n",
       "    </tr>\n",
       "    <tr>\n",
       "      <th>3</th>\n",
       "      <td>4</td>\n",
       "      <td>0.002249</td>\n",
       "      <td>0.817203</td>\n",
       "      <td>0.076701</td>\n",
       "      <td>0.260384</td>\n",
       "      <td>0.271847</td>\n",
       "      <td>3</td>\n",
       "      <td>0.136385</td>\n",
       "      <td>2.195173</td>\n",
       "      <td>3.384797</td>\n",
       "      <td>0.111780</td>\n",
       "      <td>0.012032</td>\n",
       "    </tr>\n",
       "    <tr>\n",
       "      <th>4</th>\n",
       "      <td>4</td>\n",
       "      <td>0.002267</td>\n",
       "      <td>0.796838</td>\n",
       "      <td>0.073191</td>\n",
       "      <td>0.253622</td>\n",
       "      <td>0.233829</td>\n",
       "      <td>3</td>\n",
       "      <td>1.330437</td>\n",
       "      <td>0.361024</td>\n",
       "      <td>3.124168</td>\n",
       "      <td>0.111691</td>\n",
       "      <td>0.013298</td>\n",
       "    </tr>\n",
       "    <tr>\n",
       "      <th>...</th>\n",
       "      <td>...</td>\n",
       "      <td>...</td>\n",
       "      <td>...</td>\n",
       "      <td>...</td>\n",
       "      <td>...</td>\n",
       "      <td>...</td>\n",
       "      <td>...</td>\n",
       "      <td>...</td>\n",
       "      <td>...</td>\n",
       "      <td>...</td>\n",
       "      <td>...</td>\n",
       "      <td>...</td>\n",
       "    </tr>\n",
       "    <tr>\n",
       "      <th>595</th>\n",
       "      <td>3</td>\n",
       "      <td>0.002249</td>\n",
       "      <td>0.506064</td>\n",
       "      <td>0.376979</td>\n",
       "      <td>0.670258</td>\n",
       "      <td>0.796622</td>\n",
       "      <td>7</td>\n",
       "      <td>15.723412</td>\n",
       "      <td>43.891921</td>\n",
       "      <td>0.295792</td>\n",
       "      <td>0.082170</td>\n",
       "      <td>0.008492</td>\n",
       "    </tr>\n",
       "    <tr>\n",
       "      <th>596</th>\n",
       "      <td>3</td>\n",
       "      <td>0.003448</td>\n",
       "      <td>0.965644</td>\n",
       "      <td>0.497602</td>\n",
       "      <td>0.524327</td>\n",
       "      <td>0.794170</td>\n",
       "      <td>6</td>\n",
       "      <td>2.789303</td>\n",
       "      <td>21.849148</td>\n",
       "      <td>1.088195</td>\n",
       "      <td>0.076826</td>\n",
       "      <td>0.012294</td>\n",
       "    </tr>\n",
       "    <tr>\n",
       "      <th>597</th>\n",
       "      <td>5</td>\n",
       "      <td>0.056908</td>\n",
       "      <td>0.951801</td>\n",
       "      <td>0.504259</td>\n",
       "      <td>0.488063</td>\n",
       "      <td>0.655425</td>\n",
       "      <td>4</td>\n",
       "      <td>11.757809</td>\n",
       "      <td>5.110100</td>\n",
       "      <td>3.188293</td>\n",
       "      <td>0.076528</td>\n",
       "      <td>0.011568</td>\n",
       "    </tr>\n",
       "    <tr>\n",
       "      <th>598</th>\n",
       "      <td>4</td>\n",
       "      <td>0.001845</td>\n",
       "      <td>0.932130</td>\n",
       "      <td>0.537401</td>\n",
       "      <td>0.680945</td>\n",
       "      <td>0.822607</td>\n",
       "      <td>7</td>\n",
       "      <td>2.901570</td>\n",
       "      <td>36.432926</td>\n",
       "      <td>0.355275</td>\n",
       "      <td>0.068640</td>\n",
       "      <td>0.009404</td>\n",
       "    </tr>\n",
       "    <tr>\n",
       "      <th>599</th>\n",
       "      <td>3</td>\n",
       "      <td>0.001957</td>\n",
       "      <td>0.620271</td>\n",
       "      <td>0.659306</td>\n",
       "      <td>0.645143</td>\n",
       "      <td>0.831064</td>\n",
       "      <td>7</td>\n",
       "      <td>12.197374</td>\n",
       "      <td>36.411170</td>\n",
       "      <td>0.401791</td>\n",
       "      <td>0.068236</td>\n",
       "      <td>0.005816</td>\n",
       "    </tr>\n",
       "  </tbody>\n",
       "</table>\n",
       "<p>600 rows × 12 columns</p>\n",
       "</div>"
      ],
      "text/plain": [
       "     max_depth  learning_rate  subsample  colsample_bytree  colsample_bynode  \\\n",
       "0            4       0.002150   0.817829          0.077406          0.311800   \n",
       "1            4       0.002015   0.782717          0.081511          0.251249   \n",
       "2            4       0.002245   0.824523          0.082827          0.312931   \n",
       "3            4       0.002249   0.817203          0.076701          0.260384   \n",
       "4            4       0.002267   0.796838          0.073191          0.253622   \n",
       "..         ...            ...        ...               ...               ...   \n",
       "595          3       0.002249   0.506064          0.376979          0.670258   \n",
       "596          3       0.003448   0.965644          0.497602          0.524327   \n",
       "597          5       0.056908   0.951801          0.504259          0.488063   \n",
       "598          4       0.001845   0.932130          0.537401          0.680945   \n",
       "599          3       0.001957   0.620271          0.659306          0.645143   \n",
       "\n",
       "     colsample_bylevel  min_child_weight  reg_alpha  reg_lambda     gamma  \\\n",
       "0             0.231528                 3   0.310399    0.001632  3.142634   \n",
       "1             0.301060                 3   3.803978    0.088951  3.455695   \n",
       "2             0.263660                 3   2.999283    0.188784  3.370771   \n",
       "3             0.271847                 3   0.136385    2.195173  3.384797   \n",
       "4             0.233829                 3   1.330437    0.361024  3.124168   \n",
       "..                 ...               ...        ...         ...       ...   \n",
       "595           0.796622                 7  15.723412   43.891921  0.295792   \n",
       "596           0.794170                 6   2.789303   21.849148  1.088195   \n",
       "597           0.655425                 4  11.757809    5.110100  3.188293   \n",
       "598           0.822607                 7   2.901570   36.432926  0.355275   \n",
       "599           0.831064                 7  12.197374   36.411170  0.401791   \n",
       "\n",
       "        value    cv_std  \n",
       "0    0.112471  0.013198  \n",
       "1    0.112344  0.011668  \n",
       "2    0.111954  0.012512  \n",
       "3    0.111780  0.012032  \n",
       "4    0.111691  0.013298  \n",
       "..        ...       ...  \n",
       "595  0.082170  0.008492  \n",
       "596  0.076826  0.012294  \n",
       "597  0.076528  0.011568  \n",
       "598  0.068640  0.009404  \n",
       "599  0.068236  0.005816  \n",
       "\n",
       "[600 rows x 12 columns]"
      ]
     },
     "execution_count": 50,
     "metadata": {},
     "output_type": "execute_result"
    }
   ],
   "source": [
    "study_df = get_study_df(\n",
    "    f\"xgboost_{feature_version}_{default_cv}_{default_random_state}_{default_n_trees}_common_truncated_30_with_less_interaction_study\"\n",
    ")\n",
    "study_df.sort_values(\"value\", ignore_index=True, ascending=False)"
   ]
  },
  {
   "cell_type": "code",
   "execution_count": 51,
   "id": "025549aa",
   "metadata": {},
   "outputs": [
    {
     "data": {
      "text/html": [
       "<div>\n",
       "<style scoped>\n",
       "    .dataframe tbody tr th:only-of-type {\n",
       "        vertical-align: middle;\n",
       "    }\n",
       "\n",
       "    .dataframe tbody tr th {\n",
       "        vertical-align: top;\n",
       "    }\n",
       "\n",
       "    .dataframe thead th {\n",
       "        text-align: right;\n",
       "    }\n",
       "</style>\n",
       "<table border=\"1\" class=\"dataframe\">\n",
       "  <thead>\n",
       "    <tr style=\"text-align: right;\">\n",
       "      <th></th>\n",
       "      <th>max_depth</th>\n",
       "      <th>learning_rate</th>\n",
       "      <th>subsample</th>\n",
       "      <th>colsample_bytree</th>\n",
       "      <th>colsample_bynode</th>\n",
       "      <th>colsample_bylevel</th>\n",
       "      <th>min_child_weight</th>\n",
       "      <th>reg_alpha</th>\n",
       "      <th>reg_lambda</th>\n",
       "      <th>gamma</th>\n",
       "      <th>value</th>\n",
       "      <th>cv_std</th>\n",
       "    </tr>\n",
       "  </thead>\n",
       "  <tbody>\n",
       "    <tr>\n",
       "      <th>0</th>\n",
       "      <td>4</td>\n",
       "      <td>0.003520</td>\n",
       "      <td>0.557166</td>\n",
       "      <td>0.335144</td>\n",
       "      <td>0.416874</td>\n",
       "      <td>0.413449</td>\n",
       "      <td>5</td>\n",
       "      <td>59.725813</td>\n",
       "      <td>88.098018</td>\n",
       "      <td>2.491847</td>\n",
       "      <td>0.094745</td>\n",
       "      <td>0.003000</td>\n",
       "    </tr>\n",
       "    <tr>\n",
       "      <th>1</th>\n",
       "      <td>4</td>\n",
       "      <td>0.002718</td>\n",
       "      <td>0.404905</td>\n",
       "      <td>0.802129</td>\n",
       "      <td>0.822027</td>\n",
       "      <td>0.059382</td>\n",
       "      <td>2</td>\n",
       "      <td>33.353941</td>\n",
       "      <td>94.943926</td>\n",
       "      <td>1.714775</td>\n",
       "      <td>0.094204</td>\n",
       "      <td>0.005331</td>\n",
       "    </tr>\n",
       "    <tr>\n",
       "      <th>2</th>\n",
       "      <td>9</td>\n",
       "      <td>0.017324</td>\n",
       "      <td>0.349419</td>\n",
       "      <td>0.553533</td>\n",
       "      <td>0.285294</td>\n",
       "      <td>0.286362</td>\n",
       "      <td>8</td>\n",
       "      <td>81.747294</td>\n",
       "      <td>36.242947</td>\n",
       "      <td>2.651792</td>\n",
       "      <td>0.095585</td>\n",
       "      <td>0.005638</td>\n",
       "    </tr>\n",
       "    <tr>\n",
       "      <th>3</th>\n",
       "      <td>3</td>\n",
       "      <td>0.001957</td>\n",
       "      <td>0.620271</td>\n",
       "      <td>0.659306</td>\n",
       "      <td>0.645143</td>\n",
       "      <td>0.831064</td>\n",
       "      <td>7</td>\n",
       "      <td>12.197374</td>\n",
       "      <td>36.411170</td>\n",
       "      <td>0.401791</td>\n",
       "      <td>0.068236</td>\n",
       "      <td>0.005816</td>\n",
       "    </tr>\n",
       "    <tr>\n",
       "      <th>4</th>\n",
       "      <td>4</td>\n",
       "      <td>0.002351</td>\n",
       "      <td>0.441250</td>\n",
       "      <td>0.865840</td>\n",
       "      <td>0.382143</td>\n",
       "      <td>0.179866</td>\n",
       "      <td>2</td>\n",
       "      <td>8.113783</td>\n",
       "      <td>70.218285</td>\n",
       "      <td>2.037034</td>\n",
       "      <td>0.090683</td>\n",
       "      <td>0.005854</td>\n",
       "    </tr>\n",
       "    <tr>\n",
       "      <th>...</th>\n",
       "      <td>...</td>\n",
       "      <td>...</td>\n",
       "      <td>...</td>\n",
       "      <td>...</td>\n",
       "      <td>...</td>\n",
       "      <td>...</td>\n",
       "      <td>...</td>\n",
       "      <td>...</td>\n",
       "      <td>...</td>\n",
       "      <td>...</td>\n",
       "      <td>...</td>\n",
       "      <td>...</td>\n",
       "    </tr>\n",
       "    <tr>\n",
       "      <th>595</th>\n",
       "      <td>3</td>\n",
       "      <td>0.003252</td>\n",
       "      <td>0.979284</td>\n",
       "      <td>0.082395</td>\n",
       "      <td>0.557715</td>\n",
       "      <td>0.845823</td>\n",
       "      <td>6</td>\n",
       "      <td>1.115503</td>\n",
       "      <td>28.941290</td>\n",
       "      <td>0.860947</td>\n",
       "      <td>0.104877</td>\n",
       "      <td>0.019839</td>\n",
       "    </tr>\n",
       "    <tr>\n",
       "      <th>596</th>\n",
       "      <td>4</td>\n",
       "      <td>0.004279</td>\n",
       "      <td>0.897914</td>\n",
       "      <td>0.823788</td>\n",
       "      <td>0.493159</td>\n",
       "      <td>0.078242</td>\n",
       "      <td>2</td>\n",
       "      <td>9.640268</td>\n",
       "      <td>2.508386</td>\n",
       "      <td>2.317630</td>\n",
       "      <td>0.096625</td>\n",
       "      <td>0.019870</td>\n",
       "    </tr>\n",
       "    <tr>\n",
       "      <th>597</th>\n",
       "      <td>4</td>\n",
       "      <td>0.008530</td>\n",
       "      <td>0.943514</td>\n",
       "      <td>0.100475</td>\n",
       "      <td>0.406089</td>\n",
       "      <td>0.202001</td>\n",
       "      <td>4</td>\n",
       "      <td>8.986042</td>\n",
       "      <td>4.946937</td>\n",
       "      <td>2.388056</td>\n",
       "      <td>0.100650</td>\n",
       "      <td>0.020056</td>\n",
       "    </tr>\n",
       "    <tr>\n",
       "      <th>598</th>\n",
       "      <td>4</td>\n",
       "      <td>0.043806</td>\n",
       "      <td>0.877226</td>\n",
       "      <td>0.103025</td>\n",
       "      <td>0.475738</td>\n",
       "      <td>0.182244</td>\n",
       "      <td>3</td>\n",
       "      <td>7.070065</td>\n",
       "      <td>10.020231</td>\n",
       "      <td>2.764436</td>\n",
       "      <td>0.102664</td>\n",
       "      <td>0.023096</td>\n",
       "    </tr>\n",
       "    <tr>\n",
       "      <th>599</th>\n",
       "      <td>4</td>\n",
       "      <td>0.058812</td>\n",
       "      <td>0.948250</td>\n",
       "      <td>0.099307</td>\n",
       "      <td>0.434385</td>\n",
       "      <td>0.089230</td>\n",
       "      <td>2</td>\n",
       "      <td>14.209360</td>\n",
       "      <td>2.450944</td>\n",
       "      <td>2.513367</td>\n",
       "      <td>0.102572</td>\n",
       "      <td>0.023201</td>\n",
       "    </tr>\n",
       "  </tbody>\n",
       "</table>\n",
       "<p>600 rows × 12 columns</p>\n",
       "</div>"
      ],
      "text/plain": [
       "     max_depth  learning_rate  subsample  colsample_bytree  colsample_bynode  \\\n",
       "0            4       0.003520   0.557166          0.335144          0.416874   \n",
       "1            4       0.002718   0.404905          0.802129          0.822027   \n",
       "2            9       0.017324   0.349419          0.553533          0.285294   \n",
       "3            3       0.001957   0.620271          0.659306          0.645143   \n",
       "4            4       0.002351   0.441250          0.865840          0.382143   \n",
       "..         ...            ...        ...               ...               ...   \n",
       "595          3       0.003252   0.979284          0.082395          0.557715   \n",
       "596          4       0.004279   0.897914          0.823788          0.493159   \n",
       "597          4       0.008530   0.943514          0.100475          0.406089   \n",
       "598          4       0.043806   0.877226          0.103025          0.475738   \n",
       "599          4       0.058812   0.948250          0.099307          0.434385   \n",
       "\n",
       "     colsample_bylevel  min_child_weight  reg_alpha  reg_lambda     gamma  \\\n",
       "0             0.413449                 5  59.725813   88.098018  2.491847   \n",
       "1             0.059382                 2  33.353941   94.943926  1.714775   \n",
       "2             0.286362                 8  81.747294   36.242947  2.651792   \n",
       "3             0.831064                 7  12.197374   36.411170  0.401791   \n",
       "4             0.179866                 2   8.113783   70.218285  2.037034   \n",
       "..                 ...               ...        ...         ...       ...   \n",
       "595           0.845823                 6   1.115503   28.941290  0.860947   \n",
       "596           0.078242                 2   9.640268    2.508386  2.317630   \n",
       "597           0.202001                 4   8.986042    4.946937  2.388056   \n",
       "598           0.182244                 3   7.070065   10.020231  2.764436   \n",
       "599           0.089230                 2  14.209360    2.450944  2.513367   \n",
       "\n",
       "        value    cv_std  \n",
       "0    0.094745  0.003000  \n",
       "1    0.094204  0.005331  \n",
       "2    0.095585  0.005638  \n",
       "3    0.068236  0.005816  \n",
       "4    0.090683  0.005854  \n",
       "..        ...       ...  \n",
       "595  0.104877  0.019839  \n",
       "596  0.096625  0.019870  \n",
       "597  0.100650  0.020056  \n",
       "598  0.102664  0.023096  \n",
       "599  0.102572  0.023201  \n",
       "\n",
       "[600 rows x 12 columns]"
      ]
     },
     "execution_count": 51,
     "metadata": {},
     "output_type": "execute_result"
    }
   ],
   "source": [
    "study_df = get_study_df(\n",
    "    f\"xgboost_{feature_version}_{default_cv}_{default_random_state}_{default_n_trees}_common_truncated_30_with_less_interaction_study\"\n",
    ")\n",
    "study_df.sort_values(\"cv_std\", ignore_index=True)"
   ]
  },
  {
   "cell_type": "markdown",
   "id": "3ad7f13e",
   "metadata": {},
   "source": [
    "LightGBM"
   ]
  },
  {
   "cell_type": "code",
   "execution_count": null,
   "id": "38faa422",
   "metadata": {},
   "outputs": [],
   "source": [
    "best_lightgbm_params_common_truncated_with_less_interaction = optimize_lightgbm(\n",
    "    f\"lightgbm_{feature_version}_{default_cv}_{default_random_state}_{default_n_trees}_common_truncated_30_with_less_interaction_study\",\n",
    "    f\"lightgbm_{feature_version}_{default_cv}_{default_random_state}_{default_n_trees}_common_truncated_30_with_less_interaction_study\"\n",
    ") "
   ]
  },
  {
   "cell_type": "markdown",
   "id": "3435a2b5",
   "metadata": {},
   "source": [
    "MLP"
   ]
  },
  {
   "cell_type": "code",
   "execution_count": 31,
   "id": "aadc463f",
   "metadata": {},
   "outputs": [
    {
     "name": "stdout",
     "output_type": "stream",
     "text": [
      "[3, 4, 5, 6] [8, 9, 10, 11]\n",
      "[4, 5, 6, 7] [9, 10, 11, 12]\n",
      "[5, 6, 7, 8] [10, 11, 12, 1]\n",
      "[6, 7, 8, 9] [11, 12, 1, 2]\n"
     ]
    }
   ],
   "source": [
    "default_num_layers = 2\n",
    "# Create the CV data, seems to be better with only anonymized features\n",
    "best_features = list(set(best_features  + best_exp_interaction_features))\n",
    "# best_features = [col for col in train_df.columns if \"X\" in col]\n",
    "# train_added_df = pd.concat([train_df, popular_features_train], axis=1)\n",
    "X_train_arr, X_test_arr, Y_train_arr, Y_test_arr = create_cv(train_df, best_features)\n",
    "\n",
    "# Convert to float32\n",
    "for i in range(default_cv):\n",
    "    X_train_arr[i] = float64_to_float32(X_train_arr[i])\n",
    "    X_test_arr[i] = float64_to_float32(X_test_arr[i])\n",
    "    Y_train_arr[i] = float64_to_float32(Y_train_arr[i])\n",
    "    Y_test_arr[i] = float64_to_float32(Y_test_arr[i])\n",
    "\n",
    "# Convert to MLX\n",
    "X_train_arr, X_test_arr, Y_train_arr, Y_test_arr = normal_cv_to_mlx_cv(X_train_arr, X_test_arr, Y_train_arr, Y_test_arr)"
   ]
  },
  {
   "cell_type": "code",
   "execution_count": 32,
   "id": "fa80645a",
   "metadata": {},
   "outputs": [
    {
     "name": "stderr",
     "output_type": "stream",
     "text": [
      "[I 2025-07-24 14:34:16,640] A new study created in RDB with name: mlp_mlx_2_4_101_2_common_truncated_30_with_less_interaction_study\n"
     ]
    },
    {
     "name": "stdout",
     "output_type": "stream",
     "text": [
      "Conduct hyperparam opt for MLP\n"
     ]
    },
    {
     "name": "stderr",
     "output_type": "stream",
     "text": [
      "100%|██████████| 10/10 [00:04<00:00,  2.49it/s]\n"
     ]
    },
    {
     "name": "stdout",
     "output_type": "stream",
     "text": [
      "0.20049367074216615\n"
     ]
    },
    {
     "name": "stderr",
     "output_type": "stream",
     "text": [
      "100%|██████████| 10/10 [00:03<00:00,  2.58it/s]\n"
     ]
    },
    {
     "name": "stdout",
     "output_type": "stream",
     "text": [
      "0.20781927073299786\n"
     ]
    },
    {
     "name": "stderr",
     "output_type": "stream",
     "text": [
      "100%|██████████| 10/10 [00:03<00:00,  2.50it/s]\n"
     ]
    },
    {
     "name": "stdout",
     "output_type": "stream",
     "text": [
      "0.21405800243208922\n"
     ]
    },
    {
     "name": "stderr",
     "output_type": "stream",
     "text": [
      "100%|██████████| 10/10 [00:04<00:00,  2.48it/s]\n",
      "[I 2025-07-24 14:34:33,198] Trial 0 finished with value: 0.18336213324775943 and parameters: {'log2_hidden_layer_0': 5, 'log2_hidden_layer_1': 4, 'lr': 0.00011401144576866207, 'batch_size': 360, 'num_epochs': 10}. Best is trial 0 with value: 0.18336213324775943.\n"
     ]
    },
    {
     "name": "stdout",
     "output_type": "stream",
     "text": [
      "0.11107758908378447\n"
     ]
    },
    {
     "name": "stderr",
     "output_type": "stream",
     "text": [
      "100%|██████████| 5/5 [00:03<00:00,  1.33it/s]\n"
     ]
    },
    {
     "name": "stdout",
     "output_type": "stream",
     "text": [
      "0.027624854796251295\n"
     ]
    },
    {
     "name": "stderr",
     "output_type": "stream",
     "text": [
      "100%|██████████| 5/5 [00:03<00:00,  1.32it/s]\n"
     ]
    },
    {
     "name": "stdout",
     "output_type": "stream",
     "text": [
      "-0.02485086023409744\n"
     ]
    },
    {
     "name": "stderr",
     "output_type": "stream",
     "text": [
      "100%|██████████| 5/5 [00:03<00:00,  1.28it/s]\n"
     ]
    },
    {
     "name": "stdout",
     "output_type": "stream",
     "text": [
      "0.021855460946452302\n"
     ]
    },
    {
     "name": "stderr",
     "output_type": "stream",
     "text": [
      "100%|██████████| 5/5 [00:03<00:00,  1.34it/s]\n",
      "[I 2025-07-24 14:34:49,531] Trial 1 finished with value: 0.010943654810401018 and parameters: {'log2_hidden_layer_0': 3, 'log2_hidden_layer_1': 3, 'lr': 0.00853034202936806, 'batch_size': 180, 'num_epochs': 5}. Best is trial 0 with value: 0.18336213324775943.\n"
     ]
    },
    {
     "name": "stdout",
     "output_type": "stream",
     "text": [
      "0.01914516373299791\n"
     ]
    },
    {
     "name": "stderr",
     "output_type": "stream",
     "text": [
      "100%|██████████| 10/10 [00:07<00:00,  1.31it/s]\n"
     ]
    },
    {
     "name": "stdout",
     "output_type": "stream",
     "text": [
      "0.20254078414636176\n"
     ]
    },
    {
     "name": "stderr",
     "output_type": "stream",
     "text": [
      "100%|██████████| 10/10 [00:07<00:00,  1.34it/s]\n"
     ]
    },
    {
     "name": "stdout",
     "output_type": "stream",
     "text": [
      "0.08929794754534891\n"
     ]
    },
    {
     "name": "stderr",
     "output_type": "stream",
     "text": [
      "100%|██████████| 10/10 [00:07<00:00,  1.30it/s]\n"
     ]
    },
    {
     "name": "stdout",
     "output_type": "stream",
     "text": [
      "0.2069599054026417\n"
     ]
    },
    {
     "name": "stderr",
     "output_type": "stream",
     "text": [
      "100%|██████████| 10/10 [00:07<00:00,  1.33it/s]\n",
      "[I 2025-07-24 14:35:20,996] Trial 2 finished with value: 0.14180899775106193 and parameters: {'log2_hidden_layer_0': 3, 'log2_hidden_layer_1': 3, 'lr': 0.0010998432489496412, 'batch_size': 180, 'num_epochs': 10}. Best is trial 0 with value: 0.18336213324775943.\n"
     ]
    },
    {
     "name": "stdout",
     "output_type": "stream",
     "text": [
      "0.06843735390989533\n"
     ]
    },
    {
     "name": "stderr",
     "output_type": "stream",
     "text": [
      "100%|██████████| 10/10 [00:44<00:00,  4.47s/it]\n"
     ]
    },
    {
     "name": "stdout",
     "output_type": "stream",
     "text": [
      "0.04286834898138676\n"
     ]
    },
    {
     "name": "stderr",
     "output_type": "stream",
     "text": [
      "100%|██████████| 10/10 [00:44<00:00,  4.48s/it]\n"
     ]
    },
    {
     "name": "stdout",
     "output_type": "stream",
     "text": [
      "0.10046809798681726\n"
     ]
    },
    {
     "name": "stderr",
     "output_type": "stream",
     "text": [
      "100%|██████████| 10/10 [00:44<00:00,  4.47s/it]\n"
     ]
    },
    {
     "name": "stdout",
     "output_type": "stream",
     "text": [
      "0.044815417348438545\n"
     ]
    },
    {
     "name": "stderr",
     "output_type": "stream",
     "text": [
      "100%|██████████| 10/10 [00:44<00:00,  4.43s/it]\n",
      "[I 2025-07-24 14:38:25,644] Trial 3 finished with value: 0.05703023559733635 and parameters: {'log2_hidden_layer_0': 7, 'log2_hidden_layer_1': 6, 'lr': 0.0011921280273003868, 'batch_size': 30, 'num_epochs': 10}. Best is trial 0 with value: 0.18336213324775943.\n"
     ]
    },
    {
     "name": "stdout",
     "output_type": "stream",
     "text": [
      "0.03996907807270283\n"
     ]
    },
    {
     "name": "stderr",
     "output_type": "stream",
     "text": [
      "100%|██████████| 15/15 [00:11<00:00,  1.33it/s]\n"
     ]
    },
    {
     "name": "stdout",
     "output_type": "stream",
     "text": [
      "0.08636031113406162\n"
     ]
    },
    {
     "name": "stderr",
     "output_type": "stream",
     "text": [
      "100%|██████████| 15/15 [00:11<00:00,  1.33it/s]\n"
     ]
    },
    {
     "name": "stdout",
     "output_type": "stream",
     "text": [
      "0.1325487131750246\n"
     ]
    },
    {
     "name": "stderr",
     "output_type": "stream",
     "text": [
      "100%|██████████| 15/15 [00:11<00:00,  1.32it/s]\n"
     ]
    },
    {
     "name": "stdout",
     "output_type": "stream",
     "text": [
      "0.1511594876555597\n"
     ]
    },
    {
     "name": "stderr",
     "output_type": "stream",
     "text": [
      "100%|██████████| 15/15 [00:11<00:00,  1.32it/s]\n",
      "[I 2025-07-24 14:39:12,096] Trial 4 finished with value: 0.10892438394158646 and parameters: {'log2_hidden_layer_0': 6, 'log2_hidden_layer_1': 4, 'lr': 0.0022980291660565505, 'batch_size': 180, 'num_epochs': 15}. Best is trial 0 with value: 0.18336213324775943.\n"
     ]
    },
    {
     "name": "stdout",
     "output_type": "stream",
     "text": [
      "0.06562902380169994\n"
     ]
    },
    {
     "name": "stderr",
     "output_type": "stream",
     "text": [
      "100%|██████████| 10/10 [00:10<00:00,  1.08s/it]\n"
     ]
    },
    {
     "name": "stdout",
     "output_type": "stream",
     "text": [
      "0.0645609994577422\n"
     ]
    },
    {
     "name": "stderr",
     "output_type": "stream",
     "text": [
      "100%|██████████| 10/10 [00:10<00:00,  1.09s/it]\n"
     ]
    },
    {
     "name": "stdout",
     "output_type": "stream",
     "text": [
      "-0.00423172516951541\n"
     ]
    },
    {
     "name": "stderr",
     "output_type": "stream",
     "text": [
      "100%|██████████| 10/10 [00:10<00:00,  1.10s/it]\n"
     ]
    },
    {
     "name": "stdout",
     "output_type": "stream",
     "text": [
      "0.06978379170967057\n"
     ]
    },
    {
     "name": "stderr",
     "output_type": "stream",
     "text": [
      "100%|██████████| 10/10 [00:10<00:00,  1.09s/it]\n",
      "[I 2025-07-24 14:39:57,395] Trial 5 finished with value: 0.0420091175220886 and parameters: {'log2_hidden_layer_0': 4, 'log2_hidden_layer_1': 4, 'lr': 0.007916409621612937, 'batch_size': 120, 'num_epochs': 10}. Best is trial 0 with value: 0.18336213324775943.\n"
     ]
    },
    {
     "name": "stdout",
     "output_type": "stream",
     "text": [
      "0.03792340409045706\n"
     ]
    },
    {
     "name": "stderr",
     "output_type": "stream",
     "text": [
      "100%|██████████| 10/10 [00:02<00:00,  4.98it/s]\n"
     ]
    },
    {
     "name": "stdout",
     "output_type": "stream",
     "text": [
      "0.07510766388037476\n"
     ]
    },
    {
     "name": "stderr",
     "output_type": "stream",
     "text": [
      "100%|██████████| 10/10 [00:02<00:00,  4.99it/s]\n"
     ]
    },
    {
     "name": "stdout",
     "output_type": "stream",
     "text": [
      "0.1728738310629805\n"
     ]
    },
    {
     "name": "stderr",
     "output_type": "stream",
     "text": [
      "100%|██████████| 10/10 [00:01<00:00,  5.09it/s]\n"
     ]
    },
    {
     "name": "stdout",
     "output_type": "stream",
     "text": [
      "0.18389510948375862\n"
     ]
    },
    {
     "name": "stderr",
     "output_type": "stream",
     "text": [
      "100%|██████████| 10/10 [00:01<00:00,  5.25it/s]\n",
      "[I 2025-07-24 14:40:05,613] Trial 6 finished with value: 0.13057778541493842 and parameters: {'log2_hidden_layer_0': 5, 'log2_hidden_layer_1': 3, 'lr': 0.0020567934111778282, 'batch_size': 720, 'num_epochs': 10}. Best is trial 0 with value: 0.18336213324775943.\n"
     ]
    },
    {
     "name": "stdout",
     "output_type": "stream",
     "text": [
      "0.09043453723263983\n"
     ]
    },
    {
     "name": "stderr",
     "output_type": "stream",
     "text": [
      "100%|██████████| 15/15 [00:16<00:00,  1.12s/it]\n"
     ]
    },
    {
     "name": "stdout",
     "output_type": "stream",
     "text": [
      "0.05826113356642365\n"
     ]
    },
    {
     "name": "stderr",
     "output_type": "stream",
     "text": [
      "100%|██████████| 15/15 [00:16<00:00,  1.13s/it]\n"
     ]
    },
    {
     "name": "stdout",
     "output_type": "stream",
     "text": [
      "0.14705786869848028\n"
     ]
    },
    {
     "name": "stderr",
     "output_type": "stream",
     "text": [
      "100%|██████████| 15/15 [00:17<00:00,  1.15s/it]\n"
     ]
    },
    {
     "name": "stdout",
     "output_type": "stream",
     "text": [
      "-0.07760961874746704\n"
     ]
    },
    {
     "name": "stderr",
     "output_type": "stream",
     "text": [
      "100%|██████████| 15/15 [00:17<00:00,  1.14s/it]\n",
      "[I 2025-07-24 14:41:15,406] Trial 7 finished with value: 0.05216922786402632 and parameters: {'log2_hidden_layer_0': 7, 'log2_hidden_layer_1': 3, 'lr': 0.0003963152821484496, 'batch_size': 120, 'num_epochs': 15}. Best is trial 0 with value: 0.18336213324775943.\n"
     ]
    },
    {
     "name": "stdout",
     "output_type": "stream",
     "text": [
      "0.08096752793866842\n"
     ]
    },
    {
     "name": "stderr",
     "output_type": "stream",
     "text": [
      "100%|██████████| 5/5 [00:01<00:00,  4.97it/s]\n"
     ]
    },
    {
     "name": "stdout",
     "output_type": "stream",
     "text": [
      "0.20789230671871173\n"
     ]
    },
    {
     "name": "stderr",
     "output_type": "stream",
     "text": [
      "100%|██████████| 5/5 [00:01<00:00,  4.93it/s]\n"
     ]
    },
    {
     "name": "stdout",
     "output_type": "stream",
     "text": [
      "0.1560549235048344\n"
     ]
    },
    {
     "name": "stderr",
     "output_type": "stream",
     "text": [
      "100%|██████████| 5/5 [00:00<00:00,  5.09it/s]\n"
     ]
    },
    {
     "name": "stdout",
     "output_type": "stream",
     "text": [
      "0.19547578571249533\n"
     ]
    },
    {
     "name": "stderr",
     "output_type": "stream",
     "text": [
      "100%|██████████| 5/5 [00:00<00:00,  5.25it/s]\n",
      "[I 2025-07-24 14:41:19,702] Trial 8 finished with value: 0.16860157243296742 and parameters: {'log2_hidden_layer_0': 4, 'log2_hidden_layer_1': 3, 'lr': 0.0026367944756488355, 'batch_size': 720, 'num_epochs': 5}. Best is trial 0 with value: 0.18336213324775943.\n"
     ]
    },
    {
     "name": "stdout",
     "output_type": "stream",
     "text": [
      "0.11498327379582815\n"
     ]
    },
    {
     "name": "stderr",
     "output_type": "stream",
     "text": [
      "100%|██████████| 5/5 [00:03<00:00,  1.36it/s]\n"
     ]
    },
    {
     "name": "stdout",
     "output_type": "stream",
     "text": [
      "0.06705169094888547\n"
     ]
    },
    {
     "name": "stderr",
     "output_type": "stream",
     "text": [
      "100%|██████████| 5/5 [00:03<00:00,  1.30it/s]\n"
     ]
    },
    {
     "name": "stdout",
     "output_type": "stream",
     "text": [
      "0.015536505065108532\n"
     ]
    },
    {
     "name": "stderr",
     "output_type": "stream",
     "text": [
      "100%|██████████| 5/5 [00:03<00:00,  1.30it/s]\n",
      "[I 2025-07-24 14:41:31,940] Trial 9 finished with value: -1.0 and parameters: {'log2_hidden_layer_0': 7, 'log2_hidden_layer_1': 4, 'lr': 0.0029318059799985693, 'batch_size': 180, 'num_epochs': 5}. Best is trial 0 with value: 0.18336213324775943.\n"
     ]
    },
    {
     "name": "stdout",
     "output_type": "stream",
     "text": [
      "[-0.04004518 -0.04004518 -0.04004518 ... -0.04004518 -0.04004518\n",
      " -0.04004518]\n",
      "Error: zero variance prediction\n",
      "-1\n"
     ]
    },
    {
     "name": "stderr",
     "output_type": "stream",
     "text": [
      "100%|██████████| 10/10 [00:03<00:00,  2.73it/s]\n"
     ]
    },
    {
     "name": "stdout",
     "output_type": "stream",
     "text": [
      "0.05939464673378214\n"
     ]
    },
    {
     "name": "stderr",
     "output_type": "stream",
     "text": [
      "100%|██████████| 10/10 [00:03<00:00,  2.63it/s]\n"
     ]
    },
    {
     "name": "stdout",
     "output_type": "stream",
     "text": [
      "0.07809337057907381\n"
     ]
    },
    {
     "name": "stderr",
     "output_type": "stream",
     "text": [
      "100%|██████████| 10/10 [00:03<00:00,  2.54it/s]\n"
     ]
    },
    {
     "name": "stdout",
     "output_type": "stream",
     "text": [
      "0.027533555241641312\n"
     ]
    },
    {
     "name": "stderr",
     "output_type": "stream",
     "text": [
      "100%|██████████| 10/10 [00:03<00:00,  2.71it/s]\n",
      "[I 2025-07-24 14:41:47,610] Trial 10 finished with value: 0.04204347643110489 and parameters: {'log2_hidden_layer_0': 2, 'log2_hidden_layer_1': 2, 'lr': 0.0001068319183448277, 'batch_size': 360, 'num_epochs': 10}. Best is trial 0 with value: 0.18336213324775943.\n"
     ]
    },
    {
     "name": "stdout",
     "output_type": "stream",
     "text": [
      "0.0031523331699222982\n"
     ]
    },
    {
     "name": "stderr",
     "output_type": "stream",
     "text": [
      "100%|██████████| 5/5 [00:11<00:00,  2.23s/it]\n"
     ]
    },
    {
     "name": "stdout",
     "output_type": "stream",
     "text": [
      "0.17866172658050639\n"
     ]
    },
    {
     "name": "stderr",
     "output_type": "stream",
     "text": [
      "100%|██████████| 5/5 [00:11<00:00,  2.22s/it]\n"
     ]
    },
    {
     "name": "stdout",
     "output_type": "stream",
     "text": [
      "0.19592573641542876\n"
     ]
    },
    {
     "name": "stderr",
     "output_type": "stream",
     "text": [
      "100%|██████████| 5/5 [00:11<00:00,  2.21s/it]\n"
     ]
    },
    {
     "name": "stdout",
     "output_type": "stream",
     "text": [
      "0.1385443087947557\n"
     ]
    },
    {
     "name": "stderr",
     "output_type": "stream",
     "text": [
      "100%|██████████| 5/5 [00:11<00:00,  2.20s/it]\n",
      "[I 2025-07-24 14:42:34,999] Trial 11 finished with value: 0.15354396032154655 and parameters: {'log2_hidden_layer_0': 5, 'log2_hidden_layer_1': 5, 'lr': 0.0002183101795296441, 'batch_size': 60, 'num_epochs': 5}. Best is trial 0 with value: 0.18336213324775943.\n"
     ]
    },
    {
     "name": "stdout",
     "output_type": "stream",
     "text": [
      "0.10104406949549531\n"
     ]
    },
    {
     "name": "stderr",
     "output_type": "stream",
     "text": [
      "100%|██████████| 5/5 [00:01<00:00,  2.66it/s]\n"
     ]
    },
    {
     "name": "stdout",
     "output_type": "stream",
     "text": [
      "0.19632979826867966\n"
     ]
    },
    {
     "name": "stderr",
     "output_type": "stream",
     "text": [
      "100%|██████████| 5/5 [00:01<00:00,  2.66it/s]\n"
     ]
    },
    {
     "name": "stdout",
     "output_type": "stream",
     "text": [
      "0.2263747389426496\n"
     ]
    },
    {
     "name": "stderr",
     "output_type": "stream",
     "text": [
      "100%|██████████| 5/5 [00:01<00:00,  2.65it/s]\n"
     ]
    },
    {
     "name": "stdout",
     "output_type": "stream",
     "text": [
      "0.214769999053796\n"
     ]
    },
    {
     "name": "stderr",
     "output_type": "stream",
     "text": [
      "100%|██████████| 5/5 [00:01<00:00,  2.54it/s]\n",
      "[I 2025-07-24 14:42:43,230] Trial 12 finished with value: 0.1814241250142574 and parameters: {'log2_hidden_layer_0': 4, 'log2_hidden_layer_1': 2, 'lr': 0.00042300417540677937, 'batch_size': 360, 'num_epochs': 5}. Best is trial 0 with value: 0.18336213324775943.\n"
     ]
    },
    {
     "name": "stdout",
     "output_type": "stream",
     "text": [
      "0.08822196379190429\n"
     ]
    },
    {
     "name": "stderr",
     "output_type": "stream",
     "text": [
      "100%|██████████| 5/5 [00:01<00:00,  2.51it/s]\n"
     ]
    },
    {
     "name": "stdout",
     "output_type": "stream",
     "text": [
      "0.18564383674341406\n"
     ]
    },
    {
     "name": "stderr",
     "output_type": "stream",
     "text": [
      "100%|██████████| 5/5 [00:01<00:00,  2.55it/s]\n"
     ]
    },
    {
     "name": "stdout",
     "output_type": "stream",
     "text": [
      "0.20447190622471242\n"
     ]
    },
    {
     "name": "stderr",
     "output_type": "stream",
     "text": [
      "100%|██████████| 5/5 [00:01<00:00,  2.64it/s]\n"
     ]
    },
    {
     "name": "stdout",
     "output_type": "stream",
     "text": [
      "0.2010677399690793\n"
     ]
    },
    {
     "name": "stderr",
     "output_type": "stream",
     "text": [
      "100%|██████████| 5/5 [00:01<00:00,  2.70it/s]\n",
      "[I 2025-07-24 14:42:51,514] Trial 13 finished with value: 0.17547002163637315 and parameters: {'log2_hidden_layer_0': 5, 'log2_hidden_layer_1': 2, 'lr': 0.0003969729194477427, 'batch_size': 360, 'num_epochs': 5}. Best is trial 0 with value: 0.18336213324775943.\n"
     ]
    },
    {
     "name": "stdout",
     "output_type": "stream",
     "text": [
      "0.11069660360828676\n"
     ]
    },
    {
     "name": "stderr",
     "output_type": "stream",
     "text": [
      "100%|██████████| 15/15 [00:05<00:00,  2.52it/s]\n"
     ]
    },
    {
     "name": "stdout",
     "output_type": "stream",
     "text": [
      "0.199826595526449\n"
     ]
    },
    {
     "name": "stderr",
     "output_type": "stream",
     "text": [
      "100%|██████████| 15/15 [00:05<00:00,  2.57it/s]\n"
     ]
    },
    {
     "name": "stdout",
     "output_type": "stream",
     "text": [
      "0.22316820404274568\n"
     ]
    },
    {
     "name": "stderr",
     "output_type": "stream",
     "text": [
      "100%|██████████| 15/15 [00:05<00:00,  2.52it/s]\n"
     ]
    },
    {
     "name": "stdout",
     "output_type": "stream",
     "text": [
      "0.20598706622042287\n"
     ]
    },
    {
     "name": "stderr",
     "output_type": "stream",
     "text": [
      "100%|██████████| 15/15 [00:05<00:00,  2.54it/s]\n",
      "[I 2025-07-24 14:43:15,757] Trial 14 finished with value: 0.1753456313825879 and parameters: {'log2_hidden_layer_0': 6, 'log2_hidden_layer_1': 6, 'lr': 0.00013011840763541664, 'batch_size': 360, 'num_epochs': 15}. Best is trial 0 with value: 0.18336213324775943.\n"
     ]
    },
    {
     "name": "stdout",
     "output_type": "stream",
     "text": [
      "0.0724006597407341\n"
     ]
    },
    {
     "name": "stderr",
     "output_type": "stream",
     "text": [
      "100%|██████████| 10/10 [00:03<00:00,  2.64it/s]\n"
     ]
    },
    {
     "name": "stdout",
     "output_type": "stream",
     "text": [
      "0.2068584040326066\n"
     ]
    },
    {
     "name": "stderr",
     "output_type": "stream",
     "text": [
      "100%|██████████| 10/10 [00:03<00:00,  2.51it/s]\n"
     ]
    },
    {
     "name": "stdout",
     "output_type": "stream",
     "text": [
      "0.21275103772836823\n"
     ]
    },
    {
     "name": "stderr",
     "output_type": "stream",
     "text": [
      "100%|██████████| 10/10 [00:03<00:00,  2.59it/s]\n"
     ]
    },
    {
     "name": "stdout",
     "output_type": "stream",
     "text": [
      "0.21229826973091728\n"
     ]
    },
    {
     "name": "stderr",
     "output_type": "stream",
     "text": [
      "100%|██████████| 10/10 [00:03<00:00,  2.69it/s]\n",
      "[I 2025-07-24 14:43:31,725] Trial 15 finished with value: 0.17567220287078728 and parameters: {'log2_hidden_layer_0': 3, 'log2_hidden_layer_1': 2, 'lr': 0.000387616746695501, 'batch_size': 360, 'num_epochs': 10}. Best is trial 0 with value: 0.18336213324775943.\n"
     ]
    },
    {
     "name": "stdout",
     "output_type": "stream",
     "text": [
      "0.07078109999125706\n"
     ]
    },
    {
     "name": "stderr",
     "output_type": "stream",
     "text": [
      "100%|██████████| 5/5 [00:01<00:00,  2.54it/s]\n"
     ]
    },
    {
     "name": "stdout",
     "output_type": "stream",
     "text": [
      "0.20283243363721376\n"
     ]
    },
    {
     "name": "stderr",
     "output_type": "stream",
     "text": [
      "100%|██████████| 5/5 [00:01<00:00,  2.55it/s]\n"
     ]
    },
    {
     "name": "stdout",
     "output_type": "stream",
     "text": [
      "0.22480318299325083\n"
     ]
    },
    {
     "name": "stderr",
     "output_type": "stream",
     "text": [
      "100%|██████████| 5/5 [00:01<00:00,  2.52it/s]\n"
     ]
    },
    {
     "name": "stdout",
     "output_type": "stream",
     "text": [
      "0.21188172714407705\n"
     ]
    },
    {
     "name": "stderr",
     "output_type": "stream",
     "text": [
      "100%|██████████| 5/5 [00:01<00:00,  2.72it/s]\n",
      "[I 2025-07-24 14:43:40,107] Trial 16 finished with value: 0.18226310117871938 and parameters: {'log2_hidden_layer_0': 4, 'log2_hidden_layer_1': 2, 'lr': 0.00022830839343864466, 'batch_size': 360, 'num_epochs': 5}. Best is trial 0 with value: 0.18336213324775943.\n"
     ]
    },
    {
     "name": "stdout",
     "output_type": "stream",
     "text": [
      "0.08953506094033589\n"
     ]
    },
    {
     "name": "stderr",
     "output_type": "stream",
     "text": [
      "100%|██████████| 5/5 [00:21<00:00,  4.37s/it]\n"
     ]
    },
    {
     "name": "stdout",
     "output_type": "stream",
     "text": [
      "0.09863268011739934\n"
     ]
    },
    {
     "name": "stderr",
     "output_type": "stream",
     "text": [
      "100%|██████████| 5/5 [00:21<00:00,  4.32s/it]\n"
     ]
    },
    {
     "name": "stdout",
     "output_type": "stream",
     "text": [
      "0.1038785028318483\n"
     ]
    },
    {
     "name": "stderr",
     "output_type": "stream",
     "text": [
      "100%|██████████| 5/5 [00:21<00:00,  4.36s/it]\n"
     ]
    },
    {
     "name": "stdout",
     "output_type": "stream",
     "text": [
      "0.2068785257629161\n"
     ]
    },
    {
     "name": "stderr",
     "output_type": "stream",
     "text": [
      "100%|██████████| 5/5 [00:21<00:00,  4.35s/it]\n",
      "[I 2025-07-24 14:45:13,464] Trial 17 finished with value: 0.12321684347742518 and parameters: {'log2_hidden_layer_0': 6, 'log2_hidden_layer_1': 5, 'lr': 0.00019742052960603092, 'batch_size': 30, 'num_epochs': 5}. Best is trial 0 with value: 0.18336213324775943.\n"
     ]
    },
    {
     "name": "stdout",
     "output_type": "stream",
     "text": [
      "0.083477665197537\n"
     ]
    },
    {
     "name": "stderr",
     "output_type": "stream",
     "text": [
      "100%|██████████| 10/10 [00:21<00:00,  2.18s/it]\n"
     ]
    },
    {
     "name": "stdout",
     "output_type": "stream",
     "text": [
      "0.1566113027859968\n"
     ]
    },
    {
     "name": "stderr",
     "output_type": "stream",
     "text": [
      "100%|██████████| 10/10 [00:21<00:00,  2.18s/it]\n"
     ]
    },
    {
     "name": "stdout",
     "output_type": "stream",
     "text": [
      "0.2051097750685323\n"
     ]
    },
    {
     "name": "stderr",
     "output_type": "stream",
     "text": [
      "100%|██████████| 10/10 [00:21<00:00,  2.19s/it]\n"
     ]
    },
    {
     "name": "stdout",
     "output_type": "stream",
     "text": [
      "0.21444093946235696\n"
     ]
    },
    {
     "name": "stderr",
     "output_type": "stream",
     "text": [
      "100%|██████████| 10/10 [00:21<00:00,  2.16s/it]\n",
      "[I 2025-07-24 14:46:43,633] Trial 18 finished with value: 0.16251058219824976 and parameters: {'log2_hidden_layer_0': 2, 'log2_hidden_layer_1': 2, 'lr': 0.00019329558350266745, 'batch_size': 60, 'num_epochs': 10}. Best is trial 0 with value: 0.18336213324775943.\n"
     ]
    },
    {
     "name": "stdout",
     "output_type": "stream",
     "text": [
      "0.07388031147611293\n"
     ]
    },
    {
     "name": "stderr",
     "output_type": "stream",
     "text": [
      "100%|██████████| 15/15 [00:05<00:00,  2.58it/s]\n"
     ]
    },
    {
     "name": "stdout",
     "output_type": "stream",
     "text": [
      "-0.06389047929957711\n"
     ]
    },
    {
     "name": "stderr",
     "output_type": "stream",
     "text": [
      "100%|██████████| 15/15 [00:05<00:00,  2.61it/s]\n"
     ]
    },
    {
     "name": "stdout",
     "output_type": "stream",
     "text": [
      "0.20165879485938812\n"
     ]
    },
    {
     "name": "stderr",
     "output_type": "stream",
     "text": [
      "100%|██████████| 15/15 [00:05<00:00,  2.54it/s]\n"
     ]
    },
    {
     "name": "stdout",
     "output_type": "stream",
     "text": [
      "0.21489805218221422\n"
     ]
    },
    {
     "name": "stderr",
     "output_type": "stream",
     "text": [
      "100%|██████████| 15/15 [00:05<00:00,  2.63it/s]\n",
      "[I 2025-07-24 14:47:07,435] Trial 19 finished with value: 0.11449987172497667 and parameters: {'log2_hidden_layer_0': 4, 'log2_hidden_layer_1': 3, 'lr': 0.0005804167783794331, 'batch_size': 360, 'num_epochs': 15}. Best is trial 0 with value: 0.18336213324775943.\n"
     ]
    },
    {
     "name": "stdout",
     "output_type": "stream",
     "text": [
      "0.10533311915788145\n"
     ]
    },
    {
     "name": "stderr",
     "output_type": "stream",
     "text": [
      "100%|██████████| 5/5 [00:01<00:00,  2.52it/s]\n"
     ]
    },
    {
     "name": "stdout",
     "output_type": "stream",
     "text": [
      "0.20742687645284819\n"
     ]
    },
    {
     "name": "stderr",
     "output_type": "stream",
     "text": [
      "100%|██████████| 5/5 [00:01<00:00,  2.52it/s]\n"
     ]
    },
    {
     "name": "stdout",
     "output_type": "stream",
     "text": [
      "0.2155695858965359\n"
     ]
    },
    {
     "name": "stderr",
     "output_type": "stream",
     "text": [
      "100%|██████████| 5/5 [00:01<00:00,  2.61it/s]\n"
     ]
    },
    {
     "name": "stdout",
     "output_type": "stream",
     "text": [
      "0.21520072996152997\n"
     ]
    },
    {
     "name": "stderr",
     "output_type": "stream",
     "text": [
      "100%|██████████| 5/5 [00:01<00:00,  2.63it/s]\n",
      "[I 2025-07-24 14:47:15,824] Trial 20 finished with value: 0.1847457924611046 and parameters: {'log2_hidden_layer_0': 5, 'log2_hidden_layer_1': 4, 'lr': 0.00010449182011383548, 'batch_size': 360, 'num_epochs': 5}. Best is trial 20 with value: 0.1847457924611046.\n"
     ]
    },
    {
     "name": "stdout",
     "output_type": "stream",
     "text": [
      "0.10078597753350431\n"
     ]
    },
    {
     "name": "stderr",
     "output_type": "stream",
     "text": [
      "100%|██████████| 5/5 [00:01<00:00,  2.62it/s]\n"
     ]
    },
    {
     "name": "stdout",
     "output_type": "stream",
     "text": [
      "0.2073723663603776\n"
     ]
    },
    {
     "name": "stderr",
     "output_type": "stream",
     "text": [
      "100%|██████████| 5/5 [00:01<00:00,  2.55it/s]\n"
     ]
    },
    {
     "name": "stdout",
     "output_type": "stream",
     "text": [
      "0.2155605156347058\n"
     ]
    },
    {
     "name": "stderr",
     "output_type": "stream",
     "text": [
      "100%|██████████| 5/5 [00:02<00:00,  2.47it/s]\n"
     ]
    },
    {
     "name": "stdout",
     "output_type": "stream",
     "text": [
      "0.2153058505389503\n"
     ]
    },
    {
     "name": "stderr",
     "output_type": "stream",
     "text": [
      "100%|██████████| 5/5 [00:01<00:00,  2.53it/s]\n",
      "[I 2025-07-24 14:47:24,308] Trial 21 finished with value: 0.1848124765961183 and parameters: {'log2_hidden_layer_0': 5, 'log2_hidden_layer_1': 4, 'lr': 0.000105735369429319, 'batch_size': 360, 'num_epochs': 5}. Best is trial 21 with value: 0.1848124765961183.\n"
     ]
    },
    {
     "name": "stdout",
     "output_type": "stream",
     "text": [
      "0.10101117385043946\n"
     ]
    },
    {
     "name": "stderr",
     "output_type": "stream",
     "text": [
      "100%|██████████| 5/5 [00:01<00:00,  2.63it/s]\n"
     ]
    },
    {
     "name": "stdout",
     "output_type": "stream",
     "text": [
      "0.2076096157873924\n"
     ]
    },
    {
     "name": "stderr",
     "output_type": "stream",
     "text": [
      "100%|██████████| 5/5 [00:01<00:00,  2.64it/s]\n"
     ]
    },
    {
     "name": "stdout",
     "output_type": "stream",
     "text": [
      "0.21544234895554457\n"
     ]
    },
    {
     "name": "stderr",
     "output_type": "stream",
     "text": [
      "100%|██████████| 5/5 [00:01<00:00,  2.63it/s]\n"
     ]
    },
    {
     "name": "stdout",
     "output_type": "stream",
     "text": [
      "0.2150168742276294\n"
     ]
    },
    {
     "name": "stderr",
     "output_type": "stream",
     "text": [
      "100%|██████████| 5/5 [00:01<00:00,  2.52it/s]\n",
      "[I 2025-07-24 14:47:32,615] Trial 22 finished with value: 0.18462175423510302 and parameters: {'log2_hidden_layer_0': 5, 'log2_hidden_layer_1': 4, 'lr': 0.00010154598439282427, 'batch_size': 360, 'num_epochs': 5}. Best is trial 21 with value: 0.1848124765961183.\n"
     ]
    },
    {
     "name": "stdout",
     "output_type": "stream",
     "text": [
      "0.10041817796984577\n"
     ]
    },
    {
     "name": "stderr",
     "output_type": "stream",
     "text": [
      "100%|██████████| 5/5 [00:02<00:00,  2.50it/s]\n"
     ]
    },
    {
     "name": "stdout",
     "output_type": "stream",
     "text": [
      "0.20135151684143884\n"
     ]
    },
    {
     "name": "stderr",
     "output_type": "stream",
     "text": [
      "100%|██████████| 5/5 [00:01<00:00,  2.51it/s]\n"
     ]
    },
    {
     "name": "stdout",
     "output_type": "stream",
     "text": [
      "0.21808575605986044\n"
     ]
    },
    {
     "name": "stderr",
     "output_type": "stream",
     "text": [
      "100%|██████████| 5/5 [00:01<00:00,  2.64it/s]\n"
     ]
    },
    {
     "name": "stdout",
     "output_type": "stream",
     "text": [
      "0.21264829184116493\n"
     ]
    },
    {
     "name": "stderr",
     "output_type": "stream",
     "text": [
      "100%|██████████| 5/5 [00:01<00:00,  2.64it/s]\n",
      "[I 2025-07-24 14:47:41,000] Trial 23 finished with value: 0.18420907548519128 and parameters: {'log2_hidden_layer_0': 6, 'log2_hidden_layer_1': 5, 'lr': 0.00015197581789834887, 'batch_size': 360, 'num_epochs': 5}. Best is trial 21 with value: 0.1848124765961183.\n"
     ]
    },
    {
     "name": "stdout",
     "output_type": "stream",
     "text": [
      "0.1047507371983009\n"
     ]
    },
    {
     "name": "stderr",
     "output_type": "stream",
     "text": [
      "100%|██████████| 5/5 [00:01<00:00,  2.65it/s]\n"
     ]
    },
    {
     "name": "stdout",
     "output_type": "stream",
     "text": [
      "0.19477569620186688\n"
     ]
    },
    {
     "name": "stderr",
     "output_type": "stream",
     "text": [
      "100%|██████████| 5/5 [00:01<00:00,  2.50it/s]\n"
     ]
    },
    {
     "name": "stdout",
     "output_type": "stream",
     "text": [
      "0.18924354085659667\n"
     ]
    },
    {
     "name": "stderr",
     "output_type": "stream",
     "text": [
      "100%|██████████| 5/5 [00:02<00:00,  2.50it/s]\n"
     ]
    },
    {
     "name": "stdout",
     "output_type": "stream",
     "text": [
      "0.20130724898345093\n"
     ]
    },
    {
     "name": "stderr",
     "output_type": "stream",
     "text": [
      "100%|██████████| 5/5 [00:01<00:00,  2.53it/s]\n",
      "[I 2025-07-24 14:47:49,484] Trial 24 finished with value: 0.17406336269587852 and parameters: {'log2_hidden_layer_0': 5, 'log2_hidden_layer_1': 4, 'lr': 0.0002901953440599165, 'batch_size': 360, 'num_epochs': 5}. Best is trial 21 with value: 0.1848124765961183.\n"
     ]
    },
    {
     "name": "stdout",
     "output_type": "stream",
     "text": [
      "0.11092696474159959\n"
     ]
    },
    {
     "name": "stderr",
     "output_type": "stream",
     "text": [
      "100%|██████████| 5/5 [00:01<00:00,  2.62it/s]\n"
     ]
    },
    {
     "name": "stdout",
     "output_type": "stream",
     "text": [
      "0.20923157668478798\n"
     ]
    },
    {
     "name": "stderr",
     "output_type": "stream",
     "text": [
      "100%|██████████| 5/5 [00:01<00:00,  2.62it/s]\n"
     ]
    },
    {
     "name": "stdout",
     "output_type": "stream",
     "text": [
      "0.22015372154363602\n"
     ]
    },
    {
     "name": "stderr",
     "output_type": "stream",
     "text": [
      "100%|██████████| 5/5 [00:01<00:00,  2.54it/s]\n"
     ]
    },
    {
     "name": "stdout",
     "output_type": "stream",
     "text": [
      "0.21304471810732262\n"
     ]
    },
    {
     "name": "stderr",
     "output_type": "stream",
     "text": [
      "100%|██████████| 5/5 [00:01<00:00,  2.51it/s]\n",
      "[I 2025-07-24 14:47:57,870] Trial 25 finished with value: 0.18588758284063242 and parameters: {'log2_hidden_layer_0': 6, 'log2_hidden_layer_1': 5, 'lr': 0.00010382457822393687, 'batch_size': 360, 'num_epochs': 5}. Best is trial 25 with value: 0.18588758284063242.\n"
     ]
    },
    {
     "name": "stdout",
     "output_type": "stream",
     "text": [
      "0.10112031502678313\n"
     ]
    },
    {
     "name": "stderr",
     "output_type": "stream",
     "text": [
      "100%|██████████| 5/5 [00:01<00:00,  4.88it/s]\n"
     ]
    },
    {
     "name": "stdout",
     "output_type": "stream",
     "text": [
      "0.1999173617048146\n"
     ]
    },
    {
     "name": "stderr",
     "output_type": "stream",
     "text": [
      "100%|██████████| 5/5 [00:01<00:00,  4.86it/s]\n"
     ]
    },
    {
     "name": "stdout",
     "output_type": "stream",
     "text": [
      "0.10215625696650663\n"
     ]
    },
    {
     "name": "stderr",
     "output_type": "stream",
     "text": [
      "100%|██████████| 5/5 [00:01<00:00,  4.90it/s]\n"
     ]
    },
    {
     "name": "stdout",
     "output_type": "stream",
     "text": [
      "0.14011851993921667\n"
     ]
    },
    {
     "name": "stderr",
     "output_type": "stream",
     "text": [
      "100%|██████████| 5/5 [00:01<00:00,  4.82it/s]\n",
      "[I 2025-07-24 14:48:02,321] Trial 26 finished with value: 0.1375525600045286 and parameters: {'log2_hidden_layer_0': 6, 'log2_hidden_layer_1': 5, 'lr': 0.000719579492138974, 'batch_size': 720, 'num_epochs': 5}. Best is trial 25 with value: 0.18588758284063242.\n"
     ]
    },
    {
     "name": "stdout",
     "output_type": "stream",
     "text": [
      "0.10801810140757648\n"
     ]
    },
    {
     "name": "stderr",
     "output_type": "stream",
     "text": [
      "100%|██████████| 5/5 [00:05<00:00,  1.08s/it]\n"
     ]
    },
    {
     "name": "stdout",
     "output_type": "stream",
     "text": [
      "0.18733012158839996\n"
     ]
    },
    {
     "name": "stderr",
     "output_type": "stream",
     "text": [
      "100%|██████████| 5/5 [00:05<00:00,  1.13s/it]\n"
     ]
    },
    {
     "name": "stdout",
     "output_type": "stream",
     "text": [
      "0.18568256217158075\n"
     ]
    },
    {
     "name": "stderr",
     "output_type": "stream",
     "text": [
      "100%|██████████| 5/5 [00:05<00:00,  1.09s/it]\n"
     ]
    },
    {
     "name": "stdout",
     "output_type": "stream",
     "text": [
      "0.20257513329593335\n"
     ]
    },
    {
     "name": "stderr",
     "output_type": "stream",
     "text": [
      "100%|██████████| 5/5 [00:05<00:00,  1.13s/it]\n",
      "[I 2025-07-24 14:48:26,235] Trial 27 finished with value: 0.17103975527987866 and parameters: {'log2_hidden_layer_0': 6, 'log2_hidden_layer_1': 5, 'lr': 0.00016919989477086862, 'batch_size': 120, 'num_epochs': 5}. Best is trial 25 with value: 0.18588758284063242.\n"
     ]
    },
    {
     "name": "stdout",
     "output_type": "stream",
     "text": [
      "0.10857120406360059\n"
     ]
    },
    {
     "name": "stderr",
     "output_type": "stream",
     "text": [
      "100%|██████████| 5/5 [00:11<00:00,  2.25s/it]\n"
     ]
    },
    {
     "name": "stdout",
     "output_type": "stream",
     "text": [
      "0.15912355945130138\n"
     ]
    },
    {
     "name": "stderr",
     "output_type": "stream",
     "text": [
      "100%|██████████| 5/5 [00:11<00:00,  2.25s/it]\n"
     ]
    },
    {
     "name": "stdout",
     "output_type": "stream",
     "text": [
      "-0.0062051331926514545\n"
     ]
    },
    {
     "name": "stderr",
     "output_type": "stream",
     "text": [
      "100%|██████████| 5/5 [00:11<00:00,  2.27s/it]\n"
     ]
    },
    {
     "name": "stdout",
     "output_type": "stream",
     "text": [
      "0.046433261244484964\n"
     ]
    },
    {
     "name": "stderr",
     "output_type": "stream",
     "text": [
      "100%|██████████| 5/5 [00:11<00:00,  2.25s/it]\n",
      "[I 2025-07-24 14:49:14,787] Trial 28 finished with value: 0.07735182124811976 and parameters: {'log2_hidden_layer_0': 7, 'log2_hidden_layer_1': 7, 'lr': 0.0002756772430955184, 'batch_size': 60, 'num_epochs': 5}. Best is trial 25 with value: 0.18588758284063242.\n"
     ]
    },
    {
     "name": "stdout",
     "output_type": "stream",
     "text": [
      "0.11005559748934415\n"
     ]
    },
    {
     "name": "stderr",
     "output_type": "stream",
     "text": [
      "100%|██████████| 5/5 [00:01<00:00,  2.54it/s]\n"
     ]
    },
    {
     "name": "stdout",
     "output_type": "stream",
     "text": [
      "0.20520665457834397\n"
     ]
    },
    {
     "name": "stderr",
     "output_type": "stream",
     "text": [
      "100%|██████████| 5/5 [00:01<00:00,  2.60it/s]\n"
     ]
    },
    {
     "name": "stdout",
     "output_type": "stream",
     "text": [
      "0.21473213387048637\n"
     ]
    },
    {
     "name": "stderr",
     "output_type": "stream",
     "text": [
      "100%|██████████| 5/5 [00:01<00:00,  2.63it/s]\n"
     ]
    },
    {
     "name": "stdout",
     "output_type": "stream",
     "text": [
      "0.2162512566184729\n"
     ]
    },
    {
     "name": "stderr",
     "output_type": "stream",
     "text": [
      "100%|██████████| 5/5 [00:01<00:00,  2.63it/s]\n",
      "[I 2025-07-24 14:49:23,081] Trial 29 finished with value: 0.18523351448915618 and parameters: {'log2_hidden_layer_0': 5, 'log2_hidden_layer_1': 4, 'lr': 0.00013872685123048905, 'batch_size': 360, 'num_epochs': 5}. Best is trial 25 with value: 0.18588758284063242.\n"
     ]
    },
    {
     "name": "stdout",
     "output_type": "stream",
     "text": [
      "0.10474401288932148\n"
     ]
    },
    {
     "name": "stderr",
     "output_type": "stream",
     "text": [
      "100%|██████████| 5/5 [00:21<00:00,  4.37s/it]\n"
     ]
    },
    {
     "name": "stdout",
     "output_type": "stream",
     "text": [
      "0.18128220558508137\n"
     ]
    },
    {
     "name": "stderr",
     "output_type": "stream",
     "text": [
      "100%|██████████| 5/5 [00:21<00:00,  4.36s/it]\n"
     ]
    },
    {
     "name": "stdout",
     "output_type": "stream",
     "text": [
      "0.1119244375226466\n"
     ]
    },
    {
     "name": "stderr",
     "output_type": "stream",
     "text": [
      "100%|██████████| 5/5 [00:21<00:00,  4.40s/it]\n"
     ]
    },
    {
     "name": "stdout",
     "output_type": "stream",
     "text": [
      "0.1888568196586486\n"
     ]
    },
    {
     "name": "stderr",
     "output_type": "stream",
     "text": [
      "100%|██████████| 5/5 [00:21<00:00,  4.33s/it]\n",
      "[I 2025-07-24 14:50:56,558] Trial 30 finished with value: 0.14179606430260241 and parameters: {'log2_hidden_layer_0': 6, 'log2_hidden_layer_1': 6, 'lr': 0.00014755263237906346, 'batch_size': 30, 'num_epochs': 5}. Best is trial 25 with value: 0.18588758284063242.\n"
     ]
    },
    {
     "name": "stdout",
     "output_type": "stream",
     "text": [
      "0.08512079444403305\n"
     ]
    },
    {
     "name": "stderr",
     "output_type": "stream",
     "text": [
      "100%|██████████| 5/5 [00:01<00:00,  2.55it/s]\n"
     ]
    },
    {
     "name": "stdout",
     "output_type": "stream",
     "text": [
      "0.20752911739610244\n"
     ]
    },
    {
     "name": "stderr",
     "output_type": "stream",
     "text": [
      "100%|██████████| 5/5 [00:01<00:00,  2.62it/s]\n"
     ]
    },
    {
     "name": "stdout",
     "output_type": "stream",
     "text": [
      "0.21555104356334973\n"
     ]
    },
    {
     "name": "stderr",
     "output_type": "stream",
     "text": [
      "100%|██████████| 5/5 [00:01<00:00,  2.61it/s]\n"
     ]
    },
    {
     "name": "stdout",
     "output_type": "stream",
     "text": [
      "0.21511949323912277\n"
     ]
    },
    {
     "name": "stderr",
     "output_type": "stream",
     "text": [
      "100%|██████████| 5/5 [00:01<00:00,  2.66it/s]\n",
      "[I 2025-07-24 14:51:04,830] Trial 31 finished with value: 0.18471566392749522 and parameters: {'log2_hidden_layer_0': 5, 'log2_hidden_layer_1': 4, 'lr': 0.00010331878274917298, 'batch_size': 360, 'num_epochs': 5}. Best is trial 25 with value: 0.18588758284063242.\n"
     ]
    },
    {
     "name": "stdout",
     "output_type": "stream",
     "text": [
      "0.1006630015114059\n"
     ]
    },
    {
     "name": "stderr",
     "output_type": "stream",
     "text": [
      "100%|██████████| 5/5 [00:01<00:00,  2.58it/s]\n"
     ]
    },
    {
     "name": "stdout",
     "output_type": "stream",
     "text": [
      "0.20490554795109694\n"
     ]
    },
    {
     "name": "stderr",
     "output_type": "stream",
     "text": [
      "100%|██████████| 5/5 [00:01<00:00,  2.53it/s]\n"
     ]
    },
    {
     "name": "stdout",
     "output_type": "stream",
     "text": [
      "0.21412835171512234\n"
     ]
    },
    {
     "name": "stderr",
     "output_type": "stream",
     "text": [
      "100%|██████████| 5/5 [00:01<00:00,  2.50it/s]\n"
     ]
    },
    {
     "name": "stdout",
     "output_type": "stream",
     "text": [
      "0.21613502147282773\n"
     ]
    },
    {
     "name": "stderr",
     "output_type": "stream",
     "text": [
      "100%|██████████| 5/5 [00:01<00:00,  2.60it/s]\n",
      "[I 2025-07-24 14:51:13,275] Trial 32 finished with value: 0.1850705448416272 and parameters: {'log2_hidden_layer_0': 5, 'log2_hidden_layer_1': 4, 'lr': 0.00014319370332043893, 'batch_size': 360, 'num_epochs': 5}. Best is trial 25 with value: 0.18588758284063242.\n"
     ]
    },
    {
     "name": "stdout",
     "output_type": "stream",
     "text": [
      "0.10511325822746179\n"
     ]
    },
    {
     "name": "stderr",
     "output_type": "stream",
     "text": [
      "100%|██████████| 5/5 [00:01<00:00,  2.68it/s]\n"
     ]
    },
    {
     "name": "stdout",
     "output_type": "stream",
     "text": [
      "0.20408605336766894\n"
     ]
    },
    {
     "name": "stderr",
     "output_type": "stream",
     "text": [
      "100%|██████████| 5/5 [00:01<00:00,  2.65it/s]\n"
     ]
    },
    {
     "name": "stdout",
     "output_type": "stream",
     "text": [
      "0.2132531149146581\n"
     ]
    },
    {
     "name": "stderr",
     "output_type": "stream",
     "text": [
      "100%|██████████| 5/5 [00:01<00:00,  2.58it/s]\n"
     ]
    },
    {
     "name": "stdout",
     "output_type": "stream",
     "text": [
      "0.21627213856853625\n"
     ]
    },
    {
     "name": "stderr",
     "output_type": "stream",
     "text": [
      "100%|██████████| 5/5 [00:01<00:00,  2.55it/s]\n",
      "[I 2025-07-24 14:51:21,525] Trial 33 finished with value: 0.18475739998827548 and parameters: {'log2_hidden_layer_0': 5, 'log2_hidden_layer_1': 4, 'lr': 0.00015264437968292368, 'batch_size': 360, 'num_epochs': 5}. Best is trial 25 with value: 0.18588758284063242.\n"
     ]
    },
    {
     "name": "stdout",
     "output_type": "stream",
     "text": [
      "0.10541829310223863\n"
     ]
    },
    {
     "name": "stderr",
     "output_type": "stream",
     "text": [
      "100%|██████████| 5/5 [00:01<00:00,  2.52it/s]\n"
     ]
    },
    {
     "name": "stdout",
     "output_type": "stream",
     "text": [
      "0.19537811040438816\n"
     ]
    },
    {
     "name": "stderr",
     "output_type": "stream",
     "text": [
      "100%|██████████| 5/5 [00:01<00:00,  2.58it/s]\n"
     ]
    },
    {
     "name": "stdout",
     "output_type": "stream",
     "text": [
      "0.18217817097332378\n"
     ]
    },
    {
     "name": "stderr",
     "output_type": "stream",
     "text": [
      "100%|██████████| 5/5 [00:01<00:00,  2.59it/s]\n"
     ]
    },
    {
     "name": "stdout",
     "output_type": "stream",
     "text": [
      "0.19138312168077867\n"
     ]
    },
    {
     "name": "stderr",
     "output_type": "stream",
     "text": [
      "100%|██████████| 5/5 [00:01<00:00,  2.64it/s]\n",
      "[I 2025-07-24 14:51:29,871] Trial 34 finished with value: 0.1709811032463978 and parameters: {'log2_hidden_layer_0': 6, 'log2_hidden_layer_1': 5, 'lr': 0.0002988234562769148, 'batch_size': 360, 'num_epochs': 5}. Best is trial 25 with value: 0.18588758284063242.\n"
     ]
    },
    {
     "name": "stdout",
     "output_type": "stream",
     "text": [
      "0.11498500992710063\n"
     ]
    },
    {
     "name": "stderr",
     "output_type": "stream",
     "text": [
      "100%|██████████| 5/5 [00:01<00:00,  2.63it/s]\n"
     ]
    },
    {
     "name": "stdout",
     "output_type": "stream",
     "text": [
      "0.18020934244764317\n"
     ]
    },
    {
     "name": "stderr",
     "output_type": "stream",
     "text": [
      "100%|██████████| 5/5 [00:01<00:00,  2.57it/s]\n"
     ]
    },
    {
     "name": "stdout",
     "output_type": "stream",
     "text": [
      "0.11109050302150959\n"
     ]
    },
    {
     "name": "stderr",
     "output_type": "stream",
     "text": [
      "100%|██████████| 5/5 [00:01<00:00,  2.56it/s]\n"
     ]
    },
    {
     "name": "stdout",
     "output_type": "stream",
     "text": [
      "0.01171927474423631\n"
     ]
    },
    {
     "name": "stderr",
     "output_type": "stream",
     "text": [
      "100%|██████████| 5/5 [00:01<00:00,  2.63it/s]\n",
      "[I 2025-07-24 14:51:38,174] Trial 35 finished with value: 0.07502056342238775 and parameters: {'log2_hidden_layer_0': 3, 'log2_hidden_layer_1': 3, 'lr': 0.00013208290737007692, 'batch_size': 360, 'num_epochs': 5}. Best is trial 25 with value: 0.18588758284063242.\n"
     ]
    },
    {
     "name": "stdout",
     "output_type": "stream",
     "text": [
      "-0.002936866523838068\n"
     ]
    },
    {
     "name": "stderr",
     "output_type": "stream",
     "text": [
      "100%|██████████| 15/15 [00:11<00:00,  1.34it/s]\n"
     ]
    },
    {
     "name": "stdout",
     "output_type": "stream",
     "text": [
      "0.06589078175272513\n"
     ]
    },
    {
     "name": "stderr",
     "output_type": "stream",
     "text": [
      "100%|██████████| 15/15 [00:11<00:00,  1.34it/s]\n"
     ]
    },
    {
     "name": "stdout",
     "output_type": "stream",
     "text": [
      "0.19590717680563413\n"
     ]
    },
    {
     "name": "stderr",
     "output_type": "stream",
     "text": [
      "100%|██████████| 15/15 [00:11<00:00,  1.33it/s]\n"
     ]
    },
    {
     "name": "stdout",
     "output_type": "stream",
     "text": [
      "0.20525639846415072\n"
     ]
    },
    {
     "name": "stderr",
     "output_type": "stream",
     "text": [
      "100%|██████████| 15/15 [00:11<00:00,  1.35it/s]\n",
      "[I 2025-07-24 14:52:24,196] Trial 36 finished with value: 0.1413745279411201 and parameters: {'log2_hidden_layer_0': 4, 'log2_hidden_layer_1': 3, 'lr': 0.00023603347746793015, 'batch_size': 180, 'num_epochs': 15}. Best is trial 25 with value: 0.18588758284063242.\n"
     ]
    },
    {
     "name": "stdout",
     "output_type": "stream",
     "text": [
      "0.09844375474197047\n"
     ]
    },
    {
     "name": "stderr",
     "output_type": "stream",
     "text": [
      "100%|██████████| 5/5 [00:21<00:00,  4.32s/it]\n"
     ]
    },
    {
     "name": "stdout",
     "output_type": "stream",
     "text": [
      "-0.042924857017761386\n"
     ]
    },
    {
     "name": "stderr",
     "output_type": "stream",
     "text": [
      "100%|██████████| 5/5 [00:21<00:00,  4.32s/it]\n"
     ]
    },
    {
     "name": "stdout",
     "output_type": "stream",
     "text": [
      "-0.01539180219747634\n"
     ]
    },
    {
     "name": "stderr",
     "output_type": "stream",
     "text": [
      "100%|██████████| 5/5 [00:21<00:00,  4.36s/it]\n"
     ]
    },
    {
     "name": "stdout",
     "output_type": "stream",
     "text": [
      "-0.0014658698266712144\n"
     ]
    },
    {
     "name": "stderr",
     "output_type": "stream",
     "text": [
      "100%|██████████| 5/5 [00:21<00:00,  4.32s/it]\n",
      "[I 2025-07-24 14:53:56,856] Trial 37 finished with value: -1.0 and parameters: {'log2_hidden_layer_0': 5, 'log2_hidden_layer_1': 4, 'lr': 0.004276719709628165, 'batch_size': 30, 'num_epochs': 5}. Best is trial 25 with value: 0.18588758284063242.\n"
     ]
    },
    {
     "name": "stdout",
     "output_type": "stream",
     "text": [
      "[0.06239256 0.06239256 0.06239256 ... 0.06239256 0.06239256 0.06239256]\n",
      "Error: zero variance prediction\n",
      "-1\n"
     ]
    },
    {
     "name": "stderr",
     "output_type": "stream",
     "text": [
      "100%|██████████| 5/5 [00:05<00:00,  1.08s/it]\n"
     ]
    },
    {
     "name": "stdout",
     "output_type": "stream",
     "text": [
      "0.16342798845015638\n"
     ]
    },
    {
     "name": "stderr",
     "output_type": "stream",
     "text": [
      "100%|██████████| 5/5 [00:05<00:00,  1.14s/it]\n"
     ]
    },
    {
     "name": "stdout",
     "output_type": "stream",
     "text": [
      "0.08016930038672924\n"
     ]
    },
    {
     "name": "stderr",
     "output_type": "stream",
     "text": [
      "100%|██████████| 5/5 [00:05<00:00,  1.08s/it]\n"
     ]
    },
    {
     "name": "stdout",
     "output_type": "stream",
     "text": [
      "0.19433634477606007\n"
     ]
    },
    {
     "name": "stderr",
     "output_type": "stream",
     "text": [
      "100%|██████████| 5/5 [00:05<00:00,  1.13s/it]\n",
      "[I 2025-07-24 14:54:20,597] Trial 38 finished with value: 0.13106573028526325 and parameters: {'log2_hidden_layer_0': 6, 'log2_hidden_layer_1': 4, 'lr': 0.0014624215589362324, 'batch_size': 120, 'num_epochs': 5}. Best is trial 25 with value: 0.18588758284063242.\n"
     ]
    },
    {
     "name": "stdout",
     "output_type": "stream",
     "text": [
      "0.08632928752810726\n"
     ]
    },
    {
     "name": "stderr",
     "output_type": "stream",
     "text": [
      "100%|██████████| 15/15 [00:05<00:00,  2.65it/s]\n"
     ]
    },
    {
     "name": "stdout",
     "output_type": "stream",
     "text": [
      "0.11280580106384432\n"
     ]
    },
    {
     "name": "stderr",
     "output_type": "stream",
     "text": [
      "100%|██████████| 15/15 [00:05<00:00,  2.56it/s]\n"
     ]
    },
    {
     "name": "stdout",
     "output_type": "stream",
     "text": [
      "0.21397782380547337\n"
     ]
    },
    {
     "name": "stderr",
     "output_type": "stream",
     "text": [
      "100%|██████████| 15/15 [00:05<00:00,  2.63it/s]\n"
     ]
    },
    {
     "name": "stdout",
     "output_type": "stream",
     "text": [
      "0.20794110941892813\n"
     ]
    },
    {
     "name": "stderr",
     "output_type": "stream",
     "text": [
      "100%|██████████| 15/15 [00:05<00:00,  2.57it/s]\n",
      "[I 2025-07-24 14:54:44,243] Trial 39 finished with value: 0.15477743686844603 and parameters: {'log2_hidden_layer_0': 4, 'log2_hidden_layer_1': 3, 'lr': 0.0001733304176366698, 'batch_size': 360, 'num_epochs': 15}. Best is trial 25 with value: 0.18588758284063242.\n"
     ]
    },
    {
     "name": "stdout",
     "output_type": "stream",
     "text": [
      "0.0843850131855384\n"
     ]
    },
    {
     "name": "stderr",
     "output_type": "stream",
     "text": [
      "100%|██████████| 5/5 [00:01<00:00,  4.78it/s]\n"
     ]
    },
    {
     "name": "stdout",
     "output_type": "stream",
     "text": [
      "0.1880204749369401\n"
     ]
    },
    {
     "name": "stderr",
     "output_type": "stream",
     "text": [
      "100%|██████████| 5/5 [00:00<00:00,  5.05it/s]\n"
     ]
    },
    {
     "name": "stdout",
     "output_type": "stream",
     "text": [
      "0.10797281358703353\n"
     ]
    },
    {
     "name": "stderr",
     "output_type": "stream",
     "text": [
      "100%|██████████| 5/5 [00:01<00:00,  4.96it/s]\n"
     ]
    },
    {
     "name": "stdout",
     "output_type": "stream",
     "text": [
      "0.11347501044629313\n"
     ]
    },
    {
     "name": "stderr",
     "output_type": "stream",
     "text": [
      "100%|██████████| 5/5 [00:00<00:00,  5.10it/s]\n",
      "[I 2025-07-24 14:54:48,620] Trial 40 finished with value: 0.1339635489380806 and parameters: {'log2_hidden_layer_0': 7, 'log2_hidden_layer_1': 6, 'lr': 0.0006962366629811567, 'batch_size': 720, 'num_epochs': 5}. Best is trial 25 with value: 0.18588758284063242.\n"
     ]
    },
    {
     "name": "stdout",
     "output_type": "stream",
     "text": [
      "0.12638589678205553\n"
     ]
    },
    {
     "name": "stderr",
     "output_type": "stream",
     "text": [
      "100%|██████████| 5/5 [00:01<00:00,  2.61it/s]\n"
     ]
    },
    {
     "name": "stdout",
     "output_type": "stream",
     "text": [
      "0.20456736955954075\n"
     ]
    },
    {
     "name": "stderr",
     "output_type": "stream",
     "text": [
      "100%|██████████| 5/5 [00:01<00:00,  2.55it/s]\n"
     ]
    },
    {
     "name": "stdout",
     "output_type": "stream",
     "text": [
      "0.21370225120163128\n"
     ]
    },
    {
     "name": "stderr",
     "output_type": "stream",
     "text": [
      "100%|██████████| 5/5 [00:01<00:00,  2.50it/s]\n"
     ]
    },
    {
     "name": "stdout",
     "output_type": "stream",
     "text": [
      "0.21609732361217196\n"
     ]
    },
    {
     "name": "stderr",
     "output_type": "stream",
     "text": [
      "100%|██████████| 5/5 [00:01<00:00,  2.53it/s]\n",
      "[I 2025-07-24 14:54:57,086] Trial 41 finished with value: 0.18488469167307042 and parameters: {'log2_hidden_layer_0': 5, 'log2_hidden_layer_1': 4, 'lr': 0.00014715751405034732, 'batch_size': 360, 'num_epochs': 5}. Best is trial 25 with value: 0.18588758284063242.\n"
     ]
    },
    {
     "name": "stdout",
     "output_type": "stream",
     "text": [
      "0.10517182231893779\n"
     ]
    },
    {
     "name": "stderr",
     "output_type": "stream",
     "text": [
      "100%|██████████| 5/5 [00:01<00:00,  2.60it/s]\n"
     ]
    },
    {
     "name": "stdout",
     "output_type": "stream",
     "text": [
      "0.20590717002465053\n"
     ]
    },
    {
     "name": "stderr",
     "output_type": "stream",
     "text": [
      "100%|██████████| 5/5 [00:01<00:00,  2.65it/s]\n"
     ]
    },
    {
     "name": "stdout",
     "output_type": "stream",
     "text": [
      "0.21503937109428753\n"
     ]
    },
    {
     "name": "stderr",
     "output_type": "stream",
     "text": [
      "100%|██████████| 5/5 [00:01<00:00,  2.63it/s]\n"
     ]
    },
    {
     "name": "stdout",
     "output_type": "stream",
     "text": [
      "0.2159069755773664\n"
     ]
    },
    {
     "name": "stderr",
     "output_type": "stream",
     "text": [
      "100%|██████████| 5/5 [00:01<00:00,  2.56it/s]\n",
      "[I 2025-07-24 14:55:05,351] Trial 42 finished with value: 0.1851931170175514 and parameters: {'log2_hidden_layer_0': 5, 'log2_hidden_layer_1': 4, 'lr': 0.0001292250447777175, 'batch_size': 360, 'num_epochs': 5}. Best is trial 25 with value: 0.18588758284063242.\n"
     ]
    },
    {
     "name": "stdout",
     "output_type": "stream",
     "text": [
      "0.10391895137390116\n"
     ]
    },
    {
     "name": "stderr",
     "output_type": "stream",
     "text": [
      "100%|██████████| 5/5 [00:01<00:00,  2.52it/s]\n"
     ]
    },
    {
     "name": "stdout",
     "output_type": "stream",
     "text": [
      "0.2057660884048846\n"
     ]
    },
    {
     "name": "stderr",
     "output_type": "stream",
     "text": [
      "100%|██████████| 5/5 [00:02<00:00,  2.45it/s]\n"
     ]
    },
    {
     "name": "stdout",
     "output_type": "stream",
     "text": [
      "0.21510313435189699\n"
     ]
    },
    {
     "name": "stderr",
     "output_type": "stream",
     "text": [
      "100%|██████████| 5/5 [00:01<00:00,  2.58it/s]\n"
     ]
    },
    {
     "name": "stdout",
     "output_type": "stream",
     "text": [
      "0.2160130109259761\n"
     ]
    },
    {
     "name": "stderr",
     "output_type": "stream",
     "text": [
      "100%|██████████| 5/5 [00:01<00:00,  2.66it/s]\n",
      "[I 2025-07-24 14:55:13,795] Trial 43 finished with value: 0.18525654408451256 and parameters: {'log2_hidden_layer_0': 5, 'log2_hidden_layer_1': 4, 'lr': 0.00013145822008534672, 'batch_size': 360, 'num_epochs': 5}. Best is trial 25 with value: 0.18588758284063242.\n"
     ]
    },
    {
     "name": "stdout",
     "output_type": "stream",
     "text": [
      "0.10414394265529246\n"
     ]
    },
    {
     "name": "stderr",
     "output_type": "stream",
     "text": [
      "100%|██████████| 5/5 [00:03<00:00,  1.36it/s]\n"
     ]
    },
    {
     "name": "stdout",
     "output_type": "stream",
     "text": [
      "0.18896291360797932\n"
     ]
    },
    {
     "name": "stderr",
     "output_type": "stream",
     "text": [
      "100%|██████████| 5/5 [00:03<00:00,  1.32it/s]\n"
     ]
    },
    {
     "name": "stdout",
     "output_type": "stream",
     "text": [
      "0.21625813849885014\n"
     ]
    },
    {
     "name": "stderr",
     "output_type": "stream",
     "text": [
      "100%|██████████| 5/5 [00:03<00:00,  1.35it/s]\n"
     ]
    },
    {
     "name": "stdout",
     "output_type": "stream",
     "text": [
      "0.20965219819819234\n"
     ]
    },
    {
     "name": "stderr",
     "output_type": "stream",
     "text": [
      "100%|██████████| 5/5 [00:03<00:00,  1.38it/s]\n",
      "[I 2025-07-24 14:55:29,708] Trial 44 finished with value: 0.16950206664221967 and parameters: {'log2_hidden_layer_0': 4, 'log2_hidden_layer_1': 3, 'lr': 0.0001274664862394946, 'batch_size': 180, 'num_epochs': 5}. Best is trial 25 with value: 0.18588758284063242.\n"
     ]
    },
    {
     "name": "stdout",
     "output_type": "stream",
     "text": [
      "0.06313501626385688\n"
     ]
    },
    {
     "name": "stderr",
     "output_type": "stream",
     "text": [
      "100%|██████████| 10/10 [00:03<00:00,  2.53it/s]\n"
     ]
    },
    {
     "name": "stdout",
     "output_type": "stream",
     "text": [
      "0.18583296750266903\n"
     ]
    },
    {
     "name": "stderr",
     "output_type": "stream",
     "text": [
      "100%|██████████| 10/10 [00:03<00:00,  2.59it/s]\n"
     ]
    },
    {
     "name": "stdout",
     "output_type": "stream",
     "text": [
      "0.16983611053638112\n"
     ]
    },
    {
     "name": "stderr",
     "output_type": "stream",
     "text": [
      "100%|██████████| 10/10 [00:03<00:00,  2.60it/s]\n"
     ]
    },
    {
     "name": "stdout",
     "output_type": "stream",
     "text": [
      "0.18842431360817052\n"
     ]
    },
    {
     "name": "stderr",
     "output_type": "stream",
     "text": [
      "100%|██████████| 10/10 [00:03<00:00,  2.54it/s]\n",
      "[I 2025-07-24 14:55:45,921] Trial 45 finished with value: 0.16160468730613037 and parameters: {'log2_hidden_layer_0': 5, 'log2_hidden_layer_1': 4, 'lr': 0.00024235837426145443, 'batch_size': 360, 'num_epochs': 10}. Best is trial 25 with value: 0.18588758284063242.\n"
     ]
    },
    {
     "name": "stdout",
     "output_type": "stream",
     "text": [
      "0.10232535757730093\n"
     ]
    },
    {
     "name": "stderr",
     "output_type": "stream",
     "text": [
      "100%|██████████| 5/5 [00:01<00:00,  2.57it/s]\n"
     ]
    },
    {
     "name": "stdout",
     "output_type": "stream",
     "text": [
      "0.20016967835786947\n"
     ]
    },
    {
     "name": "stderr",
     "output_type": "stream",
     "text": [
      "100%|██████████| 5/5 [00:01<00:00,  2.67it/s]\n"
     ]
    },
    {
     "name": "stdout",
     "output_type": "stream",
     "text": [
      "0.2119097897618928\n"
     ]
    },
    {
     "name": "stderr",
     "output_type": "stream",
     "text": [
      "100%|██████████| 5/5 [00:01<00:00,  2.60it/s]\n"
     ]
    },
    {
     "name": "stdout",
     "output_type": "stream",
     "text": [
      "0.21031444899781107\n"
     ]
    },
    {
     "name": "stderr",
     "output_type": "stream",
     "text": [
      "100%|██████████| 5/5 [00:01<00:00,  2.66it/s]\n",
      "[I 2025-07-24 14:55:54,144] Trial 46 finished with value: 0.18220049089575063 and parameters: {'log2_hidden_layer_0': 6, 'log2_hidden_layer_1': 5, 'lr': 0.00018695878637282293, 'batch_size': 360, 'num_epochs': 5}. Best is trial 25 with value: 0.18588758284063242.\n"
     ]
    },
    {
     "name": "stdout",
     "output_type": "stream",
     "text": [
      "0.10640804646542926\n"
     ]
    },
    {
     "name": "stderr",
     "output_type": "stream",
     "text": [
      "100%|██████████| 5/5 [00:10<00:00,  2.18s/it]\n"
     ]
    },
    {
     "name": "stdout",
     "output_type": "stream",
     "text": [
      "0.17331184295225194\n"
     ]
    },
    {
     "name": "stderr",
     "output_type": "stream",
     "text": [
      "100%|██████████| 5/5 [00:10<00:00,  2.19s/it]\n"
     ]
    },
    {
     "name": "stdout",
     "output_type": "stream",
     "text": [
      "0.12068703801730192\n"
     ]
    },
    {
     "name": "stderr",
     "output_type": "stream",
     "text": [
      "100%|██████████| 5/5 [00:11<00:00,  2.21s/it]\n"
     ]
    },
    {
     "name": "stdout",
     "output_type": "stream",
     "text": [
      "0.09832778441497814\n"
     ]
    },
    {
     "name": "stderr",
     "output_type": "stream",
     "text": [
      "100%|██████████| 5/5 [00:10<00:00,  2.18s/it]\n",
      "[I 2025-07-24 14:56:41,093] Trial 47 finished with value: 0.12594762337337356 and parameters: {'log2_hidden_layer_0': 5, 'log2_hidden_layer_1': 4, 'lr': 0.0003393336955024521, 'batch_size': 60, 'num_epochs': 5}. Best is trial 25 with value: 0.18588758284063242.\n"
     ]
    },
    {
     "name": "stdout",
     "output_type": "stream",
     "text": [
      "0.11146382810896231\n"
     ]
    },
    {
     "name": "stderr",
     "output_type": "stream",
     "text": [
      "100%|██████████| 5/5 [00:05<00:00,  1.08s/it]\n"
     ]
    },
    {
     "name": "stdout",
     "output_type": "stream",
     "text": [
      "0.18529274291343326\n"
     ]
    },
    {
     "name": "stderr",
     "output_type": "stream",
     "text": [
      "100%|██████████| 5/5 [00:05<00:00,  1.11s/it]\n"
     ]
    },
    {
     "name": "stdout",
     "output_type": "stream",
     "text": [
      "0.2180554306702736\n"
     ]
    },
    {
     "name": "stderr",
     "output_type": "stream",
     "text": [
      "100%|██████████| 5/5 [00:05<00:00,  1.08s/it]\n"
     ]
    },
    {
     "name": "stdout",
     "output_type": "stream",
     "text": [
      "0.21085082799948673\n"
     ]
    },
    {
     "name": "stderr",
     "output_type": "stream",
     "text": [
      "100%|██████████| 5/5 [00:05<00:00,  1.11s/it]\n",
      "[I 2025-07-24 14:57:04,640] Trial 48 finished with value: 0.16832986438389108 and parameters: {'log2_hidden_layer_0': 4, 'log2_hidden_layer_1': 3, 'lr': 0.00012552464047131147, 'batch_size': 120, 'num_epochs': 5}. Best is trial 25 with value: 0.18588758284063242.\n"
     ]
    },
    {
     "name": "stdout",
     "output_type": "stream",
     "text": [
      "0.059120455952370726\n"
     ]
    },
    {
     "name": "stderr",
     "output_type": "stream",
     "text": [
      "100%|██████████| 10/10 [00:03<00:00,  2.67it/s]\n"
     ]
    },
    {
     "name": "stdout",
     "output_type": "stream",
     "text": [
      "0.03628437402202558\n"
     ]
    },
    {
     "name": "stderr",
     "output_type": "stream",
     "text": [
      "100%|██████████| 10/10 [00:03<00:00,  2.58it/s]\n"
     ]
    },
    {
     "name": "stdout",
     "output_type": "stream",
     "text": [
      "0.09552512602204435\n"
     ]
    },
    {
     "name": "stderr",
     "output_type": "stream",
     "text": [
      "100%|██████████| 10/10 [00:04<00:00,  2.50it/s]\n"
     ]
    },
    {
     "name": "stdout",
     "output_type": "stream",
     "text": [
      "0.06256905525544602\n"
     ]
    },
    {
     "name": "stderr",
     "output_type": "stream",
     "text": [
      "100%|██████████| 10/10 [00:03<00:00,  2.66it/s]\n",
      "[I 2025-07-24 14:57:20,633] Trial 49 finished with value: 0.04645961919442491 and parameters: {'log2_hidden_layer_0': 5, 'log2_hidden_layer_1': 4, 'lr': 0.006190995663767071, 'batch_size': 360, 'num_epochs': 10}. Best is trial 25 with value: 0.18588758284063242.\n"
     ]
    },
    {
     "name": "stdout",
     "output_type": "stream",
     "text": [
      "-0.008540078521816343\n"
     ]
    },
    {
     "name": "stderr",
     "output_type": "stream",
     "text": [
      "100%|██████████| 15/15 [00:02<00:00,  5.12it/s]\n"
     ]
    },
    {
     "name": "stdout",
     "output_type": "stream",
     "text": [
      "0.18812301705114948\n"
     ]
    },
    {
     "name": "stderr",
     "output_type": "stream",
     "text": [
      "100%|██████████| 15/15 [00:03<00:00,  4.92it/s]\n"
     ]
    },
    {
     "name": "stdout",
     "output_type": "stream",
     "text": [
      "0.22017604983325603\n"
     ]
    },
    {
     "name": "stderr",
     "output_type": "stream",
     "text": [
      "100%|██████████| 15/15 [00:03<00:00,  4.99it/s]\n"
     ]
    },
    {
     "name": "stdout",
     "output_type": "stream",
     "text": [
      "0.21404988133860825\n"
     ]
    },
    {
     "name": "stderr",
     "output_type": "stream",
     "text": [
      "100%|██████████| 15/15 [00:02<00:00,  5.16it/s]\n",
      "[I 2025-07-24 14:57:32,874] Trial 50 finished with value: 0.18275603431550025 and parameters: {'log2_hidden_layer_0': 6, 'log2_hidden_layer_1': 5, 'lr': 0.00012650515466259164, 'batch_size': 720, 'num_epochs': 15}. Best is trial 25 with value: 0.18588758284063242.\n"
     ]
    },
    {
     "name": "stdout",
     "output_type": "stream",
     "text": [
      "0.10867518903898717\n"
     ]
    },
    {
     "name": "stderr",
     "output_type": "stream",
     "text": [
      "100%|██████████| 5/5 [00:01<00:00,  2.64it/s]\n"
     ]
    },
    {
     "name": "stdout",
     "output_type": "stream",
     "text": [
      "0.20409881935554655\n"
     ]
    },
    {
     "name": "stderr",
     "output_type": "stream",
     "text": [
      "100%|██████████| 5/5 [00:01<00:00,  2.52it/s]\n"
     ]
    },
    {
     "name": "stdout",
     "output_type": "stream",
     "text": [
      "0.21327842060371202\n"
     ]
    },
    {
     "name": "stderr",
     "output_type": "stream",
     "text": [
      "100%|██████████| 5/5 [00:01<00:00,  2.50it/s]\n"
     ]
    },
    {
     "name": "stdout",
     "output_type": "stream",
     "text": [
      "0.21626854446790889\n"
     ]
    },
    {
     "name": "stderr",
     "output_type": "stream",
     "text": [
      "100%|██████████| 5/5 [00:01<00:00,  2.54it/s]\n",
      "[I 2025-07-24 14:57:41,337] Trial 51 finished with value: 0.1847687663412652 and parameters: {'log2_hidden_layer_0': 5, 'log2_hidden_layer_1': 4, 'lr': 0.00015213660218479723, 'batch_size': 360, 'num_epochs': 5}. Best is trial 25 with value: 0.18588758284063242.\n"
     ]
    },
    {
     "name": "stdout",
     "output_type": "stream",
     "text": [
      "0.10542928093789337\n"
     ]
    },
    {
     "name": "stderr",
     "output_type": "stream",
     "text": [
      "100%|██████████| 5/5 [00:01<00:00,  2.65it/s]\n"
     ]
    },
    {
     "name": "stdout",
     "output_type": "stream",
     "text": [
      "0.20024186772136562\n"
     ]
    },
    {
     "name": "stderr",
     "output_type": "stream",
     "text": [
      "100%|██████████| 5/5 [00:01<00:00,  2.62it/s]\n"
     ]
    },
    {
     "name": "stdout",
     "output_type": "stream",
     "text": [
      "0.20426935655258704\n"
     ]
    },
    {
     "name": "stderr",
     "output_type": "stream",
     "text": [
      "100%|██████████| 5/5 [00:01<00:00,  2.62it/s]\n"
     ]
    },
    {
     "name": "stdout",
     "output_type": "stream",
     "text": [
      "0.21729179353734335\n"
     ]
    },
    {
     "name": "stderr",
     "output_type": "stream",
     "text": [
      "100%|██████████| 5/5 [00:01<00:00,  2.53it/s]\n",
      "[I 2025-07-24 14:57:49,623] Trial 52 finished with value: 0.1826692275133895 and parameters: {'log2_hidden_layer_0': 5, 'log2_hidden_layer_1': 4, 'lr': 0.000209949941171342, 'batch_size': 360, 'num_epochs': 5}. Best is trial 25 with value: 0.18588758284063242.\n"
     ]
    },
    {
     "name": "stdout",
     "output_type": "stream",
     "text": [
      "0.10887389224226188\n"
     ]
    },
    {
     "name": "stderr",
     "output_type": "stream",
     "text": [
      "100%|██████████| 5/5 [00:01<00:00,  2.52it/s]\n"
     ]
    },
    {
     "name": "stdout",
     "output_type": "stream",
     "text": [
      "0.20313434186278362\n"
     ]
    },
    {
     "name": "stderr",
     "output_type": "stream",
     "text": [
      "100%|██████████| 5/5 [00:01<00:00,  2.51it/s]\n"
     ]
    },
    {
     "name": "stdout",
     "output_type": "stream",
     "text": [
      "0.21144724462244902\n"
     ]
    },
    {
     "name": "stderr",
     "output_type": "stream",
     "text": [
      "100%|██████████| 5/5 [00:01<00:00,  2.62it/s]\n"
     ]
    },
    {
     "name": "stdout",
     "output_type": "stream",
     "text": [
      "0.21689977046696585\n"
     ]
    },
    {
     "name": "stderr",
     "output_type": "stream",
     "text": [
      "100%|██████████| 5/5 [00:01<00:00,  2.65it/s]\n",
      "[I 2025-07-24 14:57:58,010] Trial 53 finished with value: 0.18421683772353142 and parameters: {'log2_hidden_layer_0': 5, 'log2_hidden_layer_1': 4, 'lr': 0.00016682108812957926, 'batch_size': 360, 'num_epochs': 5}. Best is trial 25 with value: 0.18588758284063242.\n"
     ]
    },
    {
     "name": "stdout",
     "output_type": "stream",
     "text": [
      "0.10538599394192733\n"
     ]
    },
    {
     "name": "stderr",
     "output_type": "stream",
     "text": [
      "100%|██████████| 5/5 [00:01<00:00,  2.60it/s]\n"
     ]
    },
    {
     "name": "stdout",
     "output_type": "stream",
     "text": [
      "0.20651926291629566\n"
     ]
    },
    {
     "name": "stderr",
     "output_type": "stream",
     "text": [
      "100%|██████████| 5/5 [00:01<00:00,  2.52it/s]\n"
     ]
    },
    {
     "name": "stdout",
     "output_type": "stream",
     "text": [
      "0.21508251557979513\n"
     ]
    },
    {
     "name": "stderr",
     "output_type": "stream",
     "text": [
      "100%|██████████| 5/5 [00:01<00:00,  2.50it/s]\n"
     ]
    },
    {
     "name": "stdout",
     "output_type": "stream",
     "text": [
      "0.21580896996658963\n"
     ]
    },
    {
     "name": "stderr",
     "output_type": "stream",
     "text": [
      "100%|██████████| 5/5 [00:01<00:00,  2.54it/s]\n",
      "[I 2025-07-24 14:58:06,531] Trial 54 finished with value: 0.18513049693577432 and parameters: {'log2_hidden_layer_0': 5, 'log2_hidden_layer_1': 4, 'lr': 0.00012129854410852148, 'batch_size': 360, 'num_epochs': 5}. Best is trial 25 with value: 0.18588758284063242.\n"
     ]
    },
    {
     "name": "stdout",
     "output_type": "stream",
     "text": [
      "0.10311123928041693\n"
     ]
    },
    {
     "name": "stderr",
     "output_type": "stream",
     "text": [
      "100%|██████████| 5/5 [00:01<00:00,  2.68it/s]\n"
     ]
    },
    {
     "name": "stdout",
     "output_type": "stream",
     "text": [
      "0.18712642243465308\n"
     ]
    },
    {
     "name": "stderr",
     "output_type": "stream",
     "text": [
      "100%|██████████| 5/5 [00:01<00:00,  2.66it/s]\n"
     ]
    },
    {
     "name": "stdout",
     "output_type": "stream",
     "text": [
      "0.21350637175572437\n"
     ]
    },
    {
     "name": "stderr",
     "output_type": "stream",
     "text": [
      "100%|██████████| 5/5 [00:01<00:00,  2.68it/s]\n"
     ]
    },
    {
     "name": "stdout",
     "output_type": "stream",
     "text": [
      "0.2063038704062748\n"
     ]
    },
    {
     "name": "stderr",
     "output_type": "stream",
     "text": [
      "100%|██████████| 5/5 [00:01<00:00,  2.57it/s]\n",
      "[I 2025-07-24 14:58:14,697] Trial 55 finished with value: 0.1641640437247633 and parameters: {'log2_hidden_layer_0': 4, 'log2_hidden_layer_1': 3, 'lr': 0.00012250326670884733, 'batch_size': 360, 'num_epochs': 5}. Best is trial 25 with value: 0.18588758284063242.\n"
     ]
    },
    {
     "name": "stdout",
     "output_type": "stream",
     "text": [
      "0.04971951030240088\n"
     ]
    },
    {
     "name": "stderr",
     "output_type": "stream",
     "text": [
      "100%|██████████| 5/5 [00:03<00:00,  1.30it/s]\n"
     ]
    },
    {
     "name": "stdout",
     "output_type": "stream",
     "text": [
      "0.20403013418902388\n"
     ]
    },
    {
     "name": "stderr",
     "output_type": "stream",
     "text": [
      "100%|██████████| 5/5 [00:03<00:00,  1.37it/s]\n"
     ]
    },
    {
     "name": "stdout",
     "output_type": "stream",
     "text": [
      "0.20774775959307826\n"
     ]
    },
    {
     "name": "stderr",
     "output_type": "stream",
     "text": [
      "100%|██████████| 5/5 [00:03<00:00,  1.33it/s]\n"
     ]
    },
    {
     "name": "stdout",
     "output_type": "stream",
     "text": [
      "0.2072616369286228\n"
     ]
    },
    {
     "name": "stderr",
     "output_type": "stream",
     "text": [
      "100%|██████████| 5/5 [00:03<00:00,  1.30it/s]\n",
      "[I 2025-07-24 14:58:30,941] Trial 56 finished with value: 0.17903216803038652 and parameters: {'log2_hidden_layer_0': 6, 'log2_hidden_layer_1': 4, 'lr': 0.00019576064461147605, 'batch_size': 180, 'num_epochs': 5}. Best is trial 25 with value: 0.18588758284063242.\n"
     ]
    },
    {
     "name": "stdout",
     "output_type": "stream",
     "text": [
      "0.09708914141082112\n"
     ]
    },
    {
     "name": "stderr",
     "output_type": "stream",
     "text": [
      "100%|██████████| 5/5 [00:01<00:00,  2.60it/s]\n"
     ]
    },
    {
     "name": "stdout",
     "output_type": "stream",
     "text": [
      "0.1961345473522237\n"
     ]
    },
    {
     "name": "stderr",
     "output_type": "stream",
     "text": [
      "100%|██████████| 5/5 [00:01<00:00,  2.64it/s]\n"
     ]
    },
    {
     "name": "stdout",
     "output_type": "stream",
     "text": [
      "0.19512461860906966\n"
     ]
    },
    {
     "name": "stderr",
     "output_type": "stream",
     "text": [
      "100%|██████████| 5/5 [00:01<00:00,  2.64it/s]\n"
     ]
    },
    {
     "name": "stdout",
     "output_type": "stream",
     "text": [
      "0.20735676411512594\n"
     ]
    },
    {
     "name": "stderr",
     "output_type": "stream",
     "text": [
      "100%|██████████| 5/5 [00:01<00:00,  2.58it/s]\n",
      "[I 2025-07-24 14:58:39,191] Trial 57 finished with value: 0.17672816798639732 and parameters: {'log2_hidden_layer_0': 5, 'log2_hidden_layer_1': 4, 'lr': 0.00025368905285702846, 'batch_size': 360, 'num_epochs': 5}. Best is trial 25 with value: 0.18588758284063242.\n"
     ]
    },
    {
     "name": "stdout",
     "output_type": "stream",
     "text": [
      "0.10829674186916992\n"
     ]
    },
    {
     "name": "stderr",
     "output_type": "stream",
     "text": [
      "100%|██████████| 10/10 [00:42<00:00,  4.28s/it]\n"
     ]
    },
    {
     "name": "stdout",
     "output_type": "stream",
     "text": [
      "0.0595627848636129\n"
     ]
    },
    {
     "name": "stderr",
     "output_type": "stream",
     "text": [
      "100%|██████████| 10/10 [00:42<00:00,  4.23s/it]\n"
     ]
    },
    {
     "name": "stdout",
     "output_type": "stream",
     "text": [
      "0.21401848470920817\n"
     ]
    },
    {
     "name": "stderr",
     "output_type": "stream",
     "text": [
      "100%|██████████| 10/10 [00:43<00:00,  4.30s/it]\n"
     ]
    },
    {
     "name": "stdout",
     "output_type": "stream",
     "text": [
      "0.19703837957717193\n"
     ]
    },
    {
     "name": "stderr",
     "output_type": "stream",
     "text": [
      "100%|██████████| 10/10 [00:42<00:00,  4.23s/it]\n",
      "[I 2025-07-24 15:01:35,655] Trial 58 finished with value: 0.14095358484339812 and parameters: {'log2_hidden_layer_0': 4, 'log2_hidden_layer_1': 3, 'lr': 0.00011775375336763376, 'batch_size': 30, 'num_epochs': 10}. Best is trial 25 with value: 0.18588758284063242.\n"
     ]
    },
    {
     "name": "stdout",
     "output_type": "stream",
     "text": [
      "0.09319469022359946\n"
     ]
    },
    {
     "name": "stderr",
     "output_type": "stream",
     "text": [
      "100%|██████████| 5/5 [00:01<00:00,  2.52it/s]\n"
     ]
    },
    {
     "name": "stdout",
     "output_type": "stream",
     "text": [
      "0.19271715382067936\n"
     ]
    },
    {
     "name": "stderr",
     "output_type": "stream",
     "text": [
      "100%|██████████| 5/5 [00:02<00:00,  2.49it/s]\n"
     ]
    },
    {
     "name": "stdout",
     "output_type": "stream",
     "text": [
      "0.12640580516719185\n"
     ]
    },
    {
     "name": "stderr",
     "output_type": "stream",
     "text": [
      "100%|██████████| 5/5 [00:02<00:00,  2.50it/s]\n"
     ]
    },
    {
     "name": "stdout",
     "output_type": "stream",
     "text": [
      "0.1290159161204551\n"
     ]
    },
    {
     "name": "stderr",
     "output_type": "stream",
     "text": [
      "100%|██████████| 5/5 [00:01<00:00,  2.61it/s]\n",
      "[I 2025-07-24 15:01:44,195] Trial 59 finished with value: 0.14203404183932813 and parameters: {'log2_hidden_layer_0': 7, 'log2_hidden_layer_1': 5, 'lr': 0.0005087283854835373, 'batch_size': 360, 'num_epochs': 5}. Best is trial 25 with value: 0.18588758284063242.\n"
     ]
    },
    {
     "name": "stdout",
     "output_type": "stream",
     "text": [
      "0.11999729224898617\n"
     ]
    },
    {
     "name": "stderr",
     "output_type": "stream",
     "text": [
      "100%|██████████| 5/5 [00:01<00:00,  2.66it/s]\n"
     ]
    },
    {
     "name": "stdout",
     "output_type": "stream",
     "text": [
      "0.20766072585464299\n"
     ]
    },
    {
     "name": "stderr",
     "output_type": "stream",
     "text": [
      "100%|██████████| 5/5 [00:01<00:00,  2.65it/s]\n"
     ]
    },
    {
     "name": "stdout",
     "output_type": "stream",
     "text": [
      "0.21538017197531056\n"
     ]
    },
    {
     "name": "stderr",
     "output_type": "stream",
     "text": [
      "100%|██████████| 5/5 [00:01<00:00,  2.51it/s]\n"
     ]
    },
    {
     "name": "stdout",
     "output_type": "stream",
     "text": [
      "0.21490060568773098\n"
     ]
    },
    {
     "name": "stderr",
     "output_type": "stream",
     "text": [
      "100%|██████████| 5/5 [00:01<00:00,  2.50it/s]\n",
      "[I 2025-07-24 15:01:52,587] Trial 60 finished with value: 0.18451314755456075 and parameters: {'log2_hidden_layer_0': 5, 'log2_hidden_layer_1': 4, 'lr': 0.00010013988874300387, 'batch_size': 360, 'num_epochs': 5}. Best is trial 25 with value: 0.18588758284063242.\n"
     ]
    },
    {
     "name": "stdout",
     "output_type": "stream",
     "text": [
      "0.10011108670055843\n"
     ]
    },
    {
     "name": "stderr",
     "output_type": "stream",
     "text": [
      "100%|██████████| 5/5 [00:01<00:00,  2.54it/s]\n"
     ]
    },
    {
     "name": "stdout",
     "output_type": "stream",
     "text": [
      "0.2046848806107565\n"
     ]
    },
    {
     "name": "stderr",
     "output_type": "stream",
     "text": [
      "100%|██████████| 5/5 [00:01<00:00,  2.66it/s]\n"
     ]
    },
    {
     "name": "stdout",
     "output_type": "stream",
     "text": [
      "0.21383394610324638\n"
     ]
    },
    {
     "name": "stderr",
     "output_type": "stream",
     "text": [
      "100%|██████████| 5/5 [00:01<00:00,  2.63it/s]\n"
     ]
    },
    {
     "name": "stdout",
     "output_type": "stream",
     "text": [
      "0.2161837401860624\n"
     ]
    },
    {
     "name": "stderr",
     "output_type": "stream",
     "text": [
      "100%|██████████| 5/5 [00:01<00:00,  2.63it/s]\n",
      "[I 2025-07-24 15:02:00,837] Trial 61 finished with value: 0.18498786232258754 and parameters: {'log2_hidden_layer_0': 5, 'log2_hidden_layer_1': 4, 'lr': 0.00014581675525300735, 'batch_size': 360, 'num_epochs': 5}. Best is trial 25 with value: 0.18588758284063242.\n"
     ]
    },
    {
     "name": "stdout",
     "output_type": "stream",
     "text": [
      "0.10524888239028499\n"
     ]
    },
    {
     "name": "stderr",
     "output_type": "stream",
     "text": [
      "100%|██████████| 5/5 [00:01<00:00,  2.52it/s]\n"
     ]
    },
    {
     "name": "stdout",
     "output_type": "stream",
     "text": [
      "0.20502853273195346\n"
     ]
    },
    {
     "name": "stderr",
     "output_type": "stream",
     "text": [
      "100%|██████████| 5/5 [00:02<00:00,  2.48it/s]\n"
     ]
    },
    {
     "name": "stdout",
     "output_type": "stream",
     "text": [
      "0.2143580200757425\n"
     ]
    },
    {
     "name": "stderr",
     "output_type": "stream",
     "text": [
      "100%|██████████| 5/5 [00:01<00:00,  2.55it/s]\n"
     ]
    },
    {
     "name": "stdout",
     "output_type": "stream",
     "text": [
      "0.21606856852947162\n"
     ]
    },
    {
     "name": "stderr",
     "output_type": "stream",
     "text": [
      "100%|██████████| 5/5 [00:01<00:00,  2.68it/s]\n",
      "[I 2025-07-24 15:02:09,265] Trial 62 finished with value: 0.1851015176691447 and parameters: {'log2_hidden_layer_0': 5, 'log2_hidden_layer_1': 4, 'lr': 0.0001410010076975712, 'batch_size': 360, 'num_epochs': 5}. Best is trial 25 with value: 0.18588758284063242.\n"
     ]
    },
    {
     "name": "stdout",
     "output_type": "stream",
     "text": [
      "0.10495094933941122\n"
     ]
    },
    {
     "name": "stderr",
     "output_type": "stream",
     "text": [
      "100%|██████████| 5/5 [00:01<00:00,  2.66it/s]\n"
     ]
    },
    {
     "name": "stdout",
     "output_type": "stream",
     "text": [
      "0.2026339728753968\n"
     ]
    },
    {
     "name": "stderr",
     "output_type": "stream",
     "text": [
      "100%|██████████| 5/5 [00:01<00:00,  2.65it/s]\n"
     ]
    },
    {
     "name": "stdout",
     "output_type": "stream",
     "text": [
      "0.21046338508487192\n"
     ]
    },
    {
     "name": "stderr",
     "output_type": "stream",
     "text": [
      "100%|██████████| 5/5 [00:01<00:00,  2.53it/s]\n"
     ]
    },
    {
     "name": "stdout",
     "output_type": "stream",
     "text": [
      "0.21715528959127733\n"
     ]
    },
    {
     "name": "stderr",
     "output_type": "stream",
     "text": [
      "100%|██████████| 5/5 [00:01<00:00,  2.53it/s]\n",
      "[I 2025-07-24 15:02:17,606] Trial 63 finished with value: 0.18400651871709808 and parameters: {'log2_hidden_layer_0': 5, 'log2_hidden_layer_1': 4, 'lr': 0.0001750103560103677, 'batch_size': 360, 'num_epochs': 5}. Best is trial 25 with value: 0.18588758284063242.\n"
     ]
    },
    {
     "name": "stdout",
     "output_type": "stream",
     "text": [
      "0.10577342731684639\n"
     ]
    },
    {
     "name": "stderr",
     "output_type": "stream",
     "text": [
      "100%|██████████| 5/5 [00:01<00:00,  2.57it/s]\n"
     ]
    },
    {
     "name": "stdout",
     "output_type": "stream",
     "text": [
      "0.2076528559093234\n"
     ]
    },
    {
     "name": "stderr",
     "output_type": "stream",
     "text": [
      "100%|██████████| 5/5 [00:01<00:00,  2.65it/s]\n"
     ]
    },
    {
     "name": "stdout",
     "output_type": "stream",
     "text": [
      "0.22016086365457346\n"
     ]
    },
    {
     "name": "stderr",
     "output_type": "stream",
     "text": [
      "100%|██████████| 5/5 [00:01<00:00,  2.62it/s]\n"
     ]
    },
    {
     "name": "stdout",
     "output_type": "stream",
     "text": [
      "0.21306304035736365\n"
     ]
    },
    {
     "name": "stderr",
     "output_type": "stream",
     "text": [
      "100%|██████████| 5/5 [00:01<00:00,  2.65it/s]\n",
      "[I 2025-07-24 15:02:25,832] Trial 64 finished with value: 0.18577946957858618 and parameters: {'log2_hidden_layer_0': 6, 'log2_hidden_layer_1': 5, 'lr': 0.0001135272476816161, 'batch_size': 360, 'num_epochs': 5}. Best is trial 25 with value: 0.18588758284063242.\n"
     ]
    },
    {
     "name": "stdout",
     "output_type": "stream",
     "text": [
      "0.1022411183930843\n"
     ]
    },
    {
     "name": "stderr",
     "output_type": "stream",
     "text": [
      "100%|██████████| 5/5 [00:10<00:00,  2.19s/it]\n"
     ]
    },
    {
     "name": "stdout",
     "output_type": "stream",
     "text": [
      "0.17803232532702784\n"
     ]
    },
    {
     "name": "stderr",
     "output_type": "stream",
     "text": [
      "100%|██████████| 5/5 [00:10<00:00,  2.18s/it]\n"
     ]
    },
    {
     "name": "stdout",
     "output_type": "stream",
     "text": [
      "0.19173971429741254\n"
     ]
    },
    {
     "name": "stderr",
     "output_type": "stream",
     "text": [
      "100%|██████████| 5/5 [00:10<00:00,  2.20s/it]\n"
     ]
    },
    {
     "name": "stdout",
     "output_type": "stream",
     "text": [
      "0.20349961668431113\n"
     ]
    },
    {
     "name": "stderr",
     "output_type": "stream",
     "text": [
      "100%|██████████| 5/5 [00:10<00:00,  2.17s/it]\n",
      "[I 2025-07-24 15:03:12,633] Trial 65 finished with value: 0.17031235448201065 and parameters: {'log2_hidden_layer_0': 6, 'log2_hidden_layer_1': 5, 'lr': 0.00011785441332646095, 'batch_size': 60, 'num_epochs': 5}. Best is trial 25 with value: 0.18588758284063242.\n"
     ]
    },
    {
     "name": "stdout",
     "output_type": "stream",
     "text": [
      "0.10797776161929108\n"
     ]
    },
    {
     "name": "stderr",
     "output_type": "stream",
     "text": [
      "100%|██████████| 15/15 [00:05<00:00,  2.63it/s]\n"
     ]
    },
    {
     "name": "stdout",
     "output_type": "stream",
     "text": [
      "0.18909485936594003\n"
     ]
    },
    {
     "name": "stderr",
     "output_type": "stream",
     "text": [
      "100%|██████████| 15/15 [00:05<00:00,  2.59it/s]\n"
     ]
    },
    {
     "name": "stdout",
     "output_type": "stream",
     "text": [
      "0.20892335536720835\n"
     ]
    },
    {
     "name": "stderr",
     "output_type": "stream",
     "text": [
      "100%|██████████| 15/15 [00:05<00:00,  2.60it/s]\n"
     ]
    },
    {
     "name": "stdout",
     "output_type": "stream",
     "text": [
      "0.21017547773789613\n"
     ]
    },
    {
     "name": "stderr",
     "output_type": "stream",
     "text": [
      "100%|██████████| 15/15 [00:05<00:00,  2.57it/s]\n",
      "[I 2025-07-24 15:03:36,349] Trial 66 finished with value: 0.17938986805921073 and parameters: {'log2_hidden_layer_0': 6, 'log2_hidden_layer_1': 5, 'lr': 0.00020818552088492284, 'batch_size': 360, 'num_epochs': 15}. Best is trial 25 with value: 0.18588758284063242.\n"
     ]
    },
    {
     "name": "stdout",
     "output_type": "stream",
     "text": [
      "0.10936577976579838\n"
     ]
    },
    {
     "name": "stderr",
     "output_type": "stream",
     "text": [
      "100%|██████████| 5/5 [00:01<00:00,  2.69it/s]\n"
     ]
    },
    {
     "name": "stdout",
     "output_type": "stream",
     "text": [
      "0.19751182147944268\n"
     ]
    },
    {
     "name": "stderr",
     "output_type": "stream",
     "text": [
      "100%|██████████| 5/5 [00:01<00:00,  2.70it/s]\n"
     ]
    },
    {
     "name": "stdout",
     "output_type": "stream",
     "text": [
      "0.20954448752419605\n"
     ]
    },
    {
     "name": "stderr",
     "output_type": "stream",
     "text": [
      "100%|██████████| 5/5 [00:01<00:00,  2.60it/s]\n"
     ]
    },
    {
     "name": "stdout",
     "output_type": "stream",
     "text": [
      "0.19780781571374098\n"
     ]
    },
    {
     "name": "stderr",
     "output_type": "stream",
     "text": [
      "100%|██████████| 5/5 [00:01<00:00,  2.57it/s]\n",
      "[I 2025-07-24 15:03:44,528] Trial 67 finished with value: 0.15389735854350997 and parameters: {'log2_hidden_layer_0': 3, 'log2_hidden_layer_1': 2, 'lr': 0.0001120376357188759, 'batch_size': 360, 'num_epochs': 5}. Best is trial 25 with value: 0.18588758284063242.\n"
     ]
    },
    {
     "name": "stdout",
     "output_type": "stream",
     "text": [
      "0.010725309456660188\n"
     ]
    },
    {
     "name": "stderr",
     "output_type": "stream",
     "text": [
      "100%|██████████| 5/5 [00:01<00:00,  2.54it/s]\n"
     ]
    },
    {
     "name": "stdout",
     "output_type": "stream",
     "text": [
      "0.18639428080449977\n"
     ]
    },
    {
     "name": "stderr",
     "output_type": "stream",
     "text": [
      "100%|██████████| 5/5 [00:01<00:00,  2.61it/s]\n"
     ]
    },
    {
     "name": "stdout",
     "output_type": "stream",
     "text": [
      "0.17156185783291802\n"
     ]
    },
    {
     "name": "stderr",
     "output_type": "stream",
     "text": [
      "100%|██████████| 5/5 [00:01<00:00,  2.63it/s]\n"
     ]
    },
    {
     "name": "stdout",
     "output_type": "stream",
     "text": [
      "0.18688198922856428\n"
     ]
    },
    {
     "name": "stderr",
     "output_type": "stream",
     "text": [
      "100%|██████████| 5/5 [00:01<00:00,  2.65it/s]\n",
      "[I 2025-07-24 15:03:52,801] Trial 68 finished with value: 0.1658487050501104 and parameters: {'log2_hidden_layer_0': 6, 'log2_hidden_layer_1': 5, 'lr': 0.0003362493611026911, 'batch_size': 360, 'num_epochs': 5}. Best is trial 25 with value: 0.18588758284063242.\n"
     ]
    },
    {
     "name": "stdout",
     "output_type": "stream",
     "text": [
      "0.11855669233445951\n"
     ]
    },
    {
     "name": "stderr",
     "output_type": "stream",
     "text": [
      "100%|██████████| 5/5 [00:00<00:00,  5.06it/s]\n"
     ]
    },
    {
     "name": "stdout",
     "output_type": "stream",
     "text": [
      "0.21260398582142226\n"
     ]
    },
    {
     "name": "stderr",
     "output_type": "stream",
     "text": [
      "100%|██████████| 5/5 [00:01<00:00,  4.97it/s]\n"
     ]
    },
    {
     "name": "stdout",
     "output_type": "stream",
     "text": [
      "0.21975677491495832\n"
     ]
    },
    {
     "name": "stderr",
     "output_type": "stream",
     "text": [
      "100%|██████████| 5/5 [00:01<00:00,  4.90it/s]\n"
     ]
    },
    {
     "name": "stdout",
     "output_type": "stream",
     "text": [
      "0.21185320073641623\n"
     ]
    },
    {
     "name": "stderr",
     "output_type": "stream",
     "text": [
      "100%|██████████| 5/5 [00:01<00:00,  4.96it/s]\n",
      "[I 2025-07-24 15:03:57,178] Trial 69 finished with value: 0.18566004685235468 and parameters: {'log2_hidden_layer_0': 6, 'log2_hidden_layer_1': 5, 'lr': 0.00010041225324118634, 'batch_size': 720, 'num_epochs': 5}. Best is trial 25 with value: 0.18588758284063242.\n"
     ]
    },
    {
     "name": "stdout",
     "output_type": "stream",
     "text": [
      "0.09842622593662188\n"
     ]
    },
    {
     "name": "stderr",
     "output_type": "stream",
     "text": [
      "100%|██████████| 5/5 [00:01<00:00,  4.74it/s]\n"
     ]
    },
    {
     "name": "stdout",
     "output_type": "stream",
     "text": [
      "0.19516534444371317\n"
     ]
    },
    {
     "name": "stderr",
     "output_type": "stream",
     "text": [
      "100%|██████████| 5/5 [00:01<00:00,  4.83it/s]\n"
     ]
    },
    {
     "name": "stdout",
     "output_type": "stream",
     "text": [
      "0.22846212813533023\n"
     ]
    },
    {
     "name": "stderr",
     "output_type": "stream",
     "text": [
      "100%|██████████| 5/5 [00:01<00:00,  4.99it/s]\n"
     ]
    },
    {
     "name": "stdout",
     "output_type": "stream",
     "text": [
      "0.20798861767873839\n"
     ]
    },
    {
     "name": "stderr",
     "output_type": "stream",
     "text": [
      "100%|██████████| 5/5 [00:00<00:00,  5.05it/s]\n",
      "[I 2025-07-24 15:04:01,604] Trial 70 finished with value: 0.18453577967422372 and parameters: {'log2_hidden_layer_0': 7, 'log2_hidden_layer_1': 6, 'lr': 0.00010004339046541574, 'batch_size': 720, 'num_epochs': 5}. Best is trial 25 with value: 0.18588758284063242.\n"
     ]
    },
    {
     "name": "stdout",
     "output_type": "stream",
     "text": [
      "0.10652702843911298\n"
     ]
    },
    {
     "name": "stderr",
     "output_type": "stream",
     "text": [
      "100%|██████████| 5/5 [00:00<00:00,  5.09it/s]\n"
     ]
    },
    {
     "name": "stdout",
     "output_type": "stream",
     "text": [
      "0.20764771564563875\n"
     ]
    },
    {
     "name": "stderr",
     "output_type": "stream",
     "text": [
      "100%|██████████| 5/5 [00:00<00:00,  5.07it/s]\n"
     ]
    },
    {
     "name": "stdout",
     "output_type": "stream",
     "text": [
      "0.220350812144088\n"
     ]
    },
    {
     "name": "stderr",
     "output_type": "stream",
     "text": [
      "100%|██████████| 5/5 [00:00<00:00,  5.09it/s]\n"
     ]
    },
    {
     "name": "stdout",
     "output_type": "stream",
     "text": [
      "0.21165407419492246\n"
     ]
    },
    {
     "name": "stderr",
     "output_type": "stream",
     "text": [
      "100%|██████████| 5/5 [00:00<00:00,  5.15it/s]\n",
      "[I 2025-07-24 15:04:05,865] Trial 71 finished with value: 0.18523227145807455 and parameters: {'log2_hidden_layer_0': 6, 'log2_hidden_layer_1': 5, 'lr': 0.00013854879978123573, 'batch_size': 720, 'num_epochs': 5}. Best is trial 25 with value: 0.18588758284063242.\n"
     ]
    },
    {
     "name": "stdout",
     "output_type": "stream",
     "text": [
      "0.10127648384764894\n"
     ]
    },
    {
     "name": "stderr",
     "output_type": "stream",
     "text": [
      "100%|██████████| 5/5 [00:01<00:00,  4.93it/s]\n"
     ]
    },
    {
     "name": "stdout",
     "output_type": "stream",
     "text": [
      "0.2050860843716914\n"
     ]
    },
    {
     "name": "stderr",
     "output_type": "stream",
     "text": [
      "100%|██████████| 5/5 [00:01<00:00,  4.96it/s]\n"
     ]
    },
    {
     "name": "stdout",
     "output_type": "stream",
     "text": [
      "0.22043891132205165\n"
     ]
    },
    {
     "name": "stderr",
     "output_type": "stream",
     "text": [
      "100%|██████████| 5/5 [00:01<00:00,  4.89it/s]\n"
     ]
    },
    {
     "name": "stdout",
     "output_type": "stream",
     "text": [
      "0.21086195665539675\n"
     ]
    },
    {
     "name": "stderr",
     "output_type": "stream",
     "text": [
      "100%|██████████| 5/5 [00:01<00:00,  4.92it/s]\n",
      "[I 2025-07-24 15:04:10,282] Trial 72 finished with value: 0.18493033542297685 and parameters: {'log2_hidden_layer_0': 6, 'log2_hidden_layer_1': 5, 'lr': 0.00016749614317906336, 'batch_size': 720, 'num_epochs': 5}. Best is trial 25 with value: 0.18588758284063242.\n"
     ]
    },
    {
     "name": "stdout",
     "output_type": "stream",
     "text": [
      "0.10333438934276763\n"
     ]
    },
    {
     "name": "stderr",
     "output_type": "stream",
     "text": [
      "100%|██████████| 5/5 [00:01<00:00,  4.94it/s]\n"
     ]
    },
    {
     "name": "stdout",
     "output_type": "stream",
     "text": [
      "0.21073507765223548\n"
     ]
    },
    {
     "name": "stderr",
     "output_type": "stream",
     "text": [
      "100%|██████████| 5/5 [00:01<00:00,  4.97it/s]\n"
     ]
    },
    {
     "name": "stdout",
     "output_type": "stream",
     "text": [
      "0.22034722894692324\n"
     ]
    },
    {
     "name": "stderr",
     "output_type": "stream",
     "text": [
      "100%|██████████| 5/5 [00:00<00:00,  5.11it/s]\n"
     ]
    },
    {
     "name": "stdout",
     "output_type": "stream",
     "text": [
      "0.21175950430355137\n"
     ]
    },
    {
     "name": "stderr",
     "output_type": "stream",
     "text": [
      "100%|██████████| 5/5 [00:00<00:00,  5.20it/s]\n",
      "[I 2025-07-24 15:04:14,584] Trial 73 finished with value: 0.18571760460709155 and parameters: {'log2_hidden_layer_0': 6, 'log2_hidden_layer_1': 5, 'lr': 0.00011553611059536033, 'batch_size': 720, 'num_epochs': 5}. Best is trial 25 with value: 0.18588758284063242.\n"
     ]
    },
    {
     "name": "stdout",
     "output_type": "stream",
     "text": [
      "0.10002860752565611\n"
     ]
    },
    {
     "name": "stderr",
     "output_type": "stream",
     "text": [
      "100%|██████████| 5/5 [00:00<00:00,  5.02it/s]\n"
     ]
    },
    {
     "name": "stdout",
     "output_type": "stream",
     "text": [
      "0.15688306773819938\n"
     ]
    },
    {
     "name": "stderr",
     "output_type": "stream",
     "text": [
      "100%|██████████| 5/5 [00:00<00:00,  5.11it/s]\n"
     ]
    },
    {
     "name": "stdout",
     "output_type": "stream",
     "text": [
      "-0.026193431855573532\n"
     ]
    },
    {
     "name": "stderr",
     "output_type": "stream",
     "text": [
      "100%|██████████| 5/5 [00:00<00:00,  5.04it/s]\n"
     ]
    },
    {
     "name": "stdout",
     "output_type": "stream",
     "text": [
      "0.11141770099117772\n"
     ]
    },
    {
     "name": "stderr",
     "output_type": "stream",
     "text": [
      "100%|██████████| 5/5 [00:00<00:00,  5.02it/s]\n",
      "[I 2025-07-24 15:04:18,889] Trial 74 finished with value: 0.09342218304029906 and parameters: {'log2_hidden_layer_0': 7, 'log2_hidden_layer_1': 6, 'lr': 0.0016581129402485103, 'batch_size': 720, 'num_epochs': 5}. Best is trial 25 with value: 0.18588758284063242.\n"
     ]
    },
    {
     "name": "stdout",
     "output_type": "stream",
     "text": [
      "0.13158139528739268\n"
     ]
    },
    {
     "name": "stderr",
     "output_type": "stream",
     "text": [
      "100%|██████████| 5/5 [00:01<00:00,  4.94it/s]\n"
     ]
    },
    {
     "name": "stdout",
     "output_type": "stream",
     "text": [
      "0.21120467565450898\n"
     ]
    },
    {
     "name": "stderr",
     "output_type": "stream",
     "text": [
      "100%|██████████| 5/5 [00:00<00:00,  5.02it/s]\n"
     ]
    },
    {
     "name": "stdout",
     "output_type": "stream",
     "text": [
      "0.22024468658079838\n"
     ]
    },
    {
     "name": "stderr",
     "output_type": "stream",
     "text": [
      "100%|██████████| 5/5 [00:01<00:00,  4.88it/s]\n"
     ]
    },
    {
     "name": "stdout",
     "output_type": "stream",
     "text": [
      "0.2117420030914271\n"
     ]
    },
    {
     "name": "stderr",
     "output_type": "stream",
     "text": [
      "100%|██████████| 5/5 [00:01<00:00,  4.94it/s]\n",
      "[I 2025-07-24 15:04:23,281] Trial 75 finished with value: 0.18572892393184984 and parameters: {'log2_hidden_layer_0': 6, 'log2_hidden_layer_1': 5, 'lr': 0.00011215357113079345, 'batch_size': 720, 'num_epochs': 5}. Best is trial 25 with value: 0.18588758284063242.\n"
     ]
    },
    {
     "name": "stdout",
     "output_type": "stream",
     "text": [
      "0.09972433040066483\n"
     ]
    },
    {
     "name": "stderr",
     "output_type": "stream",
     "text": [
      "100%|██████████| 5/5 [00:01<00:00,  4.92it/s]\n"
     ]
    },
    {
     "name": "stdout",
     "output_type": "stream",
     "text": [
      "0.21128980270806952\n"
     ]
    },
    {
     "name": "stderr",
     "output_type": "stream",
     "text": [
      "100%|██████████| 5/5 [00:00<00:00,  5.12it/s]\n"
     ]
    },
    {
     "name": "stdout",
     "output_type": "stream",
     "text": [
      "0.22025043211522188\n"
     ]
    },
    {
     "name": "stderr",
     "output_type": "stream",
     "text": [
      "100%|██████████| 5/5 [00:00<00:00,  5.14it/s]\n"
     ]
    },
    {
     "name": "stdout",
     "output_type": "stream",
     "text": [
      "0.2117530183805418\n"
     ]
    },
    {
     "name": "stderr",
     "output_type": "stream",
     "text": [
      "100%|██████████| 5/5 [00:00<00:00,  5.20it/s]\n",
      "[I 2025-07-24 15:04:27,560] Trial 76 finished with value: 0.18574964579960784 and parameters: {'log2_hidden_layer_0': 6, 'log2_hidden_layer_1': 5, 'lr': 0.0001116991109505712, 'batch_size': 720, 'num_epochs': 5}. Best is trial 25 with value: 0.18588758284063242.\n"
     ]
    },
    {
     "name": "stdout",
     "output_type": "stream",
     "text": [
      "0.0997053299945981\n"
     ]
    },
    {
     "name": "stderr",
     "output_type": "stream",
     "text": [
      "100%|██████████| 10/10 [00:01<00:00,  5.15it/s]\n"
     ]
    },
    {
     "name": "stdout",
     "output_type": "stream",
     "text": [
      "0.19991745633338945\n"
     ]
    },
    {
     "name": "stderr",
     "output_type": "stream",
     "text": [
      "100%|██████████| 10/10 [00:01<00:00,  5.13it/s]\n"
     ]
    },
    {
     "name": "stdout",
     "output_type": "stream",
     "text": [
      "0.22129053805507534\n"
     ]
    },
    {
     "name": "stderr",
     "output_type": "stream",
     "text": [
      "100%|██████████| 10/10 [00:02<00:00,  4.91it/s]\n"
     ]
    },
    {
     "name": "stdout",
     "output_type": "stream",
     "text": [
      "0.21508749091871088\n"
     ]
    },
    {
     "name": "stderr",
     "output_type": "stream",
     "text": [
      "100%|██████████| 10/10 [00:02<00:00,  4.98it/s]\n",
      "[I 2025-07-24 15:04:35,848] Trial 77 finished with value: 0.18620686427208724 and parameters: {'log2_hidden_layer_0': 6, 'log2_hidden_layer_1': 5, 'lr': 0.000112825518807712, 'batch_size': 720, 'num_epochs': 10}. Best is trial 77 with value: 0.18620686427208724.\n"
     ]
    },
    {
     "name": "stdout",
     "output_type": "stream",
     "text": [
      "0.10853197178117334\n"
     ]
    },
    {
     "name": "stderr",
     "output_type": "stream",
     "text": [
      "100%|██████████| 10/10 [00:02<00:00,  4.89it/s]\n"
     ]
    },
    {
     "name": "stdout",
     "output_type": "stream",
     "text": [
      "0.20153160945202853\n"
     ]
    },
    {
     "name": "stderr",
     "output_type": "stream",
     "text": [
      "100%|██████████| 10/10 [00:01<00:00,  5.03it/s]\n"
     ]
    },
    {
     "name": "stdout",
     "output_type": "stream",
     "text": [
      "0.22586855951346985\n"
     ]
    },
    {
     "name": "stderr",
     "output_type": "stream",
     "text": [
      "100%|██████████| 10/10 [00:01<00:00,  5.02it/s]\n"
     ]
    },
    {
     "name": "stdout",
     "output_type": "stream",
     "text": [
      "0.194322957935897\n"
     ]
    },
    {
     "name": "stderr",
     "output_type": "stream",
     "text": [
      "100%|██████████| 10/10 [00:01<00:00,  5.00it/s]\n",
      "[I 2025-07-24 15:04:44,208] Trial 78 finished with value: 0.18252122050524608 and parameters: {'log2_hidden_layer_0': 7, 'log2_hidden_layer_1': 6, 'lr': 0.00010939546928919768, 'batch_size': 720, 'num_epochs': 10}. Best is trial 77 with value: 0.18620686427208724.\n"
     ]
    },
    {
     "name": "stdout",
     "output_type": "stream",
     "text": [
      "0.10836175511958886\n"
     ]
    },
    {
     "name": "stderr",
     "output_type": "stream",
     "text": [
      "100%|██████████| 10/10 [00:02<00:00,  4.92it/s]\n"
     ]
    },
    {
     "name": "stdout",
     "output_type": "stream",
     "text": [
      "0.13961948079754202\n"
     ]
    },
    {
     "name": "stderr",
     "output_type": "stream",
     "text": [
      "100%|██████████| 10/10 [00:02<00:00,  4.97it/s]\n"
     ]
    },
    {
     "name": "stdout",
     "output_type": "stream",
     "text": [
      "0.18657262963593968\n"
     ]
    },
    {
     "name": "stderr",
     "output_type": "stream",
     "text": [
      "100%|██████████| 10/10 [00:01<00:00,  5.04it/s]\n"
     ]
    },
    {
     "name": "stdout",
     "output_type": "stream",
     "text": [
      "0.21504510198177487\n"
     ]
    },
    {
     "name": "stderr",
     "output_type": "stream",
     "text": [
      "100%|██████████| 10/10 [00:01<00:00,  5.19it/s]\n",
      "[I 2025-07-24 15:04:52,506] Trial 79 finished with value: 0.15751173273805108 and parameters: {'log2_hidden_layer_0': 6, 'log2_hidden_layer_1': 5, 'lr': 0.0009646106135851406, 'batch_size': 720, 'num_epochs': 10}. Best is trial 77 with value: 0.18620686427208724.\n"
     ]
    },
    {
     "name": "stdout",
     "output_type": "stream",
     "text": [
      "0.08880971853694775\n"
     ]
    },
    {
     "name": "stderr",
     "output_type": "stream",
     "text": [
      "100%|██████████| 10/10 [00:01<00:00,  5.17it/s]\n"
     ]
    },
    {
     "name": "stdout",
     "output_type": "stream",
     "text": [
      "0.2004240293319053\n"
     ]
    },
    {
     "name": "stderr",
     "output_type": "stream",
     "text": [
      "100%|██████████| 10/10 [00:01<00:00,  5.08it/s]\n"
     ]
    },
    {
     "name": "stdout",
     "output_type": "stream",
     "text": [
      "0.22136081287663018\n"
     ]
    },
    {
     "name": "stderr",
     "output_type": "stream",
     "text": [
      "100%|██████████| 10/10 [00:02<00:00,  4.94it/s]\n"
     ]
    },
    {
     "name": "stdout",
     "output_type": "stream",
     "text": [
      "0.2152983690376818\n"
     ]
    },
    {
     "name": "stderr",
     "output_type": "stream",
     "text": [
      "100%|██████████| 10/10 [00:02<00:00,  4.94it/s]\n",
      "[I 2025-07-24 15:05:00,795] Trial 80 finished with value: 0.18637560214456653 and parameters: {'log2_hidden_layer_0': 6, 'log2_hidden_layer_1': 5, 'lr': 0.00011034151234445121, 'batch_size': 720, 'num_epochs': 10}. Best is trial 80 with value: 0.18637560214456653.\n"
     ]
    },
    {
     "name": "stdout",
     "output_type": "stream",
     "text": [
      "0.10841919733204888\n"
     ]
    },
    {
     "name": "stderr",
     "output_type": "stream",
     "text": [
      "100%|██████████| 10/10 [00:01<00:00,  5.02it/s]\n"
     ]
    },
    {
     "name": "stdout",
     "output_type": "stream",
     "text": [
      "0.20024216913459528\n"
     ]
    },
    {
     "name": "stderr",
     "output_type": "stream",
     "text": [
      "100%|██████████| 10/10 [00:01<00:00,  5.16it/s]\n"
     ]
    },
    {
     "name": "stdout",
     "output_type": "stream",
     "text": [
      "0.22134716648715475\n"
     ]
    },
    {
     "name": "stderr",
     "output_type": "stream",
     "text": [
      "100%|██████████| 10/10 [00:01<00:00,  5.12it/s]\n"
     ]
    },
    {
     "name": "stdout",
     "output_type": "stream",
     "text": [
      "0.21519483201497566\n"
     ]
    },
    {
     "name": "stderr",
     "output_type": "stream",
     "text": [
      "100%|██████████| 10/10 [00:01<00:00,  5.11it/s]\n",
      "[I 2025-07-24 15:05:08,973] Trial 81 finished with value: 0.18632206032490373 and parameters: {'log2_hidden_layer_0': 6, 'log2_hidden_layer_1': 5, 'lr': 0.00011141648085869908, 'batch_size': 720, 'num_epochs': 10}. Best is trial 80 with value: 0.18637560214456653.\n"
     ]
    },
    {
     "name": "stdout",
     "output_type": "stream",
     "text": [
      "0.10850407366288917\n"
     ]
    },
    {
     "name": "stderr",
     "output_type": "stream",
     "text": [
      "100%|██████████| 10/10 [00:02<00:00,  4.96it/s]\n"
     ]
    },
    {
     "name": "stdout",
     "output_type": "stream",
     "text": [
      "0.19995577733313935\n"
     ]
    },
    {
     "name": "stderr",
     "output_type": "stream",
     "text": [
      "100%|██████████| 10/10 [00:02<00:00,  4.92it/s]\n"
     ]
    },
    {
     "name": "stdout",
     "output_type": "stream",
     "text": [
      "0.22129180936314127\n"
     ]
    },
    {
     "name": "stderr",
     "output_type": "stream",
     "text": [
      "100%|██████████| 10/10 [00:01<00:00,  5.06it/s]\n"
     ]
    },
    {
     "name": "stdout",
     "output_type": "stream",
     "text": [
      "0.21511042736063268\n"
     ]
    },
    {
     "name": "stderr",
     "output_type": "stream",
     "text": [
      "100%|██████████| 10/10 [00:01<00:00,  5.15it/s]\n",
      "[I 2025-07-24 15:05:17,275] Trial 82 finished with value: 0.18622437764054672 and parameters: {'log2_hidden_layer_0': 6, 'log2_hidden_layer_1': 5, 'lr': 0.00011254440414620217, 'batch_size': 720, 'num_epochs': 10}. Best is trial 80 with value: 0.18637560214456653.\n"
     ]
    },
    {
     "name": "stdout",
     "output_type": "stream",
     "text": [
      "0.10853949650527367\n"
     ]
    },
    {
     "name": "stderr",
     "output_type": "stream",
     "text": [
      "100%|██████████| 10/10 [00:01<00:00,  5.10it/s]\n"
     ]
    },
    {
     "name": "stdout",
     "output_type": "stream",
     "text": [
      "0.19986462378681583\n"
     ]
    },
    {
     "name": "stderr",
     "output_type": "stream",
     "text": [
      "100%|██████████| 10/10 [00:01<00:00,  5.07it/s]\n"
     ]
    },
    {
     "name": "stdout",
     "output_type": "stream",
     "text": [
      "0.22128900335762242\n"
     ]
    },
    {
     "name": "stderr",
     "output_type": "stream",
     "text": [
      "100%|██████████| 10/10 [00:02<00:00,  4.92it/s]\n"
     ]
    },
    {
     "name": "stdout",
     "output_type": "stream",
     "text": [
      "0.21507570514497035\n"
     ]
    },
    {
     "name": "stderr",
     "output_type": "stream",
     "text": [
      "100%|██████████| 10/10 [00:02<00:00,  4.96it/s]\n",
      "[I 2025-07-24 15:05:25,594] Trial 83 finished with value: 0.18618621709347993 and parameters: {'log2_hidden_layer_0': 6, 'log2_hidden_layer_1': 5, 'lr': 0.00011278865148102771, 'batch_size': 720, 'num_epochs': 10}. Best is trial 80 with value: 0.18637560214456653.\n"
     ]
    },
    {
     "name": "stdout",
     "output_type": "stream",
     "text": [
      "0.10851553608451114\n"
     ]
    },
    {
     "name": "stderr",
     "output_type": "stream",
     "text": [
      "100%|██████████| 10/10 [00:01<00:00,  5.05it/s]\n"
     ]
    },
    {
     "name": "stdout",
     "output_type": "stream",
     "text": [
      "0.19292268444003935\n"
     ]
    },
    {
     "name": "stderr",
     "output_type": "stream",
     "text": [
      "100%|██████████| 10/10 [00:01<00:00,  5.14it/s]\n"
     ]
    },
    {
     "name": "stdout",
     "output_type": "stream",
     "text": [
      "0.21781341402275864\n"
     ]
    },
    {
     "name": "stderr",
     "output_type": "stream",
     "text": [
      "100%|██████████| 10/10 [00:01<00:00,  5.10it/s]\n"
     ]
    },
    {
     "name": "stdout",
     "output_type": "stream",
     "text": [
      "0.21206220372040907\n"
     ]
    },
    {
     "name": "stderr",
     "output_type": "stream",
     "text": [
      "100%|██████████| 10/10 [00:01<00:00,  5.14it/s]\n",
      "[I 2025-07-24 15:05:33,765] Trial 84 finished with value: 0.18331331700055495 and parameters: {'log2_hidden_layer_0': 6, 'log2_hidden_layer_1': 5, 'lr': 0.0001657673703147613, 'batch_size': 720, 'num_epochs': 10}. Best is trial 80 with value: 0.18637560214456653.\n"
     ]
    },
    {
     "name": "stdout",
     "output_type": "stream",
     "text": [
      "0.1104549658190127\n"
     ]
    },
    {
     "name": "stderr",
     "output_type": "stream",
     "text": [
      "100%|██████████| 10/10 [00:02<00:00,  4.94it/s]\n"
     ]
    },
    {
     "name": "stdout",
     "output_type": "stream",
     "text": [
      "0.19952440251775946\n"
     ]
    },
    {
     "name": "stderr",
     "output_type": "stream",
     "text": [
      "100%|██████████| 10/10 [00:01<00:00,  5.00it/s]\n"
     ]
    },
    {
     "name": "stdout",
     "output_type": "stream",
     "text": [
      "0.2212378084711565\n"
     ]
    },
    {
     "name": "stderr",
     "output_type": "stream",
     "text": [
      "100%|██████████| 10/10 [00:02<00:00,  4.99it/s]\n"
     ]
    },
    {
     "name": "stdout",
     "output_type": "stream",
     "text": [
      "0.21503511736052808\n"
     ]
    },
    {
     "name": "stderr",
     "output_type": "stream",
     "text": [
      "100%|██████████| 10/10 [00:01<00:00,  5.12it/s]\n",
      "[I 2025-07-24 15:05:42,088] Trial 85 finished with value: 0.18613092659130415 and parameters: {'log2_hidden_layer_0': 6, 'log2_hidden_layer_1': 5, 'lr': 0.0001150617140745563, 'batch_size': 720, 'num_epochs': 10}. Best is trial 80 with value: 0.18637560214456653.\n"
     ]
    },
    {
     "name": "stdout",
     "output_type": "stream",
     "text": [
      "0.1087263780157725\n"
     ]
    },
    {
     "name": "stderr",
     "output_type": "stream",
     "text": [
      "100%|██████████| 10/10 [00:01<00:00,  5.11it/s]\n"
     ]
    },
    {
     "name": "stdout",
     "output_type": "stream",
     "text": [
      "0.1942925578503222\n"
     ]
    },
    {
     "name": "stderr",
     "output_type": "stream",
     "text": [
      "100%|██████████| 10/10 [00:01<00:00,  5.10it/s]\n"
     ]
    },
    {
     "name": "stdout",
     "output_type": "stream",
     "text": [
      "0.21932082045611215\n"
     ]
    },
    {
     "name": "stderr",
     "output_type": "stream",
     "text": [
      "100%|██████████| 10/10 [00:02<00:00,  4.93it/s]\n"
     ]
    },
    {
     "name": "stdout",
     "output_type": "stream",
     "text": [
      "0.21272274053605347\n"
     ]
    },
    {
     "name": "stderr",
     "output_type": "stream",
     "text": [
      "100%|██████████| 10/10 [00:01<00:00,  5.01it/s]\n",
      "[I 2025-07-24 15:05:50,367] Trial 86 finished with value: 0.18397656521763112 and parameters: {'log2_hidden_layer_0': 6, 'log2_hidden_layer_1': 5, 'lr': 0.00015495416839850232, 'batch_size': 720, 'num_epochs': 10}. Best is trial 80 with value: 0.18637560214456653.\n"
     ]
    },
    {
     "name": "stdout",
     "output_type": "stream",
     "text": [
      "0.1095701420280366\n"
     ]
    },
    {
     "name": "stderr",
     "output_type": "stream",
     "text": [
      "100%|██████████| 10/10 [00:02<00:00,  4.92it/s]\n"
     ]
    },
    {
     "name": "stdout",
     "output_type": "stream",
     "text": [
      "0.1943947517165199\n"
     ]
    },
    {
     "name": "stderr",
     "output_type": "stream",
     "text": [
      "100%|██████████| 10/10 [00:01<00:00,  5.13it/s]\n"
     ]
    },
    {
     "name": "stdout",
     "output_type": "stream",
     "text": [
      "0.2076054456344947\n"
     ]
    },
    {
     "name": "stderr",
     "output_type": "stream",
     "text": [
      "100%|██████████| 10/10 [00:01<00:00,  5.05it/s]\n"
     ]
    },
    {
     "name": "stdout",
     "output_type": "stream",
     "text": [
      "0.17895839331764699\n"
     ]
    },
    {
     "name": "stderr",
     "output_type": "stream",
     "text": [
      "100%|██████████| 10/10 [00:01<00:00,  5.02it/s]\n",
      "[I 2025-07-24 15:05:58,659] Trial 87 finished with value: 0.1717958240578524 and parameters: {'log2_hidden_layer_0': 7, 'log2_hidden_layer_1': 6, 'lr': 0.00018494523610581827, 'batch_size': 720, 'num_epochs': 10}. Best is trial 80 with value: 0.18637560214456653.\n"
     ]
    },
    {
     "name": "stdout",
     "output_type": "stream",
     "text": [
      "0.10622470556274796\n"
     ]
    },
    {
     "name": "stderr",
     "output_type": "stream",
     "text": [
      "100%|██████████| 10/10 [00:02<00:00,  4.91it/s]\n"
     ]
    },
    {
     "name": "stdout",
     "output_type": "stream",
     "text": [
      "0.07086042288066124\n"
     ]
    },
    {
     "name": "stderr",
     "output_type": "stream",
     "text": [
      "100%|██████████| 10/10 [00:02<00:00,  4.95it/s]\n"
     ]
    },
    {
     "name": "stdout",
     "output_type": "stream",
     "text": [
      "0.0704716530448958\n"
     ]
    },
    {
     "name": "stderr",
     "output_type": "stream",
     "text": [
      "100%|██████████| 10/10 [00:02<00:00,  4.97it/s]\n"
     ]
    },
    {
     "name": "stdout",
     "output_type": "stream",
     "text": [
      "0.10417498610772134\n"
     ]
    },
    {
     "name": "stderr",
     "output_type": "stream",
     "text": [
      "100%|██████████| 10/10 [00:01<00:00,  5.18it/s]\n",
      "[I 2025-07-24 15:06:06,986] Trial 88 finished with value: 0.07911162801581624 and parameters: {'log2_hidden_layer_0': 6, 'log2_hidden_layer_1': 5, 'lr': 0.0033523013228198726, 'batch_size': 720, 'num_epochs': 10}. Best is trial 80 with value: 0.18637560214456653.\n"
     ]
    },
    {
     "name": "stdout",
     "output_type": "stream",
     "text": [
      "0.07093945002998658\n"
     ]
    },
    {
     "name": "stderr",
     "output_type": "stream",
     "text": [
      "100%|██████████| 10/10 [00:01<00:00,  5.17it/s]\n"
     ]
    },
    {
     "name": "stdout",
     "output_type": "stream",
     "text": [
      "0.1996375636854179\n"
     ]
    },
    {
     "name": "stderr",
     "output_type": "stream",
     "text": [
      "100%|██████████| 10/10 [00:01<00:00,  5.16it/s]\n"
     ]
    },
    {
     "name": "stdout",
     "output_type": "stream",
     "text": [
      "0.22125639888510487\n"
     ]
    },
    {
     "name": "stderr",
     "output_type": "stream",
     "text": [
      "100%|██████████| 10/10 [00:02<00:00,  4.97it/s]\n"
     ]
    },
    {
     "name": "stdout",
     "output_type": "stream",
     "text": [
      "0.21511230038062054\n"
     ]
    },
    {
     "name": "stderr",
     "output_type": "stream",
     "text": [
      "100%|██████████| 10/10 [00:01<00:00,  5.00it/s]\n",
      "[I 2025-07-24 15:06:15,207] Trial 89 finished with value: 0.18617186604190672 and parameters: {'log2_hidden_layer_0': 6, 'log2_hidden_layer_1': 5, 'lr': 0.00011448330936561045, 'batch_size': 720, 'num_epochs': 10}. Best is trial 80 with value: 0.18637560214456653.\n"
     ]
    },
    {
     "name": "stdout",
     "output_type": "stream",
     "text": [
      "0.1086812012164835\n"
     ]
    },
    {
     "name": "stderr",
     "output_type": "stream",
     "text": [
      "100%|██████████| 10/10 [00:02<00:00,  5.00it/s]\n"
     ]
    },
    {
     "name": "stdout",
     "output_type": "stream",
     "text": [
      "0.1949625630366769\n"
     ]
    },
    {
     "name": "stderr",
     "output_type": "stream",
     "text": [
      "100%|██████████| 10/10 [00:01<00:00,  5.15it/s]\n"
     ]
    },
    {
     "name": "stdout",
     "output_type": "stream",
     "text": [
      "0.22062781896041694\n"
     ]
    },
    {
     "name": "stderr",
     "output_type": "stream",
     "text": [
      "100%|██████████| 10/10 [00:01<00:00,  5.14it/s]\n"
     ]
    },
    {
     "name": "stdout",
     "output_type": "stream",
     "text": [
      "0.21362311318488963\n"
     ]
    },
    {
     "name": "stderr",
     "output_type": "stream",
     "text": [
      "100%|██████████| 10/10 [00:01<00:00,  5.16it/s]\n",
      "[I 2025-07-24 15:06:23,360] Trial 90 finished with value: 0.18450346404922574 and parameters: {'log2_hidden_layer_0': 6, 'log2_hidden_layer_1': 5, 'lr': 0.00013464380032938248, 'batch_size': 720, 'num_epochs': 10}. Best is trial 80 with value: 0.18637560214456653.\n"
     ]
    },
    {
     "name": "stdout",
     "output_type": "stream",
     "text": [
      "0.10880036101491948\n"
     ]
    },
    {
     "name": "stderr",
     "output_type": "stream",
     "text": [
      "100%|██████████| 10/10 [00:02<00:00,  4.99it/s]\n"
     ]
    },
    {
     "name": "stdout",
     "output_type": "stream",
     "text": [
      "0.20019908462302635\n"
     ]
    },
    {
     "name": "stderr",
     "output_type": "stream",
     "text": [
      "100%|██████████| 10/10 [00:01<00:00,  5.02it/s]\n"
     ]
    },
    {
     "name": "stdout",
     "output_type": "stream",
     "text": [
      "0.22132396914466146\n"
     ]
    },
    {
     "name": "stderr",
     "output_type": "stream",
     "text": [
      "100%|██████████| 10/10 [00:02<00:00,  4.96it/s]\n"
     ]
    },
    {
     "name": "stdout",
     "output_type": "stream",
     "text": [
      "0.21517373143369736\n"
     ]
    },
    {
     "name": "stderr",
     "output_type": "stream",
     "text": [
      "100%|██████████| 10/10 [00:01<00:00,  5.10it/s]\n",
      "[I 2025-07-24 15:06:31,669] Trial 91 finished with value: 0.18629852091432964 and parameters: {'log2_hidden_layer_0': 6, 'log2_hidden_layer_1': 5, 'lr': 0.00011162334252436517, 'batch_size': 720, 'num_epochs': 10}. Best is trial 80 with value: 0.18637560214456653.\n"
     ]
    },
    {
     "name": "stdout",
     "output_type": "stream",
     "text": [
      "0.10849729845593331\n"
     ]
    },
    {
     "name": "stderr",
     "output_type": "stream",
     "text": [
      "100%|██████████| 10/10 [00:01<00:00,  5.13it/s]\n"
     ]
    },
    {
     "name": "stdout",
     "output_type": "stream",
     "text": [
      "0.19968729137874838\n"
     ]
    },
    {
     "name": "stderr",
     "output_type": "stream",
     "text": [
      "100%|██████████| 10/10 [00:01<00:00,  5.20it/s]\n"
     ]
    },
    {
     "name": "stdout",
     "output_type": "stream",
     "text": [
      "0.22126137608687838\n"
     ]
    },
    {
     "name": "stderr",
     "output_type": "stream",
     "text": [
      "100%|██████████| 10/10 [00:01<00:00,  5.07it/s]\n"
     ]
    },
    {
     "name": "stdout",
     "output_type": "stream",
     "text": [
      "0.21510619472487055\n"
     ]
    },
    {
     "name": "stderr",
     "output_type": "stream",
     "text": [
      "100%|██████████| 10/10 [00:02<00:00,  4.96it/s]\n",
      "[I 2025-07-24 15:06:39,875] Trial 92 finished with value: 0.18618316206684837 and parameters: {'log2_hidden_layer_0': 6, 'log2_hidden_layer_1': 5, 'lr': 0.00011412291381854633, 'batch_size': 720, 'num_epochs': 10}. Best is trial 80 with value: 0.18637560214456653.\n"
     ]
    },
    {
     "name": "stdout",
     "output_type": "stream",
     "text": [
      "0.10867778607689614\n"
     ]
    },
    {
     "name": "stderr",
     "output_type": "stream",
     "text": [
      "100%|██████████| 10/10 [00:02<00:00,  4.99it/s]\n"
     ]
    },
    {
     "name": "stdout",
     "output_type": "stream",
     "text": [
      "0.19417081967373884\n"
     ]
    },
    {
     "name": "stderr",
     "output_type": "stream",
     "text": [
      "100%|██████████| 10/10 [00:01<00:00,  5.09it/s]\n"
     ]
    },
    {
     "name": "stdout",
     "output_type": "stream",
     "text": [
      "0.21903930563342644\n"
     ]
    },
    {
     "name": "stderr",
     "output_type": "stream",
     "text": [
      "100%|██████████| 10/10 [00:01<00:00,  5.14it/s]\n"
     ]
    },
    {
     "name": "stdout",
     "output_type": "stream",
     "text": [
      "0.21255221613681707\n"
     ]
    },
    {
     "name": "stderr",
     "output_type": "stream",
     "text": [
      "100%|██████████| 10/10 [00:01<00:00,  5.18it/s]\n",
      "[I 2025-07-24 15:06:48,039] Trial 93 finished with value: 0.1839313921738379 and parameters: {'log2_hidden_layer_0': 6, 'log2_hidden_layer_1': 5, 'lr': 0.00015710577233537954, 'batch_size': 720, 'num_epochs': 10}. Best is trial 80 with value: 0.18637560214456653.\n"
     ]
    },
    {
     "name": "stdout",
     "output_type": "stream",
     "text": [
      "0.10996322725136917\n"
     ]
    },
    {
     "name": "stderr",
     "output_type": "stream",
     "text": [
      "100%|██████████| 10/10 [00:02<00:00,  4.99it/s]\n"
     ]
    },
    {
     "name": "stdout",
     "output_type": "stream",
     "text": [
      "0.19542993942968084\n"
     ]
    },
    {
     "name": "stderr",
     "output_type": "stream",
     "text": [
      "100%|██████████| 10/10 [00:02<00:00,  4.98it/s]\n"
     ]
    },
    {
     "name": "stdout",
     "output_type": "stream",
     "text": [
      "0.2206592000212773\n"
     ]
    },
    {
     "name": "stderr",
     "output_type": "stream",
     "text": [
      "100%|██████████| 10/10 [00:02<00:00,  4.98it/s]\n"
     ]
    },
    {
     "name": "stdout",
     "output_type": "stream",
     "text": [
      "0.2136040281157798\n"
     ]
    },
    {
     "name": "stderr",
     "output_type": "stream",
     "text": [
      "100%|██████████| 10/10 [00:01<00:00,  5.11it/s]\n",
      "[I 2025-07-24 15:06:56,350] Trial 94 finished with value: 0.18462679563416995 and parameters: {'log2_hidden_layer_0': 6, 'log2_hidden_layer_1': 5, 'lr': 0.00013338329505834326, 'batch_size': 720, 'num_epochs': 10}. Best is trial 80 with value: 0.18637560214456653.\n"
     ]
    },
    {
     "name": "stdout",
     "output_type": "stream",
     "text": [
      "0.10881401496994184\n"
     ]
    },
    {
     "name": "stderr",
     "output_type": "stream",
     "text": [
      "100%|██████████| 10/10 [00:01<00:00,  5.17it/s]\n"
     ]
    },
    {
     "name": "stdout",
     "output_type": "stream",
     "text": [
      "0.20282614802311766\n"
     ]
    },
    {
     "name": "stderr",
     "output_type": "stream",
     "text": [
      "100%|██████████| 10/10 [00:01<00:00,  5.18it/s]\n"
     ]
    },
    {
     "name": "stdout",
     "output_type": "stream",
     "text": [
      "0.22173701746935476\n"
     ]
    },
    {
     "name": "stderr",
     "output_type": "stream",
     "text": [
      "100%|██████████| 10/10 [00:01<00:00,  5.06it/s]\n"
     ]
    },
    {
     "name": "stdout",
     "output_type": "stream",
     "text": [
      "0.21573203646200675\n"
     ]
    },
    {
     "name": "stderr",
     "output_type": "stream",
     "text": [
      "100%|██████████| 10/10 [00:01<00:00,  5.00it/s]\n",
      "[I 2025-07-24 15:07:04,527] Trial 95 finished with value: 0.1869244475684832 and parameters: {'log2_hidden_layer_0': 6, 'log2_hidden_layer_1': 5, 'lr': 0.00010028279994052425, 'batch_size': 720, 'num_epochs': 10}. Best is trial 95 with value: 0.1869244475684832.\n"
     ]
    },
    {
     "name": "stdout",
     "output_type": "stream",
     "text": [
      "0.10740258831945358\n"
     ]
    },
    {
     "name": "stderr",
     "output_type": "stream",
     "text": [
      "100%|██████████| 10/10 [00:02<00:00,  4.99it/s]\n"
     ]
    },
    {
     "name": "stdout",
     "output_type": "stream",
     "text": [
      "-0.006441924007364875\n"
     ]
    },
    {
     "name": "stderr",
     "output_type": "stream",
     "text": [
      "100%|██████████| 10/10 [00:01<00:00,  5.07it/s]\n"
     ]
    },
    {
     "name": "stdout",
     "output_type": "stream",
     "text": [
      "-0.0052867187528582\n"
     ]
    },
    {
     "name": "stderr",
     "output_type": "stream",
     "text": [
      "100%|██████████| 10/10 [00:01<00:00,  5.14it/s]\n",
      "[I 2025-07-24 15:07:10,700] Trial 96 finished with value: -1.0 and parameters: {'log2_hidden_layer_0': 6, 'log2_hidden_layer_1': 5, 'lr': 0.009706231208609542, 'batch_size': 720, 'num_epochs': 10}. Best is trial 95 with value: 0.1869244475684832.\n"
     ]
    },
    {
     "name": "stdout",
     "output_type": "stream",
     "text": [
      "[-0.0700474 -0.0700474 -0.0700474 ... -0.0700474 -0.0700474 -0.0700474]\n",
      "Error: zero variance prediction\n",
      "-1\n"
     ]
    },
    {
     "name": "stderr",
     "output_type": "stream",
     "text": [
      "100%|██████████| 10/10 [00:01<00:00,  5.06it/s]\n"
     ]
    },
    {
     "name": "stdout",
     "output_type": "stream",
     "text": [
      "0.20067337632506607\n"
     ]
    },
    {
     "name": "stderr",
     "output_type": "stream",
     "text": [
      "100%|██████████| 10/10 [00:01<00:00,  5.06it/s]\n"
     ]
    },
    {
     "name": "stdout",
     "output_type": "stream",
     "text": [
      "0.2217069280318938\n"
     ]
    },
    {
     "name": "stderr",
     "output_type": "stream",
     "text": [
      "100%|██████████| 10/10 [00:02<00:00,  4.89it/s]\n"
     ]
    },
    {
     "name": "stdout",
     "output_type": "stream",
     "text": [
      "0.1882011137895936\n"
     ]
    },
    {
     "name": "stderr",
     "output_type": "stream",
     "text": [
      "100%|██████████| 10/10 [00:02<00:00,  4.86it/s]\n",
      "[I 2025-07-24 15:07:19,093] Trial 97 finished with value: 0.17955806327487073 and parameters: {'log2_hidden_layer_0': 7, 'log2_hidden_layer_1': 6, 'lr': 0.0001235273235194387, 'batch_size': 720, 'num_epochs': 10}. Best is trial 95 with value: 0.1869244475684832.\n"
     ]
    },
    {
     "name": "stdout",
     "output_type": "stream",
     "text": [
      "0.10765083495292949\n"
     ]
    },
    {
     "name": "stderr",
     "output_type": "stream",
     "text": [
      "100%|██████████| 10/10 [00:01<00:00,  5.01it/s]\n"
     ]
    },
    {
     "name": "stdout",
     "output_type": "stream",
     "text": [
      "0.20276116479643008\n"
     ]
    },
    {
     "name": "stderr",
     "output_type": "stream",
     "text": [
      "100%|██████████| 10/10 [00:01<00:00,  5.16it/s]\n"
     ]
    },
    {
     "name": "stdout",
     "output_type": "stream",
     "text": [
      "0.22173066150758713\n"
     ]
    },
    {
     "name": "stderr",
     "output_type": "stream",
     "text": [
      "100%|██████████| 10/10 [00:01<00:00,  5.16it/s]\n"
     ]
    },
    {
     "name": "stdout",
     "output_type": "stream",
     "text": [
      "0.2156903375553005\n"
     ]
    },
    {
     "name": "stderr",
     "output_type": "stream",
     "text": [
      "100%|██████████| 10/10 [00:01<00:00,  5.12it/s]\n",
      "[I 2025-07-24 15:07:27,258] Trial 98 finished with value: 0.18690338994890904 and parameters: {'log2_hidden_layer_0': 6, 'log2_hidden_layer_1': 5, 'lr': 0.00010060460533430571, 'batch_size': 720, 'num_epochs': 10}. Best is trial 95 with value: 0.1869244475684832.\n"
     ]
    },
    {
     "name": "stdout",
     "output_type": "stream",
     "text": [
      "0.10743139593631845\n"
     ]
    },
    {
     "name": "stderr",
     "output_type": "stream",
     "text": [
      "100%|██████████| 10/10 [00:02<00:00,  4.98it/s]\n"
     ]
    },
    {
     "name": "stdout",
     "output_type": "stream",
     "text": [
      "0.19361580641259965\n"
     ]
    },
    {
     "name": "stderr",
     "output_type": "stream",
     "text": [
      "100%|██████████| 10/10 [00:02<00:00,  4.99it/s]\n"
     ]
    },
    {
     "name": "stdout",
     "output_type": "stream",
     "text": [
      "0.22040008161899918\n"
     ]
    },
    {
     "name": "stderr",
     "output_type": "stream",
     "text": [
      "100%|██████████| 10/10 [00:01<00:00,  5.00it/s]\n"
     ]
    },
    {
     "name": "stdout",
     "output_type": "stream",
     "text": [
      "0.2132680713148367\n"
     ]
    },
    {
     "name": "stderr",
     "output_type": "stream",
     "text": [
      "100%|██████████| 10/10 [00:01<00:00,  5.16it/s]\n",
      "[I 2025-07-24 15:07:35,546] Trial 99 finished with value: 0.18409080476595982 and parameters: {'log2_hidden_layer_0': 6, 'log2_hidden_layer_1': 5, 'lr': 0.00014086674270635883, 'batch_size': 720, 'num_epochs': 10}. Best is trial 95 with value: 0.1869244475684832.\n"
     ]
    },
    {
     "name": "stdout",
     "output_type": "stream",
     "text": [
      "0.1090792597174037\n",
      "Best hyperparameters: {'log2_hidden_layer_0': 6, 'log2_hidden_layer_1': 5, 'lr': 0.00010028279994052425, 'batch_size': 720, 'num_epochs': 10}\n",
      "Best Pearson score: 0.1869244475684832\n"
     ]
    },
    {
     "data": {
      "text/plain": [
       "{'log2_hidden_layer_0': 6,\n",
       " 'log2_hidden_layer_1': 5,\n",
       " 'lr': 0.00010028279994052425,\n",
       " 'batch_size': 720,\n",
       " 'num_epochs': 10}"
      ]
     },
     "execution_count": 32,
     "metadata": {},
     "output_type": "execute_result"
    }
   ],
   "source": [
    "optimize_mlp_mlx(\n",
    "    f\"mlp_mlx_{feature_version}_{default_cv}_{default_random_state}_{default_num_layers}_common_truncated_30_with_less_interaction_study\",\n",
    "    f\"mlp_mlx_{feature_version}_{default_cv}_{default_random_state}_{default_num_layers}_common_truncated_30_with_less_interaction_study\",\n",
    ")"
   ]
  },
  {
   "cell_type": "code",
   "execution_count": 36,
   "id": "98856c38",
   "metadata": {},
   "outputs": [
    {
     "data": {
      "text/html": [
       "<div>\n",
       "<style scoped>\n",
       "    .dataframe tbody tr th:only-of-type {\n",
       "        vertical-align: middle;\n",
       "    }\n",
       "\n",
       "    .dataframe tbody tr th {\n",
       "        vertical-align: top;\n",
       "    }\n",
       "\n",
       "    .dataframe thead th {\n",
       "        text-align: right;\n",
       "    }\n",
       "</style>\n",
       "<table border=\"1\" class=\"dataframe\">\n",
       "  <thead>\n",
       "    <tr style=\"text-align: right;\">\n",
       "      <th></th>\n",
       "      <th>log2_hidden_layer_0</th>\n",
       "      <th>log2_hidden_layer_1</th>\n",
       "      <th>lr</th>\n",
       "      <th>batch_size</th>\n",
       "      <th>num_epochs</th>\n",
       "      <th>value</th>\n",
       "      <th>cv_std</th>\n",
       "    </tr>\n",
       "  </thead>\n",
       "  <tbody>\n",
       "    <tr>\n",
       "      <th>0</th>\n",
       "      <td>6</td>\n",
       "      <td>5</td>\n",
       "      <td>0.000100</td>\n",
       "      <td>720</td>\n",
       "      <td>10</td>\n",
       "      <td>0.186924</td>\n",
       "      <td>0.046418</td>\n",
       "    </tr>\n",
       "    <tr>\n",
       "      <th>1</th>\n",
       "      <td>6</td>\n",
       "      <td>5</td>\n",
       "      <td>0.000101</td>\n",
       "      <td>720</td>\n",
       "      <td>10</td>\n",
       "      <td>0.186903</td>\n",
       "      <td>0.046392</td>\n",
       "    </tr>\n",
       "    <tr>\n",
       "      <th>2</th>\n",
       "      <td>6</td>\n",
       "      <td>5</td>\n",
       "      <td>0.000110</td>\n",
       "      <td>720</td>\n",
       "      <td>10</td>\n",
       "      <td>0.186376</td>\n",
       "      <td>0.045648</td>\n",
       "    </tr>\n",
       "    <tr>\n",
       "      <th>3</th>\n",
       "      <td>6</td>\n",
       "      <td>5</td>\n",
       "      <td>0.000111</td>\n",
       "      <td>720</td>\n",
       "      <td>10</td>\n",
       "      <td>0.186322</td>\n",
       "      <td>0.045579</td>\n",
       "    </tr>\n",
       "    <tr>\n",
       "      <th>4</th>\n",
       "      <td>6</td>\n",
       "      <td>5</td>\n",
       "      <td>0.000112</td>\n",
       "      <td>720</td>\n",
       "      <td>10</td>\n",
       "      <td>0.186299</td>\n",
       "      <td>0.045571</td>\n",
       "    </tr>\n",
       "    <tr>\n",
       "      <th>...</th>\n",
       "      <td>...</td>\n",
       "      <td>...</td>\n",
       "      <td>...</td>\n",
       "      <td>...</td>\n",
       "      <td>...</td>\n",
       "      <td>...</td>\n",
       "      <td>...</td>\n",
       "    </tr>\n",
       "    <tr>\n",
       "      <th>95</th>\n",
       "      <td>4</td>\n",
       "      <td>4</td>\n",
       "      <td>0.007916</td>\n",
       "      <td>120</td>\n",
       "      <td>10</td>\n",
       "      <td>0.042009</td>\n",
       "      <td>0.029304</td>\n",
       "    </tr>\n",
       "    <tr>\n",
       "      <th>96</th>\n",
       "      <td>3</td>\n",
       "      <td>3</td>\n",
       "      <td>0.008530</td>\n",
       "      <td>180</td>\n",
       "      <td>5</td>\n",
       "      <td>0.010944</td>\n",
       "      <td>0.020892</td>\n",
       "    </tr>\n",
       "    <tr>\n",
       "      <th>97</th>\n",
       "      <td>7</td>\n",
       "      <td>4</td>\n",
       "      <td>0.002932</td>\n",
       "      <td>180</td>\n",
       "      <td>5</td>\n",
       "      <td>-1.000000</td>\n",
       "      <td>0.000000</td>\n",
       "    </tr>\n",
       "    <tr>\n",
       "      <th>98</th>\n",
       "      <td>6</td>\n",
       "      <td>5</td>\n",
       "      <td>0.009706</td>\n",
       "      <td>720</td>\n",
       "      <td>10</td>\n",
       "      <td>-1.000000</td>\n",
       "      <td>0.000000</td>\n",
       "    </tr>\n",
       "    <tr>\n",
       "      <th>99</th>\n",
       "      <td>5</td>\n",
       "      <td>4</td>\n",
       "      <td>0.004277</td>\n",
       "      <td>30</td>\n",
       "      <td>5</td>\n",
       "      <td>-1.000000</td>\n",
       "      <td>0.000000</td>\n",
       "    </tr>\n",
       "  </tbody>\n",
       "</table>\n",
       "<p>100 rows × 7 columns</p>\n",
       "</div>"
      ],
      "text/plain": [
       "    log2_hidden_layer_0  log2_hidden_layer_1        lr  batch_size  \\\n",
       "0                     6                    5  0.000100         720   \n",
       "1                     6                    5  0.000101         720   \n",
       "2                     6                    5  0.000110         720   \n",
       "3                     6                    5  0.000111         720   \n",
       "4                     6                    5  0.000112         720   \n",
       "..                  ...                  ...       ...         ...   \n",
       "95                    4                    4  0.007916         120   \n",
       "96                    3                    3  0.008530         180   \n",
       "97                    7                    4  0.002932         180   \n",
       "98                    6                    5  0.009706         720   \n",
       "99                    5                    4  0.004277          30   \n",
       "\n",
       "    num_epochs     value    cv_std  \n",
       "0           10  0.186924  0.046418  \n",
       "1           10  0.186903  0.046392  \n",
       "2           10  0.186376  0.045648  \n",
       "3           10  0.186322  0.045579  \n",
       "4           10  0.186299  0.045571  \n",
       "..         ...       ...       ...  \n",
       "95          10  0.042009  0.029304  \n",
       "96           5  0.010944  0.020892  \n",
       "97           5 -1.000000  0.000000  \n",
       "98          10 -1.000000  0.000000  \n",
       "99           5 -1.000000  0.000000  \n",
       "\n",
       "[100 rows x 7 columns]"
      ]
     },
     "execution_count": 36,
     "metadata": {},
     "output_type": "execute_result"
    }
   ],
   "source": [
    "study_df = get_study_df(\n",
    "    f\"mlp_mlx_{feature_version}_{default_cv}_{default_random_state}_{default_num_layers}_common_truncated_30_with_less_interaction_study\"\n",
    ")\n",
    "study_df.sort_values(\"value\", ignore_index=True, ascending=False)"
   ]
  },
  {
   "cell_type": "code",
   "execution_count": 37,
   "id": "7a2ba336",
   "metadata": {},
   "outputs": [
    {
     "data": {
      "text/html": [
       "<div>\n",
       "<style scoped>\n",
       "    .dataframe tbody tr th:only-of-type {\n",
       "        vertical-align: middle;\n",
       "    }\n",
       "\n",
       "    .dataframe tbody tr th {\n",
       "        vertical-align: top;\n",
       "    }\n",
       "\n",
       "    .dataframe thead th {\n",
       "        text-align: right;\n",
       "    }\n",
       "</style>\n",
       "<table border=\"1\" class=\"dataframe\">\n",
       "  <thead>\n",
       "    <tr style=\"text-align: right;\">\n",
       "      <th></th>\n",
       "      <th>log2_hidden_layer_0</th>\n",
       "      <th>log2_hidden_layer_1</th>\n",
       "      <th>lr</th>\n",
       "      <th>batch_size</th>\n",
       "      <th>num_epochs</th>\n",
       "      <th>value</th>\n",
       "      <th>cv_std</th>\n",
       "    </tr>\n",
       "  </thead>\n",
       "  <tbody>\n",
       "    <tr>\n",
       "      <th>0</th>\n",
       "      <td>7</td>\n",
       "      <td>4</td>\n",
       "      <td>0.002932</td>\n",
       "      <td>180</td>\n",
       "      <td>5</td>\n",
       "      <td>-1.000000</td>\n",
       "      <td>0.000000</td>\n",
       "    </tr>\n",
       "    <tr>\n",
       "      <th>1</th>\n",
       "      <td>6</td>\n",
       "      <td>5</td>\n",
       "      <td>0.009706</td>\n",
       "      <td>720</td>\n",
       "      <td>10</td>\n",
       "      <td>-1.000000</td>\n",
       "      <td>0.000000</td>\n",
       "    </tr>\n",
       "    <tr>\n",
       "      <th>2</th>\n",
       "      <td>5</td>\n",
       "      <td>4</td>\n",
       "      <td>0.004277</td>\n",
       "      <td>30</td>\n",
       "      <td>5</td>\n",
       "      <td>-1.000000</td>\n",
       "      <td>0.000000</td>\n",
       "    </tr>\n",
       "    <tr>\n",
       "      <th>3</th>\n",
       "      <td>6</td>\n",
       "      <td>5</td>\n",
       "      <td>0.003352</td>\n",
       "      <td>720</td>\n",
       "      <td>10</td>\n",
       "      <td>0.079112</td>\n",
       "      <td>0.014471</td>\n",
       "    </tr>\n",
       "    <tr>\n",
       "      <th>4</th>\n",
       "      <td>3</td>\n",
       "      <td>3</td>\n",
       "      <td>0.008530</td>\n",
       "      <td>180</td>\n",
       "      <td>5</td>\n",
       "      <td>0.010944</td>\n",
       "      <td>0.020892</td>\n",
       "    </tr>\n",
       "    <tr>\n",
       "      <th>...</th>\n",
       "      <td>...</td>\n",
       "      <td>...</td>\n",
       "      <td>...</td>\n",
       "      <td>...</td>\n",
       "      <td>...</td>\n",
       "      <td>...</td>\n",
       "      <td>...</td>\n",
       "    </tr>\n",
       "    <tr>\n",
       "      <th>95</th>\n",
       "      <td>7</td>\n",
       "      <td>6</td>\n",
       "      <td>0.001658</td>\n",
       "      <td>720</td>\n",
       "      <td>5</td>\n",
       "      <td>0.093422</td>\n",
       "      <td>0.070914</td>\n",
       "    </tr>\n",
       "    <tr>\n",
       "      <th>96</th>\n",
       "      <td>3</td>\n",
       "      <td>3</td>\n",
       "      <td>0.000132</td>\n",
       "      <td>360</td>\n",
       "      <td>5</td>\n",
       "      <td>0.075021</td>\n",
       "      <td>0.074917</td>\n",
       "    </tr>\n",
       "    <tr>\n",
       "      <th>97</th>\n",
       "      <td>7</td>\n",
       "      <td>3</td>\n",
       "      <td>0.000396</td>\n",
       "      <td>120</td>\n",
       "      <td>15</td>\n",
       "      <td>0.052169</td>\n",
       "      <td>0.081720</td>\n",
       "    </tr>\n",
       "    <tr>\n",
       "      <th>98</th>\n",
       "      <td>3</td>\n",
       "      <td>2</td>\n",
       "      <td>0.000112</td>\n",
       "      <td>360</td>\n",
       "      <td>5</td>\n",
       "      <td>0.153897</td>\n",
       "      <td>0.082803</td>\n",
       "    </tr>\n",
       "    <tr>\n",
       "      <th>99</th>\n",
       "      <td>4</td>\n",
       "      <td>3</td>\n",
       "      <td>0.000580</td>\n",
       "      <td>360</td>\n",
       "      <td>15</td>\n",
       "      <td>0.114500</td>\n",
       "      <td>0.111337</td>\n",
       "    </tr>\n",
       "  </tbody>\n",
       "</table>\n",
       "<p>100 rows × 7 columns</p>\n",
       "</div>"
      ],
      "text/plain": [
       "    log2_hidden_layer_0  log2_hidden_layer_1        lr  batch_size  \\\n",
       "0                     7                    4  0.002932         180   \n",
       "1                     6                    5  0.009706         720   \n",
       "2                     5                    4  0.004277          30   \n",
       "3                     6                    5  0.003352         720   \n",
       "4                     3                    3  0.008530         180   \n",
       "..                  ...                  ...       ...         ...   \n",
       "95                    7                    6  0.001658         720   \n",
       "96                    3                    3  0.000132         360   \n",
       "97                    7                    3  0.000396         120   \n",
       "98                    3                    2  0.000112         360   \n",
       "99                    4                    3  0.000580         360   \n",
       "\n",
       "    num_epochs     value    cv_std  \n",
       "0            5 -1.000000  0.000000  \n",
       "1           10 -1.000000  0.000000  \n",
       "2            5 -1.000000  0.000000  \n",
       "3           10  0.079112  0.014471  \n",
       "4            5  0.010944  0.020892  \n",
       "..         ...       ...       ...  \n",
       "95           5  0.093422  0.070914  \n",
       "96           5  0.075021  0.074917  \n",
       "97          15  0.052169  0.081720  \n",
       "98           5  0.153897  0.082803  \n",
       "99          15  0.114500  0.111337  \n",
       "\n",
       "[100 rows x 7 columns]"
      ]
     },
     "execution_count": 37,
     "metadata": {},
     "output_type": "execute_result"
    }
   ],
   "source": [
    "study_df.sort_values(\"cv_std\", ignore_index=True)"
   ]
  },
  {
   "cell_type": "code",
   "execution_count": 47,
   "id": "e53234b1",
   "metadata": {},
   "outputs": [
    {
     "data": {
      "text/html": [
       "<div>\n",
       "<style scoped>\n",
       "    .dataframe tbody tr th:only-of-type {\n",
       "        vertical-align: middle;\n",
       "    }\n",
       "\n",
       "    .dataframe tbody tr th {\n",
       "        vertical-align: top;\n",
       "    }\n",
       "\n",
       "    .dataframe thead th {\n",
       "        text-align: right;\n",
       "    }\n",
       "</style>\n",
       "<table border=\"1\" class=\"dataframe\">\n",
       "  <thead>\n",
       "    <tr style=\"text-align: right;\">\n",
       "      <th></th>\n",
       "      <th>log2_hidden_layer_0</th>\n",
       "      <th>log2_hidden_layer_1</th>\n",
       "      <th>lr</th>\n",
       "      <th>batch_size</th>\n",
       "      <th>num_epochs</th>\n",
       "      <th>value</th>\n",
       "      <th>cv_std</th>\n",
       "    </tr>\n",
       "  </thead>\n",
       "  <tbody>\n",
       "    <tr>\n",
       "      <th>0</th>\n",
       "      <td>6</td>\n",
       "      <td>5</td>\n",
       "      <td>0.000336</td>\n",
       "      <td>360</td>\n",
       "      <td>5</td>\n",
       "      <td>0.165849</td>\n",
       "      <td>0.027990</td>\n",
       "    </tr>\n",
       "    <tr>\n",
       "      <th>1</th>\n",
       "      <td>7</td>\n",
       "      <td>5</td>\n",
       "      <td>0.000509</td>\n",
       "      <td>360</td>\n",
       "      <td>5</td>\n",
       "      <td>0.142034</td>\n",
       "      <td>0.029445</td>\n",
       "    </tr>\n",
       "    <tr>\n",
       "      <th>2</th>\n",
       "      <td>5</td>\n",
       "      <td>4</td>\n",
       "      <td>0.000339</td>\n",
       "      <td>60</td>\n",
       "      <td>5</td>\n",
       "      <td>0.125948</td>\n",
       "      <td>0.028477</td>\n",
       "    </tr>\n",
       "    <tr>\n",
       "      <th>3</th>\n",
       "      <td>6</td>\n",
       "      <td>5</td>\n",
       "      <td>0.003352</td>\n",
       "      <td>720</td>\n",
       "      <td>10</td>\n",
       "      <td>0.079112</td>\n",
       "      <td>0.014471</td>\n",
       "    </tr>\n",
       "    <tr>\n",
       "      <th>4</th>\n",
       "      <td>7</td>\n",
       "      <td>6</td>\n",
       "      <td>0.001192</td>\n",
       "      <td>30</td>\n",
       "      <td>10</td>\n",
       "      <td>0.057030</td>\n",
       "      <td>0.025138</td>\n",
       "    </tr>\n",
       "    <tr>\n",
       "      <th>5</th>\n",
       "      <td>2</td>\n",
       "      <td>2</td>\n",
       "      <td>0.000107</td>\n",
       "      <td>360</td>\n",
       "      <td>10</td>\n",
       "      <td>0.042043</td>\n",
       "      <td>0.028826</td>\n",
       "    </tr>\n",
       "    <tr>\n",
       "      <th>6</th>\n",
       "      <td>4</td>\n",
       "      <td>4</td>\n",
       "      <td>0.007916</td>\n",
       "      <td>120</td>\n",
       "      <td>10</td>\n",
       "      <td>0.042009</td>\n",
       "      <td>0.029304</td>\n",
       "    </tr>\n",
       "    <tr>\n",
       "      <th>7</th>\n",
       "      <td>3</td>\n",
       "      <td>3</td>\n",
       "      <td>0.008530</td>\n",
       "      <td>180</td>\n",
       "      <td>5</td>\n",
       "      <td>0.010944</td>\n",
       "      <td>0.020892</td>\n",
       "    </tr>\n",
       "    <tr>\n",
       "      <th>8</th>\n",
       "      <td>7</td>\n",
       "      <td>4</td>\n",
       "      <td>0.002932</td>\n",
       "      <td>180</td>\n",
       "      <td>5</td>\n",
       "      <td>-1.000000</td>\n",
       "      <td>0.000000</td>\n",
       "    </tr>\n",
       "    <tr>\n",
       "      <th>9</th>\n",
       "      <td>5</td>\n",
       "      <td>4</td>\n",
       "      <td>0.004277</td>\n",
       "      <td>30</td>\n",
       "      <td>5</td>\n",
       "      <td>-1.000000</td>\n",
       "      <td>0.000000</td>\n",
       "    </tr>\n",
       "    <tr>\n",
       "      <th>10</th>\n",
       "      <td>6</td>\n",
       "      <td>5</td>\n",
       "      <td>0.009706</td>\n",
       "      <td>720</td>\n",
       "      <td>10</td>\n",
       "      <td>-1.000000</td>\n",
       "      <td>0.000000</td>\n",
       "    </tr>\n",
       "  </tbody>\n",
       "</table>\n",
       "</div>"
      ],
      "text/plain": [
       "    log2_hidden_layer_0  log2_hidden_layer_1        lr  batch_size  \\\n",
       "0                     6                    5  0.000336         360   \n",
       "1                     7                    5  0.000509         360   \n",
       "2                     5                    4  0.000339          60   \n",
       "3                     6                    5  0.003352         720   \n",
       "4                     7                    6  0.001192          30   \n",
       "5                     2                    2  0.000107         360   \n",
       "6                     4                    4  0.007916         120   \n",
       "7                     3                    3  0.008530         180   \n",
       "8                     7                    4  0.002932         180   \n",
       "9                     5                    4  0.004277          30   \n",
       "10                    6                    5  0.009706         720   \n",
       "\n",
       "    num_epochs     value    cv_std  \n",
       "0            5  0.165849  0.027990  \n",
       "1            5  0.142034  0.029445  \n",
       "2            5  0.125948  0.028477  \n",
       "3           10  0.079112  0.014471  \n",
       "4           10  0.057030  0.025138  \n",
       "5           10  0.042043  0.028826  \n",
       "6           10  0.042009  0.029304  \n",
       "7            5  0.010944  0.020892  \n",
       "8            5 -1.000000  0.000000  \n",
       "9            5 -1.000000  0.000000  \n",
       "10          10 -1.000000  0.000000  "
      ]
     },
     "execution_count": 47,
     "metadata": {},
     "output_type": "execute_result"
    }
   ],
   "source": [
    "study_df[study_df[\"cv_std\"] <= 0.03].sort_values(\"value\", ignore_index=True, ascending=False).head(50)"
   ]
  },
  {
   "cell_type": "code",
   "execution_count": 44,
   "id": "2968e7bb",
   "metadata": {},
   "outputs": [
    {
     "data": {
      "text/plain": [
       "<Axes: xlabel='value', ylabel='cv_std'>"
      ]
     },
     "execution_count": 44,
     "metadata": {},
     "output_type": "execute_result"
    },
    {
     "data": {
      "image/png": "[encoded data removed]",
      "text/plain": [
       "<Figure size 640x480 with 1 Axes>"
      ]
     },
     "metadata": {},
     "output_type": "display_data"
    }
   ],
   "source": [
    "sns.scatterplot(study_df[study_df[\"value\"] != -1], x = \"value\", y = \"cv_std\")"
   ]
  },
  {
   "cell_type": "code",
   "execution_count": 49,
   "id": "04645e00",
   "metadata": {},
   "outputs": [
    {
     "data": {
      "text/html": [
       "<div>\n",
       "<style scoped>\n",
       "    .dataframe tbody tr th:only-of-type {\n",
       "        vertical-align: middle;\n",
       "    }\n",
       "\n",
       "    .dataframe tbody tr th {\n",
       "        vertical-align: top;\n",
       "    }\n",
       "\n",
       "    .dataframe thead th {\n",
       "        text-align: right;\n",
       "    }\n",
       "</style>\n",
       "<table border=\"1\" class=\"dataframe\">\n",
       "  <thead>\n",
       "    <tr style=\"text-align: right;\">\n",
       "      <th></th>\n",
       "      <th>log2_hidden_layer_0</th>\n",
       "      <th>log2_hidden_layer_1</th>\n",
       "      <th>lr</th>\n",
       "      <th>batch_size</th>\n",
       "      <th>num_epochs</th>\n",
       "      <th>value</th>\n",
       "      <th>cv_std</th>\n",
       "      <th>adj_value</th>\n",
       "    </tr>\n",
       "  </thead>\n",
       "  <tbody>\n",
       "    <tr>\n",
       "      <th>0</th>\n",
       "      <td>6</td>\n",
       "      <td>5</td>\n",
       "      <td>0.000336</td>\n",
       "      <td>360</td>\n",
       "      <td>5</td>\n",
       "      <td>0.165849</td>\n",
       "      <td>0.027990</td>\n",
       "      <td>0.109869</td>\n",
       "    </tr>\n",
       "    <tr>\n",
       "      <th>1</th>\n",
       "      <td>6</td>\n",
       "      <td>5</td>\n",
       "      <td>0.000299</td>\n",
       "      <td>360</td>\n",
       "      <td>5</td>\n",
       "      <td>0.170981</td>\n",
       "      <td>0.032682</td>\n",
       "      <td>0.105618</td>\n",
       "    </tr>\n",
       "    <tr>\n",
       "      <th>2</th>\n",
       "      <td>5</td>\n",
       "      <td>4</td>\n",
       "      <td>0.000290</td>\n",
       "      <td>360</td>\n",
       "      <td>5</td>\n",
       "      <td>0.174063</td>\n",
       "      <td>0.036701</td>\n",
       "      <td>0.100661</td>\n",
       "    </tr>\n",
       "    <tr>\n",
       "      <th>3</th>\n",
       "      <td>5</td>\n",
       "      <td>4</td>\n",
       "      <td>0.000114</td>\n",
       "      <td>360</td>\n",
       "      <td>10</td>\n",
       "      <td>0.183362</td>\n",
       "      <td>0.042009</td>\n",
       "      <td>0.099345</td>\n",
       "    </tr>\n",
       "    <tr>\n",
       "      <th>4</th>\n",
       "      <td>5</td>\n",
       "      <td>2</td>\n",
       "      <td>0.000397</td>\n",
       "      <td>360</td>\n",
       "      <td>5</td>\n",
       "      <td>0.175470</td>\n",
       "      <td>0.038064</td>\n",
       "      <td>0.099342</td>\n",
       "    </tr>\n",
       "    <tr>\n",
       "      <th>5</th>\n",
       "      <td>6</td>\n",
       "      <td>5</td>\n",
       "      <td>0.000169</td>\n",
       "      <td>120</td>\n",
       "      <td>5</td>\n",
       "      <td>0.171040</td>\n",
       "      <td>0.036663</td>\n",
       "      <td>0.097715</td>\n",
       "    </tr>\n",
       "    <tr>\n",
       "      <th>6</th>\n",
       "      <td>6</td>\n",
       "      <td>5</td>\n",
       "      <td>0.000166</td>\n",
       "      <td>720</td>\n",
       "      <td>10</td>\n",
       "      <td>0.183313</td>\n",
       "      <td>0.043062</td>\n",
       "      <td>0.097189</td>\n",
       "    </tr>\n",
       "    <tr>\n",
       "      <th>7</th>\n",
       "      <td>5</td>\n",
       "      <td>4</td>\n",
       "      <td>0.000254</td>\n",
       "      <td>360</td>\n",
       "      <td>5</td>\n",
       "      <td>0.176728</td>\n",
       "      <td>0.039800</td>\n",
       "      <td>0.097129</td>\n",
       "    </tr>\n",
       "    <tr>\n",
       "      <th>8</th>\n",
       "      <td>6</td>\n",
       "      <td>5</td>\n",
       "      <td>0.000208</td>\n",
       "      <td>360</td>\n",
       "      <td>15</td>\n",
       "      <td>0.179390</td>\n",
       "      <td>0.041284</td>\n",
       "      <td>0.096821</td>\n",
       "    </tr>\n",
       "    <tr>\n",
       "      <th>9</th>\n",
       "      <td>6</td>\n",
       "      <td>5</td>\n",
       "      <td>0.000157</td>\n",
       "      <td>720</td>\n",
       "      <td>10</td>\n",
       "      <td>0.183931</td>\n",
       "      <td>0.043669</td>\n",
       "      <td>0.096594</td>\n",
       "    </tr>\n",
       "    <tr>\n",
       "      <th>10</th>\n",
       "      <td>5</td>\n",
       "      <td>4</td>\n",
       "      <td>0.000210</td>\n",
       "      <td>360</td>\n",
       "      <td>5</td>\n",
       "      <td>0.182669</td>\n",
       "      <td>0.043069</td>\n",
       "      <td>0.096531</td>\n",
       "    </tr>\n",
       "    <tr>\n",
       "      <th>11</th>\n",
       "      <td>6</td>\n",
       "      <td>5</td>\n",
       "      <td>0.000155</td>\n",
       "      <td>720</td>\n",
       "      <td>10</td>\n",
       "      <td>0.183977</td>\n",
       "      <td>0.043927</td>\n",
       "      <td>0.096123</td>\n",
       "    </tr>\n",
       "    <tr>\n",
       "      <th>12</th>\n",
       "      <td>6</td>\n",
       "      <td>5</td>\n",
       "      <td>0.000118</td>\n",
       "      <td>60</td>\n",
       "      <td>5</td>\n",
       "      <td>0.170312</td>\n",
       "      <td>0.037100</td>\n",
       "      <td>0.096112</td>\n",
       "    </tr>\n",
       "    <tr>\n",
       "      <th>13</th>\n",
       "      <td>4</td>\n",
       "      <td>3</td>\n",
       "      <td>0.002637</td>\n",
       "      <td>720</td>\n",
       "      <td>5</td>\n",
       "      <td>0.168602</td>\n",
       "      <td>0.036395</td>\n",
       "      <td>0.095812</td>\n",
       "    </tr>\n",
       "    <tr>\n",
       "      <th>14</th>\n",
       "      <td>6</td>\n",
       "      <td>5</td>\n",
       "      <td>0.000115</td>\n",
       "      <td>720</td>\n",
       "      <td>10</td>\n",
       "      <td>0.186131</td>\n",
       "      <td>0.045384</td>\n",
       "      <td>0.095363</td>\n",
       "    </tr>\n",
       "    <tr>\n",
       "      <th>15</th>\n",
       "      <td>6</td>\n",
       "      <td>5</td>\n",
       "      <td>0.000114</td>\n",
       "      <td>720</td>\n",
       "      <td>10</td>\n",
       "      <td>0.186183</td>\n",
       "      <td>0.045433</td>\n",
       "      <td>0.095318</td>\n",
       "    </tr>\n",
       "    <tr>\n",
       "      <th>16</th>\n",
       "      <td>6</td>\n",
       "      <td>5</td>\n",
       "      <td>0.000114</td>\n",
       "      <td>720</td>\n",
       "      <td>10</td>\n",
       "      <td>0.186172</td>\n",
       "      <td>0.045427</td>\n",
       "      <td>0.095317</td>\n",
       "    </tr>\n",
       "    <tr>\n",
       "      <th>17</th>\n",
       "      <td>6</td>\n",
       "      <td>5</td>\n",
       "      <td>0.000141</td>\n",
       "      <td>720</td>\n",
       "      <td>10</td>\n",
       "      <td>0.184091</td>\n",
       "      <td>0.044405</td>\n",
       "      <td>0.095281</td>\n",
       "    </tr>\n",
       "    <tr>\n",
       "      <th>18</th>\n",
       "      <td>6</td>\n",
       "      <td>5</td>\n",
       "      <td>0.000113</td>\n",
       "      <td>720</td>\n",
       "      <td>10</td>\n",
       "      <td>0.186224</td>\n",
       "      <td>0.045518</td>\n",
       "      <td>0.095188</td>\n",
       "    </tr>\n",
       "    <tr>\n",
       "      <th>19</th>\n",
       "      <td>6</td>\n",
       "      <td>5</td>\n",
       "      <td>0.000113</td>\n",
       "      <td>720</td>\n",
       "      <td>10</td>\n",
       "      <td>0.186207</td>\n",
       "      <td>0.045515</td>\n",
       "      <td>0.095178</td>\n",
       "    </tr>\n",
       "    <tr>\n",
       "      <th>20</th>\n",
       "      <td>6</td>\n",
       "      <td>5</td>\n",
       "      <td>0.000133</td>\n",
       "      <td>720</td>\n",
       "      <td>10</td>\n",
       "      <td>0.184627</td>\n",
       "      <td>0.044728</td>\n",
       "      <td>0.095171</td>\n",
       "    </tr>\n",
       "    <tr>\n",
       "      <th>21</th>\n",
       "      <td>6</td>\n",
       "      <td>5</td>\n",
       "      <td>0.000111</td>\n",
       "      <td>720</td>\n",
       "      <td>10</td>\n",
       "      <td>0.186322</td>\n",
       "      <td>0.045579</td>\n",
       "      <td>0.095164</td>\n",
       "    </tr>\n",
       "    <tr>\n",
       "      <th>22</th>\n",
       "      <td>6</td>\n",
       "      <td>5</td>\n",
       "      <td>0.000112</td>\n",
       "      <td>720</td>\n",
       "      <td>10</td>\n",
       "      <td>0.186299</td>\n",
       "      <td>0.045571</td>\n",
       "      <td>0.095157</td>\n",
       "    </tr>\n",
       "    <tr>\n",
       "      <th>23</th>\n",
       "      <td>6</td>\n",
       "      <td>5</td>\n",
       "      <td>0.000113</td>\n",
       "      <td>720</td>\n",
       "      <td>10</td>\n",
       "      <td>0.186186</td>\n",
       "      <td>0.045515</td>\n",
       "      <td>0.095155</td>\n",
       "    </tr>\n",
       "    <tr>\n",
       "      <th>24</th>\n",
       "      <td>6</td>\n",
       "      <td>5</td>\n",
       "      <td>0.000135</td>\n",
       "      <td>720</td>\n",
       "      <td>10</td>\n",
       "      <td>0.184503</td>\n",
       "      <td>0.044703</td>\n",
       "      <td>0.095098</td>\n",
       "    </tr>\n",
       "    <tr>\n",
       "      <th>25</th>\n",
       "      <td>6</td>\n",
       "      <td>5</td>\n",
       "      <td>0.000110</td>\n",
       "      <td>720</td>\n",
       "      <td>10</td>\n",
       "      <td>0.186376</td>\n",
       "      <td>0.045648</td>\n",
       "      <td>0.095079</td>\n",
       "    </tr>\n",
       "    <tr>\n",
       "      <th>26</th>\n",
       "      <td>6</td>\n",
       "      <td>5</td>\n",
       "      <td>0.000187</td>\n",
       "      <td>360</td>\n",
       "      <td>5</td>\n",
       "      <td>0.182200</td>\n",
       "      <td>0.043990</td>\n",
       "      <td>0.094221</td>\n",
       "    </tr>\n",
       "    <tr>\n",
       "      <th>27</th>\n",
       "      <td>6</td>\n",
       "      <td>5</td>\n",
       "      <td>0.000101</td>\n",
       "      <td>720</td>\n",
       "      <td>10</td>\n",
       "      <td>0.186903</td>\n",
       "      <td>0.046392</td>\n",
       "      <td>0.094119</td>\n",
       "    </tr>\n",
       "    <tr>\n",
       "      <th>28</th>\n",
       "      <td>6</td>\n",
       "      <td>5</td>\n",
       "      <td>0.000100</td>\n",
       "      <td>720</td>\n",
       "      <td>10</td>\n",
       "      <td>0.186924</td>\n",
       "      <td>0.046418</td>\n",
       "      <td>0.094089</td>\n",
       "    </tr>\n",
       "    <tr>\n",
       "      <th>29</th>\n",
       "      <td>6</td>\n",
       "      <td>5</td>\n",
       "      <td>0.000127</td>\n",
       "      <td>720</td>\n",
       "      <td>15</td>\n",
       "      <td>0.182756</td>\n",
       "      <td>0.044431</td>\n",
       "      <td>0.093895</td>\n",
       "    </tr>\n",
       "  </tbody>\n",
       "</table>\n",
       "</div>"
      ],
      "text/plain": [
       "    log2_hidden_layer_0  log2_hidden_layer_1        lr  batch_size  \\\n",
       "0                     6                    5  0.000336         360   \n",
       "1                     6                    5  0.000299         360   \n",
       "2                     5                    4  0.000290         360   \n",
       "3                     5                    4  0.000114         360   \n",
       "4                     5                    2  0.000397         360   \n",
       "5                     6                    5  0.000169         120   \n",
       "6                     6                    5  0.000166         720   \n",
       "7                     5                    4  0.000254         360   \n",
       "8                     6                    5  0.000208         360   \n",
       "9                     6                    5  0.000157         720   \n",
       "10                    5                    4  0.000210         360   \n",
       "11                    6                    5  0.000155         720   \n",
       "12                    6                    5  0.000118          60   \n",
       "13                    4                    3  0.002637         720   \n",
       "14                    6                    5  0.000115         720   \n",
       "15                    6                    5  0.000114         720   \n",
       "16                    6                    5  0.000114         720   \n",
       "17                    6                    5  0.000141         720   \n",
       "18                    6                    5  0.000113         720   \n",
       "19                    6                    5  0.000113         720   \n",
       "20                    6                    5  0.000133         720   \n",
       "21                    6                    5  0.000111         720   \n",
       "22                    6                    5  0.000112         720   \n",
       "23                    6                    5  0.000113         720   \n",
       "24                    6                    5  0.000135         720   \n",
       "25                    6                    5  0.000110         720   \n",
       "26                    6                    5  0.000187         360   \n",
       "27                    6                    5  0.000101         720   \n",
       "28                    6                    5  0.000100         720   \n",
       "29                    6                    5  0.000127         720   \n",
       "\n",
       "    num_epochs     value    cv_std  adj_value  \n",
       "0            5  0.165849  0.027990   0.109869  \n",
       "1            5  0.170981  0.032682   0.105618  \n",
       "2            5  0.174063  0.036701   0.100661  \n",
       "3           10  0.183362  0.042009   0.099345  \n",
       "4            5  0.175470  0.038064   0.099342  \n",
       "5            5  0.171040  0.036663   0.097715  \n",
       "6           10  0.183313  0.043062   0.097189  \n",
       "7            5  0.176728  0.039800   0.097129  \n",
       "8           15  0.179390  0.041284   0.096821  \n",
       "9           10  0.183931  0.043669   0.096594  \n",
       "10           5  0.182669  0.043069   0.096531  \n",
       "11          10  0.183977  0.043927   0.096123  \n",
       "12           5  0.170312  0.037100   0.096112  \n",
       "13           5  0.168602  0.036395   0.095812  \n",
       "14          10  0.186131  0.045384   0.095363  \n",
       "15          10  0.186183  0.045433   0.095318  \n",
       "16          10  0.186172  0.045427   0.095317  \n",
       "17          10  0.184091  0.044405   0.095281  \n",
       "18          10  0.186224  0.045518   0.095188  \n",
       "19          10  0.186207  0.045515   0.095178  \n",
       "20          10  0.184627  0.044728   0.095171  \n",
       "21          10  0.186322  0.045579   0.095164  \n",
       "22          10  0.186299  0.045571   0.095157  \n",
       "23          10  0.186186  0.045515   0.095155  \n",
       "24          10  0.184503  0.044703   0.095098  \n",
       "25          10  0.186376  0.045648   0.095079  \n",
       "26           5  0.182200  0.043990   0.094221  \n",
       "27          10  0.186903  0.046392   0.094119  \n",
       "28          10  0.186924  0.046418   0.094089  \n",
       "29          15  0.182756  0.044431   0.093895  "
      ]
     },
     "execution_count": 49,
     "metadata": {},
     "output_type": "execute_result"
    }
   ],
   "source": [
    "study_df[\"adj_value\"] = study_df[\"value\"] - 2 * study_df[\"cv_std\"]\n",
    "study_df.sort_values(\"adj_value\", ascending=False, ignore_index=True).head(30)"
   ]
  },
  {
   "cell_type": "markdown",
   "id": "ebe6402c",
   "metadata": {},
   "source": [
    "#### Twelth Trial: AE-MLP but MLP step is concat of good features + AE features"
   ]
  },
  {
   "cell_type": "code",
   "execution_count": null,
   "id": "a3694815",
   "metadata": {},
   "outputs": [],
   "source": [
    "# Custom function for batch iteration\n",
    "def batch_iterate_with_concat(batch_size, X, Y, X_good, shuffle = True):\n",
    "    for i in range(0, Y.size, batch_size):\n",
    "        X_curr = X[i: min(i + batch_size, Y.size), :]\n",
    "        Y_curr = Y[i: min(i + batch_size, Y.size)]\n",
    "        X_good_curr = X_good[i: min(i + batch_size, Y.size), :]\n",
    "        if shuffle:\n",
    "            inx_lst = mx.random.permutation(batch_size)\n",
    "            X_curr = X_curr[inx_lst, :]\n",
    "            Y_curr = Y_curr[inx_lst]\n",
    "            X_good_curr = X_good_curr[inx_lst, :]\n",
    "        yield X_curr, Y_curr, X_good_curr"
   ]
  },
  {
   "cell_type": "code",
   "execution_count": null,
   "id": "f45b0184",
   "metadata": {},
   "outputs": [],
   "source": [
    "# Separate function for train & eval step\n",
    "def train_aemlp_mlx_with_concat(ae_model, ae_loss_and_grad_fn, ae_optimizer, ae_num_epochs,\n",
    "                                mlp_model, mlp_loss_and_grad_fn, mlp_optimizer, mlp_num_epochs,\n",
    "                                X_train, Y_train, X_train_good, batch_size):\n",
    "    # Train ae first\n",
    "    ae_model.train()\n",
    "    for _ in tqdm(range(ae_num_epochs)):\n",
    "        for (inputs, targets) in batch_iterate(batch_size, X_train, Y_train):\n",
    "            # get gradients for ae, output is the inputs itself\n",
    "            _, ae_grads = ae_loss_and_grad_fn(ae_model, inputs, inputs)\n",
    "\n",
    "            # Update the optimizer state and model parameters in a single call\n",
    "            ae_optimizer.update(ae_model, ae_grads)\n",
    "\n",
    "            # Force a graph evaluation\n",
    "            mx.eval(ae_model.parameters(), ae_optimizer.state)\n",
    "\n",
    "    # Train mlp later\n",
    "    mlp_model.train()\n",
    "    for _ in tqdm(range(mlp_num_epochs)):\n",
    "        for (inputs, targets, inputs_good) in batch_iterate_with_concat(batch_size, X_train, Y_train, X_train_good):\n",
    "            # get the latent representation for X_train\n",
    "            latent_inputs = ae_model.get_latent(inputs)\n",
    "            used_inputs = mx.concatenate([inputs_good, latent_inputs], axis=1)\n",
    "            # get gradients for mlp\n",
    "            _, mlp_grads = mlp_loss_and_grad_fn(mlp_model, used_inputs, targets)\n",
    "\n",
    "            # Update the optimizer state and model parameters in a single call\n",
    "            mlp_optimizer.update(mlp_model, mlp_grads)\n",
    "\n",
    "            # Force a graph evaluation\n",
    "            mx.eval(mlp_model.parameters(), mlp_optimizer.state)\n",
    "\n",
    "    # # Train ae and mlp together\n",
    "    # ae_model.train()\n",
    "    # mlp_model.train()\n",
    "    # for _ in tqdm(range(ae_num_epochs)):\n",
    "    #     for (inputs, targets) in batch_iterate(batch_size, X_train, Y_train):\n",
    "    #         # get gradients for ae, output is the inputs itself\n",
    "    #         _, ae_grads = ae_loss_and_grad_fn(ae_model, inputs, inputs)\n",
    "\n",
    "    #         # Update the optimizer state and model parameters in a single call\n",
    "    #         ae_optimizer.update(ae_model, ae_grads)\n",
    "\n",
    "    #         # Force a graph evaluation\n",
    "    #         mx.eval(ae_model.parameters(), ae_optimizer.state)\n",
    "\n",
    "    #         # get gradients for mlp\n",
    "    #         latent_inputs = ae_model.get_latent(inputs)\n",
    "    #         used_inputs = mx.concatenate([inputs, latent_inputs], axis=1)\n",
    "    #         _, mlp_grads = mlp_loss_and_grad_fn(mlp_model, used_inputs, targets)\n",
    "\n",
    "    #         # Update the optimizer state and model parameters in a single call\n",
    "    #         mlp_optimizer.update(mlp_model, mlp_grads)\n",
    "\n",
    "    #         # Force a graph evaluation\n",
    "    #         mx.eval(mlp_model.parameters(), mlp_optimizer.state)\n",
    "\n",
    "def eval_aemlp_mlx_with_concat(ae_model, mlp_model, X_test, Y_test, X_test_good, batch_size):\n",
    "    outputs_all = np.zeros(0)\n",
    "    targets_all = np.zeros(0)\n",
    "    ae_model.eval()\n",
    "    mlp_model.eval()\n",
    "    for (inputs, targets, inputs_good) in batch_iterate_with_concat(batch_size, X_test, Y_test, X_test_good, shuffle=False):\n",
    "        latent_inputs = ae_model.get_latent(inputs)\n",
    "        used_inputs = mx.concatenate([inputs_good, latent_inputs], axis=1)\n",
    "        outputs = mlp_model(used_inputs).reshape(-1)\n",
    "        # convert back to numpy\n",
    "        outputs, targets = np.array(outputs), np.array(targets)\n",
    "        # Load to overall Y_test, Y_pred to calculate pearson score later\n",
    "        outputs_all = np.concatenate([outputs_all, outputs])\n",
    "        targets_all = np.concatenate([targets_all, targets])\n",
    "    return pearson_score(targets_all, outputs_all)"
   ]
  },
  {
   "cell_type": "code",
   "execution_count": null,
   "id": "0f133767",
   "metadata": {},
   "outputs": [],
   "source": [
    "def train_eval_cv_mlx_aemlp_with_concat(num_features, ae_hidden_layers_size, ae_latent_size, ae_dropout, ae_lr, ae_num_epochs,\n",
    "                                        mlp_hidden_layers_size, mlp_dropout, mlp_lr, mlp_num_epochs,\n",
    "                                        cv, X_train_arr, X_test_arr, Y_train_arr, Y_test_arr, \n",
    "                                        X_train_good_arr, X_test_good_arr, batch_size):\n",
    "    cv_pearson = 0\n",
    "    for _, (X_train, X_test, Y_train, Y_test, X_train_good, X_test_good) in enumerate(zip(X_train_arr, X_test_arr, Y_train_arr, Y_test_arr, X_train_good_arr, X_test_good_arr)):\n",
    "        # initialize the model\n",
    "        mx.random.seed(default_random_state)\n",
    "        ae_model = AEMLX(num_features, ae_hidden_layers_size, ae_latent_size, ae_dropout)\n",
    "\n",
    "        mx.random.seed(default_random_state)\n",
    "        mlp_model = MLPMLX(ae_latent_size + X_train_good.shape[1], mlp_hidden_layers_size, mlp_dropout)\n",
    "\n",
    "        # Initialize the loss function (both use same loss function)\n",
    "        def loss_fn(model, X, Y):\n",
    "            Y_pred = model(X).reshape(-1)\n",
    "            Y = Y.reshape(-1)\n",
    "            return mx.mean(nnmx.losses.mse_loss(Y_pred, Y))\n",
    "        ae_loss_and_grad_fn = nnmx.value_and_grad(ae_model, loss_fn)\n",
    "        mlp_loss_and_grad_fn = nnmx.value_and_grad(mlp_model, loss_fn)\n",
    "\n",
    "        # Reinitialize the optimizer\n",
    "        ae_optimizer = optimmx.Adam(learning_rate = ae_lr)\n",
    "        mlp_optimizer = optimmx.Adam(learning_rate = mlp_lr)\n",
    "\n",
    "        # Train the model\n",
    "        train_aemlp_mlx_with_concat(ae_model, ae_loss_and_grad_fn, ae_optimizer, ae_num_epochs,\n",
    "                                    mlp_model, mlp_loss_and_grad_fn, mlp_optimizer, mlp_num_epochs,\n",
    "                                    X_train, Y_train, X_train_good, batch_size)\n",
    "\n",
    "        # Test the model\n",
    "        pearson = eval_aemlp_mlx_with_concat(ae_model, mlp_model, X_test, Y_test, X_test_good, batch_size)\n",
    "        print(pearson)\n",
    "        if pearson == -1:\n",
    "            return pearson\n",
    "        cv_pearson += pearson\n",
    "    return cv_pearson / cv"
   ]
  },
  {
   "cell_type": "code",
   "execution_count": null,
   "id": "f875b414",
   "metadata": {},
   "outputs": [],
   "source": [
    "def objective_aemlp_mlx_with_concat(trial):\n",
    "    # First initialize the parameters\n",
    "    num_features = len(best_features)\n",
    "\n",
    "    # initialize ae layers\n",
    "    ae_num_layers = ae_default_num_layers\n",
    "    ae_log_2_hidden_layers_size = []\n",
    "    for i in range(ae_num_layers):\n",
    "        if len(ae_log_2_hidden_layers_size) == 0:\n",
    "            ae_log_2_hidden_layers_size.append(trial.suggest_int(f\"ae_log2_hidden_layer_{i}\", 3, int(math.ceil(math.log2(num_features)))))\n",
    "        else:\n",
    "            ae_log_2_hidden_layers_size.append(trial.suggest_int(f\"ae_log2_hidden_layer_{i}\", 3, ae_log_2_hidden_layers_size[-1]))\n",
    "    ae_hidden_layers_size = [2**i for i in ae_log_2_hidden_layers_size]\n",
    "    ae_latent_size = 2**trial.suggest_int(\"ae_log2_latent_size\", 3, ae_log_2_hidden_layers_size[-1])\n",
    "    ae_dropout = trial.suggest_categorical(\"ae_dropout\", [0.2, 0.3, 0.4, 0.5, 0.6, 0.7])\n",
    "    ae_lr = trial.suggest_float(\"ae_lr\", 0.0001, 0.01, log=True)\n",
    "    ae_num_epochs = trial.suggest_categorical(\"num_epochs\", [10, 20, 30, 40, 50])\n",
    "\n",
    "    # initialize mlp layers\n",
    "    mlp_num_layers = mlp_default_num_layers\n",
    "    mlp_log_2_hidden_layers_size = []\n",
    "    for i in range(mlp_num_layers):\n",
    "        if len(mlp_log_2_hidden_layers_size) == 0:\n",
    "            mlp_log_2_hidden_layers_size.append(trial.suggest_int(f\"mlp_log2_hidden_layer_{i}\", 2, int(math.ceil(math.log2(ae_latent_size + num_features)))))\n",
    "        else:\n",
    "            mlp_log_2_hidden_layers_size.append(trial.suggest_int(f\"mlp_log2_hidden_layer_{i}\", 2, mlp_log_2_hidden_layers_size[-1]))\n",
    "    mlp_hidden_layers_size = [2**i for i in mlp_log_2_hidden_layers_size]\n",
    "    mlp_dropout = trial.suggest_categorical(\"mlp_dropout\", [0.2, 0.3, 0.4, 0.5, 0.6, 0.7])\n",
    "    mlp_lr = trial.suggest_float(\"mlp_lr\", 0.0001, 0.01, log=True)\n",
    "    # mlp_num_epochs = trial.suggest_categorical(\"mlp_num_epochs\", [10, 20, 30, 40, 50])\n",
    "    mlp_num_epochs = ae_num_epochs\n",
    "\n",
    "    # batch size\n",
    "    batch_size = trial.suggest_categorical(\"batch_size\", [30, 60, 120, 180, 360, 720, 1440])\n",
    "    \n",
    "    # Conduct training based on those parameters\n",
    "    cv_pearson = train_eval_cv_mlx_aemlp_with_concat(num_features, ae_hidden_layers_size, ae_latent_size, ae_dropout, ae_lr, ae_num_epochs,\n",
    "                                                     mlp_hidden_layers_size, mlp_dropout, mlp_lr, mlp_num_epochs,\n",
    "                                                     default_cv, X_train_arr, X_test_arr, Y_train_arr, Y_test_arr,\n",
    "                                                     X_train_good_arr, X_test_good_arr, batch_size)\n",
    "    \n",
    "    return cv_pearson"
   ]
  },
  {
   "cell_type": "code",
   "execution_count": null,
   "id": "a6860752",
   "metadata": {},
   "outputs": [],
   "source": [
    "best_features = [col for col in train_df.columns if \"X\" in col and \"interaction\" not in col]\n",
    "X_train_arr, X_test_arr, Y_train_arr, Y_test_arr = create_cv(train_df, best_features)\n",
    "for i in range(default_cv):\n",
    "    X_train_arr[i] = float64_to_float32(X_train_arr[i])\n",
    "    X_test_arr[i] = float64_to_float32(X_test_arr[i])\n",
    "    Y_train_arr[i] = float64_to_float32(Y_train_arr[i])\n",
    "    Y_test_arr[i] = float64_to_float32(Y_test_arr[i])\n",
    "X_train_arr, X_test_arr, Y_train_arr, Y_test_arr = normal_cv_to_mlx_cv(X_train_arr, X_test_arr, Y_train_arr, Y_test_arr)\n",
    "best_features_good = ['X757', 'X758', 'X759', 'X508', 'X614', 'X752', 'X331', 'X445', 'X465', 'X385', \n",
    "                      'X466', 'X95', 'X23', 'X219', 'X31', 'X373', 'X379', 'X284', 'X750', 'X652', \n",
    "                      'X279', 'X89', 'X169', 'X753', 'X226', 'X28', 'X444', 'X272', 'X271', 'X218']\n",
    "X_train_good_arr, X_test_good_arr, _, _ = create_cv(train_df, best_features_good)\n",
    "for i in range(default_cv):\n",
    "    X_train_good_arr[i] = float64_to_float32(X_train_good_arr[i])\n",
    "    X_test_good_arr[i] = float64_to_float32(X_test_good_arr[i])\n",
    "X_train_good_arr, X_test_good_arr, _, _ = normal_cv_to_mlx_cv(X_train_good_arr, X_test_good_arr)"
   ]
  },
  {
   "cell_type": "code",
   "execution_count": null,
   "id": "02de60b6",
   "metadata": {},
   "outputs": [],
   "source": [
    "ae_default_num_layers = 2\n",
    "mlp_default_num_layers = 1"
   ]
  },
  {
   "cell_type": "code",
   "execution_count": null,
   "id": "4eeb53a1",
   "metadata": {},
   "outputs": [],
   "source": [
    "optimize_aemlp_mlx(\n",
    "    f\"aemlp_mlx_{feature_version}_{default_cv}_{default_random_state}_{ae_default_num_layers}_{mlp_default_num_layers}_with_good_concat_study\",\n",
    "    f\"aemlp_mlx_{feature_version}_{default_cv}_{default_random_state}_{ae_default_num_layers}_{mlp_default_num_layers}_with_good_concat_study\",\n",
    "    objective_function = objective_aemlp_mlx_with_concat\n",
    ")"
   ]
  }
 ],
 "metadata": {
  "kernelspec": {
   "display_name": "venv",
   "language": "python",
   "name": "python3"
  },
  "language_info": {
   "codemirror_mode": {
    "name": "ipython",
    "version": 3
   },
   "file_extension": ".py",
   "mimetype": "text/x-python",
   "name": "python",
   "nbconvert_exporter": "python",
   "pygments_lexer": "ipython3",
   "version": "3.9.6"
  }
 },
 "nbformat": 4,
 "nbformat_minor": 5
}
