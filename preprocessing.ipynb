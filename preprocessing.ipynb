{
 "cells": [
  {
   "cell_type": "code",
   "execution_count": 1,
   "id": "d2619dd5",
   "metadata": {},
   "outputs": [],
   "source": [
    "from tqdm import tqdm\n",
    "from copy import deepcopy\n",
    "import pandas as pd\n",
    "import polars as pl\n",
    "import numpy as np\n",
    "import pickle"
   ]
  },
  {
   "cell_type": "code",
   "execution_count": 2,
   "id": "8ae8c5d7",
   "metadata": {},
   "outputs": [],
   "source": [
    "train_df = pl.read_parquet(\n",
    "    \"data/raw/train.parquet\",\n",
    "    use_pyarrow=True,   \n",
    "    low_memory=True\n",
    ").lazy()"
   ]
  },
  {
   "cell_type": "code",
   "execution_count": 3,
   "id": "46db06df",
   "metadata": {},
   "outputs": [],
   "source": [
    "test_df = pl.read_parquet(\n",
    "    \"data/raw/test.parquet\",\n",
    "    use_pyarrow=True,   \n",
    "    low_memory=True\n",
    ").lazy()"
   ]
  },
  {
   "cell_type": "code",
   "execution_count": 4,
   "id": "f5efa887",
   "metadata": {},
   "outputs": [],
   "source": [
    "with open(\"features/best_pc1_contribution.pkl\", \"rb\") as f:\n",
    "    temp1 = pickle.load(f)\n",
    "with open(\"features/best_label_correlation.pkl\", \"rb\") as f:\n",
    "    temp2 = pickle.load(f)\n",
    "with open(\"features/best_overall.pkl\", \"rb\") as f:\n",
    "    temp3 = pickle.load(f)\n",
    "with open(\"features/best_label_correlation_same_cluster.pkl\", \"rb\") as f:\n",
    "    temp5 = pickle.load(f)"
   ]
  },
  {
   "cell_type": "code",
   "execution_count": 5,
   "id": "11f900e5",
   "metadata": {},
   "outputs": [],
   "source": [
    "added_features = [\n",
    "    'bid_ask_interaction','bid_buy_interaction', 'bid_sell_interaction', \n",
    "    'ask_buy_interaction', 'ask_sell_interaction', 'buy_sell_interaction',\n",
    "    'spread_indicator',\n",
    "    'volume_weighted_buy', 'volume_weighted_sell', 'volume_weighted_bid', 'volume_weighted_ask',\n",
    "    'buy_sell_ratio', 'bid_ask_ratio',\n",
    "    'order_flow_imbalance',\n",
    "    'buying_pressure', 'selling_pressure',\n",
    "    'total_liquidity', 'liquidity_imbalance', 'relative_spread',\n",
    "    'trade_intensity', 'avg_trade_size', 'net_trade_flow',\n",
    "    'depth_ratio', 'volume_participation', 'market_activity',\n",
    "    'effective_spread_proxy', 'realized_volatility_proxy',\n",
    "    'normalized_buy_volume', 'normalized_sell_volume',\n",
    "    'liquidity_adjusted_imbalance', 'pressure_spread_interaction', \n",
    "    'trade_direction_ratio', 'net_buy_volume', 'bid_skew' , 'ask_skew'\n",
    "]\n",
    "\n",
    "def preprocessing(df):\n",
    "    # Add new features based on: https://www.kaggle.com/code/yich723/drw-data-standardization\n",
    "    df = df.with_columns(\n",
    "        # interaction features\n",
    "        (pl.col(\"bid_qty\") * pl.col(\"ask_qty\")).alias(\"bid_ask_interaction\"),\n",
    "        (pl.col(\"bid_qty\") * pl.col(\"buy_qty\")).alias(\"bid_buy_interaction\"),\n",
    "        (pl.col(\"bid_qty\") * pl.col(\"sell_qty\")).alias(\"bid_sell_interaction\"),\n",
    "        (pl.col(\"ask_qty\") * pl.col(\"buy_qty\")).alias(\"ask_buy_interaction\"),\n",
    "        (pl.col(\"ask_qty\") * pl.col(\"sell_qty\")).alias(\"ask_sell_interaction\"),\n",
    "        (pl.col(\"buy_qty\") * pl.col(\"sell_qty\")).alias(\"buy_sell_interaction\"),\n",
    "\n",
    "        # spread features\n",
    "        ((pl.col(\"ask_qty\") - pl.col(\"bid_qty\")) / (pl.col(\"ask_qty\") + pl.col(\"bid_qty\")) + 1e-8).alias(\"spread_indicator\"),\n",
    "\n",
    "        # volume weighted features\n",
    "        (pl.col(\"buy_qty\") * pl.col(\"volume\")).alias(\"volume_weighted_buy\"),\n",
    "        (pl.col(\"sell_qty\") * pl.col(\"volume\")).alias(\"volume_weighted_sell\"),\n",
    "        (pl.col(\"bid_qty\") * pl.col(\"volume\")).alias(\"volume_weighted_bid\"),\n",
    "        (pl.col(\"ask_qty\") * pl.col(\"volume\")).alias(\"volume_weighted_ask\"),\n",
    "\n",
    "        # buy/sell and bid/ask ratios\n",
    "        (pl.col(\"buy_qty\") / (pl.col(\"sell_qty\") + 1e-8)).alias(\"buy_sell_ratio\"),\n",
    "        (pl.col(\"bid_qty\") / (pl.col(\"ask_qty\") + 1e-8)).alias(\"bid_ask_ratio\"),\n",
    "\n",
    "        # order flow imbalance\n",
    "        ((pl.col(\"buy_qty\") - pl.col(\"sell_qty\")) / (pl.col(\"volume\") + 1e-8)).alias(\"order_flow_imbalance\"),\n",
    "\n",
    "        # buying and selling pressure\n",
    "        (pl.col(\"buy_qty\") / (pl.col(\"volume\") + 1e-8)).alias(\"buying_pressure\"),\n",
    "        (pl.col(\"sell_qty\") / (pl.col(\"volume\") + 1e-8)).alias(\"selling_pressure\"),\n",
    "\n",
    "        # liquidity features\n",
    "        (pl.col(\"bid_qty\") + pl.col(\"ask_qty\")).alias(\"total_liquidity\"),\n",
    "        ((pl.col(\"bid_qty\") - pl.col(\"ask_qty\")) / (pl.col(\"bid_qty\") + pl.col(\"ask_qty\") + 1e-8)).alias(\"liquidity_imbalance\"),\n",
    "        ((pl.col(\"ask_qty\") - pl.col(\"bid_qty\")) / (pl.col(\"volume\") + 1e-8)).alias(\"relative_spread\"),\n",
    "\n",
    "        # trade related features (size, intensity, flow)\n",
    "        ((pl.col(\"buy_qty\") + pl.col(\"sell_qty\")) / (pl.col(\"volume\") + 1e-8)).alias(\"trade_intensity\"),\n",
    "        (pl.col(\"volume\") / (pl.col(\"buy_qty\") + pl.col(\"sell_qty\") + 1e-8)).alias(\"avg_trade_size\"),\n",
    "        ((pl.col(\"buy_qty\") - pl.col(\"sell_qty\")) / (pl.col(\"buy_qty\") + pl.col(\"sell_qty\") + 1e-8)).alias(\"net_trade_flow\"),\n",
    "\n",
    "        # volume features in market + how market is working wrt to volume \n",
    "        ((pl.col(\"bid_qty\") + pl.col(\"ask_qty\")) / (pl.col(\"volume\") + 1e-8)).alias(\"depth_ratio\"),\n",
    "        ((pl.col(\"buy_qty\") + pl.col(\"sell_qty\")) / (pl.col(\"bid_qty\") + pl.col(\"ask_qty\") + 1e-8)).alias(\"volume_participation\"),\n",
    "        (pl.col(\"volume\") * (pl.col(\"bid_qty\") + pl.col(\"ask_qty\"))).alias(\"market_activity\"),\n",
    "\n",
    "        # spread proxy and realized vol proxy\n",
    "        ((pl.col(\"buy_qty\") - pl.col(\"sell_qty\")).abs() / (pl.col(\"volume\") + 1e-8)).alias(\"effective_spread_proxy\"),\n",
    "        (((pl.col(\"buy_qty\") - pl.col(\"sell_qty\")) / (pl.col(\"volume\") + 1e-8)) * pl.col(\"volume\")).alias(\"realized_volatility_proxy\"),\n",
    "\n",
    "        # normalized buy/sell volume\n",
    "        (pl.col(\"buy_qty\") / (pl.col(\"bid_qty\") + 1e-8)).alias(\"normalized_buy_volume\"),\n",
    "        (pl.col(\"sell_qty\") / (pl.col(\"ask_qty\") + 1e-8)).alias(\"normalized_sell_volume\"),\n",
    "\n",
    "        # imbalance and spread interaction\n",
    "        (((pl.col(\"buy_qty\") - pl.col(\"sell_qty\")) / (pl.col(\"volume\") + 1e-8)) * ((pl.col(\"bid_qty\") + pl.col(\"ask_qty\")) / (pl.col(\"volume\") + 1e-8))).alias(\"liquidity_adjusted_imbalance\"),\n",
    "        ((pl.col(\"buy_qty\") / (pl.col(\"volume\") + 1e-8)) * ((pl.col(\"ask_qty\") - pl.col(\"bid_qty\")) / (pl.col(\"ask_qty\") + pl.col(\"bid_qty\")) + 1e-8)).alias(\"pressure_spread_interaction\"),\n",
    "\n",
    "        # trade direction ratio, net buying volume, bid/ask skew\n",
    "        (pl.col(\"buy_qty\") / (pl.col(\"buy_qty\") + pl.col(\"sell_qty\") + 1e-8)).alias(\"trade_direction_ratio\"),\n",
    "        (pl.col(\"buy_qty\") - pl.col(\"sell_qty\")).alias(\"net_buy_volume\"),\n",
    "        (pl.col(\"bid_qty\") / (pl.col(\"bid_qty\") + pl.col(\"ask_qty\") + 1e-8)).alias(\"bid_skew\"),\n",
    "        (pl.col(\"ask_qty\") / (pl.col(\"bid_qty\") + pl.col(\"ask_qty\") + 1e-8)).alias(\"ask_skew\")\n",
    "    )\n",
    "\n",
    "    # # remove inf and fill nas with 0\n",
    "    # df = df.with_columns([\n",
    "    #     pl.when(pl.col(col).is_infinite())  # check if value is inf or -inf\n",
    "    #     .then(np.nan)                     # replace with NaN\n",
    "    #     .otherwise(pl.col(col))          # otherwise keep original\n",
    "    #     .alias(col)\n",
    "    #     for col in col_names\n",
    "    # ])\n",
    "\n",
    "    df = df.fill_nan(0).fill_null(0)\n",
    "\n",
    "    new_selected_variable_1 = deepcopy(temp1 + added_features)\n",
    "    new_selected_variable_2 = deepcopy(temp2 + added_features)\n",
    "    new_selected_variable_3 = deepcopy(temp3 + added_features)\n",
    "    new_selected_variable_5 = deepcopy(temp5 + added_features)\n",
    "    if \"timestamp\" in df.collect_schema().names():\n",
    "        new_selected_variable_1.append(\"timestamp\")\n",
    "        new_selected_variable_2.append(\"timestamp\")\n",
    "        new_selected_variable_3.append(\"timestamp\")\n",
    "        new_selected_variable_5.append(\"timestamp\")\n",
    "    if \"label\" in df.collect_schema().names():\n",
    "        new_selected_variable_1.append(\"label\")\n",
    "        new_selected_variable_2.append(\"label\")\n",
    "        new_selected_variable_3.append(\"label\")\n",
    "        new_selected_variable_5.append(\"label\")\n",
    "    cleaned_df_1 = df.select(new_selected_variable_1)\n",
    "    cleaned_df_2 = df.select(new_selected_variable_2)\n",
    "    cleaned_df_3 = df.select(new_selected_variable_3)\n",
    "    cleaned_df_5 = df.select(new_selected_variable_5)\n",
    "\n",
    "    # Make an extra df for time features\n",
    "    cleaned_df_4 = deepcopy(cleaned_df_2)\n",
    "    if \"timestamp\" in cleaned_df_4.schema.keys():\n",
    "        cleaned_df_4 = cleaned_df_4.with_columns(\n",
    "            (pl.col(\"timestamp\").dt.minute() / 60 * 2 * np.pi).sin().alias(\"sin_minute\"),\n",
    "            (pl.col(\"timestamp\").dt.hour() / 24 * 2 * np.pi).sin().alias(\"sin_hour\"),\n",
    "            (pl.col(\"timestamp\").dt.day() / 31 * 2 * np.pi).sin().alias(\"sin_day\"),\n",
    "            (pl.col(\"timestamp\").dt.month() / 12 * 2 * np.pi).sin().alias(\"sin_month\")\n",
    "        )\n",
    "\n",
    "    return cleaned_df_1, cleaned_df_2, cleaned_df_3, cleaned_df_4, cleaned_df_5"
   ]
  },
  {
   "cell_type": "code",
   "execution_count": 6,
   "id": "5e100952",
   "metadata": {},
   "outputs": [
    {
     "name": "stderr",
     "output_type": "stream",
     "text": [
      "/var/folders/5b/jn4p_4vx7j9gx2jdrmbjlxnr0000gn/T/ipykernel_7330/1064245969.py:115: PerformanceWarning: Resolving the schema of a LazyFrame is a potentially expensive operation. Use `LazyFrame.collect_schema()` to get the schema without this warning.\n",
      "  if \"timestamp\" in cleaned_df_4.schema.keys():\n"
     ]
    }
   ],
   "source": [
    "cleaned_train_df_1, cleaned_train_df_2, cleaned_train_df_3, cleaned_train_df_4, cleaned_train_df_5 = preprocessing(train_df)\n",
    "#cleaned_train_df_1.sink_parquet(\"data/cleaned/cleaned_train_1.parquet\")\n",
    "cleaned_train_df_2.sink_parquet(\"data/cleaned/cleaned_train_2.parquet\")\n",
    "#cleaned_train_df_3.sink_parquet(\"data/cleaned/cleaned_train_3.parquet\")\n",
    "#cleaned_train_df_4.sink_parquet(\"data/cleaned/cleaned_train_4.parquet\")\n",
    "cleaned_train_df_5.sink_parquet(\"data/cleaned/cleaned_train_5.parquet\")"
   ]
  },
  {
   "cell_type": "code",
   "execution_count": 7,
   "id": "9da6f2d1",
   "metadata": {},
   "outputs": [
    {
     "name": "stderr",
     "output_type": "stream",
     "text": [
      "/var/folders/5b/jn4p_4vx7j9gx2jdrmbjlxnr0000gn/T/ipykernel_7330/1064245969.py:115: PerformanceWarning: Resolving the schema of a LazyFrame is a potentially expensive operation. Use `LazyFrame.collect_schema()` to get the schema without this warning.\n",
      "  if \"timestamp\" in cleaned_df_4.schema.keys():\n"
     ]
    }
   ],
   "source": [
    "cleaned_test_df_1, cleaned_test_df_2, cleaned_test_df_3, cleaned_test_df_4, cleaned_test_df_5 = preprocessing(test_df)\n",
    "#cleaned_test_df_1.sink_parquet(\"data/cleaned/cleaned_test_1.parquet\")\n",
    "cleaned_test_df_2.sink_parquet(\"data/cleaned/cleaned_test_2.parquet\")\n",
    "#cleaned_test_df_3.sink_parquet(\"data/cleaned/cleaned_test_3.parquet\")\n",
    "#cleaned_test_df_4.sink_parquet(\"data/cleaned/cleaned_test_4.parquet\")\n",
    "cleaned_test_df_5.sink_parquet(\"data/cleaned/cleaned_test_5.parquet\")"
   ]
  },
  {
   "cell_type": "code",
   "execution_count": 8,
   "id": "5f120a09",
   "metadata": {},
   "outputs": [],
   "source": [
    "popular_features_train = train_df.select([\"volume\", \"bid_qty\", \"ask_qty\", \"buy_qty\", \"sell_qty\"])\n",
    "popular_features_train.sink_parquet(\"data/cleaned/popular_features_train.parquet\")"
   ]
  },
  {
   "cell_type": "code",
   "execution_count": 9,
   "id": "503c78c7",
   "metadata": {},
   "outputs": [],
   "source": [
    "popular_features_test = test_df.select([\"volume\", \"bid_qty\", \"ask_qty\", \"buy_qty\", \"sell_qty\"])\n",
    "popular_features_test.sink_parquet(\"data/cleaned/popular_features_test.parquet\")"
   ]
  }
 ],
 "metadata": {
  "kernelspec": {
   "display_name": "Python 3",
   "language": "python",
   "name": "python3"
  },
  "language_info": {
   "codemirror_mode": {
    "name": "ipython",
    "version": 3
   },
   "file_extension": ".py",
   "mimetype": "text/x-python",
   "name": "python",
   "nbconvert_exporter": "python",
   "pygments_lexer": "ipython3",
   "version": "3.9.6"
  }
 },
 "nbformat": 4,
 "nbformat_minor": 5
}
