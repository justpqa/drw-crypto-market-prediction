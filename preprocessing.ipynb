{
 "cells": [
  {
   "cell_type": "code",
   "execution_count": 1,
   "id": "d2619dd5",
   "metadata": {},
   "outputs": [],
   "source": [
    "from tqdm import tqdm\n",
    "from copy import deepcopy\n",
    "import pandas as pd\n",
    "import polars as pl\n",
    "import numpy as np\n",
    "import pickle"
   ]
  },
  {
   "cell_type": "code",
   "execution_count": null,
   "id": "8ae8c5d7",
   "metadata": {},
   "outputs": [],
   "source": [
    "train_df = pl.read_parquet(\n",
    "    \"data/raw/train.parquet\",\n",
    "    use_pyarrow=True,   \n",
    "    low_memory=True\n",
    ").lazy()"
   ]
  },
  {
   "cell_type": "code",
   "execution_count": null,
   "id": "46db06df",
   "metadata": {},
   "outputs": [],
   "source": [
    "test_df = pl.read_parquet(\n",
    "    \"data/raw/test.parquet\",\n",
    "    use_pyarrow=True,   \n",
    "    low_memory=True\n",
    ").lazy()"
   ]
  },
  {
   "cell_type": "code",
   "execution_count": null,
   "id": "f5efa887",
   "metadata": {},
   "outputs": [],
   "source": [
    "with open(\"features/best_pc1_contribution.pkl\", \"rb\") as f:\n",
    "    temp1 = pickle.load(f)\n",
    "with open(\"features/best_label_correlation.pkl\", \"rb\") as f:\n",
    "    temp2 = pickle.load(f)\n",
    "with open(\"features/best_overall.pkl\", \"rb\") as f:\n",
    "    temp3 = pickle.load(f)"
   ]
  },
  {
   "cell_type": "code",
   "execution_count": 5,
   "id": "11f900e5",
   "metadata": {},
   "outputs": [],
   "source": [
    "def preprocessing(df):\n",
    "    new_selected_variable_1 = deepcopy(temp1)\n",
    "    new_selected_variable_2 = deepcopy(temp2)\n",
    "    new_selected_variable_3 = deepcopy(temp3)\n",
    "    if \"timestamp\" in df.collect_schema().names():\n",
    "        new_selected_variable_1.append(\"timestamp\")\n",
    "        new_selected_variable_2.append(\"timestamp\")\n",
    "        new_selected_variable_3.append(\"timestamp\")\n",
    "    if \"label\" in df.collect_schema().names():\n",
    "        new_selected_variable_1.append(\"label\")\n",
    "        new_selected_variable_2.append(\"label\")\n",
    "        new_selected_variable_3.append(\"label\")\n",
    "    cleaned_df_1 = df.select(new_selected_variable_1)\n",
    "    cleaned_df_2 = df.select(new_selected_variable_2)\n",
    "    cleaned_df_3 = df.select(new_selected_variable_3)\n",
    "    return cleaned_df_1, cleaned_df_2, cleaned_df_3"
   ]
  },
  {
   "cell_type": "code",
   "execution_count": null,
   "id": "5e100952",
   "metadata": {},
   "outputs": [],
   "source": [
    "cleaned_train_df_1, cleaned_train_df_2, cleaned_train_df_3 = preprocessing(train_df)\n",
    "cleaned_train_df_1.sink_parquet(\"data/cleaned/cleaned_train_1.parquet\")\n",
    "cleaned_train_df_2.sink_parquet(\"data/cleaned/cleaned_train_2.parquet\")\n",
    "cleaned_train_df_3.sink_parquet(\"data/cleaned/cleaned_train_3.parquet\")"
   ]
  },
  {
   "cell_type": "code",
   "execution_count": null,
   "id": "9da6f2d1",
   "metadata": {},
   "outputs": [],
   "source": [
    "cleaned_test_df_1, cleaned_test_df_2, cleaned_test_df_3 = preprocessing(test_df)\n",
    "cleaned_test_df_1.sink_parquet(\"data/cleaned/cleaned_test_1.parquet\")\n",
    "cleaned_test_df_2.sink_parquet(\"data/cleaned/cleaned_test_2.parquet\")\n",
    "cleaned_test_df_3.sink_parquet(\"data/cleaned/cleaned_test_3.parquet\")"
   ]
  },
  {
   "cell_type": "code",
   "execution_count": null,
   "id": "5f120a09",
   "metadata": {},
   "outputs": [],
   "source": [
    "popular_features_train = train_df.select([\"volume\", \"bid_qty\", \"ask_qty\", \"buy_qty\", \"sell_qty\"])\n",
    "popular_features_train.sink_parquet(\"cleaned/popular_features_train.parquet\")"
   ]
  },
  {
   "cell_type": "code",
   "execution_count": null,
   "id": "503c78c7",
   "metadata": {},
   "outputs": [],
   "source": [
    "popular_features_test = test_df.select([\"volume\", \"bid_qty\", \"ask_qty\", \"buy_qty\", \"sell_qty\"])\n",
    "popular_features_test.sink_parquet(\"cleaned/popular_features_test.parquet\")"
   ]
  }
 ],
 "metadata": {
  "kernelspec": {
   "display_name": "Python 3",
   "language": "python",
   "name": "python3"
  },
  "language_info": {
   "codemirror_mode": {
    "name": "ipython",
    "version": 3
   },
   "file_extension": ".py",
   "mimetype": "text/x-python",
   "name": "python",
   "nbconvert_exporter": "python",
   "pygments_lexer": "ipython3",
   "version": "3.9.6"
  }
 },
 "nbformat": 4,
 "nbformat_minor": 5
}
