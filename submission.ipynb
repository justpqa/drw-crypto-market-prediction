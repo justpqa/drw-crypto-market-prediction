{
 "cells": [
  {
   "cell_type": "code",
   "execution_count": 1,
   "id": "158f9a68",
   "metadata": {},
   "outputs": [
    {
     "name": "stdout",
     "output_type": "stream",
     "text": [
      "Maximum n_jobs you can use: 12\n"
     ]
    },
    {
     "name": "stderr",
     "output_type": "stream",
     "text": [
      "/Users/justpqa/drw-crypto-market-prediction/venv/lib/python3.9/site-packages/tqdm/auto.py:21: TqdmWarning: IProgress not found. Please update jupyter and ipywidgets. See https://ipywidgets.readthedocs.io/en/stable/user_install.html\n",
      "  from .autonotebook import tqdm as notebook_tqdm\n"
     ]
    }
   ],
   "source": [
    "import numpy as np\n",
    "import pandas as pd\n",
    "import polars as pl\n",
    "from copy import deepcopy\n",
    "import matplotlib.pyplot as plt\n",
    "import seaborn as sns\n",
    "from xgboost import XGBRegressor\n",
    "from lightgbm import LGBMRegressor\n",
    "from catboost import CatBoostRegressor\n",
    "import optuna\n",
    "from optuna.samplers import RandomSampler\n",
    "import warnings\n",
    "warnings.filterwarnings(\"ignore\")\n",
    "import multiprocessing\n",
    "max_n_jobs = multiprocessing.cpu_count()\n",
    "print(f\"Maximum n_jobs you can use: {max_n_jobs}\")"
   ]
  },
  {
   "cell_type": "code",
   "execution_count": 2,
   "id": "779f7ca5",
   "metadata": {},
   "outputs": [],
   "source": [
    "feature_version = 2\n",
    "default_cv = 4\n",
    "# 1 for pc feature, \n",
    "# 2 for label correlation feature\n",
    "# 3 for best features based on combination rank"
   ]
  },
  {
   "cell_type": "markdown",
   "id": "94e7d631",
   "metadata": {},
   "source": [
    "Train the best model"
   ]
  },
  {
   "cell_type": "code",
   "execution_count": 3,
   "id": "498f9994",
   "metadata": {},
   "outputs": [],
   "source": [
    "popular_features_train = pd.read_parquet(\"data/cleaned/popular_features_train.parquet\")"
   ]
  },
  {
   "cell_type": "code",
   "execution_count": 4,
   "id": "8f985312",
   "metadata": {},
   "outputs": [],
   "source": [
    "train_df = pd.read_parquet(f\"data/cleaned/cleaned_train_{feature_version}.parquet\")\n",
    "train_df = pd.concat([train_df, popular_features_train], axis = 1)\n",
    "train_df[\"timestamp\"] = pd.to_datetime(train_df[\"timestamp\"])\n",
    "#train_df = train_df[train_df[\"timestamp\"].dt.month.isin([12, 1, 2])].reset_index().drop(\"index\", axis = 1)\n",
    "X_train = train_df.drop(columns=[\"timestamp\", \"label\"])\n",
    "Y_train = train_df[\"label\"]"
   ]
  },
  {
   "cell_type": "code",
   "execution_count": null,
   "id": "4a2aebf3",
   "metadata": {},
   "outputs": [],
   "source": [
    "best_features = ['X862', 'X598', 'X863', 'X856', 'X612', 'X466', 'X533', 'X861', 'X445', 'X531', \n",
    "                 'X385', 'X23', 'X284', 'X465', 'X331', 'X95', 'X285', 'X31', 'X169', 'X137', \n",
    "                 'X379', 'X186', 'X852', 'X302', 'X868', 'X89', 'X219', 'X855', 'X540', 'X301'] + \\\n",
    "                [\"volume\", \"bid_qty\", \"ask_qty\", \"buy_qty\", \"sell_qty\"] + \\\n",
    "                [col for col in train_df.columns.tolist() if \"X\" not in col and col not in [\"timestamp\", \"label\"]]\n",
    "best_features = list(set(best_features))\n",
    "X_train = X_train[best_features]"
   ]
  },
  {
   "cell_type": "code",
   "execution_count": 6,
   "id": "8633ca77",
   "metadata": {},
   "outputs": [],
   "source": [
    "default_n_trees = 1000\n",
    "default_random_state = 101"
   ]
  },
  {
   "cell_type": "code",
   "execution_count": 7,
   "id": "be9964c8",
   "metadata": {},
   "outputs": [],
   "source": [
    "def get_best_params_from_file(filename):\n",
    "    study = optuna.load_study(\n",
    "        study_name = filename,\n",
    "        storage = f\"sqlite:///{filename}.db\"\n",
    "    )\n",
    "    return study.best_params"
   ]
  },
  {
   "cell_type": "code",
   "execution_count": 8,
   "id": "7b295efc",
   "metadata": {},
   "outputs": [
    {
     "data": {
      "text/plain": [
       "[[3, 4, 5, 6, 7, 8, 9, 10, 11, 12, 1, 2],\n",
       " [3, 4, 5, 6, 7, 8],\n",
       " [9, 10, 11, 12, 1, 2],\n",
       " [3, 4, 5],\n",
       " [6, 7, 8],\n",
       " [9, 10, 11],\n",
       " [12, 1, 2]]"
      ]
     },
     "execution_count": 8,
     "metadata": {},
     "output_type": "execute_result"
    }
   ],
   "source": [
    "months = [3, 4, 5, 6, 7, 8, 9, 10, 11, 12, 1, 2]\n",
    "training_timeframe = [] \n",
    "for window_size in [12, 6, 3]:\n",
    "    for i in range(13 - window_size):\n",
    "        if i % window_size == 0:\n",
    "            training_timeframe.append(months[i: i + window_size])\n",
    "training_timeframe"
   ]
  },
  {
   "cell_type": "code",
   "execution_count": null,
   "id": "55a05045",
   "metadata": {},
   "outputs": [],
   "source": [
    "params = {\n",
    "    \"n_estimators\": default_n_trees,\n",
    "    \"verbosity\": 0,\n",
    "    \"enable_categorical\": True,\n",
    "    \"random_state\": default_random_state\n",
    "}\n",
    "best_params_xgboost = get_best_params_from_file(f\"xgboost_{feature_version}_{default_cv}_{default_random_state}_{default_n_trees}_common_truncated_study\")\n",
    "for p in best_params_xgboost:\n",
    "    params[p] = best_params_xgboost[p]\n",
    "\n",
    "xgbr_arr = []\n",
    "\n",
    "for i in range(len(training_timeframe)):\n",
    "    temp = deepcopy(train_df)\n",
    "    temp = temp[temp[\"timestamp\"].dt.month.isin(training_timeframe[i])].reset_index().drop(\"index\", axis = 1)\n",
    "    X_train = temp.drop(columns=[\"timestamp\", \"label\"])\n",
    "    Y_train = temp[\"label\"]\n",
    "    xgbr = XGBRegressor(**params)\n",
    "    xgbr.fit(X_train, Y_train)\n",
    "    xgbr_arr.append(xgbr)"
   ]
  },
  {
   "cell_type": "code",
   "execution_count": null,
   "id": "28b14c8f",
   "metadata": {},
   "outputs": [],
   "source": [
    "params = {\n",
    "    \"n_estimators\": default_n_trees,\n",
    "    \"verbosity\": -1,\n",
    "    \"random_state\": default_random_state,\n",
    "}\n",
    "best_params_lightgbm = get_best_params_from_file(f\"lightgbm_{feature_version}_{default_cv}_{default_random_state}_{default_n_trees}_common_truncated_study\")\n",
    "for p in best_params_lightgbm:\n",
    "    params[p] = best_params_lightgbm[p]\n",
    "\n",
    "lgbr_arr = []\n",
    "\n",
    "for i in range(len(training_timeframe)):\n",
    "    temp = deepcopy(train_df)\n",
    "    temp = temp[temp[\"timestamp\"].dt.month.isin(training_timeframe[i])].reset_index().drop(\"index\", axis = 1)\n",
    "    X_train = temp.drop(columns=[\"timestamp\", \"label\"])\n",
    "    Y_train = temp[\"label\"]\n",
    "    lgbr = LGBMRegressor(**params)\n",
    "    lgbr.fit(X_train, Y_train)\n",
    "    lgbr_arr.append(lgbr)"
   ]
  },
  {
   "cell_type": "code",
   "execution_count": 11,
   "id": "dcc7eacf",
   "metadata": {},
   "outputs": [],
   "source": [
    "# params = {\n",
    "#     \"iterations\": default_n_trees,\n",
    "#     \"verbose\": False,\n",
    "#     \"random_seed\": default_random_state\n",
    "# }\n",
    "# best_params_catboost = get_best_params_from_file(f\"catboost_{feature_version}_{default_cv}_{default_random_state}_{default_n_trees}_common_truncated_study\")\n",
    "# for p in best_params_catboost:\n",
    "#     params[p] = best_params_catboost[p]\n",
    "\n",
    "# catboost_feature_importances = {}\n",
    "\n",
    "# cbr = CatBoostRegressor(**params)\n",
    "# cbr.fit(X_train, Y_train)"
   ]
  },
  {
   "cell_type": "markdown",
   "id": "ad9630cb",
   "metadata": {},
   "source": [
    "Making prediction & submission"
   ]
  },
  {
   "cell_type": "code",
   "execution_count": 12,
   "id": "cb8ee22b",
   "metadata": {},
   "outputs": [],
   "source": [
    "popular_features_test = pd.read_parquet(\"data/cleaned/popular_features_test.parquet\")"
   ]
  },
  {
   "cell_type": "code",
   "execution_count": 13,
   "id": "096457bb",
   "metadata": {},
   "outputs": [],
   "source": [
    "X_test = pd.read_parquet(f\"data/cleaned/cleaned_test_{feature_version}.parquet\")\n",
    "X_test = pd.concat([X_test, popular_features_test], axis = 1)\n",
    "X_test = X_test.drop(columns=[\"label\"])\n",
    "# X_test = X_test[best_features]\n",
    "Y_pred = np.zeros(X_test.shape[0])\n",
    "for i in range(len(training_timeframe)):\n",
    "    Y_pred += 1/2 * (xgbr_arr[i].predict(X_test) + lgbr_arr[i].predict(X_test))\n",
    "Y_pred /= len(training_timeframe)"
   ]
  },
  {
   "cell_type": "code",
   "execution_count": 14,
   "id": "79a13fa4",
   "metadata": {},
   "outputs": [
    {
     "data": {
      "text/html": [
       "<div>\n",
       "<style scoped>\n",
       "    .dataframe tbody tr th:only-of-type {\n",
       "        vertical-align: middle;\n",
       "    }\n",
       "\n",
       "    .dataframe tbody tr th {\n",
       "        vertical-align: top;\n",
       "    }\n",
       "\n",
       "    .dataframe thead th {\n",
       "        text-align: right;\n",
       "    }\n",
       "</style>\n",
       "<table border=\"1\" class=\"dataframe\">\n",
       "  <thead>\n",
       "    <tr style=\"text-align: right;\">\n",
       "      <th></th>\n",
       "      <th>id</th>\n",
       "      <th>prediction</th>\n",
       "    </tr>\n",
       "  </thead>\n",
       "  <tbody>\n",
       "    <tr>\n",
       "      <th>0</th>\n",
       "      <td>1</td>\n",
       "      <td>-0.282272</td>\n",
       "    </tr>\n",
       "    <tr>\n",
       "      <th>1</th>\n",
       "      <td>2</td>\n",
       "      <td>-0.083539</td>\n",
       "    </tr>\n",
       "    <tr>\n",
       "      <th>2</th>\n",
       "      <td>3</td>\n",
       "      <td>-0.119298</td>\n",
       "    </tr>\n",
       "    <tr>\n",
       "      <th>3</th>\n",
       "      <td>4</td>\n",
       "      <td>-0.645113</td>\n",
       "    </tr>\n",
       "    <tr>\n",
       "      <th>4</th>\n",
       "      <td>5</td>\n",
       "      <td>0.126825</td>\n",
       "    </tr>\n",
       "  </tbody>\n",
       "</table>\n",
       "</div>"
      ],
      "text/plain": [
       "   id  prediction\n",
       "0   1   -0.282272\n",
       "1   2   -0.083539\n",
       "2   3   -0.119298\n",
       "3   4   -0.645113\n",
       "4   5    0.126825"
      ]
     },
     "execution_count": 14,
     "metadata": {},
     "output_type": "execute_result"
    }
   ],
   "source": [
    "submission = pd.DataFrame({\n",
    "    \"id\": X_test.index + 1,\n",
    "    \"prediction\": Y_pred\n",
    "})\n",
    "submission.head()"
   ]
  },
  {
   "cell_type": "code",
   "execution_count": 15,
   "id": "918e06d3",
   "metadata": {},
   "outputs": [],
   "source": [
    "submission.to_csv('submission.csv', index=False)"
   ]
  }
 ],
 "metadata": {
  "kernelspec": {
   "display_name": "venv",
   "language": "python",
   "name": "python3"
  },
  "language_info": {
   "codemirror_mode": {
    "name": "ipython",
    "version": 3
   },
   "file_extension": ".py",
   "mimetype": "text/x-python",
   "name": "python",
   "nbconvert_exporter": "python",
   "pygments_lexer": "ipython3",
   "version": "3.9.6"
  }
 },
 "nbformat": 4,
 "nbformat_minor": 5
}
