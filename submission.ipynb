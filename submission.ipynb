{
 "cells": [
  {
   "cell_type": "code",
   "execution_count": null,
   "id": "158f9a68",
   "metadata": {},
   "outputs": [],
   "source": [
    "import numpy as np\n",
    "import pandas as pd\n",
    "import polars as pl\n",
    "import matplotlib.pyplot as plt\n",
    "import seaborn as sns\n",
    "from xgboost import XGBRegressor\n",
    "from lightgbm import LGBMRegressor\n",
    "from catboost import CatBoostRegressor\n",
    "import optuna\n",
    "from optuna.samplers import RandomSampler\n",
    "import warnings\n",
    "warnings.filterwarnings(\"ignore\")\n",
    "import multiprocessing\n",
    "max_n_jobs = multiprocessing.cpu_count()\n",
    "print(f\"Maximum n_jobs you can use: {max_n_jobs}\")"
   ]
  },
  {
   "cell_type": "code",
   "execution_count": null,
   "id": "779f7ca5",
   "metadata": {},
   "outputs": [],
   "source": [
    "feature_version = 2\n",
    "default_cv = 1\n",
    "# 1 for pc feature, \n",
    "# 2 for label correlation feature\n",
    "# 3 for best features based on combination rank"
   ]
  },
  {
   "cell_type": "markdown",
   "id": "94e7d631",
   "metadata": {},
   "source": [
    "Train the best model"
   ]
  },
  {
   "cell_type": "code",
   "execution_count": null,
   "id": "8f985312",
   "metadata": {},
   "outputs": [],
   "source": [
    "train_df = pd.read_parquet(f\"data/cleaned/cleaned_train_{feature_version}.parquet\")\n",
    "train_df[\"timestamp\"] = pd.to_datetime(train_df[\"timestamp\"])\n",
    "train_df = train_df[train_df[\"timestamp\"].dt.month.isin([1, 2, 12, 11, 10, 9])]\n",
    "X_train = train_df.drop(columns=[\"timestamp\", \"label\"])\n",
    "Y_train = train_df[\"label\"]"
   ]
  },
  {
   "cell_type": "code",
   "execution_count": null,
   "id": "8633ca77",
   "metadata": {},
   "outputs": [],
   "source": [
    "default_n_trees = 1000\n",
    "default_random_state = 101"
   ]
  },
  {
   "cell_type": "code",
   "execution_count": null,
   "id": "be9964c8",
   "metadata": {},
   "outputs": [],
   "source": [
    "def get_best_params_from_file(filename):\n",
    "    study = optuna.load_study(\n",
    "        study_name = filename,\n",
    "        storage = f\"sqlite:///{filename}.db\"\n",
    "    )\n",
    "    return study.best_params"
   ]
  },
  {
   "cell_type": "code",
   "execution_count": null,
   "id": "55a05045",
   "metadata": {},
   "outputs": [],
   "source": [
    "params = {\n",
    "    \"n_estimators\": default_n_trees,\n",
    "    \"verbosity\": 0,\n",
    "    \"enable_categorical\": True,\n",
    "    \"random_state\": default_random_state\n",
    "}\n",
    "best_params_xgboost = get_best_params_from_file(f\"xgboost_{feature_version}_{default_cv}_{default_random_state}_{default_n_trees}_study\")\n",
    "for p in best_params_xgboost:\n",
    "    params[p] = best_params_xgboost[p]\n",
    "\n",
    "xgbr = XGBRegressor(**params)\n",
    "xgbr.fit(X_train, Y_train)"
   ]
  },
  {
   "cell_type": "code",
   "execution_count": null,
   "id": "28b14c8f",
   "metadata": {},
   "outputs": [],
   "source": [
    "# params = {\n",
    "#     \"n_estimators\": default_n_trees,\n",
    "#     \"verbosity\": -1,\n",
    "#     \"random_state\": default_random_state\n",
    "# }\n",
    "# best_params_lightgbm = get_best_params_from_file(f\"lightgbm_{feature_version}_{default_cv}_{default_random_state}_{default_n_trees}_study\")\n",
    "# for p in best_params_lightgbm:\n",
    "#     params[p] = best_params_lightgbm[p]\n",
    "\n",
    "# lgbr = LGBMRegressor(**params)\n",
    "# lgbr.fit(X_train, Y_train)"
   ]
  },
  {
   "cell_type": "markdown",
   "id": "ad9630cb",
   "metadata": {},
   "source": [
    "Making prediction & submission"
   ]
  },
  {
   "cell_type": "code",
   "execution_count": null,
   "id": "096457bb",
   "metadata": {},
   "outputs": [],
   "source": [
    "X_test = pd.read_parquet(f\"data/cleaned/cleaned_test_{feature_version}.parquet\")\n",
    "X_test = X_test.drop(columns=[\"label\"])\n",
    "Y_pred = xgbr.predict(X_test)"
   ]
  },
  {
   "cell_type": "code",
   "execution_count": null,
   "id": "79a13fa4",
   "metadata": {},
   "outputs": [],
   "source": [
    "submission = pd.DataFrame({\n",
    "    \"id\": X_test.index + 1,\n",
    "    \"prediction\": Y_pred\n",
    "})\n",
    "submission.head()"
   ]
  },
  {
   "cell_type": "code",
   "execution_count": null,
   "id": "918e06d3",
   "metadata": {},
   "outputs": [],
   "source": [
    "submission.to_csv('submission.csv', index=False)"
   ]
  }
 ],
 "metadata": {
  "kernelspec": {
   "display_name": "Python 3",
   "language": "python",
   "name": "python3"
  },
  "language_info": {
   "codemirror_mode": {
    "name": "ipython",
    "version": 3
   },
   "file_extension": ".py",
   "mimetype": "text/x-python",
   "name": "python",
   "nbconvert_exporter": "python",
   "pygments_lexer": "ipython3",
   "version": "3.9.6"
  }
 },
 "nbformat": 4,
 "nbformat_minor": 5
}
